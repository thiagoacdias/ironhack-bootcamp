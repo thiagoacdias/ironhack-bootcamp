{
 "cells": [
  {
   "cell_type": "markdown",
   "metadata": {},
   "source": [
    "# Importing relevant packages for the drill"
   ]
  },
  {
   "cell_type": "code",
   "execution_count": 551,
   "metadata": {
    "ExecuteTime": {
     "end_time": "2020-09-01T19:58:20.747003Z",
     "start_time": "2020-09-01T19:58:20.740057Z"
    }
   },
   "outputs": [],
   "source": [
    "# Importing relevant packages\n",
    "import pandas as pd\n",
    "import numpy as np\n",
    "import re\n",
    "import pycountry\n",
    "import matplotlib.pyplot as plt\n",
    "import datetime as dt\n",
    "import matplotlib.ticker as mtick\n",
    "\n",
    "from scipy.stats import ttest_ind\n",
    "from pandas_profiling import ProfileReport"
   ]
  },
  {
   "cell_type": "markdown",
   "metadata": {},
   "source": [
    "# Reading CSV file and perfoming preliminary assessment"
   ]
  },
  {
   "cell_type": "code",
   "execution_count": 124,
   "metadata": {
    "ExecuteTime": {
     "end_time": "2020-09-01T15:11:01.254684Z",
     "start_time": "2020-09-01T15:11:01.042732Z"
    }
   },
   "outputs": [],
   "source": [
    "# Getting csv file\n",
    "df = pd.read_csv('data/attacks.csv', encoding = \"ISO-8859-1\")\n",
    "df_bkp = df.copy()\n",
    "\n"
   ]
  },
  {
   "cell_type": "code",
   "execution_count": 125,
   "metadata": {
    "ExecuteTime": {
     "end_time": "2020-09-01T15:11:01.315517Z",
     "start_time": "2020-09-01T15:11:01.263657Z"
    }
   },
   "outputs": [
    {
     "data": {
      "text/html": [
       "<div>\n",
       "<style scoped>\n",
       "    .dataframe tbody tr th:only-of-type {\n",
       "        vertical-align: middle;\n",
       "    }\n",
       "\n",
       "    .dataframe tbody tr th {\n",
       "        vertical-align: top;\n",
       "    }\n",
       "\n",
       "    .dataframe thead th {\n",
       "        text-align: right;\n",
       "    }\n",
       "</style>\n",
       "<table border=\"1\" class=\"dataframe\">\n",
       "  <thead>\n",
       "    <tr style=\"text-align: right;\">\n",
       "      <th></th>\n",
       "      <th>Case Number</th>\n",
       "      <th>Date</th>\n",
       "      <th>Year</th>\n",
       "      <th>Type</th>\n",
       "      <th>Country</th>\n",
       "      <th>Area</th>\n",
       "      <th>Location</th>\n",
       "      <th>Activity</th>\n",
       "      <th>Name</th>\n",
       "      <th>Sex</th>\n",
       "      <th>...</th>\n",
       "      <th>Species</th>\n",
       "      <th>Investigator or Source</th>\n",
       "      <th>pdf</th>\n",
       "      <th>href formula</th>\n",
       "      <th>href</th>\n",
       "      <th>Case Number.1</th>\n",
       "      <th>Case Number.2</th>\n",
       "      <th>original order</th>\n",
       "      <th>Unnamed: 22</th>\n",
       "      <th>Unnamed: 23</th>\n",
       "    </tr>\n",
       "  </thead>\n",
       "  <tbody>\n",
       "    <tr>\n",
       "      <th>0</th>\n",
       "      <td>2018.06.25</td>\n",
       "      <td>25-Jun-2018</td>\n",
       "      <td>2018.0</td>\n",
       "      <td>Boating</td>\n",
       "      <td>USA</td>\n",
       "      <td>California</td>\n",
       "      <td>Oceanside, San Diego County</td>\n",
       "      <td>Paddling</td>\n",
       "      <td>Julie Wolfe</td>\n",
       "      <td>F</td>\n",
       "      <td>...</td>\n",
       "      <td>White shark</td>\n",
       "      <td>R. Collier, GSAF</td>\n",
       "      <td>2018.06.25-Wolfe.pdf</td>\n",
       "      <td>http://sharkattackfile.net/spreadsheets/pdf_di...</td>\n",
       "      <td>http://sharkattackfile.net/spreadsheets/pdf_di...</td>\n",
       "      <td>2018.06.25</td>\n",
       "      <td>2018.06.25</td>\n",
       "      <td>6303.0</td>\n",
       "      <td>NaN</td>\n",
       "      <td>NaN</td>\n",
       "    </tr>\n",
       "    <tr>\n",
       "      <th>1</th>\n",
       "      <td>2018.06.18</td>\n",
       "      <td>18-Jun-2018</td>\n",
       "      <td>2018.0</td>\n",
       "      <td>Unprovoked</td>\n",
       "      <td>USA</td>\n",
       "      <td>Georgia</td>\n",
       "      <td>St. Simon Island, Glynn County</td>\n",
       "      <td>Standing</td>\n",
       "      <td>Adyson McNeely</td>\n",
       "      <td>F</td>\n",
       "      <td>...</td>\n",
       "      <td>NaN</td>\n",
       "      <td>K.McMurray, TrackingSharks.com</td>\n",
       "      <td>2018.06.18-McNeely.pdf</td>\n",
       "      <td>http://sharkattackfile.net/spreadsheets/pdf_di...</td>\n",
       "      <td>http://sharkattackfile.net/spreadsheets/pdf_di...</td>\n",
       "      <td>2018.06.18</td>\n",
       "      <td>2018.06.18</td>\n",
       "      <td>6302.0</td>\n",
       "      <td>NaN</td>\n",
       "      <td>NaN</td>\n",
       "    </tr>\n",
       "    <tr>\n",
       "      <th>2</th>\n",
       "      <td>2018.06.09</td>\n",
       "      <td>09-Jun-2018</td>\n",
       "      <td>2018.0</td>\n",
       "      <td>Invalid</td>\n",
       "      <td>USA</td>\n",
       "      <td>Hawaii</td>\n",
       "      <td>Habush, Oahu</td>\n",
       "      <td>Surfing</td>\n",
       "      <td>John Denges</td>\n",
       "      <td>M</td>\n",
       "      <td>...</td>\n",
       "      <td>NaN</td>\n",
       "      <td>K.McMurray, TrackingSharks.com</td>\n",
       "      <td>2018.06.09-Denges.pdf</td>\n",
       "      <td>http://sharkattackfile.net/spreadsheets/pdf_di...</td>\n",
       "      <td>http://sharkattackfile.net/spreadsheets/pdf_di...</td>\n",
       "      <td>2018.06.09</td>\n",
       "      <td>2018.06.09</td>\n",
       "      <td>6301.0</td>\n",
       "      <td>NaN</td>\n",
       "      <td>NaN</td>\n",
       "    </tr>\n",
       "    <tr>\n",
       "      <th>3</th>\n",
       "      <td>2018.06.08</td>\n",
       "      <td>08-Jun-2018</td>\n",
       "      <td>2018.0</td>\n",
       "      <td>Unprovoked</td>\n",
       "      <td>AUSTRALIA</td>\n",
       "      <td>New South Wales</td>\n",
       "      <td>Arrawarra Headland</td>\n",
       "      <td>Surfing</td>\n",
       "      <td>male</td>\n",
       "      <td>M</td>\n",
       "      <td>...</td>\n",
       "      <td>2 m shark</td>\n",
       "      <td>B. Myatt, GSAF</td>\n",
       "      <td>2018.06.08-Arrawarra.pdf</td>\n",
       "      <td>http://sharkattackfile.net/spreadsheets/pdf_di...</td>\n",
       "      <td>http://sharkattackfile.net/spreadsheets/pdf_di...</td>\n",
       "      <td>2018.06.08</td>\n",
       "      <td>2018.06.08</td>\n",
       "      <td>6300.0</td>\n",
       "      <td>NaN</td>\n",
       "      <td>NaN</td>\n",
       "    </tr>\n",
       "    <tr>\n",
       "      <th>4</th>\n",
       "      <td>2018.06.04</td>\n",
       "      <td>04-Jun-2018</td>\n",
       "      <td>2018.0</td>\n",
       "      <td>Provoked</td>\n",
       "      <td>MEXICO</td>\n",
       "      <td>Colima</td>\n",
       "      <td>La Ticla</td>\n",
       "      <td>Free diving</td>\n",
       "      <td>Gustavo Ramos</td>\n",
       "      <td>M</td>\n",
       "      <td>...</td>\n",
       "      <td>Tiger shark, 3m</td>\n",
       "      <td>A .Kipper</td>\n",
       "      <td>2018.06.04-Ramos.pdf</td>\n",
       "      <td>http://sharkattackfile.net/spreadsheets/pdf_di...</td>\n",
       "      <td>http://sharkattackfile.net/spreadsheets/pdf_di...</td>\n",
       "      <td>2018.06.04</td>\n",
       "      <td>2018.06.04</td>\n",
       "      <td>6299.0</td>\n",
       "      <td>NaN</td>\n",
       "      <td>NaN</td>\n",
       "    </tr>\n",
       "    <tr>\n",
       "      <th>5</th>\n",
       "      <td>2018.06.03.b</td>\n",
       "      <td>03-Jun-2018</td>\n",
       "      <td>2018.0</td>\n",
       "      <td>Unprovoked</td>\n",
       "      <td>AUSTRALIA</td>\n",
       "      <td>New South Wales</td>\n",
       "      <td>Flat Rock, Ballina</td>\n",
       "      <td>Kite surfing</td>\n",
       "      <td>Chris</td>\n",
       "      <td>M</td>\n",
       "      <td>...</td>\n",
       "      <td>NaN</td>\n",
       "      <td>Daily Telegraph, 6/4/2018</td>\n",
       "      <td>2018.06.03.b-FlatRock.pdf</td>\n",
       "      <td>http://sharkattackfile.net/spreadsheets/pdf_di...</td>\n",
       "      <td>http://sharkattackfile.net/spreadsheets/pdf_di...</td>\n",
       "      <td>2018.06.03.b</td>\n",
       "      <td>2018.06.03.b</td>\n",
       "      <td>6298.0</td>\n",
       "      <td>NaN</td>\n",
       "      <td>NaN</td>\n",
       "    </tr>\n",
       "    <tr>\n",
       "      <th>6</th>\n",
       "      <td>2018.06.03.a</td>\n",
       "      <td>03-Jun-2018</td>\n",
       "      <td>2018.0</td>\n",
       "      <td>Unprovoked</td>\n",
       "      <td>BRAZIL</td>\n",
       "      <td>Pernambuco</td>\n",
       "      <td>Piedade Beach, Recife</td>\n",
       "      <td>Swimming</td>\n",
       "      <td>Jose Ernesto da Silva</td>\n",
       "      <td>M</td>\n",
       "      <td>...</td>\n",
       "      <td>Tiger shark</td>\n",
       "      <td>Diario de Pernambuco, 6/4/2018</td>\n",
       "      <td>2018.06.03.a-daSilva.pdf</td>\n",
       "      <td>http://sharkattackfile.net/spreadsheets/pdf_di...</td>\n",
       "      <td>http://sharkattackfile.net/spreadsheets/pdf_di...</td>\n",
       "      <td>2018.06.03.a</td>\n",
       "      <td>2018.06.03.a</td>\n",
       "      <td>6297.0</td>\n",
       "      <td>NaN</td>\n",
       "      <td>NaN</td>\n",
       "    </tr>\n",
       "    <tr>\n",
       "      <th>7</th>\n",
       "      <td>2018.05.27</td>\n",
       "      <td>27-May-2018</td>\n",
       "      <td>2018.0</td>\n",
       "      <td>Unprovoked</td>\n",
       "      <td>USA</td>\n",
       "      <td>Florida</td>\n",
       "      <td>Lighhouse Point Park, Ponce Inlet, Volusia County</td>\n",
       "      <td>Fishing</td>\n",
       "      <td>male</td>\n",
       "      <td>M</td>\n",
       "      <td>...</td>\n",
       "      <td>Lemon shark, 3'</td>\n",
       "      <td>K. McMurray, TrackingSharks.com</td>\n",
       "      <td>2018.05.27-Ponce.pdf</td>\n",
       "      <td>http://sharkattackfile.net/spreadsheets/pdf_di...</td>\n",
       "      <td>http://sharkattackfile.net/spreadsheets/pdf_di...</td>\n",
       "      <td>2018.05.27</td>\n",
       "      <td>2018.05.27</td>\n",
       "      <td>6296.0</td>\n",
       "      <td>NaN</td>\n",
       "      <td>NaN</td>\n",
       "    </tr>\n",
       "    <tr>\n",
       "      <th>8</th>\n",
       "      <td>2018.05.26.b</td>\n",
       "      <td>26-May-2018</td>\n",
       "      <td>2018.0</td>\n",
       "      <td>Unprovoked</td>\n",
       "      <td>USA</td>\n",
       "      <td>Florida</td>\n",
       "      <td>Cocoa Beach, Brevard  County</td>\n",
       "      <td>Walking</td>\n",
       "      <td>Cody High</td>\n",
       "      <td>M</td>\n",
       "      <td>...</td>\n",
       "      <td>Bull shark, 6'</td>\n",
       "      <td>K.McMurray, TrackingSharks.com</td>\n",
       "      <td>2018.05.26.b-High.pdf</td>\n",
       "      <td>http://sharkattackfile.net/spreadsheets/pdf_di...</td>\n",
       "      <td>http://sharkattackfile.net/spreadsheets/pdf_di...</td>\n",
       "      <td>2018.05.26.b</td>\n",
       "      <td>2018.05.26.b</td>\n",
       "      <td>6295.0</td>\n",
       "      <td>NaN</td>\n",
       "      <td>NaN</td>\n",
       "    </tr>\n",
       "    <tr>\n",
       "      <th>9</th>\n",
       "      <td>2018.05.26.a</td>\n",
       "      <td>26-May-2018</td>\n",
       "      <td>2018.0</td>\n",
       "      <td>Unprovoked</td>\n",
       "      <td>USA</td>\n",
       "      <td>Florida</td>\n",
       "      <td>Daytona Beach, Volusia County</td>\n",
       "      <td>Standing</td>\n",
       "      <td>male</td>\n",
       "      <td>M</td>\n",
       "      <td>...</td>\n",
       "      <td>NaN</td>\n",
       "      <td>K. McMurray, Tracking Sharks.com</td>\n",
       "      <td>2018.05.26.a-DaytonaBeach.pdf</td>\n",
       "      <td>http://sharkattackfile.net/spreadsheets/pdf_di...</td>\n",
       "      <td>http://sharkattackfile.net/spreadsheets/pdf_di...</td>\n",
       "      <td>2018.05.26.a</td>\n",
       "      <td>2018.05.26.a</td>\n",
       "      <td>6294.0</td>\n",
       "      <td>NaN</td>\n",
       "      <td>NaN</td>\n",
       "    </tr>\n",
       "  </tbody>\n",
       "</table>\n",
       "<p>10 rows × 24 columns</p>\n",
       "</div>"
      ],
      "text/plain": [
       "    Case Number         Date    Year        Type    Country             Area  \\\n",
       "0    2018.06.25  25-Jun-2018  2018.0     Boating        USA       California   \n",
       "1    2018.06.18  18-Jun-2018  2018.0  Unprovoked        USA          Georgia   \n",
       "2    2018.06.09  09-Jun-2018  2018.0     Invalid        USA           Hawaii   \n",
       "3    2018.06.08  08-Jun-2018  2018.0  Unprovoked  AUSTRALIA  New South Wales   \n",
       "4    2018.06.04  04-Jun-2018  2018.0    Provoked     MEXICO           Colima   \n",
       "5  2018.06.03.b  03-Jun-2018  2018.0  Unprovoked  AUSTRALIA  New South Wales   \n",
       "6  2018.06.03.a  03-Jun-2018  2018.0  Unprovoked     BRAZIL       Pernambuco   \n",
       "7    2018.05.27  27-May-2018  2018.0  Unprovoked        USA          Florida   \n",
       "8  2018.05.26.b  26-May-2018  2018.0  Unprovoked        USA          Florida   \n",
       "9  2018.05.26.a  26-May-2018  2018.0  Unprovoked        USA          Florida   \n",
       "\n",
       "                                            Location      Activity  \\\n",
       "0                        Oceanside, San Diego County      Paddling   \n",
       "1                     St. Simon Island, Glynn County      Standing   \n",
       "2                                       Habush, Oahu       Surfing   \n",
       "3                                 Arrawarra Headland       Surfing   \n",
       "4                                           La Ticla   Free diving   \n",
       "5                                 Flat Rock, Ballina  Kite surfing   \n",
       "6                              Piedade Beach, Recife      Swimming   \n",
       "7  Lighhouse Point Park, Ponce Inlet, Volusia County       Fishing   \n",
       "8                       Cocoa Beach, Brevard  County       Walking   \n",
       "9                      Daytona Beach, Volusia County      Standing   \n",
       "\n",
       "                     Name Sex   ...         Species   \\\n",
       "0             Julie Wolfe    F  ...      White shark   \n",
       "1         Adyson McNeely     F  ...              NaN   \n",
       "2             John Denges    M  ...              NaN   \n",
       "3                    male    M  ...        2 m shark   \n",
       "4          Gustavo Ramos     M  ...  Tiger shark, 3m   \n",
       "5                 Chris \n",
       "    M  ...              NaN   \n",
       "6  Jose Ernesto da Silva     M  ...      Tiger shark   \n",
       "7                    male    M  ...  Lemon shark, 3'   \n",
       "8               Cody High    M  ...   Bull shark, 6'   \n",
       "9                    male    M  ...              NaN   \n",
       "\n",
       "             Investigator or Source                            pdf  \\\n",
       "0                  R. Collier, GSAF           2018.06.25-Wolfe.pdf   \n",
       "1    K.McMurray, TrackingSharks.com         2018.06.18-McNeely.pdf   \n",
       "2    K.McMurray, TrackingSharks.com          2018.06.09-Denges.pdf   \n",
       "3                    B. Myatt, GSAF       2018.06.08-Arrawarra.pdf   \n",
       "4                         A .Kipper           2018.06.04-Ramos.pdf   \n",
       "5         Daily Telegraph, 6/4/2018      2018.06.03.b-FlatRock.pdf   \n",
       "6    Diario de Pernambuco, 6/4/2018       2018.06.03.a-daSilva.pdf   \n",
       "7   K. McMurray, TrackingSharks.com           2018.05.27-Ponce.pdf   \n",
       "8    K.McMurray, TrackingSharks.com          2018.05.26.b-High.pdf   \n",
       "9  K. McMurray, Tracking Sharks.com  2018.05.26.a-DaytonaBeach.pdf   \n",
       "\n",
       "                                        href formula  \\\n",
       "0  http://sharkattackfile.net/spreadsheets/pdf_di...   \n",
       "1  http://sharkattackfile.net/spreadsheets/pdf_di...   \n",
       "2  http://sharkattackfile.net/spreadsheets/pdf_di...   \n",
       "3  http://sharkattackfile.net/spreadsheets/pdf_di...   \n",
       "4  http://sharkattackfile.net/spreadsheets/pdf_di...   \n",
       "5  http://sharkattackfile.net/spreadsheets/pdf_di...   \n",
       "6  http://sharkattackfile.net/spreadsheets/pdf_di...   \n",
       "7  http://sharkattackfile.net/spreadsheets/pdf_di...   \n",
       "8  http://sharkattackfile.net/spreadsheets/pdf_di...   \n",
       "9  http://sharkattackfile.net/spreadsheets/pdf_di...   \n",
       "\n",
       "                                                href Case Number.1  \\\n",
       "0  http://sharkattackfile.net/spreadsheets/pdf_di...    2018.06.25   \n",
       "1  http://sharkattackfile.net/spreadsheets/pdf_di...    2018.06.18   \n",
       "2  http://sharkattackfile.net/spreadsheets/pdf_di...    2018.06.09   \n",
       "3  http://sharkattackfile.net/spreadsheets/pdf_di...    2018.06.08   \n",
       "4  http://sharkattackfile.net/spreadsheets/pdf_di...    2018.06.04   \n",
       "5  http://sharkattackfile.net/spreadsheets/pdf_di...  2018.06.03.b   \n",
       "6  http://sharkattackfile.net/spreadsheets/pdf_di...  2018.06.03.a   \n",
       "7  http://sharkattackfile.net/spreadsheets/pdf_di...    2018.05.27   \n",
       "8  http://sharkattackfile.net/spreadsheets/pdf_di...  2018.05.26.b   \n",
       "9  http://sharkattackfile.net/spreadsheets/pdf_di...  2018.05.26.a   \n",
       "\n",
       "  Case Number.2 original order Unnamed: 22 Unnamed: 23  \n",
       "0    2018.06.25         6303.0         NaN         NaN  \n",
       "1    2018.06.18         6302.0         NaN         NaN  \n",
       "2    2018.06.09         6301.0         NaN         NaN  \n",
       "3    2018.06.08         6300.0         NaN         NaN  \n",
       "4    2018.06.04         6299.0         NaN         NaN  \n",
       "5  2018.06.03.b         6298.0         NaN         NaN  \n",
       "6  2018.06.03.a         6297.0         NaN         NaN  \n",
       "7    2018.05.27         6296.0         NaN         NaN  \n",
       "8  2018.05.26.b         6295.0         NaN         NaN  \n",
       "9  2018.05.26.a         6294.0         NaN         NaN  \n",
       "\n",
       "[10 rows x 24 columns]"
      ]
     },
     "execution_count": 125,
     "metadata": {},
     "output_type": "execute_result"
    }
   ],
   "source": [
    "df.head(10)\n",
    "#Several columns seem unnecessary.\n",
    "#Case number seems more realible than Date\n"
   ]
  },
  {
   "cell_type": "code",
   "execution_count": 126,
   "metadata": {
    "ExecuteTime": {
     "end_time": "2020-09-01T15:11:01.354413Z",
     "start_time": "2020-09-01T15:11:01.318510Z"
    },
    "scrolled": true
   },
   "outputs": [
    {
     "data": {
      "text/html": [
       "<div>\n",
       "<style scoped>\n",
       "    .dataframe tbody tr th:only-of-type {\n",
       "        vertical-align: middle;\n",
       "    }\n",
       "\n",
       "    .dataframe tbody tr th {\n",
       "        vertical-align: top;\n",
       "    }\n",
       "\n",
       "    .dataframe thead th {\n",
       "        text-align: right;\n",
       "    }\n",
       "</style>\n",
       "<table border=\"1\" class=\"dataframe\">\n",
       "  <thead>\n",
       "    <tr style=\"text-align: right;\">\n",
       "      <th></th>\n",
       "      <th>Case Number</th>\n",
       "      <th>Date</th>\n",
       "      <th>Year</th>\n",
       "      <th>Type</th>\n",
       "      <th>Country</th>\n",
       "      <th>Area</th>\n",
       "      <th>Location</th>\n",
       "      <th>Activity</th>\n",
       "      <th>Name</th>\n",
       "      <th>Sex</th>\n",
       "      <th>...</th>\n",
       "      <th>Species</th>\n",
       "      <th>Investigator or Source</th>\n",
       "      <th>pdf</th>\n",
       "      <th>href formula</th>\n",
       "      <th>href</th>\n",
       "      <th>Case Number.1</th>\n",
       "      <th>Case Number.2</th>\n",
       "      <th>original order</th>\n",
       "      <th>Unnamed: 22</th>\n",
       "      <th>Unnamed: 23</th>\n",
       "    </tr>\n",
       "  </thead>\n",
       "  <tbody>\n",
       "    <tr>\n",
       "      <th>25713</th>\n",
       "      <td>NaN</td>\n",
       "      <td>NaN</td>\n",
       "      <td>NaN</td>\n",
       "      <td>NaN</td>\n",
       "      <td>NaN</td>\n",
       "      <td>NaN</td>\n",
       "      <td>NaN</td>\n",
       "      <td>NaN</td>\n",
       "      <td>NaN</td>\n",
       "      <td>NaN</td>\n",
       "      <td>...</td>\n",
       "      <td>NaN</td>\n",
       "      <td>NaN</td>\n",
       "      <td>NaN</td>\n",
       "      <td>NaN</td>\n",
       "      <td>NaN</td>\n",
       "      <td>NaN</td>\n",
       "      <td>NaN</td>\n",
       "      <td>NaN</td>\n",
       "      <td>NaN</td>\n",
       "      <td>NaN</td>\n",
       "    </tr>\n",
       "    <tr>\n",
       "      <th>25714</th>\n",
       "      <td>NaN</td>\n",
       "      <td>NaN</td>\n",
       "      <td>NaN</td>\n",
       "      <td>NaN</td>\n",
       "      <td>NaN</td>\n",
       "      <td>NaN</td>\n",
       "      <td>NaN</td>\n",
       "      <td>NaN</td>\n",
       "      <td>NaN</td>\n",
       "      <td>NaN</td>\n",
       "      <td>...</td>\n",
       "      <td>NaN</td>\n",
       "      <td>NaN</td>\n",
       "      <td>NaN</td>\n",
       "      <td>NaN</td>\n",
       "      <td>NaN</td>\n",
       "      <td>NaN</td>\n",
       "      <td>NaN</td>\n",
       "      <td>NaN</td>\n",
       "      <td>NaN</td>\n",
       "      <td>NaN</td>\n",
       "    </tr>\n",
       "    <tr>\n",
       "      <th>25715</th>\n",
       "      <td>NaN</td>\n",
       "      <td>NaN</td>\n",
       "      <td>NaN</td>\n",
       "      <td>NaN</td>\n",
       "      <td>NaN</td>\n",
       "      <td>NaN</td>\n",
       "      <td>NaN</td>\n",
       "      <td>NaN</td>\n",
       "      <td>NaN</td>\n",
       "      <td>NaN</td>\n",
       "      <td>...</td>\n",
       "      <td>NaN</td>\n",
       "      <td>NaN</td>\n",
       "      <td>NaN</td>\n",
       "      <td>NaN</td>\n",
       "      <td>NaN</td>\n",
       "      <td>NaN</td>\n",
       "      <td>NaN</td>\n",
       "      <td>NaN</td>\n",
       "      <td>NaN</td>\n",
       "      <td>NaN</td>\n",
       "    </tr>\n",
       "    <tr>\n",
       "      <th>25716</th>\n",
       "      <td>NaN</td>\n",
       "      <td>NaN</td>\n",
       "      <td>NaN</td>\n",
       "      <td>NaN</td>\n",
       "      <td>NaN</td>\n",
       "      <td>NaN</td>\n",
       "      <td>NaN</td>\n",
       "      <td>NaN</td>\n",
       "      <td>NaN</td>\n",
       "      <td>NaN</td>\n",
       "      <td>...</td>\n",
       "      <td>NaN</td>\n",
       "      <td>NaN</td>\n",
       "      <td>NaN</td>\n",
       "      <td>NaN</td>\n",
       "      <td>NaN</td>\n",
       "      <td>NaN</td>\n",
       "      <td>NaN</td>\n",
       "      <td>NaN</td>\n",
       "      <td>NaN</td>\n",
       "      <td>NaN</td>\n",
       "    </tr>\n",
       "    <tr>\n",
       "      <th>25717</th>\n",
       "      <td>NaN</td>\n",
       "      <td>NaN</td>\n",
       "      <td>NaN</td>\n",
       "      <td>NaN</td>\n",
       "      <td>NaN</td>\n",
       "      <td>NaN</td>\n",
       "      <td>NaN</td>\n",
       "      <td>NaN</td>\n",
       "      <td>NaN</td>\n",
       "      <td>NaN</td>\n",
       "      <td>...</td>\n",
       "      <td>NaN</td>\n",
       "      <td>NaN</td>\n",
       "      <td>NaN</td>\n",
       "      <td>NaN</td>\n",
       "      <td>NaN</td>\n",
       "      <td>NaN</td>\n",
       "      <td>NaN</td>\n",
       "      <td>NaN</td>\n",
       "      <td>NaN</td>\n",
       "      <td>NaN</td>\n",
       "    </tr>\n",
       "    <tr>\n",
       "      <th>25718</th>\n",
       "      <td>NaN</td>\n",
       "      <td>NaN</td>\n",
       "      <td>NaN</td>\n",
       "      <td>NaN</td>\n",
       "      <td>NaN</td>\n",
       "      <td>NaN</td>\n",
       "      <td>NaN</td>\n",
       "      <td>NaN</td>\n",
       "      <td>NaN</td>\n",
       "      <td>NaN</td>\n",
       "      <td>...</td>\n",
       "      <td>NaN</td>\n",
       "      <td>NaN</td>\n",
       "      <td>NaN</td>\n",
       "      <td>NaN</td>\n",
       "      <td>NaN</td>\n",
       "      <td>NaN</td>\n",
       "      <td>NaN</td>\n",
       "      <td>NaN</td>\n",
       "      <td>NaN</td>\n",
       "      <td>NaN</td>\n",
       "    </tr>\n",
       "    <tr>\n",
       "      <th>25719</th>\n",
       "      <td>NaN</td>\n",
       "      <td>NaN</td>\n",
       "      <td>NaN</td>\n",
       "      <td>NaN</td>\n",
       "      <td>NaN</td>\n",
       "      <td>NaN</td>\n",
       "      <td>NaN</td>\n",
       "      <td>NaN</td>\n",
       "      <td>NaN</td>\n",
       "      <td>NaN</td>\n",
       "      <td>...</td>\n",
       "      <td>NaN</td>\n",
       "      <td>NaN</td>\n",
       "      <td>NaN</td>\n",
       "      <td>NaN</td>\n",
       "      <td>NaN</td>\n",
       "      <td>NaN</td>\n",
       "      <td>NaN</td>\n",
       "      <td>NaN</td>\n",
       "      <td>NaN</td>\n",
       "      <td>NaN</td>\n",
       "    </tr>\n",
       "    <tr>\n",
       "      <th>25720</th>\n",
       "      <td>NaN</td>\n",
       "      <td>NaN</td>\n",
       "      <td>NaN</td>\n",
       "      <td>NaN</td>\n",
       "      <td>NaN</td>\n",
       "      <td>NaN</td>\n",
       "      <td>NaN</td>\n",
       "      <td>NaN</td>\n",
       "      <td>NaN</td>\n",
       "      <td>NaN</td>\n",
       "      <td>...</td>\n",
       "      <td>NaN</td>\n",
       "      <td>NaN</td>\n",
       "      <td>NaN</td>\n",
       "      <td>NaN</td>\n",
       "      <td>NaN</td>\n",
       "      <td>NaN</td>\n",
       "      <td>NaN</td>\n",
       "      <td>NaN</td>\n",
       "      <td>NaN</td>\n",
       "      <td>NaN</td>\n",
       "    </tr>\n",
       "    <tr>\n",
       "      <th>25721</th>\n",
       "      <td>NaN</td>\n",
       "      <td>NaN</td>\n",
       "      <td>NaN</td>\n",
       "      <td>NaN</td>\n",
       "      <td>NaN</td>\n",
       "      <td>NaN</td>\n",
       "      <td>NaN</td>\n",
       "      <td>NaN</td>\n",
       "      <td>NaN</td>\n",
       "      <td>NaN</td>\n",
       "      <td>...</td>\n",
       "      <td>NaN</td>\n",
       "      <td>NaN</td>\n",
       "      <td>NaN</td>\n",
       "      <td>NaN</td>\n",
       "      <td>NaN</td>\n",
       "      <td>NaN</td>\n",
       "      <td>NaN</td>\n",
       "      <td>NaN</td>\n",
       "      <td>NaN</td>\n",
       "      <td>NaN</td>\n",
       "    </tr>\n",
       "    <tr>\n",
       "      <th>25722</th>\n",
       "      <td>xx</td>\n",
       "      <td>NaN</td>\n",
       "      <td>NaN</td>\n",
       "      <td>NaN</td>\n",
       "      <td>NaN</td>\n",
       "      <td>NaN</td>\n",
       "      <td>NaN</td>\n",
       "      <td>NaN</td>\n",
       "      <td>NaN</td>\n",
       "      <td>NaN</td>\n",
       "      <td>...</td>\n",
       "      <td>NaN</td>\n",
       "      <td>NaN</td>\n",
       "      <td>NaN</td>\n",
       "      <td>NaN</td>\n",
       "      <td>NaN</td>\n",
       "      <td>NaN</td>\n",
       "      <td>NaN</td>\n",
       "      <td>NaN</td>\n",
       "      <td>NaN</td>\n",
       "      <td>NaN</td>\n",
       "    </tr>\n",
       "  </tbody>\n",
       "</table>\n",
       "<p>10 rows × 24 columns</p>\n",
       "</div>"
      ],
      "text/plain": [
       "      Case Number Date  Year Type Country Area Location Activity Name Sex   \\\n",
       "25713         NaN  NaN   NaN  NaN     NaN  NaN      NaN      NaN  NaN  NaN   \n",
       "25714         NaN  NaN   NaN  NaN     NaN  NaN      NaN      NaN  NaN  NaN   \n",
       "25715         NaN  NaN   NaN  NaN     NaN  NaN      NaN      NaN  NaN  NaN   \n",
       "25716         NaN  NaN   NaN  NaN     NaN  NaN      NaN      NaN  NaN  NaN   \n",
       "25717         NaN  NaN   NaN  NaN     NaN  NaN      NaN      NaN  NaN  NaN   \n",
       "25718         NaN  NaN   NaN  NaN     NaN  NaN      NaN      NaN  NaN  NaN   \n",
       "25719         NaN  NaN   NaN  NaN     NaN  NaN      NaN      NaN  NaN  NaN   \n",
       "25720         NaN  NaN   NaN  NaN     NaN  NaN      NaN      NaN  NaN  NaN   \n",
       "25721         NaN  NaN   NaN  NaN     NaN  NaN      NaN      NaN  NaN  NaN   \n",
       "25722          xx  NaN   NaN  NaN     NaN  NaN      NaN      NaN  NaN  NaN   \n",
       "\n",
       "       ... Species  Investigator or Source  pdf href formula href  \\\n",
       "25713  ...      NaN                    NaN  NaN          NaN  NaN   \n",
       "25714  ...      NaN                    NaN  NaN          NaN  NaN   \n",
       "25715  ...      NaN                    NaN  NaN          NaN  NaN   \n",
       "25716  ...      NaN                    NaN  NaN          NaN  NaN   \n",
       "25717  ...      NaN                    NaN  NaN          NaN  NaN   \n",
       "25718  ...      NaN                    NaN  NaN          NaN  NaN   \n",
       "25719  ...      NaN                    NaN  NaN          NaN  NaN   \n",
       "25720  ...      NaN                    NaN  NaN          NaN  NaN   \n",
       "25721  ...      NaN                    NaN  NaN          NaN  NaN   \n",
       "25722  ...      NaN                    NaN  NaN          NaN  NaN   \n",
       "\n",
       "      Case Number.1 Case Number.2 original order Unnamed: 22 Unnamed: 23  \n",
       "25713           NaN           NaN            NaN         NaN         NaN  \n",
       "25714           NaN           NaN            NaN         NaN         NaN  \n",
       "25715           NaN           NaN            NaN         NaN         NaN  \n",
       "25716           NaN           NaN            NaN         NaN         NaN  \n",
       "25717           NaN           NaN            NaN         NaN         NaN  \n",
       "25718           NaN           NaN            NaN         NaN         NaN  \n",
       "25719           NaN           NaN            NaN         NaN         NaN  \n",
       "25720           NaN           NaN            NaN         NaN         NaN  \n",
       "25721           NaN           NaN            NaN         NaN         NaN  \n",
       "25722           NaN           NaN            NaN         NaN         NaN  \n",
       "\n",
       "[10 rows x 24 columns]"
      ]
     },
     "execution_count": 126,
     "metadata": {},
     "output_type": "execute_result"
    }
   ],
   "source": [
    "df.tail(10)\n",
    "#End of dataset seems dirty. Furter investigation needed"
   ]
  },
  {
   "cell_type": "code",
   "execution_count": 127,
   "metadata": {
    "ExecuteTime": {
     "end_time": "2020-09-01T15:11:01.365384Z",
     "start_time": "2020-09-01T15:11:01.357408Z"
    }
   },
   "outputs": [],
   "source": [
    "# profile = ProfileReport(df, title=\"Pandas Profiling Report\")\n",
    "# profile.to_file(\"sharks_report.html\")"
   ]
  },
  {
   "cell_type": "code",
   "execution_count": 128,
   "metadata": {
    "ExecuteTime": {
     "end_time": "2020-09-01T15:11:01.379350Z",
     "start_time": "2020-09-01T15:11:01.368377Z"
    }
   },
   "outputs": [],
   "source": [
    "df.columns = df.columns.str.lower()"
   ]
  },
  {
   "cell_type": "code",
   "execution_count": 129,
   "metadata": {
    "ExecuteTime": {
     "end_time": "2020-09-01T15:11:01.425230Z",
     "start_time": "2020-09-01T15:11:01.383336Z"
    }
   },
   "outputs": [
    {
     "data": {
      "text/html": [
       "<div>\n",
       "<style scoped>\n",
       "    .dataframe tbody tr th:only-of-type {\n",
       "        vertical-align: middle;\n",
       "    }\n",
       "\n",
       "    .dataframe tbody tr th {\n",
       "        vertical-align: top;\n",
       "    }\n",
       "\n",
       "    .dataframe thead th {\n",
       "        text-align: right;\n",
       "    }\n",
       "</style>\n",
       "<table border=\"1\" class=\"dataframe\">\n",
       "  <thead>\n",
       "    <tr style=\"text-align: right;\">\n",
       "      <th></th>\n",
       "      <th>date</th>\n",
       "      <th>year</th>\n",
       "      <th>country</th>\n",
       "      <th>area</th>\n",
       "      <th>location</th>\n",
       "      <th>activity</th>\n",
       "      <th>sex</th>\n",
       "      <th>age</th>\n",
       "      <th>fatal (y/n)</th>\n",
       "    </tr>\n",
       "  </thead>\n",
       "  <tbody>\n",
       "    <tr>\n",
       "      <th>0</th>\n",
       "      <td>25-Jun-2018</td>\n",
       "      <td>2018.0</td>\n",
       "      <td>USA</td>\n",
       "      <td>California</td>\n",
       "      <td>Oceanside, San Diego County</td>\n",
       "      <td>Paddling</td>\n",
       "      <td>F</td>\n",
       "      <td>57</td>\n",
       "      <td>N</td>\n",
       "    </tr>\n",
       "    <tr>\n",
       "      <th>1</th>\n",
       "      <td>18-Jun-2018</td>\n",
       "      <td>2018.0</td>\n",
       "      <td>USA</td>\n",
       "      <td>Georgia</td>\n",
       "      <td>St. Simon Island, Glynn County</td>\n",
       "      <td>Standing</td>\n",
       "      <td>F</td>\n",
       "      <td>11</td>\n",
       "      <td>N</td>\n",
       "    </tr>\n",
       "    <tr>\n",
       "      <th>2</th>\n",
       "      <td>09-Jun-2018</td>\n",
       "      <td>2018.0</td>\n",
       "      <td>USA</td>\n",
       "      <td>Hawaii</td>\n",
       "      <td>Habush, Oahu</td>\n",
       "      <td>Surfing</td>\n",
       "      <td>M</td>\n",
       "      <td>48</td>\n",
       "      <td>N</td>\n",
       "    </tr>\n",
       "    <tr>\n",
       "      <th>3</th>\n",
       "      <td>08-Jun-2018</td>\n",
       "      <td>2018.0</td>\n",
       "      <td>AUSTRALIA</td>\n",
       "      <td>New South Wales</td>\n",
       "      <td>Arrawarra Headland</td>\n",
       "      <td>Surfing</td>\n",
       "      <td>M</td>\n",
       "      <td>NaN</td>\n",
       "      <td>N</td>\n",
       "    </tr>\n",
       "    <tr>\n",
       "      <th>4</th>\n",
       "      <td>04-Jun-2018</td>\n",
       "      <td>2018.0</td>\n",
       "      <td>MEXICO</td>\n",
       "      <td>Colima</td>\n",
       "      <td>La Ticla</td>\n",
       "      <td>Free diving</td>\n",
       "      <td>M</td>\n",
       "      <td>NaN</td>\n",
       "      <td>N</td>\n",
       "    </tr>\n",
       "    <tr>\n",
       "      <th>5</th>\n",
       "      <td>03-Jun-2018</td>\n",
       "      <td>2018.0</td>\n",
       "      <td>AUSTRALIA</td>\n",
       "      <td>New South Wales</td>\n",
       "      <td>Flat Rock, Ballina</td>\n",
       "      <td>Kite surfing</td>\n",
       "      <td>M</td>\n",
       "      <td>NaN</td>\n",
       "      <td>N</td>\n",
       "    </tr>\n",
       "    <tr>\n",
       "      <th>6</th>\n",
       "      <td>03-Jun-2018</td>\n",
       "      <td>2018.0</td>\n",
       "      <td>BRAZIL</td>\n",
       "      <td>Pernambuco</td>\n",
       "      <td>Piedade Beach, Recife</td>\n",
       "      <td>Swimming</td>\n",
       "      <td>M</td>\n",
       "      <td>18</td>\n",
       "      <td>Y</td>\n",
       "    </tr>\n",
       "    <tr>\n",
       "      <th>7</th>\n",
       "      <td>27-May-2018</td>\n",
       "      <td>2018.0</td>\n",
       "      <td>USA</td>\n",
       "      <td>Florida</td>\n",
       "      <td>Lighhouse Point Park, Ponce Inlet, Volusia County</td>\n",
       "      <td>Fishing</td>\n",
       "      <td>M</td>\n",
       "      <td>52</td>\n",
       "      <td>N</td>\n",
       "    </tr>\n",
       "    <tr>\n",
       "      <th>8</th>\n",
       "      <td>26-May-2018</td>\n",
       "      <td>2018.0</td>\n",
       "      <td>USA</td>\n",
       "      <td>Florida</td>\n",
       "      <td>Cocoa Beach, Brevard  County</td>\n",
       "      <td>Walking</td>\n",
       "      <td>M</td>\n",
       "      <td>15</td>\n",
       "      <td>N</td>\n",
       "    </tr>\n",
       "    <tr>\n",
       "      <th>9</th>\n",
       "      <td>26-May-2018</td>\n",
       "      <td>2018.0</td>\n",
       "      <td>USA</td>\n",
       "      <td>Florida</td>\n",
       "      <td>Daytona Beach, Volusia County</td>\n",
       "      <td>Standing</td>\n",
       "      <td>M</td>\n",
       "      <td>12</td>\n",
       "      <td>N</td>\n",
       "    </tr>\n",
       "  </tbody>\n",
       "</table>\n",
       "</div>"
      ],
      "text/plain": [
       "          date    year    country             area  \\\n",
       "0  25-Jun-2018  2018.0        USA       California   \n",
       "1  18-Jun-2018  2018.0        USA          Georgia   \n",
       "2  09-Jun-2018  2018.0        USA           Hawaii   \n",
       "3  08-Jun-2018  2018.0  AUSTRALIA  New South Wales   \n",
       "4  04-Jun-2018  2018.0     MEXICO           Colima   \n",
       "5  03-Jun-2018  2018.0  AUSTRALIA  New South Wales   \n",
       "6  03-Jun-2018  2018.0     BRAZIL       Pernambuco   \n",
       "7  27-May-2018  2018.0        USA          Florida   \n",
       "8  26-May-2018  2018.0        USA          Florida   \n",
       "9  26-May-2018  2018.0        USA          Florida   \n",
       "\n",
       "                                            location      activity sex   age  \\\n",
       "0                        Oceanside, San Diego County      Paddling    F   57   \n",
       "1                     St. Simon Island, Glynn County      Standing    F   11   \n",
       "2                                       Habush, Oahu       Surfing    M   48   \n",
       "3                                 Arrawarra Headland       Surfing    M  NaN   \n",
       "4                                           La Ticla   Free diving    M  NaN   \n",
       "5                                 Flat Rock, Ballina  Kite surfing    M  NaN   \n",
       "6                              Piedade Beach, Recife      Swimming    M   18   \n",
       "7  Lighhouse Point Park, Ponce Inlet, Volusia County       Fishing    M   52   \n",
       "8                       Cocoa Beach, Brevard  County       Walking    M   15   \n",
       "9                      Daytona Beach, Volusia County      Standing    M   12   \n",
       "\n",
       "  fatal (y/n)  \n",
       "0           N  \n",
       "1           N  \n",
       "2           N  \n",
       "3           N  \n",
       "4           N  \n",
       "5           N  \n",
       "6           Y  \n",
       "7           N  \n",
       "8           N  \n",
       "9           N  "
      ]
     },
     "execution_count": 129,
     "metadata": {},
     "output_type": "execute_result"
    }
   ],
   "source": [
    "df = df[df['year'] > 1800]\n",
    "df = df.drop(axis = 1, columns = ['unnamed: 22', 'unnamed: 23', 'href', 'href formula', 'pdf', 'original order',\n",
    "                                  'investigator or source', 'time', 'injury', 'case number.2', \n",
    "                                  'case number.1', 'type', 'name', 'species ', 'case number', 'case number'])\n",
    "df.head(10)"
   ]
  },
  {
   "cell_type": "code",
   "execution_count": 130,
   "metadata": {
    "ExecuteTime": {
     "end_time": "2020-09-01T15:11:01.459133Z",
     "start_time": "2020-09-01T15:11:01.428216Z"
    }
   },
   "outputs": [
    {
     "data": {
      "text/html": [
       "<div>\n",
       "<style scoped>\n",
       "    .dataframe tbody tr th:only-of-type {\n",
       "        vertical-align: middle;\n",
       "    }\n",
       "\n",
       "    .dataframe tbody tr th {\n",
       "        vertical-align: top;\n",
       "    }\n",
       "\n",
       "    .dataframe thead th {\n",
       "        text-align: right;\n",
       "    }\n",
       "</style>\n",
       "<table border=\"1\" class=\"dataframe\">\n",
       "  <thead>\n",
       "    <tr style=\"text-align: right;\">\n",
       "      <th></th>\n",
       "      <th>date</th>\n",
       "      <th>year</th>\n",
       "      <th>country</th>\n",
       "      <th>area</th>\n",
       "      <th>location</th>\n",
       "      <th>activity</th>\n",
       "      <th>sex</th>\n",
       "      <th>age</th>\n",
       "      <th>fatal (y/n)</th>\n",
       "    </tr>\n",
       "  </thead>\n",
       "  <tbody>\n",
       "    <tr>\n",
       "      <th>6122</th>\n",
       "      <td>Reported 01-May-1808</td>\n",
       "      <td>1808.0</td>\n",
       "      <td>ANTIGUA</td>\n",
       "      <td>NaN</td>\n",
       "      <td>Falmouth Harbour</td>\n",
       "      <td>NaN</td>\n",
       "      <td>NaN</td>\n",
       "      <td>NaN</td>\n",
       "      <td>NaN</td>\n",
       "    </tr>\n",
       "    <tr>\n",
       "      <th>6123</th>\n",
       "      <td>07-Feb-1808</td>\n",
       "      <td>1808.0</td>\n",
       "      <td>INDIA</td>\n",
       "      <td>NaN</td>\n",
       "      <td>Hooghly River</td>\n",
       "      <td>Bathing</td>\n",
       "      <td>M</td>\n",
       "      <td>NaN</td>\n",
       "      <td>Y</td>\n",
       "    </tr>\n",
       "    <tr>\n",
       "      <th>6124</th>\n",
       "      <td>12-Jan-1807</td>\n",
       "      <td>1807.0</td>\n",
       "      <td>AUSTRALIA</td>\n",
       "      <td>New South Wales</td>\n",
       "      <td>Cockle Bay, Sydney Harbour</td>\n",
       "      <td>NaN</td>\n",
       "      <td>M</td>\n",
       "      <td>NaN</td>\n",
       "      <td>N</td>\n",
       "    </tr>\n",
       "    <tr>\n",
       "      <th>6125</th>\n",
       "      <td>Aug-24-1806</td>\n",
       "      <td>1896.0</td>\n",
       "      <td>USA</td>\n",
       "      <td>NaN</td>\n",
       "      <td>NaN</td>\n",
       "      <td>NaN</td>\n",
       "      <td>M</td>\n",
       "      <td>NaN</td>\n",
       "      <td>NaN</td>\n",
       "    </tr>\n",
       "    <tr>\n",
       "      <th>6126</th>\n",
       "      <td>Sep-1805</td>\n",
       "      <td>1805.0</td>\n",
       "      <td>USA</td>\n",
       "      <td>New York</td>\n",
       "      <td>Sag Harbor, Suffolk County</td>\n",
       "      <td>NaN</td>\n",
       "      <td>M</td>\n",
       "      <td>NaN</td>\n",
       "      <td>NaN</td>\n",
       "    </tr>\n",
       "    <tr>\n",
       "      <th>6127</th>\n",
       "      <td>Reported 26-Feb-1804</td>\n",
       "      <td>1804.0</td>\n",
       "      <td>AUSTRALIA</td>\n",
       "      <td>New South Wales</td>\n",
       "      <td>Georges Head, off Port Jackson</td>\n",
       "      <td>NaN</td>\n",
       "      <td>NaN</td>\n",
       "      <td>NaN</td>\n",
       "      <td>N</td>\n",
       "    </tr>\n",
       "    <tr>\n",
       "      <th>6128</th>\n",
       "      <td>May-17-1803</td>\n",
       "      <td>1803.0</td>\n",
       "      <td>USA</td>\n",
       "      <td>South Carolina</td>\n",
       "      <td>Off Charleston</td>\n",
       "      <td>NaN</td>\n",
       "      <td>M</td>\n",
       "      <td>NaN</td>\n",
       "      <td>N</td>\n",
       "    </tr>\n",
       "    <tr>\n",
       "      <th>6129</th>\n",
       "      <td>Mar-1803</td>\n",
       "      <td>1803.0</td>\n",
       "      <td>AUSTRALIA</td>\n",
       "      <td>Western Australia</td>\n",
       "      <td>Hamelin Harbour, at Faure Island</td>\n",
       "      <td>NaN</td>\n",
       "      <td>M</td>\n",
       "      <td>NaN</td>\n",
       "      <td>N</td>\n",
       "    </tr>\n",
       "    <tr>\n",
       "      <th>6130</th>\n",
       "      <td>Reported Apr-13-1802</td>\n",
       "      <td>1802.0</td>\n",
       "      <td>INDIA</td>\n",
       "      <td>NaN</td>\n",
       "      <td>NaN</td>\n",
       "      <td>NaN</td>\n",
       "      <td>NaN</td>\n",
       "      <td>NaN</td>\n",
       "      <td>Y</td>\n",
       "    </tr>\n",
       "    <tr>\n",
       "      <th>6131</th>\n",
       "      <td>Reported 18-Dec-1801</td>\n",
       "      <td>1801.0</td>\n",
       "      <td>NaN</td>\n",
       "      <td>NaN</td>\n",
       "      <td>NaN</td>\n",
       "      <td>Standing on landed shark's tail</td>\n",
       "      <td>N</td>\n",
       "      <td>NaN</td>\n",
       "      <td>Y</td>\n",
       "    </tr>\n",
       "  </tbody>\n",
       "</table>\n",
       "</div>"
      ],
      "text/plain": [
       "                      date    year    country               area  \\\n",
       "6122  Reported 01-May-1808  1808.0    ANTIGUA                NaN   \n",
       "6123           07-Feb-1808  1808.0      INDIA                NaN   \n",
       "6124           12-Jan-1807  1807.0  AUSTRALIA    New South Wales   \n",
       "6125           Aug-24-1806  1896.0        USA                NaN   \n",
       "6126              Sep-1805  1805.0        USA           New York   \n",
       "6127  Reported 26-Feb-1804  1804.0  AUSTRALIA    New South Wales   \n",
       "6128           May-17-1803  1803.0        USA     South Carolina   \n",
       "6129              Mar-1803  1803.0  AUSTRALIA  Western Australia   \n",
       "6130  Reported Apr-13-1802  1802.0      INDIA                NaN   \n",
       "6131  Reported 18-Dec-1801  1801.0        NaN                NaN   \n",
       "\n",
       "                              location                         activity sex   \\\n",
       "6122                  Falmouth Harbour                              NaN  NaN   \n",
       "6123                     Hooghly River                          Bathing    M   \n",
       "6124        Cockle Bay, Sydney Harbour                              NaN    M   \n",
       "6125                               NaN                              NaN    M   \n",
       "6126        Sag Harbor, Suffolk County                              NaN    M   \n",
       "6127    Georges Head, off Port Jackson                              NaN  NaN   \n",
       "6128                    Off Charleston                              NaN    M   \n",
       "6129  Hamelin Harbour, at Faure Island                              NaN    M   \n",
       "6130                               NaN                              NaN  NaN   \n",
       "6131                               NaN  Standing on landed shark's tail    N   \n",
       "\n",
       "      age fatal (y/n)  \n",
       "6122  NaN         NaN  \n",
       "6123  NaN           Y  \n",
       "6124  NaN           N  \n",
       "6125  NaN         NaN  \n",
       "6126  NaN         NaN  \n",
       "6127  NaN           N  \n",
       "6128  NaN           N  \n",
       "6129  NaN           N  \n",
       "6130  NaN           Y  \n",
       "6131  NaN           Y  "
      ]
     },
     "execution_count": 130,
     "metadata": {},
     "output_type": "execute_result"
    }
   ],
   "source": [
    "df.tail(10)"
   ]
  },
  {
   "cell_type": "code",
   "execution_count": 131,
   "metadata": {
    "ExecuteTime": {
     "end_time": "2020-09-01T15:11:01.477085Z",
     "start_time": "2020-09-01T15:11:01.461127Z"
    }
   },
   "outputs": [
    {
     "data": {
      "text/plain": [
       "0            Oceanside, San Diego County\n",
       "1         St. Simon Island, Glynn County\n",
       "2                           Habush, Oahu\n",
       "3                     Arrawarra Headland\n",
       "4                               La Ticla\n",
       "                      ...               \n",
       "6127      Georges Head, off Port Jackson\n",
       "6128                      Off Charleston\n",
       "6129    Hamelin Harbour, at Faure Island\n",
       "6130                             Unknown\n",
       "6131                             Unknown\n",
       "Name: location, Length: 6130, dtype: object"
      ]
     },
     "execution_count": 131,
     "metadata": {},
     "output_type": "execute_result"
    }
   ],
   "source": [
    "#Treating NA values\n",
    "df['country'].fillna('Unknown')\n",
    "df['area'].fillna('Unknown')\n",
    "df['location'].fillna('Unknown')\n"
   ]
  },
  {
   "cell_type": "markdown",
   "metadata": {},
   "source": [
    "# Parsing relevant columns"
   ]
  },
  {
   "cell_type": "markdown",
   "metadata": {
    "ExecuteTime": {
     "end_time": "2020-09-01T15:52:26.944988Z",
     "start_time": "2020-09-01T15:52:26.940002Z"
    }
   },
   "source": [
    "## Adding month column"
   ]
  },
  {
   "cell_type": "code",
   "execution_count": 132,
   "metadata": {
    "ExecuteTime": {
     "end_time": "2020-09-01T15:11:01.508017Z",
     "start_time": "2020-09-01T15:11:01.479080Z"
    }
   },
   "outputs": [],
   "source": [
    "#getting month info\n",
    "df['date'].unique()\n",
    "df['month'] = df['date'].apply(lambda x: ''.join(re.findall('-(\\w{3})-', x)))"
   ]
  },
  {
   "cell_type": "code",
   "execution_count": 133,
   "metadata": {
    "ExecuteTime": {
     "end_time": "2020-09-01T15:11:01.534930Z",
     "start_time": "2020-09-01T15:11:01.510997Z"
    }
   },
   "outputs": [
    {
     "data": {
      "text/html": [
       "<div>\n",
       "<style scoped>\n",
       "    .dataframe tbody tr th:only-of-type {\n",
       "        vertical-align: middle;\n",
       "    }\n",
       "\n",
       "    .dataframe tbody tr th {\n",
       "        vertical-align: top;\n",
       "    }\n",
       "\n",
       "    .dataframe thead th {\n",
       "        text-align: right;\n",
       "    }\n",
       "</style>\n",
       "<table border=\"1\" class=\"dataframe\">\n",
       "  <thead>\n",
       "    <tr style=\"text-align: right;\">\n",
       "      <th></th>\n",
       "      <th>date</th>\n",
       "      <th>year</th>\n",
       "      <th>country</th>\n",
       "      <th>area</th>\n",
       "      <th>location</th>\n",
       "      <th>activity</th>\n",
       "      <th>sex</th>\n",
       "      <th>age</th>\n",
       "      <th>fatal (y/n)</th>\n",
       "      <th>month</th>\n",
       "    </tr>\n",
       "  </thead>\n",
       "  <tbody>\n",
       "    <tr>\n",
       "      <th>0</th>\n",
       "      <td>25-Jun-2018</td>\n",
       "      <td>2018.0</td>\n",
       "      <td>USA</td>\n",
       "      <td>California</td>\n",
       "      <td>Oceanside, San Diego County</td>\n",
       "      <td>Paddling</td>\n",
       "      <td>F</td>\n",
       "      <td>57</td>\n",
       "      <td>N</td>\n",
       "      <td>Jun</td>\n",
       "    </tr>\n",
       "    <tr>\n",
       "      <th>1</th>\n",
       "      <td>18-Jun-2018</td>\n",
       "      <td>2018.0</td>\n",
       "      <td>USA</td>\n",
       "      <td>Georgia</td>\n",
       "      <td>St. Simon Island, Glynn County</td>\n",
       "      <td>Standing</td>\n",
       "      <td>F</td>\n",
       "      <td>11</td>\n",
       "      <td>N</td>\n",
       "      <td>Jun</td>\n",
       "    </tr>\n",
       "    <tr>\n",
       "      <th>2</th>\n",
       "      <td>09-Jun-2018</td>\n",
       "      <td>2018.0</td>\n",
       "      <td>USA</td>\n",
       "      <td>Hawaii</td>\n",
       "      <td>Habush, Oahu</td>\n",
       "      <td>Surfing</td>\n",
       "      <td>M</td>\n",
       "      <td>48</td>\n",
       "      <td>N</td>\n",
       "      <td>Jun</td>\n",
       "    </tr>\n",
       "    <tr>\n",
       "      <th>3</th>\n",
       "      <td>08-Jun-2018</td>\n",
       "      <td>2018.0</td>\n",
       "      <td>AUSTRALIA</td>\n",
       "      <td>New South Wales</td>\n",
       "      <td>Arrawarra Headland</td>\n",
       "      <td>Surfing</td>\n",
       "      <td>M</td>\n",
       "      <td>NaN</td>\n",
       "      <td>N</td>\n",
       "      <td>Jun</td>\n",
       "    </tr>\n",
       "    <tr>\n",
       "      <th>4</th>\n",
       "      <td>04-Jun-2018</td>\n",
       "      <td>2018.0</td>\n",
       "      <td>MEXICO</td>\n",
       "      <td>Colima</td>\n",
       "      <td>La Ticla</td>\n",
       "      <td>Free diving</td>\n",
       "      <td>M</td>\n",
       "      <td>NaN</td>\n",
       "      <td>N</td>\n",
       "      <td>Jun</td>\n",
       "    </tr>\n",
       "    <tr>\n",
       "      <th>5</th>\n",
       "      <td>03-Jun-2018</td>\n",
       "      <td>2018.0</td>\n",
       "      <td>AUSTRALIA</td>\n",
       "      <td>New South Wales</td>\n",
       "      <td>Flat Rock, Ballina</td>\n",
       "      <td>Kite surfing</td>\n",
       "      <td>M</td>\n",
       "      <td>NaN</td>\n",
       "      <td>N</td>\n",
       "      <td>Jun</td>\n",
       "    </tr>\n",
       "    <tr>\n",
       "      <th>6</th>\n",
       "      <td>03-Jun-2018</td>\n",
       "      <td>2018.0</td>\n",
       "      <td>BRAZIL</td>\n",
       "      <td>Pernambuco</td>\n",
       "      <td>Piedade Beach, Recife</td>\n",
       "      <td>Swimming</td>\n",
       "      <td>M</td>\n",
       "      <td>18</td>\n",
       "      <td>Y</td>\n",
       "      <td>Jun</td>\n",
       "    </tr>\n",
       "    <tr>\n",
       "      <th>7</th>\n",
       "      <td>27-May-2018</td>\n",
       "      <td>2018.0</td>\n",
       "      <td>USA</td>\n",
       "      <td>Florida</td>\n",
       "      <td>Lighhouse Point Park, Ponce Inlet, Volusia County</td>\n",
       "      <td>Fishing</td>\n",
       "      <td>M</td>\n",
       "      <td>52</td>\n",
       "      <td>N</td>\n",
       "      <td>May</td>\n",
       "    </tr>\n",
       "    <tr>\n",
       "      <th>8</th>\n",
       "      <td>26-May-2018</td>\n",
       "      <td>2018.0</td>\n",
       "      <td>USA</td>\n",
       "      <td>Florida</td>\n",
       "      <td>Cocoa Beach, Brevard  County</td>\n",
       "      <td>Walking</td>\n",
       "      <td>M</td>\n",
       "      <td>15</td>\n",
       "      <td>N</td>\n",
       "      <td>May</td>\n",
       "    </tr>\n",
       "    <tr>\n",
       "      <th>9</th>\n",
       "      <td>26-May-2018</td>\n",
       "      <td>2018.0</td>\n",
       "      <td>USA</td>\n",
       "      <td>Florida</td>\n",
       "      <td>Daytona Beach, Volusia County</td>\n",
       "      <td>Standing</td>\n",
       "      <td>M</td>\n",
       "      <td>12</td>\n",
       "      <td>N</td>\n",
       "      <td>May</td>\n",
       "    </tr>\n",
       "  </tbody>\n",
       "</table>\n",
       "</div>"
      ],
      "text/plain": [
       "          date    year    country             area  \\\n",
       "0  25-Jun-2018  2018.0        USA       California   \n",
       "1  18-Jun-2018  2018.0        USA          Georgia   \n",
       "2  09-Jun-2018  2018.0        USA           Hawaii   \n",
       "3  08-Jun-2018  2018.0  AUSTRALIA  New South Wales   \n",
       "4  04-Jun-2018  2018.0     MEXICO           Colima   \n",
       "5  03-Jun-2018  2018.0  AUSTRALIA  New South Wales   \n",
       "6  03-Jun-2018  2018.0     BRAZIL       Pernambuco   \n",
       "7  27-May-2018  2018.0        USA          Florida   \n",
       "8  26-May-2018  2018.0        USA          Florida   \n",
       "9  26-May-2018  2018.0        USA          Florida   \n",
       "\n",
       "                                            location      activity sex   age  \\\n",
       "0                        Oceanside, San Diego County      Paddling    F   57   \n",
       "1                     St. Simon Island, Glynn County      Standing    F   11   \n",
       "2                                       Habush, Oahu       Surfing    M   48   \n",
       "3                                 Arrawarra Headland       Surfing    M  NaN   \n",
       "4                                           La Ticla   Free diving    M  NaN   \n",
       "5                                 Flat Rock, Ballina  Kite surfing    M  NaN   \n",
       "6                              Piedade Beach, Recife      Swimming    M   18   \n",
       "7  Lighhouse Point Park, Ponce Inlet, Volusia County       Fishing    M   52   \n",
       "8                       Cocoa Beach, Brevard  County       Walking    M   15   \n",
       "9                      Daytona Beach, Volusia County      Standing    M   12   \n",
       "\n",
       "  fatal (y/n) month  \n",
       "0           N   Jun  \n",
       "1           N   Jun  \n",
       "2           N   Jun  \n",
       "3           N   Jun  \n",
       "4           N   Jun  \n",
       "5           N   Jun  \n",
       "6           Y   Jun  \n",
       "7           N   May  \n",
       "8           N   May  \n",
       "9           N   May  "
      ]
     },
     "execution_count": 133,
     "metadata": {},
     "output_type": "execute_result"
    }
   ],
   "source": [
    "df.head(10)"
   ]
  },
  {
   "cell_type": "code",
   "execution_count": 134,
   "metadata": {
    "ExecuteTime": {
     "end_time": "2020-09-01T15:11:01.553880Z",
     "start_time": "2020-09-01T15:11:01.539922Z"
    }
   },
   "outputs": [
    {
     "data": {
      "text/plain": [
       "array(['Jun', 'May', '', 'Apr', 'Mar', 'Feb', 'Jan', 'Dec', 'Nov', 'Oct',\n",
       "       'Sep', 'Aug', 'Jul', 'AugAug', 'MarMar', 'SepSep', 'JanJan',\n",
       "       'NovNov'], dtype=object)"
      ]
     },
     "execution_count": 134,
     "metadata": {},
     "output_type": "execute_result"
    }
   ],
   "source": [
    "df['month'].unique()"
   ]
  },
  {
   "cell_type": "code",
   "execution_count": 135,
   "metadata": {
    "ExecuteTime": {
     "end_time": "2020-09-01T15:11:01.636656Z",
     "start_time": "2020-09-01T15:11:01.558867Z"
    }
   },
   "outputs": [],
   "source": [
    "df['month'] = df['month'].apply(lambda x: re.sub('AugAug', 'Aug', x))\n",
    "df['month'] = df['month'].apply(lambda x: re.sub('MarMar', 'Mar', x))\n",
    "df['month'] = df['month'].apply(lambda x: re.sub('SepSep', 'Sep', x))\n",
    "df['month'] = df['month'].apply(lambda x: re.sub('JanJan', 'Jan', x))\n",
    "df['month'] = df['month'].apply(lambda x: re.sub('NovNov', 'Nov', x))"
   ]
  },
  {
   "cell_type": "code",
   "execution_count": 136,
   "metadata": {
    "ExecuteTime": {
     "end_time": "2020-09-01T15:11:01.648626Z",
     "start_time": "2020-09-01T15:11:01.640647Z"
    }
   },
   "outputs": [
    {
     "data": {
      "text/plain": [
       "array(['Jun', 'May', '', 'Apr', 'Mar', 'Feb', 'Jan', 'Dec', 'Nov', 'Oct',\n",
       "       'Sep', 'Aug', 'Jul'], dtype=object)"
      ]
     },
     "execution_count": 136,
     "metadata": {},
     "output_type": "execute_result"
    }
   ],
   "source": [
    "df['month'].unique()"
   ]
  },
  {
   "cell_type": "markdown",
   "metadata": {
    "ExecuteTime": {
     "end_time": "2020-09-01T15:52:26.944988Z",
     "start_time": "2020-09-01T15:52:26.940002Z"
    }
   },
   "source": [
    "## Parsing country column"
   ]
  },
  {
   "cell_type": "code",
   "execution_count": 137,
   "metadata": {
    "ExecuteTime": {
     "end_time": "2020-09-01T15:11:01.674556Z",
     "start_time": "2020-09-01T15:11:01.651618Z"
    }
   },
   "outputs": [],
   "source": [
    "df['country'] = df['country'].replace(np.nan, 'Unknown', regex=True)\n",
    "df['country'] = df['country'].apply(lambda x: x.strip())\n",
    "country_list = sorted(df['country'].unique())"
   ]
  },
  {
   "cell_type": "code",
   "execution_count": 138,
   "metadata": {
    "ExecuteTime": {
     "end_time": "2020-09-01T15:11:01.688520Z",
     "start_time": "2020-09-01T15:11:01.677548Z"
    }
   },
   "outputs": [],
   "source": [
    "def get_country_code(name):\n",
    "    for co in list(pycountry.countries):\n",
    "        if name in co.name:\n",
    "            return co.alpha_3\n",
    "    return None\n"
   ]
  },
  {
   "cell_type": "code",
   "execution_count": 139,
   "metadata": {
    "ExecuteTime": {
     "end_time": "2020-09-01T15:11:01.737390Z",
     "start_time": "2020-09-01T15:11:01.691515Z"
    }
   },
   "outputs": [],
   "source": [
    "no_countries_found = []\n",
    "for name in country_list:\n",
    "    if get_country_code(name.title()) == None:\n",
    "        no_countries_found.append(name.title())"
   ]
  },
  {
   "cell_type": "code",
   "execution_count": 140,
   "metadata": {
    "ExecuteTime": {
     "end_time": "2020-09-01T15:11:01.760326Z",
     "start_time": "2020-09-01T15:11:01.741379Z"
    }
   },
   "outputs": [],
   "source": [
    "df['country'] = df['country'].apply(lambda x: x.title())\n",
    "df_filtered = df[df['country'].isin(no_countries_found)]"
   ]
  },
  {
   "cell_type": "code",
   "execution_count": 141,
   "metadata": {
    "ExecuteTime": {
     "end_time": "2020-09-01T15:11:01.782269Z",
     "start_time": "2020-09-01T15:11:01.765313Z"
    }
   },
   "outputs": [
    {
     "name": "stdout",
     "output_type": "stream",
     "text": [
      "['Usa', 'Reunion', 'Unknown', 'England', 'Pacific Ocean', 'Atlantic Ocean', 'Vietnam', 'South Atlantic Ocean', 'Columbia', 'Caribbean Sea', 'South Korea', 'Scotland', 'Okinawa', 'North Pacific Ocean', 'New Britain', 'Mid Atlantic Ocean', 'Turks & Caicos', 'North Atlantic Ocean', 'Azores', 'Persian Gulf', 'Cape Verde', 'Ceylon', 'Trinidad & Tobago', 'United Arab Emirates (Uae)', 'Central Pacific', 'St Helena, British Overseas Territory', 'South Pacific Ocean', 'Crete', 'Burma', 'West Indies', 'Southwest Pacific Ocean', 'Johnston Island', 'Solomon Islands / Vanuatu', 'Federated States Of Micronesia', 'Palestinian Territories', 'Tasman Sea', 'British Virgin Islands', 'St. Martin', 'Italy / Croatia', 'Red Sea', 'Iran / Iraq', 'Curacao', 'Netherlands Antilles', 'Grand Cayman', 'St. Maartin', 'Maldive Islands', 'Western Samoa', 'British New Guinea', 'British Isles', 'Equatorial Guinea / Cameroon', 'Diego Garcia', 'Admiralty Islands', 'South China Sea', 'Andaman / Nicobar Islandas', 'Egypt / Israel', 'Java', 'Andaman Islands', 'Indian Ocean?', 'Sudan?', 'Bay Of Bengal', 'Mid-Pacifc Ocean', 'Reunion Island', 'Gulf Of Aden', 'San Domingo', 'The Balkans', 'British West Indies', 'North Sea', 'Red Sea / Indian Ocean', 'Coast Of Africa', 'Northern Arabian Sea']\n"
     ]
    }
   ],
   "source": [
    "print(df_filtered['country'].value_counts().index.tolist())"
   ]
  },
  {
   "cell_type": "code",
   "execution_count": 142,
   "metadata": {
    "ExecuteTime": {
     "end_time": "2020-09-01T15:11:01.966783Z",
     "start_time": "2020-09-01T15:11:01.786259Z"
    }
   },
   "outputs": [],
   "source": [
    "#Preliminary regex of countries that are misspelled \n",
    "df['country'] = df['country'].apply(lambda x: re.sub('Usa', 'United States',x))\n",
    "df['country'] = df['country'].apply(lambda x: re.sub('Reunion Island', 'Réunion',x))\n",
    "df['country'] = df['country'].apply(lambda x: re.sub('Reunion', 'Réunion',x))\n",
    "df['country'] = df['country'].apply(lambda x: re.sub('England|Scotland', 'United Kingdom',x))\n",
    "df['country'] = df['country'].apply(lambda x: re.sub('Columbia', 'Colombia',x))\n",
    "df['country'] = df['country'].apply(lambda x: re.sub('Turks & Caicos', 'Turks and Caicos Islands',x))\n",
    "df['country'] = df['country'].apply(lambda x: re.sub('Okinawa', 'Japan',x))\n",
    "df['country'] = df['country'].apply(lambda x: re.sub('Cape Vert', 'Cabo Verde',x))\n",
    "df['country'] = df['country'].apply(lambda x: re.sub('Azores', 'Portugal',x))\n",
    "df['country'] = df['country'].apply(lambda x: re.sub('St. Maartin', 'St. Martin',x))\n",
    "\n",
    "df['country'] = df['country'].apply(lambda x: re.sub('Pacific Ocean', 'Unknown',x))\n",
    "df['country'] = df['country'].apply(lambda x: re.sub('Indian Ocean', 'Unknown',x))\n",
    "df['country'] = df['country'].apply(lambda x: re.sub('Atlantic Ocean', 'Unknown',x))\n"
   ]
  },
  {
   "cell_type": "code",
   "execution_count": 143,
   "metadata": {
    "ExecuteTime": {
     "end_time": "2020-09-01T15:11:02.044567Z",
     "start_time": "2020-09-01T15:11:01.968769Z"
    }
   },
   "outputs": [
    {
     "name": "stdout",
     "output_type": "stream",
     "text": [
      "Unknown                                  82\n",
      "Vietnam                                  13\n",
      "South Korea                               8\n",
      "Caribbean Sea                             8\n",
      "New Britain                               6\n",
      "Persian Gulf                              4\n",
      "Trinidad & Tobago                         3\n",
      "Ceylon                                    3\n",
      "Cape Verde                                3\n",
      "Crete                                     2\n",
      "Central Pacific                           2\n",
      "West Indies                               2\n",
      "Johnston Island                           2\n",
      "Burma                                     2\n",
      "United Arab Emirates (Uae)                2\n",
      "St. Martin                                2\n",
      "St Helena, British Overseas Territory     2\n",
      "Andaman Islands                           1\n",
      "British West Indies                       1\n",
      "Andaman / Nicobar Islandas                1\n",
      "Tasman Sea                                1\n",
      "Egypt / Israel                            1\n",
      "Iran / Iraq                               1\n",
      "Admiralty Islands                         1\n",
      "Northern Arabian Sea                      1\n",
      "Gulf Of Aden                              1\n",
      "Palestinian Territories                   1\n",
      "Bay Of Bengal                             1\n",
      "Red Sea                                   1\n",
      "Diego Garcia                              1\n",
      "Italy / Croatia                           1\n",
      "The Balkans                               1\n",
      "Federated States Of Micronesia            1\n",
      "Netherlands Antilles                      1\n",
      "British Isles                             1\n",
      "Solomon Islands / Vanuatu                 1\n",
      "North Sea                                 1\n",
      "Maldive Islands                           1\n",
      "Mid-Pacifc Ocean                          1\n",
      "Grand Cayman                              1\n",
      "Curacao                                   1\n",
      "South China Sea                           1\n",
      "Western Samoa                             1\n",
      "British Virgin Islands                    1\n",
      "Java                                      1\n",
      "Coast Of Africa                           1\n",
      "San Domingo                               1\n",
      "Equatorial Guinea / Cameroon              1\n",
      "Sudan?                                    1\n",
      "British New Guinea                        1\n",
      "Name: country, dtype: int64\n"
     ]
    }
   ],
   "source": [
    "no_countries_found = []\n",
    "for name in country_list:\n",
    "    if get_country_code(name.title()) == None:\n",
    "        no_countries_found.append(name.title())\n",
    "        \n",
    "df['country'] = df['country'].apply(lambda x: x.title())\n",
    "df_filtered = df[df['country'].isin(no_countries_found)]\n",
    "print(df_filtered['country'].value_counts())"
   ]
  },
  {
   "cell_type": "code",
   "execution_count": 144,
   "metadata": {
    "ExecuteTime": {
     "end_time": "2020-09-01T15:11:02.144300Z",
     "start_time": "2020-09-01T15:11:02.047559Z"
    }
   },
   "outputs": [],
   "source": [
    "#Second round regex of countries that are misspelled \n",
    "df['country'] = df['country'].apply(lambda x: re.sub('Cape Verde', 'Cabo Verde',x))\n",
    "df['country'] = df['country'].apply(lambda x: re.sub(r'United Arab Emirates \\(Uae\\)', 'United Arab Emirates',x))\n",
    "df['country'] = df['country'].apply(lambda x: re.sub('South Korea', 'Korea',x))\n",
    "df['country'] = df['country'].apply(lambda x: re.sub('New Britain', 'Papua New Guinea',x))\n",
    "df['country'] = df['country'].apply(lambda x: re.sub('Trinidad & Tobago', 'Trinidad and Tobago',x))\n",
    "df['country'] = df['country'].apply(lambda x: re.sub('Vietnam', 'Viet Nam',x))"
   ]
  },
  {
   "cell_type": "code",
   "execution_count": 145,
   "metadata": {
    "ExecuteTime": {
     "end_time": "2020-09-01T15:11:02.160257Z",
     "start_time": "2020-09-01T15:11:02.147292Z"
    }
   },
   "outputs": [],
   "source": [
    "df_country_normalized = df[~(df['country'].isin(no_countries_found))]"
   ]
  },
  {
   "cell_type": "code",
   "execution_count": 146,
   "metadata": {
    "ExecuteTime": {
     "end_time": "2020-09-01T15:11:02.171233Z",
     "start_time": "2020-09-01T15:11:02.163249Z"
    }
   },
   "outputs": [],
   "source": [
    "df_country_normalized.reset_index(inplace=True)"
   ]
  },
  {
   "cell_type": "markdown",
   "metadata": {
    "ExecuteTime": {
     "end_time": "2020-09-01T15:52:26.944988Z",
     "start_time": "2020-09-01T15:52:26.940002Z"
    }
   },
   "source": [
    "## Parsing fatality column"
   ]
  },
  {
   "cell_type": "code",
   "execution_count": 369,
   "metadata": {
    "ExecuteTime": {
     "end_time": "2020-09-01T17:48:08.014111Z",
     "start_time": "2020-09-01T17:48:08.001104Z"
    }
   },
   "outputs": [
    {
     "name": "stderr",
     "output_type": "stream",
     "text": [
      "C:\\Users\\TD\\anaconda3\\lib\\site-packages\\pandas\\core\\generic.py:6245: SettingWithCopyWarning: \n",
      "A value is trying to be set on a copy of a slice from a DataFrame\n",
      "\n",
      "See the caveats in the documentation: https://pandas.pydata.org/pandas-docs/stable/user_guide/indexing.html#returning-a-view-versus-a-copy\n",
      "  self._update_inplace(new_data)\n"
     ]
    },
    {
     "data": {
      "text/plain": [
       "N          4166\n",
       "Y          1238\n",
       "UNKNOWN     582\n",
       "Name: fatal (y/n), dtype: int64"
      ]
     },
     "execution_count": 369,
     "metadata": {},
     "output_type": "execute_result"
    }
   ],
   "source": [
    "\n",
    "df_country_normalized['fatal (y/n)'].fillna('UNKNOWN', inplace=True)\n",
    "df_country_normalized['fatal (y/n)'].value_counts()"
   ]
  },
  {
   "cell_type": "code",
   "execution_count": 370,
   "metadata": {
    "ExecuteTime": {
     "end_time": "2020-09-01T17:48:08.640265Z",
     "start_time": "2020-09-01T17:48:08.627299Z"
    }
   },
   "outputs": [
    {
     "name": "stderr",
     "output_type": "stream",
     "text": [
      "<ipython-input-370-869f7bedf593>:1: SettingWithCopyWarning: \n",
      "A value is trying to be set on a copy of a slice from a DataFrame.\n",
      "Try using .loc[row_indexer,col_indexer] = value instead\n",
      "\n",
      "See the caveats in the documentation: https://pandas.pydata.org/pandas-docs/stable/user_guide/indexing.html#returning-a-view-versus-a-copy\n",
      "  df_country_normalized['fatal (y/n)'] = df_country_normalized['fatal (y/n)'].astype(str)\n",
      "<ipython-input-370-869f7bedf593>:2: SettingWithCopyWarning: \n",
      "A value is trying to be set on a copy of a slice from a DataFrame.\n",
      "Try using .loc[row_indexer,col_indexer] = value instead\n",
      "\n",
      "See the caveats in the documentation: https://pandas.pydata.org/pandas-docs/stable/user_guide/indexing.html#returning-a-view-versus-a-copy\n",
      "  df_country_normalized['fatal (y/n)'] = df_country_normalized['fatal (y/n)'].apply(lambda x: x.strip())\n"
     ]
    }
   ],
   "source": [
    "df_country_normalized['fatal (y/n)'] = df_country_normalized['fatal (y/n)'].astype(str)\n",
    "df_country_normalized['fatal (y/n)'] = df_country_normalized['fatal (y/n)'].apply(lambda x: x.strip())"
   ]
  },
  {
   "cell_type": "code",
   "execution_count": 371,
   "metadata": {
    "ExecuteTime": {
     "end_time": "2020-09-01T17:48:09.098603Z",
     "start_time": "2020-09-01T17:48:09.056693Z"
    }
   },
   "outputs": [
    {
     "name": "stderr",
     "output_type": "stream",
     "text": [
      "<ipython-input-371-e92fabc602e0>:1: SettingWithCopyWarning: \n",
      "A value is trying to be set on a copy of a slice from a DataFrame.\n",
      "Try using .loc[row_indexer,col_indexer] = value instead\n",
      "\n",
      "See the caveats in the documentation: https://pandas.pydata.org/pandas-docs/stable/user_guide/indexing.html#returning-a-view-versus-a-copy\n",
      "  df_country_normalized['fatal (y/n)'] = df_country_normalized['fatal (y/n)'].apply(lambda x: re.sub(r'y', 'Y', x))\n",
      "<ipython-input-371-e92fabc602e0>:2: SettingWithCopyWarning: \n",
      "A value is trying to be set on a copy of a slice from a DataFrame.\n",
      "Try using .loc[row_indexer,col_indexer] = value instead\n",
      "\n",
      "See the caveats in the documentation: https://pandas.pydata.org/pandas-docs/stable/user_guide/indexing.html#returning-a-view-versus-a-copy\n",
      "  df_country_normalized['fatal (y/n)'] = df_country_normalized['fatal (y/n)'].apply(lambda x: re.sub(r'M', 'N', x))\n",
      "<ipython-input-371-e92fabc602e0>:3: SettingWithCopyWarning: \n",
      "A value is trying to be set on a copy of a slice from a DataFrame.\n",
      "Try using .loc[row_indexer,col_indexer] = value instead\n",
      "\n",
      "See the caveats in the documentation: https://pandas.pydata.org/pandas-docs/stable/user_guide/indexing.html#returning-a-view-versus-a-copy\n",
      "  df_country_normalized['fatal (y/n)'] = df_country_normalized['fatal (y/n)'].apply(lambda x: re.sub(r'2017', 'UNKNOWN', x))\n"
     ]
    }
   ],
   "source": [
    "df_country_normalized['fatal (y/n)'] = df_country_normalized['fatal (y/n)'].apply(lambda x: re.sub(r'y', 'Y', x))\n",
    "df_country_normalized['fatal (y/n)'] = df_country_normalized['fatal (y/n)'].apply(lambda x: re.sub(r'M', 'N', x))\n",
    "df_country_normalized['fatal (y/n)'] = df_country_normalized['fatal (y/n)'].apply(lambda x: re.sub(r'2017', 'UNKNOWN', x))"
   ]
  },
  {
   "cell_type": "code",
   "execution_count": 372,
   "metadata": {
    "ExecuteTime": {
     "end_time": "2020-09-01T17:48:10.653764Z",
     "start_time": "2020-09-01T17:48:10.642795Z"
    }
   },
   "outputs": [
    {
     "data": {
      "text/plain": [
       "N          4166\n",
       "Y          1238\n",
       "UNKNOWN     582\n",
       "Name: fatal (y/n), dtype: int64"
      ]
     },
     "execution_count": 372,
     "metadata": {},
     "output_type": "execute_result"
    }
   ],
   "source": [
    "df_country_normalized['fatal (y/n)'].value_counts()"
   ]
  },
  {
   "cell_type": "markdown",
   "metadata": {},
   "source": [
    "## Revisiting the month column"
   ]
  },
  {
   "cell_type": "code",
   "execution_count": 491,
   "metadata": {
    "ExecuteTime": {
     "end_time": "2020-09-01T18:49:07.204707Z",
     "start_time": "2020-09-01T18:49:07.198722Z"
    }
   },
   "outputs": [],
   "source": [
    "df_death_normalized = df_country_normalized.copy()"
   ]
  },
  {
   "cell_type": "code",
   "execution_count": 492,
   "metadata": {
    "ExecuteTime": {
     "end_time": "2020-09-01T18:49:07.410220Z",
     "start_time": "2020-09-01T18:49:07.358357Z"
    }
   },
   "outputs": [],
   "source": [
    "\n",
    "df_death_normalized['date'] = df_death_normalized['date'].apply(lambda x: re.sub('Reported ', '', x)) \n",
    "regex_pattern = r'([A-Z]\\w\\w)-?|'\n",
    "\n",
    "df_death_normalized[df_death_normalized['month'] == '']\n",
    "df_death_normalized['month'] = df_death_normalized['date'].apply(lambda x: ''.join(re.findall(r'([A-Z]\\w\\w)-|', x))) "
   ]
  },
  {
   "cell_type": "code",
   "execution_count": 493,
   "metadata": {
    "ExecuteTime": {
     "end_time": "2020-09-01T18:49:07.493994Z",
     "start_time": "2020-09-01T18:49:07.480031Z"
    }
   },
   "outputs": [],
   "source": [
    "df_death_normalized['month'].value_counts()\n",
    "df_death_normalized['month'] = df_death_normalized['month'].apply(lambda x: x[-3:])"
   ]
  },
  {
   "cell_type": "code",
   "execution_count": 494,
   "metadata": {
    "ExecuteTime": {
     "end_time": "2020-09-01T18:49:07.632623Z",
     "start_time": "2020-09-01T18:49:07.613674Z"
    }
   },
   "outputs": [],
   "source": [
    "df_death_normalized['month'] = df_death_normalized['month'].replace(r'^\\s*$', 'Unknown', regex=True)\n"
   ]
  },
  {
   "cell_type": "code",
   "execution_count": 495,
   "metadata": {
    "ExecuteTime": {
     "end_time": "2020-09-01T18:49:08.444034Z",
     "start_time": "2020-09-01T18:49:07.731359Z"
    }
   },
   "outputs": [],
   "source": [
    "df_death_normalized['date_new'] = pd.to_datetime(df_death_normalized['date'], errors='coerce').dt.strftime(\"%b\")"
   ]
  },
  {
   "cell_type": "code",
   "execution_count": 496,
   "metadata": {
    "ExecuteTime": {
     "end_time": "2020-09-01T18:49:08.457997Z",
     "start_time": "2020-09-01T18:49:08.447025Z"
    }
   },
   "outputs": [],
   "source": [
    "df_death_normalized['month'] = np.where(df_death_normalized['month'] == 'Unknown',\n",
    "                                        df_death_normalized['date_new'],\n",
    "                                        df_death_normalized['month'])\n",
    "df_death_normalized['month'] = df_death_normalized['month'].fillna('Unknown')"
   ]
  },
  {
   "cell_type": "code",
   "execution_count": 497,
   "metadata": {
    "ExecuteTime": {
     "end_time": "2020-09-01T18:49:08.482937Z",
     "start_time": "2020-09-01T18:49:08.460989Z"
    }
   },
   "outputs": [
    {
     "data": {
      "text/plain": [
       "Jan        769\n",
       "Jul        646\n",
       "Aug        588\n",
       "Sep        540\n",
       "Jun        489\n",
       "Apr        438\n",
       "Oct        433\n",
       "Dec        424\n",
       "Mar        400\n",
       "Nov        397\n",
       "May        383\n",
       "Feb        378\n",
       "Unknown    101\n",
       "Name: month, dtype: int64"
      ]
     },
     "execution_count": 497,
     "metadata": {},
     "output_type": "execute_result"
    }
   ],
   "source": [
    "df_death_normalized['month'].value_counts()"
   ]
  },
  {
   "cell_type": "code",
   "execution_count": 498,
   "metadata": {
    "ExecuteTime": {
     "end_time": "2020-09-01T18:49:08.508859Z",
     "start_time": "2020-09-01T18:49:08.485922Z"
    }
   },
   "outputs": [],
   "source": [
    "df_death_normalized.drop(axis=1, columns=['date', 'activity', 'date_new'], inplace=True)\n",
    "df_death_normalized['sex '] = df_death_normalized['sex '].fillna('Unknown')\n",
    "df_death_normalized['age'] = df_death_normalized['age'].fillna('Unknown')\n",
    "df_death_normalized.rename(columns={'sex ':'sex'}, inplace=True)\n",
    "\n",
    "df_death_normalized['sex'] = np.where(np.logical_or(df_death_normalized['sex'] == 'F', \n",
    "                                                   df_death_normalized['sex'] == 'M'),\n",
    "                                     df_death_normalized['sex'],\n",
    "                                     'Unknown') "
   ]
  },
  {
   "cell_type": "markdown",
   "metadata": {},
   "source": [
    "## Adding decade column"
   ]
  },
  {
   "cell_type": "code",
   "execution_count": 499,
   "metadata": {
    "ExecuteTime": {
     "end_time": "2020-09-01T18:49:08.649487Z",
     "start_time": "2020-09-01T18:49:08.643501Z"
    }
   },
   "outputs": [],
   "source": [
    "df_decade_normalized = df_death_normalized.copy()"
   ]
  },
  {
   "cell_type": "code",
   "execution_count": 500,
   "metadata": {
    "ExecuteTime": {
     "end_time": "2020-09-01T18:49:08.702345Z",
     "start_time": "2020-09-01T18:49:08.691385Z"
    }
   },
   "outputs": [],
   "source": [
    "df_decade_normalized['year']= df_decade_normalized['year'].astype(str)"
   ]
  },
  {
   "cell_type": "code",
   "execution_count": 501,
   "metadata": {
    "ExecuteTime": {
     "end_time": "2020-09-01T18:49:08.752209Z",
     "start_time": "2020-09-01T18:49:08.740242Z"
    }
   },
   "outputs": [
    {
     "data": {
      "text/plain": [
       "2015.0    142\n",
       "2017.0    133\n",
       "2016.0    130\n",
       "2011.0    128\n",
       "2014.0    125\n",
       "         ... \n",
       "1841.0      1\n",
       "1804.0      1\n",
       "1815.0      1\n",
       "1869.0      1\n",
       "1802.0      1\n",
       "Name: year, Length: 205, dtype: int64"
      ]
     },
     "execution_count": 501,
     "metadata": {},
     "output_type": "execute_result"
    }
   ],
   "source": [
    "df_decade_normalized['year'].value_counts()"
   ]
  },
  {
   "cell_type": "code",
   "execution_count": 502,
   "metadata": {
    "ExecuteTime": {
     "end_time": "2020-09-01T18:49:08.802076Z",
     "start_time": "2020-09-01T18:49:08.791108Z"
    }
   },
   "outputs": [],
   "source": [
    "df_decade_normalized['decade'] = df_decade_normalized['year'].apply(lambda x: x[0:3]+'0s') \n"
   ]
  },
  {
   "cell_type": "code",
   "execution_count": 503,
   "metadata": {
    "ExecuteTime": {
     "end_time": "2020-09-01T18:49:08.852940Z",
     "start_time": "2020-09-01T18:49:08.840976Z"
    }
   },
   "outputs": [
    {
     "data": {
      "text/plain": [
       "2010s    1049\n",
       "2000s    1013\n",
       "1960s     599\n",
       "1990s     566\n",
       "1950s     449\n",
       "1980s     433\n",
       "1970s     325\n",
       "1930s     269\n",
       "1940s     254\n",
       "1920s     206\n",
       "1900s     151\n",
       "1910s     145\n",
       "1890s     135\n",
       "1880s     109\n",
       "1870s      87\n",
       "1860s      63\n",
       "1840s      41\n",
       "1850s      38\n",
       "1830s      19\n",
       "1820s      16\n",
       "1810s      10\n",
       "1800s       9\n",
       "Name: decade, dtype: int64"
      ]
     },
     "execution_count": 503,
     "metadata": {},
     "output_type": "execute_result"
    }
   ],
   "source": [
    "df_decade_normalized['decade'].value_counts()"
   ]
  },
  {
   "cell_type": "code",
   "execution_count": 532,
   "metadata": {
    "ExecuteTime": {
     "end_time": "2020-09-01T19:30:35.482253Z",
     "start_time": "2020-09-01T19:30:35.438359Z"
    }
   },
   "outputs": [],
   "source": [
    "df_final = df_decade_normalized.copy()\n",
    "df_final.to_csv('data/sharks_final.csv',index=False)"
   ]
  },
  {
   "cell_type": "markdown",
   "metadata": {
    "ExecuteTime": {
     "end_time": "2020-09-01T15:50:06.171191Z",
     "start_time": "2020-09-01T15:50:06.167177Z"
    }
   },
   "source": [
    "# Answering questions"
   ]
  },
  {
   "cell_type": "markdown",
   "metadata": {},
   "source": [
    "## Are sharks becoming less deadly over the years?"
   ]
  },
  {
   "cell_type": "code",
   "execution_count": 505,
   "metadata": {
    "ExecuteTime": {
     "end_time": "2020-09-01T18:49:08.990572Z",
     "start_time": "2020-09-01T18:49:08.984590Z"
    }
   },
   "outputs": [],
   "source": [
    "df_q1 = df_final.copy()"
   ]
  },
  {
   "cell_type": "code",
   "execution_count": 506,
   "metadata": {
    "ExecuteTime": {
     "end_time": "2020-09-01T18:49:09.037446Z",
     "start_time": "2020-09-01T18:49:09.028470Z"
    }
   },
   "outputs": [],
   "source": [
    "df_q1 = df_q1[df_q1['fatal (y/n)'] != 'UNKNOWN']"
   ]
  },
  {
   "cell_type": "code",
   "execution_count": 507,
   "metadata": {
    "ExecuteTime": {
     "end_time": "2020-09-01T18:49:09.103269Z",
     "start_time": "2020-09-01T18:49:09.078338Z"
    }
   },
   "outputs": [],
   "source": [
    "pt_q1 = pd.pivot_table(df_q1,index='decade',\n",
    "               values = 'year',\n",
    "                  columns='fatal (y/n)', \n",
    "                  aggfunc='count')"
   ]
  },
  {
   "cell_type": "code",
   "execution_count": 508,
   "metadata": {
    "ExecuteTime": {
     "end_time": "2020-09-01T18:49:09.149148Z",
     "start_time": "2020-09-01T18:49:09.140172Z"
    }
   },
   "outputs": [],
   "source": [
    "pt_q1['Total'] =pt_q1['Y'] + pt_q1['N']  \n",
    "pt_q1['Letality pct.'] = pt_q1['Y']/pt_q1['Total']"
   ]
  },
  {
   "cell_type": "code",
   "execution_count": 509,
   "metadata": {
    "ExecuteTime": {
     "end_time": "2020-09-01T18:49:09.206992Z",
     "start_time": "2020-09-01T18:49:09.201009Z"
    }
   },
   "outputs": [
    {
     "data": {
      "text/plain": [
       "Index(['1800s', '1810s', '1820s', '1830s', '1840s', '1850s', '1860s', '1870s',\n",
       "       '1880s', '1890s', '1900s', '1910s', '1920s', '1930s', '1940s', '1950s',\n",
       "       '1960s', '1970s', '1980s', '1990s', '2000s', '2010s'],\n",
       "      dtype='object', name='decade')"
      ]
     },
     "execution_count": 509,
     "metadata": {},
     "output_type": "execute_result"
    }
   ],
   "source": [
    "pt_q1.index"
   ]
  },
  {
   "cell_type": "code",
   "execution_count": 510,
   "metadata": {
    "ExecuteTime": {
     "end_time": "2020-09-01T18:49:09.718136Z",
     "start_time": "2020-09-01T18:49:09.274811Z"
    }
   },
   "outputs": [
    {
     "data": {
      "image/png": "[encoded data removed]",
      "text/plain": [
       "<Figure size 504x288 with 1 Axes>"
      ]
     },
     "metadata": {},
     "output_type": "display_data"
    }
   ],
   "source": [
    "x = pt_q1.index\n",
    "y = pt_q1['Letality pct.']\n",
    "\n",
    "fig = plt.figure(1, (7,4))\n",
    "ax = fig.add_subplot(1,1,1)\n",
    "\n",
    "ax.plot(x,y*100)\n",
    "plt.title('Shark attacks letality over the decades')\n",
    "plt.xlabel('Decades')\n",
    "plt.ylabel('Letality as percentage of attacks')\n",
    "\n",
    "fmt = '%.0f%%' # Format you want the ticks, e.g. '40%'\n",
    "yticks = mtick.FormatStrFormatter(fmt)\n",
    "ax.yaxis.set_major_formatter(yticks)\n",
    "\n",
    "plt.xticks(rotation=90)\n",
    "\n",
    "plt.show()"
   ]
  },
  {
   "cell_type": "markdown",
   "metadata": {},
   "source": [
    "As we can see from the chart above, <font color='red'>**letality rate has sharply dropped over the last 50 years and one may assume that shark attacks are becoming less deadly.**</font>\n",
    "\n",
    "Few caveats to this assumption:\n",
    "> 1. More non-fatal shark attack incidents are being recorded now, which increases the fatality rate denominator and imply a lower ratio"
   ]
  },
  {
   "cell_type": "markdown",
   "metadata": {},
   "source": [
    "## Are men more prone to die when attacked by sharks?"
   ]
  },
  {
   "cell_type": "code",
   "execution_count": 511,
   "metadata": {
    "ExecuteTime": {
     "end_time": "2020-09-01T18:49:09.728110Z",
     "start_time": "2020-09-01T18:49:09.721128Z"
    }
   },
   "outputs": [],
   "source": [
    "df_q2 = df_final.copy()"
   ]
  },
  {
   "cell_type": "code",
   "execution_count": 512,
   "metadata": {
    "ExecuteTime": {
     "end_time": "2020-09-01T18:49:09.742078Z",
     "start_time": "2020-09-01T18:49:09.731102Z"
    }
   },
   "outputs": [],
   "source": [
    "df_q2['check_death'] = np.where(df_q2['fatal (y/n)'] == 'Y', \n",
    "                               True,\n",
    "                               np.where(df_q2['fatal (y/n)'] == 'N',\n",
    "                                False,\n",
    "                                np.nan))"
   ]
  },
  {
   "cell_type": "code",
   "execution_count": 513,
   "metadata": {
    "ExecuteTime": {
     "end_time": "2020-09-01T18:49:09.758030Z",
     "start_time": "2020-09-01T18:49:09.744067Z"
    }
   },
   "outputs": [
    {
     "data": {
      "text/plain": [
       "0.0    4166\n",
       "1.0    1238\n",
       "Name: check_death, dtype: int64"
      ]
     },
     "execution_count": 513,
     "metadata": {},
     "output_type": "execute_result"
    }
   ],
   "source": [
    "df_q2['check_death'].value_counts()"
   ]
  },
  {
   "cell_type": "code",
   "execution_count": 518,
   "metadata": {
    "ExecuteTime": {
     "end_time": "2020-09-01T18:50:34.056309Z",
     "start_time": "2020-09-01T18:50:34.032342Z"
    }
   },
   "outputs": [
    {
     "data": {
      "text/html": [
       "<div>\n",
       "<style scoped>\n",
       "    .dataframe tbody tr th:only-of-type {\n",
       "        vertical-align: middle;\n",
       "    }\n",
       "\n",
       "    .dataframe tbody tr th {\n",
       "        vertical-align: top;\n",
       "    }\n",
       "\n",
       "    .dataframe thead th {\n",
       "        text-align: right;\n",
       "    }\n",
       "</style>\n",
       "<table border=\"1\" class=\"dataframe\">\n",
       "  <thead>\n",
       "    <tr style=\"text-align: right;\">\n",
       "      <th></th>\n",
       "      <th>Mean_death</th>\n",
       "      <th>Std_Death</th>\n",
       "      <th>Count_death</th>\n",
       "    </tr>\n",
       "    <tr>\n",
       "      <th>sex</th>\n",
       "      <th></th>\n",
       "      <th></th>\n",
       "      <th></th>\n",
       "    </tr>\n",
       "  </thead>\n",
       "  <tbody>\n",
       "    <tr>\n",
       "      <th>F</th>\n",
       "      <td>0.177858</td>\n",
       "      <td>0.382741</td>\n",
       "      <td>551</td>\n",
       "    </tr>\n",
       "    <tr>\n",
       "      <th>M</th>\n",
       "      <td>0.236759</td>\n",
       "      <td>0.425141</td>\n",
       "      <td>4418</td>\n",
       "    </tr>\n",
       "    <tr>\n",
       "      <th>Unknown</th>\n",
       "      <td>0.216092</td>\n",
       "      <td>0.412052</td>\n",
       "      <td>435</td>\n",
       "    </tr>\n",
       "  </tbody>\n",
       "</table>\n",
       "</div>"
      ],
      "text/plain": [
       "         Mean_death  Std_Death  Count_death\n",
       "sex                                        \n",
       "F          0.177858   0.382741          551\n",
       "M          0.236759   0.425141         4418\n",
       "Unknown    0.216092   0.412052          435"
      ]
     },
     "execution_count": 518,
     "metadata": {},
     "output_type": "execute_result"
    }
   ],
   "source": [
    "df_q2.groupby(by='sex').agg(Mean_death = ('check_death', 'mean'),\n",
    "                           Std_Death = ('check_death', 'std'),\n",
    "                           Count_death = ('check_death', 'count'))"
   ]
  },
  {
   "cell_type": "code",
   "execution_count": 528,
   "metadata": {
    "ExecuteTime": {
     "end_time": "2020-09-01T19:16:45.429607Z",
     "start_time": "2020-09-01T19:16:45.413938Z"
    }
   },
   "outputs": [],
   "source": [
    "pop_male = df_q2[df_q2['sex'] == 'M']['check_death'].dropna()\n",
    "pop_female = df_q2[df_q2['sex'] == 'F']['check_death'].dropna()"
   ]
  },
  {
   "cell_type": "code",
   "execution_count": 529,
   "metadata": {
    "ExecuteTime": {
     "end_time": "2020-09-01T19:16:47.338527Z",
     "start_time": "2020-09-01T19:16:47.322569Z"
    }
   },
   "outputs": [
    {
     "data": {
      "text/plain": [
       "Ttest_indResult(statistic=3.0991587518744077, pvalue=0.0019515630735905507)"
      ]
     },
     "execution_count": 529,
     "metadata": {},
     "output_type": "execute_result"
    }
   ],
   "source": [
    "ttest_ind(pop_male, pop_female)"
   ]
  },
  {
   "cell_type": "markdown",
   "metadata": {
    "ExecuteTime": {
     "end_time": "2020-09-01T19:23:26.175318Z",
     "start_time": "2020-09-01T19:23:26.166345Z"
    }
   },
   "source": [
    "As we can see from the cell above, <font color='red'>**p-value is signficantly lower than 5% and infers that men are more prone to die by a shark attack.**</font>\n",
    "\n",
    "Few caveats to this assumption:\n",
    "> 1. There is a huge discrepancy when comparing the Ns of both populations (4418 vs 551)\n",
    "> 2. Men could be more prone to perform radical sports on the water, such as surfing, which might impact their chance of survival given a shark attack "
   ]
  },
  {
   "cell_type": "markdown",
   "metadata": {},
   "source": [
    "## What are the most letal shark-attacking regions of the world?"
   ]
  },
  {
   "cell_type": "code",
   "execution_count": 540,
   "metadata": {
    "ExecuteTime": {
     "end_time": "2020-09-01T19:34:39.045269Z",
     "start_time": "2020-09-01T19:34:39.018399Z"
    }
   },
   "outputs": [],
   "source": [
    "df_q3 = df_final.copy()\n",
    "\n",
    "df_q3['check_death'] = np.where(df_q3['fatal (y/n)'] == 'Y', \n",
    "                               True,\n",
    "                               np.where(df_q3['fatal (y/n)'] == 'N',\n",
    "                                False,\n",
    "                                np.nan))\n",
    "\n",
    "df_q3_grouped = df_q3.groupby(by='country').agg(Mean_death = ('check_death', 'mean'),\n",
    "                           Std_Death = ('check_death', 'std'),\n",
    "                           Count_death = ('check_death', 'count'))"
   ]
  },
  {
   "cell_type": "code",
   "execution_count": 541,
   "metadata": {
    "ExecuteTime": {
     "end_time": "2020-09-01T19:34:56.265037Z",
     "start_time": "2020-09-01T19:34:56.247083Z"
    }
   },
   "outputs": [
    {
     "data": {
      "text/html": [
       "<div>\n",
       "<style scoped>\n",
       "    .dataframe tbody tr th:only-of-type {\n",
       "        vertical-align: middle;\n",
       "    }\n",
       "\n",
       "    .dataframe tbody tr th {\n",
       "        vertical-align: top;\n",
       "    }\n",
       "\n",
       "    .dataframe thead th {\n",
       "        text-align: right;\n",
       "    }\n",
       "</style>\n",
       "<table border=\"1\" class=\"dataframe\">\n",
       "  <thead>\n",
       "    <tr style=\"text-align: right;\">\n",
       "      <th></th>\n",
       "      <th>Mean_death</th>\n",
       "      <th>Std_Death</th>\n",
       "      <th>Count_death</th>\n",
       "    </tr>\n",
       "    <tr>\n",
       "      <th>country</th>\n",
       "      <th></th>\n",
       "      <th></th>\n",
       "      <th></th>\n",
       "    </tr>\n",
       "  </thead>\n",
       "  <tbody>\n",
       "    <tr>\n",
       "      <th>Australia</th>\n",
       "      <td>0.231029</td>\n",
       "      <td>0.421669</td>\n",
       "      <td>1186</td>\n",
       "    </tr>\n",
       "    <tr>\n",
       "      <th>Bahamas</th>\n",
       "      <td>0.099010</td>\n",
       "      <td>0.300165</td>\n",
       "      <td>101</td>\n",
       "    </tr>\n",
       "    <tr>\n",
       "      <th>Brazil</th>\n",
       "      <td>0.372549</td>\n",
       "      <td>0.485871</td>\n",
       "      <td>102</td>\n",
       "    </tr>\n",
       "    <tr>\n",
       "      <th>Cuba</th>\n",
       "      <td>0.589744</td>\n",
       "      <td>0.498310</td>\n",
       "      <td>39</td>\n",
       "    </tr>\n",
       "    <tr>\n",
       "      <th>Egypt</th>\n",
       "      <td>0.342857</td>\n",
       "      <td>0.481594</td>\n",
       "      <td>35</td>\n",
       "    </tr>\n",
       "    <tr>\n",
       "      <th>Fiji</th>\n",
       "      <td>0.366667</td>\n",
       "      <td>0.485961</td>\n",
       "      <td>60</td>\n",
       "    </tr>\n",
       "    <tr>\n",
       "      <th>India</th>\n",
       "      <td>0.625000</td>\n",
       "      <td>0.491869</td>\n",
       "      <td>32</td>\n",
       "    </tr>\n",
       "    <tr>\n",
       "      <th>Italy</th>\n",
       "      <td>0.220000</td>\n",
       "      <td>0.418452</td>\n",
       "      <td>50</td>\n",
       "    </tr>\n",
       "    <tr>\n",
       "      <th>Japan</th>\n",
       "      <td>0.470588</td>\n",
       "      <td>0.506640</td>\n",
       "      <td>34</td>\n",
       "    </tr>\n",
       "    <tr>\n",
       "      <th>Mexico</th>\n",
       "      <td>0.551282</td>\n",
       "      <td>0.500582</td>\n",
       "      <td>78</td>\n",
       "    </tr>\n",
       "    <tr>\n",
       "      <th>Mozambique</th>\n",
       "      <td>0.500000</td>\n",
       "      <td>0.506712</td>\n",
       "      <td>38</td>\n",
       "    </tr>\n",
       "    <tr>\n",
       "      <th>New Caledonia</th>\n",
       "      <td>0.346154</td>\n",
       "      <td>0.480384</td>\n",
       "      <td>52</td>\n",
       "    </tr>\n",
       "    <tr>\n",
       "      <th>New Zealand</th>\n",
       "      <td>0.201754</td>\n",
       "      <td>0.403082</td>\n",
       "      <td>114</td>\n",
       "    </tr>\n",
       "    <tr>\n",
       "      <th>Papua New Guinea</th>\n",
       "      <td>0.439394</td>\n",
       "      <td>0.498204</td>\n",
       "      <td>132</td>\n",
       "    </tr>\n",
       "    <tr>\n",
       "      <th>Philippines</th>\n",
       "      <td>0.631579</td>\n",
       "      <td>0.486664</td>\n",
       "      <td>57</td>\n",
       "    </tr>\n",
       "    <tr>\n",
       "      <th>Réunion</th>\n",
       "      <td>0.491525</td>\n",
       "      <td>0.504219</td>\n",
       "      <td>59</td>\n",
       "    </tr>\n",
       "    <tr>\n",
       "      <th>South Africa</th>\n",
       "      <td>0.196040</td>\n",
       "      <td>0.397392</td>\n",
       "      <td>505</td>\n",
       "    </tr>\n",
       "    <tr>\n",
       "      <th>Spain</th>\n",
       "      <td>0.218750</td>\n",
       "      <td>0.420013</td>\n",
       "      <td>32</td>\n",
       "    </tr>\n",
       "    <tr>\n",
       "      <th>United Kingdom</th>\n",
       "      <td>0.111111</td>\n",
       "      <td>0.318728</td>\n",
       "      <td>36</td>\n",
       "    </tr>\n",
       "    <tr>\n",
       "      <th>United States</th>\n",
       "      <td>0.088911</td>\n",
       "      <td>0.284686</td>\n",
       "      <td>2002</td>\n",
       "    </tr>\n",
       "  </tbody>\n",
       "</table>\n",
       "</div>"
      ],
      "text/plain": [
       "                  Mean_death  Std_Death  Count_death\n",
       "country                                             \n",
       "Australia           0.231029   0.421669         1186\n",
       "Bahamas             0.099010   0.300165          101\n",
       "Brazil              0.372549   0.485871          102\n",
       "Cuba                0.589744   0.498310           39\n",
       "Egypt               0.342857   0.481594           35\n",
       "Fiji                0.366667   0.485961           60\n",
       "India               0.625000   0.491869           32\n",
       "Italy               0.220000   0.418452           50\n",
       "Japan               0.470588   0.506640           34\n",
       "Mexico              0.551282   0.500582           78\n",
       "Mozambique          0.500000   0.506712           38\n",
       "New Caledonia       0.346154   0.480384           52\n",
       "New Zealand         0.201754   0.403082          114\n",
       "Papua New Guinea    0.439394   0.498204          132\n",
       "Philippines         0.631579   0.486664           57\n",
       "Réunion             0.491525   0.504219           59\n",
       "South Africa        0.196040   0.397392          505\n",
       "Spain               0.218750   0.420013           32\n",
       "United Kingdom      0.111111   0.318728           36\n",
       "United States       0.088911   0.284686         2002"
      ]
     },
     "execution_count": 541,
     "metadata": {},
     "output_type": "execute_result"
    }
   ],
   "source": [
    "df_q3_grouped[df_q3_grouped['Count_death'] > 30]"
   ]
  },
  {
   "cell_type": "markdown",
   "metadata": {
    "ExecuteTime": {
     "end_time": "2020-09-01T19:23:26.175318Z",
     "start_time": "2020-09-01T19:23:26.166345Z"
    }
   },
   "source": [
    "As we can see from the table above, there are 4 countries (Philippines, India, Cuba and Mexico - excluding countries with less than 30 incidents) with a high incidence of death from a shark attack when compared to chance (c. 50%)\n",
    "\n",
    "Few caveats to this assumption:\n",
    "> 1. All above-mentioned countries have low Ns, which might imply that their healthcare systems are  not well-equipped to handling shark attacks (when compared to high N countries such as Australia and the US)\n",
    "\n",
    "Digging deeper now, focusing on countries' subregions...:"
   ]
  },
  {
   "cell_type": "code",
   "execution_count": 543,
   "metadata": {
    "ExecuteTime": {
     "end_time": "2020-09-01T19:43:53.607661Z",
     "start_time": "2020-09-01T19:43:53.580735Z"
    }
   },
   "outputs": [],
   "source": [
    "df_q3_grouped_region = df_q3.groupby(by=['country', 'area']).agg(Mean_death = ('check_death', 'mean'),\n",
    "                           Std_Death = ('check_death', 'std'),\n",
    "                           Count_death = ('check_death', 'count'))"
   ]
  },
  {
   "cell_type": "code",
   "execution_count": 548,
   "metadata": {
    "ExecuteTime": {
     "end_time": "2020-09-01T19:49:31.750567Z",
     "start_time": "2020-09-01T19:49:31.728593Z"
    }
   },
   "outputs": [
    {
     "data": {
      "text/html": [
       "<div>\n",
       "<style scoped>\n",
       "    .dataframe tbody tr th:only-of-type {\n",
       "        vertical-align: middle;\n",
       "    }\n",
       "\n",
       "    .dataframe tbody tr th {\n",
       "        vertical-align: top;\n",
       "    }\n",
       "\n",
       "    .dataframe thead th {\n",
       "        text-align: right;\n",
       "    }\n",
       "</style>\n",
       "<table border=\"1\" class=\"dataframe\">\n",
       "  <thead>\n",
       "    <tr style=\"text-align: right;\">\n",
       "      <th></th>\n",
       "      <th></th>\n",
       "      <th>Mean_death</th>\n",
       "      <th>Std_Death</th>\n",
       "      <th>Count_death</th>\n",
       "    </tr>\n",
       "    <tr>\n",
       "      <th>country</th>\n",
       "      <th>area</th>\n",
       "      <th></th>\n",
       "      <th></th>\n",
       "      <th></th>\n",
       "    </tr>\n",
       "  </thead>\n",
       "  <tbody>\n",
       "    <tr>\n",
       "      <th rowspan=\"7\" valign=\"top\">Australia</th>\n",
       "      <th>New South Wales</th>\n",
       "      <td>0.226107</td>\n",
       "      <td>0.418798</td>\n",
       "      <td>429</td>\n",
       "    </tr>\n",
       "    <tr>\n",
       "      <th>Queensland</th>\n",
       "      <td>0.258865</td>\n",
       "      <td>0.438790</td>\n",
       "      <td>282</td>\n",
       "    </tr>\n",
       "    <tr>\n",
       "      <th>South Australia</th>\n",
       "      <td>0.255102</td>\n",
       "      <td>0.438160</td>\n",
       "      <td>98</td>\n",
       "    </tr>\n",
       "    <tr>\n",
       "      <th>Tasmania</th>\n",
       "      <td>0.212121</td>\n",
       "      <td>0.415149</td>\n",
       "      <td>33</td>\n",
       "    </tr>\n",
       "    <tr>\n",
       "      <th>Torres Strait</th>\n",
       "      <td>0.338462</td>\n",
       "      <td>0.476869</td>\n",
       "      <td>65</td>\n",
       "    </tr>\n",
       "    <tr>\n",
       "      <th>Victoria</th>\n",
       "      <td>0.166667</td>\n",
       "      <td>0.375090</td>\n",
       "      <td>78</td>\n",
       "    </tr>\n",
       "    <tr>\n",
       "      <th>Western Australia</th>\n",
       "      <td>0.171779</td>\n",
       "      <td>0.378351</td>\n",
       "      <td>163</td>\n",
       "    </tr>\n",
       "    <tr>\n",
       "      <th>Brazil</th>\n",
       "      <th>Pernambuco</th>\n",
       "      <td>0.414286</td>\n",
       "      <td>0.496155</td>\n",
       "      <td>70</td>\n",
       "    </tr>\n",
       "    <tr>\n",
       "      <th rowspan=\"2\" valign=\"top\">New Zealand</th>\n",
       "      <th>North Island</th>\n",
       "      <td>0.206897</td>\n",
       "      <td>0.408619</td>\n",
       "      <td>58</td>\n",
       "    </tr>\n",
       "    <tr>\n",
       "      <th>South Island</th>\n",
       "      <td>0.194444</td>\n",
       "      <td>0.401386</td>\n",
       "      <td>36</td>\n",
       "    </tr>\n",
       "    <tr>\n",
       "      <th rowspan=\"3\" valign=\"top\">South Africa</th>\n",
       "      <th>Eastern Cape Province</th>\n",
       "      <td>0.149660</td>\n",
       "      <td>0.357957</td>\n",
       "      <td>147</td>\n",
       "    </tr>\n",
       "    <tr>\n",
       "      <th>KwaZulu-Natal</th>\n",
       "      <td>0.259036</td>\n",
       "      <td>0.439431</td>\n",
       "      <td>166</td>\n",
       "    </tr>\n",
       "    <tr>\n",
       "      <th>Western Cape Province</th>\n",
       "      <td>0.175824</td>\n",
       "      <td>0.381721</td>\n",
       "      <td>182</td>\n",
       "    </tr>\n",
       "    <tr>\n",
       "      <th rowspan=\"7\" valign=\"top\">United States</th>\n",
       "      <th>California</th>\n",
       "      <td>0.069767</td>\n",
       "      <td>0.255250</td>\n",
       "      <td>258</td>\n",
       "    </tr>\n",
       "    <tr>\n",
       "      <th>Florida</th>\n",
       "      <td>0.046073</td>\n",
       "      <td>0.209754</td>\n",
       "      <td>955</td>\n",
       "    </tr>\n",
       "    <tr>\n",
       "      <th>Hawaii</th>\n",
       "      <td>0.175781</td>\n",
       "      <td>0.381380</td>\n",
       "      <td>256</td>\n",
       "    </tr>\n",
       "    <tr>\n",
       "      <th>New Jersey</th>\n",
       "      <td>0.127660</td>\n",
       "      <td>0.337318</td>\n",
       "      <td>47</td>\n",
       "    </tr>\n",
       "    <tr>\n",
       "      <th>North Carolina</th>\n",
       "      <td>0.109890</td>\n",
       "      <td>0.314485</td>\n",
       "      <td>91</td>\n",
       "    </tr>\n",
       "    <tr>\n",
       "      <th>South Carolina</th>\n",
       "      <td>0.079710</td>\n",
       "      <td>0.271831</td>\n",
       "      <td>138</td>\n",
       "    </tr>\n",
       "    <tr>\n",
       "      <th>Texas</th>\n",
       "      <td>0.102941</td>\n",
       "      <td>0.306141</td>\n",
       "      <td>68</td>\n",
       "    </tr>\n",
       "  </tbody>\n",
       "</table>\n",
       "</div>"
      ],
      "text/plain": [
       "                                     Mean_death  Std_Death  Count_death\n",
       "country       area                                                     \n",
       "Australia     New South Wales          0.226107   0.418798          429\n",
       "              Queensland               0.258865   0.438790          282\n",
       "              South Australia          0.255102   0.438160           98\n",
       "              Tasmania                 0.212121   0.415149           33\n",
       "              Torres Strait            0.338462   0.476869           65\n",
       "              Victoria                 0.166667   0.375090           78\n",
       "              Western Australia        0.171779   0.378351          163\n",
       "Brazil        Pernambuco               0.414286   0.496155           70\n",
       "New Zealand   North Island             0.206897   0.408619           58\n",
       "              South Island             0.194444   0.401386           36\n",
       "South Africa  Eastern Cape Province    0.149660   0.357957          147\n",
       "              KwaZulu-Natal            0.259036   0.439431          166\n",
       "              Western Cape Province    0.175824   0.381721          182\n",
       "United States California               0.069767   0.255250          258\n",
       "              Florida                  0.046073   0.209754          955\n",
       "              Hawaii                   0.175781   0.381380          256\n",
       "              New Jersey               0.127660   0.337318           47\n",
       "              North Carolina           0.109890   0.314485           91\n",
       "              South Carolina           0.079710   0.271831          138\n",
       "              Texas                    0.102941   0.306141           68"
      ]
     },
     "execution_count": 548,
     "metadata": {},
     "output_type": "execute_result"
    }
   ],
   "source": [
    "df_q3_grouped_region[df_q3_grouped_region['Count_death'] > 30]"
   ]
  },
  {
   "cell_type": "markdown",
   "metadata": {
    "ExecuteTime": {
     "end_time": "2020-09-01T19:23:26.175318Z",
     "start_time": "2020-09-01T19:23:26.166345Z"
    }
   },
   "source": [
    "Finally, as we can see from the table above, <font color='red'>**Pernambuco in Brazil appears to be the most dangerous shark-attacking**</font> (with N>30 over the observed horizon - 1800-2018) region in the world (c. 41% deadly incidence).\n",
    "\n",
    "Few <font color='red'>**interesting insights**</font> from this assessment:\n",
    "> 1. High N regions in the US, such as Florida and California, have relatively lower fatality rate when compared to other regions' across the globe with similar Ns\n",
    "> 2. Australia has a wide range of fatality rate across its states - ranging from 17% in Victoria to 34% in Torres Straits\n",
    "> 3. New Zealand has very similar fatality rates over its two main islands"
   ]
  }
 ],
 "metadata": {
  "kernelspec": {
   "display_name": "Python 3",
   "language": "python",
   "name": "python3"
  },
  "language_info": {
   "codemirror_mode": {
    "name": "ipython",
    "version": 3
   },
   "file_extension": ".py",
   "mimetype": "text/x-python",
   "name": "python",
   "nbconvert_exporter": "python",
   "pygments_lexer": "ipython3",
   "version": "3.8.3"
  },
  "toc": {
   "base_numbering": 1,
   "nav_menu": {},
   "number_sections": true,
   "sideBar": true,
   "skip_h1_title": false,
   "title_cell": "Table of Contents",
   "title_sidebar": "Contents",
   "toc_cell": false,
   "toc_position": {},
   "toc_section_display": true,
   "toc_window_display": false
  }
 },
 "nbformat": 4,
 "nbformat_minor": 4
}
