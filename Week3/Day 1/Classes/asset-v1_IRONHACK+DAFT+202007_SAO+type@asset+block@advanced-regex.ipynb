{
 "cells": [
  {
   "cell_type": "markdown",
   "metadata": {},
   "source": [
    "# Advanced Regex"
   ]
  },
  {
   "cell_type": "markdown",
   "metadata": {},
   "source": [
    "## Regular Expression review\n",
    "\n",
    "- A powerful way to match text"
   ]
  },
  {
   "cell_type": "code",
   "execution_count": 1,
   "metadata": {
    "ExecuteTime": {
     "end_time": "2020-08-31T18:08:00.222362Z",
     "start_time": "2020-08-31T18:07:59.515629Z"
    }
   },
   "outputs": [],
   "source": [
    "import pandas as pd\n",
    "import numpy as np\n",
    "\n",
    "import re"
   ]
  },
  {
   "cell_type": "markdown",
   "metadata": {},
   "source": [
    "https://regexper.com/#%28%5E%7C%5C%28%29%3F"
   ]
  },
  {
   "cell_type": "code",
   "execution_count": 5,
   "metadata": {
    "ExecuteTime": {
     "end_time": "2020-08-31T18:15:44.572075Z",
     "start_time": "2020-08-31T18:15:44.566089Z"
    }
   },
   "outputs": [
    {
     "data": {
      "text/plain": [
       "'joao Andre aguiar'"
      ]
     },
     "execution_count": 5,
     "metadata": {},
     "output_type": "execute_result"
    }
   ],
   "source": [
    "'andre Andre aguiar'.replace('andre', 'joao')"
   ]
  },
  {
   "cell_type": "code",
   "execution_count": 6,
   "metadata": {
    "ExecuteTime": {
     "end_time": "2020-08-31T18:15:46.299810Z",
     "start_time": "2020-08-31T18:15:46.295820Z"
    }
   },
   "outputs": [],
   "source": [
    "text = \"That person wears marvelous trousers.\""
   ]
  },
  {
   "cell_type": "markdown",
   "metadata": {},
   "source": [
    "### `Literal strings` vs `sets`"
   ]
  },
  {
   "cell_type": "code",
   "execution_count": 8,
   "metadata": {
    "ExecuteTime": {
     "end_time": "2020-08-31T18:16:14.654384Z",
     "start_time": "2020-08-31T18:16:14.646883Z"
    }
   },
   "outputs": [
    {
     "data": {
      "text/plain": [
       "['person']"
      ]
     },
     "execution_count": 8,
     "metadata": {},
     "output_type": "execute_result"
    }
   ],
   "source": [
    "# literal strings: find the pattern 'person'\n",
    "pattern = 'person'\n",
    "re.findall(pattern, text)"
   ]
  },
  {
   "cell_type": "code",
   "execution_count": 10,
   "metadata": {
    "ExecuteTime": {
     "end_time": "2020-08-31T18:19:57.215567Z",
     "start_time": "2020-08-31T18:19:57.209585Z"
    }
   },
   "outputs": [
    {
     "data": {
      "text/plain": [
       "[]"
      ]
     },
     "execution_count": 10,
     "metadata": {},
     "output_type": "execute_result"
    }
   ],
   "source": [
    "pattern = 'persona'\n",
    "re.findall(pattern, text)"
   ]
  },
  {
   "cell_type": "code",
   "execution_count": 11,
   "metadata": {
    "ExecuteTime": {
     "end_time": "2020-08-31T18:19:59.033329Z",
     "start_time": "2020-08-31T18:19:59.026343Z"
    }
   },
   "outputs": [
    {
     "data": {
      "text/plain": [
       "'That man wears marvelous trousers.'"
      ]
     },
     "execution_count": 11,
     "metadata": {},
     "output_type": "execute_result"
    }
   ],
   "source": [
    "pattern = 'person'\n",
    "re.sub(pattern,'man', text)"
   ]
  },
  {
   "cell_type": "code",
   "execution_count": 12,
   "metadata": {
    "ExecuteTime": {
     "end_time": "2020-08-31T18:20:04.062437Z",
     "start_time": "2020-08-31T18:20:04.053461Z"
    }
   },
   "outputs": [
    {
     "name": "stdout",
     "output_type": "stream",
     "text": [
      "['p', 'e', 'r', 's', 'o', 'n', 'e', 'r', 's', 'r', 'e', 'o', 's', 'r', 'o', 's', 'e', 'r', 's']\n"
     ]
    }
   ],
   "source": [
    "# sets: Finding the pattern `p` or `e` or `r` or ...\n",
    "pattern = '[person]'\n",
    "print(re.findall(pattern, text))"
   ]
  },
  {
   "cell_type": "code",
   "execution_count": 13,
   "metadata": {
    "ExecuteTime": {
     "end_time": "2020-08-31T18:20:12.723544Z",
     "start_time": "2020-08-31T18:20:12.717560Z"
    }
   },
   "outputs": [
    {
     "data": {
      "text/plain": [
       "['andre', 'Andre']"
      ]
     },
     "execution_count": 13,
     "metadata": {},
     "output_type": "execute_result"
    }
   ],
   "source": [
    "text = 'andre Andre aguiar'\n",
    "\n",
    "pattern = '[Aa]ndre'\n",
    "re.findall(pattern, text)"
   ]
  },
  {
   "cell_type": "code",
   "execution_count": 14,
   "metadata": {
    "ExecuteTime": {
     "end_time": "2020-08-31T18:20:15.959295Z",
     "start_time": "2020-08-31T18:20:15.950316Z"
    }
   },
   "outputs": [
    {
     "name": "stdout",
     "output_type": "stream",
     "text": [
      "São Paulo\n",
      " São Paulo\n",
      " São Paulo\n",
      " São Paulo\n",
      " São Paulo\n",
      " São Paulo\n",
      " São Paulo\n",
      " São Paulo\n",
      " São Paulo\n",
      " São Paulo\n",
      "\n"
     ]
    }
   ],
   "source": [
    "text = 'São Paulo Sao Paulo Sáo Paulo Sun Paulo seu paulo san paolo sao paulo são paolo sAo Paolo sao_paulo'\n",
    "\n",
    "pattern = '[Ss][ãaáàâAÃÁÀâeu][oun][ _][Pp]a[uo]lo'\n",
    "print(re.sub(pattern, 'São Paulo\\n', text))"
   ]
  },
  {
   "cell_type": "code",
   "execution_count": 15,
   "metadata": {
    "ExecuteTime": {
     "end_time": "2020-08-31T18:20:30.699511Z",
     "start_time": "2020-08-31T18:20:30.692531Z"
    }
   },
   "outputs": [
    {
     "data": {
      "text/plain": [
       "['gray', 'grey']"
      ]
     },
     "execution_count": 15,
     "metadata": {},
     "output_type": "execute_result"
    }
   ],
   "source": [
    "text = \"Is it spelled gray or grey?\"\n",
    "\n",
    "pattern = 'gr[ae]y'\n",
    "re.findall(pattern, text)"
   ]
  },
  {
   "cell_type": "markdown",
   "metadata": {},
   "source": [
    "> So anything within brackets `[ ]` are considered `sets` in RegEx. A set of patterns you want to find. "
   ]
  },
  {
   "cell_type": "markdown",
   "metadata": {},
   "source": [
    "## Since it is a set, you can look for complete sets\n",
    "\n",
    "For example: The set of upper-case letters from A to C."
   ]
  },
  {
   "cell_type": "code",
   "execution_count": 16,
   "metadata": {
    "ExecuteTime": {
     "end_time": "2020-08-31T18:20:35.432967Z",
     "start_time": "2020-08-31T18:20:35.423475Z"
    }
   },
   "outputs": [
    {
     "data": {
      "text/plain": [
       "['A', 'B', 'C']"
      ]
     },
     "execution_count": 16,
     "metadata": {},
     "output_type": "execute_result"
    }
   ],
   "source": [
    "text = \"This is an A and B conversation, so C your way out of it, or Even F.\"\n",
    "\n",
    "pattern = '[A-C]'\n",
    "re.findall(pattern, text)"
   ]
  },
  {
   "cell_type": "code",
   "execution_count": 17,
   "metadata": {
    "ExecuteTime": {
     "end_time": "2020-08-31T18:20:38.460050Z",
     "start_time": "2020-08-31T18:20:38.450078Z"
    }
   },
   "outputs": [
    {
     "data": {
      "text/plain": [
       "['T', 'A', 'B', 'C', 'E', 'F']"
      ]
     },
     "execution_count": 17,
     "metadata": {},
     "output_type": "execute_result"
    }
   ],
   "source": [
    "pattern = '[A-Z]'\n",
    "re.findall(pattern, text)"
   ]
  },
  {
   "cell_type": "code",
   "execution_count": 18,
   "metadata": {
    "ExecuteTime": {
     "end_time": "2020-08-31T18:20:41.161707Z",
     "start_time": "2020-08-31T18:20:41.153729Z"
    }
   },
   "outputs": [
    {
     "data": {
      "text/plain": [
       "['1', '2', '3', '3']"
      ]
     },
     "execution_count": 18,
     "metadata": {},
     "output_type": "execute_result"
    }
   ],
   "source": [
    "text = \"I'm not going to 0A the party because 1) Karen is going, 2) I don't like her, and 3) 3B I already have a headache.\"\n",
    "\n",
    "pattern = '[1-3]'\n",
    "re.findall(pattern, text)"
   ]
  },
  {
   "cell_type": "code",
   "execution_count": 19,
   "metadata": {
    "ExecuteTime": {
     "end_time": "2020-08-31T18:20:47.475533Z",
     "start_time": "2020-08-31T18:20:47.469960Z"
    }
   },
   "outputs": [
    {
     "data": {
      "text/plain": [
       "['0', '1', '2', '3', '3']"
      ]
     },
     "execution_count": 19,
     "metadata": {},
     "output_type": "execute_result"
    }
   ],
   "source": [
    "pattern = '[0-9]'\n",
    "re.findall(pattern, text)"
   ]
  },
  {
   "cell_type": "code",
   "execution_count": null,
   "metadata": {},
   "outputs": [],
   "source": [
    "pattern = '[0-9A-Z]'\n",
    "re.findall(pattern, text)"
   ]
  },
  {
   "cell_type": "code",
   "execution_count": null,
   "metadata": {},
   "outputs": [],
   "source": [
    "# pattern = '[0123456789ABCDEFG..]'\n",
    "# re.findall(pattern, text)"
   ]
  },
  {
   "cell_type": "code",
   "execution_count": 20,
   "metadata": {
    "ExecuteTime": {
     "end_time": "2020-08-31T18:21:24.182236Z",
     "start_time": "2020-08-31T18:21:24.175526Z"
    }
   },
   "outputs": [
    {
     "data": {
      "text/plain": [
       "['0A', '3B']"
      ]
     },
     "execution_count": 20,
     "metadata": {},
     "output_type": "execute_result"
    }
   ],
   "source": [
    "pattern = '[0-9][A-Z]'\n",
    "re.findall(pattern, text)"
   ]
  },
  {
   "cell_type": "markdown",
   "metadata": {},
   "source": [
    "Some useful sets: \n",
    "\n",
    "* [a-z]: Any lowercase letter between a and z.\n",
    "* [A-Z]: Any uppercase letter between A and Z.\n",
    "* [0-9]: Any numeric character between 0 and 9."
   ]
  },
  {
   "cell_type": "code",
   "execution_count": null,
   "metadata": {
    "scrolled": true
   },
   "outputs": [],
   "source": [
    "pattern = '[^0-9 a-z]'\n",
    "re.findall(pattern, text)"
   ]
  },
  {
   "cell_type": "code",
   "execution_count": null,
   "metadata": {},
   "outputs": [],
   "source": []
  },
  {
   "cell_type": "markdown",
   "metadata": {},
   "source": [
    "# Meta characters - They means something different than the character they represent."
   ]
  },
  {
   "cell_type": "markdown",
   "metadata": {},
   "source": [
    "* `.` : Match **any character** except newline (`\\n`)\n",
    "* `^` : If used within a `set`, negates the condition (similar to `~` in python)\n",
    "> Careful, this pattern also represents another thing: If used <u>outside a set</u>, it represents `match if at the beginning of the line`\n",
    "* `$` : Match if at end of the line\n",
    "* `|` : \"OR\" operator"
   ]
  },
  {
   "cell_type": "markdown",
   "metadata": {},
   "source": [
    "## OR"
   ]
  },
  {
   "cell_type": "code",
   "execution_count": 21,
   "metadata": {
    "ExecuteTime": {
     "end_time": "2020-08-31T18:22:04.573915Z",
     "start_time": "2020-08-31T18:22:04.570068Z"
    }
   },
   "outputs": [],
   "source": [
    "text = 'Andre andre'"
   ]
  },
  {
   "cell_type": "code",
   "execution_count": 22,
   "metadata": {
    "ExecuteTime": {
     "end_time": "2020-08-31T18:22:06.374407Z",
     "start_time": "2020-08-31T18:22:06.367430Z"
    }
   },
   "outputs": [
    {
     "data": {
      "text/plain": [
       "['A', 'a']"
      ]
     },
     "execution_count": 22,
     "metadata": {},
     "output_type": "execute_result"
    }
   ],
   "source": [
    "pattern = '[Aa]'\n",
    "re.findall(pattern, text)"
   ]
  },
  {
   "cell_type": "code",
   "execution_count": 23,
   "metadata": {
    "ExecuteTime": {
     "end_time": "2020-08-31T18:22:08.842670Z",
     "start_time": "2020-08-31T18:22:08.835690Z"
    }
   },
   "outputs": [
    {
     "data": {
      "text/plain": [
       "['A', 'a']"
      ]
     },
     "execution_count": 23,
     "metadata": {},
     "output_type": "execute_result"
    }
   ],
   "source": [
    "pattern = 'A|a'\n",
    "re.findall(pattern, text)"
   ]
  },
  {
   "cell_type": "code",
   "execution_count": 24,
   "metadata": {
    "ExecuteTime": {
     "end_time": "2020-08-31T18:22:34.409216Z",
     "start_time": "2020-08-31T18:22:34.401275Z"
    }
   },
   "outputs": [
    {
     "data": {
      "text/plain": [
       "['penguins', 'lions', 'penguins', 'lions']"
      ]
     },
     "execution_count": 24,
     "metadata": {},
     "output_type": "execute_result"
    }
   ],
   "source": [
    "text = '''\n",
    "I like penguins\n",
    "I like lions\n",
    "I like penguins and lions\n",
    "'''\n",
    "\n",
    "pattern = 'penguins|lions'\n",
    "re.findall(pattern, text)"
   ]
  },
  {
   "cell_type": "code",
   "execution_count": 27,
   "metadata": {
    "ExecuteTime": {
     "end_time": "2020-08-31T18:23:00.072339Z",
     "start_time": "2020-08-31T18:23:00.066334Z"
    }
   },
   "outputs": [
    {
     "name": "stdout",
     "output_type": "stream",
     "text": [
      "\n",
      "I like dogs\n",
      "I like dogs\n",
      "I like dogs and dogs\n",
      "\n"
     ]
    }
   ],
   "source": [
    "print(re.sub(pattern, 'dogs', text))"
   ]
  },
  {
   "cell_type": "markdown",
   "metadata": {},
   "source": [
    "## Match any character"
   ]
  },
  {
   "cell_type": "code",
   "execution_count": 28,
   "metadata": {
    "ExecuteTime": {
     "end_time": "2020-08-31T18:23:58.409443Z",
     "start_time": "2020-08-31T18:23:58.402415Z"
    }
   },
   "outputs": [
    {
     "name": "stdout",
     "output_type": "stream",
     "text": [
      "['M', 'y', ' ', 'b', 'o', 's', 's', ' ', 'a', 's', 'k', 'e', 'd', ' ', 'm', 'e', ' ', 't', 'o', ' ', 't', 'u', 'r', 'n', ' ', 'i', 'n', ' ', 'm', 'y', ' ', 'T', 'P', 'S', ' ', 'r', 'e', 'p', 'o', 'r', 't', 's', '.', ' ', 'I', ' ', 't', 'o', 'l', 'd', ' ', 'h', 'i', 'm', ' ', 't', 'h', 'e', 'y', ' ', 'w', 'e', 'r', 'e', ' ', 'd', 'o', 'n', 'e', ',', ' ', 'b', 'u', 't', ' ', 't', 'h', 'e', 'y', ' ', 'a', 'r', 'e', ' ', 'n', 'o', 't', '.']\n"
     ]
    }
   ],
   "source": [
    "text = \"\"\"My boss asked me to turn in my TPS reports. \n",
    "I told him they were done, but they are not.\"\"\"\n",
    "\n",
    "pattern = '.'\n",
    "print(re.findall(pattern, text))"
   ]
  },
  {
   "cell_type": "markdown",
   "metadata": {},
   "source": [
    "## Match everything not in specific set"
   ]
  },
  {
   "cell_type": "code",
   "execution_count": 29,
   "metadata": {
    "ExecuteTime": {
     "end_time": "2020-08-31T18:24:01.249474Z",
     "start_time": "2020-08-31T18:24:01.245486Z"
    }
   },
   "outputs": [],
   "source": [
    "text = \"\"\"My boss asked me to turn in my TPS reports. \n",
    "I told him they were done, but they are not.\"\"\""
   ]
  },
  {
   "cell_type": "code",
   "execution_count": 30,
   "metadata": {
    "ExecuteTime": {
     "end_time": "2020-08-31T18:24:07.181681Z",
     "start_time": "2020-08-31T18:24:07.175703Z"
    }
   },
   "outputs": [
    {
     "name": "stdout",
     "output_type": "stream",
     "text": [
      "['M', 'y', ' ', 'o', 's', 's', ' ', 's', ' ', ' ', 't', 'o', ' ', 't', 'u', 'r', 'n', ' ', 'n', ' ', 'y', ' ', 'T', 'P', 'S', ' ', 'r', 'p', 'o', 'r', 't', 's', '.', ' ', '\\n', 'I', ' ', 't', 'o', ' ', ' ', 't', 'y', ' ', 'w', 'r', ' ', 'o', 'n', ',', ' ', 'u', 't', ' ', 't', 'y', ' ', 'r', ' ', 'n', 'o', 't', '.']\n"
     ]
    }
   ],
   "source": [
    "pattern = '[^a-m]'\n",
    "print(re.findall(pattern, text))"
   ]
  },
  {
   "cell_type": "markdown",
   "metadata": {},
   "source": [
    "## Match sentences `beginning with pattern`"
   ]
  },
  {
   "cell_type": "code",
   "execution_count": 40,
   "metadata": {
    "ExecuteTime": {
     "end_time": "2020-08-31T18:28:09.292656Z",
     "start_time": "2020-08-31T18:28:09.286672Z"
    }
   },
   "outputs": [],
   "source": [
    "text = '''My boss asked me to turn in my TPS reports. \n",
    "The boss told him they were done, but they are not.'''"
   ]
  },
  {
   "cell_type": "code",
   "execution_count": 42,
   "metadata": {
    "ExecuteTime": {
     "end_time": "2020-08-31T18:28:16.606374Z",
     "start_time": "2020-08-31T18:28:16.601363Z"
    }
   },
   "outputs": [
    {
     "name": "stdout",
     "output_type": "stream",
     "text": [
      "['My boss']\n"
     ]
    }
   ],
   "source": [
    "pattern = '^My.boss'\n",
    "print(re.findall(pattern, text))"
   ]
  },
  {
   "cell_type": "code",
   "execution_count": 32,
   "metadata": {
    "ExecuteTime": {
     "end_time": "2020-08-31T18:26:35.615629Z",
     "start_time": "2020-08-31T18:26:35.610643Z"
    }
   },
   "outputs": [
    {
     "name": "stdout",
     "output_type": "stream",
     "text": [
      "[]\n"
     ]
    }
   ],
   "source": [
    "pattern = '^[The boss]'\n",
    "print(re.findall(pattern, text))"
   ]
  },
  {
   "cell_type": "code",
   "execution_count": 33,
   "metadata": {
    "ExecuteTime": {
     "end_time": "2020-08-31T18:26:38.350019Z",
     "start_time": "2020-08-31T18:26:38.344035Z"
    }
   },
   "outputs": [
    {
     "name": "stdout",
     "output_type": "stream",
     "text": [
      "[]\n"
     ]
    }
   ],
   "source": [
    "pattern = '^turn'\n",
    "print(re.findall(pattern, text))"
   ]
  },
  {
   "cell_type": "code",
   "execution_count": 34,
   "metadata": {
    "ExecuteTime": {
     "end_time": "2020-08-31T18:26:53.430122Z",
     "start_time": "2020-08-31T18:26:53.424139Z"
    }
   },
   "outputs": [
    {
     "name": "stdout",
     "output_type": "stream",
     "text": [
      "[]\n"
     ]
    }
   ],
   "source": [
    "pattern = 'reports.$'\n",
    "print(re.findall(pattern, text))"
   ]
  },
  {
   "cell_type": "code",
   "execution_count": 35,
   "metadata": {
    "ExecuteTime": {
     "end_time": "2020-08-31T18:26:57.494108Z",
     "start_time": "2020-08-31T18:26:57.487130Z"
    }
   },
   "outputs": [
    {
     "name": "stdout",
     "output_type": "stream",
     "text": [
      "['are not.']\n"
     ]
    }
   ],
   "source": [
    "pattern = 'are not.$'\n",
    "print(re.findall(pattern, text))"
   ]
  },
  {
   "cell_type": "code",
   "execution_count": 36,
   "metadata": {
    "ExecuteTime": {
     "end_time": "2020-08-31T18:27:06.179864Z",
     "start_time": "2020-08-31T18:27:06.175037Z"
    }
   },
   "outputs": [
    {
     "name": "stdout",
     "output_type": "stream",
     "text": [
      "['A', 'n', 'd', 'r', 'e', ' ', 'a', 'n', 'd', 'r', 'e', ' ', 'a', 'o', 'i', 'j', 'o', ' ', '(', ' ', ' ', '$', ' ', 'p', ' ', 'i', 'o', ' ', 'x', ' ', '-', 'o', ' ', '=', ' ', '3', '2', '3', '2', ' ', '1', '3', ' ', '™', '¡', '¡', '™', '£', '¡', 'Ω', 'å']\n"
     ]
    }
   ],
   "source": [
    "text = 'Andre andre aoijo (  $ p io x -o = 3232 13 ™¡¡™£¡Ωå'\n",
    "\n",
    "pattern = '.'\n",
    "print(re.findall(pattern, text))"
   ]
  },
  {
   "cell_type": "markdown",
   "metadata": {},
   "source": [
    "## Characters classes\n",
    "\n",
    "* `\\d`: numeric characters\n",
    "* `\\w`: alphanumeric characters \n",
    "* `\\s`: spaces\n",
    "* `\\D`: not numeric characters"
   ]
  },
  {
   "cell_type": "code",
   "execution_count": 43,
   "metadata": {
    "ExecuteTime": {
     "end_time": "2020-08-31T18:29:01.215979Z",
     "start_time": "2020-08-31T18:29:01.208009Z"
    }
   },
   "outputs": [
    {
     "name": "stdout",
     "output_type": "stream",
     "text": [
      "['3', '2', '3', '2', '1', '3', '3', '1']\n"
     ]
    }
   ],
   "source": [
    "text = 'Andre andre aoijo (  $ p io x -o = 3232 13 ™¡¡™£¡Ωå 3.1 áéóãà'\n",
    "\n",
    "pattern = '\\d'\n",
    "print(re.findall(pattern, text))"
   ]
  },
  {
   "cell_type": "code",
   "execution_count": 44,
   "metadata": {
    "ExecuteTime": {
     "end_time": "2020-08-31T18:31:49.243861Z",
     "start_time": "2020-08-31T18:31:49.238620Z"
    }
   },
   "outputs": [
    {
     "name": "stdout",
     "output_type": "stream",
     "text": [
      "['A', 'n', 'd', 'r', 'e', ' ', 'a', 'n', 'd', 'r', 'e', ' ', 'a', 'o', 'i', 'j', 'o', ' ', '(', ' ', ' ', '$', ' ', 'p', ' ', 'i', 'o', ' ', 'x', ' ', '-', 'o', ' ', '=', ' ', ' ', ' ', '™', '¡', '¡', '™', '£', '¡', 'Ω', 'å', ' ', '.', ' ', 'á', 'é', 'ó', 'ã', 'à']\n"
     ]
    }
   ],
   "source": [
    "pattern = '[^\\d]'\n",
    "# pattern = '\\D'\n",
    "\n",
    "print(re.findall(pattern, text))"
   ]
  },
  {
   "cell_type": "code",
   "execution_count": 45,
   "metadata": {
    "ExecuteTime": {
     "end_time": "2020-08-31T18:31:53.147159Z",
     "start_time": "2020-08-31T18:31:53.142174Z"
    }
   },
   "outputs": [
    {
     "name": "stdout",
     "output_type": "stream",
     "text": [
      "['A', 'n', 'd', 'r', 'e', 'a', 'n', 'd', 'r', 'e', 'a', 'o', 'i', 'j', 'o', 'p', 'i', 'o', 'x', 'o', '3', '2', '3', '2', '1', '3', 'Ω', 'å', '3', '1', 'á', 'é', 'ó', 'ã', 'à']\n"
     ]
    }
   ],
   "source": [
    "pattern = '\\w'\n",
    "\n",
    "print(re.findall(pattern, text))"
   ]
  },
  {
   "cell_type": "markdown",
   "metadata": {},
   "source": [
    "# Quantifiers "
   ]
  },
  {
   "cell_type": "markdown",
   "metadata": {},
   "source": [
    "* *: Matches previous character 0 or more times\n",
    "* +: Matches previous character 1 or more times\n",
    "* ?: Matches previous character 0 or 1 times (optional)\n",
    "* {}: Matches previous characters however many times specified within:\n",
    "* {n} : Exactly n times\n",
    "* {n,} : At least n times\n",
    "* {n,m} : Between n and m times"
   ]
  },
  {
   "cell_type": "markdown",
   "metadata": {},
   "source": [
    "## \\d* --> Matches any numeric character that appears 0 or more times."
   ]
  },
  {
   "cell_type": "code",
   "execution_count": 49,
   "metadata": {
    "ExecuteTime": {
     "end_time": "2020-08-31T18:34:16.559576Z",
     "start_time": "2020-08-31T18:34:16.553890Z"
    }
   },
   "outputs": [
    {
     "name": "stdout",
     "output_type": "stream",
     "text": [
      "['', '', '', '', '', '', '', '', '', '', '', '', '', '', '', '', '', '', '', '', '', '', '', '', '', '', '', '', '', '', '', '', '', '', '', '3232', '', '13', '', '', '', '', '', '', '', '', '', '', '3', '', '1', '', '', '', '', '', '', '']\n"
     ]
    }
   ],
   "source": [
    "text = 'Andre andre aoijo (  $ p io x -o = 3232 13 ™¡¡™£¡Ωå 3.1 áéóãà'\n",
    "\n",
    "pattern = '\\d*'\n",
    "print(re.findall(pattern, text))"
   ]
  },
  {
   "cell_type": "code",
   "execution_count": null,
   "metadata": {},
   "outputs": [],
   "source": [
    "## \\d+ --> Matches any numeric character that appears 1 or more times."
   ]
  },
  {
   "cell_type": "code",
   "execution_count": 50,
   "metadata": {
    "ExecuteTime": {
     "end_time": "2020-08-31T18:39:30.653915Z",
     "start_time": "2020-08-31T18:39:30.647929Z"
    }
   },
   "outputs": [
    {
     "name": "stdout",
     "output_type": "stream",
     "text": [
      "['3232', '13', '3', '1']\n"
     ]
    }
   ],
   "source": [
    "text = 'Andre andre aoijo (  $ p io x -o = 3232 13 ™¡¡™£¡Ωå 3.1 áéóãà'\n",
    "\n",
    "pattern = '\\d+'\n",
    "print(re.findall(pattern, text))"
   ]
  },
  {
   "cell_type": "code",
   "execution_count": 51,
   "metadata": {
    "ExecuteTime": {
     "end_time": "2020-08-31T18:39:38.306609Z",
     "start_time": "2020-08-31T18:39:38.299648Z"
    }
   },
   "outputs": [
    {
     "name": "stdout",
     "output_type": "stream",
     "text": [
      "['3232', '13', '3.1']\n"
     ]
    }
   ],
   "source": [
    "text = 'Andre andre aoijo (  $ p io x -o = 3232 13 ™¡¡™£¡Ωå 3.1 áéóãà'\n",
    "\n",
    "pattern = '\\d+\\.?\\d+'\n",
    "print(re.findall(pattern, text))"
   ]
  },
  {
   "cell_type": "code",
   "execution_count": 58,
   "metadata": {
    "ExecuteTime": {
     "end_time": "2020-08-31T18:42:21.396817Z",
     "start_time": "2020-08-31T18:42:21.392829Z"
    }
   },
   "outputs": [],
   "source": [
    "text = 'Oi, meu nome é Andre, meu telefone é 93333-3333 ou 933333333, meu e-mail é andre.aguiar@ironhack.com'"
   ]
  },
  {
   "cell_type": "code",
   "execution_count": 53,
   "metadata": {
    "ExecuteTime": {
     "end_time": "2020-08-31T18:39:42.310458Z",
     "start_time": "2020-08-31T18:39:42.305371Z"
    }
   },
   "outputs": [
    {
     "data": {
      "text/plain": [
       "['9333', '3333', '9333', '3333']"
      ]
     },
     "execution_count": 53,
     "metadata": {},
     "output_type": "execute_result"
    }
   ],
   "source": [
    "re.findall('\\d{4}', text)"
   ]
  },
  {
   "cell_type": "code",
   "execution_count": 54,
   "metadata": {
    "ExecuteTime": {
     "end_time": "2020-08-31T18:39:51.036393Z",
     "start_time": "2020-08-31T18:39:51.030407Z"
    }
   },
   "outputs": [
    {
     "data": {
      "text/plain": [
       "['93333', '93333']"
      ]
     },
     "execution_count": 54,
     "metadata": {},
     "output_type": "execute_result"
    }
   ],
   "source": [
    "re.findall('\\d{5}', text)"
   ]
  },
  {
   "cell_type": "code",
   "execution_count": 55,
   "metadata": {
    "ExecuteTime": {
     "end_time": "2020-08-31T18:39:53.347362Z",
     "start_time": "2020-08-31T18:39:53.340380Z"
    }
   },
   "outputs": [
    {
     "data": {
      "text/plain": [
       "'Oi, meu nome é Andre, meu telefone é 100100100100100-100100100100 ou 100100100100100100100100100, meu e-mail é andre.aguiar@ironhack.com'"
      ]
     },
     "execution_count": 55,
     "metadata": {},
     "output_type": "execute_result"
    }
   ],
   "source": [
    "re.sub('\\d', '100', text)"
   ]
  },
  {
   "cell_type": "code",
   "execution_count": 60,
   "metadata": {
    "ExecuteTime": {
     "end_time": "2020-08-31T18:51:16.490066Z",
     "start_time": "2020-08-31T18:51:16.482089Z"
    }
   },
   "outputs": [
    {
     "data": {
      "text/plain": [
       "'Oi, meu nome é Andre, meu telefone é 1003-100 ou 1001003, meu e-mail é andre.aguiar@ironhack.com'"
      ]
     },
     "execution_count": 60,
     "metadata": {},
     "output_type": "execute_result"
    }
   ],
   "source": [
    "re.sub('\\d{4}', '100', text)"
   ]
  },
  {
   "cell_type": "code",
   "execution_count": 61,
   "metadata": {
    "ExecuteTime": {
     "end_time": "2020-08-31T18:51:18.231479Z",
     "start_time": "2020-08-31T18:51:18.224498Z"
    }
   },
   "outputs": [
    {
     "data": {
      "text/plain": [
       "'Oi, meu nome é Andre, meu telefone é 100 ou 100, meu e-mail é andre.aguiar@ironhack.com'"
      ]
     },
     "execution_count": 61,
     "metadata": {},
     "output_type": "execute_result"
    }
   ],
   "source": [
    "re.sub('\\d+-?\\d+', '100', text)"
   ]
  },
  {
   "cell_type": "markdown",
   "metadata": {},
   "source": [
    "## Application of previous example of `$` using one of the most useful quantifiers `*`"
   ]
  },
  {
   "cell_type": "code",
   "execution_count": 73,
   "metadata": {
    "ExecuteTime": {
     "end_time": "2020-08-31T19:25:33.046439Z",
     "start_time": "2020-08-31T19:25:33.040455Z"
    }
   },
   "outputs": [],
   "source": [
    "text = '''My boss asked me to turn in my TPS reports. My boss told him they were done, but they are not.'''"
   ]
  },
  {
   "cell_type": "code",
   "execution_count": 74,
   "metadata": {
    "ExecuteTime": {
     "end_time": "2020-08-31T19:25:33.325218Z",
     "start_time": "2020-08-31T19:25:33.319234Z"
    }
   },
   "outputs": [
    {
     "name": "stdout",
     "output_type": "stream",
     "text": [
      "['are not.']\n"
     ]
    }
   ],
   "source": [
    "pattern = 'are not\\.$'\n",
    "print(re.findall(pattern, text))"
   ]
  },
  {
   "cell_type": "code",
   "execution_count": 77,
   "metadata": {
    "ExecuteTime": {
     "end_time": "2020-08-31T19:25:48.576634Z",
     "start_time": "2020-08-31T19:25:48.571647Z"
    }
   },
   "outputs": [
    {
     "name": "stdout",
     "output_type": "stream",
     "text": [
      "['My boss asked me to turn in my TPS reports. My boss told him they were done, but they are not.']\n"
     ]
    }
   ],
   "source": [
    "pattern = '.*are not\\.$'\n",
    "print(re.findall(pattern, text))"
   ]
  },
  {
   "cell_type": "code",
   "execution_count": null,
   "metadata": {},
   "outputs": [],
   "source": [
    "pattern = '.*\\n.*are not\\.$'\n",
    "print(re.findall(pattern, text))"
   ]
  },
  {
   "cell_type": "code",
   "execution_count": null,
   "metadata": {},
   "outputs": [],
   "source": [
    "text"
   ]
  },
  {
   "cell_type": "code",
   "execution_count": null,
   "metadata": {},
   "outputs": [],
   "source": [
    "pattern = ',.*are not.$'\n",
    "print(re.findall(pattern, text))"
   ]
  },
  {
   "cell_type": "code",
   "execution_count": null,
   "metadata": {},
   "outputs": [],
   "source": [
    "text = '''My boss asked, me to turn in my TPS reports. \n",
    "My boss told, him they were done, but they, are not.'''"
   ]
  },
  {
   "cell_type": "code",
   "execution_count": null,
   "metadata": {},
   "outputs": [],
   "source": [
    "pattern = ',.*are not.$'\n",
    "print(re.findall(pattern, text))"
   ]
  },
  {
   "cell_type": "code",
   "execution_count": null,
   "metadata": {},
   "outputs": [],
   "source": [
    "text = '''My boss asked, me to turn in my TPS reports. \n",
    "My boss (told him they) were done (but they) are not.'''"
   ]
  },
  {
   "cell_type": "code",
   "execution_count": null,
   "metadata": {},
   "outputs": [],
   "source": [
    "\n",
    "pattern = '\\(.*?\\)'\n",
    "print(re.findall(pattern, text))"
   ]
  },
  {
   "cell_type": "code",
   "execution_count": null,
   "metadata": {},
   "outputs": [],
   "source": [
    "re.findall('coisas?','coisa coisas')"
   ]
  },
  {
   "cell_type": "markdown",
   "metadata": {},
   "source": [
    "# Capturing group"
   ]
  },
  {
   "cell_type": "markdown",
   "metadata": {},
   "source": [
    "What if I wanted to capture only things up until the comma (`,`), however, not include the comma?\n",
    "\n",
    "I would have to use a capturing group to specify what specifically I want to capture."
   ]
  },
  {
   "cell_type": "code",
   "execution_count": 83,
   "metadata": {
    "ExecuteTime": {
     "end_time": "2020-08-31T19:35:11.193768Z",
     "start_time": "2020-08-31T19:35:11.190773Z"
    }
   },
   "outputs": [],
   "source": [
    "text = '''My boss asked, me to turn in my TPS reports. \n",
    "My boss (told him they) were done (but they) are not.'''"
   ]
  },
  {
   "cell_type": "code",
   "execution_count": 84,
   "metadata": {
    "ExecuteTime": {
     "end_time": "2020-08-31T19:35:11.711945Z",
     "start_time": "2020-08-31T19:35:11.706958Z"
    }
   },
   "outputs": [
    {
     "name": "stdout",
     "output_type": "stream",
     "text": [
      "['told him they', 'but they']\n"
     ]
    }
   ],
   "source": [
    "pattern = '\\((.*?)\\)'\n",
    "print(re.findall(pattern, text))"
   ]
  },
  {
   "cell_type": "code",
   "execution_count": 81,
   "metadata": {
    "ExecuteTime": {
     "end_time": "2020-08-31T19:34:54.323824Z",
     "start_time": "2020-08-31T19:34:54.319837Z"
    }
   },
   "outputs": [],
   "source": [
    "text = '''My boss asked, me to turn in my TPS reports. \n",
    "My boss -told him they- were done -but they- are not.'''"
   ]
  },
  {
   "cell_type": "code",
   "execution_count": 85,
   "metadata": {
    "ExecuteTime": {
     "end_time": "2020-08-31T19:35:59.518090Z",
     "start_time": "2020-08-31T19:35:59.514092Z"
    }
   },
   "outputs": [
    {
     "name": "stdout",
     "output_type": "stream",
     "text": [
      "[]\n"
     ]
    }
   ],
   "source": [
    "pattern = '-(.*?)-'\n",
    "print(re.findall(pattern, text))"
   ]
  },
  {
   "cell_type": "code",
   "execution_count": 86,
   "metadata": {
    "ExecuteTime": {
     "end_time": "2020-08-31T19:36:00.995665Z",
     "start_time": "2020-08-31T19:36:00.989681Z"
    }
   },
   "outputs": [
    {
     "name": "stdout",
     "output_type": "stream",
     "text": [
      "[]\n"
     ]
    }
   ],
   "source": [
    "pattern = '-(.*?)-'\n",
    "print(re.findall(pattern, text))"
   ]
  },
  {
   "cell_type": "code",
   "execution_count": null,
   "metadata": {},
   "outputs": [],
   "source": [
    "text = '''My boss asked, me to turn in my TPS reports. \n",
    "My boss told, him they were done, but they, are ,not.'''"
   ]
  },
  {
   "cell_type": "code",
   "execution_count": null,
   "metadata": {},
   "outputs": [],
   "source": [
    "pattern = ',(.*?),'\n",
    "print(re.findall(pattern, text))"
   ]
  },
  {
   "cell_type": "code",
   "execution_count": 87,
   "metadata": {
    "ExecuteTime": {
     "end_time": "2020-08-31T19:37:42.395180Z",
     "start_time": "2020-08-31T19:37:42.390161Z"
    }
   },
   "outputs": [
    {
     "name": "stdout",
     "output_type": "stream",
     "text": [
      "['TerraPower', 'Bill', 'Gates', 'China', 'Trump']\n"
     ]
    }
   ],
   "source": [
    "text = \"TerraPower, a nuclear-energy company founded by Bill Gates, is unlikely to follow through on building a demonstration reactor in China, due largely to the Trump administration’s crackdown on the country.\"\n",
    "\n",
    "pattern = '[A-Z][a-zA-Z]+'\n",
    "print(re.findall(pattern, text))"
   ]
  },
  {
   "cell_type": "code",
   "execution_count": 88,
   "metadata": {
    "ExecuteTime": {
     "end_time": "2020-08-31T19:39:45.204683Z",
     "start_time": "2020-08-31T19:39:45.199697Z"
    }
   },
   "outputs": [],
   "source": [
    "pattern = '([A-Z][a-zA-Z]+ ?[A-Z][a-zA-Z]+)|([A-Z][a-z]+)'"
   ]
  },
  {
   "cell_type": "code",
   "execution_count": 90,
   "metadata": {
    "ExecuteTime": {
     "end_time": "2020-08-31T19:40:22.665351Z",
     "start_time": "2020-08-31T19:40:22.659369Z"
    }
   },
   "outputs": [
    {
     "name": "stdout",
     "output_type": "stream",
     "text": [
      "[('TerraPower', ''), ('Bill Gates', ''), ('', 'China'), ('', 'Trump')]\n"
     ]
    }
   ],
   "source": [
    "print(re.findall(pattern, text))"
   ]
  },
  {
   "cell_type": "code",
   "execution_count": 91,
   "metadata": {
    "ExecuteTime": {
     "end_time": "2020-08-31T19:40:25.465185Z",
     "start_time": "2020-08-31T19:40:25.455210Z"
    }
   },
   "outputs": [],
   "source": [
    "simple_names = [name[1] for name in re.findall(pattern, text) if name[1] != '']\n",
    "combined_names = [name[0] for name in re.findall(pattern, text) if name[0] != '']"
   ]
  },
  {
   "cell_type": "code",
   "execution_count": 92,
   "metadata": {
    "ExecuteTime": {
     "end_time": "2020-08-31T19:40:27.959767Z",
     "start_time": "2020-08-31T19:40:27.953783Z"
    }
   },
   "outputs": [
    {
     "data": {
      "text/plain": [
       "['TerraPower', 'Bill Gates']"
      ]
     },
     "execution_count": 92,
     "metadata": {},
     "output_type": "execute_result"
    }
   ],
   "source": [
    "combined_names"
   ]
  },
  {
   "cell_type": "code",
   "execution_count": null,
   "metadata": {},
   "outputs": [],
   "source": [
    "pattern = '([A-Z][a-z]+)|([A-Z][a-zA-Z]+ ?[A-Z][a-zA-Z]+)'"
   ]
  },
  {
   "cell_type": "code",
   "execution_count": null,
   "metadata": {},
   "outputs": [],
   "source": [
    "print(re.findall(pattern, text))"
   ]
  },
  {
   "cell_type": "markdown",
   "metadata": {},
   "source": [
    "## Using quantifiers again\n",
    "\n",
    "> `*` matches **0 or more** times"
   ]
  },
  {
   "cell_type": "code",
   "execution_count": null,
   "metadata": {},
   "outputs": [],
   "source": [
    "text = \"The cacat complicit cat interacted with the other cats exactly as we expected caaaat.\"\n",
    "\n",
    "pattern = \"ca?\\w*t\"\n",
    "print(re.findall(pattern, text))"
   ]
  },
  {
   "cell_type": "code",
   "execution_count": null,
   "metadata": {},
   "outputs": [],
   "source": [
    "pattern = \"ca+t\"\n",
    "print(re.findall(pattern, text))"
   ]
  },
  {
   "cell_type": "markdown",
   "metadata": {},
   "source": [
    "> `?` matches previous pattern 0 or 1 time"
   ]
  },
  {
   "cell_type": "code",
   "execution_count": null,
   "metadata": {},
   "outputs": [],
   "source": [
    "text = \"The colonel likes the color blue\"\n",
    "\n",
    "pattern = \"colou?r\"\n",
    "print(re.findall(pattern, text))"
   ]
  },
  {
   "cell_type": "markdown",
   "metadata": {},
   "source": [
    "How the Regex engine works?"
   ]
  },
  {
   "cell_type": "code",
   "execution_count": null,
   "metadata": {},
   "outputs": [],
   "source": [
    "text = \"Is the correct spelling color, colour, or colr?\"\n",
    "\n",
    "pattern = \"colou?r\"\n",
    "print(re.findall(pattern, text))"
   ]
  },
  {
   "cell_type": "markdown",
   "metadata": {},
   "source": [
    "# Important Regex Concept: Greediness\n"
   ]
  },
  {
   "cell_type": "markdown",
   "metadata": {},
   "source": [
    "What will this match?"
   ]
  },
  {
   "cell_type": "code",
   "execution_count": 93,
   "metadata": {
    "ExecuteTime": {
     "end_time": "2020-08-31T19:49:19.866463Z",
     "start_time": "2020-08-31T19:49:19.860250Z"
    }
   },
   "outputs": [
    {
     "name": "stdout",
     "output_type": "stream",
     "text": [
      "['You are yelling! So I will yell too! Let me yell!']\n"
     ]
    }
   ],
   "source": [
    "text = 'You are yelling! So I will yell too! Let me yell!.'\n",
    "\n",
    "# anything up to exclamation point\n",
    "pattern = \".*!\"\n",
    "print(re.findall(pattern, text))"
   ]
  },
  {
   "cell_type": "code",
   "execution_count": 94,
   "metadata": {
    "ExecuteTime": {
     "end_time": "2020-08-31T19:49:54.030739Z",
     "start_time": "2020-08-31T19:49:54.024630Z"
    }
   },
   "outputs": [
    {
     "data": {
      "text/plain": [
       "['You are yelling!', ' So I will yell too!', ' Let me yell!']"
      ]
     },
     "execution_count": 94,
     "metadata": {},
     "output_type": "execute_result"
    }
   ],
   "source": [
    "pattern = \".*?!\"\n",
    "re.findall(pattern, text)"
   ]
  },
  {
   "cell_type": "code",
   "execution_count": 95,
   "metadata": {
    "ExecuteTime": {
     "end_time": "2020-08-31T19:50:01.490785Z",
     "start_time": "2020-08-31T19:50:01.485797Z"
    }
   },
   "outputs": [
    {
     "name": "stdout",
     "output_type": "stream",
     "text": [
      "['aww', 'aww', 'aww', 'aww']\n"
     ]
    }
   ],
   "source": [
    "text = \"Let's see how we can match the following: aw, aww, awww, awwww, awwwww\"\n",
    "\n",
    "pattern = \"aw{2}\"\n",
    "print(re.findall(pattern, text))"
   ]
  },
  {
   "cell_type": "code",
   "execution_count": 96,
   "metadata": {
    "ExecuteTime": {
     "end_time": "2020-08-31T19:50:05.527332Z",
     "start_time": "2020-08-31T19:50:05.523127Z"
    }
   },
   "outputs": [
    {
     "name": "stdout",
     "output_type": "stream",
     "text": [
      "['aww', 'awww', 'awwww', 'awwwww']\n"
     ]
    }
   ],
   "source": [
    "text = \"Let's see how we can match the following: aw, aww, awww, awwww, awwwww\"\n",
    "\n",
    "pattern = \"aw{2,}\"\n",
    "print(re.findall(pattern, text))"
   ]
  },
  {
   "cell_type": "code",
   "execution_count": 97,
   "metadata": {
    "ExecuteTime": {
     "end_time": "2020-08-31T19:50:13.928769Z",
     "start_time": "2020-08-31T19:50:13.923781Z"
    }
   },
   "outputs": [
    {
     "name": "stdout",
     "output_type": "stream",
     "text": [
      "['aww', 'awww', 'awww', 'awww']\n"
     ]
    }
   ],
   "source": [
    "text = \"Let's see how we can match the following: aw, aww, awww, awwww, awwwww\"\n",
    "\n",
    "pattern = \"aw{2,3}\"\n",
    "print(re.findall(pattern, text))"
   ]
  },
  {
   "cell_type": "code",
   "execution_count": 98,
   "metadata": {
    "ExecuteTime": {
     "end_time": "2020-08-31T19:50:20.390032Z",
     "start_time": "2020-08-31T19:50:20.384046Z"
    }
   },
   "outputs": [
    {
     "name": "stdout",
     "output_type": "stream",
     "text": [
      "['Ooooooiiiii']\n"
     ]
    }
   ],
   "source": [
    "text = \"Ooooooiiiii gente\"\n",
    "\n",
    "pattern = \"[Oo]{1,}i{1,}\"\n",
    "pattern = \"[Oo]+i+\"\n",
    "print(re.findall(pattern, text))"
   ]
  },
  {
   "cell_type": "code",
   "execution_count": 99,
   "metadata": {
    "ExecuteTime": {
     "end_time": "2020-08-31T19:50:26.823475Z",
     "start_time": "2020-08-31T19:50:26.817494Z"
    }
   },
   "outputs": [
    {
     "name": "stdout",
     "output_type": "stream",
     "text": [
      "['If', 'you', 'tell', 'the', 'truth', '1', 'time', 'you', 'don', 't', 'have', 'to', 'remember', 'anything', '2', 'times']\n"
     ]
    }
   ],
   "source": [
    "text = \"If you tell the truth 1 time, you don't have to remember anything 2 times.\"\n",
    "\n",
    "pattern = '\\w+'\n",
    "print(re.findall(pattern, text))"
   ]
  },
  {
   "cell_type": "code",
   "execution_count": 100,
   "metadata": {
    "ExecuteTime": {
     "end_time": "2020-08-31T19:50:30.757332Z",
     "start_time": "2020-08-31T19:50:30.752345Z"
    }
   },
   "outputs": [
    {
     "name": "stdout",
     "output_type": "stream",
     "text": [
      "['tell', 'truth', 'time', 'have', 'remember', 'anything', 'times']\n"
     ]
    }
   ],
   "source": [
    "## word length\n",
    "pattern = '\\w{4,}'\n",
    "print(re.findall(pattern, text))"
   ]
  },
  {
   "cell_type": "code",
   "execution_count": 101,
   "metadata": {
    "ExecuteTime": {
     "end_time": "2020-08-31T19:50:39.004039Z",
     "start_time": "2020-08-31T19:50:38.995066Z"
    }
   },
   "outputs": [
    {
     "name": "stdout",
     "output_type": "stream",
     "text": [
      "['Terra', 'Power', 'Bill', 'Gates', 'China', 'Trump']\n"
     ]
    }
   ],
   "source": [
    "text = \"TerraPower, a nuclear-energy company founded by Bill Gates, is unlikely to follow through on building a demonstration reactor in China, due largely to the Trump administration’s crackdown on the country.\"\n",
    "\n",
    "pattern = '[A-Z][a-z]+'\n",
    "print(re.findall(pattern, text))"
   ]
  },
  {
   "cell_type": "markdown",
   "metadata": {},
   "source": [
    "https://phoneregex.com/"
   ]
  }
 ],
 "metadata": {
  "kernelspec": {
   "display_name": "Python 3",
   "language": "python",
   "name": "python3"
  },
  "language_info": {
   "codemirror_mode": {
    "name": "ipython",
    "version": 3
   },
   "file_extension": ".py",
   "mimetype": "text/x-python",
   "name": "python",
   "nbconvert_exporter": "python",
   "pygments_lexer": "ipython3",
   "version": "3.8.3"
  },
  "toc": {
   "base_numbering": 1,
   "nav_menu": {},
   "number_sections": true,
   "sideBar": true,
   "skip_h1_title": false,
   "title_cell": "Table of Contents",
   "title_sidebar": "Contents",
   "toc_cell": false,
   "toc_position": {
    "height": "calc(100% - 180px)",
    "left": "10px",
    "top": "150px",
    "width": "258.182px"
   },
   "toc_section_display": true,
   "toc_window_display": false
  }
 },
 "nbformat": 4,
 "nbformat_minor": 2
}
