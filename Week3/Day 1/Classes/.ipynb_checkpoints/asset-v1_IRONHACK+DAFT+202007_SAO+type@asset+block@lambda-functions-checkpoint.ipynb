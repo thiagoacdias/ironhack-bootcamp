{
 "cells": [
  {
   "cell_type": "code",
   "execution_count": null,
   "metadata": {
    "ExecuteTime": {
     "end_time": "2020-08-31T03:26:47.595589Z",
     "start_time": "2020-08-31T03:26:47.592588Z"
    }
   },
   "outputs": [],
   "source": [
    "import numpy as np\n",
    "import pandas as pd\n",
    "# ^^^ pyforest auto-imports - don't write above this line\n",
    "import re\n",
    "import numpy as np\n",
    "import pandas as pd"
   ]
  },
  {
   "cell_type": "markdown",
   "metadata": {},
   "source": [
    "# Function definitions"
   ]
  },
  {
   "cell_type": "markdown",
   "metadata": {},
   "source": [
    "Broken into tokens:\n",
    "\n",
    "> <b>def </b>\n",
    "- Tell python that you're starting to create a function\n",
    "\n",
    "> <b>function_name</b>\n",
    "- you give that function a name for a future call\n",
    "\n",
    "> <b>(</b>\n",
    "- Open parenthesis to give arguments (or variables) that you'll use in that functions. These helps you parametrize code.\n",
    "\n",
    "> <b>[OPTIONAL] arg1, arg2, arg3, ... </b>\n",
    "- The arguments of that function\n",
    "\n",
    "> <b>)</b>\n",
    "- CLose parenthesis to say you're done creating arguments\n",
    "\n",
    "> <b>:</b>\n",
    "- colon to say you're about to start a `code block`\n",
    "\n",
    "> <b>code block</b>\n",
    "- where you effectively do something with (or without) the arguments\n",
    "\n",
    "> <b>return</b>\n",
    "- The return statement tells you're done with the function. Whether you'll return something from that or not is optional\n",
    "\n",
    "> <b>[OPTIONAL] something</b>\n",
    "- The `something` you're allowed to retur.\n",
    "\n"
   ]
  },
  {
   "cell_type": "markdown",
   "metadata": {},
   "source": [
    "```python\n",
    "def function_name(arg1):\n",
    "    something = arg1 + 10\n",
    "    return something\n",
    "```"
   ]
  },
  {
   "cell_type": "code",
   "execution_count": 1,
   "metadata": {
    "ExecuteTime": {
     "end_time": "2020-08-31T14:05:25.817427Z",
     "start_time": "2020-08-31T14:05:25.798477Z"
    },
    "scrolled": true
   },
   "outputs": [
    {
     "data": {
      "text/plain": [
       "40"
      ]
     },
     "execution_count": 1,
     "metadata": {},
     "output_type": "execute_result"
    }
   ],
   "source": [
    "def function_name(arg1):\n",
    "    something = arg1 + 10\n",
    "    return something\n",
    "\n",
    "function_name(30)"
   ]
  },
  {
   "cell_type": "markdown",
   "metadata": {},
   "source": [
    "# What is a lambda function?\n",
    "\n",
    "https://realpython.com/python-lambda/\n",
    "\n",
    "\n",
    "> Named after `lambda calculus`.\n",
    "\n",
    "> Usually refers to `anonymous functions`"
   ]
  },
  {
   "cell_type": "markdown",
   "metadata": {},
   "source": [
    "## Defining lambda functions"
   ]
  },
  {
   "cell_type": "code",
   "execution_count": 2,
   "metadata": {
    "ExecuteTime": {
     "end_time": "2020-08-31T14:05:28.423106Z",
     "start_time": "2020-08-31T14:05:28.414130Z"
    }
   },
   "outputs": [
    {
     "data": {
      "text/plain": [
       "<function __main__.<lambda>(x)>"
      ]
     },
     "execution_count": 2,
     "metadata": {},
     "output_type": "execute_result"
    }
   ],
   "source": [
    "lambda x : x/2"
   ]
  },
  {
   "cell_type": "code",
   "execution_count": 3,
   "metadata": {
    "ExecuteTime": {
     "end_time": "2020-08-31T14:05:30.072216Z",
     "start_time": "2020-08-31T14:05:30.065234Z"
    }
   },
   "outputs": [
    {
     "data": {
      "text/plain": [
       "<function __main__.<lambda>(arg1)>"
      ]
     },
     "execution_count": 3,
     "metadata": {},
     "output_type": "execute_result"
    }
   ],
   "source": [
    "lambda arg1 : arg1 + 10"
   ]
  },
  {
   "cell_type": "code",
   "execution_count": 4,
   "metadata": {
    "ExecuteTime": {
     "end_time": "2020-08-31T14:05:32.014643Z",
     "start_time": "2020-08-31T14:05:32.006668Z"
    }
   },
   "outputs": [
    {
     "data": {
      "text/plain": [
       "<function __main__.<lambda>(arg1)>"
      ]
     },
     "execution_count": 4,
     "metadata": {},
     "output_type": "execute_result"
    }
   ],
   "source": [
    "(lambda arg1 : arg1 + 10)"
   ]
  },
  {
   "cell_type": "code",
   "execution_count": null,
   "metadata": {
    "ExecuteTime": {
     "end_time": "2020-08-20T00:50:46.044099Z",
     "start_time": "2020-08-20T00:50:46.039096Z"
    }
   },
   "outputs": [],
   "source": [
    "(lambda arg1 : arg1 + 10)(35)"
   ]
  },
  {
   "cell_type": "code",
   "execution_count": 5,
   "metadata": {
    "ExecuteTime": {
     "end_time": "2020-08-31T14:05:34.789153Z",
     "start_time": "2020-08-31T14:05:34.784166Z"
    }
   },
   "outputs": [],
   "source": [
    "function_name = lambda arg1 : arg1 + 10"
   ]
  },
  {
   "cell_type": "code",
   "execution_count": 6,
   "metadata": {
    "ExecuteTime": {
     "end_time": "2020-08-31T14:05:36.862296Z",
     "start_time": "2020-08-31T14:05:36.854319Z"
    }
   },
   "outputs": [
    {
     "data": {
      "text/plain": [
       "40"
      ]
     },
     "execution_count": 6,
     "metadata": {},
     "output_type": "execute_result"
    }
   ],
   "source": [
    "function_name(30)"
   ]
  },
  {
   "cell_type": "code",
   "execution_count": 7,
   "metadata": {
    "ExecuteTime": {
     "end_time": "2020-08-31T14:05:39.850104Z",
     "start_time": "2020-08-31T14:05:39.846115Z"
    }
   },
   "outputs": [],
   "source": [
    "# map\n",
    "\n",
    "example_list = [1,4,5,8]"
   ]
  },
  {
   "cell_type": "code",
   "execution_count": 8,
   "metadata": {
    "ExecuteTime": {
     "end_time": "2020-08-31T14:05:42.601238Z",
     "start_time": "2020-08-31T14:05:42.596232Z"
    }
   },
   "outputs": [],
   "source": [
    "def half(x):\n",
    "    return x / 2 "
   ]
  },
  {
   "cell_type": "code",
   "execution_count": 9,
   "metadata": {
    "ExecuteTime": {
     "end_time": "2020-08-31T14:05:44.129710Z",
     "start_time": "2020-08-31T14:05:44.123728Z"
    }
   },
   "outputs": [
    {
     "data": {
      "text/plain": [
       "[0.5, 2.0, 2.5, 4.0]"
      ]
     },
     "execution_count": 9,
     "metadata": {},
     "output_type": "execute_result"
    }
   ],
   "source": [
    "list(map(half, example_list))"
   ]
  },
  {
   "cell_type": "code",
   "execution_count": 10,
   "metadata": {
    "ExecuteTime": {
     "end_time": "2020-08-31T14:05:47.346183Z",
     "start_time": "2020-08-31T14:05:47.341171Z"
    }
   },
   "outputs": [
    {
     "data": {
      "text/plain": [
       "[0.5, 2.0, 2.5, 4.0]"
      ]
     },
     "execution_count": 10,
     "metadata": {},
     "output_type": "execute_result"
    }
   ],
   "source": [
    "list(map(lambda x: x/2, example_list))"
   ]
  },
  {
   "cell_type": "markdown",
   "metadata": {},
   "source": [
    "## More than 1 argument"
   ]
  },
  {
   "cell_type": "code",
   "execution_count": 11,
   "metadata": {
    "ExecuteTime": {
     "end_time": "2020-08-31T14:05:54.915635Z",
     "start_time": "2020-08-31T14:05:54.910649Z"
    }
   },
   "outputs": [],
   "source": [
    "def my_sum(a , b):\n",
    "    return a + b"
   ]
  },
  {
   "cell_type": "code",
   "execution_count": 13,
   "metadata": {
    "ExecuteTime": {
     "end_time": "2020-08-31T14:14:06.027682Z",
     "start_time": "2020-08-31T14:14:06.018712Z"
    }
   },
   "outputs": [
    {
     "data": {
      "text/plain": [
       "30"
      ]
     },
     "execution_count": 13,
     "metadata": {},
     "output_type": "execute_result"
    }
   ],
   "source": [
    "add_args = lambda a, b : a + b\n",
    "add_args(10, 20)"
   ]
  },
  {
   "cell_type": "code",
   "execution_count": 14,
   "metadata": {
    "ExecuteTime": {
     "end_time": "2020-08-31T14:14:08.425662Z",
     "start_time": "2020-08-31T14:14:08.420671Z"
    }
   },
   "outputs": [],
   "source": [
    "from functools import reduce"
   ]
  },
  {
   "cell_type": "code",
   "execution_count": 15,
   "metadata": {
    "ExecuteTime": {
     "end_time": "2020-08-31T14:14:13.829250Z",
     "start_time": "2020-08-31T14:14:13.822272Z"
    }
   },
   "outputs": [
    {
     "data": {
      "text/plain": [
       "[1, 4, 5, 8]"
      ]
     },
     "execution_count": 15,
     "metadata": {},
     "output_type": "execute_result"
    }
   ],
   "source": [
    "example_list"
   ]
  },
  {
   "cell_type": "code",
   "execution_count": 16,
   "metadata": {
    "ExecuteTime": {
     "end_time": "2020-08-31T14:14:24.537238Z",
     "start_time": "2020-08-31T14:14:24.526266Z"
    }
   },
   "outputs": [
    {
     "data": {
      "text/plain": [
       "18"
      ]
     },
     "execution_count": 16,
     "metadata": {},
     "output_type": "execute_result"
    }
   ],
   "source": [
    "reduce(lambda x,y: x+y, example_list)"
   ]
  },
  {
   "cell_type": "code",
   "execution_count": 18,
   "metadata": {
    "ExecuteTime": {
     "end_time": "2020-08-31T14:14:52.374926Z",
     "start_time": "2020-08-31T14:14:51.523120Z"
    }
   },
   "outputs": [
    {
     "name": "stdout",
     "output_type": "stream",
     "text": [
      "10\n"
     ]
    },
    {
     "data": {
      "text/plain": [
       "20"
      ]
     },
     "execution_count": 18,
     "metadata": {},
     "output_type": "execute_result"
    }
   ],
   "source": [
    "(lambda x : x + int(input()))(10)"
   ]
  },
  {
   "cell_type": "markdown",
   "metadata": {},
   "source": [
    "## Conditions"
   ]
  },
  {
   "cell_type": "code",
   "execution_count": 19,
   "metadata": {
    "ExecuteTime": {
     "end_time": "2020-08-31T14:34:44.222315Z",
     "start_time": "2020-08-31T14:34:44.213334Z"
    }
   },
   "outputs": [],
   "source": [
    "def safe_div(num, denom):\n",
    "    \"\"\"\n",
    "    Return the division of num by denom. \n",
    "    In case denom is 0, return 0\n",
    "    \"\"\"\n",
    "    if denom != 0:\n",
    "        return num/denom\n",
    "    else:\n",
    "        return 0"
   ]
  },
  {
   "cell_type": "code",
   "execution_count": 20,
   "metadata": {
    "ExecuteTime": {
     "end_time": "2020-08-31T14:34:46.066975Z",
     "start_time": "2020-08-31T14:34:46.050507Z"
    }
   },
   "outputs": [
    {
     "ename": "ZeroDivisionError",
     "evalue": "division by zero",
     "output_type": "error",
     "traceback": [
      "\u001b[1;31m---------------------------------------------------------------------------\u001b[0m",
      "\u001b[1;31mZeroDivisionError\u001b[0m                         Traceback (most recent call last)",
      "\u001b[1;32m<ipython-input-20-7a5050487faa>\u001b[0m in \u001b[0;36m<module>\u001b[1;34m\u001b[0m\n\u001b[1;32m----> 1\u001b[1;33m \u001b[1;36m9\u001b[0m\u001b[1;33m/\u001b[0m\u001b[1;36m0\u001b[0m\u001b[1;33m\u001b[0m\u001b[1;33m\u001b[0m\u001b[0m\n\u001b[0m",
      "\u001b[1;31mZeroDivisionError\u001b[0m: division by zero"
     ]
    }
   ],
   "source": [
    "9/0"
   ]
  },
  {
   "cell_type": "code",
   "execution_count": 21,
   "metadata": {
    "ExecuteTime": {
     "end_time": "2020-08-31T14:34:48.107976Z",
     "start_time": "2020-08-31T14:34:48.099998Z"
    }
   },
   "outputs": [
    {
     "data": {
      "text/plain": [
       "0"
      ]
     },
     "execution_count": 21,
     "metadata": {},
     "output_type": "execute_result"
    }
   ],
   "source": [
    "safe_div(9, 0)"
   ]
  },
  {
   "cell_type": "code",
   "execution_count": 22,
   "metadata": {
    "ExecuteTime": {
     "end_time": "2020-08-31T14:34:54.824437Z",
     "start_time": "2020-08-31T14:34:54.815459Z"
    }
   },
   "outputs": [
    {
     "data": {
      "text/plain": [
       "['JOAO',\n",
       " 'JOAO',\n",
       " 'JOAO',\n",
       " 'JOAO',\n",
       " 'JOAO',\n",
       " 'JOAO',\n",
       " 'ANDRE',\n",
       " 'ANDRE',\n",
       " 'ANDRE',\n",
       " 'ANDRE']"
      ]
     },
     "execution_count": 22,
     "metadata": {},
     "output_type": "execute_result"
    }
   ],
   "source": [
    "[('ANDRE' if item > 5 else 'JOAO') for item in range(10)]"
   ]
  },
  {
   "cell_type": "code",
   "execution_count": null,
   "metadata": {
    "ExecuteTime": {
     "end_time": "2020-08-20T01:17:13.850361Z",
     "start_time": "2020-08-20T01:17:13.846362Z"
    }
   },
   "outputs": [],
   "source": [
    "(lambda num, denom: num / denom if (denom != 0) else 0)(9, 0)"
   ]
  },
  {
   "cell_type": "markdown",
   "metadata": {},
   "source": [
    "# Applications\n",
    "\n"
   ]
  },
  {
   "cell_type": "markdown",
   "metadata": {},
   "source": [
    "## map"
   ]
  },
  {
   "cell_type": "code",
   "execution_count": null,
   "metadata": {
    "ExecuteTime": {
     "end_time": "2020-08-20T01:17:31.199200Z",
     "start_time": "2020-08-20T01:17:31.196201Z"
    }
   },
   "outputs": [],
   "source": [
    "example_list = [1,4,6,7,10,31,13]"
   ]
  },
  {
   "cell_type": "code",
   "execution_count": null,
   "metadata": {
    "ExecuteTime": {
     "end_time": "2020-08-20T01:17:32.015413Z",
     "start_time": "2020-08-20T01:17:32.013411Z"
    }
   },
   "outputs": [],
   "source": [
    "def half(x):\n",
    "    return x/2"
   ]
  },
  {
   "cell_type": "code",
   "execution_count": null,
   "metadata": {
    "ExecuteTime": {
     "end_time": "2020-08-20T01:17:38.559120Z",
     "start_time": "2020-08-20T01:17:38.556161Z"
    }
   },
   "outputs": [],
   "source": [
    "list(map(half, example_list))"
   ]
  },
  {
   "cell_type": "code",
   "execution_count": null,
   "metadata": {
    "ExecuteTime": {
     "end_time": "2020-08-20T01:17:54.163221Z",
     "start_time": "2020-08-20T01:17:54.158222Z"
    }
   },
   "outputs": [],
   "source": [
    "list(map(lambda x : x/2, example_list))"
   ]
  },
  {
   "cell_type": "markdown",
   "metadata": {},
   "source": [
    "## filter"
   ]
  },
  {
   "cell_type": "code",
   "execution_count": null,
   "metadata": {
    "ExecuteTime": {
     "end_time": "2020-08-20T01:18:12.544674Z",
     "start_time": "2020-08-20T01:18:12.541675Z"
    }
   },
   "outputs": [],
   "source": [
    "def check_if_even(x):\n",
    "    if x % 2 == 0:\n",
    "        return True\n",
    "    else:\n",
    "        return False\n",
    "    \n",
    "# def check_if_even(x):\n",
    "#     return x % 2 == 0"
   ]
  },
  {
   "cell_type": "code",
   "execution_count": null,
   "metadata": {
    "ExecuteTime": {
     "end_time": "2020-08-20T01:18:13.165674Z",
     "start_time": "2020-08-20T01:18:13.162674Z"
    }
   },
   "outputs": [],
   "source": [
    "example_list"
   ]
  },
  {
   "cell_type": "code",
   "execution_count": null,
   "metadata": {
    "ExecuteTime": {
     "end_time": "2020-08-20T01:18:19.022675Z",
     "start_time": "2020-08-20T01:18:19.018675Z"
    },
    "scrolled": true
   },
   "outputs": [],
   "source": [
    "list(filter(check_if_even, example_list))"
   ]
  },
  {
   "cell_type": "code",
   "execution_count": null,
   "metadata": {
    "ExecuteTime": {
     "end_time": "2020-08-20T01:19:23.313425Z",
     "start_time": "2020-08-20T01:19:23.309424Z"
    }
   },
   "outputs": [],
   "source": [
    "list(filter(lambda x : x % 2 == 0, example_list))"
   ]
  },
  {
   "cell_type": "markdown",
   "metadata": {},
   "source": [
    "## Using lambdas to order stuff\n"
   ]
  },
  {
   "cell_type": "code",
   "execution_count": null,
   "metadata": {
    "ExecuteTime": {
     "end_time": "2020-08-20T01:20:09.394219Z",
     "start_time": "2020-08-20T01:20:09.390220Z"
    }
   },
   "outputs": [],
   "source": [
    "school_dash = ['Calclulus', 'Philosophy', 'Art-History', 'Computer-Science']"
   ]
  },
  {
   "cell_type": "code",
   "execution_count": null,
   "metadata": {
    "ExecuteTime": {
     "end_time": "2020-08-20T01:20:18.661267Z",
     "start_time": "2020-08-20T01:20:18.657262Z"
    }
   },
   "outputs": [],
   "source": [
    "sorted(school_dash)"
   ]
  },
  {
   "cell_type": "code",
   "execution_count": null,
   "metadata": {
    "ExecuteTime": {
     "end_time": "2020-08-20T01:24:00.170328Z",
     "start_time": "2020-08-20T01:24:00.166324Z"
    }
   },
   "outputs": [],
   "source": [
    "sorted(school_dash, key=lambda x : x[-2], reverse=True )"
   ]
  },
  {
   "cell_type": "code",
   "execution_count": null,
   "metadata": {
    "ExecuteTime": {
     "end_time": "2020-08-20T01:24:31.014446Z",
     "start_time": "2020-08-20T01:24:31.012446Z"
    }
   },
   "outputs": [],
   "source": [
    "def get_last_letter(x):\n",
    "    return x[-1]"
   ]
  },
  {
   "cell_type": "code",
   "execution_count": null,
   "metadata": {
    "ExecuteTime": {
     "end_time": "2020-08-20T01:24:32.249241Z",
     "start_time": "2020-08-20T01:24:32.245240Z"
    }
   },
   "outputs": [],
   "source": [
    "sorted(school_dash, key=get_last_letter, reverse=True)"
   ]
  },
  {
   "cell_type": "code",
   "execution_count": null,
   "metadata": {
    "ExecuteTime": {
     "end_time": "2020-08-20T01:24:43.921155Z",
     "start_time": "2020-08-20T01:24:43.917153Z"
    }
   },
   "outputs": [],
   "source": [
    "nomes = ['Andre Aguiar','Pablo Vitar', 'Luis Inacio','Carlos Santana','Ronaldo Gaucho']"
   ]
  },
  {
   "cell_type": "code",
   "execution_count": null,
   "metadata": {
    "ExecuteTime": {
     "end_time": "2020-08-20T01:24:56.297006Z",
     "start_time": "2020-08-20T01:24:56.294005Z"
    }
   },
   "outputs": [],
   "source": [
    "sorted(nomes)"
   ]
  },
  {
   "cell_type": "code",
   "execution_count": null,
   "metadata": {
    "ExecuteTime": {
     "end_time": "2020-08-20T01:26:34.544491Z",
     "start_time": "2020-08-20T01:26:34.540458Z"
    }
   },
   "outputs": [],
   "source": [
    "'Andre Aguiar'.split()[-1][0]"
   ]
  },
  {
   "cell_type": "code",
   "execution_count": null,
   "metadata": {
    "ExecuteTime": {
     "end_time": "2020-08-20T01:27:13.579355Z",
     "start_time": "2020-08-20T01:27:13.575357Z"
    }
   },
   "outputs": [],
   "source": [
    "sorted(nomes, key=lambda x : x.split()[-1][0])"
   ]
  },
  {
   "cell_type": "code",
   "execution_count": null,
   "metadata": {},
   "outputs": [],
   "source": [
    "def get_last_letter_surname(x):\n",
    "    return x.split()[-1][-1]"
   ]
  },
  {
   "cell_type": "code",
   "execution_count": null,
   "metadata": {},
   "outputs": [],
   "source": [
    "get_last_letter_surname('Andre Bguiar')"
   ]
  },
  {
   "cell_type": "code",
   "execution_count": null,
   "metadata": {},
   "outputs": [],
   "source": [
    "sorted(nomes, key=get_last_letter_surname)"
   ]
  },
  {
   "cell_type": "code",
   "execution_count": null,
   "metadata": {},
   "outputs": [],
   "source": [
    "sorted(nomes, key=lambda nome : nome.split()[-1][0])"
   ]
  },
  {
   "cell_type": "markdown",
   "metadata": {},
   "source": [
    "# Ordering a dictionary by its values"
   ]
  },
  {
   "cell_type": "code",
   "execution_count": 25,
   "metadata": {
    "ExecuteTime": {
     "end_time": "2020-08-31T14:35:15.734722Z",
     "start_time": "2020-08-31T14:35:15.728738Z"
    }
   },
   "outputs": [],
   "source": [
    "my_dict = {'Andre': 80, \n",
    "           'Joao' : 90 , \n",
    "           'Pedro': 80, \n",
    "           'Carla': 70, \n",
    "           'Maria': 80, \n",
    "           'Aurora' : 80, \n",
    "           'Camila': 60}"
   ]
  },
  {
   "cell_type": "code",
   "execution_count": 26,
   "metadata": {
    "ExecuteTime": {
     "end_time": "2020-08-31T14:35:16.264990Z",
     "start_time": "2020-08-31T14:35:16.258009Z"
    }
   },
   "outputs": [
    {
     "data": {
      "text/plain": [
       "{'Andre': 80,\n",
       " 'Joao': 90,\n",
       " 'Pedro': 80,\n",
       " 'Carla': 70,\n",
       " 'Maria': 80,\n",
       " 'Aurora': 80,\n",
       " 'Camila': 60}"
      ]
     },
     "execution_count": 26,
     "metadata": {},
     "output_type": "execute_result"
    }
   ],
   "source": [
    "my_dict"
   ]
  },
  {
   "cell_type": "code",
   "execution_count": 27,
   "metadata": {
    "ExecuteTime": {
     "end_time": "2020-08-31T14:35:17.547172Z",
     "start_time": "2020-08-31T14:35:17.540680Z"
    }
   },
   "outputs": [
    {
     "data": {
      "text/plain": [
       "dict_items([('Andre', 80), ('Joao', 90), ('Pedro', 80), ('Carla', 70), ('Maria', 80), ('Aurora', 80), ('Camila', 60)])"
      ]
     },
     "execution_count": 27,
     "metadata": {},
     "output_type": "execute_result"
    }
   ],
   "source": [
    "my_dict.items()"
   ]
  },
  {
   "cell_type": "code",
   "execution_count": 28,
   "metadata": {
    "ExecuteTime": {
     "end_time": "2020-08-31T14:35:19.922599Z",
     "start_time": "2020-08-31T14:35:19.914605Z"
    }
   },
   "outputs": [
    {
     "data": {
      "text/plain": [
       "[('Andre', 80),\n",
       " ('Joao', 90),\n",
       " ('Pedro', 80),\n",
       " ('Carla', 70),\n",
       " ('Maria', 80),\n",
       " ('Aurora', 80),\n",
       " ('Camila', 60)]"
      ]
     },
     "execution_count": 28,
     "metadata": {},
     "output_type": "execute_result"
    }
   ],
   "source": [
    "list(my_dict.items())"
   ]
  },
  {
   "cell_type": "code",
   "execution_count": 29,
   "metadata": {
    "ExecuteTime": {
     "end_time": "2020-08-31T14:35:22.755218Z",
     "start_time": "2020-08-31T14:35:22.746238Z"
    }
   },
   "outputs": [
    {
     "data": {
      "text/plain": [
       "[('Andre', 80),\n",
       " ('Aurora', 80),\n",
       " ('Camila', 60),\n",
       " ('Carla', 70),\n",
       " ('Joao', 90),\n",
       " ('Maria', 80),\n",
       " ('Pedro', 80)]"
      ]
     },
     "execution_count": 29,
     "metadata": {},
     "output_type": "execute_result"
    }
   ],
   "source": [
    "sorted( my_dict.items())"
   ]
  },
  {
   "cell_type": "code",
   "execution_count": 30,
   "metadata": {
    "ExecuteTime": {
     "end_time": "2020-08-31T14:35:28.903119Z",
     "start_time": "2020-08-31T14:35:28.892630Z"
    }
   },
   "outputs": [
    {
     "data": {
      "text/plain": [
       "[('Camila', 60),\n",
       " ('Carla', 70),\n",
       " ('Andre', 80),\n",
       " ('Pedro', 80),\n",
       " ('Maria', 80),\n",
       " ('Aurora', 80),\n",
       " ('Joao', 90)]"
      ]
     },
     "execution_count": 30,
     "metadata": {},
     "output_type": "execute_result"
    }
   ],
   "source": [
    "sorted(my_dict.items(), key=lambda x : x[1])"
   ]
  },
  {
   "cell_type": "markdown",
   "metadata": {},
   "source": [
    "# Pandas apply"
   ]
  },
  {
   "cell_type": "code",
   "execution_count": 35,
   "metadata": {
    "ExecuteTime": {
     "end_time": "2020-08-31T14:36:28.672157Z",
     "start_time": "2020-08-31T14:36:28.667133Z"
    }
   },
   "outputs": [],
   "source": [
    "import pandas as pd\n",
    "import numpy as np"
   ]
  },
  {
   "cell_type": "code",
   "execution_count": 36,
   "metadata": {
    "ExecuteTime": {
     "end_time": "2020-08-31T14:36:30.232865Z",
     "start_time": "2020-08-31T14:36:30.224885Z"
    }
   },
   "outputs": [
    {
     "name": "stderr",
     "output_type": "stream",
     "text": [
      "C:\\Users\\TD\\anaconda3\\lib\\site-packages\\tqdm\\std.py:668: FutureWarning: The Panel class is removed from pandas. Accessing it from the top-level namespace will also be removed in the next version\n",
      "  from pandas import Panel\n"
     ]
    }
   ],
   "source": [
    "from tqdm.auto import tqdm\n",
    "tqdm.pandas(desc=\"Applying transformation\")"
   ]
  },
  {
   "cell_type": "code",
   "execution_count": 37,
   "metadata": {
    "ExecuteTime": {
     "end_time": "2020-08-31T14:36:39.061053Z",
     "start_time": "2020-08-31T14:36:31.844451Z"
    }
   },
   "outputs": [],
   "source": [
    "def create_sample_dataframe(n_rows=1000000, n_cols=1):\n",
    "    \"\"\"\n",
    "    Create a pandas dataframe containing n_rows rows and n_cols columns\n",
    "    and mess up with it by changing the dots (.) by commas (,).\n",
    "    \"\"\"\n",
    "    cpf = np.random.randint(1, 999999999, size=n_rows)\n",
    "    variables = {f'column_{col_number}': np.random.random(n_rows) for col_number in range(n_cols)}\n",
    "    variables.update({'CPF': cpf})  \n",
    "\n",
    "    return pd.DataFrame(variables).applymap(lambda x : str(x).replace('.',','))\n",
    "\n",
    "df = create_sample_dataframe()"
   ]
  },
  {
   "cell_type": "code",
   "execution_count": 38,
   "metadata": {
    "ExecuteTime": {
     "end_time": "2020-08-31T14:36:49.105539Z",
     "start_time": "2020-08-31T14:36:39.068029Z"
    }
   },
   "outputs": [
    {
     "data": {
      "application/vnd.jupyter.widget-view+json": {
       "model_id": "0ae0704b3783482b94f133bb62765033",
       "version_major": 2,
       "version_minor": 0
      },
      "text/plain": [
       "HBox(children=(FloatProgress(value=0.0, description='Applying transformation', max=1000000.0, style=ProgressSt…"
      ]
     },
     "metadata": {},
     "output_type": "display_data"
    },
    {
     "name": "stdout",
     "output_type": "stream",
     "text": [
      "\n"
     ]
    },
    {
     "data": {
      "text/plain": [
       "0         0.318827\n",
       "1         0.499554\n",
       "2         0.710056\n",
       "3         0.958206\n",
       "4         0.234669\n",
       "            ...   \n",
       "999995    0.471143\n",
       "999996    0.642882\n",
       "999997    0.816535\n",
       "999998    0.146147\n",
       "999999    0.723873\n",
       "Name: column_0, Length: 1000000, dtype: float64"
      ]
     },
     "execution_count": 38,
     "metadata": {},
     "output_type": "execute_result"
    }
   ],
   "source": [
    "df.column_0.progress_apply(lambda x : x.replace(',','.')).astype(float)"
   ]
  },
  {
   "cell_type": "code",
   "execution_count": 43,
   "metadata": {
    "ExecuteTime": {
     "end_time": "2020-08-31T14:46:04.285639Z",
     "start_time": "2020-08-31T14:46:00.156693Z"
    }
   },
   "outputs": [
    {
     "data": {
      "text/html": [
       "<div>\n",
       "<style scoped>\n",
       "    .dataframe tbody tr th:only-of-type {\n",
       "        vertical-align: middle;\n",
       "    }\n",
       "\n",
       "    .dataframe tbody tr th {\n",
       "        vertical-align: top;\n",
       "    }\n",
       "\n",
       "    .dataframe thead th {\n",
       "        text-align: right;\n",
       "    }\n",
       "</style>\n",
       "<table border=\"1\" class=\"dataframe\">\n",
       "  <thead>\n",
       "    <tr style=\"text-align: right;\">\n",
       "      <th></th>\n",
       "      <th>grade</th>\n",
       "      <th>user_name</th>\n",
       "      <th>text</th>\n",
       "      <th>date</th>\n",
       "    </tr>\n",
       "  </thead>\n",
       "  <tbody>\n",
       "    <tr>\n",
       "      <th>0</th>\n",
       "      <td>4</td>\n",
       "      <td>mds27272</td>\n",
       "      <td>My gf started playing before me. No option to ...</td>\n",
       "      <td>2020-03-20</td>\n",
       "    </tr>\n",
       "    <tr>\n",
       "      <th>1</th>\n",
       "      <td>5</td>\n",
       "      <td>lolo2178</td>\n",
       "      <td>While the game itself is great, really relaxin...</td>\n",
       "      <td>2020-03-20</td>\n",
       "    </tr>\n",
       "    <tr>\n",
       "      <th>2</th>\n",
       "      <td>0</td>\n",
       "      <td>Roachant</td>\n",
       "      <td>My wife and I were looking forward to playing ...</td>\n",
       "      <td>2020-03-20</td>\n",
       "    </tr>\n",
       "    <tr>\n",
       "      <th>3</th>\n",
       "      <td>0</td>\n",
       "      <td>Houndf</td>\n",
       "      <td>We need equal values and opportunities for all...</td>\n",
       "      <td>2020-03-20</td>\n",
       "    </tr>\n",
       "    <tr>\n",
       "      <th>4</th>\n",
       "      <td>0</td>\n",
       "      <td>ProfessorFox</td>\n",
       "      <td>BEWARE!  If you have multiple people in your h...</td>\n",
       "      <td>2020-03-20</td>\n",
       "    </tr>\n",
       "    <tr>\n",
       "      <th>...</th>\n",
       "      <td>...</td>\n",
       "      <td>...</td>\n",
       "      <td>...</td>\n",
       "      <td>...</td>\n",
       "    </tr>\n",
       "    <tr>\n",
       "      <th>2994</th>\n",
       "      <td>1</td>\n",
       "      <td>TakezoShinmen</td>\n",
       "      <td>1 Island for console limitation.I cannot play ...</td>\n",
       "      <td>2020-05-03</td>\n",
       "    </tr>\n",
       "    <tr>\n",
       "      <th>2995</th>\n",
       "      <td>1</td>\n",
       "      <td>Pikey17</td>\n",
       "      <td>Per giocare con figli o fidanzate, mogli o per...</td>\n",
       "      <td>2020-05-03</td>\n",
       "    </tr>\n",
       "    <tr>\n",
       "      <th>2996</th>\n",
       "      <td>0</td>\n",
       "      <td>Lemmeadem</td>\n",
       "      <td>One island per console is a pathetic limitatio...</td>\n",
       "      <td>2020-05-03</td>\n",
       "    </tr>\n",
       "    <tr>\n",
       "      <th>2997</th>\n",
       "      <td>2</td>\n",
       "      <td>TandemTester938</td>\n",
       "      <td>Even though it seems like a great game with ma...</td>\n",
       "      <td>2020-05-03</td>\n",
       "    </tr>\n",
       "    <tr>\n",
       "      <th>2998</th>\n",
       "      <td>4</td>\n",
       "      <td>DwerG</td>\n",
       "      <td>Game is fantastic.Nintendo deciding that you c...</td>\n",
       "      <td>2020-05-03</td>\n",
       "    </tr>\n",
       "  </tbody>\n",
       "</table>\n",
       "<p>2999 rows × 4 columns</p>\n",
       "</div>"
      ],
      "text/plain": [
       "      grade        user_name  \\\n",
       "0         4         mds27272   \n",
       "1         5         lolo2178   \n",
       "2         0         Roachant   \n",
       "3         0           Houndf   \n",
       "4         0     ProfessorFox   \n",
       "...     ...              ...   \n",
       "2994      1    TakezoShinmen   \n",
       "2995      1          Pikey17   \n",
       "2996      0        Lemmeadem   \n",
       "2997      2  TandemTester938   \n",
       "2998      4            DwerG   \n",
       "\n",
       "                                                   text        date  \n",
       "0     My gf started playing before me. No option to ...  2020-03-20  \n",
       "1     While the game itself is great, really relaxin...  2020-03-20  \n",
       "2     My wife and I were looking forward to playing ...  2020-03-20  \n",
       "3     We need equal values and opportunities for all...  2020-03-20  \n",
       "4     BEWARE!  If you have multiple people in your h...  2020-03-20  \n",
       "...                                                 ...         ...  \n",
       "2994  1 Island for console limitation.I cannot play ...  2020-05-03  \n",
       "2995  Per giocare con figli o fidanzate, mogli o per...  2020-05-03  \n",
       "2996  One island per console is a pathetic limitatio...  2020-05-03  \n",
       "2997  Even though it seems like a great game with ma...  2020-05-03  \n",
       "2998  Game is fantastic.Nintendo deciding that you c...  2020-05-03  \n",
       "\n",
       "[2999 rows x 4 columns]"
      ]
     },
     "execution_count": 43,
     "metadata": {},
     "output_type": "execute_result"
    }
   ],
   "source": [
    "df = pd.read_csv('https://raw.githubusercontent.com/rfordatascience/tidytuesday/62f97ae1f8896b6b8e4bb08dcf65a07e0502aa8a/data/2020/2020-05-05/user_reviews.tsv', sep='\\t')\n",
    "df"
   ]
  },
  {
   "cell_type": "code",
   "execution_count": 39,
   "metadata": {
    "ExecuteTime": {
     "end_time": "2020-08-31T14:36:49.127475Z",
     "start_time": "2020-08-31T14:36:49.114510Z"
    }
   },
   "outputs": [],
   "source": [
    "import re"
   ]
  },
  {
   "cell_type": "code",
   "execution_count": 44,
   "metadata": {
    "ExecuteTime": {
     "end_time": "2020-08-31T14:46:24.180043Z",
     "start_time": "2020-08-31T14:46:24.050278Z"
    }
   },
   "outputs": [],
   "source": [
    "# find all uppercase \n",
    "pattern = '\\w[A-Z]+'\n",
    "\n",
    "df['text-warning'] = df.text.apply(lambda x: re.findall(pattern, x))"
   ]
  },
  {
   "cell_type": "code",
   "execution_count": 46,
   "metadata": {
    "ExecuteTime": {
     "end_time": "2020-08-31T14:46:36.928875Z",
     "start_time": "2020-08-31T14:46:36.900950Z"
    }
   },
   "outputs": [
    {
     "data": {
      "text/html": [
       "<div>\n",
       "<style scoped>\n",
       "    .dataframe tbody tr th:only-of-type {\n",
       "        vertical-align: middle;\n",
       "    }\n",
       "\n",
       "    .dataframe tbody tr th {\n",
       "        vertical-align: top;\n",
       "    }\n",
       "\n",
       "    .dataframe thead th {\n",
       "        text-align: right;\n",
       "    }\n",
       "</style>\n",
       "<table border=\"1\" class=\"dataframe\">\n",
       "  <thead>\n",
       "    <tr style=\"text-align: right;\">\n",
       "      <th></th>\n",
       "      <th>grade</th>\n",
       "      <th>user_name</th>\n",
       "      <th>text</th>\n",
       "      <th>date</th>\n",
       "      <th>text-warning</th>\n",
       "    </tr>\n",
       "  </thead>\n",
       "  <tbody>\n",
       "    <tr>\n",
       "      <th>0</th>\n",
       "      <td>4</td>\n",
       "      <td>mds27272</td>\n",
       "      <td>My gf started playing before me. No option to ...</td>\n",
       "      <td>2020-03-20</td>\n",
       "      <td>[SUCKS]</td>\n",
       "    </tr>\n",
       "    <tr>\n",
       "      <th>1</th>\n",
       "      <td>5</td>\n",
       "      <td>lolo2178</td>\n",
       "      <td>While the game itself is great, really relaxin...</td>\n",
       "      <td>2020-03-20</td>\n",
       "      <td>[eW]</td>\n",
       "    </tr>\n",
       "    <tr>\n",
       "      <th>2</th>\n",
       "      <td>0</td>\n",
       "      <td>Roachant</td>\n",
       "      <td>My wife and I were looking forward to playing ...</td>\n",
       "      <td>2020-03-20</td>\n",
       "      <td>[nM, EA]</td>\n",
       "    </tr>\n",
       "    <tr>\n",
       "      <th>3</th>\n",
       "      <td>0</td>\n",
       "      <td>Houndf</td>\n",
       "      <td>We need equal values and opportunities for all...</td>\n",
       "      <td>2020-03-20</td>\n",
       "      <td>[]</td>\n",
       "    </tr>\n",
       "    <tr>\n",
       "      <th>4</th>\n",
       "      <td>0</td>\n",
       "      <td>ProfessorFox</td>\n",
       "      <td>BEWARE!  If you have multiple people in your h...</td>\n",
       "      <td>2020-03-20</td>\n",
       "      <td>[BEWARE, ONLY, ONE, ONE, AND, THEY, CANT, BEWA...</td>\n",
       "    </tr>\n",
       "    <tr>\n",
       "      <th>...</th>\n",
       "      <td>...</td>\n",
       "      <td>...</td>\n",
       "      <td>...</td>\n",
       "      <td>...</td>\n",
       "      <td>...</td>\n",
       "    </tr>\n",
       "    <tr>\n",
       "      <th>2994</th>\n",
       "      <td>1</td>\n",
       "      <td>TakezoShinmen</td>\n",
       "      <td>1 Island for console limitation.I cannot play ...</td>\n",
       "      <td>2020-05-03</td>\n",
       "      <td>[]</td>\n",
       "    </tr>\n",
       "    <tr>\n",
       "      <th>2995</th>\n",
       "      <td>1</td>\n",
       "      <td>Pikey17</td>\n",
       "      <td>Per giocare con figli o fidanzate, mogli o per...</td>\n",
       "      <td>2020-05-03</td>\n",
       "      <td>[BASE, NON, CONDIVISIONE, eP, BASE, NON, CONDI...</td>\n",
       "    </tr>\n",
       "    <tr>\n",
       "      <th>2996</th>\n",
       "      <td>0</td>\n",
       "      <td>Lemmeadem</td>\n",
       "      <td>One island per console is a pathetic limitatio...</td>\n",
       "      <td>2020-05-03</td>\n",
       "      <td>[]</td>\n",
       "    </tr>\n",
       "    <tr>\n",
       "      <th>2997</th>\n",
       "      <td>2</td>\n",
       "      <td>TandemTester938</td>\n",
       "      <td>Even though it seems like a great game with ma...</td>\n",
       "      <td>2020-05-03</td>\n",
       "      <td>[]</td>\n",
       "    </tr>\n",
       "    <tr>\n",
       "      <th>2998</th>\n",
       "      <td>4</td>\n",
       "      <td>DwerG</td>\n",
       "      <td>Game is fantastic.Nintendo deciding that you c...</td>\n",
       "      <td>2020-05-03</td>\n",
       "      <td>[]</td>\n",
       "    </tr>\n",
       "  </tbody>\n",
       "</table>\n",
       "<p>2999 rows × 5 columns</p>\n",
       "</div>"
      ],
      "text/plain": [
       "      grade        user_name  \\\n",
       "0         4         mds27272   \n",
       "1         5         lolo2178   \n",
       "2         0         Roachant   \n",
       "3         0           Houndf   \n",
       "4         0     ProfessorFox   \n",
       "...     ...              ...   \n",
       "2994      1    TakezoShinmen   \n",
       "2995      1          Pikey17   \n",
       "2996      0        Lemmeadem   \n",
       "2997      2  TandemTester938   \n",
       "2998      4            DwerG   \n",
       "\n",
       "                                                   text        date  \\\n",
       "0     My gf started playing before me. No option to ...  2020-03-20   \n",
       "1     While the game itself is great, really relaxin...  2020-03-20   \n",
       "2     My wife and I were looking forward to playing ...  2020-03-20   \n",
       "3     We need equal values and opportunities for all...  2020-03-20   \n",
       "4     BEWARE!  If you have multiple people in your h...  2020-03-20   \n",
       "...                                                 ...         ...   \n",
       "2994  1 Island for console limitation.I cannot play ...  2020-05-03   \n",
       "2995  Per giocare con figli o fidanzate, mogli o per...  2020-05-03   \n",
       "2996  One island per console is a pathetic limitatio...  2020-05-03   \n",
       "2997  Even though it seems like a great game with ma...  2020-05-03   \n",
       "2998  Game is fantastic.Nintendo deciding that you c...  2020-05-03   \n",
       "\n",
       "                                           text-warning  \n",
       "0                                               [SUCKS]  \n",
       "1                                                  [eW]  \n",
       "2                                              [nM, EA]  \n",
       "3                                                    []  \n",
       "4     [BEWARE, ONLY, ONE, ONE, AND, THEY, CANT, BEWA...  \n",
       "...                                                 ...  \n",
       "2994                                                 []  \n",
       "2995  [BASE, NON, CONDIVISIONE, eP, BASE, NON, CONDI...  \n",
       "2996                                                 []  \n",
       "2997                                                 []  \n",
       "2998                                                 []  \n",
       "\n",
       "[2999 rows x 5 columns]"
      ]
     },
     "execution_count": 46,
     "metadata": {},
     "output_type": "execute_result"
    }
   ],
   "source": [
    "df\n"
   ]
  }
 ],
 "metadata": {
  "kernelspec": {
   "display_name": "Python 3",
   "language": "python",
   "name": "python3"
  },
  "language_info": {
   "codemirror_mode": {
    "name": "ipython",
    "version": 3
   },
   "file_extension": ".py",
   "mimetype": "text/x-python",
   "name": "python",
   "nbconvert_exporter": "python",
   "pygments_lexer": "ipython3",
   "version": "3.8.3"
  },
  "toc": {
   "base_numbering": 1,
   "nav_menu": {},
   "number_sections": true,
   "sideBar": true,
   "skip_h1_title": false,
   "title_cell": "Table of Contents",
   "title_sidebar": "Contents",
   "toc_cell": false,
   "toc_position": {},
   "toc_section_display": true,
   "toc_window_display": false
  }
 },
 "nbformat": 4,
 "nbformat_minor": 2
}
