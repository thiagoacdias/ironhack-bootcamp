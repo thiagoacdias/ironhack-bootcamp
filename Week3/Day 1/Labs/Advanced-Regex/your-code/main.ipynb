{
 "cells": [
  {
   "cell_type": "markdown",
   "metadata": {
    "colab_type": "text",
    "id": "GSxLkJ7Zd1q8"
   },
   "source": [
    "![Ironhack logo](https://i.imgur.com/1QgrNNw.png)\n",
    "\n",
    "# Lab | Advanced Regular Expressions\n",
    "\n",
    "## Introduction\n",
    "\n",
    "In the Advanced Regular Expressions lesson, you learned about the various components of regular expressions as well as how to use them both in isolation and together with other components.\n",
    "\n",
    "In this lab, you will practice putting together your own regular expressions from scratch. Some of the examples are similar to the ones we went over in the lesson, while others have slight modifications included to test your knowledge and ensure that you grasp the concepts covered.\n",
    "\n",
    "## Getting Started\n",
    "\n",
    "There are a bunch of questions to be solved. If you get stuck in one exercise you can skip to the next one. Read each instruction carefully and provide your answer beneath it.\n",
    "\n",
    "## Resources\n",
    "\n",
    "- [Regular Expression Operations | Python Documentation](https://docs.python.org/3/library/re.html)\n",
    "- [Regular Expression How To | Python Documentation](https://docs.python.org/3/howto/regex.html)\n",
    "- [Python - Regular Expressions | TutorialsPoint](https://www.tutorialspoint.com/python/python_reg_expressions.htm)"
   ]
  },
  {
   "cell_type": "markdown",
   "metadata": {
    "colab_type": "text",
    "id": "u6zh1Gl2Wc36"
   },
   "source": [
    "# Advanced Regular Expressions Lab\n",
    "\n",
    "Complete the following set of exercises to solidify your knowledge of regular expressions."
   ]
  },
  {
   "cell_type": "code",
   "execution_count": 1,
   "metadata": {
    "ExecuteTime": {
     "end_time": "2020-08-31T20:11:35.552167Z",
     "start_time": "2020-08-31T20:11:35.547502Z"
    },
    "colab": {},
    "colab_type": "code",
    "id": "6uhESlsRWc38"
   },
   "outputs": [],
   "source": [
    "import re"
   ]
  },
  {
   "cell_type": "markdown",
   "metadata": {
    "colab_type": "text",
    "id": "Wv1ZB0VyWc3_"
   },
   "source": [
    "### 1. Use a regular expression to find and extract all vowels in the following text."
   ]
  },
  {
   "cell_type": "code",
   "execution_count": 3,
   "metadata": {
    "ExecuteTime": {
     "end_time": "2020-08-31T20:12:07.887378Z",
     "start_time": "2020-08-31T20:12:07.883389Z"
    },
    "colab": {},
    "colab_type": "code",
    "id": "5xB4WxDWWc4A"
   },
   "outputs": [],
   "source": [
    "text = \"This is going to be a sentence with a good number of vowels in it.\""
   ]
  },
  {
   "cell_type": "code",
   "execution_count": 7,
   "metadata": {
    "ExecuteTime": {
     "end_time": "2020-08-31T20:12:25.526818Z",
     "start_time": "2020-08-31T20:12:25.520836Z"
    },
    "colab": {},
    "colab_type": "code",
    "id": "E3kPA2MuWc4C"
   },
   "outputs": [
    {
     "data": {
      "text/plain": [
       "{'a', 'e', 'i', 'o', 'u'}"
      ]
     },
     "execution_count": 7,
     "metadata": {},
     "output_type": "execute_result"
    }
   ],
   "source": [
    "set(re.findall('[AaEeIiOoUu]', text))"
   ]
  },
  {
   "cell_type": "markdown",
   "metadata": {
    "colab_type": "text",
    "id": "huHIPXdmWc4E"
   },
   "source": [
    "### 2. Use a regular expression to find and extract all occurrences and tenses (singular and plural) of the word \"puppy\" in the text below."
   ]
  },
  {
   "cell_type": "code",
   "execution_count": 9,
   "metadata": {
    "ExecuteTime": {
     "end_time": "2020-08-31T20:17:22.494617Z",
     "start_time": "2020-08-31T20:17:22.488636Z"
    },
    "colab": {},
    "colab_type": "code",
    "id": "Ke3sqPqnWc4F"
   },
   "outputs": [],
   "source": [
    "text = \"The puppy saw all the rest of the puppies playing and wanted to join them. I saw this and wanted a puppy of my own!\""
   ]
  },
  {
   "cell_type": "code",
   "execution_count": 10,
   "metadata": {
    "ExecuteTime": {
     "end_time": "2020-08-31T20:17:24.072590Z",
     "start_time": "2020-08-31T20:17:24.064610Z"
    },
    "colab": {},
    "colab_type": "code",
    "id": "L5Pz507mWc4I"
   },
   "outputs": [
    {
     "data": {
      "text/plain": [
       "['puppy', 'puppies', 'puppy']"
      ]
     },
     "execution_count": 10,
     "metadata": {},
     "output_type": "execute_result"
    }
   ],
   "source": [
    "re.findall('pupp\\w*', text)"
   ]
  },
  {
   "cell_type": "markdown",
   "metadata": {
    "colab_type": "text",
    "id": "hrNlK8uOWc4L"
   },
   "source": [
    "### 3. Use a regular expression to find and extract all tenses (present and past) of the word \"run\" in the text below."
   ]
  },
  {
   "cell_type": "code",
   "execution_count": 11,
   "metadata": {
    "ExecuteTime": {
     "end_time": "2020-08-31T20:17:37.238193Z",
     "start_time": "2020-08-31T20:17:37.233209Z"
    },
    "colab": {},
    "colab_type": "code",
    "id": "1OzE93pqWc4L"
   },
   "outputs": [],
   "source": [
    "text = \"I ran the relay race the only way I knew how to run it.\""
   ]
  },
  {
   "cell_type": "code",
   "execution_count": 12,
   "metadata": {
    "ExecuteTime": {
     "end_time": "2020-08-31T20:17:54.287007Z",
     "start_time": "2020-08-31T20:17:54.280029Z"
    },
    "colab": {},
    "colab_type": "code",
    "id": "V7jSxyZPWc4O"
   },
   "outputs": [
    {
     "data": {
      "text/plain": [
       "['ran', 'run']"
      ]
     },
     "execution_count": 12,
     "metadata": {},
     "output_type": "execute_result"
    }
   ],
   "source": [
    "re.findall('r[ua]n', text)"
   ]
  },
  {
   "cell_type": "markdown",
   "metadata": {
    "colab_type": "text",
    "id": "A2UY2k-oWc4Q"
   },
   "source": [
    "### 4. Use a regular expression to find and extract all words that begin with the letter \"r\" from the previous text."
   ]
  },
  {
   "cell_type": "code",
   "execution_count": 15,
   "metadata": {
    "ExecuteTime": {
     "end_time": "2020-08-31T20:18:49.911880Z",
     "start_time": "2020-08-31T20:18:49.903901Z"
    },
    "colab": {},
    "colab_type": "code",
    "id": "g0znvtI1Wc4R"
   },
   "outputs": [
    {
     "data": {
      "text/plain": [
       "[' ran', ' relay', ' race', ' run']"
      ]
     },
     "execution_count": 15,
     "metadata": {},
     "output_type": "execute_result"
    }
   ],
   "source": [
    "re.findall('^[Rr]\\w*|\\sr\\w*', text)"
   ]
  },
  {
   "cell_type": "markdown",
   "metadata": {
    "colab_type": "text",
    "id": "Nc2bO2meWc4V"
   },
   "source": [
    "### 5. Use a regular expression to find and substitute the letter \"i\" for the exclamation marks in the text below."
   ]
  },
  {
   "cell_type": "code",
   "execution_count": 16,
   "metadata": {
    "ExecuteTime": {
     "end_time": "2020-08-31T20:19:40.902866Z",
     "start_time": "2020-08-31T20:19:40.897883Z"
    },
    "colab": {},
    "colab_type": "code",
    "id": "sN4XWmB6Wc4V"
   },
   "outputs": [],
   "source": [
    "text = \"Th!s !s a sentence w!th spec!al characters !n !t.\""
   ]
  },
  {
   "cell_type": "code",
   "execution_count": 17,
   "metadata": {
    "ExecuteTime": {
     "end_time": "2020-08-31T20:19:54.664496Z",
     "start_time": "2020-08-31T20:19:54.656516Z"
    },
    "colab": {},
    "colab_type": "code",
    "id": "tO5KYC1dWc4Y"
   },
   "outputs": [
    {
     "data": {
      "text/plain": [
       "'This is a sentence with special characters in it.'"
      ]
     },
     "execution_count": 17,
     "metadata": {},
     "output_type": "execute_result"
    }
   ],
   "source": [
    "re.sub('!', 'i', text)"
   ]
  },
  {
   "cell_type": "markdown",
   "metadata": {
    "colab_type": "text",
    "id": "kj4YHgVVWc4a"
   },
   "source": [
    "### 6. Use a regular expression to find and extract words longer than 4 characters in the text below."
   ]
  },
  {
   "cell_type": "code",
   "execution_count": 18,
   "metadata": {
    "ExecuteTime": {
     "end_time": "2020-08-31T20:20:15.457538Z",
     "start_time": "2020-08-31T20:20:15.453230Z"
    },
    "colab": {},
    "colab_type": "code",
    "id": "E1d38WK9Wc4a"
   },
   "outputs": [],
   "source": [
    "text = \"This sentence has words of varying lengths.\""
   ]
  },
  {
   "cell_type": "code",
   "execution_count": 24,
   "metadata": {
    "ExecuteTime": {
     "end_time": "2020-08-31T20:24:13.892820Z",
     "start_time": "2020-08-31T20:24:13.885839Z"
    },
    "colab": {},
    "colab_type": "code",
    "id": "NzsCWgdMWc4c"
   },
   "outputs": [
    {
     "data": {
      "text/plain": [
       "['This', 'sentence', 'words', 'varying', 'lengths']"
      ]
     },
     "execution_count": 24,
     "metadata": {},
     "output_type": "execute_result"
    }
   ],
   "source": [
    "re.findall('\\w{4,}', text)"
   ]
  },
  {
   "cell_type": "markdown",
   "metadata": {
    "colab_type": "text",
    "id": "9ktIdGJwWc4e"
   },
   "source": [
    "### 7. Use a regular expression to find and extract all occurrences of the letter \"b\", some letter(s), and then the letter \"t\" in the sentence below."
   ]
  },
  {
   "cell_type": "code",
   "execution_count": 26,
   "metadata": {
    "ExecuteTime": {
     "end_time": "2020-08-31T20:25:23.458858Z",
     "start_time": "2020-08-31T20:25:23.454868Z"
    },
    "colab": {},
    "colab_type": "code",
    "id": "n39CZov3Wc4f"
   },
   "outputs": [],
   "source": [
    "text = \"I bet the robot couldn't beat the other bot with a bat, but instead it bit me.\""
   ]
  },
  {
   "cell_type": "code",
   "execution_count": 27,
   "metadata": {
    "ExecuteTime": {
     "end_time": "2020-08-31T20:25:25.144744Z",
     "start_time": "2020-08-31T20:25:25.136764Z"
    },
    "colab": {},
    "colab_type": "code",
    "id": "-V4SXt-LWc4h"
   },
   "outputs": [
    {
     "data": {
      "text/plain": [
       "['bet', 'bot', 'beat', 'bot', 'bat', 'but', 'bit']"
      ]
     },
     "execution_count": 27,
     "metadata": {},
     "output_type": "execute_result"
    }
   ],
   "source": [
    "re.findall('[Bb]\\w+[Tt]', text)"
   ]
  },
  {
   "cell_type": "markdown",
   "metadata": {
    "colab_type": "text",
    "id": "uDQSsLRJWc4j"
   },
   "source": [
    "### 8. Use a regular expression to find and extract all words that contain either \"ea\" or \"eo\" in them."
   ]
  },
  {
   "cell_type": "code",
   "execution_count": 28,
   "metadata": {
    "ExecuteTime": {
     "end_time": "2020-08-31T20:26:25.213042Z",
     "start_time": "2020-08-31T20:26:25.208001Z"
    },
    "colab": {},
    "colab_type": "code",
    "id": "CYlQ6MY2Wc4k"
   },
   "outputs": [],
   "source": [
    "text = \"During many of the peaks and troughs of history, the people living it didn't fully realize what was unfolding. But we all know we're navigating breathtaking history: Nearly every day could be — maybe will be — a book.\"\n"
   ]
  },
  {
   "cell_type": "code",
   "execution_count": 32,
   "metadata": {
    "ExecuteTime": {
     "end_time": "2020-08-31T20:27:30.952260Z",
     "start_time": "2020-08-31T20:27:30.944243Z"
    },
    "colab": {},
    "colab_type": "code",
    "id": "ON5uuFEyWc4m"
   },
   "outputs": [
    {
     "data": {
      "text/plain": [
       "['peaks', 'people', 'realize', 'breathtaking', 'Nearly']"
      ]
     },
     "execution_count": 32,
     "metadata": {},
     "output_type": "execute_result"
    }
   ],
   "source": [
    "re.findall('\\w*e[ao]\\w*', text)"
   ]
  },
  {
   "cell_type": "markdown",
   "metadata": {
    "colab_type": "text",
    "id": "GvibshnsWc4n"
   },
   "source": [
    "### 9. Use a regular expression to find and extract all the capitalized words in the text below individually."
   ]
  },
  {
   "cell_type": "code",
   "execution_count": 33,
   "metadata": {
    "ExecuteTime": {
     "end_time": "2020-08-31T20:27:56.847485Z",
     "start_time": "2020-08-31T20:27:56.843496Z"
    },
    "colab": {},
    "colab_type": "code",
    "id": "T8vW83EsWc4o"
   },
   "outputs": [],
   "source": [
    "text = \"Teddy Roosevelt and Abraham Lincoln walk into a bar.\""
   ]
  },
  {
   "cell_type": "code",
   "execution_count": 34,
   "metadata": {
    "ExecuteTime": {
     "end_time": "2020-08-31T20:28:19.721936Z",
     "start_time": "2020-08-31T20:28:19.714920Z"
    },
    "colab": {},
    "colab_type": "code",
    "id": "2C0ZMuv2Wc4q"
   },
   "outputs": [
    {
     "data": {
      "text/plain": [
       "['Teddy', 'Roosevelt', 'Abraham', 'Lincoln']"
      ]
     },
     "execution_count": 34,
     "metadata": {},
     "output_type": "execute_result"
    }
   ],
   "source": [
    "re.findall('[A-Z]\\w*', text)"
   ]
  },
  {
   "cell_type": "markdown",
   "metadata": {
    "colab_type": "text",
    "id": "jrd894uxWc4s"
   },
   "source": [
    "### 10. Use a regular expression to find and extract all the sets of consecutive capitalized words in the text above."
   ]
  },
  {
   "cell_type": "code",
   "execution_count": 35,
   "metadata": {
    "ExecuteTime": {
     "end_time": "2020-08-31T20:29:26.383857Z",
     "start_time": "2020-08-31T20:29:26.376877Z"
    },
    "colab": {},
    "colab_type": "code",
    "id": "D6cNET_-Wc4t"
   },
   "outputs": [
    {
     "data": {
      "text/plain": [
       "['Teddy Roosevelt', 'Abraham Lincoln']"
      ]
     },
     "execution_count": 35,
     "metadata": {},
     "output_type": "execute_result"
    }
   ],
   "source": [
    "re.findall('[A-Z]\\w* ?[A-Z]\\w*|[A-Z]\\w*', text)"
   ]
  },
  {
   "cell_type": "markdown",
   "metadata": {
    "colab_type": "text",
    "id": "rJwFfXtAWc4v"
   },
   "source": [
    "### 11. Use a regular expression to find and extract all the quotes from the text below.\n",
    "\n",
    "*Hint: This one is a little more complex than the single quote example in the lesson because there are multiple quotes in the text.*"
   ]
  },
  {
   "cell_type": "code",
   "execution_count": 42,
   "metadata": {
    "ExecuteTime": {
     "end_time": "2020-08-31T20:33:53.056661Z",
     "start_time": "2020-08-31T20:33:53.052674Z"
    },
    "colab": {},
    "colab_type": "code",
    "id": "biVWmSWXWc4v"
   },
   "outputs": [],
   "source": [
    "text = 'Roosevelt says to Lincoln, \"I will bet you $50 I can get the bartender to give me a free drink.\" Lincoln says, \"I am in!\"'\n"
   ]
  },
  {
   "cell_type": "code",
   "execution_count": 46,
   "metadata": {
    "ExecuteTime": {
     "end_time": "2020-08-31T20:34:39.881828Z",
     "start_time": "2020-08-31T20:34:39.874846Z"
    },
    "colab": {},
    "colab_type": "code",
    "id": "7f7Xut9sWc4x"
   },
   "outputs": [
    {
     "data": {
      "text/plain": [
       "['\"I will bet you $50 I can get the bartender to give me a free drink.\"',\n",
       " '\"I am in!\"']"
      ]
     },
     "execution_count": 46,
     "metadata": {},
     "output_type": "execute_result"
    }
   ],
   "source": [
    "re.findall('\".*?\"', text)"
   ]
  },
  {
   "cell_type": "markdown",
   "metadata": {
    "colab_type": "text",
    "id": "LMcfzklpWc4y"
   },
   "source": [
    "### 12. Use a regular expression to find and extract all the numbers from the text below."
   ]
  },
  {
   "cell_type": "code",
   "execution_count": 47,
   "metadata": {
    "ExecuteTime": {
     "end_time": "2020-08-31T20:35:06.936208Z",
     "start_time": "2020-08-31T20:35:06.932217Z"
    },
    "colab": {},
    "colab_type": "code",
    "id": "DDdSohMOWc4z"
   },
   "outputs": [],
   "source": [
    "text = \"There were 30 students in the class. Of the 30 students, 14 were male and 16 were female. Only 10 students got A's on the exam.\"\n"
   ]
  },
  {
   "cell_type": "code",
   "execution_count": 49,
   "metadata": {
    "ExecuteTime": {
     "end_time": "2020-08-31T20:35:35.988277Z",
     "start_time": "2020-08-31T20:35:35.982294Z"
    },
    "colab": {},
    "colab_type": "code",
    "id": "OiQ6jfMhWc41"
   },
   "outputs": [
    {
     "data": {
      "text/plain": [
       "['30', '30', '14', '16', '10']"
      ]
     },
     "execution_count": 49,
     "metadata": {},
     "output_type": "execute_result"
    }
   ],
   "source": [
    "re.findall('\\d+', text)"
   ]
  },
  {
   "cell_type": "markdown",
   "metadata": {
    "colab_type": "text",
    "id": "DBWXDFZSWc43"
   },
   "source": [
    "### 13. Use a regular expression to find and extract all the social security numbers from the text below."
   ]
  },
  {
   "cell_type": "code",
   "execution_count": 50,
   "metadata": {
    "ExecuteTime": {
     "end_time": "2020-08-31T20:35:56.609540Z",
     "start_time": "2020-08-31T20:35:56.605551Z"
    },
    "colab": {},
    "colab_type": "code",
    "id": "Cj5Xn0EGWc44"
   },
   "outputs": [],
   "source": [
    "text = \"\"\"\n",
    "Henry's social security number is 876-93-2289 and his phone number is (847)789-0984.\n",
    "Darlene's social security number is 098-32-5295 and her phone number is (987)222-0901.\n",
    "\"\"\""
   ]
  },
  {
   "cell_type": "code",
   "execution_count": 51,
   "metadata": {
    "ExecuteTime": {
     "end_time": "2020-08-31T20:36:10.753514Z",
     "start_time": "2020-08-31T20:36:10.746533Z"
    },
    "colab": {},
    "colab_type": "code",
    "id": "Pl3qPxbzWc46"
   },
   "outputs": [
    {
     "data": {
      "text/plain": [
       "['876-93-2289', '098-32-5295']"
      ]
     },
     "execution_count": 51,
     "metadata": {},
     "output_type": "execute_result"
    }
   ],
   "source": [
    "re.findall('\\d\\d\\d-\\d\\d-\\d\\d\\d\\d', text)"
   ]
  },
  {
   "cell_type": "markdown",
   "metadata": {
    "colab_type": "text",
    "id": "VuxCxkU2Wc48"
   },
   "source": [
    "### 14. Use a regular expression to find and extract all the phone numbers from the same text."
   ]
  },
  {
   "cell_type": "code",
   "execution_count": 52,
   "metadata": {
    "ExecuteTime": {
     "end_time": "2020-08-31T20:36:42.944805Z",
     "start_time": "2020-08-31T20:36:42.937824Z"
    },
    "colab": {},
    "colab_type": "code",
    "id": "Z2y5zfykWc49"
   },
   "outputs": [
    {
     "data": {
      "text/plain": [
       "['(847)789-0984', '(987)222-0901']"
      ]
     },
     "execution_count": 52,
     "metadata": {},
     "output_type": "execute_result"
    }
   ],
   "source": [
    "re.findall('\\(\\d\\d\\d\\)\\d\\d\\d-\\d\\d\\d\\d', text)"
   ]
  },
  {
   "cell_type": "markdown",
   "metadata": {
    "colab_type": "text",
    "id": "IlRyjuDPWc4-"
   },
   "source": [
    "### 15. Use a regular expression to find and extract all the formatted numbers (both social security and phone) from the text."
   ]
  },
  {
   "cell_type": "code",
   "execution_count": 62,
   "metadata": {
    "ExecuteTime": {
     "end_time": "2020-08-31T20:41:01.930002Z",
     "start_time": "2020-08-31T20:41:01.922024Z"
    },
    "colab": {},
    "colab_type": "code",
    "id": "o4N-d4NlWc4_"
   },
   "outputs": [
    {
     "data": {
      "text/plain": [
       "['876-93-2289', '(847)789-0984', '098-32-5295', '(987)222-0901']"
      ]
     },
     "execution_count": 62,
     "metadata": {},
     "output_type": "execute_result"
    }
   ],
   "source": [
    "re.findall('\\(?\\d+\\)?-?\\d*\\-\\d*', text)"
   ]
  },
  {
   "cell_type": "code",
   "execution_count": null,
   "metadata": {},
   "outputs": [],
   "source": []
  }
 ],
 "metadata": {
  "colab": {
   "collapsed_sections": [],
   "name": "main.ipynb",
   "provenance": []
  },
  "kernelspec": {
   "display_name": "Python 3",
   "language": "python",
   "name": "python3"
  },
  "language_info": {
   "codemirror_mode": {
    "name": "ipython",
    "version": 3
   },
   "file_extension": ".py",
   "mimetype": "text/x-python",
   "name": "python",
   "nbconvert_exporter": "python",
   "pygments_lexer": "ipython3",
   "version": "3.8.3"
  },
  "toc": {
   "base_numbering": 1,
   "nav_menu": {},
   "number_sections": true,
   "sideBar": true,
   "skip_h1_title": false,
   "title_cell": "Table of Contents",
   "title_sidebar": "Contents",
   "toc_cell": false,
   "toc_position": {},
   "toc_section_display": true,
   "toc_window_display": false
  }
 },
 "nbformat": 4,
 "nbformat_minor": 1
}
