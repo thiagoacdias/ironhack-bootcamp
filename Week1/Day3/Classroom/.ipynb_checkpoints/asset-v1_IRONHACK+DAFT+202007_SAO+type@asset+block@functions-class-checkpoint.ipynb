{
 "cells": [
  {
   "cell_type": "markdown",
   "metadata": {},
   "source": [
    "# Functions in Python"
   ]
  },
  {
   "cell_type": "markdown",
   "metadata": {},
   "source": [
    "## Why Functions?"
   ]
  },
  {
   "cell_type": "markdown",
   "metadata": {},
   "source": [
    "- Functions help us \n",
    "    - <u>reuse code </u>\n",
    "        - **Rule of three**: https://en.wikipedia.org/wiki/Rule_of_three_(computer_programming)\n",
    "        - **DRY principle**: https://en.wikipedia.org/wiki/Don%27t_repeat_yourself\n",
    "    - <u> document steps</u>\n",
    "        - **docstrings**: https://www.python.org/dev/peps/pep-0257/\n",
    "    - <u> organize thoughts</u>"
   ]
  },
  {
   "cell_type": "markdown",
   "metadata": {},
   "source": [
    "## Function Syntax: \n",
    "\n",
    "Example function: \n",
    "\n",
    "```python\n",
    "def function_name(x,y,z):\n",
    "    \"\"\"Documentation comes here\"\"\"\n",
    "    k = x + y + z\n",
    "    \n",
    "    return k\n",
    "```\n",
    "\n",
    "----\n",
    "### Step by step\n",
    "\n",
    "`def`\n",
    "\n",
    "`function_name`\n",
    "\n",
    "```python\n",
    "def function_name\n",
    "```\n",
    "\n",
    "`parentheses`\n",
    "\n",
    "`[OPTIONAL] list of arguments`\n",
    "\n",
    "```python\n",
    "def function_name(x,y,z)\n",
    "```\n",
    "\n",
    "`required vs optional arguments`\n",
    "\n",
    "`:`\n",
    "\n",
    "`indented code block`\n",
    "\n",
    "```python\n",
    "def function_name(x,y,z):\n",
    "    k = x + y + z\n",
    "    \n",
    "```\n",
    "\n",
    "`[docstring]`\n",
    "\n",
    "```python\n",
    "def function_name(x,y,z):\n",
    "    \"\"\"Documentation comes here\"\"\"\n",
    "    k = x + y + z\n",
    "    \n",
    "```\n",
    "\n",
    "`return statement` \n",
    "\n",
    "```python\n",
    "def function_name(x,y,z):\n",
    "    \"\"\"Documentation comes here\"\"\"\n",
    "    k = x + y + z\n",
    "    \n",
    "    return k\n",
    "    \n",
    "```\n",
    "\n",
    "`functions are Callables!`"
   ]
  },
  {
   "cell_type": "code",
   "execution_count": null,
   "metadata": {},
   "outputs": [],
   "source": []
  },
  {
   "cell_type": "code",
   "execution_count": 1,
   "metadata": {
    "ExecuteTime": {
     "end_time": "2020-07-22T00:23:47.224974Z",
     "start_time": "2020-07-22T00:23:47.222006Z"
    }
   },
   "outputs": [],
   "source": [
    "def grite():\n",
    "    \"\"\"Essa função grita!! \"\"\"\n",
    "    \n",
    "    print('Eu vou gritaaar: ')\n",
    "    print('AHHHHHHHHHHHH')"
   ]
  },
  {
   "cell_type": "code",
   "execution_count": 4,
   "metadata": {
    "ExecuteTime": {
     "end_time": "2020-07-22T00:23:13.408173Z",
     "start_time": "2020-07-22T00:23:13.405172Z"
    }
   },
   "outputs": [
    {
     "name": "stdout",
     "output_type": "stream",
     "text": [
      "Eu vou gritaaar: \n",
      "AHHHHHHHHHHHH\n"
     ]
    }
   ],
   "source": [
    "grite()"
   ]
  },
  {
   "cell_type": "code",
   "execution_count": null,
   "metadata": {},
   "outputs": [],
   "source": [
    "# grite = 10\n",
    "# del grite"
   ]
  },
  {
   "cell_type": "markdown",
   "metadata": {},
   "source": [
    "# Functions in Python"
   ]
  },
  {
   "cell_type": "markdown",
   "metadata": {
    "ExecuteTime": {
     "end_time": "2020-07-21T21:28:50.118075Z",
     "start_time": "2020-07-21T21:28:50.115102Z"
    }
   },
   "source": [
    "Imagine que temos um jogo com algumas regras inventadas. Existem essas duas opções, se a pessoa ganhar, aparece `'Legal! Muito bom'` na tela, mas se ela perder aparecerá `'Ih, você perdeu'`."
   ]
  },
  {
   "cell_type": "code",
   "execution_count": 5,
   "metadata": {
    "ExecuteTime": {
     "end_time": "2020-07-22T00:31:03.713729Z",
     "start_time": "2020-07-22T00:31:02.292124Z"
    }
   },
   "outputs": [
    {
     "name": "stdout",
     "output_type": "stream",
     "text": [
      "adsada\n"
     ]
    },
    {
     "data": {
      "text/plain": [
       "'adsada'"
      ]
     },
     "execution_count": 5,
     "metadata": {},
     "output_type": "execute_result"
    }
   ],
   "source": [
    "input()"
   ]
  },
  {
   "cell_type": "code",
   "execution_count": 6,
   "metadata": {
    "ExecuteTime": {
     "end_time": "2020-07-22T00:31:26.159981Z",
     "start_time": "2020-07-22T00:31:20.685025Z"
    }
   },
   "outputs": [
    {
     "name": "stdout",
     "output_type": "stream",
     "text": [
      "Escolha um número:1\n"
     ]
    }
   ],
   "source": [
    "x = int(input('Escolha um número:'))"
   ]
  },
  {
   "cell_type": "code",
   "execution_count": 7,
   "metadata": {
    "ExecuteTime": {
     "end_time": "2020-07-22T00:31:29.616362Z",
     "start_time": "2020-07-22T00:31:29.611362Z"
    }
   },
   "outputs": [
    {
     "data": {
      "text/plain": [
       "1"
      ]
     },
     "execution_count": 7,
     "metadata": {},
     "output_type": "execute_result"
    }
   ],
   "source": [
    "x"
   ]
  },
  {
   "cell_type": "code",
   "execution_count": 12,
   "metadata": {
    "ExecuteTime": {
     "end_time": "2020-07-22T00:35:16.759719Z",
     "start_time": "2020-07-22T00:35:06.111657Z"
    }
   },
   "outputs": [
    {
     "name": "stdout",
     "output_type": "stream",
     "text": [
      "Escolha um número maior que 10:9\n",
      "Escolha um número maior que 10:10\n"
     ]
    }
   ],
   "source": [
    "x = 0 \n",
    "\n",
    "while x < 10:\n",
    "    x = int(input('Escolha um número maior que 10:'))"
   ]
  },
  {
   "cell_type": "code",
   "execution_count": 13,
   "metadata": {
    "ExecuteTime": {
     "end_time": "2020-07-22T00:37:35.573429Z",
     "start_time": "2020-07-22T00:37:34.687274Z"
    }
   },
   "outputs": [
    {
     "name": "stdout",
     "output_type": "stream",
     "text": [
      "Escolha um número:5\n",
      "Legal! Muito bom\n"
     ]
    }
   ],
   "source": [
    "# jogo completamente aleatório:\n",
    "\n",
    "x = int(input('Escolha um número:'))\n",
    "\n",
    "if x < 3:\n",
    "    print('Legal! Muito bom')\n",
    "elif x < 5:\n",
    "    print('Ih, você perdeu')\n",
    "elif x < 7:\n",
    "    print('Legal! Muito bom')\n",
    "elif x < 9:\n",
    "    print('Ih, você perdeu')\n",
    "elif x < 15:\n",
    "    print('Legal! Muito bom')\n",
    "elif x < 25:\n",
    "    print('Ih, você perdeu')\n",
    "elif x < 37:\n",
    "    print('Legal! Muito bom')"
   ]
  },
  {
   "cell_type": "markdown",
   "metadata": {},
   "source": [
    "> E se quisessemos, por exemplo, mudar o código para mostrar o valor que a pessoa escolheu quando ela perde?"
   ]
  },
  {
   "cell_type": "code",
   "execution_count": 14,
   "metadata": {
    "ExecuteTime": {
     "end_time": "2020-07-21T21:31:38.971726Z",
     "start_time": "2020-07-21T21:31:38.134079Z"
    }
   },
   "outputs": [
    {
     "name": "stdout",
     "output_type": "stream",
     "text": [
      "Escolha um número:2\n",
      "Legal! Muito bom\n"
     ]
    }
   ],
   "source": [
    "# jogo completamente aleatório:\n",
    "\n",
    "x = int(input('Escolha um número:'))\n",
    "\n",
    "if x < 3:\n",
    "    print('Legal! Muito bom')\n",
    "elif x < 5:\n",
    "    print(f'Ih, você perdeu, você escolheu {x}')\n",
    "elif x < 7:\n",
    "    print('Legal! Muito bom')\n",
    "elif x < 9:\n",
    "    print(f'Ih, você perdeu, você escolheu {x}')\n",
    "elif x < 15:\n",
    "    print('Legal! Muito bom')\n",
    "elif x < 25:\n",
    "    print(f'Ih, você perdeu, você escolheu {x}')\n",
    "elif x < 37:\n",
    "    print('Legal! Muito bom')"
   ]
  },
  {
   "cell_type": "markdown",
   "metadata": {},
   "source": [
    "> Se este código tivesse sido escrito em funções, veja qual o processo para modificar o código:"
   ]
  },
  {
   "cell_type": "code",
   "execution_count": 1,
   "metadata": {
    "ExecuteTime": {
     "end_time": "2020-07-22T00:38:17.375025Z",
     "start_time": "2020-07-22T00:38:17.371028Z"
    }
   },
   "outputs": [],
   "source": [
    "def say_congrats():\n",
    "    \"\"\"This function says you won the game.\"\"\"\n",
    "    \n",
    "    print('Legal! Muito bom')"
   ]
  },
  {
   "cell_type": "code",
   "execution_count": 2,
   "metadata": {
    "ExecuteTime": {
     "end_time": "2020-07-22T00:39:18.240324Z",
     "start_time": "2020-07-22T00:39:18.237323Z"
    }
   },
   "outputs": [],
   "source": [
    "def say_condolence():\n",
    "    \"\"\"This function says you lost the game and tells you the score\"\"\"\n",
    "    \n",
    "    print(f'Ih você perdeu porque escolheu o numero {x}')"
   ]
  },
  {
   "cell_type": "code",
   "execution_count": 3,
   "metadata": {
    "ExecuteTime": {
     "end_time": "2020-07-22T00:39:26.885500Z",
     "start_time": "2020-07-22T00:39:24.504549Z"
    }
   },
   "outputs": [
    {
     "name": "stdout",
     "output_type": "stream",
     "text": [
      "Escolha um número:8\n",
      "Ih você perdeu porque escolheu o numero 8\n"
     ]
    }
   ],
   "source": [
    "# jogo completamente aleatório:\n",
    "\n",
    "x = int(input('Escolha um número:'))\n",
    "\n",
    "if x < 3:\n",
    "    say_congrats()\n",
    "elif x < 5:\n",
    "    say_condolence()\n",
    "elif x < 7:\n",
    "    say_congrats()\n",
    "elif x < 9:\n",
    "    say_condolence()\n",
    "elif x < 15:\n",
    "    say_congrats()\n",
    "elif x < 25:\n",
    "    say_condolence()\n",
    "elif x < 37:\n",
    "    say_congrats()"
   ]
  },
  {
   "cell_type": "markdown",
   "metadata": {},
   "source": [
    "- vantagens:\n",
    "    - Corrigir/modificar códigos em apenas um lugar\n",
    "    - Evitar erros (principalmente se existe mais de uma pessoa trabalhando no mesmo código)\n",
    "    - Organizar o código e documentação"
   ]
  },
  {
   "cell_type": "markdown",
   "metadata": {},
   "source": [
    "## Functions are `callables`\n",
    "\n",
    "This means that you have to `call` them for them to run. You call a function by specifying `()` at the end of its name. If you only call the name of the function, it is just a variable name. The function is not executed at all."
   ]
  },
  {
   "cell_type": "code",
   "execution_count": 4,
   "metadata": {
    "ExecuteTime": {
     "end_time": "2020-07-22T00:40:46.206311Z",
     "start_time": "2020-07-22T00:40:46.202301Z"
    }
   },
   "outputs": [
    {
     "data": {
      "text/plain": [
       "<function __main__.say_congrats()>"
      ]
     },
     "execution_count": 4,
     "metadata": {},
     "output_type": "execute_result"
    }
   ],
   "source": [
    "say_congrats"
   ]
  },
  {
   "cell_type": "code",
   "execution_count": 5,
   "metadata": {
    "ExecuteTime": {
     "end_time": "2020-07-22T00:41:11.512919Z",
     "start_time": "2020-07-22T00:41:11.509918Z"
    }
   },
   "outputs": [
    {
     "name": "stdout",
     "output_type": "stream",
     "text": [
      "Legal! Muito bom\n"
     ]
    }
   ],
   "source": [
    "say_congrats()"
   ]
  },
  {
   "cell_type": "code",
   "execution_count": 6,
   "metadata": {
    "ExecuteTime": {
     "end_time": "2020-07-22T00:42:43.484180Z",
     "start_time": "2020-07-22T00:42:43.481178Z"
    }
   },
   "outputs": [],
   "source": [
    "f = say_congrats"
   ]
  },
  {
   "cell_type": "code",
   "execution_count": 7,
   "metadata": {
    "ExecuteTime": {
     "end_time": "2020-07-22T00:43:05.654991Z",
     "start_time": "2020-07-22T00:43:05.650995Z"
    }
   },
   "outputs": [
    {
     "name": "stdout",
     "output_type": "stream",
     "text": [
      "Legal! Muito bom\n"
     ]
    }
   ],
   "source": [
    "f()"
   ]
  },
  {
   "cell_type": "code",
   "execution_count": 8,
   "metadata": {
    "ExecuteTime": {
     "end_time": "2020-07-22T00:44:01.951278Z",
     "start_time": "2020-07-22T00:44:01.947279Z"
    }
   },
   "outputs": [
    {
     "data": {
      "text/plain": [
       "['.ipynb_checkpoints',\n",
       " 'asset-v1_IRONHACK+DAFT+202007_SAO+type@asset+block@functions-class.ipynb',\n",
       " 'asset-v1_IRONHACK+DAFT+202007_SAO+type@asset+block@list-comprehension.ipynb']"
      ]
     },
     "execution_count": 8,
     "metadata": {},
     "output_type": "execute_result"
    }
   ],
   "source": [
    "import os\n",
    "\n",
    "os.listdir()"
   ]
  },
  {
   "cell_type": "code",
   "execution_count": 9,
   "metadata": {
    "ExecuteTime": {
     "end_time": "2020-07-22T00:44:34.904390Z",
     "start_time": "2020-07-22T00:44:34.901390Z"
    }
   },
   "outputs": [
    {
     "data": {
      "text/plain": [
       "<function nt.listdir(path=None)>"
      ]
     },
     "execution_count": 9,
     "metadata": {},
     "output_type": "execute_result"
    }
   ],
   "source": [
    "os.listdir"
   ]
  },
  {
   "cell_type": "code",
   "execution_count": 10,
   "metadata": {
    "ExecuteTime": {
     "end_time": "2020-07-22T00:45:23.891715Z",
     "start_time": "2020-07-22T00:45:23.885716Z"
    }
   },
   "outputs": [
    {
     "ename": "TypeError",
     "evalue": "'list' object is not callable",
     "output_type": "error",
     "traceback": [
      "\u001b[1;31m---------------------------------------------------------------------------\u001b[0m",
      "\u001b[1;31mTypeError\u001b[0m                                 Traceback (most recent call last)",
      "\u001b[1;32m<ipython-input-10-ac1d55bb851f>\u001b[0m in \u001b[0;36m<module>\u001b[1;34m\u001b[0m\n\u001b[1;32m----> 1\u001b[1;33m \u001b[0mos\u001b[0m\u001b[1;33m.\u001b[0m\u001b[0msys\u001b[0m\u001b[1;33m.\u001b[0m\u001b[0mpath\u001b[0m\u001b[1;33m(\u001b[0m\u001b[1;33m)\u001b[0m\u001b[1;33m\u001b[0m\u001b[1;33m\u001b[0m\u001b[0m\n\u001b[0m",
      "\u001b[1;31mTypeError\u001b[0m: 'list' object is not callable"
     ]
    }
   ],
   "source": [
    "os.sys.path()"
   ]
  },
  {
   "cell_type": "code",
   "execution_count": 11,
   "metadata": {
    "ExecuteTime": {
     "end_time": "2020-07-22T00:45:01.623298Z",
     "start_time": "2020-07-22T00:45:01.620299Z"
    }
   },
   "outputs": [
    {
     "data": {
      "text/plain": [
       "['C:\\\\Users\\\\TD\\\\Ironhack\\\\ironhack-bootcamp\\\\ironhack-bootcamp\\\\Week1\\\\Day3\\\\Classroom',\n",
       " 'C:\\\\Users\\\\TD\\\\anaconda3\\\\python38.zip',\n",
       " 'C:\\\\Users\\\\TD\\\\anaconda3\\\\DLLs',\n",
       " 'C:\\\\Users\\\\TD\\\\anaconda3\\\\lib',\n",
       " 'C:\\\\Users\\\\TD\\\\anaconda3',\n",
       " '',\n",
       " 'C:\\\\Users\\\\TD\\\\AppData\\\\Roaming\\\\Python\\\\Python38\\\\site-packages',\n",
       " 'C:\\\\Users\\\\TD\\\\anaconda3\\\\lib\\\\site-packages',\n",
       " 'C:\\\\Users\\\\TD\\\\anaconda3\\\\lib\\\\site-packages\\\\win32',\n",
       " 'C:\\\\Users\\\\TD\\\\anaconda3\\\\lib\\\\site-packages\\\\win32\\\\lib',\n",
       " 'C:\\\\Users\\\\TD\\\\anaconda3\\\\lib\\\\site-packages\\\\Pythonwin',\n",
       " 'C:\\\\Users\\\\TD\\\\anaconda3\\\\lib\\\\site-packages\\\\IPython\\\\extensions',\n",
       " 'C:\\\\Users\\\\TD\\\\.ipython']"
      ]
     },
     "execution_count": 11,
     "metadata": {},
     "output_type": "execute_result"
    }
   ],
   "source": [
    "os.sys.path"
   ]
  },
  {
   "cell_type": "markdown",
   "metadata": {},
   "source": [
    "Para **chamar** a função, tenho que colocar `()`"
   ]
  },
  {
   "cell_type": "code",
   "execution_count": 12,
   "metadata": {
    "ExecuteTime": {
     "end_time": "2020-07-21T21:34:18.947619Z",
     "start_time": "2020-07-21T21:34:18.944618Z"
    }
   },
   "outputs": [
    {
     "name": "stdout",
     "output_type": "stream",
     "text": [
      "Legal! Muito bom\n"
     ]
    }
   ],
   "source": [
    "say_congrats()"
   ]
  },
  {
   "cell_type": "code",
   "execution_count": 13,
   "metadata": {
    "ExecuteTime": {
     "end_time": "2020-07-21T21:34:21.116416Z",
     "start_time": "2020-07-21T21:34:21.113417Z"
    }
   },
   "outputs": [
    {
     "name": "stdout",
     "output_type": "stream",
     "text": [
      "Legal! Muito bom\n"
     ]
    }
   ],
   "source": [
    "f()"
   ]
  },
  {
   "cell_type": "markdown",
   "metadata": {},
   "source": [
    "Se eu tentar chamar algo que **não é uma função**, recebo o seguinte erro:"
   ]
  },
  {
   "cell_type": "code",
   "execution_count": 14,
   "metadata": {
    "ExecuteTime": {
     "end_time": "2020-07-22T00:46:11.125339Z",
     "start_time": "2020-07-22T00:46:11.120309Z"
    }
   },
   "outputs": [
    {
     "name": "stderr",
     "output_type": "stream",
     "text": [
      "<>:1: SyntaxWarning: 'int' object is not callable; perhaps you missed a comma?\n",
      "<>:1: SyntaxWarning: 'int' object is not callable; perhaps you missed a comma?\n",
      "<ipython-input-14-81d36aa9d3ee>:1: SyntaxWarning: 'int' object is not callable; perhaps you missed a comma?\n",
      "  329888()\n"
     ]
    },
    {
     "ename": "TypeError",
     "evalue": "'int' object is not callable",
     "output_type": "error",
     "traceback": [
      "\u001b[1;31m---------------------------------------------------------------------------\u001b[0m",
      "\u001b[1;31mTypeError\u001b[0m                                 Traceback (most recent call last)",
      "\u001b[1;32m<ipython-input-14-81d36aa9d3ee>\u001b[0m in \u001b[0;36m<module>\u001b[1;34m\u001b[0m\n\u001b[1;32m----> 1\u001b[1;33m \u001b[1;36m329888\u001b[0m\u001b[1;33m(\u001b[0m\u001b[1;33m)\u001b[0m\u001b[1;33m\u001b[0m\u001b[1;33m\u001b[0m\u001b[0m\n\u001b[0m",
      "\u001b[1;31mTypeError\u001b[0m: 'int' object is not callable"
     ]
    }
   ],
   "source": [
    "329888()"
   ]
  },
  {
   "cell_type": "code",
   "execution_count": 15,
   "metadata": {
    "ExecuteTime": {
     "end_time": "2020-07-22T00:46:21.595295Z",
     "start_time": "2020-07-22T00:46:21.589296Z"
    }
   },
   "outputs": [
    {
     "name": "stderr",
     "output_type": "stream",
     "text": [
      "<>:1: SyntaxWarning: 'str' object is not callable; perhaps you missed a comma?\n",
      "<>:1: SyntaxWarning: 'str' object is not callable; perhaps you missed a comma?\n",
      "<ipython-input-15-29217aac6365>:1: SyntaxWarning: 'str' object is not callable; perhaps you missed a comma?\n",
      "  'asdsd'()\n"
     ]
    },
    {
     "ename": "TypeError",
     "evalue": "'str' object is not callable",
     "output_type": "error",
     "traceback": [
      "\u001b[1;31m---------------------------------------------------------------------------\u001b[0m",
      "\u001b[1;31mTypeError\u001b[0m                                 Traceback (most recent call last)",
      "\u001b[1;32m<ipython-input-15-29217aac6365>\u001b[0m in \u001b[0;36m<module>\u001b[1;34m\u001b[0m\n\u001b[1;32m----> 1\u001b[1;33m \u001b[1;34m'asdsd'\u001b[0m\u001b[1;33m(\u001b[0m\u001b[1;33m)\u001b[0m\u001b[1;33m\u001b[0m\u001b[1;33m\u001b[0m\u001b[0m\n\u001b[0m",
      "\u001b[1;31mTypeError\u001b[0m: 'str' object is not callable"
     ]
    }
   ],
   "source": [
    "'asdsd'()"
   ]
  },
  {
   "cell_type": "code",
   "execution_count": 16,
   "metadata": {
    "ExecuteTime": {
     "end_time": "2020-07-22T00:47:38.304842Z",
     "start_time": "2020-07-22T00:47:38.301841Z"
    }
   },
   "outputs": [
    {
     "ename": "SyntaxError",
     "evalue": "invalid syntax (<ipython-input-16-7d72b682da3e>, line 1)",
     "output_type": "error",
     "traceback": [
      "\u001b[1;36m  File \u001b[1;32m\"<ipython-input-16-7d72b682da3e>\"\u001b[1;36m, line \u001b[1;32m1\u001b[0m\n\u001b[1;33m    def 3say_congrats():\u001b[0m\n\u001b[1;37m        ^\u001b[0m\n\u001b[1;31mSyntaxError\u001b[0m\u001b[1;31m:\u001b[0m invalid syntax\n"
     ]
    }
   ],
   "source": [
    "def 3say_congrats():\n",
    "    print('Congrats!')"
   ]
  },
  {
   "cell_type": "markdown",
   "metadata": {},
   "source": [
    "# Functions can receive arguments"
   ]
  },
  {
   "cell_type": "code",
   "execution_count": 17,
   "metadata": {
    "ExecuteTime": {
     "end_time": "2020-07-22T00:49:13.565422Z",
     "start_time": "2020-07-22T00:49:13.563422Z"
    }
   },
   "outputs": [],
   "source": [
    "# required arguments\n",
    "def my_function_with_args(username, greeting):\n",
    "    \n",
    "    print(f'Hello, {username} , From My Function!, I wish you {greeting}')\n",
    "    "
   ]
  },
  {
   "cell_type": "code",
   "execution_count": 18,
   "metadata": {
    "ExecuteTime": {
     "end_time": "2020-07-22T00:49:18.118241Z",
     "start_time": "2020-07-22T00:49:18.112239Z"
    }
   },
   "outputs": [
    {
     "ename": "TypeError",
     "evalue": "my_function_with_args() missing 2 required positional arguments: 'username' and 'greeting'",
     "output_type": "error",
     "traceback": [
      "\u001b[1;31m---------------------------------------------------------------------------\u001b[0m",
      "\u001b[1;31mTypeError\u001b[0m                                 Traceback (most recent call last)",
      "\u001b[1;32m<ipython-input-18-da7210d45f42>\u001b[0m in \u001b[0;36m<module>\u001b[1;34m\u001b[0m\n\u001b[1;32m----> 1\u001b[1;33m \u001b[0mmy_function_with_args\u001b[0m\u001b[1;33m(\u001b[0m\u001b[1;33m)\u001b[0m\u001b[1;33m\u001b[0m\u001b[1;33m\u001b[0m\u001b[0m\n\u001b[0m",
      "\u001b[1;31mTypeError\u001b[0m: my_function_with_args() missing 2 required positional arguments: 'username' and 'greeting'"
     ]
    }
   ],
   "source": [
    "my_function_with_args()"
   ]
  },
  {
   "cell_type": "code",
   "execution_count": 19,
   "metadata": {
    "ExecuteTime": {
     "end_time": "2020-07-22T00:49:52.581851Z",
     "start_time": "2020-07-22T00:49:52.575848Z"
    }
   },
   "outputs": [
    {
     "ename": "TypeError",
     "evalue": "my_function_with_args() missing 1 required positional argument: 'greeting'",
     "output_type": "error",
     "traceback": [
      "\u001b[1;31m---------------------------------------------------------------------------\u001b[0m",
      "\u001b[1;31mTypeError\u001b[0m                                 Traceback (most recent call last)",
      "\u001b[1;32m<ipython-input-19-d23dd0d1b624>\u001b[0m in \u001b[0;36m<module>\u001b[1;34m\u001b[0m\n\u001b[1;32m----> 1\u001b[1;33m \u001b[0mmy_function_with_args\u001b[0m\u001b[1;33m(\u001b[0m\u001b[1;34m'Andre'\u001b[0m\u001b[1;33m)\u001b[0m\u001b[1;33m\u001b[0m\u001b[1;33m\u001b[0m\u001b[0m\n\u001b[0m",
      "\u001b[1;31mTypeError\u001b[0m: my_function_with_args() missing 1 required positional argument: 'greeting'"
     ]
    }
   ],
   "source": [
    "my_function_with_args('Andre')"
   ]
  },
  {
   "cell_type": "code",
   "execution_count": 20,
   "metadata": {
    "ExecuteTime": {
     "end_time": "2020-07-22T00:50:27.819497Z",
     "start_time": "2020-07-22T00:50:27.816496Z"
    }
   },
   "outputs": [
    {
     "name": "stdout",
     "output_type": "stream",
     "text": [
      "Hello, Andre , From My Function!, I wish you Merry Christmas\n"
     ]
    }
   ],
   "source": [
    "my_function_with_args('Andre', 'Merry Christmas')"
   ]
  },
  {
   "cell_type": "code",
   "execution_count": 21,
   "metadata": {
    "ExecuteTime": {
     "end_time": "2020-07-22T00:51:37.317798Z",
     "start_time": "2020-07-22T00:51:37.312770Z"
    }
   },
   "outputs": [
    {
     "data": {
      "text/plain": [
       "['.ipynb_checkpoints', 'Classroom', 'Labs']"
      ]
     },
     "execution_count": 21,
     "metadata": {},
     "output_type": "execute_result"
    }
   ],
   "source": [
    "import os\n",
    "os.listdir('../')"
   ]
  },
  {
   "cell_type": "code",
   "execution_count": 22,
   "metadata": {
    "ExecuteTime": {
     "end_time": "2020-07-22T00:52:45.882153Z",
     "start_time": "2020-07-22T00:52:45.879152Z"
    }
   },
   "outputs": [
    {
     "name": "stdout",
     "output_type": "stream",
     "text": [
      "Hello, Andre , From My Function!, I wish you Merry Christmas\n"
     ]
    }
   ],
   "source": [
    "my_function_with_args(username='Andre', greeting='Merry Christmas')"
   ]
  },
  {
   "cell_type": "code",
   "execution_count": 23,
   "metadata": {
    "ExecuteTime": {
     "end_time": "2020-07-22T00:53:10.491299Z",
     "start_time": "2020-07-22T00:53:10.487301Z"
    }
   },
   "outputs": [
    {
     "name": "stdout",
     "output_type": "stream",
     "text": [
      "Hello, Andre , From My Function!, I wish you Merry Christmas\n"
     ]
    }
   ],
   "source": [
    "my_function_with_args(greeting='Merry Christmas', username='Andre')"
   ]
  },
  {
   "cell_type": "code",
   "execution_count": 24,
   "metadata": {
    "ExecuteTime": {
     "end_time": "2020-07-22T00:54:06.191967Z",
     "start_time": "2020-07-22T00:54:06.188937Z"
    }
   },
   "outputs": [],
   "source": [
    "my_list = [1,2,3,4]"
   ]
  },
  {
   "cell_type": "code",
   "execution_count": 25,
   "metadata": {
    "ExecuteTime": {
     "end_time": "2020-07-22T00:54:14.243920Z",
     "start_time": "2020-07-22T00:54:14.240919Z"
    }
   },
   "outputs": [
    {
     "name": "stdout",
     "output_type": "stream",
     "text": [
      "Hello, Andre , From My Function!, I wish you [1, 2, 3, 4]\n"
     ]
    }
   ],
   "source": [
    "my_function_with_args(username='Andre', greeting=my_list)"
   ]
  },
  {
   "cell_type": "code",
   "execution_count": 26,
   "metadata": {
    "ExecuteTime": {
     "end_time": "2020-07-22T00:57:41.030789Z",
     "start_time": "2020-07-22T00:57:41.027788Z"
    }
   },
   "outputs": [],
   "source": [
    "def say_condolence(x):\n",
    "    print(f'Ih você perdeu porque escolheu o numero {x}')"
   ]
  },
  {
   "cell_type": "code",
   "execution_count": 27,
   "metadata": {
    "ExecuteTime": {
     "end_time": "2020-07-22T00:59:19.378016Z",
     "start_time": "2020-07-22T00:59:19.374017Z"
    }
   },
   "outputs": [],
   "source": [
    "def my_random_game(user_input):\n",
    "        \n",
    "    user_input = int(user_input)\n",
    "    \n",
    "    if user_input < 3:\n",
    "        say_congrats()\n",
    "    elif user_input < 5:\n",
    "        say_condolence(user_input)\n",
    "    elif user_input < 7:\n",
    "        say_congrats()\n",
    "    elif user_input < 9:\n",
    "        say_condolence(user_input)\n",
    "    elif user_input < 15:\n",
    "        say_congrats()\n",
    "    elif user_input < 25:\n",
    "        say_condolence(user_input)\n",
    "    elif user_input < 37:\n",
    "        say_congrats()"
   ]
  },
  {
   "cell_type": "code",
   "execution_count": 28,
   "metadata": {
    "ExecuteTime": {
     "end_time": "2020-07-22T00:59:21.489222Z",
     "start_time": "2020-07-22T00:59:19.887194Z"
    }
   },
   "outputs": [
    {
     "name": "stdout",
     "output_type": "stream",
     "text": [
      "Escolha um número: 3\n"
     ]
    },
    {
     "data": {
      "text/plain": [
       "'3'"
      ]
     },
     "execution_count": 28,
     "metadata": {},
     "output_type": "execute_result"
    }
   ],
   "source": [
    "x = input('Escolha um número: ')\n",
    "x"
   ]
  },
  {
   "cell_type": "code",
   "execution_count": 31,
   "metadata": {
    "ExecuteTime": {
     "end_time": "2020-07-22T00:59:23.508127Z",
     "start_time": "2020-07-22T00:59:23.506128Z"
    }
   },
   "outputs": [
    {
     "name": "stdout",
     "output_type": "stream",
     "text": [
      "Ih você perdeu porque escolheu o numero 3\n"
     ]
    }
   ],
   "source": [
    "my_random_game(x)"
   ]
  },
  {
   "cell_type": "code",
   "execution_count": 32,
   "metadata": {},
   "outputs": [],
   "source": [
    "# camelCase myFunctionWithArgs\n",
    "# snake_case my_function_with_args"
   ]
  },
  {
   "cell_type": "code",
   "execution_count": 33,
   "metadata": {
    "ExecuteTime": {
     "end_time": "2020-07-22T01:00:43.973309Z",
     "start_time": "2020-07-22T01:00:43.968340Z"
    }
   },
   "outputs": [
    {
     "ename": "SyntaxError",
     "evalue": "invalid syntax (<ipython-input-33-ca858594f1e6>, line 1)",
     "output_type": "error",
     "traceback": [
      "\u001b[1;36m  File \u001b[1;32m\"<ipython-input-33-ca858594f1e6>\"\u001b[1;36m, line \u001b[1;32m1\u001b[0m\n\u001b[1;33m    def 3qualquer():\u001b[0m\n\u001b[1;37m        ^\u001b[0m\n\u001b[1;31mSyntaxError\u001b[0m\u001b[1;31m:\u001b[0m invalid syntax\n"
     ]
    }
   ],
   "source": [
    "def 3qualquer():\n",
    "    print('Nao vai dar')"
   ]
  },
  {
   "cell_type": "code",
   "execution_count": 34,
   "metadata": {
    "ExecuteTime": {
     "end_time": "2020-07-22T01:01:32.854283Z",
     "start_time": "2020-07-22T01:01:32.851311Z"
    }
   },
   "outputs": [],
   "source": [
    "def _indicativo_de_funcao_privada():\n",
    "    print('Usualmente, colocar o nome de uma função com _ no inicio, representa que você quer que o usuário não use essa função... ou seja, representa uma função privada')"
   ]
  },
  {
   "cell_type": "code",
   "execution_count": 35,
   "metadata": {
    "ExecuteTime": {
     "end_time": "2020-07-22T01:01:33.359283Z",
     "start_time": "2020-07-22T01:01:33.357284Z"
    }
   },
   "outputs": [
    {
     "name": "stdout",
     "output_type": "stream",
     "text": [
      "Usualmente, colocar o nome de uma função com _ no inicio, representa que você quer que o usuário não use essa função... ou seja, representa uma função privada\n"
     ]
    }
   ],
   "source": [
    "_indicativo_de_funcao_privada()"
   ]
  },
  {
   "cell_type": "code",
   "execution_count": 36,
   "metadata": {
    "ExecuteTime": {
     "end_time": "2020-07-22T01:14:23.536491Z",
     "start_time": "2020-07-22T01:14:23.533489Z"
    }
   },
   "outputs": [
    {
     "name": "stdout",
     "output_type": "stream",
     "text": [
      "15\n"
     ]
    }
   ],
   "source": [
    "def nome_funcao(argumento1, argumento2):\n",
    "    print(argumento1 + argumento2)\n",
    "    \n",
    "nome_funcao(7, 8)"
   ]
  },
  {
   "cell_type": "markdown",
   "metadata": {},
   "source": [
    "# Functions can receive `OPTIONAL` arguments"
   ]
  },
  {
   "cell_type": "code",
   "execution_count": 38,
   "metadata": {
    "ExecuteTime": {
     "end_time": "2020-07-22T01:14:57.061837Z",
     "start_time": "2020-07-22T01:14:57.057869Z"
    }
   },
   "outputs": [
    {
     "data": {
      "text/plain": [
       "['.ipynb_checkpoints',\n",
       " 'asset-v1_IRONHACK+DAFT+202007_SAO+type@asset+block@functions-class.ipynb',\n",
       " 'asset-v1_IRONHACK+DAFT+202007_SAO+type@asset+block@list-comprehension.ipynb']"
      ]
     },
     "execution_count": 38,
     "metadata": {},
     "output_type": "execute_result"
    }
   ],
   "source": [
    "import os\n",
    "os.listdir()"
   ]
  },
  {
   "cell_type": "code",
   "execution_count": null,
   "metadata": {
    "collapsed": true
   },
   "outputs": [],
   "source": []
  },
  {
   "cell_type": "markdown",
   "metadata": {},
   "source": [
    "Argumentos opcionais são aqueles que você pode ou não `passar`. Se você não passar o argumento para a função, ela utilizará um valor DEFAULT"
   ]
  },
  {
   "cell_type": "code",
   "execution_count": null,
   "metadata": {
    "ExecuteTime": {
     "end_time": "2020-07-22T01:16:21.080074Z",
     "start_time": "2020-07-22T01:16:21.073076Z"
    }
   },
   "outputs": [],
   "source": [
    "def my_function_with_args_optional(username, greeting='NOTHING!'):\n",
    "    \n",
    "    print(f'Hello, {username} , From My Function!, I wish you {greeting}')\n",
    "    \n",
    "my_function_with_args_optional()"
   ]
  },
  {
   "cell_type": "code",
   "execution_count": null,
   "metadata": {
    "ExecuteTime": {
     "end_time": "2020-07-22T01:16:39.080281Z",
     "start_time": "2020-07-22T01:16:39.078283Z"
    }
   },
   "outputs": [],
   "source": [
    "my_function_with_args_optional('Andre')"
   ]
  },
  {
   "cell_type": "code",
   "execution_count": null,
   "metadata": {
    "ExecuteTime": {
     "end_time": "2020-07-22T01:17:04.460252Z",
     "start_time": "2020-07-22T01:17:04.457251Z"
    }
   },
   "outputs": [],
   "source": [
    "my_function_with_args_optional('Andre', 'Merry Christmas')"
   ]
  },
  {
   "cell_type": "code",
   "execution_count": null,
   "metadata": {},
   "outputs": [],
   "source": []
  },
  {
   "cell_type": "code",
   "execution_count": null,
   "metadata": {
    "ExecuteTime": {
     "end_time": "2020-07-22T01:18:01.779162Z",
     "start_time": "2020-07-22T01:18:01.775161Z"
    }
   },
   "outputs": [],
   "source": [
    "# order matters - can't have optional in front of required args\n",
    "def my_function_with_args_optional_improper_order(username, greeting='NOTHING!', password):\n",
    "    \n",
    "    print(f'Hello, {username} , From My Function!, I wish you {greeting}: {password}')\n",
    "    \n",
    "#my_function_with_args_optional_improper_order()"
   ]
  },
  {
   "cell_type": "code",
   "execution_count": null,
   "metadata": {
    "ExecuteTime": {
     "end_time": "2020-07-22T01:18:56.912672Z",
     "start_time": "2020-07-22T01:18:56.909673Z"
    }
   },
   "outputs": [],
   "source": [
    "def my_function_with_args_optional_proper_order(username, password, greeting='NOTHING!'):\n",
    "    print(f'Hello, {username} , From My Function!, I wish you {greeting}: {password}')\n",
    "    \n",
    "my_function_with_args_optional_proper_order('Andre','12345','MERRY CHRISTMAS')"
   ]
  },
  {
   "cell_type": "code",
   "execution_count": null,
   "metadata": {
    "ExecuteTime": {
     "end_time": "2020-07-22T01:18:57.510674Z",
     "start_time": "2020-07-22T01:18:57.506673Z"
    }
   },
   "outputs": [],
   "source": [
    "my_function_with_args_optional_proper_order('Andre','12345')"
   ]
  },
  {
   "cell_type": "code",
   "execution_count": null,
   "metadata": {
    "ExecuteTime": {
     "end_time": "2020-07-22T01:19:59.759945Z",
     "start_time": "2020-07-22T01:19:59.737945Z"
    }
   },
   "outputs": [],
   "source": [
    "import pandas as pd\n",
    "\n",
    "pd.read_csv()"
   ]
  },
  {
   "cell_type": "code",
   "execution_count": null,
   "metadata": {},
   "outputs": [],
   "source": []
  },
  {
   "cell_type": "markdown",
   "metadata": {},
   "source": [
    "# Functions can <u>return</u> 1 or more values"
   ]
  },
  {
   "cell_type": "markdown",
   "metadata": {
    "ExecuteTime": {
     "end_time": "2020-07-21T23:03:32.177941Z",
     "start_time": "2020-07-21T23:03:32.174942Z"
    }
   },
   "source": [
    "Se você não especificar um '`return` statement', a função retornará `vazio` (`None`)"
   ]
  },
  {
   "cell_type": "code",
   "execution_count": null,
   "metadata": {
    "ExecuteTime": {
     "end_time": "2020-07-22T01:21:43.178051Z",
     "start_time": "2020-07-22T01:21:43.176072Z"
    }
   },
   "outputs": [],
   "source": [
    "def funcao_sem_retorno():\n",
    "    x = 3"
   ]
  },
  {
   "cell_type": "code",
   "execution_count": null,
   "metadata": {
    "ExecuteTime": {
     "end_time": "2020-07-22T01:21:50.753857Z",
     "start_time": "2020-07-22T01:21:50.750859Z"
    }
   },
   "outputs": [],
   "source": [
    "funcao_sem_retorno()"
   ]
  },
  {
   "cell_type": "code",
   "execution_count": null,
   "metadata": {
    "ExecuteTime": {
     "end_time": "2020-07-22T01:22:26.149934Z",
     "start_time": "2020-07-22T01:22:26.146934Z"
    }
   },
   "outputs": [],
   "source": [
    "x = funcao_sem_retorno()"
   ]
  },
  {
   "cell_type": "code",
   "execution_count": null,
   "metadata": {
    "ExecuteTime": {
     "end_time": "2020-07-22T01:22:34.217597Z",
     "start_time": "2020-07-22T01:22:34.215601Z"
    }
   },
   "outputs": [],
   "source": [
    "x"
   ]
  },
  {
   "cell_type": "code",
   "execution_count": null,
   "metadata": {
    "ExecuteTime": {
     "end_time": "2020-07-22T01:22:39.675273Z",
     "start_time": "2020-07-22T01:22:39.672273Z"
    }
   },
   "outputs": [],
   "source": [
    "print(x)"
   ]
  },
  {
   "cell_type": "code",
   "execution_count": null,
   "metadata": {
    "ExecuteTime": {
     "end_time": "2020-07-22T01:23:04.253165Z",
     "start_time": "2020-07-22T01:23:04.250165Z"
    }
   },
   "outputs": [],
   "source": [
    "def funcao_sem_retorno():\n",
    "    x = 3\n",
    "    \n",
    "    return None"
   ]
  },
  {
   "cell_type": "code",
   "execution_count": null,
   "metadata": {
    "ExecuteTime": {
     "end_time": "2020-07-22T01:23:09.420830Z",
     "start_time": "2020-07-22T01:23:09.416832Z"
    }
   },
   "outputs": [],
   "source": [
    "x = funcao_sem_retorno()\n",
    "print(x)"
   ]
  },
  {
   "cell_type": "code",
   "execution_count": null,
   "metadata": {
    "ExecuteTime": {
     "end_time": "2020-07-22T01:24:33.942348Z",
     "start_time": "2020-07-22T01:24:33.940374Z"
    }
   },
   "outputs": [],
   "source": [
    "x = print('Andre')"
   ]
  },
  {
   "cell_type": "code",
   "execution_count": null,
   "metadata": {
    "ExecuteTime": {
     "end_time": "2020-07-22T01:24:39.182667Z",
     "start_time": "2020-07-22T01:24:39.179668Z"
    }
   },
   "outputs": [],
   "source": [
    "print(x)"
   ]
  },
  {
   "cell_type": "code",
   "execution_count": null,
   "metadata": {},
   "outputs": [],
   "source": []
  },
  {
   "cell_type": "code",
   "execution_count": null,
   "metadata": {},
   "outputs": [],
   "source": []
  },
  {
   "cell_type": "code",
   "execution_count": null,
   "metadata": {
    "ExecuteTime": {
     "end_time": "2020-07-22T01:25:32.991101Z",
     "start_time": "2020-07-22T01:25:32.988100Z"
    }
   },
   "outputs": [],
   "source": [
    "# returning a result\n",
    "def sum_two_numbers(a, b=0):\n",
    "    return a + b"
   ]
  },
  {
   "cell_type": "code",
   "execution_count": null,
   "metadata": {
    "ExecuteTime": {
     "end_time": "2020-07-22T01:25:41.603735Z",
     "start_time": "2020-07-22T01:25:41.598733Z"
    }
   },
   "outputs": [],
   "source": [
    "sum_two_numbers(10, 3)"
   ]
  },
  {
   "cell_type": "code",
   "execution_count": null,
   "metadata": {
    "ExecuteTime": {
     "end_time": "2020-07-22T01:25:54.539572Z",
     "start_time": "2020-07-22T01:25:54.535570Z"
    }
   },
   "outputs": [],
   "source": [
    "x = sum_two_numbers(10, 3)"
   ]
  },
  {
   "cell_type": "code",
   "execution_count": null,
   "metadata": {
    "ExecuteTime": {
     "end_time": "2020-07-22T01:25:57.875921Z",
     "start_time": "2020-07-22T01:25:57.870921Z"
    }
   },
   "outputs": [],
   "source": [
    "x"
   ]
  },
  {
   "cell_type": "code",
   "execution_count": null,
   "metadata": {
    "ExecuteTime": {
     "end_time": "2020-07-22T01:26:32.738601Z",
     "start_time": "2020-07-22T01:26:32.733601Z"
    }
   },
   "outputs": [],
   "source": [
    "sum_two_numbers(10)"
   ]
  },
  {
   "cell_type": "code",
   "execution_count": null,
   "metadata": {
    "ExecuteTime": {
     "end_time": "2020-07-22T01:27:11.210288Z",
     "start_time": "2020-07-22T01:27:11.207291Z"
    }
   },
   "outputs": [],
   "source": [
    "# returning a tuple\n",
    "\n",
    "def sum_and_diff_two_numbers(a, b=0):\n",
    "    \n",
    "    soma = a + b\n",
    "    subtr = a - b\n",
    "\n",
    "    return (soma, subtr)"
   ]
  },
  {
   "cell_type": "code",
   "execution_count": null,
   "metadata": {
    "ExecuteTime": {
     "end_time": "2020-07-22T01:37:07.629700Z",
     "start_time": "2020-07-22T01:37:07.627700Z"
    }
   },
   "outputs": [],
   "source": [
    "y = print(x)"
   ]
  },
  {
   "cell_type": "code",
   "execution_count": null,
   "metadata": {
    "ExecuteTime": {
     "end_time": "2020-07-22T01:27:49.881773Z",
     "start_time": "2020-07-22T01:27:49.878802Z"
    }
   },
   "outputs": [],
   "source": [
    "resultado = sum_and_diff_two_numbers(13, 5)"
   ]
  },
  {
   "cell_type": "code",
   "execution_count": null,
   "metadata": {
    "ExecuteTime": {
     "end_time": "2020-07-22T01:27:50.239772Z",
     "start_time": "2020-07-22T01:27:50.235774Z"
    }
   },
   "outputs": [],
   "source": [
    "resultado"
   ]
  },
  {
   "cell_type": "code",
   "execution_count": null,
   "metadata": {
    "ExecuteTime": {
     "end_time": "2020-07-22T01:31:34.093100Z",
     "start_time": "2020-07-22T01:31:34.090101Z"
    }
   },
   "outputs": [],
   "source": [
    "# multiple assignment\n",
    "soma, subt = sum_and_diff_two_numbers(13, 5)"
   ]
  },
  {
   "cell_type": "code",
   "execution_count": null,
   "metadata": {
    "ExecuteTime": {
     "end_time": "2020-07-22T01:31:35.253534Z",
     "start_time": "2020-07-22T01:31:35.250533Z"
    }
   },
   "outputs": [],
   "source": [
    "soma"
   ]
  },
  {
   "cell_type": "code",
   "execution_count": null,
   "metadata": {
    "ExecuteTime": {
     "end_time": "2020-07-22T01:31:36.669141Z",
     "start_time": "2020-07-22T01:31:36.666141Z"
    }
   },
   "outputs": [],
   "source": [
    "subt"
   ]
  },
  {
   "cell_type": "code",
   "execution_count": null,
   "metadata": {
    "ExecuteTime": {
     "end_time": "2020-07-22T01:38:38.595289Z",
     "start_time": "2020-07-22T01:38:38.592290Z"
    }
   },
   "outputs": [],
   "source": [
    "x = say_congrats()\n",
    "print(x)"
   ]
  },
  {
   "cell_type": "code",
   "execution_count": null,
   "metadata": {
    "ExecuteTime": {
     "end_time": "2020-07-22T01:40:17.946806Z",
     "start_time": "2020-07-22T01:40:17.944841Z"
    }
   },
   "outputs": [],
   "source": [
    "def my_function():\n",
    "    x = 3\n",
    "    \n",
    "    return 10"
   ]
  },
  {
   "cell_type": "code",
   "execution_count": null,
   "metadata": {
    "ExecuteTime": {
     "end_time": "2020-07-22T01:40:19.176394Z",
     "start_time": "2020-07-22T01:40:19.173394Z"
    }
   },
   "outputs": [],
   "source": [
    "z = my_function()"
   ]
  },
  {
   "cell_type": "code",
   "execution_count": null,
   "metadata": {
    "ExecuteTime": {
     "end_time": "2020-07-22T01:40:19.671395Z",
     "start_time": "2020-07-22T01:40:19.668393Z"
    }
   },
   "outputs": [],
   "source": [
    "print(z)"
   ]
  },
  {
   "cell_type": "code",
   "execution_count": null,
   "metadata": {
    "ExecuteTime": {
     "end_time": "2020-07-22T01:40:59.405993Z",
     "start_time": "2020-07-22T01:40:59.401992Z"
    },
    "scrolled": false
   },
   "outputs": [],
   "source": [
    "my_function()"
   ]
  },
  {
   "cell_type": "code",
   "execution_count": null,
   "metadata": {
    "ExecuteTime": {
     "end_time": "2020-07-22T01:41:27.029143Z",
     "start_time": "2020-07-22T01:41:27.026115Z"
    }
   },
   "outputs": [],
   "source": [
    "say_congrats()"
   ]
  },
  {
   "cell_type": "markdown",
   "metadata": {},
   "source": [
    "# Standard output of jupyter notebook"
   ]
  },
  {
   "cell_type": "code",
   "execution_count": null,
   "metadata": {
    "ExecuteTime": {
     "end_time": "2020-07-22T01:42:47.224289Z",
     "start_time": "2020-07-22T01:42:47.221288Z"
    },
    "scrolled": true
   },
   "outputs": [],
   "source": [
    "Out[162]"
   ]
  },
  {
   "cell_type": "code",
   "execution_count": null,
   "metadata": {
    "ExecuteTime": {
     "end_time": "2020-07-22T01:43:14.017458Z",
     "start_time": "2020-07-22T01:43:14.013456Z"
    }
   },
   "outputs": [],
   "source": [
    "Out[89]"
   ]
  },
  {
   "cell_type": "code",
   "execution_count": null,
   "metadata": {
    "ExecuteTime": {
     "end_time": "2020-07-22T01:43:38.799833Z",
     "start_time": "2020-07-22T01:43:38.793863Z"
    }
   },
   "outputs": [],
   "source": [
    "In"
   ]
  },
  {
   "cell_type": "markdown",
   "metadata": {},
   "source": [
    "## Reserved Keywords\n",
    "\n",
    "Careful assigning to variables that has a built in functionality. \n",
    "\n",
    "For example, if you run\n",
    "\n",
    "```python\n",
    "print = 'Hello World'\n",
    "```\n",
    "you will not be able to run the `print` function again."
   ]
  },
  {
   "cell_type": "code",
   "execution_count": null,
   "metadata": {
    "ExecuteTime": {
     "end_time": "2020-07-22T22:42:02.928560Z",
     "start_time": "2020-07-22T22:42:02.924559Z"
    }
   },
   "outputs": [],
   "source": [
    "list()"
   ]
  },
  {
   "cell_type": "code",
   "execution_count": null,
   "metadata": {
    "ExecuteTime": {
     "end_time": "2020-07-22T22:42:11.349299Z",
     "start_time": "2020-07-22T22:42:11.347296Z"
    }
   },
   "outputs": [],
   "source": [
    "def list():\n",
    "    print('BLA')\n",
    "    "
   ]
  },
  {
   "cell_type": "code",
   "execution_count": null,
   "metadata": {
    "ExecuteTime": {
     "end_time": "2020-07-22T22:42:17.746072Z",
     "start_time": "2020-07-22T22:42:17.742072Z"
    }
   },
   "outputs": [],
   "source": [
    "list()"
   ]
  },
  {
   "cell_type": "code",
   "execution_count": null,
   "metadata": {
    "ExecuteTime": {
     "end_time": "2020-07-22T22:42:39.098467Z",
     "start_time": "2020-07-22T22:42:39.094474Z"
    }
   },
   "outputs": [],
   "source": [
    "int(3.1415)"
   ]
  },
  {
   "cell_type": "code",
   "execution_count": null,
   "metadata": {
    "ExecuteTime": {
     "end_time": "2020-07-22T22:42:51.621067Z",
     "start_time": "2020-07-22T22:42:51.617068Z"
    }
   },
   "outputs": [],
   "source": [
    "def int(x):\n",
    "    print('MUAHUAHUA')\n",
    "    \n",
    "    return"
   ]
  },
  {
   "cell_type": "code",
   "execution_count": null,
   "metadata": {
    "ExecuteTime": {
     "end_time": "2020-07-22T22:42:54.160870Z",
     "start_time": "2020-07-22T22:42:54.157870Z"
    }
   },
   "outputs": [],
   "source": [
    "int(3.1415)"
   ]
  },
  {
   "cell_type": "code",
   "execution_count": null,
   "metadata": {
    "ExecuteTime": {
     "end_time": "2020-07-22T22:43:00.741894Z",
     "start_time": "2020-07-22T22:43:00.738894Z"
    }
   },
   "outputs": [],
   "source": [
    "int('8')"
   ]
  },
  {
   "cell_type": "code",
   "execution_count": null,
   "metadata": {},
   "outputs": [],
   "source": [
    "list = []"
   ]
  },
  {
   "cell_type": "markdown",
   "metadata": {},
   "source": [
    "# Scope"
   ]
  },
  {
   "cell_type": "markdown",
   "metadata": {},
   "source": [
    "`Global` vs `Local` scope"
   ]
  },
  {
   "cell_type": "markdown",
   "metadata": {},
   "source": [
    "Variables that are defined `inside a function body` have a `local scope`, and those `defined outside` have a `global scope`."
   ]
  },
  {
   "cell_type": "markdown",
   "metadata": {},
   "source": [
    "The rules are:\n",
    "- if a variable `is created` inside a function, it creates a new variable - with a different scope of the any variable that exists outside the function"
   ]
  },
  {
   "cell_type": "code",
   "execution_count": null,
   "metadata": {
    "ExecuteTime": {
     "end_time": "2020-07-22T22:51:45.510272Z",
     "start_time": "2020-07-22T22:51:45.507274Z"
    }
   },
   "outputs": [],
   "source": [
    "total = 0; # This is global variable.\n",
    "\n",
    "def my_sum( arg1, arg2 ):\n",
    "    total = arg1 + arg2\n",
    "    print(\"Inside the function local total : \", total)\n",
    "    return total"
   ]
  },
  {
   "cell_type": "code",
   "execution_count": null,
   "metadata": {
    "ExecuteTime": {
     "end_time": "2020-07-22T22:51:47.566191Z",
     "start_time": "2020-07-22T22:51:47.563190Z"
    }
   },
   "outputs": [],
   "source": [
    "a = 2\n",
    "b = 3"
   ]
  },
  {
   "cell_type": "code",
   "execution_count": null,
   "metadata": {
    "ExecuteTime": {
     "end_time": "2020-07-22T22:51:48.496253Z",
     "start_time": "2020-07-22T22:51:48.492300Z"
    }
   },
   "outputs": [],
   "source": [
    "my_sum(a, b)"
   ]
  },
  {
   "cell_type": "code",
   "execution_count": null,
   "metadata": {
    "ExecuteTime": {
     "end_time": "2020-07-22T22:51:49.406727Z",
     "start_time": "2020-07-22T22:51:49.403728Z"
    }
   },
   "outputs": [],
   "source": [
    "total"
   ]
  },
  {
   "cell_type": "code",
   "execution_count": null,
   "metadata": {},
   "outputs": [],
   "source": [
    "# total didnt change outside because the total inside the function is a different one"
   ]
  },
  {
   "cell_type": "markdown",
   "metadata": {},
   "source": [
    "- if the variable exists outside and you `use` that inside the function, the function will use its value, but you can't modify it (because you would be creating this variable inside the function)"
   ]
  },
  {
   "cell_type": "code",
   "execution_count": null,
   "metadata": {
    "ExecuteTime": {
     "end_time": "2020-07-22T22:55:42.992462Z",
     "start_time": "2020-07-22T22:55:42.988460Z"
    }
   },
   "outputs": [],
   "source": [
    "total = 5 # This is global variable.\n",
    "\n",
    "def my_sum( arg1, arg2 ):\n",
    "    x = arg1 + arg2 + total\n",
    "    print(\"Inside the function local total : \", x)\n",
    "    return x"
   ]
  },
  {
   "cell_type": "code",
   "execution_count": null,
   "metadata": {
    "ExecuteTime": {
     "end_time": "2020-07-22T22:54:11.886705Z",
     "start_time": "2020-07-22T22:54:11.881705Z"
    }
   },
   "outputs": [],
   "source": [
    "my_sum(1, 3)"
   ]
  },
  {
   "cell_type": "code",
   "execution_count": null,
   "metadata": {},
   "outputs": [],
   "source": [
    "total"
   ]
  },
  {
   "cell_type": "code",
   "execution_count": null,
   "metadata": {},
   "outputs": [],
   "source": [
    "# total didnt change, but its value could be used inside the function because \n",
    "# you are not creating a new `total` variable inside the function"
   ]
  },
  {
   "cell_type": "markdown",
   "metadata": {},
   "source": [
    "- if you want to modify a `global` variable, you can call `global name_of_variable` at the beginning of the function\n"
   ]
  },
  {
   "cell_type": "code",
   "execution_count": null,
   "metadata": {},
   "outputs": [],
   "source": [
    "total = 5 # This is global variable.\n",
    "\n",
    "def my_sum( arg1, arg2 ):\n",
    "    global total \n",
    "    \n",
    "    total = arg1 + arg2\n",
    "    print(\"Inside the function local total : \", total)\n",
    "    return total"
   ]
  },
  {
   "cell_type": "code",
   "execution_count": null,
   "metadata": {},
   "outputs": [],
   "source": [
    "total"
   ]
  },
  {
   "cell_type": "code",
   "execution_count": null,
   "metadata": {},
   "outputs": [],
   "source": [
    "my_sum(3, 3)"
   ]
  },
  {
   "cell_type": "code",
   "execution_count": null,
   "metadata": {},
   "outputs": [],
   "source": [
    "total"
   ]
  },
  {
   "cell_type": "code",
   "execution_count": null,
   "metadata": {},
   "outputs": [],
   "source": [
    "# total has changed because you specified the `global` statement"
   ]
  },
  {
   "cell_type": "markdown",
   "metadata": {},
   "source": [
    "- with lists, though, you can change its value, since the list itself is not changed, but the values to which it points to are."
   ]
  },
  {
   "cell_type": "code",
   "execution_count": null,
   "metadata": {},
   "outputs": [],
   "source": [
    "def change_first_element(arr):\n",
    "    arr[0] = 100000\n",
    "    "
   ]
  },
  {
   "cell_type": "code",
   "execution_count": null,
   "metadata": {},
   "outputs": [],
   "source": [
    "my_list = [1, 2, 3]"
   ]
  },
  {
   "cell_type": "code",
   "execution_count": null,
   "metadata": {},
   "outputs": [],
   "source": [
    "change_first_element(my_list)"
   ]
  },
  {
   "cell_type": "code",
   "execution_count": null,
   "metadata": {},
   "outputs": [],
   "source": [
    "my_list"
   ]
  },
  {
   "cell_type": "code",
   "execution_count": null,
   "metadata": {},
   "outputs": [],
   "source": [
    "# the first element of the list can be changed because when you access a list index as in arr[0], \n",
    "# you are actually accessing its position in memory, its location. And then you are changing that location"
   ]
  }
 ],
 "metadata": {
  "kernelspec": {
   "display_name": "Python 3",
   "language": "python",
   "name": "python3"
  },
  "language_info": {
   "codemirror_mode": {
    "name": "ipython",
    "version": 3
   },
   "file_extension": ".py",
   "mimetype": "text/x-python",
   "name": "python",
   "nbconvert_exporter": "python",
   "pygments_lexer": "ipython3",
   "version": "3.8.3"
  },
  "toc": {
   "base_numbering": 1,
   "nav_menu": {},
   "number_sections": true,
   "sideBar": true,
   "skip_h1_title": false,
   "title_cell": "Table of Contents",
   "title_sidebar": "Contents",
   "toc_cell": false,
   "toc_position": {},
   "toc_section_display": true,
   "toc_window_display": false
  }
 },
 "nbformat": 4,
 "nbformat_minor": 2
}
