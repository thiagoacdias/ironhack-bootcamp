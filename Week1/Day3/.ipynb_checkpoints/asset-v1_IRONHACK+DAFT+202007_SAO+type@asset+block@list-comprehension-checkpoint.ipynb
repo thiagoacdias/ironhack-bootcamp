{
 "cells": [
  {
   "cell_type": "markdown",
   "metadata": {},
   "source": [
    "# Lists\n",
    "\n",
    "Sequencia de elementos mutáveis"
   ]
  },
  {
   "cell_type": "code",
   "execution_count": 1,
   "metadata": {
    "ExecuteTime": {
     "end_time": "2020-07-17T00:14:32.830093Z",
     "start_time": "2020-07-17T00:14:32.828074Z"
    }
   },
   "outputs": [],
   "source": [
    "# create an empty list\n",
    "my_list = []"
   ]
  },
  {
   "cell_type": "code",
   "execution_count": 2,
   "metadata": {
    "ExecuteTime": {
     "end_time": "2020-07-17T00:14:35.428218Z",
     "start_time": "2020-07-17T00:14:35.420240Z"
    }
   },
   "outputs": [
    {
     "data": {
      "text/plain": [
       "[]"
      ]
     },
     "execution_count": 2,
     "metadata": {},
     "output_type": "execute_result"
    }
   ],
   "source": [
    "my_list"
   ]
  },
  {
   "cell_type": "code",
   "execution_count": 3,
   "metadata": {
    "ExecuteTime": {
     "end_time": "2020-07-17T00:16:03.144123Z",
     "start_time": "2020-07-17T00:16:03.140107Z"
    }
   },
   "outputs": [],
   "source": [
    "my_list.append(10)"
   ]
  },
  {
   "cell_type": "code",
   "execution_count": 4,
   "metadata": {
    "ExecuteTime": {
     "end_time": "2020-07-17T00:16:21.342291Z",
     "start_time": "2020-07-17T00:16:21.339298Z"
    }
   },
   "outputs": [],
   "source": [
    "my_list.append(30)"
   ]
  },
  {
   "cell_type": "code",
   "execution_count": 5,
   "metadata": {
    "ExecuteTime": {
     "end_time": "2020-07-17T00:16:24.921717Z",
     "start_time": "2020-07-17T00:16:24.917728Z"
    }
   },
   "outputs": [
    {
     "data": {
      "text/plain": [
       "[10, 30]"
      ]
     },
     "execution_count": 5,
     "metadata": {},
     "output_type": "execute_result"
    }
   ],
   "source": [
    "my_list"
   ]
  },
  {
   "cell_type": "code",
   "execution_count": 6,
   "metadata": {
    "ExecuteTime": {
     "end_time": "2020-07-17T00:16:36.206616Z",
     "start_time": "2020-07-17T00:16:36.203596Z"
    }
   },
   "outputs": [],
   "source": [
    "my_list = [1, 3]"
   ]
  },
  {
   "cell_type": "code",
   "execution_count": 7,
   "metadata": {
    "ExecuteTime": {
     "end_time": "2020-07-17T00:16:40.124432Z",
     "start_time": "2020-07-17T00:16:40.120442Z"
    }
   },
   "outputs": [
    {
     "data": {
      "text/plain": [
       "[1, 3]"
      ]
     },
     "execution_count": 7,
     "metadata": {},
     "output_type": "execute_result"
    }
   ],
   "source": [
    "my_list"
   ]
  },
  {
   "cell_type": "code",
   "execution_count": null,
   "metadata": {
    "ExecuteTime": {
     "end_time": "2020-07-17T00:16:53.858620Z",
     "start_time": "2020-07-17T00:16:53.854629Z"
    }
   },
   "outputs": [],
   "source": [
    "my_list[0]"
   ]
  },
  {
   "cell_type": "code",
   "execution_count": null,
   "metadata": {
    "ExecuteTime": {
     "end_time": "2020-07-17T00:17:05.941607Z",
     "start_time": "2020-07-17T00:17:05.938614Z"
    }
   },
   "outputs": [],
   "source": [
    "my_list[0] = 20"
   ]
  },
  {
   "cell_type": "code",
   "execution_count": null,
   "metadata": {
    "ExecuteTime": {
     "end_time": "2020-07-17T00:17:07.949020Z",
     "start_time": "2020-07-17T00:17:07.945031Z"
    }
   },
   "outputs": [],
   "source": [
    "my_list"
   ]
  },
  {
   "cell_type": "code",
   "execution_count": null,
   "metadata": {
    "ExecuteTime": {
     "end_time": "2020-07-17T00:17:18.927576Z",
     "start_time": "2020-07-17T00:17:18.923585Z"
    }
   },
   "outputs": [],
   "source": [
    "my_list[1] = 'a'"
   ]
  },
  {
   "cell_type": "code",
   "execution_count": null,
   "metadata": {
    "ExecuteTime": {
     "end_time": "2020-07-17T00:17:20.589563Z",
     "start_time": "2020-07-17T00:17:20.585574Z"
    }
   },
   "outputs": [],
   "source": [
    "my_list"
   ]
  },
  {
   "cell_type": "code",
   "execution_count": null,
   "metadata": {
    "ExecuteTime": {
     "end_time": "2020-07-17T00:21:01.097806Z",
     "start_time": "2020-07-17T00:21:01.094815Z"
    }
   },
   "outputs": [],
   "source": [
    "# os is a package for tools of the `operating system`\n",
    "\n",
    "import os"
   ]
  },
  {
   "cell_type": "code",
   "execution_count": null,
   "metadata": {
    "ExecuteTime": {
     "end_time": "2020-07-17T00:25:03.486563Z",
     "start_time": "2020-07-17T00:25:03.481577Z"
    }
   },
   "outputs": [],
   "source": [
    "os"
   ]
  },
  {
   "cell_type": "code",
   "execution_count": null,
   "metadata": {
    "ExecuteTime": {
     "end_time": "2020-07-17T00:21:59.055001Z",
     "start_time": "2020-07-17T00:21:59.051012Z"
    }
   },
   "outputs": [],
   "source": [
    "os.listdir('data')"
   ]
  },
  {
   "cell_type": "code",
   "execution_count": null,
   "metadata": {
    "ExecuteTime": {
     "end_time": "2020-07-17T00:22:28.824851Z",
     "start_time": "2020-07-17T00:22:28.820862Z"
    }
   },
   "outputs": [],
   "source": [
    "os.sys.path"
   ]
  },
  {
   "cell_type": "code",
   "execution_count": null,
   "metadata": {
    "ExecuteTime": {
     "end_time": "2020-07-17T00:26:40.030645Z",
     "start_time": "2020-07-17T00:26:40.026655Z"
    }
   },
   "outputs": [],
   "source": [
    "os.sys.path.append('C:/Users/andreaguiar/Desktop/usr/dist')"
   ]
  },
  {
   "cell_type": "code",
   "execution_count": null,
   "metadata": {
    "ExecuteTime": {
     "end_time": "2020-07-17T00:26:42.614557Z",
     "start_time": "2020-07-17T00:26:42.609571Z"
    }
   },
   "outputs": [],
   "source": [
    "os.sys.path"
   ]
  },
  {
   "cell_type": "code",
   "execution_count": null,
   "metadata": {
    "ExecuteTime": {
     "end_time": "2020-07-17T00:27:29.771948Z",
     "start_time": "2020-07-17T00:27:29.768955Z"
    }
   },
   "outputs": [],
   "source": [
    "os.sys.path.insert(0, '/Users/andreaguiar/Desktop/usr/dist/')"
   ]
  },
  {
   "cell_type": "code",
   "execution_count": null,
   "metadata": {
    "ExecuteTime": {
     "end_time": "2020-07-17T00:27:33.440041Z",
     "start_time": "2020-07-17T00:27:33.436051Z"
    }
   },
   "outputs": [],
   "source": [
    "os.sys.path"
   ]
  },
  {
   "cell_type": "markdown",
   "metadata": {},
   "source": [
    "# List Comprehensions"
   ]
  },
  {
   "cell_type": "markdown",
   "metadata": {},
   "source": [
    "## Loops with lists"
   ]
  },
  {
   "cell_type": "code",
   "execution_count": null,
   "metadata": {
    "ExecuteTime": {
     "end_time": "2020-07-17T00:28:52.076225Z",
     "start_time": "2020-07-17T00:28:52.072237Z"
    }
   },
   "outputs": [],
   "source": [
    "my_list = []"
   ]
  },
  {
   "cell_type": "code",
   "execution_count": null,
   "metadata": {
    "ExecuteTime": {
     "end_time": "2020-07-17T00:28:55.888741Z",
     "start_time": "2020-07-17T00:28:55.880760Z"
    }
   },
   "outputs": [],
   "source": [
    "my_list[0] = 3"
   ]
  },
  {
   "cell_type": "code",
   "execution_count": null,
   "metadata": {
    "ExecuteTime": {
     "end_time": "2020-07-17T00:29:13.196819Z",
     "start_time": "2020-07-17T00:29:13.193827Z"
    }
   },
   "outputs": [],
   "source": [
    "# append is an 'inplace' operation (the list is updated under the hood)\n",
    "my_list.append(3)"
   ]
  },
  {
   "cell_type": "code",
   "execution_count": null,
   "metadata": {
    "ExecuteTime": {
     "end_time": "2020-07-17T00:29:14.638872Z",
     "start_time": "2020-07-17T00:29:14.634882Z"
    }
   },
   "outputs": [],
   "source": [
    "# my_list is now changed\n",
    "my_list"
   ]
  },
  {
   "cell_type": "code",
   "execution_count": null,
   "metadata": {
    "ExecuteTime": {
     "end_time": "2020-07-17T00:30:04.527118Z",
     "start_time": "2020-07-17T00:30:04.524126Z"
    }
   },
   "outputs": [],
   "source": [
    "my_list = []\n",
    "\n",
    "for i in range(5):\n",
    "    my_list.append(i)"
   ]
  },
  {
   "cell_type": "code",
   "execution_count": null,
   "metadata": {
    "ExecuteTime": {
     "end_time": "2020-07-17T00:30:05.866324Z",
     "start_time": "2020-07-17T00:30:05.862334Z"
    }
   },
   "outputs": [],
   "source": [
    "my_list"
   ]
  },
  {
   "cell_type": "code",
   "execution_count": null,
   "metadata": {
    "ExecuteTime": {
     "end_time": "2020-06-03T14:34:44.475739Z",
     "start_time": "2020-06-03T14:34:44.471750Z"
    }
   },
   "outputs": [],
   "source": [
    "new_list = []\n",
    "\n",
    "new_list"
   ]
  },
  {
   "cell_type": "code",
   "execution_count": null,
   "metadata": {
    "ExecuteTime": {
     "end_time": "2020-07-17T00:31:38.474825Z",
     "start_time": "2020-07-17T00:31:38.467818Z"
    }
   },
   "outputs": [],
   "source": [
    "new_list = []\n",
    "\n",
    "for item in range(100):\n",
    "    \n",
    "    x = item * 2\n",
    "    y = x**2\n",
    "    new_list.append(y)\n",
    "    \n",
    "print(new_list)"
   ]
  },
  {
   "cell_type": "markdown",
   "metadata": {},
   "source": [
    "## Extra: `tqdm`\n",
    "\n",
    "External package to visualize a loading bar in a `for loop`"
   ]
  },
  {
   "cell_type": "code",
   "execution_count": null,
   "metadata": {
    "ExecuteTime": {
     "end_time": "2020-07-17T00:35:31.549206Z",
     "start_time": "2020-07-17T00:35:26.280602Z"
    }
   },
   "outputs": [],
   "source": [
    "!pip3 install tqdm --user"
   ]
  },
  {
   "cell_type": "code",
   "execution_count": null,
   "metadata": {
    "ExecuteTime": {
     "end_time": "2020-07-16T22:51:41.826523Z",
     "start_time": "2020-07-16T22:51:41.823530Z"
    }
   },
   "outputs": [],
   "source": [
    "# !pip install tqdm\n",
    "# !pip install tqdm --user (windows users)\n",
    "# conda install tqdm (anaconda users)"
   ]
  },
  {
   "cell_type": "code",
   "execution_count": null,
   "metadata": {
    "ExecuteTime": {
     "end_time": "2020-07-17T00:36:43.155269Z",
     "start_time": "2020-07-17T00:36:43.141307Z"
    }
   },
   "outputs": [],
   "source": [
    "from tqdm.auto import tqdm"
   ]
  },
  {
   "cell_type": "code",
   "execution_count": null,
   "metadata": {
    "ExecuteTime": {
     "end_time": "2020-07-17T00:41:54.446143Z",
     "start_time": "2020-07-17T00:41:49.721176Z"
    }
   },
   "outputs": [],
   "source": [
    "new_list = []\n",
    "\n",
    "# just put `tqdm` around what you want to loop\n",
    "for i in tqdm(range(10000000)):\n",
    "    new_list.append(i)"
   ]
  },
  {
   "cell_type": "markdown",
   "metadata": {},
   "source": [
    "## Comprehensions\n",
    "\n",
    "Comprehensions are used for the same objective as the above. To create a new list. However, it has a different (more compact) syntax."
   ]
  },
  {
   "cell_type": "code",
   "execution_count": null,
   "metadata": {
    "ExecuteTime": {
     "end_time": "2020-07-17T00:42:57.270833Z",
     "start_time": "2020-07-17T00:42:57.266843Z"
    }
   },
   "outputs": [],
   "source": [
    "new_list = []\n",
    "\n",
    "for item in range(10):\n",
    "    print(new_list)\n",
    "    new_list.append(item)\n",
    "\n",
    "print(new_list)"
   ]
  },
  {
   "cell_type": "code",
   "execution_count": null,
   "metadata": {
    "ExecuteTime": {
     "end_time": "2020-07-17T00:43:26.156631Z",
     "start_time": "2020-07-17T00:43:26.153639Z"
    }
   },
   "outputs": [],
   "source": [
    "new_list = []\n",
    "\n",
    "for item in range(10):\n",
    "    new_list.append(item)\n",
    "\n",
    "print(new_list)"
   ]
  },
  {
   "cell_type": "code",
   "execution_count": null,
   "metadata": {
    "ExecuteTime": {
     "end_time": "2020-07-17T00:45:06.724479Z",
     "start_time": "2020-07-17T00:45:06.720490Z"
    }
   },
   "outputs": [],
   "source": [
    "[item for item in range(10)]"
   ]
  },
  {
   "cell_type": "code",
   "execution_count": null,
   "metadata": {
    "ExecuteTime": {
     "end_time": "2020-07-17T00:46:23.763869Z",
     "start_time": "2020-07-17T00:46:23.758883Z"
    }
   },
   "outputs": [],
   "source": [
    "new_list = [item for item in range(10)]\n",
    "new_list"
   ]
  },
  {
   "cell_type": "markdown",
   "metadata": {},
   "source": [
    "## Operations inside comprehensions"
   ]
  },
  {
   "cell_type": "code",
   "execution_count": null,
   "metadata": {
    "ExecuteTime": {
     "end_time": "2020-07-17T00:46:59.204802Z",
     "start_time": "2020-07-17T00:46:59.200813Z"
    }
   },
   "outputs": [],
   "source": [
    "new_list = []\n",
    "\n",
    "for item in range(100):\n",
    "    new_list.append(item ** 2)\n",
    "    \n",
    "print(new_list)"
   ]
  },
  {
   "cell_type": "code",
   "execution_count": null,
   "metadata": {
    "ExecuteTime": {
     "end_time": "2020-07-17T00:48:24.782699Z",
     "start_time": "2020-07-17T00:48:24.778737Z"
    },
    "scrolled": true
   },
   "outputs": [],
   "source": [
    "new_list = [item ** 2 for item in range(100)]"
   ]
  },
  {
   "cell_type": "code",
   "execution_count": null,
   "metadata": {
    "ExecuteTime": {
     "end_time": "2020-07-17T00:48:30.747203Z",
     "start_time": "2020-07-17T00:48:30.743213Z"
    }
   },
   "outputs": [],
   "source": [
    "print(new_list)"
   ]
  },
  {
   "cell_type": "markdown",
   "metadata": {
    "ExecuteTime": {
     "end_time": "2020-07-16T22:46:10.223420Z",
     "start_time": "2020-07-16T22:46:10.219430Z"
    }
   },
   "source": [
    "### `if` conditions in comprehensions"
   ]
  },
  {
   "cell_type": "code",
   "execution_count": null,
   "metadata": {
    "ExecuteTime": {
     "end_time": "2020-07-17T01:05:33.136675Z",
     "start_time": "2020-07-17T01:05:33.132685Z"
    }
   },
   "outputs": [],
   "source": [
    "new_list = []\n",
    "\n",
    "for item in range(10):\n",
    "    \n",
    "    # append se o numero for par\n",
    "    # item % 2 é o resto da divisão de item por 2\n",
    "    if item % 2 == 0:\n",
    "        new_list.append(item)\n",
    "        \n",
    "print(new_list)"
   ]
  },
  {
   "cell_type": "code",
   "execution_count": null,
   "metadata": {
    "ExecuteTime": {
     "end_time": "2020-07-17T01:07:13.702510Z",
     "start_time": "2020-07-17T01:07:13.698520Z"
    }
   },
   "outputs": [],
   "source": [
    "new_list = [item for item in range(10) if item % 2 == 0]\n",
    "new_list"
   ]
  },
  {
   "cell_type": "code",
   "execution_count": null,
   "metadata": {
    "ExecuteTime": {
     "end_time": "2020-07-17T01:10:27.618824Z",
     "start_time": "2020-07-17T01:10:27.613837Z"
    }
   },
   "outputs": [],
   "source": [
    "new_list = []\n",
    "\n",
    "for item in range(10):\n",
    "    if item % 2 == 0:\n",
    "        new_list.append(item ** 2)\n",
    "        \n",
    "print(new_list)"
   ]
  },
  {
   "cell_type": "code",
   "execution_count": null,
   "metadata": {
    "ExecuteTime": {
     "end_time": "2020-07-17T01:11:27.968176Z",
     "start_time": "2020-07-17T01:11:27.964186Z"
    }
   },
   "outputs": [],
   "source": [
    "[banana ** 2 for banana in range(10) if banana % 2 == 0]"
   ]
  },
  {
   "cell_type": "code",
   "execution_count": null,
   "metadata": {
    "ExecuteTime": {
     "end_time": "2020-07-17T01:13:28.550394Z",
     "start_time": "2020-07-17T01:13:28.546404Z"
    }
   },
   "outputs": [],
   "source": [
    "os.listdir('data')"
   ]
  },
  {
   "cell_type": "code",
   "execution_count": null,
   "metadata": {
    "ExecuteTime": {
     "end_time": "2020-07-17T01:16:38.743937Z",
     "start_time": "2020-07-17T01:16:38.738951Z"
    }
   },
   "outputs": [],
   "source": [
    "filenames = os.listdir('data')\n",
    "filenames"
   ]
  },
  {
   "cell_type": "code",
   "execution_count": null,
   "metadata": {
    "ExecuteTime": {
     "end_time": "2020-07-17T01:17:35.525361Z",
     "start_time": "2020-07-17T01:17:35.521365Z"
    }
   },
   "outputs": [],
   "source": [
    "csv_files = [file for file in filenames if file.endswith('.csv')]\n",
    "csv_files"
   ]
  },
  {
   "cell_type": "markdown",
   "metadata": {},
   "source": [
    "## Two `for` loops"
   ]
  },
  {
   "cell_type": "code",
   "execution_count": null,
   "metadata": {
    "ExecuteTime": {
     "end_time": "2020-07-17T01:24:37.628960Z",
     "start_time": "2020-07-17T01:24:37.624002Z"
    }
   },
   "outputs": [],
   "source": [
    "list_of_lists = [[1,2,3,4], \n",
    "                 [5,6,7,8], \n",
    "                 [1,3,6,8]]\n",
    "my_results = []\n",
    "\n",
    "for item in list_of_lists:\n",
    "    for another_item in item:\n",
    "        if another_item > 5:    \n",
    "            my_results.append(another_item)\n",
    "#\n",
    "print(my_results)"
   ]
  },
  {
   "cell_type": "code",
   "execution_count": null,
   "metadata": {
    "ExecuteTime": {
     "end_time": "2020-07-17T01:25:47.239457Z",
     "start_time": "2020-07-17T01:25:47.235442Z"
    }
   },
   "outputs": [],
   "source": [
    "[another_item for item in list_of_lists for another_item in item if another_item > 5]"
   ]
  },
  {
   "cell_type": "markdown",
   "metadata": {},
   "source": [
    "## If-Else syntax in comprehensions"
   ]
  },
  {
   "cell_type": "code",
   "execution_count": null,
   "metadata": {
    "ExecuteTime": {
     "end_time": "2020-07-17T01:26:59.911969Z",
     "start_time": "2020-07-17T01:26:59.906983Z"
    }
   },
   "outputs": [],
   "source": [
    "new_list = []\n",
    "\n",
    "for item in range(10):\n",
    "    if item < 5:\n",
    "        new_list.append(0)\n",
    "    else:\n",
    "        new_list.append(1)\n",
    "\n",
    "new_list"
   ]
  },
  {
   "cell_type": "code",
   "execution_count": null,
   "metadata": {
    "ExecuteTime": {
     "end_time": "2020-07-17T01:28:07.081390Z",
     "start_time": "2020-07-17T01:28:07.077399Z"
    }
   },
   "outputs": [],
   "source": [
    "[('MENOR' if item < 5 else 'MAIOR') for item in range(10)]"
   ]
  },
  {
   "cell_type": "code",
   "execution_count": null,
   "metadata": {
    "ExecuteTime": {
     "end_time": "2020-07-17T01:28:33.028715Z",
     "start_time": "2020-07-17T01:28:33.023702Z"
    }
   },
   "outputs": [],
   "source": [
    "[0 if item < 5 else 1 for item in range(10)]"
   ]
  },
  {
   "cell_type": "markdown",
   "metadata": {},
   "source": [
    "# Applications\n"
   ]
  },
  {
   "cell_type": "code",
   "execution_count": null,
   "metadata": {
    "ExecuteTime": {
     "end_time": "2020-07-17T01:28:55.560073Z",
     "start_time": "2020-07-17T01:28:55.556055Z"
    }
   },
   "outputs": [],
   "source": [
    "os.listdir('data/')"
   ]
  },
  {
   "cell_type": "code",
   "execution_count": null,
   "metadata": {
    "ExecuteTime": {
     "end_time": "2020-07-17T01:29:41.302604Z",
     "start_time": "2020-07-17T01:29:41.297590Z"
    },
    "scrolled": true
   },
   "outputs": [],
   "source": [
    "new_list = []\n",
    "\n",
    "for file in os.listdir('data/'):\n",
    "    if file.endswith('.csv'):\n",
    "        new_list.append(file)\n",
    "        \n",
    "new_list"
   ]
  },
  {
   "cell_type": "markdown",
   "metadata": {},
   "source": [
    "## Using for loop"
   ]
  },
  {
   "cell_type": "code",
   "execution_count": null,
   "metadata": {},
   "outputs": [],
   "source": [
    "# !pip3 install pandas --user"
   ]
  },
  {
   "cell_type": "code",
   "execution_count": null,
   "metadata": {
    "ExecuteTime": {
     "end_time": "2020-07-17T01:33:08.281082Z",
     "start_time": "2020-07-17T01:33:08.215257Z"
    }
   },
   "outputs": [],
   "source": [
    "import pandas as pd\n",
    "new_list = []\n",
    "\n",
    "for file in os.listdir('data'):\n",
    "    if file.endswith('csv'):\n",
    "        print(f'Reading {\"data/\" + file}')\n",
    "        new_list.append(pd.read_csv('data/' + file))\n",
    "\n"
   ]
  },
  {
   "cell_type": "code",
   "execution_count": null,
   "metadata": {
    "ExecuteTime": {
     "end_time": "2020-07-17T01:33:32.365831Z",
     "start_time": "2020-07-17T01:33:32.347880Z"
    }
   },
   "outputs": [],
   "source": [
    "new_list[3]"
   ]
  },
  {
   "cell_type": "markdown",
   "metadata": {},
   "source": [
    "## Using List Comprehensions"
   ]
  },
  {
   "cell_type": "code",
   "execution_count": null,
   "metadata": {
    "ExecuteTime": {
     "end_time": "2020-07-17T01:34:19.246043Z",
     "start_time": "2020-07-17T01:34:19.203157Z"
    }
   },
   "outputs": [],
   "source": [
    "new_list = [pd.read_csv('data/' + file) for file in os.listdir('data') if file.endswith('csv')]"
   ]
  },
  {
   "cell_type": "code",
   "execution_count": null,
   "metadata": {
    "ExecuteTime": {
     "end_time": "2020-07-17T01:34:27.492277Z",
     "start_time": "2020-07-17T01:34:27.474325Z"
    }
   },
   "outputs": [],
   "source": [
    "new_list[3]"
   ]
  }
 ],
 "metadata": {
  "kernelspec": {
   "display_name": "Python 3",
   "language": "python",
   "name": "python3"
  },
  "language_info": {
   "codemirror_mode": {
    "name": "ipython",
    "version": 3
   },
   "file_extension": ".py",
   "mimetype": "text/x-python",
   "name": "python",
   "nbconvert_exporter": "python",
   "pygments_lexer": "ipython3",
   "version": "3.8.3"
  },
  "toc": {
   "base_numbering": 1,
   "nav_menu": {},
   "number_sections": true,
   "sideBar": true,
   "skip_h1_title": false,
   "title_cell": "Table of Contents",
   "title_sidebar": "Contents",
   "toc_cell": false,
   "toc_position": {},
   "toc_section_display": true,
   "toc_window_display": false
  }
 },
 "nbformat": 4,
 "nbformat_minor": 2
}
