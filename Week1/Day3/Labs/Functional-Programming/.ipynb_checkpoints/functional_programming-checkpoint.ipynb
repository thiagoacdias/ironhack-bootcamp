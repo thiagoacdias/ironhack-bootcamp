{
 "cells": [
  {
   "cell_type": "markdown",
   "metadata": {
    "colab_type": "text",
    "id": "6I1W1y5zDCIN"
   },
   "source": [
    "# Before your start:\n",
    "- Comment as much as you can\n",
    "- Happy learning!"
   ]
  },
  {
   "cell_type": "code",
   "execution_count": 1,
   "metadata": {
    "colab": {},
    "colab_type": "code",
    "id": "1t-NDi5NDCIW"
   },
   "outputs": [],
   "source": [
    "import numpy as np\n",
    "import pandas as pd"
   ]
  },
  {
   "cell_type": "markdown",
   "metadata": {
    "colab_type": "text",
    "id": "P53qCn3xDCIg"
   },
   "source": [
    "# Challenge - Inside a function\n",
    "You are already familiar with several built in functions on python as well as libraries. Let's try to figure out how they are made in pure python. "
   ]
  },
  {
   "cell_type": "markdown",
   "metadata": {
    "colab_type": "text",
    "id": "7Vq9tOLcDCIi"
   },
   "source": [
    "Create a function that returns the count of a list of numbers"
   ]
  },
  {
   "cell_type": "code",
   "execution_count": 4,
   "metadata": {
    "colab": {},
    "colab_type": "code",
    "id": "usAQavx0DCIl"
   },
   "outputs": [],
   "source": [
    "# Your code here:\n",
    "def count_numbers(arr):\n",
    "    return sum([1 for item in arr])\n"
   ]
  },
  {
   "cell_type": "code",
   "execution_count": 5,
   "metadata": {},
   "outputs": [
    {
     "data": {
      "text/plain": [
       "4"
      ]
     },
     "execution_count": 5,
     "metadata": {},
     "output_type": "execute_result"
    }
   ],
   "source": [
    "count_numbers([1,2312321,31232131,12321321312])"
   ]
  },
  {
   "cell_type": "markdown",
   "metadata": {
    "colab_type": "text",
    "id": "02PYrNc5DCIt"
   },
   "source": [
    "Create a function that returns the mean of a list of numbers"
   ]
  },
  {
   "cell_type": "code",
   "execution_count": 8,
   "metadata": {
    "colab": {},
    "colab_type": "code",
    "id": "nQpYuTmgDCIx"
   },
   "outputs": [],
   "source": [
    "# Your code here:\n",
    "def mean_numbers(arr):\n",
    "    return np.mean([item for item in arr])"
   ]
  },
  {
   "cell_type": "code",
   "execution_count": 10,
   "metadata": {},
   "outputs": [
    {
     "data": {
      "text/plain": [
       "9033610.2"
      ]
     },
     "execution_count": 10,
     "metadata": {},
     "output_type": "execute_result"
    }
   ],
   "source": [
    "mean_numbers([312321,3123213,3213213, 7310982,31208322])"
   ]
  },
  {
   "cell_type": "markdown",
   "metadata": {
    "colab_type": "text",
    "id": "xy1rA4EeDCI5"
   },
   "source": [
    "Create a function that returns the standard deviation of a list of numbers using the previous functions you created. "
   ]
  },
  {
   "cell_type": "code",
   "execution_count": 11,
   "metadata": {
    "colab": {},
    "colab_type": "code",
    "id": "jmvcGVIwDCI7"
   },
   "outputs": [],
   "source": [
    "# Your code here:\n",
    "def std_numbers(arr):\n",
    "    return (sum([(item - mean_numbers(arr))**2 for item in arr])/count_numbers(arr))**0.5"
   ]
  },
  {
   "cell_type": "code",
   "execution_count": 17,
   "metadata": {},
   "outputs": [
    {
     "data": {
      "text/plain": [
       "True"
      ]
     },
     "execution_count": 17,
     "metadata": {},
     "output_type": "execute_result"
    }
   ],
   "source": [
    "std_numbers([5,10,5,10,5,10])==np.std([5,10,5,10,5,10])"
   ]
  },
  {
   "cell_type": "markdown",
   "metadata": {
    "colab_type": "text",
    "id": "Dro2ll4WDCJB"
   },
   "source": [
    "Create a function that returns the count, mean and standard deviation of a given list. Document this function using triple quotes, your documentation should have description, parameters, returns and examples. "
   ]
  },
  {
   "cell_type": "code",
   "execution_count": 18,
   "metadata": {
    "colab": {},
    "colab_type": "code",
    "id": "FQEugvUuDCJE"
   },
   "outputs": [],
   "source": [
    "# Your code here:\n",
    "\n",
    "def basic_stat(arr):\n",
    "    '''Returns basic statistic data from the array, including its count, mean and std dev'''\n",
    "    counta = len(arr)\n",
    "    mean = np.mean(arr)\n",
    "    stddev = np.std(arr)\n",
    "    return (counta, mean, stddev)\n",
    "    "
   ]
  },
  {
   "cell_type": "code",
   "execution_count": 19,
   "metadata": {},
   "outputs": [
    {
     "data": {
      "text/plain": [
       "(6, 18.333333333333332, 7.4535599249993)"
      ]
     },
     "execution_count": 19,
     "metadata": {},
     "output_type": "execute_result"
    }
   ],
   "source": [
    "basic_stat([10,10,15,20,25,30])"
   ]
  },
  {
   "cell_type": "markdown",
   "metadata": {
    "colab_type": "text",
    "id": "-_YUdHo7DCJJ"
   },
   "source": [
    "# Challenge  - String Cleaning\n",
    "When working with textual data you will often have to clean it before being able to analyze it. Create a function that receives a string and returns that string in all lower case, without special characters and in alphabetical order. "
   ]
  },
  {
   "cell_type": "code",
   "execution_count": 20,
   "metadata": {},
   "outputs": [],
   "source": [
    "import re"
   ]
  },
  {
   "cell_type": "code",
   "execution_count": 57,
   "metadata": {
    "colab": {},
    "colab_type": "code",
    "id": "Lv7ztTkEDCJK"
   },
   "outputs": [],
   "source": [
    "# Your code here:\n",
    "def clean_string(arg1):\n",
    "    cstring = arg1.lower()\n",
    "    #print(cstring)\n",
    "    cstring = re.sub('[^A-Za-z]', \"\", cstring)\n",
    "    #print(cstring)\n",
    "    return ''.join(sorted(list(cstring)))"
   ]
  },
  {
   "cell_type": "code",
   "execution_count": 58,
   "metadata": {},
   "outputs": [
    {
     "name": "stdout",
     "output_type": "stream",
     "text": [
      "paixao2\n",
      "paixao\n"
     ]
    },
    {
     "data": {
      "text/plain": [
       "'aaiopx'"
      ]
     },
     "execution_count": 58,
     "metadata": {},
     "output_type": "execute_result"
    }
   ],
   "source": [
    "clean_string('Paixao2')"
   ]
  },
  {
   "cell_type": "markdown",
   "metadata": {
    "colab_type": "text",
    "id": "23s3vEQ-DCJO"
   },
   "source": [
    "# Challenge  - Classification\n",
    "Sometimes datasets provide very good and precise information but not in the way we need to use it. In this challenge, make a function that takes a numeric value (age or income for example) and turns it into a category (could be from Very Low to Very High or rated from 0 to 10). \n"
   ]
  },
  {
   "cell_type": "code",
   "execution_count": 63,
   "metadata": {
    "colab": {},
    "colab_type": "code",
    "id": "M4tbB_zFDCJP"
   },
   "outputs": [],
   "source": [
    "# Your code here:\n",
    "def class_age(age):\n",
    "    if age < 3:\n",
    "        return 'baby'\n",
    "    elif age < 10:\n",
    "        return 'child'\n",
    "    elif age < 20:\n",
    "        return 'teenager'\n",
    "    elif age < 65:\n",
    "        return 'adult'\n",
    "    elif age >= 65:\n",
    "        return 'senior'\n"
   ]
  },
  {
   "cell_type": "code",
   "execution_count": 64,
   "metadata": {},
   "outputs": [
    {
     "data": {
      "text/plain": [
       "'senior'"
      ]
     },
     "execution_count": 64,
     "metadata": {},
     "output_type": "execute_result"
    }
   ],
   "source": [
    "class_age(65)"
   ]
  },
  {
   "cell_type": "markdown",
   "metadata": {
    "colab_type": "text",
    "id": "qgCz4w1XDCJU"
   },
   "source": [
    "# Challenge  - Recursion \n",
    "In some cases it is interesting to build a function that calls itself. Use a recursive function that asks for an input from the users age and keeps asking for it until the input is a number between 0 and 150. "
   ]
  },
  {
   "cell_type": "code",
   "execution_count": 65,
   "metadata": {
    "colab": {},
    "colab_type": "code",
    "id": "ncLwOUUhDCJV"
   },
   "outputs": [],
   "source": [
    "# Your code here:\n",
    "def ask_age(age):\n",
    "    return age if age <= 150 and age>=0 else ask_age "
   ]
  },
  {
   "cell_type": "code",
   "execution_count": null,
   "metadata": {},
   "outputs": [],
   "source": []
  },
  {
   "cell_type": "code",
   "execution_count": null,
   "metadata": {},
   "outputs": [],
   "source": []
  },
  {
   "cell_type": "markdown",
   "metadata": {
    "colab_type": "text",
    "id": "k0oT8Xo2DCJa"
   },
   "source": [
    "# Challenge - Global and local variables "
   ]
  },
  {
   "cell_type": "markdown",
   "metadata": {
    "colab_type": "text",
    "id": "rBQkdI76DCJb"
   },
   "source": [
    "Make a function that returns the buzz string in alphabetical order  \n",
    "\n",
    "Expected output:\n",
    "````python\n",
    "'AI Big Data Data Warehouse Machine Learning Pipeline'\n",
    "````"
   ]
  },
  {
   "cell_type": "code",
   "execution_count": 0,
   "metadata": {
    "colab": {},
    "colab_type": "code",
    "id": "L4BnnsLnDCJc"
   },
   "outputs": [],
   "source": [
    "buzz = \"Big Data, Machine Learning, AI, Data Warehouse, Pipeline\"\n"
   ]
  },
  {
   "cell_type": "markdown",
   "metadata": {
    "colab_type": "text",
    "id": "b5b4z7e4DCJg"
   },
   "source": [
    "Make a function without return that modifies the buzz string and puts it in alphabetical order\n",
    "\n",
    "Expected output:\n",
    "````python\n",
    "'AI Big Data Data Warehouse Machine Learning Pipeline'\n",
    "````"
   ]
  },
  {
   "cell_type": "code",
   "execution_count": 0,
   "metadata": {
    "colab": {},
    "colab_type": "code",
    "id": "PxCWhN7IDCJi"
   },
   "outputs": [],
   "source": [
    "buzz = \"Big Data, Machine Learning, AI, Data Warehouse, Pipeline\"\n"
   ]
  },
  {
   "cell_type": "code",
   "execution_count": 0,
   "metadata": {
    "colab": {},
    "colab_type": "code",
    "id": "wjyniM1rDCJl"
   },
   "outputs": [],
   "source": []
  },
  {
   "cell_type": "markdown",
   "metadata": {
    "colab_type": "text",
    "id": "fw4vO7R-DCJr"
   },
   "source": [
    "# Bonus Challenge  - Applying Functions to DataFrames\n",
    "\n",
    "In this challenge, we will look at how to transform cells or entire columns at once.\n"
   ]
  },
  {
   "cell_type": "code",
   "execution_count": 0,
   "metadata": {
    "colab": {},
    "colab_type": "code",
    "id": "05TgMvpdDCJs"
   },
   "outputs": [],
   "source": [
    "import pandas as pd"
   ]
  },
  {
   "cell_type": "code",
   "execution_count": 0,
   "metadata": {
    "colab": {},
    "colab_type": "code",
    "id": "1N9fNV98DCJw"
   },
   "outputs": [],
   "source": [
    "iris_numeric = pd.DataFrame(data =[[5.1,3.5,1.4,0.2], [4.9,3,1.4,0.2],[4.7,3.2,1.3,0.2],[4.6,3.1,1.5,0.2],[5,3.6,1.4,0.2],[5.4,3.9,1.7,0.4],[4.6,3.4,1.4,0.3],[5,3.4,1.5,0.2],[4.4,2.9,1.4,0.2],[4.9,3.1,1.5,0.1]],columns = ['sepal_length', 'sepal_width', 'petal_length','petal_width'])"
   ]
  },
  {
   "cell_type": "markdown",
   "metadata": {
    "colab_type": "text",
    "id": "62v-80yZDCJ1"
   },
   "source": [
    "Let's look at the dataset using the `head` function.\n",
    "\n",
    "Expected output:\n",
    "\n",
    "|    |   sepal_length |   sepal_width |   petal_length |   petal_width |\n",
    "|---:|---------------:|--------------:|---------------:|--------------:|\n",
    "|  0 |            5.1 |           3.5 |            1.4 |           0.2 |\n",
    "|  1 |            4.9 |           3   |            1.4 |           0.2 |\n",
    "|  2 |            4.7 |           3.2 |            1.3 |           0.2 |\n",
    "|  3 |            4.6 |           3.1 |            1.5 |           0.2 |\n",
    "|  4 |            5   |           3.6 |            1.4 |           0.2 |"
   ]
  },
  {
   "cell_type": "code",
   "execution_count": 0,
   "metadata": {
    "colab": {},
    "colab_type": "code",
    "id": "hTlLCpp_DCJ2"
   },
   "outputs": [],
   "source": [
    "# Your code here:\n",
    "\n"
   ]
  },
  {
   "cell_type": "markdown",
   "metadata": {
    "colab_type": "text",
    "id": "y1VDf8KSDCJ6"
   },
   "source": [
    "Let's start off by using built-in functions. Try to use the numpy mean function and describe what happens in the comments of the code.\n",
    "\n",
    "Expected output:\n",
    "````python\n",
    "sepal_length    4.86\n",
    "sepal_width     3.31\n",
    "petal_length    1.45\n",
    "petal_width     0.22\n",
    "dtype: float64\n",
    "````"
   ]
  },
  {
   "cell_type": "code",
   "execution_count": 0,
   "metadata": {
    "colab": {},
    "colab_type": "code",
    "id": "55QqDcFkDCJ7"
   },
   "outputs": [],
   "source": []
  },
  {
   "cell_type": "markdown",
   "metadata": {
    "colab_type": "text",
    "id": "qrCDudyHDCJ_"
   },
   "source": [
    "Next, we'll use the standard deviation function in numpy (np.std). Describe what happened in the comments.\n",
    "\n",
    "Expected output:\n",
    "````python\n",
    "sepal_length    0.291357\n",
    "sepal_width     0.307137\n",
    "petal_length    0.108012\n",
    "petal_width     0.078881\n",
    "dtype: float64\n",
    "````"
   ]
  },
  {
   "cell_type": "code",
   "execution_count": 0,
   "metadata": {
    "colab": {},
    "colab_type": "code",
    "id": "00RaSSBVDCKA"
   },
   "outputs": [],
   "source": []
  },
  {
   "cell_type": "markdown",
   "metadata": {
    "colab_type": "text",
    "id": "68F-SuOnDCKD"
   },
   "source": [
    "The measurements are in centimeters. Let's convert them all to inches. We will write a function that converts centimeters to inches in the cell below. Recall that 1cm = 0.393701in."
   ]
  },
  {
   "cell_type": "code",
   "execution_count": 0,
   "metadata": {
    "colab": {},
    "colab_type": "code",
    "id": "T8tvoXdCDCKE"
   },
   "outputs": [],
   "source": [
    "def cm_to_in(x):\n",
    "    # This function takes in a numeric value in centimeters and converts it to inches\n",
    "    # Input: numeric value\n",
    "    # Output: float\n",
    "    \n",
    "    # Sample Input: 1.0\n",
    "    # Sample Output: 0.393701\n",
    "    \n",
    "    # Your code here:\n",
    "    "
   ]
  },
  {
   "cell_type": "markdown",
   "metadata": {
    "colab_type": "text",
    "id": "poXtnmphDCKK"
   },
   "source": [
    "Now convert all columns in `iris_numeric` to inches in the cell below. We like to think of functional transformations as immutable. Therefore, save the transformed data in a dataframe called `iris_inch`."
   ]
  },
  {
   "cell_type": "code",
   "execution_count": 0,
   "metadata": {
    "colab": {},
    "colab_type": "code",
    "id": "GnW2yEsDDCKL"
   },
   "outputs": [],
   "source": [
    "# Your code here:\n",
    "\n"
   ]
  },
  {
   "cell_type": "markdown",
   "metadata": {
    "colab_type": "text",
    "id": "PgrWISNFDCKN"
   },
   "source": [
    "We have just found that the original measurements were off by a constant. Define the global constant `error` and set it to 2. Write a function that uses the global constant and adds it to each cell in the dataframe. Apply this function to `iris_numeric` and save the result in `iris_constant`."
   ]
  },
  {
   "cell_type": "code",
   "execution_count": 0,
   "metadata": {
    "colab": {},
    "colab_type": "code",
    "id": "Wy9RKxHfDCKO"
   },
   "outputs": [],
   "source": [
    "# Define constant below:\n",
    "\n",
    "\n",
    "def add_constant(x):\n",
    "    # This function adds a global constant to our input.\n",
    "    # Input: numeric value\n",
    "    # Output: numeric value\n",
    "    \n",
    "    # Your code here:\n",
    "    "
   ]
  },
  {
   "cell_type": "markdown",
   "metadata": {
    "colab_type": "text",
    "id": "-AYaBeqqDCKT"
   },
   "source": [
    "Read more about applying functions to either rows or columns [here](https://pandas.pydata.org/pandas-docs/stable/generated/pandas.DataFrame.apply.html) and write a function that computes the maximum value for each row of `iris_numeric`"
   ]
  },
  {
   "cell_type": "code",
   "execution_count": 0,
   "metadata": {
    "colab": {},
    "colab_type": "code",
    "id": "tTmz2p6LDCKV"
   },
   "outputs": [],
   "source": [
    "# Your code here:\n",
    "\n"
   ]
  },
  {
   "cell_type": "markdown",
   "metadata": {
    "colab_type": "text",
    "id": "ItoYvDlqDCKZ"
   },
   "source": [
    "Compute the combined lengths for each row and the combined widths for each row using a function. Assign these values to new columns `total_length` and `total_width`."
   ]
  },
  {
   "cell_type": "code",
   "execution_count": 0,
   "metadata": {
    "colab": {},
    "colab_type": "code",
    "id": "7g8Cl7jgDCKa"
   },
   "outputs": [],
   "source": [
    "# Your code here:\n",
    "\n"
   ]
  },
  {
   "cell_type": "code",
   "execution_count": 0,
   "metadata": {
    "colab": {},
    "colab_type": "code",
    "id": "8wHyAVDoDCKe"
   },
   "outputs": [],
   "source": []
  }
 ],
 "metadata": {
  "colab": {
   "name": "functional_programming.ipynb",
   "provenance": []
  },
  "kernelspec": {
   "display_name": "Python 3",
   "language": "python",
   "name": "python3"
  },
  "language_info": {
   "codemirror_mode": {
    "name": "ipython",
    "version": 3
   },
   "file_extension": ".py",
   "mimetype": "text/x-python",
   "name": "python",
   "nbconvert_exporter": "python",
   "pygments_lexer": "ipython3",
   "version": "3.8.3"
  },
  "toc": {
   "base_numbering": 1,
   "nav_menu": {},
   "number_sections": true,
   "sideBar": true,
   "skip_h1_title": false,
   "title_cell": "Table of Contents",
   "title_sidebar": "Contents",
   "toc_cell": false,
   "toc_position": {},
   "toc_section_display": true,
   "toc_window_display": false
  },
  "varInspector": {
   "cols": {
    "lenName": 16,
    "lenType": 16,
    "lenVar": 40
   },
   "kernels_config": {
    "python": {
     "delete_cmd_postfix": "",
     "delete_cmd_prefix": "del ",
     "library": "var_list.py",
     "varRefreshCmd": "print(var_dic_list())"
    },
    "r": {
     "delete_cmd_postfix": ") ",
     "delete_cmd_prefix": "rm(",
     "library": "var_list.r",
     "varRefreshCmd": "cat(var_dic_list()) "
    }
   },
   "types_to_exclude": [
    "module",
    "function",
    "builtin_function_or_method",
    "instance",
    "_Feature"
   ],
   "window_display": false
  }
 },
 "nbformat": 4,
 "nbformat_minor": 1
}
