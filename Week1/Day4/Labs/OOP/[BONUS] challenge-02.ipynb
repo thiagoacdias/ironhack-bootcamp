{
 "cells": [
  {
   "cell_type": "markdown",
   "metadata": {
    "colab_type": "text",
    "id": "IGVndfDXTYvF"
   },
   "source": [
    "# Lab - Object Oriented Programming"
   ]
  },
  {
   "cell_type": "code",
   "execution_count": 2,
   "metadata": {
    "colab": {},
    "colab_type": "code",
    "id": "eFUM14nhTYvJ"
   },
   "outputs": [],
   "source": [
    "import pandas as pd\n",
    "import numpy as np"
   ]
  },
  {
   "cell_type": "markdown",
   "metadata": {
    "colab_type": "text",
    "id": "VAdTxKlPTYvP"
   },
   "source": [
    "# Challenge 2"
   ]
  },
  {
   "cell_type": "markdown",
   "metadata": {
    "colab_type": "text",
    "id": "r1ytbMg1TYvR"
   },
   "source": [
    "In order to understand the benefits of simple object-oriented programming, we have to build up our classes from the beginning. "
   ]
  },
  {
   "cell_type": "markdown",
   "metadata": {
    "colab_type": "text",
    "id": "X0QMBMXqTYvS"
   },
   "source": [
    "You'll use the following dataframe generator to test some things. Try to understand what the following function does."
   ]
  },
  {
   "cell_type": "code",
   "execution_count": 11,
   "metadata": {
    "colab": {},
    "colab_type": "code",
    "id": "X45Itv4vTYvU"
   },
   "outputs": [],
   "source": [
    "chars = ['a', 'b', 'c','d', 'e', 'f', ' ', 'á','é','ó']\n",
    "\n",
    "def create_weird_dataframe(size=10):\n",
    "    def create_weird_colnames(size=size):\n",
    "        probs = [.2,.2,.15,.1,.1,.1,.05,.05,.025,.025]\n",
    "\n",
    "        return [''.join(\n",
    "            [(char.upper() if np.random.random() < 0.2 else char) \n",
    "                     for char in np.random.choice(chars,size=12, p=probs)]) for i in range(size)]\n",
    "    \n",
    "    data = np.random.random(size=(size,size))\n",
    "    colnames = create_weird_colnames(size)\n",
    "    return pd.DataFrame(data=data, columns=colnames)"
   ]
  },
  {
   "cell_type": "code",
   "execution_count": 12,
   "metadata": {},
   "outputs": [
    {
     "data": {
      "text/plain": [
       "array(['a', 'a', 'd', 'f', 'ó', 'b', 'a', 'f', 'd', 'd', 'a', 'e'],\n",
       "      dtype='<U1')"
      ]
     },
     "execution_count": 12,
     "metadata": {},
     "output_type": "execute_result"
    }
   ],
   "source": [
    "# probs = [.2,.2,.15,.1,.1,.1,.05,.05,.025,.025]\n",
    "np.random.choice(chars,size=12, p=probs)"
   ]
  },
  {
   "cell_type": "code",
   "execution_count": 10,
   "metadata": {},
   "outputs": [
    {
     "data": {
      "text/html": [
       "<div>\n",
       "<style scoped>\n",
       "    .dataframe tbody tr th:only-of-type {\n",
       "        vertical-align: middle;\n",
       "    }\n",
       "\n",
       "    .dataframe tbody tr th {\n",
       "        vertical-align: top;\n",
       "    }\n",
       "\n",
       "    .dataframe thead th {\n",
       "        text-align: right;\n",
       "    }\n",
       "</style>\n",
       "<table border=\"1\" class=\"dataframe\">\n",
       "  <thead>\n",
       "    <tr style=\"text-align: right;\">\n",
       "      <th></th>\n",
       "      <th>baácdAabEbób</th>\n",
       "      <th>fbA cefEaaFá</th>\n",
       "      <th>AAaCeceAdeá</th>\n",
       "      <th>aabaadÉadóe</th>\n",
       "      <th>eácáfcbdAdca</th>\n",
       "    </tr>\n",
       "  </thead>\n",
       "  <tbody>\n",
       "    <tr>\n",
       "      <th>0</th>\n",
       "      <td>0.220936</td>\n",
       "      <td>0.463937</td>\n",
       "      <td>0.946984</td>\n",
       "      <td>0.331046</td>\n",
       "      <td>0.957348</td>\n",
       "    </tr>\n",
       "    <tr>\n",
       "      <th>1</th>\n",
       "      <td>0.524411</td>\n",
       "      <td>0.863756</td>\n",
       "      <td>0.367362</td>\n",
       "      <td>0.629009</td>\n",
       "      <td>0.992850</td>\n",
       "    </tr>\n",
       "    <tr>\n",
       "      <th>2</th>\n",
       "      <td>0.183138</td>\n",
       "      <td>0.957356</td>\n",
       "      <td>0.378521</td>\n",
       "      <td>0.678744</td>\n",
       "      <td>0.652635</td>\n",
       "    </tr>\n",
       "    <tr>\n",
       "      <th>3</th>\n",
       "      <td>0.648058</td>\n",
       "      <td>0.098833</td>\n",
       "      <td>0.153452</td>\n",
       "      <td>0.432894</td>\n",
       "      <td>0.677381</td>\n",
       "    </tr>\n",
       "    <tr>\n",
       "      <th>4</th>\n",
       "      <td>0.920358</td>\n",
       "      <td>0.369940</td>\n",
       "      <td>0.814192</td>\n",
       "      <td>0.593104</td>\n",
       "      <td>0.006093</td>\n",
       "    </tr>\n",
       "  </tbody>\n",
       "</table>\n",
       "</div>"
      ],
      "text/plain": [
       "   baácdAabEbób  fbA cefEaaFá   AAaCeceAdeá   aabaadÉadóe  eácáfcbdAdca\n",
       "0      0.220936      0.463937      0.946984      0.331046      0.957348\n",
       "1      0.524411      0.863756      0.367362      0.629009      0.992850\n",
       "2      0.183138      0.957356      0.378521      0.678744      0.652635\n",
       "3      0.648058      0.098833      0.153452      0.432894      0.677381\n",
       "4      0.920358      0.369940      0.814192      0.593104      0.006093"
      ]
     },
     "execution_count": 10,
     "metadata": {},
     "output_type": "execute_result"
    }
   ],
   "source": [
    "create_weird_dataframe(5)"
   ]
  },
  {
   "cell_type": "code",
   "execution_count": null,
   "metadata": {},
   "outputs": [],
   "source": []
  },
  {
   "cell_type": "markdown",
   "metadata": {
    "colab_type": "text",
    "id": "u2mUOpnbTYvY"
   },
   "source": [
    "Test the results of running that function below. Run it several times"
   ]
  },
  {
   "cell_type": "code",
   "execution_count": 17,
   "metadata": {
    "colab": {},
    "colab_type": "code",
    "id": "sN4YC6L2TYvZ"
   },
   "outputs": [
    {
     "data": {
      "text/html": [
       "<div>\n",
       "<style scoped>\n",
       "    .dataframe tbody tr th:only-of-type {\n",
       "        vertical-align: middle;\n",
       "    }\n",
       "\n",
       "    .dataframe tbody tr th {\n",
       "        vertical-align: top;\n",
       "    }\n",
       "\n",
       "    .dataframe thead th {\n",
       "        text-align: right;\n",
       "    }\n",
       "</style>\n",
       "<table border=\"1\" class=\"dataframe\">\n",
       "  <thead>\n",
       "    <tr style=\"text-align: right;\">\n",
       "      <th></th>\n",
       "      <th>eBdaffcfEbéó</th>\n",
       "      <th>b abCdfbcA f</th>\n",
       "      <th>aa FeBfcBECa</th>\n",
       "      <th>éfb ac DdÓób</th>\n",
       "      <th>bbefceabód a</th>\n",
       "      <th>AbFfbccCAÉDA</th>\n",
       "      <th>c AAcEb bbéá</th>\n",
       "      <th>cbfcbéC acac</th>\n",
       "      <th>aabCaeeFc d</th>\n",
       "      <th>afBdb ófBccb</th>\n",
       "    </tr>\n",
       "  </thead>\n",
       "  <tbody>\n",
       "    <tr>\n",
       "      <th>0</th>\n",
       "      <td>0.278377</td>\n",
       "      <td>0.182917</td>\n",
       "      <td>0.911523</td>\n",
       "      <td>0.332195</td>\n",
       "      <td>0.713528</td>\n",
       "      <td>0.212758</td>\n",
       "      <td>0.436025</td>\n",
       "      <td>0.384467</td>\n",
       "      <td>0.933131</td>\n",
       "      <td>0.843224</td>\n",
       "    </tr>\n",
       "    <tr>\n",
       "      <th>1</th>\n",
       "      <td>0.714131</td>\n",
       "      <td>0.409862</td>\n",
       "      <td>0.080942</td>\n",
       "      <td>0.541519</td>\n",
       "      <td>0.218960</td>\n",
       "      <td>0.204321</td>\n",
       "      <td>0.067931</td>\n",
       "      <td>0.817508</td>\n",
       "      <td>0.855003</td>\n",
       "      <td>0.443743</td>\n",
       "    </tr>\n",
       "    <tr>\n",
       "      <th>2</th>\n",
       "      <td>0.984234</td>\n",
       "      <td>0.497491</td>\n",
       "      <td>0.100006</td>\n",
       "      <td>0.621626</td>\n",
       "      <td>0.324703</td>\n",
       "      <td>0.797628</td>\n",
       "      <td>0.058474</td>\n",
       "      <td>0.357713</td>\n",
       "      <td>0.955096</td>\n",
       "      <td>0.303837</td>\n",
       "    </tr>\n",
       "    <tr>\n",
       "      <th>3</th>\n",
       "      <td>0.363623</td>\n",
       "      <td>0.507790</td>\n",
       "      <td>0.713343</td>\n",
       "      <td>0.289490</td>\n",
       "      <td>0.355704</td>\n",
       "      <td>0.659614</td>\n",
       "      <td>0.149597</td>\n",
       "      <td>0.717858</td>\n",
       "      <td>0.473236</td>\n",
       "      <td>0.841682</td>\n",
       "    </tr>\n",
       "    <tr>\n",
       "      <th>4</th>\n",
       "      <td>0.667910</td>\n",
       "      <td>0.362686</td>\n",
       "      <td>0.555095</td>\n",
       "      <td>0.274756</td>\n",
       "      <td>0.013544</td>\n",
       "      <td>0.841257</td>\n",
       "      <td>0.167453</td>\n",
       "      <td>0.967483</td>\n",
       "      <td>0.278402</td>\n",
       "      <td>0.522744</td>\n",
       "    </tr>\n",
       "  </tbody>\n",
       "</table>\n",
       "</div>"
      ],
      "text/plain": [
       "   eBdaffcfEbéó  b abCdfbcA f  aa FeBfcBECa  éfb ac DdÓób  bbefceabód a  \\\n",
       "0      0.278377      0.182917      0.911523      0.332195      0.713528   \n",
       "1      0.714131      0.409862      0.080942      0.541519      0.218960   \n",
       "2      0.984234      0.497491      0.100006      0.621626      0.324703   \n",
       "3      0.363623      0.507790      0.713343      0.289490      0.355704   \n",
       "4      0.667910      0.362686      0.555095      0.274756      0.013544   \n",
       "\n",
       "   AbFfbccCAÉDA  c AAcEb bbéá  cbfcbéC acac   aabCaeeFc d  afBdb ófBccb  \n",
       "0      0.212758      0.436025      0.384467      0.933131      0.843224  \n",
       "1      0.204321      0.067931      0.817508      0.855003      0.443743  \n",
       "2      0.797628      0.058474      0.357713      0.955096      0.303837  \n",
       "3      0.659614      0.149597      0.717858      0.473236      0.841682  \n",
       "4      0.841257      0.167453      0.967483      0.278402      0.522744  "
      ]
     },
     "execution_count": 17,
     "metadata": {},
     "output_type": "execute_result"
    }
   ],
   "source": [
    "df = create_weird_dataframe()\n",
    "df.head()"
   ]
  },
  {
   "cell_type": "markdown",
   "metadata": {
    "colab_type": "text",
    "id": "uk4PrJFfTYvd"
   },
   "source": [
    "## Correcting the column names\n",
    "\n",
    "We'll create a function that rename the weird column names. The idea is to, later, extend that idea to our own brand new dataframe class."
   ]
  },
  {
   "cell_type": "markdown",
   "metadata": {
    "colab_type": "text",
    "id": "n7Zt4bABTYvf"
   },
   "source": [
    "### let's start simple: get the column names of the dataframe.\n",
    "\n",
    "Store it in a variable called `col_names`\n"
   ]
  },
  {
   "cell_type": "code",
   "execution_count": 18,
   "metadata": {
    "colab": {},
    "colab_type": "code",
    "id": "ZPR1hdCITYvg"
   },
   "outputs": [],
   "source": [
    "col_names = df.columns\n"
   ]
  },
  {
   "cell_type": "markdown",
   "metadata": {
    "colab_type": "text",
    "id": "CIkkr475TYvk"
   },
   "source": [
    "### Let's iterate through this columns and transform them into lower-case column names\n",
    "\n",
    "Create a list comprehension to do that if possible. Store it in a variable called `lower_colnames`"
   ]
  },
  {
   "cell_type": "code",
   "execution_count": 19,
   "metadata": {
    "colab": {},
    "colab_type": "code",
    "id": "6TXYfFx5TYvl"
   },
   "outputs": [
    {
     "data": {
      "text/plain": [
       "['ebdaffcfebéó',\n",
       " 'b abcdfbca f',\n",
       " 'aa febfcbeca',\n",
       " 'éfb ac ddóób',\n",
       " 'bbefceabód a',\n",
       " 'abffbcccaéda',\n",
       " 'c aaceb bbéá',\n",
       " 'cbfcbéc acac',\n",
       " ' aabcaeefc d',\n",
       " 'afbdb ófbccb']"
      ]
     },
     "execution_count": 19,
     "metadata": {},
     "output_type": "execute_result"
    }
   ],
   "source": [
    "lower_colnames = [item.lower() for item in col_names]\n",
    "lower_colnames\n"
   ]
  },
  {
   "cell_type": "markdown",
   "metadata": {
    "colab_type": "text",
    "id": "qlTchgNbTYvp"
   },
   "source": [
    "### Let's remove the spaces of these column names!\n",
    "\n",
    "Replace each column name space ` ` for an underline `_`. Again, try to use a list comprehension to do that. \n",
    "For this first task use `.replace(' ','_')` method to do that."
   ]
  },
  {
   "cell_type": "code",
   "execution_count": 21,
   "metadata": {
    "colab": {},
    "colab_type": "code",
    "id": "y0JFfKgFTYvq"
   },
   "outputs": [],
   "source": [
    "lower_colnames = [item.replace(' ', '_') for item in lower_colnames]"
   ]
  },
  {
   "cell_type": "code",
   "execution_count": 22,
   "metadata": {},
   "outputs": [
    {
     "data": {
      "text/plain": [
       "['ebdaffcfebéó',\n",
       " 'b_abcdfbca_f',\n",
       " 'aa_febfcbeca',\n",
       " 'éfb_ac_ddóób',\n",
       " 'bbefceabód_a',\n",
       " 'abffbcccaéda',\n",
       " 'c_aaceb_bbéá',\n",
       " 'cbfcbéc_acac',\n",
       " '_aabcaeefc_d',\n",
       " 'afbdb_ófbccb']"
      ]
     },
     "execution_count": 22,
     "metadata": {},
     "output_type": "execute_result"
    }
   ],
   "source": [
    "lower_colnames"
   ]
  },
  {
   "cell_type": "markdown",
   "metadata": {
    "colab_type": "text",
    "id": "TCj5NklYTYvu"
   },
   "source": [
    "### Create a function that groups the results obtained above and return the lower case underlined names as a list\n",
    "\n",
    "Name the function `normalize_cols`. This function should receive a dataframe, get the column names of a it and return the treated list of column names."
   ]
  },
  {
   "cell_type": "code",
   "execution_count": 26,
   "metadata": {
    "colab": {},
    "colab_type": "code",
    "id": "aqYwg4EJTYvv"
   },
   "outputs": [],
   "source": [
    "def normalize_cols(df):\n",
    "    return [item.replace(' ', '_').lower() for item in df.columns]\n",
    "    "
   ]
  },
  {
   "cell_type": "markdown",
   "metadata": {
    "colab_type": "text",
    "id": "YMpWYJFwTYvz"
   },
   "source": [
    "### Test your results\n",
    "\n",
    "Use the following line of code to test your results. Run it several times to see some behaviors."
   ]
  },
  {
   "cell_type": "code",
   "execution_count": 41,
   "metadata": {
    "scrolled": true
   },
   "outputs": [
    {
     "data": {
      "text/plain": [
       "['cefbcaeaófbd',\n",
       " 'aécaáódbbbaá',\n",
       " 'aa_afcfd_ffb',\n",
       " 'aaadcfcbbaád',\n",
       " 'eeaceeabacbb',\n",
       " 'caabaaebbcbf',\n",
       " '_á_bácbebdab',\n",
       " 'becóébóaabab',\n",
       " 'cbffcffbfaóf',\n",
       " 'faeeecfdacáf']"
      ]
     },
     "execution_count": 41,
     "metadata": {},
     "output_type": "execute_result"
    }
   ],
   "source": [
    "df = create_weird_dataframe()\n",
    "normalize_cols(df)"
   ]
  },
  {
   "cell_type": "markdown",
   "metadata": {
    "colab_type": "text",
    "id": "LWMc9bikTYv4"
   },
   "source": [
    "### hmmm, we've made a mistake!\n",
    "\n",
    "We've commited several mistakes by doing this. Have observed any bugs associated with our results?"
   ]
  },
  {
   "cell_type": "markdown",
   "metadata": {
    "colab_type": "text",
    "id": "fGnyUzGATYv5"
   },
   "source": [
    "In order for us to see some problems in our results, we have to look for edge cases. \n",
    "\n",
    "For example: \n",
    "\n",
    "**Problem #1:** what if there are 2 or more following spaces? We want it to replace the spaces by several underlines or condense them into one?\n",
    "\n",
    "**Problem #2:** what if there are spaces at the beginning? Should we substitute them by underline or drop them?"
   ]
  },
  {
   "cell_type": "markdown",
   "metadata": {
    "colab_type": "text",
    "id": "BkJguuBITYv6"
   },
   "source": [
    "Let's correct each problem. Starting by problem 2."
   ]
  },
  {
   "cell_type": "markdown",
   "metadata": {
    "colab_type": "text",
    "id": "ikvacQQ3TYv7"
   },
   "source": [
    "## Correcting our function\n",
    "\n",
    "Instead of substituting the spaces at first place, let's remove the trailing and leading spaces!\n",
    "\n",
    "Recreate the `normalize_cols` with the solution to `Problem 2`.\n",
    "\n",
    "*Hint: Copy and paste the last `normalize_cols` function to change it.*"
   ]
  },
  {
   "cell_type": "code",
   "execution_count": 42,
   "metadata": {
    "colab": {},
    "colab_type": "code",
    "id": "u_kX4HS1TYv8"
   },
   "outputs": [],
   "source": [
    "def normalize_cols(df):\n",
    "    return [item.lower().strip() for item in df.columns]\n",
    "    "
   ]
  },
  {
   "cell_type": "markdown",
   "metadata": {
    "colab_type": "text",
    "id": "MXm2-PEbTYwA"
   },
   "source": [
    "### Test your results again.\n",
    "\n",
    "At least, for now, you should not have any trailing nor leading underlines."
   ]
  },
  {
   "cell_type": "code",
   "execution_count": 43,
   "metadata": {
    "colab": {},
    "colab_type": "code",
    "id": "Bm9ifu5QTYwB"
   },
   "outputs": [
    {
     "data": {
      "text/plain": [
       "['bacdbeaaéb d',\n",
       " 'ebbebacbccce',\n",
       " 'bbbbbcaáafe',\n",
       " 'dáca daócbbe',\n",
       " 'áabaaffcebbf',\n",
       " 'cafbcááaéacd',\n",
       " 'ócdcbfcedbcd',\n",
       " 'ábcbaaeáf bb',\n",
       " 'bfdabbbfábfa',\n",
       " 'aaaabebacaff']"
      ]
     },
     "execution_count": 43,
     "metadata": {},
     "output_type": "execute_result"
    }
   ],
   "source": [
    "normalize_cols(create_weird_dataframe())"
   ]
  },
  {
   "cell_type": "markdown",
   "metadata": {
    "colab_type": "text",
    "id": "zNR5w4cWTYwE"
   },
   "source": [
    "### Correcting problem 1"
   ]
  },
  {
   "cell_type": "markdown",
   "metadata": {
    "colab_type": "text",
    "id": "vSJu3qCCTYwG"
   },
   "source": [
    "To correct problem 1, instead of using `.replace()` string method, we want to use a regular expression. Use the module `re` to substitute the pattern of `1 or more spaces` by 1 underline `_`.\n",
    "\n",
    "Test your solution on the variable below:"
   ]
  },
  {
   "cell_type": "code",
   "execution_count": 44,
   "metadata": {
    "colab": {},
    "colab_type": "code",
    "id": "8dm4rS5mTYwH"
   },
   "outputs": [],
   "source": [
    "import re \n",
    "\n",
    "text = 'these spaces      should all be one underline'"
   ]
  },
  {
   "cell_type": "code",
   "execution_count": 49,
   "metadata": {
    "colab": {},
    "colab_type": "code",
    "id": "RP-cz9kKTYwK"
   },
   "outputs": [
    {
     "data": {
      "text/plain": [
       "'these_spaces_should_all_be_one_underline'"
      ]
     },
     "execution_count": 49,
     "metadata": {},
     "output_type": "execute_result"
    }
   ],
   "source": [
    "re.sub('\\\\s+', '_', text)"
   ]
  },
  {
   "cell_type": "markdown",
   "metadata": {
    "colab_type": "text",
    "id": "iqffTpd3TYwU"
   },
   "source": [
    "### Now correct your `normalize_cols` function\n",
    "\n",
    "*Hint: Copy and paste the last `normalize_cols` function to change it.*"
   ]
  },
  {
   "cell_type": "code",
   "execution_count": 50,
   "metadata": {
    "colab": {},
    "colab_type": "code",
    "id": "7SxhpuOCTYwV"
   },
   "outputs": [],
   "source": [
    "def normalize_cols(df):\n",
    "    new_list = [item.lower().strip() for item in df.columns]\n",
    "    return [re.sub('\\\\s+', '_', item) for item in new_list]\n"
   ]
  },
  {
   "cell_type": "code",
   "execution_count": 51,
   "metadata": {},
   "outputs": [
    {
     "data": {
      "text/plain": [
       "['ádóeadebdaaa',\n",
       " 'dbeácáafbc_b',\n",
       " 'cadacacbfeaf',\n",
       " 'bafebadb_ed',\n",
       " 'adbddb_ódcdf',\n",
       " 'ebfóbaóabcb',\n",
       " 'bedaabbdcecf',\n",
       " 'cedabedabbbe',\n",
       " 'daababbddbaf',\n",
       " 'bcbfafebdcab']"
      ]
     },
     "execution_count": 51,
     "metadata": {},
     "output_type": "execute_result"
    }
   ],
   "source": [
    "df = create_weird_dataframe()\n",
    "normalize_cols(df)"
   ]
  },
  {
   "cell_type": "markdown",
   "metadata": {
    "colab_type": "text",
    "id": "mn0UwlZATYwX"
   },
   "source": [
    "### Again, test your results.\n",
    "\n",
    "Now, sometimes some column names should have smaller sizes (because you are removing consecutive spaces)"
   ]
  },
  {
   "cell_type": "code",
   "execution_count": 57,
   "metadata": {
    "colab": {},
    "colab_type": "code",
    "id": "LzHIKAT4TYwZ"
   },
   "outputs": [
    {
     "data": {
      "text/plain": [
       "['dácdcabbébbd',\n",
       " 'abeccáóc_óeb',\n",
       " 'caafbefdfafa',\n",
       " 'affaefbbbdbe',\n",
       " 'c_debb_acbaf',\n",
       " 'cáadfébácaóa',\n",
       " 'aadfdabfb_ba',\n",
       " 'bea_bbfbbe',\n",
       " 'c_aeeacbcdcc',\n",
       " 'bffaófaáeóeb']"
      ]
     },
     "execution_count": 57,
     "metadata": {},
     "output_type": "execute_result"
    }
   ],
   "source": [
    "normalize_cols(create_weird_dataframe())"
   ]
  },
  {
   "cell_type": "markdown",
   "metadata": {
    "colab_type": "text",
    "id": "bs7KvyTwTYwc"
   },
   "source": [
    "## Last step: remove accents"
   ]
  },
  {
   "cell_type": "markdown",
   "metadata": {
    "colab_type": "text",
    "id": "rhQLRfoYTYwd"
   },
   "source": [
    "The last step consists in removing accents from the strings.\n",
    "\n",
    "Import the package `unidecode` to use its module also called `unidecode` to remove accents. Test on the word below."
   ]
  },
  {
   "cell_type": "code",
   "execution_count": 63,
   "metadata": {
    "colab": {},
    "colab_type": "code",
    "id": "4fgbbUbZTYwg"
   },
   "outputs": [],
   "source": [
    "from unidecode import unidecode"
   ]
  },
  {
   "cell_type": "code",
   "execution_count": 64,
   "metadata": {
    "colab": {},
    "colab_type": "code",
    "id": "osrv7brdTYwe"
   },
   "outputs": [],
   "source": [
    "text = 'aéóúaorowó'"
   ]
  },
  {
   "cell_type": "code",
   "execution_count": 66,
   "metadata": {
    "colab": {},
    "colab_type": "code",
    "id": "Jq0y6zOE7sb6"
   },
   "outputs": [
    {
     "data": {
      "text/plain": [
       "'aeouaorowo'"
      ]
     },
     "execution_count": 66,
     "metadata": {},
     "output_type": "execute_result"
    }
   ],
   "source": [
    "unidecode(text)"
   ]
  },
  {
   "cell_type": "markdown",
   "metadata": {
    "colab_type": "text",
    "id": "tCoX4ZYLTYwj"
   },
   "source": [
    "### Now remove the accents for each column name in your `normalized_cols` function.\n",
    "\n",
    "*Hint: Copy and paste the last `normalize_cols` function to change it.*"
   ]
  },
  {
   "cell_type": "code",
   "execution_count": 68,
   "metadata": {
    "colab": {},
    "colab_type": "code",
    "id": "3ZW9No0uTYwk"
   },
   "outputs": [],
   "source": [
    "def normalize_cols(df):\n",
    "    new_list = [item.lower().strip() for item in df.columns]\n",
    "    new_list = [re.sub('\\\\s+', '_', item) for item in new_list]\n",
    "    \n",
    "    return [unidecode(item) for item in new_list]"
   ]
  },
  {
   "cell_type": "code",
   "execution_count": 70,
   "metadata": {},
   "outputs": [
    {
     "name": "stdout",
     "output_type": "stream",
     "text": [
      "Index([' a ba bcbcca', 'efAeFbáéaáec', 'bFfac ecd Db', 'cFfcceAeCáac',\n",
      "       'Aabáabbbáfbe', 'cdbBbfáfcdóÓ', 'ac caCae bbÉ', 'bCebdddacaea',\n",
      "       'abBc cÓaddda', 'bccaéfefeafd'],\n",
      "      dtype='object')\n"
     ]
    },
    {
     "data": {
      "text/plain": [
       "['a_ba_bcbcca',\n",
       " 'efaefbaeaaec',\n",
       " 'bffac_ecd_db',\n",
       " 'cffcceaecaac',\n",
       " 'aabaabbbafbe',\n",
       " 'cdbbbfafcdoo',\n",
       " 'ac_cacae_bbe',\n",
       " 'bcebdddacaea',\n",
       " 'abbc_coaddda',\n",
       " 'bccaefefeafd']"
      ]
     },
     "execution_count": 70,
     "metadata": {},
     "output_type": "execute_result"
    }
   ],
   "source": [
    "df = create_weird_dataframe()\n",
    "print(df.columns)\n",
    "normalize_cols(df)"
   ]
  },
  {
   "cell_type": "markdown",
   "metadata": {
    "colab_type": "text",
    "id": "MTgNfgeYTYwm"
   },
   "source": [
    "### Test your results"
   ]
  },
  {
   "cell_type": "code",
   "execution_count": 74,
   "metadata": {
    "colab": {},
    "colab_type": "code",
    "id": "RxDiO0PzTYwn"
   },
   "outputs": [
    {
     "data": {
      "text/plain": [
       "['aeocccbacfea',\n",
       " 'feo_becabcab',\n",
       " 'aaodofddabda',\n",
       " 'ea_abo_oaaf',\n",
       " 'bbodcccba_db',\n",
       " 'aboccfaeefeb',\n",
       " 'cbafebofacac',\n",
       " 'fdaaabcadbdc',\n",
       " 'babacaoc_aaa',\n",
       " 'e_cdbabaeeaa']"
      ]
     },
     "execution_count": 74,
     "metadata": {},
     "output_type": "execute_result"
    }
   ],
   "source": [
    "normalize_cols(create_weird_dataframe())"
   ]
  },
  {
   "cell_type": "markdown",
   "metadata": {
    "colab_type": "text",
    "id": "VQ9C0CjkTYwq"
   },
   "source": [
    "## Good job. \n",
    "\n",
    "Right now you have a function that receives a dataframe and returns its columns names with a good formatting."
   ]
  },
  {
   "cell_type": "markdown",
   "metadata": {
    "colab_type": "text",
    "id": "5swtawYcTYwq"
   },
   "source": [
    "# Creating our own dataframe."
   ]
  },
  {
   "cell_type": "code",
   "execution_count": 75,
   "metadata": {
    "colab": {},
    "colab_type": "code",
    "id": "69irk1odTYwr"
   },
   "outputs": [],
   "source": [
    "from pandas import DataFrame"
   ]
  },
  {
   "cell_type": "markdown",
   "metadata": {
    "colab_type": "text",
    "id": "3vUf_BFSTYwt"
   },
   "source": [
    "A dataframe is just a simple class. It contains its own attributes and methods. \n",
    "\n",
    "When you create a pd.DataFrame() you are just instantiating the DataFrame class as an object that you can store in a variable. From this point onwards, you have access to all DataFrame class attributes (`.columns` for example) and methods (`.isna()` for example). We've been using those since always! "
   ]
  },
  {
   "cell_type": "markdown",
   "metadata": {
    "colab_type": "text",
    "id": "A5I8dflETYwu"
   },
   "source": [
    "If we wish, we could create our own class inheriting everything from a DataFrame class."
   ]
  },
  {
   "cell_type": "code",
   "execution_count": 0,
   "metadata": {
    "colab": {},
    "colab_type": "code",
    "id": "xZUmnuzzTYwv"
   },
   "outputs": [],
   "source": [
    "class myDataFrame(DataFrame):\n",
    "    pass"
   ]
  },
  {
   "cell_type": "markdown",
   "metadata": {
    "colab_type": "text",
    "id": "mPSyMDn4TYwy"
   },
   "source": [
    "Instead of just creating myDataFrame, put your function inside your new inherited class, that is, transform `normalize_cols` into a method of your own DataFrame.\n",
    "\n",
    "Remember you'll have to give self as the first argument of the `normalize_cols`. So you could replace everything you once called `dataframe` inside your `normalize_cols` by `self`. \n",
    "\n",
    "At the end, return the list of the correct names."
   ]
  },
  {
   "cell_type": "code",
   "execution_count": 77,
   "metadata": {
    "colab": {},
    "colab_type": "code",
    "id": "UD3uk6bkTYwz"
   },
   "outputs": [],
   "source": [
    "class myDataFrame(DataFrame):\n",
    "    def normalize_cols(self):\n",
    "        new_list = [item.lower().strip() for item in self.columns]\n",
    "        new_list = [re.sub('\\\\s+', '_', item) for item in new_list]\n",
    "\n",
    "        return [unidecode(item) for item in new_list]"
   ]
  },
  {
   "cell_type": "markdown",
   "metadata": {
    "colab_type": "text",
    "id": "lCKiKMavTYw1"
   },
   "source": [
    "Test your results."
   ]
  },
  {
   "cell_type": "code",
   "execution_count": 89,
   "metadata": {
    "colab": {},
    "colab_type": "code",
    "id": "EaVQNJBbTYw2"
   },
   "outputs": [
    {
     "data": {
      "text/plain": [
       "['fbcdebcdafab',\n",
       " 'abeeafbddaae',\n",
       " 'efababababda',\n",
       " 'decaecbccefb',\n",
       " 'aaeaaabcbode',\n",
       " 'cbaf_abbabfe',\n",
       " 'afa_f_aecada',\n",
       " 'dbaaeaaaccfa',\n",
       " 'cdbdabaccebb',\n",
       " 'aeoaaoaeaaac']"
      ]
     },
     "execution_count": 89,
     "metadata": {},
     "output_type": "execute_result"
    }
   ],
   "source": [
    "df = myDataFrame(create_weird_dataframe())\n",
    "df.normalize_cols()"
   ]
  },
  {
   "cell_type": "markdown",
   "metadata": {
    "colab_type": "text",
    "id": "I0IlScuLTYw5"
   },
   "source": [
    "## Understanding even more the `self` argument"
   ]
  },
  {
   "cell_type": "markdown",
   "metadata": {
    "colab_type": "text",
    "id": "UF5gjA1qTYw6"
   },
   "source": [
    "Instead of returning a list containing the correct columns, you should now assign the correct columns to the `self.columns` - this will effectively replace the values of your object by the correct columns.\n",
    "\n",
    "\n",
    "Now change your method to return the dataframe itself. That is, return the `self` argument this time and see the results! \n",
    "\n",
    "```python\n",
    "class myDataFrame(DataFrame):\n",
    "    def normalize_cos(self):\n",
    "        ...\n",
    "        return self\n",
    "```"
   ]
  },
  {
   "cell_type": "code",
   "execution_count": 97,
   "metadata": {
    "colab": {},
    "colab_type": "code",
    "id": "dTtylbdGTYw7"
   },
   "outputs": [],
   "source": [
    "class myDataFrame(DataFrame):\n",
    "    def normalize_cols(self):\n",
    "        new_list = [item.lower().strip() for item in self.columns]\n",
    "        new_list = [re.sub('\\\\s+', '_', item) for item in new_list]\n",
    "        new_list = [unidecode(item) for item in new_list]\n",
    "\n",
    "        self.columns = new_list\n",
    "        return self"
   ]
  },
  {
   "cell_type": "code",
   "execution_count": 98,
   "metadata": {},
   "outputs": [
    {
     "data": {
      "text/html": [
       "<div>\n",
       "<style scoped>\n",
       "    .dataframe tbody tr th:only-of-type {\n",
       "        vertical-align: middle;\n",
       "    }\n",
       "\n",
       "    .dataframe tbody tr th {\n",
       "        vertical-align: top;\n",
       "    }\n",
       "\n",
       "    .dataframe thead th {\n",
       "        text-align: right;\n",
       "    }\n",
       "</style>\n",
       "<table border=\"1\" class=\"dataframe\">\n",
       "  <thead>\n",
       "    <tr style=\"text-align: right;\">\n",
       "      <th></th>\n",
       "      <th>dadaebccebed</th>\n",
       "      <th>b_baaaobaeaf</th>\n",
       "      <th>eaebaaodea_a</th>\n",
       "      <th>bacadeeaadab</th>\n",
       "      <th>cbc_obbaabfe</th>\n",
       "      <th>bbcadabbfdcf</th>\n",
       "      <th>aoaebaacbcdb</th>\n",
       "      <th>baaececeb_be</th>\n",
       "      <th>ffddoeaaaeeb</th>\n",
       "      <th>facaafbabefb</th>\n",
       "    </tr>\n",
       "  </thead>\n",
       "  <tbody>\n",
       "    <tr>\n",
       "      <th>0</th>\n",
       "      <td>0.432540</td>\n",
       "      <td>0.913879</td>\n",
       "      <td>0.507808</td>\n",
       "      <td>0.045511</td>\n",
       "      <td>0.647367</td>\n",
       "      <td>0.149857</td>\n",
       "      <td>0.147672</td>\n",
       "      <td>0.190485</td>\n",
       "      <td>0.621763</td>\n",
       "      <td>0.611362</td>\n",
       "    </tr>\n",
       "    <tr>\n",
       "      <th>1</th>\n",
       "      <td>0.412501</td>\n",
       "      <td>0.075881</td>\n",
       "      <td>0.643067</td>\n",
       "      <td>0.297081</td>\n",
       "      <td>0.738830</td>\n",
       "      <td>0.653867</td>\n",
       "      <td>0.323564</td>\n",
       "      <td>0.018481</td>\n",
       "      <td>0.327270</td>\n",
       "      <td>0.062832</td>\n",
       "    </tr>\n",
       "    <tr>\n",
       "      <th>2</th>\n",
       "      <td>0.230497</td>\n",
       "      <td>0.554866</td>\n",
       "      <td>0.035641</td>\n",
       "      <td>0.297322</td>\n",
       "      <td>0.870833</td>\n",
       "      <td>0.163634</td>\n",
       "      <td>0.946934</td>\n",
       "      <td>0.435296</td>\n",
       "      <td>0.823883</td>\n",
       "      <td>0.441769</td>\n",
       "    </tr>\n",
       "    <tr>\n",
       "      <th>3</th>\n",
       "      <td>0.501929</td>\n",
       "      <td>0.314131</td>\n",
       "      <td>0.895229</td>\n",
       "      <td>0.107707</td>\n",
       "      <td>0.325975</td>\n",
       "      <td>0.257911</td>\n",
       "      <td>0.967124</td>\n",
       "      <td>0.291427</td>\n",
       "      <td>0.818250</td>\n",
       "      <td>0.989753</td>\n",
       "    </tr>\n",
       "    <tr>\n",
       "      <th>4</th>\n",
       "      <td>0.286018</td>\n",
       "      <td>0.722813</td>\n",
       "      <td>0.240485</td>\n",
       "      <td>0.333060</td>\n",
       "      <td>0.083677</td>\n",
       "      <td>0.348893</td>\n",
       "      <td>0.067275</td>\n",
       "      <td>0.056632</td>\n",
       "      <td>0.236284</td>\n",
       "      <td>0.357137</td>\n",
       "    </tr>\n",
       "    <tr>\n",
       "      <th>5</th>\n",
       "      <td>0.002264</td>\n",
       "      <td>0.727581</td>\n",
       "      <td>0.961395</td>\n",
       "      <td>0.630550</td>\n",
       "      <td>0.750578</td>\n",
       "      <td>0.161881</td>\n",
       "      <td>0.929035</td>\n",
       "      <td>0.329137</td>\n",
       "      <td>0.880021</td>\n",
       "      <td>0.758336</td>\n",
       "    </tr>\n",
       "    <tr>\n",
       "      <th>6</th>\n",
       "      <td>0.158913</td>\n",
       "      <td>0.874409</td>\n",
       "      <td>0.247741</td>\n",
       "      <td>0.038609</td>\n",
       "      <td>0.843288</td>\n",
       "      <td>0.126647</td>\n",
       "      <td>0.096979</td>\n",
       "      <td>0.054786</td>\n",
       "      <td>0.751491</td>\n",
       "      <td>0.609756</td>\n",
       "    </tr>\n",
       "    <tr>\n",
       "      <th>7</th>\n",
       "      <td>0.796103</td>\n",
       "      <td>0.290955</td>\n",
       "      <td>0.415716</td>\n",
       "      <td>0.168607</td>\n",
       "      <td>0.335043</td>\n",
       "      <td>0.481821</td>\n",
       "      <td>0.638922</td>\n",
       "      <td>0.952825</td>\n",
       "      <td>0.894794</td>\n",
       "      <td>0.149090</td>\n",
       "    </tr>\n",
       "    <tr>\n",
       "      <th>8</th>\n",
       "      <td>0.232617</td>\n",
       "      <td>0.640142</td>\n",
       "      <td>0.535473</td>\n",
       "      <td>0.853063</td>\n",
       "      <td>0.122473</td>\n",
       "      <td>0.901563</td>\n",
       "      <td>0.982185</td>\n",
       "      <td>0.672984</td>\n",
       "      <td>0.113772</td>\n",
       "      <td>0.766213</td>\n",
       "    </tr>\n",
       "    <tr>\n",
       "      <th>9</th>\n",
       "      <td>0.404543</td>\n",
       "      <td>0.144358</td>\n",
       "      <td>0.301226</td>\n",
       "      <td>0.947279</td>\n",
       "      <td>0.239124</td>\n",
       "      <td>0.182243</td>\n",
       "      <td>0.945697</td>\n",
       "      <td>0.503278</td>\n",
       "      <td>0.650258</td>\n",
       "      <td>0.739139</td>\n",
       "    </tr>\n",
       "  </tbody>\n",
       "</table>\n",
       "</div>"
      ],
      "text/plain": [
       "   dadaebccebed  b_baaaobaeaf  eaebaaodea_a  bacadeeaadab  cbc_obbaabfe  \\\n",
       "0      0.432540      0.913879      0.507808      0.045511      0.647367   \n",
       "1      0.412501      0.075881      0.643067      0.297081      0.738830   \n",
       "2      0.230497      0.554866      0.035641      0.297322      0.870833   \n",
       "3      0.501929      0.314131      0.895229      0.107707      0.325975   \n",
       "4      0.286018      0.722813      0.240485      0.333060      0.083677   \n",
       "5      0.002264      0.727581      0.961395      0.630550      0.750578   \n",
       "6      0.158913      0.874409      0.247741      0.038609      0.843288   \n",
       "7      0.796103      0.290955      0.415716      0.168607      0.335043   \n",
       "8      0.232617      0.640142      0.535473      0.853063      0.122473   \n",
       "9      0.404543      0.144358      0.301226      0.947279      0.239124   \n",
       "\n",
       "   bbcadabbfdcf  aoaebaacbcdb  baaececeb_be  ffddoeaaaeeb  facaafbabefb  \n",
       "0      0.149857      0.147672      0.190485      0.621763      0.611362  \n",
       "1      0.653867      0.323564      0.018481      0.327270      0.062832  \n",
       "2      0.163634      0.946934      0.435296      0.823883      0.441769  \n",
       "3      0.257911      0.967124      0.291427      0.818250      0.989753  \n",
       "4      0.348893      0.067275      0.056632      0.236284      0.357137  \n",
       "5      0.161881      0.929035      0.329137      0.880021      0.758336  \n",
       "6      0.126647      0.096979      0.054786      0.751491      0.609756  \n",
       "7      0.481821      0.638922      0.952825      0.894794      0.149090  \n",
       "8      0.901563      0.982185      0.672984      0.113772      0.766213  \n",
       "9      0.182243      0.945697      0.503278      0.650258      0.739139  "
      ]
     },
     "execution_count": 98,
     "metadata": {},
     "output_type": "execute_result"
    }
   ],
   "source": [
    "df = myDataFrame(create_weird_dataframe())\n",
    "df.normalize_cols()"
   ]
  },
  {
   "cell_type": "markdown",
   "metadata": {
    "colab_type": "text",
    "id": "bh1SJi3lTYxf"
   },
   "source": [
    "## Understanding the self argument"
   ]
  },
  {
   "cell_type": "markdown",
   "metadata": {
    "colab_type": "text",
    "id": "ZnGiF0QgTYxi"
   },
   "source": [
    "Now, below the `for loop` you've created, let's create the attributes of the `Car` class. Remember the attributes you wrote down earlier? Let's put them as arguments of the `__init__(self,)` function.\n",
    "\n",
    "Remember, the first argument of the `__init__(self,)` function should always be the `self` keyword. \n",
    "\n",
    "The `self` argument represents the object itself. That is a way for you to have access to the objects own attribute. \n"
   ]
  },
  {
   "cell_type": "markdown",
   "metadata": {
    "colab_type": "text",
    "id": "EuP7N9DzTYxj"
   },
   "source": [
    "### First, let's start creating one single attribute of this car."
   ]
  },
  {
   "cell_type": "markdown",
   "metadata": {
    "colab_type": "text",
    "id": "Szqw_HxlTYxk"
   },
   "source": [
    "Let's say you have chosen `name` as a car attribute (what? can't a car have a name?). \n",
    "\n",
    "If you want your class to receive a specific car name as an argument, you have to put this variable as the argument of the `__init__` function. So, to add `name`, the results of your special function definition would be:\n",
    "\n",
    "```python\n",
    "def __init__(self, name):\n",
    "    pass\n",
    "```\n",
    "\n",
    "Now, when you instantiate your Car class, the syntax would be similar to calling a function (which, by now, you should now that it is what you are effectively doing - you are calling the __init__ method), so what the syntax would be:\n",
    "\n",
    "*Hint: If you don't specify an argument, the python interpreter will complain that your class requires one argument (try that - if you don't try it now, it is not a problem, you'll try in future, even when you don't want to).*\n"
   ]
  },
  {
   "cell_type": "code",
   "execution_count": 0,
   "metadata": {
    "colab": {},
    "colab_type": "code",
    "id": "Uz0lt0tuTYxk"
   },
   "outputs": [],
   "source": [
    "# your code here"
   ]
  },
  {
   "cell_type": "markdown",
   "metadata": {
    "colab_type": "text",
    "id": "FLmjUel1TYxo"
   },
   "source": [
    "### Now let's store that new argument\n",
    "\n",
    "By now, you are only receiving the name of the car as an argument, but you are not doing anything specifically with that variable called `name`.\n",
    "\n",
    "Let's store that in the object. That's the first use of the `self` keyword.\n",
    "\n",
    "To store the variable in a way that the user can access via a `car.SOMETHING`, you have to specify that the object itself is receiving the attribute `name` (for example)\n",
    "\n",
    "Then, **create a variable called `name` that receives the argument `name`** (keep in mind that the name of the variable need not necessarily be the same, you could assing the argument `name` to an attribute called `chimpanze` for example).\n",
    "\n",
    "Also **create the other 5 attributes that you previously had in mind**\n"
   ]
  },
  {
   "cell_type": "code",
   "execution_count": 0,
   "metadata": {
    "colab": {},
    "colab_type": "code",
    "id": "7FzwacOwTYxq"
   },
   "outputs": [],
   "source": [
    "# your code here"
   ]
  },
  {
   "cell_type": "markdown",
   "metadata": {
    "colab_type": "text",
    "id": "3fS9sCKjTYxs"
   },
   "source": [
    "### Access the attribute\n",
    "\n",
    "You should now be able to access the object's attribute once you instantiate it as `my_car.name`\n",
    "\n",
    "You can try to write `my_car.<TAB>` to check what attributes or methods your object contains."
   ]
  },
  {
   "cell_type": "code",
   "execution_count": 0,
   "metadata": {
    "colab": {},
    "colab_type": "code",
    "id": "if18GWwtTYxt"
   },
   "outputs": [],
   "source": []
  },
  {
   "cell_type": "markdown",
   "metadata": {
    "colab_type": "text",
    "id": "uu5Ma2rvTYxu"
   },
   "source": [
    "## Understanding special methods"
   ]
  },
  {
   "cell_type": "markdown",
   "metadata": {
    "colab_type": "text",
    "id": "ltpSwuvTTYxv"
   },
   "source": [
    "Special methods are the ones that start with double underlines (usually called `dunder`), for example the `__init__` method, the `__doc__` method or `__repr__` method (called as `dunder init`, `dunder doc`, `dunder repr`)."
   ]
  },
  {
   "cell_type": "markdown",
   "metadata": {
    "colab_type": "text",
    "id": "dyytOn27TYxw"
   },
   "source": [
    "The `__repr__` method is responsible to show how your class will be displayed on screen when you display it.\n",
    "Let's create a `__repr__(self)` function on our `Car` class that returns the following string below (copy the string below):\n",
    "\n",
    "```python\n",
    "    car = f'''\n",
    "                  ______--------___\n",
    "                 /|             / |\n",
    "      o___________|_\\__________/__|\n",
    "     ]|___     |  |=   ||  =|___  |\"\n",
    "     //   \\\\    |  |____||_///   \\\\|\"\n",
    "    |  X  |\\--------------/|  X  |\\\"\n",
    "     \\___/                  \\___/\n",
    "    '''\n",
    "```\n",
    "\n",
    "Your class should now have two special methods, `__init__` and `__repr__`"
   ]
  },
  {
   "cell_type": "code",
   "execution_count": 0,
   "metadata": {
    "colab": {},
    "colab_type": "code",
    "id": "y4JUYVALTYxw"
   },
   "outputs": [],
   "source": [
    "class Car:\n",
    "    \n",
    "    def __init__(self, car_name):\n",
    "        self.car_name = car_name\n",
    "    \n",
    "    def __repr__(self):\n",
    "        \n",
    "        car = f'''\n",
    "                      ______--------___\n",
    "                     /|             / |\n",
    "          o___________|_\\__________/__|\n",
    "         ]|___     |  |=   ||  =|___  |\"\n",
    "         //   \\\\    |  |____||_///   \\\\|\"\n",
    "        |  X  |\\--------------/|  X  |\\\"\n",
    "         \\___/                  \\___/\n",
    "        '''\n",
    "        \n",
    "        return car"
   ]
  },
  {
   "cell_type": "markdown",
   "metadata": {
    "colab_type": "text",
    "id": "cZV4Qq62TYx4"
   },
   "source": [
    "### Now instantiate your Car class again"
   ]
  },
  {
   "cell_type": "code",
   "execution_count": 0,
   "metadata": {
    "colab": {},
    "colab_type": "code",
    "id": "K51Kjik8TYx4"
   },
   "outputs": [],
   "source": [
    "my_car = Car('Jeguinho')"
   ]
  },
  {
   "cell_type": "markdown",
   "metadata": {
    "colab_type": "text",
    "id": "ZoFEGcT1TYx8"
   },
   "source": [
    "### And check what happens when you print your object on screen"
   ]
  },
  {
   "cell_type": "code",
   "execution_count": 0,
   "metadata": {
    "colab": {},
    "colab_type": "code",
    "id": "v3JCceBBTYx9"
   },
   "outputs": [],
   "source": [
    "print(my_car)"
   ]
  },
  {
   "cell_type": "markdown",
   "metadata": {
    "colab_type": "text",
    "id": "tfhgwGFDTYyA"
   },
   "source": [
    "### Now create a simple method to receive and return the `self` variable\n",
    "\n",
    "Create a simple method inside your `class Car` and return `self` the self argument. Name this method `get_itself`."
   ]
  },
  {
   "cell_type": "code",
   "execution_count": 0,
   "metadata": {
    "colab": {},
    "colab_type": "code",
    "id": "jEQNj8r4TYyB"
   },
   "outputs": [],
   "source": [
    "class Car:\n",
    "    \n",
    "    def __init__(self, car_name):\n",
    "        self.car_name = car_name\n",
    "    \n",
    "    def __repr__(self):\n",
    "        \n",
    "        car = f'''\n",
    "                      ______--------___\n",
    "                     /|             / |\n",
    "          o___________|_\\__________/__|\n",
    "         ]|___     |  |=   ||  =|___  |\"\n",
    "         //   \\\\    |  |____||_///   \\\\|\"\n",
    "        |  X  |\\--------------/|  X  |\\\"\n",
    "         \\___/                  \\___/\n",
    "        '''\n",
    "        \n",
    "        return car\n",
    "    \n",
    "    def get_itself(self):\n",
    "        return self"
   ]
  },
  {
   "cell_type": "markdown",
   "metadata": {
    "colab_type": "text",
    "id": "Zd2avbOGTYyE"
   },
   "source": [
    "#### Now instantiate the Car class and call `get_itself()`"
   ]
  },
  {
   "cell_type": "code",
   "execution_count": 0,
   "metadata": {
    "colab": {},
    "colab_type": "code",
    "id": "pUl9ZI8YTYyF"
   },
   "outputs": [],
   "source": [
    "my_car = Car('andre')"
   ]
  },
  {
   "cell_type": "code",
   "execution_count": 0,
   "metadata": {
    "colab": {},
    "colab_type": "code",
    "id": "AZ3o-NCkTYyK"
   },
   "outputs": [],
   "source": [
    "my_car.get_itself()"
   ]
  },
  {
   "cell_type": "markdown",
   "metadata": {
    "colab_type": "text",
    "id": "QZ25I6chTYyL"
   },
   "source": [
    "This happens because you are print this specific object. "
   ]
  }
 ],
 "metadata": {
  "colab": {
   "collapsed_sections": [
    "YMpWYJFwTYvz",
    "LWMc9bikTYv4",
    "ikvacQQ3TYv7",
    "MXm2-PEbTYwA",
    "zNR5w4cWTYwE",
    "iqffTpd3TYwU",
    "mn0UwlZATYwX",
    "tCoX4ZYLTYwj",
    "MTgNfgeYTYwm",
    "VQ9C0CjkTYwq",
    "I0IlScuLTYw5",
    "bh1SJi3lTYxf",
    "EuP7N9DzTYxj",
    "FLmjUel1TYxo",
    "3fS9sCKjTYxs",
    "uu5Ma2rvTYxu",
    "cZV4Qq62TYx4",
    "ZoFEGcT1TYx8",
    "tfhgwGFDTYyA",
    "Zd2avbOGTYyE"
   ],
   "name": "[BONUS] challenge-02.ipynb",
   "provenance": []
  },
  "kernelspec": {
   "display_name": "Python 3",
   "language": "python",
   "name": "python3"
  },
  "language_info": {
   "codemirror_mode": {
    "name": "ipython",
    "version": 3
   },
   "file_extension": ".py",
   "mimetype": "text/x-python",
   "name": "python",
   "nbconvert_exporter": "python",
   "pygments_lexer": "ipython3",
   "version": "3.8.3"
  },
  "toc": {
   "base_numbering": 1,
   "nav_menu": {},
   "number_sections": true,
   "sideBar": true,
   "skip_h1_title": false,
   "title_cell": "Table of Contents",
   "title_sidebar": "Contents",
   "toc_cell": false,
   "toc_position": {},
   "toc_section_display": true,
   "toc_window_display": false
  }
 },
 "nbformat": 4,
 "nbformat_minor": 1
}
