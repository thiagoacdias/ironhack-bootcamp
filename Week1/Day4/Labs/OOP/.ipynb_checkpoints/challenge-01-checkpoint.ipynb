{
 "cells": [
  {
   "cell_type": "markdown",
   "metadata": {
    "colab_type": "text",
    "id": "Cg9YHmu81kzS"
   },
   "source": [
    "# Lab - Object Oriented Programming"
   ]
  },
  {
   "cell_type": "markdown",
   "metadata": {
    "colab_type": "text",
    "id": "h3puCfCG1kzZ"
   },
   "source": [
    "# Challenge 1"
   ]
  },
  {
   "cell_type": "markdown",
   "metadata": {
    "colab_type": "text",
    "id": "7s_ABg091kzZ"
   },
   "source": [
    "## Creating a class"
   ]
  },
  {
   "cell_type": "markdown",
   "metadata": {
    "colab_type": "text",
    "id": "7oWHt06a1kza"
   },
   "source": [
    "First of all, let's create a simple class. Name this class `Car`. ([PEP8](https://www.python.org/dev/peps/pep-0008/#class-names) suggests using CamelCase for class names, i.e., using the first letter of each name as upper-case.)\n",
    "\n",
    "That should be as simple as possible. Use the class syntax to create it and its content should be only the \n",
    "```python \n",
    "pass\n",
    "```\n",
    "statement.\n",
    "\n",
    "\n",
    "The `pass` statement is used just as a placeholder. This will be a class that doesn't do anything (yet)."
   ]
  },
  {
   "cell_type": "code",
   "execution_count": 2,
   "metadata": {
    "colab": {},
    "colab_type": "code",
    "id": "9Vlvqlg_1kzb"
   },
   "outputs": [],
   "source": [
    "# your code here\n",
    "class Car:\n",
    "    pass\n",
    "    "
   ]
  },
  {
   "cell_type": "markdown",
   "metadata": {
    "colab_type": "text",
    "id": "jCLcCavN1kzf"
   },
   "source": [
    "## Let's think of which attributes should a car have\n",
    "\n",
    "Think of attributes that are intrinsic of a car. Think of 5 attributes that all cars have and their possible values. Write down these 5 attributes for later use."
   ]
  },
  {
   "cell_type": "code",
   "execution_count": null,
   "metadata": {
    "colab": {},
    "colab_type": "code",
    "id": "n0uXsZtW1kzg"
   },
   "outputs": [],
   "source": [
    "# write the attributes name you've chosen as a comment here.\n",
    "# brand, model_name, submodel_name, max_speed, country_origin"
   ]
  },
  {
   "cell_type": "markdown",
   "metadata": {
    "colab_type": "text",
    "id": "4avEppmP1kzk"
   },
   "source": [
    "\n",
    "We will create the `__init(self,)__` special method. This is the first thing that is run when you instantiate a new object (by calling `Car()` for example).\n",
    "\n",
    "So each object that you are creating will instantly do whatever operation you perfom inside `__init(self,)__`. If you create new attributes over there, it will be accessible as soon as you create it. If you, instead, run some internal methods, it will perform as soon as the variable is created.\n",
    "\n",
    "Let's check that."
   ]
  },
  {
   "cell_type": "markdown",
   "metadata": {
    "colab_type": "text",
    "id": "a_roqusE1kzl"
   },
   "source": [
    "### Create a `__init__(self)` special method inside your `Car` class and then perform a `for loop`  inside of it. \n"
   ]
  },
  {
   "cell_type": "markdown",
   "metadata": {
    "colab_type": "text",
    "id": "WsszbCtV1kzl"
   },
   "source": [
    "To see the what happens when you initialize your class when a `__init__(self)` method exists, define this function and plug the following piece of code inside of it.\n",
    "\n",
    "```python\n",
    "from tqdm.auto import tqdm\n",
    "import time\n",
    "\n",
    "for i in tqdm(range(10), desc='__init__ is running, yay'):\n",
    "    time.sleep(.1)\n",
    "```"
   ]
  },
  {
   "cell_type": "code",
   "execution_count": 6,
   "metadata": {
    "colab": {},
    "colab_type": "code",
    "id": "QFq53Zwi1kzm"
   },
   "outputs": [
    {
     "data": {
      "application/vnd.jupyter.widget-view+json": {
       "model_id": "661eef8a6e2144349308863c44a0dc62",
       "version_major": 2,
       "version_minor": 0
      },
      "text/plain": [
       "HBox(children=(FloatProgress(value=0.0, description='__init__ is running, yay', max=10.0, style=ProgressStyle(…"
      ]
     },
     "metadata": {},
     "output_type": "display_data"
    },
    {
     "name": "stdout",
     "output_type": "stream",
     "text": [
      "\n"
     ]
    }
   ],
   "source": [
    "from tqdm.auto import tqdm\n",
    "import time\n",
    "\n",
    "for i in tqdm(range(10), desc='__init__ is running, yay'):\n",
    "    time.sleep(.1)"
   ]
  },
  {
   "cell_type": "markdown",
   "metadata": {
    "colab_type": "text",
    "id": "usdG7cKI1kzq"
   },
   "source": [
    "### Afterwards, instantiate your `Car` class and see this beauty."
   ]
  },
  {
   "cell_type": "code",
   "execution_count": null,
   "metadata": {
    "colab": {},
    "colab_type": "code",
    "id": "gISJwt8B1kzr"
   },
   "outputs": [],
   "source": [
    "# your code here"
   ]
  },
  {
   "cell_type": "markdown",
   "metadata": {
    "colab_type": "text",
    "id": "_PSGLYEc1kzv"
   },
   "source": [
    "## Understanding the self argument"
   ]
  },
  {
   "cell_type": "markdown",
   "metadata": {
    "colab_type": "text",
    "id": "aUegwH6v1kzv"
   },
   "source": [
    "Now, below the `for loop` you've created, let's create the attributes of the `Car` class. Remember the attributes you wrote down earlier? Let's put them as arguments of the `__init__(self,)` function.\n",
    "\n",
    "Remember, the first argument of the `__init__(self,)` function should always be the `self` keyword. \n",
    "\n",
    "The `self` argument represents the object itself. That is a way for you to have access to the objects own attribute. \n"
   ]
  },
  {
   "cell_type": "markdown",
   "metadata": {
    "colab_type": "text",
    "id": "p7f_Ph2e1kzw"
   },
   "source": [
    "### First, let's start creating one single attribute of this car."
   ]
  },
  {
   "cell_type": "markdown",
   "metadata": {
    "colab_type": "text",
    "id": "9-T5DH_j1kzx"
   },
   "source": [
    "Let's say you have chosen `name` as a car attribute (what? can't a car have a name?). \n",
    "\n",
    "If you want your class to receive a specific car name as an argument, you have to put this variable as the argument of the `__init__` function. So, to add `name`, the results of your special function definition would be:\n",
    "\n",
    "```python\n",
    "def __init__(self, name):\n",
    "    pass\n",
    "```\n",
    "\n",
    "Now, when you instantiate your Car class, the syntax would be similar to calling a function (which, by now, you should now that it is what you are effectively doing - you are calling the __init__ method), so what the syntax would be:\n",
    "\n",
    "*Hint: If you don't specify an argument, the python interpreter will complain that your class requires one argument (try that - if you don't try it now, it is not a problem, you'll try in future, even when you don't want to).*\n"
   ]
  },
  {
   "cell_type": "code",
   "execution_count": 8,
   "metadata": {
    "colab": {},
    "colab_type": "code",
    "id": "kvAS9r4m1kzz"
   },
   "outputs": [],
   "source": [
    "# your code here\n",
    "\n",
    "class Car:\n",
    "    def __init__(self, name):\n",
    "        self.name = name\n"
   ]
  },
  {
   "cell_type": "code",
   "execution_count": 11,
   "metadata": {},
   "outputs": [],
   "source": [
    "volvo = Car('Volvo')"
   ]
  },
  {
   "cell_type": "code",
   "execution_count": 12,
   "metadata": {},
   "outputs": [
    {
     "data": {
      "text/plain": [
       "'Volvo'"
      ]
     },
     "execution_count": 12,
     "metadata": {},
     "output_type": "execute_result"
    }
   ],
   "source": [
    "volvo.name"
   ]
  },
  {
   "cell_type": "markdown",
   "metadata": {
    "colab_type": "text",
    "id": "vrksHiAs1kz2"
   },
   "source": [
    "### Now let's store that new argument\n",
    "\n",
    "By now, you are only receiving the name of the car as an argument, but you are not doing anything specifically with that variable called `name`.\n",
    "\n",
    "Let's store that in the object. That's the first use of the `self` keyword.\n",
    "\n",
    "To store the variable in a way that the user can access via a `car.SOMETHING`, you have to specify that the object itself is receiving the attribute `name` (for example)\n",
    "\n",
    "Then, **create a variable called `name` that receives the argument `name`** (keep in mind that the name of the variable need not necessarily be the same, you could assing the argument `name` to an attribute called `chimpanze` for example).\n",
    "\n",
    "Also **create the other 5 attributes that you previously had in mind**\n"
   ]
  },
  {
   "cell_type": "code",
   "execution_count": 17,
   "metadata": {
    "colab": {},
    "colab_type": "code",
    "id": "Qb2-T7JF1kz3"
   },
   "outputs": [],
   "source": [
    "# your code here\n",
    "\n",
    "class Car:\n",
    "    def __init__(self, brand , model , submodel,speed, contry_origin):\n",
    "        self.brand = brand\n",
    "        self.model = model\n",
    "        self.submodel = submodel\n",
    "        self.speed = speed\n",
    "        self.country_origin = contry_origin\n",
    "        \n"
   ]
  },
  {
   "cell_type": "code",
   "execution_count": 22,
   "metadata": {},
   "outputs": [],
   "source": [
    "MyCar = Car('Volvo', 'V40', 'Bonitao', 180, 'Mexico')"
   ]
  },
  {
   "cell_type": "code",
   "execution_count": 23,
   "metadata": {},
   "outputs": [
    {
     "data": {
      "text/plain": [
       "'V40'"
      ]
     },
     "execution_count": 23,
     "metadata": {},
     "output_type": "execute_result"
    }
   ],
   "source": [
    "MyCar.model"
   ]
  },
  {
   "cell_type": "markdown",
   "metadata": {
    "colab_type": "text",
    "id": "y5iAyMKy1kz6"
   },
   "source": [
    "### Access the attribute\n",
    "\n",
    "You should now be able to access the object's attribute once you instantiate it as `my_car.name`\n",
    "\n",
    "You can try to write `my_car.<TAB>` to check what attributes or methods your object contains."
   ]
  },
  {
   "cell_type": "code",
   "execution_count": null,
   "metadata": {
    "colab": {},
    "colab_type": "code",
    "id": "seUopUVH1kz7"
   },
   "outputs": [],
   "source": [
    "# your code here"
   ]
  },
  {
   "cell_type": "markdown",
   "metadata": {
    "colab_type": "text",
    "id": "S-sADAYz1kz-"
   },
   "source": [
    "## Understanding special methods"
   ]
  },
  {
   "cell_type": "markdown",
   "metadata": {
    "colab_type": "text",
    "id": "dwK0km7b1k0A"
   },
   "source": [
    "Special methods are the ones that start with double underlines (usually called `dunder`), for example the `__init__` method, the `__doc__` method or `__repr__` method (called as `dunder init`, `dunder doc`, `dunder repr`)."
   ]
  },
  {
   "cell_type": "markdown",
   "metadata": {
    "colab_type": "text",
    "id": "AOn6R6et1k0B"
   },
   "source": [
    "The `__repr__` method is responsible to show how your class will be displayed on screen when you display it.\n",
    "Let's create a `__repr__(self)` function on our `Car` class that returns the following string below (copy the string below):\n",
    "\n",
    "```python\n",
    "    car = f'''\n",
    "                  ______--------___\n",
    "                 /|             / |\n",
    "      o___________|_\\__________/__|\n",
    "     ]|___     |  |=   ||  =|___  |\"\n",
    "     //   \\\\    |  |____||_///   \\\\|\"\n",
    "    |  X  |\\--------------/|  X  |\\\"\n",
    "     \\___/                  \\___/\n",
    "    '''\n",
    "```\n",
    "\n",
    "Your class should now have two special methods, `__init__` and `__repr__`"
   ]
  },
  {
   "cell_type": "code",
   "execution_count": 34,
   "metadata": {
    "colab": {},
    "colab_type": "code",
    "id": "YwIKfStC1k0C"
   },
   "outputs": [],
   "source": [
    "# your code here\n",
    "\n",
    "class Car:\n",
    "    def __init__(self, brand , model , submodel,speed, contry_origin):\n",
    "        self.brand = brand\n",
    "        self.model = model\n",
    "        self.submodel = submodel\n",
    "        self.speed = speed\n",
    "        self.country_origin = contry_origin\n",
    "    \n",
    "    def __repr__(self):\n",
    "        return f'''\n",
    "                  ______--------___\n",
    "                 /|             / |\n",
    "      o___________|_\\__________/__|\n",
    "     ]|___     |  |=   ||  =|___  |\"\n",
    "     //   \\\\    |  |____||_///   \\\\|\"\n",
    "    |  X  |\\--------------/|  X  |\\\"\n",
    "     \\___/                  \\___/\n",
    "    '''"
   ]
  },
  {
   "cell_type": "markdown",
   "metadata": {
    "colab_type": "text",
    "id": "_Adk80WH1k0H"
   },
   "source": [
    "### Now instantiate your Car class again"
   ]
  },
  {
   "cell_type": "code",
   "execution_count": 35,
   "metadata": {
    "colab": {},
    "colab_type": "code",
    "id": "yiOrJNm_1k0I"
   },
   "outputs": [],
   "source": [
    "# your code here\n",
    "MyCar = Car('Volvo', 'V40', 'Bonitao', 180, 'Mexico')\n",
    "\n"
   ]
  },
  {
   "cell_type": "code",
   "execution_count": 45,
   "metadata": {},
   "outputs": [
    {
     "ename": "TypeError",
     "evalue": "'Car' object is not callable",
     "output_type": "error",
     "traceback": [
      "\u001b[1;31m---------------------------------------------------------------------------\u001b[0m",
      "\u001b[1;31mTypeError\u001b[0m                                 Traceback (most recent call last)",
      "\u001b[1;32m<ipython-input-45-b56f31bdc311>\u001b[0m in \u001b[0;36m<module>\u001b[1;34m\u001b[0m\n\u001b[0;32m     10\u001b[0m \u001b[1;33m\u001b[0m\u001b[0m\n\u001b[0;32m     11\u001b[0m \u001b[1;33m\u001b[0m\u001b[0m\n\u001b[1;32m---> 12\u001b[1;33m \u001b[0mMyCar\u001b[0m\u001b[1;33m(\u001b[0m\u001b[0mcar\u001b[0m\u001b[1;33m)\u001b[0m\u001b[1;33m\u001b[0m\u001b[1;33m\u001b[0m\u001b[0m\n\u001b[0m",
      "\u001b[1;31mTypeError\u001b[0m: 'Car' object is not callable"
     ]
    }
   ],
   "source": []
  },
  {
   "cell_type": "markdown",
   "metadata": {
    "colab_type": "text",
    "id": "Y-iwCDfv1k0M"
   },
   "source": [
    "### And check what happens when you print your object on screen"
   ]
  },
  {
   "cell_type": "code",
   "execution_count": 37,
   "metadata": {
    "colab": {},
    "colab_type": "code",
    "id": "k2SrXV381k0M"
   },
   "outputs": [
    {
     "data": {
      "text/plain": [
       "\n",
       "                  ______--------___\n",
       "                 /|             / |\n",
       "      o___________|_\\__________/__|\n",
       "     ]|___     |  |=   ||  =|___  |\"\n",
       "     //   \\    |  |____||_///   \\|\"\n",
       "    |  X  |\\--------------/|  X  |\"\n",
       "     \\___/                  \\___/\n",
       "    "
      ]
     },
     "execution_count": 37,
     "metadata": {},
     "output_type": "execute_result"
    }
   ],
   "source": [
    "# your code here\n",
    "MyCar"
   ]
  },
  {
   "cell_type": "markdown",
   "metadata": {
    "colab_type": "text",
    "id": "2jOd9vnm1k0R"
   },
   "source": [
    "### Now create a simple method to receive and return the `self` variable\n",
    "\n",
    "Create a simple method inside your `class Car` and return `self` the self argument. Name this method `get_itself`."
   ]
  },
  {
   "cell_type": "code",
   "execution_count": 54,
   "metadata": {
    "colab": {},
    "colab_type": "code",
    "id": "uvGjC19m1k0R"
   },
   "outputs": [],
   "source": [
    "# your code here\n",
    "\n",
    "class Car:\n",
    "    def __init__(self, brand , model , submodel,speed, contry_origin, car):\n",
    "        self.brand = brand\n",
    "        self.model = model\n",
    "        self.submodel = submodel\n",
    "        self.speed = speed\n",
    "        self.country_origin = contry_origin\n",
    "        self.car = car\n",
    "    \n",
    "    def __repr__(self):\n",
    "        car = self.car\n",
    "        \n",
    "        return car\n",
    "    \n",
    "    def get_itself(self):\n",
    "        return self"
   ]
  },
  {
   "cell_type": "code",
   "execution_count": 55,
   "metadata": {},
   "outputs": [],
   "source": [
    "car = f'''\n",
    "                  ______--------___\n",
    "                 /|             / |\n",
    "      o___________|_\\__________/__|\n",
    "     ]|___     |  |=   ||  =|___  |\"\n",
    "     //   \\\\    |  |____||_///   \\\\|\"\n",
    "    |  X  |\\--------------/|  X  |\\\"\n",
    "     \\___/                  \\___/\n",
    "    '''\n",
    "\n",
    "MyCar = Car('Volvo', 'V40', 'Bonitao', 180, 'Mexico',car)\n"
   ]
  },
  {
   "cell_type": "code",
   "execution_count": 56,
   "metadata": {},
   "outputs": [
    {
     "data": {
      "text/plain": [
       "\n",
       "                  ______--------___\n",
       "                 /|             / |\n",
       "      o___________|_\\__________/__|\n",
       "     ]|___     |  |=   ||  =|___  |\"\n",
       "     //   \\    |  |____||_///   \\|\"\n",
       "    |  X  |\\--------------/|  X  |\"\n",
       "     \\___/                  \\___/\n",
       "    "
      ]
     },
     "execution_count": 56,
     "metadata": {},
     "output_type": "execute_result"
    }
   ],
   "source": [
    "\n",
    "\n",
    "MyCar"
   ]
  },
  {
   "cell_type": "code",
   "execution_count": 58,
   "metadata": {},
   "outputs": [
    {
     "data": {
      "text/plain": [
       "\n",
       "                  ______--------___\n",
       "                 /|             / |\n",
       "      o___________|_\\__________/__|\n",
       "     ]|___     |  |=   ||  =|___  |\"\n",
       "     //   \\    |  |____||_///   \\|\"\n",
       "    |  X  |\\--------------/|  X  |\"\n",
       "     \\___/                  \\___/\n",
       "    "
      ]
     },
     "execution_count": 58,
     "metadata": {},
     "output_type": "execute_result"
    }
   ],
   "source": [
    "MyCar.get_itself()"
   ]
  },
  {
   "cell_type": "markdown",
   "metadata": {
    "colab_type": "text",
    "id": "CKGHKq7E1k0W"
   },
   "source": [
    "#### Now instantiate the Car class and call `get_itself()`"
   ]
  },
  {
   "cell_type": "markdown",
   "metadata": {
    "colab_type": "text",
    "id": "1bYp_C351k0f"
   },
   "source": [
    "This happens because you are print this specific object. "
   ]
  },
  {
   "cell_type": "markdown",
   "metadata": {
    "colab_type": "text",
    "id": "gKdMu0N61k0g"
   },
   "source": [
    "# Bonus 1"
   ]
  },
  {
   "cell_type": "markdown",
   "metadata": {
    "colab_type": "text",
    "id": "7mwY-xPX1k0h"
   },
   "source": [
    "### Now let's parametrize this drawing."
   ]
  },
  {
   "cell_type": "markdown",
   "metadata": {
    "colab_type": "text",
    "id": "CYTb5BY_1k0h"
   },
   "source": [
    "Change your class to receive the drawing you want to output as a parameter. Modify your __repr__ method to use that parameter instead of the fixed drawing we used upwards."
   ]
  },
  {
   "cell_type": "code",
   "execution_count": null,
   "metadata": {
    "colab": {},
    "colab_type": "code",
    "id": "8ZrKRi4k1k0i"
   },
   "outputs": [],
   "source": [
    "# your code here"
   ]
  },
  {
   "cell_type": "code",
   "execution_count": 59,
   "metadata": {
    "colab": {},
    "colab_type": "code",
    "id": "i2OpXe2x1k0l"
   },
   "outputs": [
    {
     "data": {
      "text/plain": [
       "\n",
       "              ______--------___\n",
       "             /|             / |\n",
       "  o___________|_\\__________/__|\n",
       " ]|___     |  |=   ||  =|___  |\"\n",
       " //   \\    |  |____||_///   \\|\"\n",
       "|  X  |\\--------------/|  X  |\"\n",
       " \\___/                  \\___/"
      ]
     },
     "execution_count": 59,
     "metadata": {},
     "output_type": "execute_result"
    }
   ],
   "source": [
    "car = f'''\n",
    "              ______--------___\n",
    "             /|             / |\n",
    "  o___________|_\\__________/__|\n",
    " ]|___     |  |=   ||  =|___  |\"\n",
    " //   \\\\    |  |____||_///   \\\\|\"\n",
    "|  X  |\\--------------/|  X  |\\\"\n",
    " \\___/                  \\___/\n",
    "'''\n",
    "\n",
    "MyCar = Car('Volvo', 'V40', 'Bonitao', 180, 'Mexico',car)\n",
    "\n",
    "MyCar"
   ]
  },
  {
   "cell_type": "code",
   "execution_count": 60,
   "metadata": {
    "colab": {},
    "colab_type": "code",
    "id": "xH6_Xbdw1k0o"
   },
   "outputs": [
    {
     "data": {
      "text/plain": [
       "\n",
       "                   _\n",
       " _________________| \\_\n",
       "|   ___    |  ,|   ___`-.\n",
       "|  /   \\   |___/  /   \\  `-.\n",
       "|_| (O) |________| (O) |____|\n",
       "   \\___/          \\___/"
      ]
     },
     "execution_count": 60,
     "metadata": {},
     "output_type": "execute_result"
    }
   ],
   "source": [
    "car = '''\n",
    "                   _\n",
    " _________________| \\_\n",
    "|   ___    |  ,|   ___`-.\n",
    "|  /   \\   |___/  /   \\  `-.\n",
    "|_| (O) |________| (O) |____|\n",
    "   \\___/          \\___/\n",
    "'''\n",
    "\n",
    "MyUno = Car('Fiat', 'Uno', 'Lindao', 120, 'Brasil',car)\n",
    "MyUno"
   ]
  },
  {
   "cell_type": "markdown",
   "metadata": {
    "colab_type": "text",
    "id": "gqiq26CV1k0u"
   },
   "source": [
    "# Bonus 2"
   ]
  },
  {
   "cell_type": "markdown",
   "metadata": {
    "colab_type": "text",
    "id": "NXa0dT-31k0v"
   },
   "source": [
    "## Create a specialized version of a car - an Uber"
   ]
  },
  {
   "cell_type": "markdown",
   "metadata": {
    "colab_type": "text",
    "id": "uneiP7ty1k0v"
   },
   "source": [
    "You'll now create a specific version of a car. It contains the same attributes and functions of the class of cars, but it is specifically a Uber."
   ]
  },
  {
   "cell_type": "code",
   "execution_count": 62,
   "metadata": {
    "colab": {},
    "colab_type": "code",
    "id": "VJz_lZzV1k0w"
   },
   "outputs": [],
   "source": [
    "# your code here\n",
    "class Uber(Car):\n",
    "    pass"
   ]
  },
  {
   "cell_type": "markdown",
   "metadata": {
    "colab_type": "text",
    "id": "_q9Zt0701k01"
   },
   "source": [
    "### Create a class called `Uber` that inherits from a `Car`"
   ]
  },
  {
   "cell_type": "code",
   "execution_count": 63,
   "metadata": {
    "colab": {},
    "colab_type": "code",
    "id": "1vFr8dNX1k02"
   },
   "outputs": [],
   "source": [
    "# your code here\n",
    "class Uber(Car):\n",
    "    pass"
   ]
  },
  {
   "cell_type": "markdown",
   "metadata": {
    "colab_type": "text",
    "id": "_pbv_N6k1k06"
   },
   "source": [
    "### Extending the `Car` class. \n",
    "\n",
    "When you create a new class based on another and create new attributes and methods for it, you are extending it. \n",
    "\n",
    "#### Let's create 2 new attributes that only `Uber cars` have. \n",
    "\n",
    "Create the `category` of the Uber (`Black`, `Platinun`, etc) and one more attribute of your choice."
   ]
  },
  {
   "cell_type": "code",
   "execution_count": 64,
   "metadata": {},
   "outputs": [],
   "source": [
    "class Uber(Car):\n",
    "    def __init__(self, category, star_rating):\n",
    "        self.category = category\n",
    "        self.star_rating = star_rating\n"
   ]
  },
  {
   "cell_type": "markdown",
   "metadata": {
    "colab_type": "text",
    "id": "m2HHkFXs1k07"
   },
   "source": [
    "#### Let's create a method for this new `Uber` class that calculates the price of the run given the distance in km and time spent (in minutes) in the run. \n",
    "\n",
    "Suppose each km costs `R$ 1,00` and 1 minute costs `R$ 0,50` for `Uber` Black and `R$ 1,20` and 1 minute costs `R$ 0,60` for `Uber`  Platinum.  The final price is the max between the two.\n",
    "\n",
    "```python\n",
    "def get_price(km, time):\n",
    "    ...\n",
    "    return final_price\n",
    "```\n",
    "\n",
    "Then calculate the price of your `Uber` from:\n",
    "\n",
    "1. A `Uber Black` going from Ironhack to Guarulhos Airport (`1h:20min, 30.5km`)\n",
    "1. A `Uber Platinum` going from Ironhack to Guarulhos Airport (`1h:20min, 30.5km`)"
   ]
  },
  {
   "cell_type": "code",
   "execution_count": 81,
   "metadata": {},
   "outputs": [],
   "source": [
    "class Uber(Car):\n",
    "    def __init__(self, brand , model , submodel,speed, contry_origin, car, category, star_rating):\n",
    "        super().__init__(brand , model , submodel,speed, contry_origin, car)\n",
    "        self.category = category\n",
    "        self.star_rating = star_rating\n",
    "        \n",
    "    def get_price(self,km, time):\n",
    "        print(self.category)\n",
    "        if self.category == 'Black':\n",
    "            km_cost = 1\n",
    "            minute_cost = 0.5\n",
    "        else:\n",
    "            km_cost = 1.2\n",
    "            minute_cost = 0.6\n",
    "        return max(km_cost*km, minute_cost * time)"
   ]
  },
  {
   "cell_type": "markdown",
   "metadata": {
    "colab_type": "text",
    "id": "odnIv5NV1k07"
   },
   "source": [
    "Test your results"
   ]
  },
  {
   "cell_type": "code",
   "execution_count": 82,
   "metadata": {
    "colab": {},
    "colab_type": "code",
    "id": "Ij3uIle41k08"
   },
   "outputs": [
    {
     "name": "stdout",
     "output_type": "stream",
     "text": [
      "Black\n"
     ]
    },
    {
     "data": {
      "text/plain": [
       "80"
      ]
     },
     "execution_count": 82,
     "metadata": {},
     "output_type": "execute_result"
    }
   ],
   "source": [
    "black = Uber('Volvo', 'V40', 'Bonitao', 180, 'Mexico',car, category='Black', star_rating=5)\n",
    "black.get_price(80,30.5)"
   ]
  },
  {
   "cell_type": "code",
   "execution_count": 85,
   "metadata": {
    "colab": {},
    "colab_type": "code",
    "id": "nYGvo_JU1k0_",
    "scrolled": true
   },
   "outputs": [
    {
     "name": "stdout",
     "output_type": "stream",
     "text": [
      "platinum\n"
     ]
    },
    {
     "data": {
      "text/plain": [
       "96.0"
      ]
     },
     "execution_count": 85,
     "metadata": {},
     "output_type": "execute_result"
    }
   ],
   "source": [
    "platinum = Uber('Volvo', 'V40', 'Bonitao', 180, 'Mexico',car, category='platinum', star_rating=5)\n",
    "platinum.get_price(80,30.5)"
   ]
  },
  {
   "cell_type": "code",
   "execution_count": 86,
   "metadata": {},
   "outputs": [
    {
     "data": {
      "text/plain": [
       "\n",
       "                   _\n",
       " _________________| \\_\n",
       "|   ___    |  ,|   ___`-.\n",
       "|  /   \\   |___/  /   \\  `-.\n",
       "|_| (O) |________| (O) |____|\n",
       "   \\___/          \\___/"
      ]
     },
     "execution_count": 86,
     "metadata": {},
     "output_type": "execute_result"
    }
   ],
   "source": [
    "platinum"
   ]
  }
 ],
 "metadata": {
  "colab": {
   "collapsed_sections": [],
   "name": "challenge-01.ipynb",
   "provenance": []
  },
  "kernelspec": {
   "display_name": "Python 3",
   "language": "python",
   "name": "python3"
  },
  "language_info": {
   "codemirror_mode": {
    "name": "ipython",
    "version": 3
   },
   "file_extension": ".py",
   "mimetype": "text/x-python",
   "name": "python",
   "nbconvert_exporter": "python",
   "pygments_lexer": "ipython3",
   "version": "3.8.3"
  },
  "toc": {
   "base_numbering": 1,
   "nav_menu": {},
   "number_sections": true,
   "sideBar": true,
   "skip_h1_title": false,
   "title_cell": "Table of Contents",
   "title_sidebar": "Contents",
   "toc_cell": false,
   "toc_position": {},
   "toc_section_display": true,
   "toc_window_display": false
  }
 },
 "nbformat": 4,
 "nbformat_minor": 1
}
