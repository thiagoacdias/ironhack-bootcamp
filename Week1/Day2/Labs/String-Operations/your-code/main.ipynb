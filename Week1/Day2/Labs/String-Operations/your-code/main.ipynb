{
 "cells": [
  {
   "cell_type": "markdown",
   "metadata": {
    "colab_type": "text",
    "id": "Smya68K_kUJz"
   },
   "source": [
    "# Before your start:\n",
    "- Read the README.md file\n",
    "- Comment as much as you can and use the resources in the README.md file\n",
    "- Happy learning!"
   ]
  },
  {
   "cell_type": "code",
   "execution_count": 2,
   "metadata": {
    "colab": {},
    "colab_type": "code",
    "id": "UmpfHHYjkUJ0"
   },
   "outputs": [],
   "source": [
    "import re"
   ]
  },
  {
   "cell_type": "markdown",
   "metadata": {
    "colab_type": "text",
    "id": "yLuALiyCkUJ3"
   },
   "source": [
    "# Challenge 1 - Combining Strings\n",
    "\n",
    "Combining strings is an important skill to acquire. There are multiple ways of combining strings in Python, as well as combining strings with variables. We will explore this in the first challenge. In the cell below, combine the strings in the list and add spaces between the strings (do not add a space after the last string). Insert a period after the last string."
   ]
  },
  {
   "cell_type": "code",
   "execution_count": 6,
   "metadata": {
    "colab": {},
    "colab_type": "code",
    "id": "n0LxSL1tkUJ4"
   },
   "outputs": [
    {
     "data": {
      "text/plain": [
       "'Durante un tiempo no estuvo segura de si su marido era su marido.'"
      ]
     },
     "execution_count": 6,
     "metadata": {},
     "output_type": "execute_result"
    }
   ],
   "source": [
    "str_list = ['Durante', 'un', 'tiempo', 'no', 'estuvo', 'segura', 'de', 'si', 'su', 'marido', 'era', 'su', 'marido']\n",
    "# Your code here:\n",
    "' '.join(str_list) + '.'\n"
   ]
  },
  {
   "cell_type": "markdown",
   "metadata": {
    "colab_type": "text",
    "id": "jjnjuDhbkUJ6"
   },
   "source": [
    "In the cell below, use the list of strings to create a grocery list. Start the list with the string `Grocery list: ` and include a comma and a space between each item except for the last one. Include a period at the end. Only include foods in the list that start with the letter 'b' and ensure all foods are lower case."
   ]
  },
  {
   "cell_type": "code",
   "execution_count": 21,
   "metadata": {
    "colab": {},
    "colab_type": "code",
    "id": "D9EWG-9YkUJ6"
   },
   "outputs": [
    {
     "data": {
      "text/plain": [
       "'Grocery list: bread, broccoli.'"
      ]
     },
     "execution_count": 21,
     "metadata": {},
     "output_type": "execute_result"
    }
   ],
   "source": [
    "food_list = ['Bananas', 'Chocolate', 'bread', 'diapers', 'Ice Cream', 'Brownie Mix', 'broccoli']\n",
    "# Your code here:\n",
    "food_adjusted = []\n",
    "\n",
    "for food in food_list:\n",
    "    food_adjusted.append(food) if food.startswith('b') else False\n",
    "\n",
    "#print(food_adjusted)\n",
    "\"Grocery list: \" + ', '.join(food_adjusted) + '.'\n",
    "\n"
   ]
  },
  {
   "cell_type": "markdown",
   "metadata": {
    "colab_type": "text",
    "id": "r-7puDW_kUJ8"
   },
   "source": [
    "In the cell below, write a function that computes the area of a circle using its radius. Compute the area of the circle and insert the radius and the area between the two strings. Make sure to include spaces between the variable and the strings. \n",
    "\n",
    "Note: You can use the techniques we have learned so far or use f-strings. F-strings allow us to embed code inside strings. You can read more about f-strings [here](https://www.python.org/dev/peps/pep-0498/)."
   ]
  },
  {
   "cell_type": "code",
   "execution_count": 156,
   "metadata": {
    "colab": {},
    "colab_type": "code",
    "id": "dEpQOL59kUJ9"
   },
   "outputs": [
    {
     "name": "stdout",
     "output_type": "stream",
     "text": [
      "The area of the circle with radius: 5 is: 78.53981633974483\n"
     ]
    }
   ],
   "source": [
    "string1 = \"The area of the circle with radius:\"\n",
    "string2  = \"is:\"\n",
    "radius = 5\n",
    "\n",
    "import numpy as np\n",
    "\n",
    "def area(x):\n",
    "    \"\"\"\n",
    "    This function takes a radius and returns the area of a circle. \n",
    "    \n",
    "    Input: Float\n",
    "    Output: Float\n",
    "    \n",
    "    Sample input: 5.0\n",
    "    Sample Output: 78.53981633\n",
    "    \"\"\"\n",
    "    pi = 3.1415\n",
    "    \n",
    "    # Your code here:\n",
    "    return x**2 * np.pi\n",
    "    \n",
    "# Your output string here:\n",
    "\n",
    "print((string1 + ' ' + str(radius) + ' ' + string2 + ' ' + str(area(radius))))"
   ]
  },
  {
   "cell_type": "markdown",
   "metadata": {
    "colab_type": "text",
    "id": "5wUx1N0gkUJ_"
   },
   "source": [
    "# Challenge 2 - Splitting Strings\n",
    "\n",
    "We have first looked at combining strings into one long string. There are times where we need to do the opposite and split the string into smaller components for further analysis. \n",
    "\n",
    "In the cell below, split the string into a list of strings using the space delimiter. Count the frequency of each word in the string in a dictionary. Strip the periods, line breaks and commas from the text. Make sure to remove empty strings from your dictionary."
   ]
  },
  {
   "cell_type": "code",
   "execution_count": 51,
   "metadata": {
    "colab": {},
    "colab_type": "code",
    "id": "5kCqHBEUkUKA"
   },
   "outputs": [
    {
     "data": {
      "text/plain": [
       "{'hate': 1,\n",
       " 'suffice': 1,\n",
       " 'destruction': 1,\n",
       " 'fire': 2,\n",
       " 'I’ve': 1,\n",
       " 'end': 1,\n",
       " 'desire': 1,\n",
       " 'perish': 1,\n",
       " 'with': 1,\n",
       " 'enough': 1,\n",
       " 'it': 2,\n",
       " 'would': 1,\n",
       " 'Some': 2,\n",
       " 'hold': 1,\n",
       " 'But': 1,\n",
       " 'Is': 1,\n",
       " 'will': 1,\n",
       " 'of': 2,\n",
       " 'From': 1,\n",
       " 'in': 3,\n",
       " 'also': 1,\n",
       " 'those': 1,\n",
       " 'ice': 4,\n",
       " 'tasted': 1,\n",
       " 'world': 1,\n",
       " 'great': 1,\n",
       " 'favor': 1,\n",
       " 'if': 1,\n",
       " 'had': 1,\n",
       " 'to': 1,\n",
       " 'that': 1,\n",
       " 'what': 1,\n",
       " 'who': 1,\n",
       " 'And': 1,\n",
       " 'know': 1,\n",
       " 'the': 1,\n",
       " 'I': 5,\n",
       " 'for': 1,\n",
       " 'To': 1,\n",
       " 'think': 1,\n",
       " 'twice': 1,\n",
       " 'say': 3}"
      ]
     },
     "execution_count": 51,
     "metadata": {},
     "output_type": "execute_result"
    }
   ],
   "source": [
    "poem = \"\"\"Some say the world will end in fire,\n",
    "Some say in ice.\n",
    "From what I’ve tasted of desire\n",
    "I hold with those who favor fire.\n",
    "But if it had to perish twice,\n",
    "I think I know enough of hate\n",
    "To say that for destruction ice\n",
    "Is also great\n",
    "And would suffice.\"\"\"\n",
    "\n",
    "# Your code here:\n",
    "\n",
    "adj_poem = re.sub('[\\n\\.\\,]',' ', poem).strip()\n",
    "\n",
    "list_poem = adj_poem.split(sep=' ')\n",
    "freq_counter = dict()\n",
    "set_poem = set(list_poem)\n",
    "\n",
    "for each_word in set_poem:\n",
    "    freq_counter.update({each_word:adj_poem.count(each_word)}) if not each_word == \"\" else False\n",
    "\n",
    "freq_counter\n",
    "\n"
   ]
  },
  {
   "cell_type": "markdown",
   "metadata": {
    "colab_type": "text",
    "id": "84q3YtTEkUKC"
   },
   "source": [
    "In the cell below, find all the words that appear in the text and do not appear in the blacklist. You must parse the string but can choose any data structure you wish for the words that do not appear in the blacklist. Remove all non letter characters and convert all words to lower case."
   ]
  },
  {
   "cell_type": "code",
   "execution_count": 72,
   "metadata": {
    "colab": {},
    "colab_type": "code",
    "id": "Xx0iP3skkUKE"
   },
   "outputs": [
    {
     "data": {
      "text/plain": [
       "{'angry',\n",
       " 'apple',\n",
       " 'beheld',\n",
       " 'beneath',\n",
       " 'bore',\n",
       " 'both',\n",
       " 'bright',\n",
       " 'day',\n",
       " 'deceitful',\n",
       " 'did',\n",
       " 'end',\n",
       " 'fears',\n",
       " 'foe',\n",
       " 'friend',\n",
       " 'garden',\n",
       " 'glad',\n",
       " 'grew',\n",
       " 'grow',\n",
       " 'had',\n",
       " 'he',\n",
       " 'i',\n",
       " 'into',\n",
       " 'knew',\n",
       " 'mine',\n",
       " 'morning',\n",
       " 'my',\n",
       " 'night',\n",
       " 'not',\n",
       " 'outstretched',\n",
       " 'pole',\n",
       " 'see',\n",
       " 'shine',\n",
       " 'smiles',\n",
       " 'soft',\n",
       " 'stole',\n",
       " 'sunned',\n",
       " 'tears',\n",
       " 'that',\n",
       " 'till',\n",
       " 'told',\n",
       " 'tree',\n",
       " 'veild',\n",
       " 'was',\n",
       " 'waterd',\n",
       " 'when',\n",
       " 'wiles',\n",
       " 'with',\n",
       " 'wrath'}"
      ]
     },
     "execution_count": 72,
     "metadata": {},
     "output_type": "execute_result"
    }
   ],
   "source": [
    "blacklist = ['and', 'as', 'an', 'a', 'the', 'in', 'it']\n",
    "\n",
    "poem = \"\"\"I was angry with my friend; \n",
    "I told my wrath, my wrath did end.\n",
    "I was angry with my foe: \n",
    "I told it not, my wrath did grow. \n",
    "\n",
    "And I waterd it in fears,\n",
    "Night & morning with my tears: \n",
    "And I sunned it with smiles,\n",
    "And with soft deceitful wiles. \n",
    "\n",
    "And it grew both day and night. \n",
    "Till it bore an apple bright. \n",
    "And my foe beheld it shine,\n",
    "And he knew that it was mine. \n",
    "\n",
    "And into my garden stole, \n",
    "When the night had veild the pole; \n",
    "In the morning glad I see; \n",
    "My foe outstretched beneath the tree.\"\"\"\n",
    "\n",
    "# Your code here:\n",
    "\n",
    "adj_new_poem = set(re.sub('[^A-Za-z]',' ', poem).lower().split())\n",
    "adj_new_poem - set(blacklist) \n"
   ]
  },
  {
   "cell_type": "markdown",
   "metadata": {
    "colab_type": "text",
    "id": "LKji8o7ayAba"
   },
   "source": [
    "# Regex\n",
    "\n",
    "Obtain a list containing all phone numbers in the text below:\n",
    "\n",
    "Note: there should be 5 of them.\n"
   ]
  },
  {
   "cell_type": "code",
   "execution_count": 80,
   "metadata": {
    "colab": {},
    "colab_type": "code",
    "id": "wM4v-225yBNP"
   },
   "outputs": [
    {
     "data": {
      "text/plain": [
       "['9789-0984', '4222-0901', '4312-5701', '8993-1031']"
      ]
     },
     "execution_count": 80,
     "metadata": {},
     "output_type": "execute_result"
    }
   ],
   "source": [
    "text = \"\"\"\n",
    "Henry's phone number is 9789-0984\n",
    "Darlene's phone number is 4222-0901\n",
    "Andrew's phone number is 4312-5701\n",
    "James' phone number is 9413 1383\n",
    "Erica's phone number is 8993-1031\n",
    "\"\"\"\n",
    "\n",
    "# Your code here\n",
    "list(re.findall('\\d\\d\\d\\d-\\d\\d\\d\\d', text))"
   ]
  },
  {
   "cell_type": "markdown",
   "metadata": {
    "colab_type": "text",
    "id": "N7UZNc5lxSzZ"
   },
   "source": [
    "\n",
    "In the cell below, filter the list provided and return all elements of the list containing a number. To filter the list, use the re.search function. Check if the function does not return None. You can read more about the re.search function here."
   ]
  },
  {
   "cell_type": "code",
   "execution_count": 87,
   "metadata": {
    "colab": {},
    "colab_type": "code",
    "id": "EzUBZKGqxX-A"
   },
   "outputs": [
    {
     "data": {
      "text/plain": [
       "['123abc', 'abc123', 'JohnSmith1', 'ABBY4']"
      ]
     },
     "execution_count": 87,
     "metadata": {},
     "output_type": "execute_result"
    }
   ],
   "source": [
    "data = ['123abc', 'abc123', 'JohnSmith1', 'ABBY4', 'JANE']\n",
    "adj_data = list()\n",
    "# Your code here:\n",
    "\n",
    "for each_word in data:\n",
    "    if re.search('[0-9]', each_word) != None:\n",
    "        adj_data.append(each_word)\n",
    "\n",
    "adj_data"
   ]
  },
  {
   "cell_type": "markdown",
   "metadata": {
    "colab_type": "text",
    "id": "A2T86JzMwoLT"
   },
   "source": [
    "# Bonus Challenge - Regular Expressions \n",
    "\n",
    "In the cell below, filter the list provided to keep only strings containing at least one digit and at least one lower case letter. As in the previous question, use the `re.search` function and check that the result is not `None`.\n",
    "\n",
    "To read more about regular expressions, check out [this link](https://developers.google.com/edu/python/regular-expressions)."
   ]
  },
  {
   "cell_type": "code",
   "execution_count": 95,
   "metadata": {
    "colab": {},
    "colab_type": "code",
    "id": "rcVk3Gabwomy"
   },
   "outputs": [
    {
     "data": {
      "text/plain": [
       "['123abc', 'abc123', 'JohnSmith1']"
      ]
     },
     "execution_count": 95,
     "metadata": {},
     "output_type": "execute_result"
    }
   ],
   "source": [
    "data = ['123abc', 'abc123', 'JohnSmith1', 'ABBY4', 'JANE']\n",
    "# Your code here:\n",
    "\n",
    "adj_data = list()\n",
    "\n",
    "for each_word in data:\n",
    "    adj_data.append(each_word) if re.search('(?=.*\\d)(?=.*[a-z])', each_word) != None else False #roubei o codigo regex da internet\n",
    "                    \n",
    "adj_data"
   ]
  },
  {
   "cell_type": "markdown",
   "metadata": {
    "colab_type": "text",
    "id": "RTzGOO_Hxj5C"
   },
   "source": [
    "# Bonus for Nerds\n",
    "Given a list of reviews, a list of keywords and an integer k. Find the most popular k keywords in order of most to least frequently mentioned.\n",
    "\n",
    "The comparison of strings is case-insensitive. Multiple occurances of a keyword in a review should be considred as a single mention.\n",
    "\n",
    "Example Input:"
   ]
  },
  {
   "cell_type": "markdown",
   "metadata": {
    "colab_type": "text",
    "id": "Q_gsUz83xpGj"
   },
   "source": [
    "```python\n",
    "k = 2\n",
    "keywords = [\"anacell\", \"cetracular\", \"betacellular\"]\n",
    "reviews = [\n",
    "  \"Anacell provides the best services in the city whereas betacellular is the best of the world\",\n",
    "  \"cetracular has awesome services, cetracular is good, cetracular is awesome!\",\n",
    "  \"Best services provided by anacell, everyone should use anacell\",\n",
    "  \"Wow, betacellular services are good.\",\n",
    "]\n",
    "\n",
    "Expected Output:\n",
    "\n",
    "[\"anacell\", \"betacellular\"]\n",
    "\n",
    "# Explanation:\n",
    "# \"anacell\" and \"betacellular\" are occuring in 2 different reviews and \"cetracular\" is only occuring in 1 review, despite having so many repetitions.\n",
    "# The order doesnt matter for now\n",
    "\n",
    "```"
   ]
  },
  {
   "cell_type": "code",
   "execution_count": 149,
   "metadata": {
    "colab": {},
    "colab_type": "code",
    "id": "wn2ai6_6xl0P"
   },
   "outputs": [],
   "source": [
    "k = 2\n",
    "keywords = [\"anacell\", \"cetracular\", \"betacellular\"]\n",
    "reviews = [\n",
    "  \"Anacell provides the best services in the city whereas betacellular is the best of the world\",\n",
    "  \"cetracular has awesome services, cetracular is good, cetracular is awesome!\",\n",
    "  \"Best services provided by anacell, everyone should use anacell\",\n",
    "  \"Wow, betacellular services are good.\",\n",
    "]\n",
    "\n",
    "def most_popular(reviews, keywords, k):\n",
    "    dict_popular = dict()\n",
    "    \n",
    "    for review in reviews:\n",
    "        for keyword in keywords:\n",
    "            if re.search(keyword, review.lower()) != None:\n",
    "                if keyword in dict_popular:\n",
    "                    dict_popular.update({keyword:dict_popular[keyword]+1})\n",
    "                else: dict_popular.update({keyword:1})\n",
    "        \n",
    "    max_values = set(dict_popular.values())\n",
    "\n",
    "    #print(dict_popular)\n",
    "    output_list = list()\n",
    "\n",
    "    while k > 0:\n",
    "        max_ocurrence = max(max_values)\n",
    "        for key_word in dict_popular:\n",
    "            output_list.append(key_word) if dict_popular[key_word] == max_ocurrence else False\n",
    "            k += -1\n",
    "        max_values.remove(max_ocurrence)\n",
    "    return output_list\n"
   ]
  },
  {
   "cell_type": "code",
   "execution_count": 148,
   "metadata": {},
   "outputs": [
    {
     "name": "stdout",
     "output_type": "stream",
     "text": [
      "{'anacell': 2, 'betacellular': 2, 'cetracular': 1}\n"
     ]
    },
    {
     "data": {
      "text/plain": [
       "['anacell', 'betacellular']"
      ]
     },
     "execution_count": 148,
     "metadata": {},
     "output_type": "execute_result"
    }
   ],
   "source": [
    "most_popular(reviews, keywords, k)"
   ]
  }
 ],
 "metadata": {
  "colab": {
   "collapsed_sections": [],
   "name": "main.ipynb",
   "provenance": []
  },
  "kernelspec": {
   "display_name": "Python 3",
   "language": "python",
   "name": "python3"
  },
  "language_info": {
   "codemirror_mode": {
    "name": "ipython",
    "version": 3
   },
   "file_extension": ".py",
   "mimetype": "text/x-python",
   "name": "python",
   "nbconvert_exporter": "python",
   "pygments_lexer": "ipython3",
   "version": "3.8.3"
  },
  "toc": {
   "base_numbering": 1,
   "nav_menu": {},
   "number_sections": true,
   "sideBar": true,
   "skip_h1_title": false,
   "title_cell": "Table of Contents",
   "title_sidebar": "Contents",
   "toc_cell": false,
   "toc_position": {},
   "toc_section_display": true,
   "toc_window_display": false
  },
  "varInspector": {
   "cols": {
    "lenName": 16,
    "lenType": 16,
    "lenVar": 40
   },
   "kernels_config": {
    "python": {
     "delete_cmd_postfix": "",
     "delete_cmd_prefix": "del ",
     "library": "var_list.py",
     "varRefreshCmd": "print(var_dic_list())"
    },
    "r": {
     "delete_cmd_postfix": ") ",
     "delete_cmd_prefix": "rm(",
     "library": "var_list.r",
     "varRefreshCmd": "cat(var_dic_list()) "
    }
   },
   "types_to_exclude": [
    "module",
    "function",
    "builtin_function_or_method",
    "instance",
    "_Feature"
   ],
   "window_display": false
  }
 },
 "nbformat": 4,
 "nbformat_minor": 1
}
