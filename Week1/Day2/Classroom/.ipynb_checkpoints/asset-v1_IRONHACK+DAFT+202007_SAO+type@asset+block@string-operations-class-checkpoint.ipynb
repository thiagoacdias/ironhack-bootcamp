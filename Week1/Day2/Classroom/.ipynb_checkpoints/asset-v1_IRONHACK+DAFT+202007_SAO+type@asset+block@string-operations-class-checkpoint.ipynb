{
 "cells": [
  {
   "cell_type": "markdown",
   "metadata": {},
   "source": [
    "# Strings in Python"
   ]
  },
  {
   "cell_type": "code",
   "execution_count": 1,
   "metadata": {
    "ExecuteTime": {
     "end_time": "2020-07-14T23:59:58.349449Z",
     "start_time": "2020-07-14T23:59:58.345459Z"
    }
   },
   "outputs": [
    {
     "data": {
      "text/plain": [
       "str"
      ]
     },
     "execution_count": 1,
     "metadata": {},
     "output_type": "execute_result"
    }
   ],
   "source": [
    "type('Hello')"
   ]
  },
  {
   "cell_type": "code",
   "execution_count": 2,
   "metadata": {
    "ExecuteTime": {
     "end_time": "2020-07-14T23:59:58.831738Z",
     "start_time": "2020-07-14T23:59:58.827748Z"
    }
   },
   "outputs": [
    {
     "data": {
      "text/plain": [
       "str"
      ]
     },
     "execution_count": 2,
     "metadata": {},
     "output_type": "execute_result"
    }
   ],
   "source": [
    "type(\"Hello\")"
   ]
  },
  {
   "cell_type": "markdown",
   "metadata": {},
   "source": [
    "## String concatenation\n",
    "\n",
    "- `+` operator"
   ]
  },
  {
   "cell_type": "code",
   "execution_count": 3,
   "metadata": {
    "ExecuteTime": {
     "end_time": "2020-07-15T00:01:10.256082Z",
     "start_time": "2020-07-15T00:01:10.252092Z"
    }
   },
   "outputs": [
    {
     "data": {
      "text/plain": [
       "'Hello_World'"
      ]
     },
     "execution_count": 3,
     "metadata": {},
     "output_type": "execute_result"
    }
   ],
   "source": [
    "'Hello' + '_' + \"World\""
   ]
  },
  {
   "cell_type": "code",
   "execution_count": null,
   "metadata": {
    "ExecuteTime": {
     "end_time": "2020-07-15T00:01:37.718462Z",
     "start_time": "2020-07-15T00:01:37.715469Z"
    }
   },
   "outputs": [],
   "source": [
    "x = 'Hello'\n",
    "\n",
    "y = \"World\""
   ]
  },
  {
   "cell_type": "code",
   "execution_count": null,
   "metadata": {
    "ExecuteTime": {
     "end_time": "2020-07-15T00:01:39.682197Z",
     "start_time": "2020-07-15T00:01:39.678206Z"
    }
   },
   "outputs": [],
   "source": [
    "x + y"
   ]
  },
  {
   "cell_type": "code",
   "execution_count": null,
   "metadata": {
    "ExecuteTime": {
     "end_time": "2020-07-15T00:02:18.878171Z",
     "start_time": "2020-07-15T00:02:18.875179Z"
    }
   },
   "outputs": [],
   "source": [
    "z = 1"
   ]
  },
  {
   "cell_type": "code",
   "execution_count": null,
   "metadata": {
    "ExecuteTime": {
     "end_time": "2020-07-15T00:02:26.501666Z",
     "start_time": "2020-07-15T00:02:26.498674Z"
    }
   },
   "outputs": [],
   "source": [
    "z += 1\n",
    "# z = z + 1"
   ]
  },
  {
   "cell_type": "code",
   "execution_count": null,
   "metadata": {
    "ExecuteTime": {
     "end_time": "2020-07-15T00:02:28.322966Z",
     "start_time": "2020-07-15T00:02:28.318977Z"
    }
   },
   "outputs": [],
   "source": [
    "z"
   ]
  },
  {
   "cell_type": "code",
   "execution_count": null,
   "metadata": {
    "ExecuteTime": {
     "end_time": "2020-07-15T00:03:18.858104Z",
     "start_time": "2020-07-15T00:03:18.855141Z"
    }
   },
   "outputs": [],
   "source": [
    "x += 'World'"
   ]
  },
  {
   "cell_type": "code",
   "execution_count": null,
   "metadata": {
    "ExecuteTime": {
     "end_time": "2020-07-15T00:03:30.384342Z",
     "start_time": "2020-07-15T00:03:30.380352Z"
    }
   },
   "outputs": [],
   "source": [
    "x"
   ]
  },
  {
   "cell_type": "code",
   "execution_count": null,
   "metadata": {
    "ExecuteTime": {
     "end_time": "2020-06-02T18:48:54.179142Z",
     "start_time": "2020-06-02T18:48:54.175153Z"
    }
   },
   "outputs": [],
   "source": [
    "x = 'Hello'\n",
    "x += 'World'\n",
    "# x = x + 'World'\n",
    "x"
   ]
  },
  {
   "cell_type": "markdown",
   "metadata": {},
   "source": [
    "Step by step execution of the cell above:\n",
    "\n",
    "```python \n",
    "1. x <- 'Hello' # Hello is assigned to x (x is now an alias to the string 'Hello'\n",
    "\n",
    "2. x += 'World' # The x += syntax expands to x = x +\n",
    "\n",
    "3. x = x + 'World' # The right `x` expands to its alias 'Hello'\n",
    "\n",
    "4. x = 'Hello' + 'World' # The two strings are concatenated\n",
    "\n",
    "5. x <- 'HelloWorld' # 'HelloWorld' is assigned to x (overwriting its previous value)\n",
    "```"
   ]
  },
  {
   "cell_type": "code",
   "execution_count": null,
   "metadata": {
    "ExecuteTime": {
     "end_time": "2020-07-15T00:06:01.643303Z",
     "start_time": "2020-07-15T00:06:01.640311Z"
    }
   },
   "outputs": [],
   "source": [
    "\"Hello\""
   ]
  },
  {
   "cell_type": "code",
   "execution_count": null,
   "metadata": {
    "ExecuteTime": {
     "end_time": "2020-07-15T00:06:25.264232Z",
     "start_time": "2020-07-15T00:06:25.259245Z"
    }
   },
   "outputs": [],
   "source": [
    "print('Hello')"
   ]
  },
  {
   "cell_type": "markdown",
   "metadata": {},
   "source": [
    "## Multiline strings"
   ]
  },
  {
   "cell_type": "code",
   "execution_count": null,
   "metadata": {
    "ExecuteTime": {
     "end_time": "2020-07-15T00:15:09.273615Z",
     "start_time": "2020-07-15T00:15:09.269625Z"
    }
   },
   "outputs": [],
   "source": [
    "'''Andre Ribeiro de \n",
    "Barros Aguiar'''"
   ]
  },
  {
   "cell_type": "code",
   "execution_count": null,
   "metadata": {
    "ExecuteTime": {
     "end_time": "2020-07-15T00:15:21.277707Z",
     "start_time": "2020-07-15T00:15:21.274716Z"
    }
   },
   "outputs": [],
   "source": [
    "print('''Andre Ribeiro de \n",
    "Barros Aguiar''')"
   ]
  },
  {
   "cell_type": "code",
   "execution_count": null,
   "metadata": {
    "ExecuteTime": {
     "end_time": "2020-07-15T00:15:36.395270Z",
     "start_time": "2020-07-15T00:15:36.391281Z"
    }
   },
   "outputs": [],
   "source": [
    "\"\"\"Andre Ribeiro de \n",
    "Barros Aguiar\"\"\""
   ]
  },
  {
   "cell_type": "markdown",
   "metadata": {},
   "source": [
    "- `\\n` é a representação da quebra de linha (enter)\n",
    "- `\\t` é a representação do TAB"
   ]
  },
  {
   "cell_type": "markdown",
   "metadata": {},
   "source": [
    "# String multiplication"
   ]
  },
  {
   "cell_type": "code",
   "execution_count": null,
   "metadata": {
    "ExecuteTime": {
     "end_time": "2020-07-15T00:16:22.818291Z",
     "start_time": "2020-07-15T00:16:22.814301Z"
    }
   },
   "outputs": [],
   "source": [
    "x + x + x"
   ]
  },
  {
   "cell_type": "code",
   "execution_count": null,
   "metadata": {
    "ExecuteTime": {
     "end_time": "2020-07-15T00:16:36.093492Z",
     "start_time": "2020-07-15T00:16:36.089504Z"
    }
   },
   "outputs": [],
   "source": [
    "x * 3"
   ]
  },
  {
   "cell_type": "code",
   "execution_count": null,
   "metadata": {
    "ExecuteTime": {
     "end_time": "2020-07-15T00:18:58.595077Z",
     "start_time": "2020-07-15T00:18:58.591088Z"
    }
   },
   "outputs": [],
   "source": [
    "# curiosidade: listas tem o mesmo princípio de concatenação das strings\n",
    "['p3', 'unp3'] + ['p3', 'unp3']"
   ]
  },
  {
   "cell_type": "code",
   "execution_count": null,
   "metadata": {},
   "outputs": [],
   "source": [
    "['p3', 'unp3'] * 10"
   ]
  },
  {
   "cell_type": "code",
   "execution_count": null,
   "metadata": {
    "ExecuteTime": {
     "end_time": "2020-07-15T00:21:41.864648Z",
     "start_time": "2020-07-15T00:21:41.859661Z"
    }
   },
   "outputs": [],
   "source": [
    "(['p3', 'unp3'] * 10)[4:]"
   ]
  },
  {
   "cell_type": "markdown",
   "metadata": {},
   "source": [
    "------"
   ]
  },
  {
   "cell_type": "markdown",
   "metadata": {},
   "source": [
    "# `Joining` a <u>list of strings</u> into a `single string`"
   ]
  },
  {
   "cell_type": "code",
   "execution_count": null,
   "metadata": {
    "ExecuteTime": {
     "end_time": "2020-07-15T00:24:09.806405Z",
     "start_time": "2020-07-15T00:24:09.801419Z"
    },
    "scrolled": true
   },
   "outputs": [],
   "source": [
    "meu_nome = ['Andre','Ribeiro','de', 'Barros','Aguiar']\n",
    "meu_nome"
   ]
  },
  {
   "cell_type": "code",
   "execution_count": null,
   "metadata": {
    "ExecuteTime": {
     "end_time": "2020-07-15T00:24:43.323351Z",
     "start_time": "2020-07-15T00:24:43.320382Z"
    }
   },
   "outputs": [],
   "source": [
    "# meu_nome[0] + ' ' + meu_nome[1] + ..."
   ]
  },
  {
   "cell_type": "code",
   "execution_count": null,
   "metadata": {
    "ExecuteTime": {
     "end_time": "2020-07-15T00:25:17.726579Z",
     "start_time": "2020-07-15T00:25:17.723559Z"
    }
   },
   "outputs": [],
   "source": [
    "espaco = ' '"
   ]
  },
  {
   "cell_type": "code",
   "execution_count": null,
   "metadata": {},
   "outputs": [],
   "source": [
    "type(espaco)"
   ]
  },
  {
   "cell_type": "code",
   "execution_count": null,
   "metadata": {},
   "outputs": [],
   "source": [
    "espaco."
   ]
  },
  {
   "cell_type": "code",
   "execution_count": null,
   "metadata": {
    "ExecuteTime": {
     "end_time": "2020-07-15T00:26:41.939469Z",
     "start_time": "2020-07-15T00:26:41.933485Z"
    }
   },
   "outputs": [],
   "source": [
    "espaco.join(meu_nome)"
   ]
  },
  {
   "cell_type": "code",
   "execution_count": null,
   "metadata": {
    "ExecuteTime": {
     "end_time": "2020-07-15T00:27:13.482058Z",
     "start_time": "2020-07-15T00:27:13.478067Z"
    }
   },
   "outputs": [],
   "source": [
    "' '.join(meu_nome)"
   ]
  },
  {
   "cell_type": "code",
   "execution_count": null,
   "metadata": {
    "ExecuteTime": {
     "end_time": "2020-07-15T00:27:42.282585Z",
     "start_time": "2020-07-15T00:27:42.279566Z"
    }
   },
   "outputs": [],
   "source": [
    "'-'.join(meu_nome)"
   ]
  },
  {
   "cell_type": "code",
   "execution_count": null,
   "metadata": {
    "ExecuteTime": {
     "end_time": "2020-07-15T00:29:13.002383Z",
     "start_time": "2020-07-15T00:29:12.998395Z"
    }
   },
   "outputs": [],
   "source": [
    "'*****'.join(meu_nome)"
   ]
  },
  {
   "cell_type": "code",
   "execution_count": null,
   "metadata": {
    "ExecuteTime": {
     "end_time": "2020-07-15T00:29:32.552897Z",
     "start_time": "2020-07-15T00:29:32.547910Z"
    }
   },
   "outputs": [],
   "source": [
    "'->'.join(['Andre','Ribeiro','de', 'Barros','Aguiar'])"
   ]
  },
  {
   "cell_type": "code",
   "execution_count": null,
   "metadata": {
    "ExecuteTime": {
     "end_time": "2020-07-15T00:30:13.652436Z",
     "start_time": "2020-07-15T00:30:13.648477Z"
    }
   },
   "outputs": [],
   "source": [
    "x = 'Happy'\n",
    "y = 'Puppies'\n",
    "\n",
    "'-'.join([x, y])"
   ]
  },
  {
   "cell_type": "markdown",
   "metadata": {},
   "source": [
    "# Special characters\n",
    "\n",
    "- the `newline` character representation: `\\n`\n",
    "- the `tab` character representation: `\\t`"
   ]
  },
  {
   "cell_type": "code",
   "execution_count": null,
   "metadata": {
    "ExecuteTime": {
     "end_time": "2020-07-15T00:30:27.325772Z",
     "start_time": "2020-07-15T00:30:27.322780Z"
    }
   },
   "outputs": [],
   "source": [
    "print('\\n'* 3)"
   ]
  },
  {
   "cell_type": "code",
   "execution_count": null,
   "metadata": {},
   "outputs": [],
   "source": [
    "print('\\t' * 5 + 'Andre')"
   ]
  },
  {
   "cell_type": "markdown",
   "metadata": {},
   "source": [
    "# Practical example"
   ]
  },
  {
   "cell_type": "code",
   "execution_count": null,
   "metadata": {
    "ExecuteTime": {
     "end_time": "2020-07-15T00:32:04.325145Z",
     "start_time": "2020-07-15T00:32:04.322152Z"
    }
   },
   "outputs": [],
   "source": [
    "queries = []\n",
    "\n",
    "tables = ['table_A', 'table_B', 'table_C', \n",
    "          'table_D','table_E', 'table_F',\n",
    "          'table_G','table_H', 'table_I']"
   ]
  },
  {
   "cell_type": "code",
   "execution_count": null,
   "metadata": {
    "ExecuteTime": {
     "end_time": "2020-07-15T00:32:05.391210Z",
     "start_time": "2020-07-15T00:32:05.387222Z"
    }
   },
   "outputs": [],
   "source": [
    "tables"
   ]
  },
  {
   "cell_type": "code",
   "execution_count": null,
   "metadata": {},
   "outputs": [],
   "source": [
    "'''\n",
    "SELECT * FROM table_A\n",
    "UNION\n",
    "SELECT * FROM table_B\n",
    "UNION \n",
    "SELECT * FROM table_C ...\n",
    "'''"
   ]
  },
  {
   "cell_type": "code",
   "execution_count": null,
   "metadata": {
    "ExecuteTime": {
     "end_time": "2020-07-15T00:33:10.526974Z",
     "start_time": "2020-07-15T00:33:10.522984Z"
    }
   },
   "outputs": [],
   "source": [
    "for each_table in tables:\n",
    "    print(f'''SELECT * FROM {each_table}\\nUNION''')"
   ]
  },
  {
   "cell_type": "code",
   "execution_count": null,
   "metadata": {
    "ExecuteTime": {
     "end_time": "2020-07-15T00:34:11.778074Z",
     "start_time": "2020-07-15T00:34:11.773087Z"
    }
   },
   "outputs": [],
   "source": [
    "queries = []\n",
    "\n",
    "for each_table in tables:\n",
    "    queries.append(f'SELECT * FROM {each_table}')\n",
    "queries"
   ]
  },
  {
   "cell_type": "code",
   "execution_count": null,
   "metadata": {
    "ExecuteTime": {
     "end_time": "2020-07-15T00:35:11.933953Z",
     "start_time": "2020-07-15T00:35:11.930962Z"
    }
   },
   "outputs": [],
   "source": [
    "print('\\nUNION\\n'.join(queries))"
   ]
  },
  {
   "cell_type": "code",
   "execution_count": null,
   "metadata": {
    "ExecuteTime": {
     "end_time": "2020-07-15T00:35:56.821897Z",
     "start_time": "2020-07-15T00:35:56.818933Z"
    }
   },
   "outputs": [],
   "source": [
    "final_query = '\\nUNION\\n'.join(queries)\n",
    "print(final_query)"
   ]
  },
  {
   "cell_type": "markdown",
   "metadata": {},
   "source": [
    "# Measuring the size of strings"
   ]
  },
  {
   "cell_type": "code",
   "execution_count": null,
   "metadata": {
    "ExecuteTime": {
     "end_time": "2020-07-15T00:37:36.365424Z",
     "start_time": "2020-07-15T00:37:36.359440Z"
    }
   },
   "outputs": [],
   "source": [
    "len([1,2,3,4,5,98,1,3,54])"
   ]
  },
  {
   "cell_type": "code",
   "execution_count": null,
   "metadata": {
    "ExecuteTime": {
     "end_time": "2020-07-15T00:37:47.311614Z",
     "start_time": "2020-07-15T00:37:47.307624Z"
    }
   },
   "outputs": [],
   "source": [
    "# len of string\n",
    "len('Andre')"
   ]
  },
  {
   "cell_type": "code",
   "execution_count": null,
   "metadata": {
    "ExecuteTime": {
     "end_time": "2020-07-15T00:38:34.328377Z",
     "start_time": "2020-07-15T00:38:34.325357Z"
    }
   },
   "outputs": [],
   "source": [
    "len('''Andre \n",
    "''')"
   ]
  },
  {
   "cell_type": "code",
   "execution_count": null,
   "metadata": {
    "ExecuteTime": {
     "end_time": "2020-07-15T00:39:25.310209Z",
     "start_time": "2020-07-15T00:39:25.306220Z"
    }
   },
   "outputs": [],
   "source": [
    "# strings are also `iterables`\n",
    "\n",
    "for each_character in 'Andre Aguiar':\n",
    "    print(each_character)"
   ]
  },
  {
   "cell_type": "code",
   "execution_count": null,
   "metadata": {
    "ExecuteTime": {
     "end_time": "2020-07-15T00:39:51.393249Z",
     "start_time": "2020-07-15T00:39:51.389243Z"
    }
   },
   "outputs": [],
   "source": [
    "# if I convert a string to a list, I can see what they really are under the hood\n",
    "list('Andre Aguiar')"
   ]
  },
  {
   "cell_type": "code",
   "execution_count": null,
   "metadata": {
    "ExecuteTime": {
     "end_time": "2020-07-15T00:40:40.195278Z",
     "start_time": "2020-07-15T00:40:40.189273Z"
    }
   },
   "outputs": [],
   "source": [
    "5 in [1, 2, 3, 4, 4, 5, 7, 8, 9]"
   ]
  },
  {
   "cell_type": "code",
   "execution_count": null,
   "metadata": {
    "ExecuteTime": {
     "end_time": "2020-07-15T00:42:25.719908Z",
     "start_time": "2020-07-15T00:42:25.715919Z"
    }
   },
   "outputs": [],
   "source": [
    "'Andre' in 'Andre Ribeiro de Barros Aguiar'"
   ]
  },
  {
   "cell_type": "code",
   "execution_count": null,
   "metadata": {
    "ExecuteTime": {
     "end_time": "2020-07-15T00:41:49.435088Z",
     "start_time": "2020-07-15T00:41:49.430101Z"
    }
   },
   "outputs": [],
   "source": [
    "'Andre Aguiar' in 'Andre Ribeiro de Barros Aguiar'"
   ]
  },
  {
   "cell_type": "markdown",
   "metadata": {},
   "source": [
    "# Word slicing"
   ]
  },
  {
   "cell_type": "code",
   "execution_count": null,
   "metadata": {
    "ExecuteTime": {
     "end_time": "2020-07-15T01:07:36.515052Z",
     "start_time": "2020-07-15T01:07:36.511064Z"
    }
   },
   "outputs": [],
   "source": [
    "# slicings in lists\n",
    "x = [1,2,3,566,88,5,5,55576]\n",
    "x[4:]"
   ]
  },
  {
   "cell_type": "code",
   "execution_count": null,
   "metadata": {
    "ExecuteTime": {
     "end_time": "2020-07-15T01:08:04.657947Z",
     "start_time": "2020-07-15T01:08:04.654954Z"
    }
   },
   "outputs": [],
   "source": [
    "word = 'automobile'"
   ]
  },
  {
   "cell_type": "code",
   "execution_count": null,
   "metadata": {
    "ExecuteTime": {
     "end_time": "2020-07-15T01:08:10.426843Z",
     "start_time": "2020-07-15T01:08:10.423823Z"
    }
   },
   "outputs": [],
   "source": [
    "word[0]"
   ]
  },
  {
   "cell_type": "code",
   "execution_count": null,
   "metadata": {
    "ExecuteTime": {
     "end_time": "2020-07-15T01:08:17.971002Z",
     "start_time": "2020-07-15T01:08:17.967041Z"
    }
   },
   "outputs": [],
   "source": [
    "word[1]"
   ]
  },
  {
   "cell_type": "code",
   "execution_count": null,
   "metadata": {
    "ExecuteTime": {
     "end_time": "2020-07-15T01:08:23.067066Z",
     "start_time": "2020-07-15T01:08:23.063077Z"
    }
   },
   "outputs": [],
   "source": [
    "word[-1]"
   ]
  },
  {
   "cell_type": "code",
   "execution_count": null,
   "metadata": {
    "ExecuteTime": {
     "end_time": "2020-07-15T01:12:52.511476Z",
     "start_time": "2020-07-15T01:12:52.507460Z"
    }
   },
   "outputs": [],
   "source": [
    "# [0, 5) : 0,1,2,3,4\n",
    "word[:5]"
   ]
  },
  {
   "cell_type": "code",
   "execution_count": null,
   "metadata": {
    "ExecuteTime": {
     "end_time": "2020-07-15T01:13:05.507394Z",
     "start_time": "2020-07-15T01:13:05.503405Z"
    }
   },
   "outputs": [],
   "source": [
    "word[4:]"
   ]
  },
  {
   "cell_type": "markdown",
   "metadata": {},
   "source": [
    "# Splitting a string\n",
    "\n",
    "Convert a `string` into a `list`, using a `token` as a separator."
   ]
  },
  {
   "cell_type": "code",
   "execution_count": null,
   "metadata": {
    "ExecuteTime": {
     "end_time": "2020-07-15T01:16:59.641269Z",
     "start_time": "2020-07-15T01:16:59.638278Z"
    }
   },
   "outputs": [],
   "source": [
    "my_string = 'They ate the - mystery chicken meat. It tasted like          chicken'"
   ]
  },
  {
   "cell_type": "code",
   "execution_count": null,
   "metadata": {},
   "outputs": [],
   "source": [
    "my_string.split()"
   ]
  },
  {
   "cell_type": "code",
   "execution_count": null,
   "metadata": {
    "ExecuteTime": {
     "end_time": "2020-07-15T01:19:26.778747Z",
     "start_time": "2020-07-15T01:19:26.774784Z"
    }
   },
   "outputs": [],
   "source": [
    "# when sep=' ': DO NOT discard empty strings\n",
    "my_string.split(sep=' ')"
   ]
  },
  {
   "cell_type": "code",
   "execution_count": null,
   "metadata": {
    "ExecuteTime": {
     "end_time": "2020-07-15T01:19:58.220522Z",
     "start_time": "2020-07-15T01:19:58.216565Z"
    }
   },
   "outputs": [],
   "source": [
    "my_string.split('.')"
   ]
  },
  {
   "cell_type": "code",
   "execution_count": null,
   "metadata": {
    "ExecuteTime": {
     "end_time": "2020-07-15T01:20:16.785879Z",
     "start_time": "2020-07-15T01:20:16.781889Z"
    }
   },
   "outputs": [],
   "source": [
    "my_string.split(sep='-')"
   ]
  },
  {
   "cell_type": "markdown",
   "metadata": {},
   "source": [
    "# Startswith vs Endswith"
   ]
  },
  {
   "cell_type": "code",
   "execution_count": null,
   "metadata": {
    "ExecuteTime": {
     "end_time": "2020-07-15T01:30:19.164561Z",
     "start_time": "2020-07-15T01:30:19.161537Z"
    }
   },
   "outputs": [],
   "source": [
    "my_string = 'There is no business like show business.'"
   ]
  },
  {
   "cell_type": "code",
   "execution_count": null,
   "metadata": {
    "ExecuteTime": {
     "end_time": "2020-07-15T01:30:39.092202Z",
     "start_time": "2020-07-15T01:30:39.088187Z"
    }
   },
   "outputs": [],
   "source": [
    "my_string.startswith('There')"
   ]
  },
  {
   "cell_type": "code",
   "execution_count": null,
   "metadata": {
    "ExecuteTime": {
     "end_time": "2020-07-15T01:30:49.922923Z",
     "start_time": "2020-07-15T01:30:49.917937Z"
    }
   },
   "outputs": [],
   "source": [
    "my_string.endswith('s')"
   ]
  },
  {
   "cell_type": "code",
   "execution_count": null,
   "metadata": {
    "ExecuteTime": {
     "end_time": "2020-07-15T01:30:53.132068Z",
     "start_time": "2020-07-15T01:30:53.129076Z"
    }
   },
   "outputs": [],
   "source": [
    "my_string.endswith('.')"
   ]
  },
  {
   "cell_type": "code",
   "execution_count": null,
   "metadata": {
    "ExecuteTime": {
     "end_time": "2020-07-15T01:31:20.038629Z",
     "start_time": "2020-07-15T01:31:20.034666Z"
    }
   },
   "outputs": [],
   "source": [
    "my_string.startswith('T')"
   ]
  },
  {
   "cell_type": "code",
   "execution_count": null,
   "metadata": {},
   "outputs": [],
   "source": [
    "variables = ['qtd_casa','qtd_boleto','qtd_titulos','vlr_boleto','vlr_titulos','vlr_cartao']"
   ]
  },
  {
   "cell_type": "code",
   "execution_count": null,
   "metadata": {},
   "outputs": [],
   "source": [
    "# how to print only the ones that starts with 'qtd'?"
   ]
  },
  {
   "cell_type": "markdown",
   "metadata": {},
   "source": [
    "# More string methods. "
   ]
  },
  {
   "cell_type": "code",
   "execution_count": null,
   "metadata": {
    "ExecuteTime": {
     "end_time": "2020-07-15T01:32:52.189053Z",
     "start_time": "2020-07-15T01:32:52.186060Z"
    }
   },
   "outputs": [],
   "source": [
    "c = 'shE HaD a maRveLoUs aSsoRtmeNt of PUPPETS.'"
   ]
  },
  {
   "cell_type": "code",
   "execution_count": null,
   "metadata": {
    "ExecuteTime": {
     "end_time": "2020-07-15T01:33:00.388750Z",
     "start_time": "2020-07-15T01:33:00.384759Z"
    }
   },
   "outputs": [],
   "source": [
    "c.capitalize()"
   ]
  },
  {
   "cell_type": "code",
   "execution_count": null,
   "metadata": {
    "ExecuteTime": {
     "end_time": "2020-07-15T01:33:32.707465Z",
     "start_time": "2020-07-15T01:33:32.703476Z"
    }
   },
   "outputs": [],
   "source": [
    "c.lower()"
   ]
  },
  {
   "cell_type": "code",
   "execution_count": null,
   "metadata": {
    "ExecuteTime": {
     "end_time": "2020-07-15T01:33:38.155808Z",
     "start_time": "2020-07-15T01:33:38.150827Z"
    }
   },
   "outputs": [],
   "source": [
    "c.upper()"
   ]
  },
  {
   "cell_type": "code",
   "execution_count": null,
   "metadata": {
    "ExecuteTime": {
     "end_time": "2020-06-02T19:40:21.360154Z",
     "start_time": "2020-06-02T19:40:21.356166Z"
    }
   },
   "outputs": [],
   "source": [
    "c.title()"
   ]
  },
  {
   "cell_type": "markdown",
   "metadata": {},
   "source": [
    "# Strip"
   ]
  },
  {
   "cell_type": "code",
   "execution_count": null,
   "metadata": {
    "ExecuteTime": {
     "end_time": "2020-07-15T01:37:10.841905Z",
     "start_time": "2020-07-15T01:37:10.838910Z"
    }
   },
   "outputs": [],
   "source": [
    "d = ' I have a tendency to leave trailing spaces.     '"
   ]
  },
  {
   "cell_type": "code",
   "execution_count": null,
   "metadata": {
    "ExecuteTime": {
     "end_time": "2020-07-15T01:37:11.634923Z",
     "start_time": "2020-07-15T01:37:11.630933Z"
    }
   },
   "outputs": [],
   "source": [
    "# strip default, lstrip and rstrip\n",
    "\n",
    "d.strip()"
   ]
  },
  {
   "cell_type": "code",
   "execution_count": null,
   "metadata": {
    "ExecuteTime": {
     "end_time": "2020-07-15T01:37:30.166497Z",
     "start_time": "2020-07-15T01:37:30.162507Z"
    }
   },
   "outputs": [],
   "source": [
    "d.lstrip()"
   ]
  },
  {
   "cell_type": "code",
   "execution_count": null,
   "metadata": {
    "ExecuteTime": {
     "end_time": "2020-07-15T01:37:42.653939Z",
     "start_time": "2020-07-15T01:37:42.649950Z"
    }
   },
   "outputs": [],
   "source": [
    "d.rstrip()"
   ]
  },
  {
   "cell_type": "markdown",
   "metadata": {},
   "source": [
    "# Replacing values"
   ]
  },
  {
   "cell_type": "code",
   "execution_count": null,
   "metadata": {
    "ExecuteTime": {
     "end_time": "2020-07-15T01:39:01.002185Z",
     "start_time": "2020-07-15T01:39:00.998220Z"
    }
   },
   "outputs": [],
   "source": [
    "e = 'I thought the movie was wonderful wonderful Wonderful!'\n",
    "\n",
    "e"
   ]
  },
  {
   "cell_type": "code",
   "execution_count": null,
   "metadata": {
    "ExecuteTime": {
     "end_time": "2020-07-15T01:38:11.140190Z",
     "start_time": "2020-07-15T01:38:11.136233Z"
    }
   },
   "outputs": [],
   "source": [
    "e.replace('movie', 'film')"
   ]
  },
  {
   "cell_type": "code",
   "execution_count": null,
   "metadata": {
    "ExecuteTime": {
     "end_time": "2020-07-15T01:39:05.006073Z",
     "start_time": "2020-07-15T01:39:05.002057Z"
    }
   },
   "outputs": [],
   "source": [
    "e.replace('wonderful','awful')"
   ]
  },
  {
   "cell_type": "code",
   "execution_count": null,
   "metadata": {
    "ExecuteTime": {
     "end_time": "2020-07-15T01:38:50.486215Z",
     "start_time": "2020-07-15T01:38:50.482226Z"
    }
   },
   "outputs": [],
   "source": [
    "e.replace('wonderful','awful', 1)"
   ]
  }
 ],
 "metadata": {
  "kernelspec": {
   "display_name": "Python 3",
   "language": "python",
   "name": "python3"
  },
  "language_info": {
   "codemirror_mode": {
    "name": "ipython",
    "version": 3
   },
   "file_extension": ".py",
   "mimetype": "text/x-python",
   "name": "python",
   "nbconvert_exporter": "python",
   "pygments_lexer": "ipython3",
   "version": "3.8.3"
  },
  "toc": {
   "base_numbering": 1,
   "nav_menu": {},
   "number_sections": true,
   "sideBar": true,
   "skip_h1_title": false,
   "title_cell": "Table of Contents",
   "title_sidebar": "Contents",
   "toc_cell": false,
   "toc_position": {},
   "toc_section_display": true,
   "toc_window_display": false
  }
 },
 "nbformat": 4,
 "nbformat_minor": 2
}
