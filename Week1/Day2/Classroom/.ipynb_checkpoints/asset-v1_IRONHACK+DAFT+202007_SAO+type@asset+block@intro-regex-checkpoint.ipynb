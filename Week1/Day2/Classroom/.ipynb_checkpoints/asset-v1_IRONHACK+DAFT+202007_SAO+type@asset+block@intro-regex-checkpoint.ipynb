{
 "cells": [
  {
   "cell_type": "markdown",
   "metadata": {},
   "source": [
    "import re\n",
    "# ^^^ pyforest auto-imports - don't write above this line\n",
    "# <u>Reg</u>ular <u>Ex</u>pression - Introduction to Regex"
   ]
  },
  {
   "cell_type": "markdown",
   "metadata": {},
   "source": [
    "Regex is a powerful way to match text. Instead of trying to match a `literal string`, you can try to match `patterns`."
   ]
  },
  {
   "cell_type": "code",
   "execution_count": null,
   "metadata": {
    "ExecuteTime": {
     "end_time": "2020-07-16T00:21:38.352302Z",
     "start_time": "2020-07-16T00:21:38.348313Z"
    }
   },
   "outputs": [],
   "source": [
    "import re"
   ]
  },
  {
   "cell_type": "markdown",
   "metadata": {},
   "source": [
    "Website to visually see what your regular expressions look like: https://regexper.com/"
   ]
  },
  {
   "cell_type": "code",
   "execution_count": null,
   "metadata": {
    "ExecuteTime": {
     "end_time": "2020-07-16T00:24:35.903831Z",
     "start_time": "2020-07-16T00:24:35.899843Z"
    }
   },
   "outputs": [],
   "source": [
    "# matching literal strings\n",
    "text = 'My neighbor, Mr. Roger, has 5 dogs and one of them is named roger.'\n",
    "\n",
    "pattern = 'Roger'\n",
    "\n",
    "re.findall(pattern, text)"
   ]
  },
  {
   "cell_type": "markdown",
   "metadata": {},
   "source": [
    "## Introducing Sets"
   ]
  },
  {
   "cell_type": "markdown",
   "metadata": {},
   "source": [
    "Sets are used to match `one of the letters inside it`. That is, if you try to match a set `[Roger]`, it will find match every one of the following: `R` or `o` or `g` or `e` or `r`."
   ]
  },
  {
   "cell_type": "code",
   "execution_count": null,
   "metadata": {
    "ExecuteTime": {
     "end_time": "2020-07-16T00:27:30.345050Z",
     "start_time": "2020-07-16T00:27:30.340064Z"
    }
   },
   "outputs": [],
   "source": [
    "text = 'My neighbor, Mr. Roger, has 5 dogs and one of them is named roger.'\n",
    "pattern = '[Roger]'\n",
    "\n",
    "re.findall(pattern, text)"
   ]
  },
  {
   "cell_type": "markdown",
   "metadata": {},
   "source": [
    "You can mix sets and literal strings:"
   ]
  },
  {
   "cell_type": "code",
   "execution_count": null,
   "metadata": {
    "ExecuteTime": {
     "end_time": "2020-07-16T00:29:49.830428Z",
     "start_time": "2020-07-16T00:29:49.826438Z"
    }
   },
   "outputs": [],
   "source": [
    "text = 'My neighbor, Mr. Roger, has 5 dogs and one of them is named roger.'\n",
    "\n",
    "pattern = '[Rr]oger'\n",
    "# pattern = rogers ou Rogers ou xogers\n",
    "\n",
    "re.findall(pattern, text)"
   ]
  },
  {
   "cell_type": "markdown",
   "metadata": {},
   "source": [
    "There's a function called `.sub()` inside the module `re` that helps you substitute a string based on regex"
   ]
  },
  {
   "cell_type": "code",
   "execution_count": null,
   "metadata": {
    "ExecuteTime": {
     "end_time": "2020-07-16T00:31:43.173622Z",
     "start_time": "2020-07-16T00:31:43.168663Z"
    }
   },
   "outputs": [],
   "source": [
    "text = 'My neighbor, Mr. Roger, has 5 dogs and one of them is named roger.'\n",
    "\n",
    "pattern = '[Rr]oger' # R or r, followed by the literal string 'ogers'\n",
    "\n",
    "# find this pattern and substitute by Rogers\n",
    "re.sub(pattern, 'Rogers', text)"
   ]
  },
  {
   "cell_type": "code",
   "execution_count": null,
   "metadata": {
    "ExecuteTime": {
     "end_time": "2020-07-16T00:41:39.007719Z",
     "start_time": "2020-07-16T00:41:39.002732Z"
    }
   },
   "outputs": [],
   "source": [
    "text = '''\n",
    "Sáo Paulo \n",
    "São Paulo \n",
    "Sao Paulo \n",
    "Sao Paolo \n",
    "San Pablo \n",
    "sao paulo \n",
    "sao Paulo \n",
    "são Paulo \n",
    "sao-paulo \n",
    "são paulo \n",
    "São Paulo \n",
    "San Paulo'''\n",
    "\n",
    "pattern = '[Ss][áãa][on][ -][Pp]a[uob]lo'\n",
    "\n",
    "re.findall(pattern, text)"
   ]
  },
  {
   "cell_type": "code",
   "execution_count": null,
   "metadata": {
    "ExecuteTime": {
     "end_time": "2020-07-16T00:40:38.723345Z",
     "start_time": "2020-07-16T00:40:38.719357Z"
    }
   },
   "outputs": [],
   "source": [
    "print(re.sub(pattern, 'São Paulo', text))"
   ]
  },
  {
   "cell_type": "markdown",
   "metadata": {},
   "source": [
    "# Pattern sets:\n",
    "\n",
    "Range\n",
    "\n",
    "1. `[a-z]`: Any lowercase letter between a and z.\n",
    "2. `[A-Z]`: Any uppercase letter between A and Z.\n",
    "3. `[0-9]`: Any numeric character between 0 and 9.\n",
    "\n",
    "Match the opposite of the range\n",
    "1. `[^a-z]`: Any **NON** lowercase letter between a and z.\n",
    "2. `[^A-Z]`: Any **NON** uppercase letter between A and Z.\n",
    "3. `[^0-9]`: Any **NON** numeric character between 0 and 9.\n",
    "\n"
   ]
  },
  {
   "cell_type": "code",
   "execution_count": null,
   "metadata": {
    "ExecuteTime": {
     "end_time": "2020-07-16T00:44:34.046812Z",
     "start_time": "2020-07-16T00:44:34.041826Z"
    },
    "scrolled": true
   },
   "outputs": [],
   "source": [
    "text = 'My neighbor, Mr. Rogers, has 5 dogs.'\n",
    "pattern = '[a-e]'\n",
    "\n",
    "re.findall(pattern, text)"
   ]
  },
  {
   "cell_type": "code",
   "execution_count": null,
   "metadata": {
    "ExecuteTime": {
     "end_time": "2020-07-16T00:45:59.827129Z",
     "start_time": "2020-07-16T00:45:59.822143Z"
    }
   },
   "outputs": [],
   "source": [
    "re.findall('[A-Z]', text)"
   ]
  },
  {
   "cell_type": "code",
   "execution_count": null,
   "metadata": {
    "ExecuteTime": {
     "end_time": "2020-07-16T00:45:49.292894Z",
     "start_time": "2020-07-16T00:45:49.287883Z"
    }
   },
   "outputs": [],
   "source": [
    "re.findall('[A-N]', text)"
   ]
  },
  {
   "cell_type": "code",
   "execution_count": null,
   "metadata": {
    "ExecuteTime": {
     "end_time": "2020-07-16T00:46:10.282760Z",
     "start_time": "2020-07-16T00:46:10.278771Z"
    }
   },
   "outputs": [],
   "source": [
    "re.findall('[efghijklmno]', text)"
   ]
  },
  {
   "cell_type": "code",
   "execution_count": null,
   "metadata": {
    "ExecuteTime": {
     "end_time": "2020-07-16T00:46:13.676933Z",
     "start_time": "2020-07-16T00:46:13.672916Z"
    }
   },
   "outputs": [],
   "source": [
    "re.findall('[e-o]', text)"
   ]
  },
  {
   "cell_type": "code",
   "execution_count": null,
   "metadata": {
    "ExecuteTime": {
     "end_time": "2020-07-16T00:46:35.895551Z",
     "start_time": "2020-07-16T00:46:35.890565Z"
    }
   },
   "outputs": [],
   "source": [
    "re.findall('[0-9]', text)"
   ]
  },
  {
   "cell_type": "markdown",
   "metadata": {},
   "source": [
    "## Pattern sets concatenation\n",
    "\n",
    "- `[A-Za-z]`: Matches any one of lowercase letter between a and z OR uppercase letter between a and z"
   ]
  },
  {
   "cell_type": "code",
   "execution_count": null,
   "metadata": {
    "ExecuteTime": {
     "end_time": "2020-07-16T00:47:19.974455Z",
     "start_time": "2020-07-16T00:47:19.970465Z"
    }
   },
   "outputs": [],
   "source": [
    "# you can concatenate ranges\n",
    "\n",
    "re.findall('[A-Za-z0-9]', text)"
   ]
  },
  {
   "cell_type": "markdown",
   "metadata": {},
   "source": [
    "The opposite: \n",
    "- `^` matches everything except the pattern "
   ]
  },
  {
   "cell_type": "code",
   "execution_count": null,
   "metadata": {
    "ExecuteTime": {
     "end_time": "2020-07-16T00:50:11.666620Z",
     "start_time": "2020-07-16T00:50:11.661633Z"
    }
   },
   "outputs": [],
   "source": [
    "pattern = '[^a-z]'\n",
    "re.findall(pattern, text)"
   ]
  },
  {
   "cell_type": "code",
   "execution_count": null,
   "metadata": {
    "ExecuteTime": {
     "end_time": "2020-07-16T00:51:11.391768Z",
     "start_time": "2020-07-16T00:51:11.387778Z"
    }
   },
   "outputs": [],
   "source": [
    "# concat patterns [] \n",
    "# space character == \\s\n",
    "\n",
    "pattern = '[^a-zA-Z0-9\\s]'\n",
    "pattern = '[^a-zA-Z0-9 ]'\n",
    "re.findall(pattern, text)\n"
   ]
  },
  {
   "cell_type": "markdown",
   "metadata": {},
   "source": [
    "# character classes:\n",
    "\n",
    "A single character that represents a class of characters\n",
    "\n",
    "1. `\\w`: Any alphanumeric character == `[A-Za-z0-9_]`.\n",
    "2. `\\d`: Any numeric character (a digit) == `[0-9]`.\n",
    "3. `\\s` : Match spaces characters\n",
    "\n",
    "And their opposites:\n",
    "1. `\\W`: Any **NON** alphanumeric character === `[^A-Za-z0-9_]`.\n",
    "2. `\\D`: Any **NON** numeric character (a digit).\n",
    "3. `\\S` : Match **NON** spaces characters\n",
    "\n",
    "And to match `ANY` character:\n",
    "1. `.`: matches any character"
   ]
  },
  {
   "cell_type": "code",
   "execution_count": null,
   "metadata": {
    "ExecuteTime": {
     "end_time": "2020-07-16T01:09:19.738308Z",
     "start_time": "2020-07-16T01:09:19.734318Z"
    }
   },
   "outputs": [],
   "source": [
    "text = 'My phone number is +55 (11) 99111-1831'"
   ]
  },
  {
   "cell_type": "code",
   "execution_count": null,
   "metadata": {},
   "outputs": [],
   "source": [
    "# to find the literal string '+', it has to be escaped because the '+' itself means something else\n",
    "country_code = re.findall('\\+\\d\\d', text)\n",
    "country_code"
   ]
  },
  {
   "cell_type": "code",
   "execution_count": null,
   "metadata": {
    "ExecuteTime": {
     "end_time": "2020-07-16T01:09:20.867383Z",
     "start_time": "2020-07-16T01:09:20.863393Z"
    }
   },
   "outputs": [],
   "source": [
    "# to find parenthesis, it has to be escaped because parenthesis itself means something else\n",
    "ddd = re.findall('\\(\\d\\d\\)', text)\n",
    "ddd"
   ]
  },
  {
   "cell_type": "code",
   "execution_count": null,
   "metadata": {},
   "outputs": [],
   "source": [
    "phone = re.findall('\\d\\d\\d\\d\\d-\\d\\d\\d\\d', text)\n",
    "phone"
   ]
  },
  {
   "cell_type": "code",
   "execution_count": null,
   "metadata": {},
   "outputs": [],
   "source": [
    "text\n",
    "re.findall('.\\d\\d', text)\n"
   ]
  },
  {
   "cell_type": "code",
   "execution_count": null,
   "metadata": {},
   "outputs": [],
   "source": [
    "# Let's say I want to match each of these, except the 'abc1'\n",
    "\n",
    "text = '''\n",
    "cat.\n",
    "896.\n",
    "?=+.\n",
    "abc1\n",
    "'''"
   ]
  },
  {
   "cell_type": "code",
   "execution_count": null,
   "metadata": {},
   "outputs": [],
   "source": [
    "re.findall('...\\.', text)"
   ]
  }
 ],
 "metadata": {
  "kernelspec": {
   "display_name": "Python 3",
   "language": "python",
   "name": "python3"
  },
  "language_info": {
   "codemirror_mode": {
    "name": "ipython",
    "version": 3
   },
   "file_extension": ".py",
   "mimetype": "text/x-python",
   "name": "python",
   "nbconvert_exporter": "python",
   "pygments_lexer": "ipython3",
   "version": "3.8.3"
  },
  "toc": {
   "base_numbering": 1,
   "nav_menu": {},
   "number_sections": true,
   "sideBar": true,
   "skip_h1_title": false,
   "title_cell": "Table of Contents",
   "title_sidebar": "Contents",
   "toc_cell": false,
   "toc_position": {},
   "toc_section_display": true,
   "toc_window_display": false
  }
 },
 "nbformat": 4,
 "nbformat_minor": 2
}
