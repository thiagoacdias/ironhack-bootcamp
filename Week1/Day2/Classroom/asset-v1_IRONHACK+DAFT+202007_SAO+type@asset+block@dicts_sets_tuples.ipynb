{
 "cells": [
  {
   "cell_type": "markdown",
   "metadata": {},
   "source": [
    "# Some python inherent `data structures`"
   ]
  },
  {
   "cell_type": "markdown",
   "metadata": {},
   "source": [
    "- Tuples\n",
    "- Dicts\n",
    "- Sets"
   ]
  },
  {
   "cell_type": "markdown",
   "metadata": {},
   "source": [
    "# Tuples"
   ]
  },
  {
   "cell_type": "markdown",
   "metadata": {},
   "source": [
    "- Tuples are identified by `parenthesis` and `comma` separation\n",
    "\n",
    "- Tuples are immutable sequences of elements"
   ]
  },
  {
   "cell_type": "markdown",
   "metadata": {},
   "source": [
    "## Creating a tuple"
   ]
  },
  {
   "cell_type": "code",
   "execution_count": 1,
   "metadata": {
    "ExecuteTime": {
     "end_time": "2020-07-09T22:45:47.947147Z",
     "start_time": "2020-07-09T22:45:47.939168Z"
    }
   },
   "outputs": [
    {
     "data": {
      "text/plain": [
       "(10, 20)"
      ]
     },
     "execution_count": 1,
     "metadata": {},
     "output_type": "execute_result"
    }
   ],
   "source": [
    "x = (10, 20)\n",
    "x"
   ]
  },
  {
   "cell_type": "code",
   "execution_count": 2,
   "metadata": {
    "ExecuteTime": {
     "end_time": "2020-07-09T22:45:56.919443Z",
     "start_time": "2020-07-09T22:45:56.915420Z"
    }
   },
   "outputs": [
    {
     "data": {
      "text/plain": [
       "tuple"
      ]
     },
     "execution_count": 2,
     "metadata": {},
     "output_type": "execute_result"
    }
   ],
   "source": [
    "type(x)"
   ]
  },
  {
   "cell_type": "code",
   "execution_count": 5,
   "metadata": {
    "ExecuteTime": {
     "end_time": "2020-07-09T22:46:23.438333Z",
     "start_time": "2020-07-09T22:46:23.435342Z"
    }
   },
   "outputs": [],
   "source": [
    "y = (10,)"
   ]
  },
  {
   "cell_type": "code",
   "execution_count": 6,
   "metadata": {
    "ExecuteTime": {
     "end_time": "2020-07-09T22:46:23.924645Z",
     "start_time": "2020-07-09T22:46:23.920656Z"
    }
   },
   "outputs": [
    {
     "data": {
      "text/plain": [
       "tuple"
      ]
     },
     "execution_count": 6,
     "metadata": {},
     "output_type": "execute_result"
    }
   ],
   "source": [
    "type(y)"
   ]
  },
  {
   "cell_type": "code",
   "execution_count": 7,
   "metadata": {
    "ExecuteTime": {
     "end_time": "2020-07-09T22:47:07.157845Z",
     "start_time": "2020-07-09T22:47:07.154853Z"
    }
   },
   "outputs": [],
   "source": [
    "y = (10,)"
   ]
  },
  {
   "cell_type": "code",
   "execution_count": 8,
   "metadata": {
    "ExecuteTime": {
     "end_time": "2020-07-09T22:47:10.471569Z",
     "start_time": "2020-07-09T22:47:10.467581Z"
    }
   },
   "outputs": [
    {
     "data": {
      "text/plain": [
       "tuple"
      ]
     },
     "execution_count": 8,
     "metadata": {},
     "output_type": "execute_result"
    }
   ],
   "source": [
    "type(y)"
   ]
  },
  {
   "cell_type": "code",
   "execution_count": 9,
   "metadata": {
    "ExecuteTime": {
     "end_time": "2020-07-09T22:47:30.588494Z",
     "start_time": "2020-07-09T22:47:30.583508Z"
    }
   },
   "outputs": [
    {
     "data": {
      "text/plain": [
       "(10, 20, 10, 2, 113, 54)"
      ]
     },
     "execution_count": 9,
     "metadata": {},
     "output_type": "execute_result"
    }
   ],
   "source": [
    "y = (10,20, 10, 2, 113, 54)\n",
    "y"
   ]
  },
  {
   "cell_type": "code",
   "execution_count": 12,
   "metadata": {
    "ExecuteTime": {
     "end_time": "2020-07-09T22:52:12.952903Z",
     "start_time": "2020-07-09T22:52:12.948915Z"
    }
   },
   "outputs": [
    {
     "data": {
      "text/plain": [
       "()"
      ]
     },
     "execution_count": 12,
     "metadata": {},
     "output_type": "execute_result"
    }
   ],
   "source": [
    "# empty tuple: useful for answering, for example, a `null answer`\n",
    "\n",
    "y = tuple()\n",
    "y"
   ]
  },
  {
   "cell_type": "code",
   "execution_count": 11,
   "metadata": {},
   "outputs": [
    {
     "data": {
      "text/plain": [
       "3"
      ]
     },
     "execution_count": 11,
     "metadata": {},
     "output_type": "execute_result"
    }
   ],
   "source": [
    "## multiple assignment\n",
    "a, b = (3, 4)\n",
    "a"
   ]
  },
  {
   "cell_type": "markdown",
   "metadata": {},
   "source": [
    "## Converting a `list` into a `tuple`"
   ]
  },
  {
   "cell_type": "code",
   "execution_count": 13,
   "metadata": {
    "ExecuteTime": {
     "end_time": "2020-07-09T22:52:57.206445Z",
     "start_time": "2020-07-09T22:52:57.203454Z"
    }
   },
   "outputs": [],
   "source": [
    "my_list = [1,3,5,8]"
   ]
  },
  {
   "cell_type": "code",
   "execution_count": 14,
   "metadata": {
    "ExecuteTime": {
     "end_time": "2020-07-09T22:52:57.536562Z",
     "start_time": "2020-07-09T22:52:57.532573Z"
    }
   },
   "outputs": [
    {
     "data": {
      "text/plain": [
       "list"
      ]
     },
     "execution_count": 14,
     "metadata": {},
     "output_type": "execute_result"
    }
   ],
   "source": [
    "type(my_list)"
   ]
  },
  {
   "cell_type": "code",
   "execution_count": 15,
   "metadata": {
    "ExecuteTime": {
     "end_time": "2020-07-09T22:52:59.378175Z",
     "start_time": "2020-07-09T22:52:59.375154Z"
    }
   },
   "outputs": [
    {
     "data": {
      "text/plain": [
       "(1, 3, 5, 8)"
      ]
     },
     "execution_count": 15,
     "metadata": {},
     "output_type": "execute_result"
    }
   ],
   "source": [
    "y = tuple(my_list)\n",
    "y"
   ]
  },
  {
   "cell_type": "code",
   "execution_count": 16,
   "metadata": {
    "ExecuteTime": {
     "end_time": "2020-07-09T22:53:37.037379Z",
     "start_time": "2020-07-09T22:53:37.033390Z"
    }
   },
   "outputs": [
    {
     "data": {
      "text/plain": [
       "(0, 1, 2, 3, 4)"
      ]
     },
     "execution_count": 16,
     "metadata": {},
     "output_type": "execute_result"
    }
   ],
   "source": [
    "tuple(range(5))"
   ]
  },
  {
   "cell_type": "markdown",
   "metadata": {},
   "source": [
    "## <u>Accessing</u> an element in a tuple"
   ]
  },
  {
   "cell_type": "markdown",
   "metadata": {},
   "source": [
    "Imagine I create a service that, given the address, it returns me latitude and longitude as a tuple, i.e., `(lat, long)`"
   ]
  },
  {
   "cell_type": "code",
   "execution_count": 17,
   "metadata": {
    "ExecuteTime": {
     "end_time": "2020-07-09T23:04:54.802409Z",
     "start_time": "2020-07-09T23:04:54.799414Z"
    }
   },
   "outputs": [],
   "source": [
    "coords = (-23.561762, -46.660213)"
   ]
  },
  {
   "cell_type": "markdown",
   "metadata": {},
   "source": [
    "If I want to access the `latitude` (i.e., the first element):"
   ]
  },
  {
   "cell_type": "code",
   "execution_count": 18,
   "metadata": {},
   "outputs": [
    {
     "data": {
      "text/plain": [
       "(-23.561762, -46.660213)"
      ]
     },
     "execution_count": 18,
     "metadata": {},
     "output_type": "execute_result"
    }
   ],
   "source": [
    "coords"
   ]
  },
  {
   "cell_type": "code",
   "execution_count": 19,
   "metadata": {},
   "outputs": [
    {
     "data": {
      "text/plain": [
       "-23.561762"
      ]
     },
     "execution_count": 19,
     "metadata": {},
     "output_type": "execute_result"
    }
   ],
   "source": [
    "coords[0]"
   ]
  },
  {
   "cell_type": "markdown",
   "metadata": {},
   "source": [
    "These are called `indices` (or `index`) "
   ]
  },
  {
   "cell_type": "code",
   "execution_count": 20,
   "metadata": {},
   "outputs": [],
   "source": [
    "latitude = coords[0]"
   ]
  },
  {
   "cell_type": "code",
   "execution_count": 21,
   "metadata": {},
   "outputs": [],
   "source": [
    "longitude = coords[1]"
   ]
  },
  {
   "cell_type": "code",
   "execution_count": 22,
   "metadata": {
    "ExecuteTime": {
     "end_time": "2020-07-09T23:09:49.217940Z",
     "start_time": "2020-07-09T23:09:49.213923Z"
    }
   },
   "outputs": [
    {
     "data": {
      "text/plain": [
       "-46.660213"
      ]
     },
     "execution_count": 22,
     "metadata": {},
     "output_type": "execute_result"
    }
   ],
   "source": [
    "# think of tuples (and lists) as a circular element. \n",
    "# Accessing 0 returns the first element, 1 accesses the second element and so on\n",
    "# Accessing -1 returns the last element, -2 the second to last element and so on\n",
    "coords[-1]"
   ]
  },
  {
   "cell_type": "markdown",
   "metadata": {},
   "source": [
    "## Running through a tuple"
   ]
  },
  {
   "cell_type": "markdown",
   "metadata": {},
   "source": [
    "Tuples and lists are what is called in Python **iterable**. It means you can run through it. \n",
    "\n",
    "The syntax is simple: \n",
    "\n",
    "```python\n",
    "my_tuple = (1, 5, 8)\n",
    "\n",
    "for element in my_tuple:\n",
    "    # now you have access to each element\n",
    "    print(element)\n",
    "\n",
    "# Output\n",
    "1\n",
    "5\n",
    "8\n",
    "```\n"
   ]
  },
  {
   "cell_type": "markdown",
   "metadata": {},
   "source": [
    "What a loop like below\n",
    "```python\n",
    "coords = (-23.561762, -46.660213)\n",
    "\n",
    "for i in coords:\n",
    "    print(i)\n",
    "```\n",
    "\n",
    "is effectively doing is:\n",
    "    \n",
    "```python\n",
    "coords = (-23.561762, -46.660213)\n",
    "\n",
    "# first step of the loop\n",
    "i = coords[0]\n",
    "print(i)\n",
    "# second step of the loop\n",
    "i = coords[1]\n",
    "print(i)\n",
    "```\n",
    "\n",
    "which expands to the following:\n",
    "\n",
    "```python\n",
    "coords = (-23.561762, -46.660213)\n",
    "\n",
    "# first step of the loop\n",
    "i = -23.561762\n",
    "print(i)\n",
    "# second step of the loop\n",
    "i = -46.660213\n",
    "print(i)\n",
    "```"
   ]
  },
  {
   "cell_type": "code",
   "execution_count": 23,
   "metadata": {
    "ExecuteTime": {
     "end_time": "2020-07-09T23:17:35.185815Z",
     "start_time": "2020-07-09T23:17:35.181828Z"
    }
   },
   "outputs": [
    {
     "name": "stdout",
     "output_type": "stream",
     "text": [
      "-23.561762\n",
      "-46.660213\n"
     ]
    }
   ],
   "source": [
    "for each_coord in coords:\n",
    "    print(each_coord)"
   ]
  },
  {
   "cell_type": "code",
   "execution_count": 24,
   "metadata": {},
   "outputs": [
    {
     "name": "stdout",
     "output_type": "stream",
     "text": [
      "-23.561762\n",
      "-46.660213\n"
     ]
    }
   ],
   "source": [
    "for each_coord in coords:\n",
    "    # each_coord = coords[0]\n",
    "    print(each_coord)\n",
    "    each_coord = 100000000    "
   ]
  },
  {
   "cell_type": "code",
   "execution_count": 25,
   "metadata": {},
   "outputs": [],
   "source": [
    "## tuples are immutable"
   ]
  },
  {
   "cell_type": "code",
   "execution_count": 26,
   "metadata": {
    "ExecuteTime": {
     "end_time": "2020-07-09T23:18:32.840220Z",
     "start_time": "2020-07-09T23:18:32.833238Z"
    },
    "scrolled": true
   },
   "outputs": [
    {
     "ename": "TypeError",
     "evalue": "'tuple' object does not support item assignment",
     "output_type": "error",
     "traceback": [
      "\u001b[1;31m---------------------------------------------------------------------------\u001b[0m",
      "\u001b[1;31mTypeError\u001b[0m                                 Traceback (most recent call last)",
      "\u001b[1;32m<ipython-input-26-83fac389390a>\u001b[0m in \u001b[0;36m<module>\u001b[1;34m\u001b[0m\n\u001b[0;32m      1\u001b[0m \u001b[1;31m# will through an error\u001b[0m\u001b[1;33m\u001b[0m\u001b[1;33m\u001b[0m\u001b[1;33m\u001b[0m\u001b[0m\n\u001b[1;32m----> 2\u001b[1;33m \u001b[0mcoords\u001b[0m\u001b[1;33m[\u001b[0m\u001b[1;36m0\u001b[0m\u001b[1;33m]\u001b[0m \u001b[1;33m=\u001b[0m \u001b[1;36m30\u001b[0m\u001b[1;33m\u001b[0m\u001b[1;33m\u001b[0m\u001b[0m\n\u001b[0m",
      "\u001b[1;31mTypeError\u001b[0m: 'tuple' object does not support item assignment"
     ]
    }
   ],
   "source": [
    "# will through an error\n",
    "coords[0] = 30"
   ]
  },
  {
   "cell_type": "code",
   "execution_count": 27,
   "metadata": {
    "ExecuteTime": {
     "end_time": "2020-07-09T23:19:04.442284Z",
     "start_time": "2020-07-09T23:19:04.438295Z"
    }
   },
   "outputs": [
    {
     "data": {
      "text/plain": [
       "[-23.561762, -46.660213]"
      ]
     },
     "execution_count": 27,
     "metadata": {},
     "output_type": "execute_result"
    }
   ],
   "source": [
    "# but lists are mutable\n",
    "\n",
    "coords_list = list(coords)\n",
    "coords_list"
   ]
  },
  {
   "cell_type": "code",
   "execution_count": 28,
   "metadata": {
    "ExecuteTime": {
     "end_time": "2020-07-09T23:19:18.830008Z",
     "start_time": "2020-07-09T23:19:18.827016Z"
    }
   },
   "outputs": [],
   "source": [
    "coords_list[0] = 300"
   ]
  },
  {
   "cell_type": "code",
   "execution_count": 29,
   "metadata": {
    "ExecuteTime": {
     "end_time": "2020-07-09T23:19:25.690411Z",
     "start_time": "2020-07-09T23:19:25.686423Z"
    }
   },
   "outputs": [
    {
     "data": {
      "text/plain": [
       "[300, -46.660213]"
      ]
     },
     "execution_count": 29,
     "metadata": {},
     "output_type": "execute_result"
    }
   ],
   "source": [
    "coords_list"
   ]
  },
  {
   "cell_type": "code",
   "execution_count": 30,
   "metadata": {
    "ExecuteTime": {
     "end_time": "2020-07-09T23:21:41.034390Z",
     "start_time": "2020-07-09T23:21:41.030371Z"
    }
   },
   "outputs": [
    {
     "name": "stdout",
     "output_type": "stream",
     "text": [
      "-23.561762\n",
      "-46.660213\n"
     ]
    }
   ],
   "source": [
    "# you can use any name to perform a loop through an iterable.\n",
    "# usually you want to give names that means something\n",
    "for banana in coords:\n",
    "    print(banana)"
   ]
  },
  {
   "cell_type": "markdown",
   "metadata": {},
   "source": [
    "## Tuple methods\n",
    "\n",
    "- `count`: returns the number of occurences of the value you specify \n",
    "- `index`: returns the first index of the value you specify"
   ]
  },
  {
   "cell_type": "code",
   "execution_count": 31,
   "metadata": {
    "ExecuteTime": {
     "end_time": "2020-07-09T23:32:03.570210Z",
     "start_time": "2020-07-09T23:32:03.566220Z"
    }
   },
   "outputs": [],
   "source": [
    "y = (1,3,7,4,6,3,8,8)"
   ]
  },
  {
   "cell_type": "code",
   "execution_count": 32,
   "metadata": {
    "ExecuteTime": {
     "end_time": "2020-07-09T23:32:08.200990Z",
     "start_time": "2020-07-09T23:32:08.197001Z"
    }
   },
   "outputs": [
    {
     "data": {
      "text/plain": [
       "2"
      ]
     },
     "execution_count": 32,
     "metadata": {},
     "output_type": "execute_result"
    }
   ],
   "source": [
    "y.count(8)"
   ]
  },
  {
   "cell_type": "code",
   "execution_count": 33,
   "metadata": {
    "ExecuteTime": {
     "end_time": "2020-07-09T23:32:17.479626Z",
     "start_time": "2020-07-09T23:32:17.475638Z"
    }
   },
   "outputs": [
    {
     "data": {
      "text/plain": [
       "2"
      ]
     },
     "execution_count": 33,
     "metadata": {},
     "output_type": "execute_result"
    }
   ],
   "source": [
    "y.count(3)"
   ]
  },
  {
   "cell_type": "code",
   "execution_count": 34,
   "metadata": {
    "ExecuteTime": {
     "end_time": "2020-07-09T23:33:23.204809Z",
     "start_time": "2020-07-09T23:33:23.200819Z"
    }
   },
   "outputs": [
    {
     "data": {
      "text/plain": [
       "3"
      ]
     },
     "execution_count": 34,
     "metadata": {},
     "output_type": "execute_result"
    }
   ],
   "source": [
    "y.index(4)"
   ]
  },
  {
   "cell_type": "code",
   "execution_count": 35,
   "metadata": {
    "ExecuteTime": {
     "end_time": "2020-07-09T23:34:07.000682Z",
     "start_time": "2020-07-09T23:34:06.997667Z"
    }
   },
   "outputs": [
    {
     "data": {
      "text/plain": [
       "6"
      ]
     },
     "execution_count": 35,
     "metadata": {},
     "output_type": "execute_result"
    }
   ],
   "source": [
    "y.index(8)"
   ]
  },
  {
   "cell_type": "markdown",
   "metadata": {},
   "source": [
    "## Built in functions - `sorted()`\n",
    "\n",
    "- Sort a tuple (or any **iterable** actually)"
   ]
  },
  {
   "cell_type": "code",
   "execution_count": 44,
   "metadata": {},
   "outputs": [
    {
     "data": {
      "text/plain": [
       "[1, 3, 3, 4, 6, 7, 8, 8]"
      ]
     },
     "execution_count": 44,
     "metadata": {},
     "output_type": "execute_result"
    }
   ],
   "source": [
    "sorted(y)."
   ]
  },
  {
   "cell_type": "code",
   "execution_count": 47,
   "metadata": {},
   "outputs": [
    {
     "data": {
      "text/plain": [
       "list"
      ]
     },
     "execution_count": 47,
     "metadata": {},
     "output_type": "execute_result"
    }
   ],
   "source": [
    "type(sorted(y))"
   ]
  },
  {
   "cell_type": "markdown",
   "metadata": {},
   "source": [
    "## Slicing\n",
    "\n",
    "`Slicing` means: take a part specific `part`/`sequence` of elements\n",
    "\n",
    "Slices have a syntax of `[starting_index:ending_index]`"
   ]
  },
  {
   "cell_type": "code",
   "execution_count": 48,
   "metadata": {
    "ExecuteTime": {
     "end_time": "2020-07-09T23:40:03.707134Z",
     "start_time": "2020-07-09T23:40:03.703144Z"
    }
   },
   "outputs": [
    {
     "data": {
      "text/plain": [
       "(9, 8, 5, 6, 10, 8, 10)"
      ]
     },
     "execution_count": 48,
     "metadata": {},
     "output_type": "execute_result"
    }
   ],
   "source": [
    "grades = (9,8,5,6,10,8,10)\n",
    "grades"
   ]
  },
  {
   "cell_type": "code",
   "execution_count": 49,
   "metadata": {
    "ExecuteTime": {
     "end_time": "2020-07-09T23:40:07.474625Z",
     "start_time": "2020-07-09T23:40:07.470637Z"
    }
   },
   "outputs": [
    {
     "data": {
      "text/plain": [
       "9"
      ]
     },
     "execution_count": 49,
     "metadata": {},
     "output_type": "execute_result"
    }
   ],
   "source": [
    "grades[0]"
   ]
  },
  {
   "cell_type": "code",
   "execution_count": 50,
   "metadata": {},
   "outputs": [
    {
     "data": {
      "text/plain": [
       "10"
      ]
     },
     "execution_count": 50,
     "metadata": {},
     "output_type": "execute_result"
    }
   ],
   "source": [
    "grades[-1]"
   ]
  },
  {
   "cell_type": "code",
   "execution_count": 51,
   "metadata": {
    "ExecuteTime": {
     "end_time": "2020-07-09T23:41:14.680627Z",
     "start_time": "2020-07-09T23:41:14.676637Z"
    }
   },
   "outputs": [
    {
     "data": {
      "text/plain": [
       "(6, 10, 8)"
      ]
     },
     "execution_count": 51,
     "metadata": {},
     "output_type": "execute_result"
    }
   ],
   "source": [
    "# quero pegar do 5 ao 8 (do indice do ao indice 5)\n",
    "# [2, 6) -> indexes 2,4,5\n",
    "\n",
    "grades[3:6]"
   ]
  },
  {
   "cell_type": "code",
   "execution_count": 52,
   "metadata": {},
   "outputs": [
    {
     "data": {
      "text/plain": [
       "(6, 10, 8, 10)"
      ]
     },
     "execution_count": 52,
     "metadata": {},
     "output_type": "execute_result"
    }
   ],
   "source": [
    "# do 5 em diante (ou do terceiro índice em diante)\n",
    "grades[3:]"
   ]
  },
  {
   "cell_type": "code",
   "execution_count": 53,
   "metadata": {
    "ExecuteTime": {
     "end_time": "2020-07-09T23:42:29.727629Z",
     "start_time": "2020-07-09T23:42:29.724119Z"
    }
   },
   "outputs": [
    {
     "data": {
      "text/plain": [
       "(-23.561762, -46.660213)"
      ]
     },
     "execution_count": 53,
     "metadata": {},
     "output_type": "execute_result"
    }
   ],
   "source": [
    "# do 5 pra tras (do terceiro indice pra trás)\n",
    "coords[:3]"
   ]
  },
  {
   "cell_type": "markdown",
   "metadata": {},
   "source": [
    "-----"
   ]
  },
  {
   "cell_type": "markdown",
   "metadata": {},
   "source": [
    "# DICT's"
   ]
  },
  {
   "cell_type": "markdown",
   "metadata": {},
   "source": [
    "## What is a dictionary?"
   ]
  },
  {
   "cell_type": "markdown",
   "metadata": {},
   "source": [
    "In real life, we use it to find the `description of something`."
   ]
  },
  {
   "cell_type": "markdown",
   "metadata": {},
   "source": [
    "## What are keys and values?"
   ]
  },
  {
   "cell_type": "markdown",
   "metadata": {},
   "source": [
    "`keys`: it is the `something`\n",
    "\n",
    "`values`: it is the `description` of something"
   ]
  },
  {
   "cell_type": "markdown",
   "metadata": {},
   "source": [
    "## Creating a dictionary\n",
    "\n",
    "- Syntax of a dictionary `{key: value}`"
   ]
  },
  {
   "cell_type": "code",
   "execution_count": 54,
   "metadata": {
    "ExecuteTime": {
     "end_time": "2020-07-10T00:09:37.869696Z",
     "start_time": "2020-07-10T00:09:37.865676Z"
    }
   },
   "outputs": [],
   "source": [
    "# curly braces {key:value}\n",
    "\n",
    "my_dict = {'andre' : 'lead-teacher'}"
   ]
  },
  {
   "cell_type": "code",
   "execution_count": 55,
   "metadata": {
    "ExecuteTime": {
     "end_time": "2020-07-10T00:09:39.014670Z",
     "start_time": "2020-07-10T00:09:39.010682Z"
    }
   },
   "outputs": [
    {
     "data": {
      "text/plain": [
       "{'andre': 'lead-teacher'}"
      ]
     },
     "execution_count": 55,
     "metadata": {},
     "output_type": "execute_result"
    }
   ],
   "source": [
    "my_dict"
   ]
  },
  {
   "cell_type": "code",
   "execution_count": 56,
   "metadata": {
    "ExecuteTime": {
     "end_time": "2020-07-10T00:09:42.259485Z",
     "start_time": "2020-07-10T00:09:42.254499Z"
    }
   },
   "outputs": [
    {
     "data": {
      "text/plain": [
       "dict"
      ]
     },
     "execution_count": 56,
     "metadata": {},
     "output_type": "execute_result"
    }
   ],
   "source": [
    "type(my_dict)"
   ]
  },
  {
   "cell_type": "markdown",
   "metadata": {},
   "source": [
    "## <u>Accessing</u> a dictionary value:"
   ]
  },
  {
   "cell_type": "markdown",
   "metadata": {},
   "source": [
    "- o índice de um dicionário é genérico, é você quem decide."
   ]
  },
  {
   "cell_type": "code",
   "execution_count": 57,
   "metadata": {
    "ExecuteTime": {
     "end_time": "2020-07-10T00:10:26.565681Z",
     "start_time": "2020-07-10T00:10:26.560695Z"
    }
   },
   "outputs": [
    {
     "data": {
      "text/plain": [
       "'lead-teacher'"
      ]
     },
     "execution_count": 57,
     "metadata": {},
     "output_type": "execute_result"
    }
   ],
   "source": [
    "my_dict['andre']"
   ]
  },
  {
   "cell_type": "code",
   "execution_count": 58,
   "metadata": {
    "ExecuteTime": {
     "end_time": "2020-07-10T00:15:06.904695Z",
     "start_time": "2020-07-10T00:15:06.898711Z"
    }
   },
   "outputs": [
    {
     "ename": "KeyError",
     "evalue": "'joao'",
     "output_type": "error",
     "traceback": [
      "\u001b[1;31m---------------------------------------------------------------------------\u001b[0m",
      "\u001b[1;31mKeyError\u001b[0m                                  Traceback (most recent call last)",
      "\u001b[1;32m<ipython-input-58-3dc3b17c8946>\u001b[0m in \u001b[0;36m<module>\u001b[1;34m\u001b[0m\n\u001b[1;32m----> 1\u001b[1;33m \u001b[0mmy_dict\u001b[0m\u001b[1;33m[\u001b[0m\u001b[1;34m'joao'\u001b[0m\u001b[1;33m]\u001b[0m\u001b[1;33m\u001b[0m\u001b[1;33m\u001b[0m\u001b[0m\n\u001b[0m",
      "\u001b[1;31mKeyError\u001b[0m: 'joao'"
     ]
    }
   ],
   "source": [
    "my_dict['joao']"
   ]
  },
  {
   "cell_type": "markdown",
   "metadata": {},
   "source": [
    "## Creating new items for your dictionary"
   ]
  },
  {
   "cell_type": "code",
   "execution_count": 59,
   "metadata": {},
   "outputs": [],
   "source": [
    "# by accessing a non-existent key and then assigning a value\n",
    "\n",
    "my_dict['joao'] = 10"
   ]
  },
  {
   "cell_type": "code",
   "execution_count": 60,
   "metadata": {},
   "outputs": [
    {
     "data": {
      "text/plain": [
       "{'andre': 'lead-teacher', 'joao': 10}"
      ]
     },
     "execution_count": 60,
     "metadata": {},
     "output_type": "execute_result"
    }
   ],
   "source": [
    "my_dict"
   ]
  },
  {
   "cell_type": "code",
   "execution_count": 65,
   "metadata": {},
   "outputs": [],
   "source": [
    "my_dict[3] = 'bla'"
   ]
  },
  {
   "cell_type": "code",
   "execution_count": 66,
   "metadata": {},
   "outputs": [
    {
     "data": {
      "text/plain": [
       "{'andre': 'lead-teacher', 'joao': 10, 3: 'bla', 'jose': 'student'}"
      ]
     },
     "execution_count": 66,
     "metadata": {},
     "output_type": "execute_result"
    }
   ],
   "source": [
    "my_dict"
   ]
  },
  {
   "cell_type": "code",
   "execution_count": 63,
   "metadata": {},
   "outputs": [],
   "source": [
    "# using `.update()` function containing a new dict inside\n",
    "my_dict.update({'jose': 'student'})"
   ]
  },
  {
   "cell_type": "code",
   "execution_count": 70,
   "metadata": {},
   "outputs": [
    {
     "data": {
      "text/plain": [
       "'lead-teacher'"
      ]
     },
     "execution_count": 70,
     "metadata": {},
     "output_type": "execute_result"
    }
   ],
   "source": [
    "my_dict.get('andre')"
   ]
  },
  {
   "cell_type": "markdown",
   "metadata": {},
   "source": [
    "## A value can be anything"
   ]
  },
  {
   "cell_type": "code",
   "execution_count": 71,
   "metadata": {},
   "outputs": [],
   "source": [
    "my_dict['maria'] = [10, 30]"
   ]
  },
  {
   "cell_type": "code",
   "execution_count": 72,
   "metadata": {},
   "outputs": [
    {
     "data": {
      "text/plain": [
       "{'andre': 'lead-teacher',\n",
       " 'joao': 10,\n",
       " 3: 'bla',\n",
       " 'jose': 'student',\n",
       " 'maria': [10, 30]}"
      ]
     },
     "execution_count": 72,
     "metadata": {},
     "output_type": "execute_result"
    }
   ],
   "source": [
    "my_dict"
   ]
  },
  {
   "cell_type": "code",
   "execution_count": 73,
   "metadata": {},
   "outputs": [],
   "source": [
    "my_dict['carlos'] = {'nota': 10, 'idade': 30}"
   ]
  },
  {
   "cell_type": "code",
   "execution_count": 74,
   "metadata": {},
   "outputs": [
    {
     "data": {
      "text/plain": [
       "{'andre': 'lead-teacher',\n",
       " 'joao': 10,\n",
       " 3: 'bla',\n",
       " 'jose': 'student',\n",
       " 'maria': [10, 30],\n",
       " 'carlos': {'nota': 10, 'idade': 30}}"
      ]
     },
     "execution_count": 74,
     "metadata": {},
     "output_type": "execute_result"
    }
   ],
   "source": [
    "my_dict"
   ]
  },
  {
   "cell_type": "code",
   "execution_count": 76,
   "metadata": {},
   "outputs": [
    {
     "ename": "KeyError",
     "evalue": "''",
     "output_type": "error",
     "traceback": [
      "\u001b[1;31m---------------------------------------------------------------------------\u001b[0m",
      "\u001b[1;31mKeyError\u001b[0m                                  Traceback (most recent call last)",
      "\u001b[1;32m<ipython-input-76-9ffb9db9265d>\u001b[0m in \u001b[0;36m<module>\u001b[1;34m\u001b[0m\n\u001b[0;32m      1\u001b[0m \u001b[1;31m# accessing a dict, inside a dict\u001b[0m\u001b[1;33m\u001b[0m\u001b[1;33m\u001b[0m\u001b[1;33m\u001b[0m\u001b[0m\n\u001b[1;32m----> 2\u001b[1;33m \u001b[0mmy_dict\u001b[0m\u001b[1;33m[\u001b[0m\u001b[1;34m''\u001b[0m\u001b[1;33m]\u001b[0m\u001b[1;33m\u001b[0m\u001b[1;33m\u001b[0m\u001b[0m\n\u001b[0m",
      "\u001b[1;31mKeyError\u001b[0m: ''"
     ]
    }
   ],
   "source": [
    "# accessing a dict, inside a dict\n",
    "my_dict['']"
   ]
  },
  {
   "cell_type": "code",
   "execution_count": 77,
   "metadata": {},
   "outputs": [],
   "source": [
    "my_dict['track'] = {'album': {'album_type': 'album',\n",
    "                      'artists': [{'external_urls': {'spotify': 'https://open.spotify.com/artist/2FcC4sDMXme2ziI7tGKMK8'},\n",
    "                        'href': 'https://api.spotify.com/v1/artists/2FcC4sDMXme2ziI7tGKMK8',\n",
    "                        'id': '2FcC4sDMXme2ziI7tGKMK8',\n",
    "                        'name': 'David Gilmour',\n",
    "                        'type': 'artist',\n",
    "                        'uri': 'spotify:artist:2FcC4sDMXme2ziI7tGKMK8'}],\n",
    "                             },\n",
    "                    'id': '0M8rrUcBYXa24y3AIKQ19z',\n",
    "                    'is_local': False,\n",
    "                    'name': 'Comfortably Numb - Live At Pompeii 2016',\n",
    "                    'popularity': 54,\n",
    "                              }"
   ]
  },
  {
   "cell_type": "code",
   "execution_count": 78,
   "metadata": {},
   "outputs": [
    {
     "data": {
      "text/plain": [
       "'Comfortably Numb - Live At Pompeii 2016'"
      ]
     },
     "execution_count": 78,
     "metadata": {},
     "output_type": "execute_result"
    }
   ],
   "source": [
    "# get the track name\n",
    "my_dict['track']['name']"
   ]
  },
  {
   "cell_type": "code",
   "execution_count": 85,
   "metadata": {},
   "outputs": [
    {
     "data": {
      "text/plain": [
       "'David Gilmour'"
      ]
     },
     "execution_count": 85,
     "metadata": {},
     "output_type": "execute_result"
    }
   ],
   "source": [
    "# get the album name\n",
    "my_dict['track']['album']['artists'][0]['name']"
   ]
  },
  {
   "cell_type": "code",
   "execution_count": null,
   "metadata": {},
   "outputs": [],
   "source": []
  },
  {
   "cell_type": "markdown",
   "metadata": {},
   "source": [
    "# Dictionary <u>methods</u>\n",
    "\n",
    "- `.update()`\n",
    "- `.keys()`\n",
    "- `.values()`\n",
    "- `.items()`"
   ]
  },
  {
   "cell_type": "code",
   "execution_count": 86,
   "metadata": {
    "ExecuteTime": {
     "end_time": "2020-07-10T00:27:48.318019Z",
     "start_time": "2020-07-10T00:27:48.314028Z"
    }
   },
   "outputs": [
    {
     "data": {
      "text/plain": [
       "{'andre': 'lead-teacher',\n",
       " 'joao': 10,\n",
       " 3: 'bla',\n",
       " 'jose': 'student',\n",
       " 'maria': [10, 30],\n",
       " 'carlos': {'nota': 10, 'idade': 30},\n",
       " 'track': {'album': {'album_type': 'album',\n",
       "   'artists': [{'external_urls': {'spotify': 'https://open.spotify.com/artist/2FcC4sDMXme2ziI7tGKMK8'},\n",
       "     'href': 'https://api.spotify.com/v1/artists/2FcC4sDMXme2ziI7tGKMK8',\n",
       "     'id': '2FcC4sDMXme2ziI7tGKMK8',\n",
       "     'name': 'David Gilmour',\n",
       "     'type': 'artist',\n",
       "     'uri': 'spotify:artist:2FcC4sDMXme2ziI7tGKMK8'}]},\n",
       "  'id': '0M8rrUcBYXa24y3AIKQ19z',\n",
       "  'is_local': False,\n",
       "  'name': 'Comfortably Numb - Live At Pompeii 2016',\n",
       "  'popularity': 54}}"
      ]
     },
     "execution_count": 86,
     "metadata": {},
     "output_type": "execute_result"
    }
   ],
   "source": [
    "my_dict"
   ]
  },
  {
   "cell_type": "code",
   "execution_count": 87,
   "metadata": {
    "ExecuteTime": {
     "end_time": "2020-07-10T00:28:43.484813Z",
     "start_time": "2020-07-10T00:28:43.481796Z"
    }
   },
   "outputs": [
    {
     "data": {
      "text/plain": [
       "dict_keys(['andre', 'joao', 3, 'jose', 'maria', 'carlos', 'track'])"
      ]
     },
     "execution_count": 87,
     "metadata": {},
     "output_type": "execute_result"
    }
   ],
   "source": [
    "my_dict.keys()"
   ]
  },
  {
   "cell_type": "code",
   "execution_count": 88,
   "metadata": {
    "ExecuteTime": {
     "end_time": "2020-07-10T00:29:18.487697Z",
     "start_time": "2020-07-10T00:29:18.483708Z"
    }
   },
   "outputs": [
    {
     "data": {
      "text/plain": [
       "dict_values(['lead-teacher', 10, 'bla', 'student', [10, 30], {'nota': 10, 'idade': 30}, {'album': {'album_type': 'album', 'artists': [{'external_urls': {'spotify': 'https://open.spotify.com/artist/2FcC4sDMXme2ziI7tGKMK8'}, 'href': 'https://api.spotify.com/v1/artists/2FcC4sDMXme2ziI7tGKMK8', 'id': '2FcC4sDMXme2ziI7tGKMK8', 'name': 'David Gilmour', 'type': 'artist', 'uri': 'spotify:artist:2FcC4sDMXme2ziI7tGKMK8'}]}, 'id': '0M8rrUcBYXa24y3AIKQ19z', 'is_local': False, 'name': 'Comfortably Numb - Live At Pompeii 2016', 'popularity': 54}])"
      ]
     },
     "execution_count": 88,
     "metadata": {},
     "output_type": "execute_result"
    }
   ],
   "source": [
    "my_dict.values()"
   ]
  },
  {
   "cell_type": "code",
   "execution_count": 89,
   "metadata": {
    "ExecuteTime": {
     "end_time": "2020-07-10T00:29:35.114148Z",
     "start_time": "2020-07-10T00:29:35.111156Z"
    }
   },
   "outputs": [
    {
     "data": {
      "text/plain": [
       "dict_items([('andre', 'lead-teacher'), ('joao', 10), (3, 'bla'), ('jose', 'student'), ('maria', [10, 30]), ('carlos', {'nota': 10, 'idade': 30}), ('track', {'album': {'album_type': 'album', 'artists': [{'external_urls': {'spotify': 'https://open.spotify.com/artist/2FcC4sDMXme2ziI7tGKMK8'}, 'href': 'https://api.spotify.com/v1/artists/2FcC4sDMXme2ziI7tGKMK8', 'id': '2FcC4sDMXme2ziI7tGKMK8', 'name': 'David Gilmour', 'type': 'artist', 'uri': 'spotify:artist:2FcC4sDMXme2ziI7tGKMK8'}]}, 'id': '0M8rrUcBYXa24y3AIKQ19z', 'is_local': False, 'name': 'Comfortably Numb - Live At Pompeii 2016', 'popularity': 54})])"
      ]
     },
     "execution_count": 89,
     "metadata": {},
     "output_type": "execute_result"
    }
   ],
   "source": [
    "my_dict.items()"
   ]
  },
  {
   "cell_type": "markdown",
   "metadata": {},
   "source": [
    "## Iterating through a dict"
   ]
  },
  {
   "cell_type": "code",
   "execution_count": 90,
   "metadata": {
    "ExecuteTime": {
     "end_time": "2020-07-10T00:32:18.522307Z",
     "start_time": "2020-07-10T00:32:18.518319Z"
    }
   },
   "outputs": [
    {
     "data": {
      "text/plain": [
       "dict_items([('andre', 'lead-teacher'), ('joao', 10), (3, 'bla'), ('jose', 'student'), ('maria', [10, 30]), ('carlos', {'nota': 10, 'idade': 30}), ('track', {'album': {'album_type': 'album', 'artists': [{'external_urls': {'spotify': 'https://open.spotify.com/artist/2FcC4sDMXme2ziI7tGKMK8'}, 'href': 'https://api.spotify.com/v1/artists/2FcC4sDMXme2ziI7tGKMK8', 'id': '2FcC4sDMXme2ziI7tGKMK8', 'name': 'David Gilmour', 'type': 'artist', 'uri': 'spotify:artist:2FcC4sDMXme2ziI7tGKMK8'}]}, 'id': '0M8rrUcBYXa24y3AIKQ19z', 'is_local': False, 'name': 'Comfortably Numb - Live At Pompeii 2016', 'popularity': 54})])"
      ]
     },
     "execution_count": 90,
     "metadata": {},
     "output_type": "execute_result"
    }
   ],
   "source": [
    "my_dict.items()"
   ]
  },
  {
   "cell_type": "code",
   "execution_count": 91,
   "metadata": {
    "ExecuteTime": {
     "end_time": "2020-07-10T00:32:44.127249Z",
     "start_time": "2020-07-10T00:32:44.123259Z"
    }
   },
   "outputs": [
    {
     "name": "stdout",
     "output_type": "stream",
     "text": [
      "('andre', 'lead-teacher')\n",
      "('joao', 10)\n",
      "(3, 'bla')\n",
      "('jose', 'student')\n",
      "('maria', [10, 30])\n",
      "('carlos', {'nota': 10, 'idade': 30})\n",
      "('track', {'album': {'album_type': 'album', 'artists': [{'external_urls': {'spotify': 'https://open.spotify.com/artist/2FcC4sDMXme2ziI7tGKMK8'}, 'href': 'https://api.spotify.com/v1/artists/2FcC4sDMXme2ziI7tGKMK8', 'id': '2FcC4sDMXme2ziI7tGKMK8', 'name': 'David Gilmour', 'type': 'artist', 'uri': 'spotify:artist:2FcC4sDMXme2ziI7tGKMK8'}]}, 'id': '0M8rrUcBYXa24y3AIKQ19z', 'is_local': False, 'name': 'Comfortably Numb - Live At Pompeii 2016', 'popularity': 54})\n"
     ]
    }
   ],
   "source": [
    "for each_item in my_dict.items():\n",
    "    print(each_item)"
   ]
  },
  {
   "cell_type": "markdown",
   "metadata": {},
   "source": [
    "## Loops can receive more than 1 argument"
   ]
  },
  {
   "cell_type": "code",
   "execution_count": 94,
   "metadata": {
    "ExecuteTime": {
     "end_time": "2020-07-10T00:34:29.463563Z",
     "start_time": "2020-07-10T00:34:29.459573Z"
    },
    "scrolled": true
   },
   "outputs": [
    {
     "name": "stdout",
     "output_type": "stream",
     "text": [
      "andre lead-teacher\n"
     ]
    }
   ],
   "source": [
    "# you can perform `multiple assignment` in the loop definition\n",
    "\n",
    "\n",
    "for key, value in my_dict.items():\n",
    "    if value == 'lead-teacher':\n",
    "        print(key, value)"
   ]
  },
  {
   "cell_type": "markdown",
   "metadata": {},
   "source": [
    "## Verifying if a key is `in` the dictionary"
   ]
  },
  {
   "cell_type": "code",
   "execution_count": 95,
   "metadata": {
    "ExecuteTime": {
     "end_time": "2020-07-10T00:35:27.646645Z",
     "start_time": "2020-07-10T00:35:27.642656Z"
    }
   },
   "outputs": [
    {
     "data": {
      "text/plain": [
       "False"
      ]
     },
     "execution_count": 95,
     "metadata": {},
     "output_type": "execute_result"
    }
   ],
   "source": [
    "# how it works with lists?\n",
    "4 in [1, 2, 3]"
   ]
  },
  {
   "cell_type": "code",
   "execution_count": 96,
   "metadata": {
    "ExecuteTime": {
     "end_time": "2020-07-10T00:35:34.512323Z",
     "start_time": "2020-07-10T00:35:34.508334Z"
    }
   },
   "outputs": [
    {
     "data": {
      "text/plain": [
       "True"
      ]
     },
     "execution_count": 96,
     "metadata": {},
     "output_type": "execute_result"
    }
   ],
   "source": [
    "1 in [1, 2, 3]"
   ]
  },
  {
   "cell_type": "markdown",
   "metadata": {},
   "source": [
    "actually, it works like this with any **iterable**"
   ]
  },
  {
   "cell_type": "code",
   "execution_count": 97,
   "metadata": {
    "ExecuteTime": {
     "end_time": "2020-07-10T00:35:58.854050Z",
     "start_time": "2020-07-10T00:35:58.851057Z"
    }
   },
   "outputs": [
    {
     "data": {
      "text/plain": [
       "True"
      ]
     },
     "execution_count": 97,
     "metadata": {},
     "output_type": "execute_result"
    }
   ],
   "source": [
    "'andre' in my_dict.keys()"
   ]
  },
  {
   "cell_type": "code",
   "execution_count": 98,
   "metadata": {
    "ExecuteTime": {
     "end_time": "2020-07-10T00:36:03.643891Z",
     "start_time": "2020-07-10T00:36:03.639929Z"
    }
   },
   "outputs": [
    {
     "ename": "AttributeError",
     "evalue": "'tuple' object has no attribute 'keys'",
     "output_type": "error",
     "traceback": [
      "\u001b[1;31m---------------------------------------------------------------------------\u001b[0m",
      "\u001b[1;31mAttributeError\u001b[0m                            Traceback (most recent call last)",
      "\u001b[1;32m<ipython-input-98-398859e4bf11>\u001b[0m in \u001b[0;36m<module>\u001b[1;34m\u001b[0m\n\u001b[1;32m----> 1\u001b[1;33m \u001b[1;34m'Andre'\u001b[0m \u001b[1;32min\u001b[0m \u001b[0mx\u001b[0m\u001b[1;33m.\u001b[0m\u001b[0mkeys\u001b[0m\u001b[1;33m(\u001b[0m\u001b[1;33m)\u001b[0m\u001b[1;33m\u001b[0m\u001b[1;33m\u001b[0m\u001b[0m\n\u001b[0m",
      "\u001b[1;31mAttributeError\u001b[0m: 'tuple' object has no attribute 'keys'"
     ]
    }
   ],
   "source": [
    "'Andre' in x.keys()"
   ]
  },
  {
   "cell_type": "markdown",
   "metadata": {},
   "source": [
    "-----"
   ]
  },
  {
   "cell_type": "markdown",
   "metadata": {},
   "source": [
    "# SETS\n",
    "\n",
    "Sets are just like dictionaries, but they only have `keys`.\n",
    "\n",
    "And just like `keys` in a dictionary, there are no `duplicates`. You can imagine a set like a [venn-diagram](https://pt.wikipedia.org/wiki/Diagrama_de_Venn) containing the elements you want."
   ]
  },
  {
   "cell_type": "code",
   "execution_count": 102,
   "metadata": {},
   "outputs": [],
   "source": [
    "my_list = ['Andre','Joao', 'Andre', 'Aldrey', 'Joao', 'Joao', 'Jose', 'André']"
   ]
  },
  {
   "cell_type": "code",
   "execution_count": 103,
   "metadata": {},
   "outputs": [
    {
     "data": {
      "text/plain": [
       "['Andre', 'Joao', 'Andre', 'Aldrey', 'Joao', 'Joao', 'Jose', 'André']"
      ]
     },
     "execution_count": 103,
     "metadata": {},
     "output_type": "execute_result"
    }
   ],
   "source": [
    "my_list"
   ]
  },
  {
   "cell_type": "code",
   "execution_count": 104,
   "metadata": {},
   "outputs": [
    {
     "data": {
      "text/plain": [
       "{'Aldrey', 'Andre', 'André', 'Joao', 'Jose'}"
      ]
     },
     "execution_count": 104,
     "metadata": {},
     "output_type": "execute_result"
    }
   ],
   "source": [
    "set(my_list)"
   ]
  },
  {
   "cell_type": "markdown",
   "metadata": {},
   "source": [
    "----"
   ]
  },
  {
   "cell_type": "code",
   "execution_count": 105,
   "metadata": {
    "ExecuteTime": {
     "end_time": "2020-07-10T00:41:55.690528Z",
     "start_time": "2020-07-10T00:41:55.686511Z"
    }
   },
   "outputs": [
    {
     "data": {
      "text/plain": [
       "{1, 2, 3, 4, 5, 6, 7, 8}"
      ]
     },
     "execution_count": 105,
     "metadata": {},
     "output_type": "execute_result"
    }
   ],
   "source": [
    "x = set([1,2,3,4,4,4,4,4,5,6,6,6,7,7,8])\n",
    "x"
   ]
  },
  {
   "cell_type": "code",
   "execution_count": 106,
   "metadata": {
    "ExecuteTime": {
     "end_time": "2020-07-10T00:42:16.991900Z",
     "start_time": "2020-07-10T00:42:16.987910Z"
    }
   },
   "outputs": [
    {
     "data": {
      "text/plain": [
       "{6, 7, 8, 10, 12}"
      ]
     },
     "execution_count": 106,
     "metadata": {},
     "output_type": "execute_result"
    }
   ],
   "source": [
    "y = set([8,8,6,7, 10, 12])\n",
    "y"
   ]
  },
  {
   "cell_type": "code",
   "execution_count": 107,
   "metadata": {
    "ExecuteTime": {
     "end_time": "2020-07-10T00:42:29.600067Z",
     "start_time": "2020-07-10T00:42:29.596053Z"
    }
   },
   "outputs": [
    {
     "data": {
      "text/plain": [
       "set"
      ]
     },
     "execution_count": 107,
     "metadata": {},
     "output_type": "execute_result"
    }
   ],
   "source": [
    "type(x)"
   ]
  },
  {
   "cell_type": "markdown",
   "metadata": {},
   "source": [
    "## Set methods"
   ]
  },
  {
   "cell_type": "code",
   "execution_count": 111,
   "metadata": {
    "ExecuteTime": {
     "end_time": "2020-07-10T00:42:33.899233Z",
     "start_time": "2020-07-10T00:42:33.895246Z"
    }
   },
   "outputs": [
    {
     "data": {
      "text/plain": [
       "{6, 7, 8}"
      ]
     },
     "execution_count": 111,
     "metadata": {},
     "output_type": "execute_result"
    }
   ],
   "source": [
    "x.intersection(y)"
   ]
  },
  {
   "cell_type": "code",
   "execution_count": 109,
   "metadata": {
    "ExecuteTime": {
     "end_time": "2020-07-10T00:42:35.273183Z",
     "start_time": "2020-07-10T00:42:35.269165Z"
    }
   },
   "outputs": [
    {
     "data": {
      "text/plain": [
       "{6, 7, 8, 10, 12}"
      ]
     },
     "execution_count": 109,
     "metadata": {},
     "output_type": "execute_result"
    }
   ],
   "source": [
    "y"
   ]
  },
  {
   "cell_type": "markdown",
   "metadata": {},
   "source": [
    "<img src=\"image-set.png\" align='left' alt=\"set-image\" width=\"300\" height=\"300\">\n"
   ]
  },
  {
   "cell_type": "code",
   "execution_count": null,
   "metadata": {
    "ExecuteTime": {
     "end_time": "2020-07-10T00:43:05.018692Z",
     "start_time": "2020-07-10T00:43:05.013676Z"
    }
   },
   "outputs": [],
   "source": [
    "x.intersection(y)"
   ]
  },
  {
   "cell_type": "code",
   "execution_count": null,
   "metadata": {
    "ExecuteTime": {
     "end_time": "2020-07-10T00:43:11.000626Z",
     "start_time": "2020-07-10T00:43:10.996637Z"
    }
   },
   "outputs": [],
   "source": [
    "x.difference(y)"
   ]
  },
  {
   "cell_type": "code",
   "execution_count": null,
   "metadata": {},
   "outputs": [],
   "source": [
    "x - y"
   ]
  },
  {
   "cell_type": "code",
   "execution_count": null,
   "metadata": {
    "ExecuteTime": {
     "end_time": "2020-07-10T00:43:50.192880Z",
     "start_time": "2020-07-10T00:43:50.188865Z"
    }
   },
   "outputs": [],
   "source": [
    "y.difference(x)"
   ]
  },
  {
   "cell_type": "code",
   "execution_count": null,
   "metadata": {
    "ExecuteTime": {
     "end_time": "2020-07-10T00:44:02.486819Z",
     "start_time": "2020-07-10T00:44:02.482829Z"
    }
   },
   "outputs": [],
   "source": [
    "y - x"
   ]
  },
  {
   "cell_type": "code",
   "execution_count": null,
   "metadata": {
    "ExecuteTime": {
     "end_time": "2020-07-10T00:44:15.634469Z",
     "start_time": "2020-07-10T00:44:15.629483Z"
    }
   },
   "outputs": [],
   "source": [
    "x.union(y)"
   ]
  },
  {
   "cell_type": "code",
   "execution_count": null,
   "metadata": {
    "ExecuteTime": {
     "end_time": "2020-07-10T00:44:50.502397Z",
     "start_time": "2020-07-10T00:44:50.498409Z"
    }
   },
   "outputs": [],
   "source": [
    "y.symmetric_difference(x)"
   ]
  },
  {
   "cell_type": "code",
   "execution_count": null,
   "metadata": {
    "ExecuteTime": {
     "end_time": "2020-07-10T00:47:18.291003Z",
     "start_time": "2020-07-10T00:47:18.286016Z"
    }
   },
   "outputs": [],
   "source": [
    "# Practical example\n",
    "col_names = ['qtd_cartoes', 'vlr_cartao','qtd_cheques','vlr_cheques']\n",
    "\n",
    "incoming_col_names = ['qtd_cartoes', 'vlr_cartao','qtd_cheques','vlr_cheque']\n",
    "\n",
    "print(f'Missing columns: {set(col_names) - set(incoming_col_names)}')"
   ]
  },
  {
   "cell_type": "code",
   "execution_count": null,
   "metadata": {
    "ExecuteTime": {
     "end_time": "2020-07-10T00:47:42.106276Z",
     "start_time": "2020-07-10T00:47:42.102287Z"
    }
   },
   "outputs": [],
   "source": [
    "print(f'Found columns: {set(incoming_col_names) - set(col_names)}')"
   ]
  },
  {
   "cell_type": "code",
   "execution_count": null,
   "metadata": {
    "ExecuteTime": {
     "end_time": "2020-07-10T00:49:27.824982Z",
     "start_time": "2020-07-10T00:49:27.819995Z"
    }
   },
   "outputs": [],
   "source": [
    "set(col_names) - set(incoming_col_names)"
   ]
  },
  {
   "cell_type": "code",
   "execution_count": 112,
   "metadata": {},
   "outputs": [
    {
     "data": {
      "text/plain": [
       "{1, 2, 3, 4, 5}"
      ]
     },
     "execution_count": 112,
     "metadata": {},
     "output_type": "execute_result"
    }
   ],
   "source": [
    "x.difference(y)"
   ]
  },
  {
   "cell_type": "code",
   "execution_count": null,
   "metadata": {},
   "outputs": [],
   "source": []
  },
  {
   "cell_type": "code",
   "execution_count": null,
   "metadata": {},
   "outputs": [],
   "source": []
  },
  {
   "cell_type": "markdown",
   "metadata": {},
   "source": [
    "---\n",
    "\n",
    "https://medium.com/@diegoalvesteo/5-coisas-que-voc%C3%AA-precisa-saber-sobre-tuplas-no-python-66b11f25b0cd"
   ]
  }
 ],
 "metadata": {
  "kernelspec": {
   "display_name": "Python 3",
   "language": "python",
   "name": "python3"
  },
  "language_info": {
   "codemirror_mode": {
    "name": "ipython",
    "version": 3
   },
   "file_extension": ".py",
   "mimetype": "text/x-python",
   "name": "python",
   "nbconvert_exporter": "python",
   "pygments_lexer": "ipython3",
   "version": "3.8.3"
  },
  "toc": {
   "base_numbering": 1,
   "nav_menu": {},
   "number_sections": true,
   "sideBar": true,
   "skip_h1_title": false,
   "title_cell": "Table of Contents",
   "title_sidebar": "Contents",
   "toc_cell": false,
   "toc_position": {},
   "toc_section_display": true,
   "toc_window_display": false
  }
 },
 "nbformat": 4,
 "nbformat_minor": 2
}
