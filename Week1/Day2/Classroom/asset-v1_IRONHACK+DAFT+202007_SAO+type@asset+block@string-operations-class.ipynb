{
 "cells": [
  {
   "cell_type": "markdown",
   "metadata": {},
   "source": [
    "# Strings in Python"
   ]
  },
  {
   "cell_type": "code",
   "execution_count": 1,
   "metadata": {
    "ExecuteTime": {
     "end_time": "2020-07-14T23:59:58.349449Z",
     "start_time": "2020-07-14T23:59:58.345459Z"
    }
   },
   "outputs": [
    {
     "data": {
      "text/plain": [
       "str"
      ]
     },
     "execution_count": 1,
     "metadata": {},
     "output_type": "execute_result"
    }
   ],
   "source": [
    "type('Hello')"
   ]
  },
  {
   "cell_type": "code",
   "execution_count": 2,
   "metadata": {
    "ExecuteTime": {
     "end_time": "2020-07-14T23:59:58.831738Z",
     "start_time": "2020-07-14T23:59:58.827748Z"
    }
   },
   "outputs": [
    {
     "data": {
      "text/plain": [
       "str"
      ]
     },
     "execution_count": 2,
     "metadata": {},
     "output_type": "execute_result"
    }
   ],
   "source": [
    "type(\"Hello\")"
   ]
  },
  {
   "cell_type": "markdown",
   "metadata": {},
   "source": [
    "## String concatenation\n",
    "\n",
    "- `+` operator"
   ]
  },
  {
   "cell_type": "code",
   "execution_count": 3,
   "metadata": {
    "ExecuteTime": {
     "end_time": "2020-07-15T00:01:10.256082Z",
     "start_time": "2020-07-15T00:01:10.252092Z"
    }
   },
   "outputs": [
    {
     "data": {
      "text/plain": [
       "'Hello_World'"
      ]
     },
     "execution_count": 3,
     "metadata": {},
     "output_type": "execute_result"
    }
   ],
   "source": [
    "'Hello' + '_' + \"World\""
   ]
  },
  {
   "cell_type": "code",
   "execution_count": 4,
   "metadata": {
    "ExecuteTime": {
     "end_time": "2020-07-15T00:01:37.718462Z",
     "start_time": "2020-07-15T00:01:37.715469Z"
    }
   },
   "outputs": [],
   "source": [
    "x = 'Hello'\n",
    "\n",
    "y = \"World\""
   ]
  },
  {
   "cell_type": "code",
   "execution_count": 5,
   "metadata": {
    "ExecuteTime": {
     "end_time": "2020-07-15T00:01:39.682197Z",
     "start_time": "2020-07-15T00:01:39.678206Z"
    }
   },
   "outputs": [
    {
     "data": {
      "text/plain": [
       "'HelloWorld'"
      ]
     },
     "execution_count": 5,
     "metadata": {},
     "output_type": "execute_result"
    }
   ],
   "source": [
    "x + y"
   ]
  },
  {
   "cell_type": "code",
   "execution_count": 9,
   "metadata": {
    "ExecuteTime": {
     "end_time": "2020-07-15T00:02:18.878171Z",
     "start_time": "2020-07-15T00:02:18.875179Z"
    }
   },
   "outputs": [],
   "source": [
    "z = 1"
   ]
  },
  {
   "cell_type": "code",
   "execution_count": 10,
   "metadata": {
    "ExecuteTime": {
     "end_time": "2020-07-15T00:02:26.501666Z",
     "start_time": "2020-07-15T00:02:26.498674Z"
    }
   },
   "outputs": [],
   "source": [
    "z += 1\n",
    "# z = z + 1"
   ]
  },
  {
   "cell_type": "code",
   "execution_count": 11,
   "metadata": {
    "ExecuteTime": {
     "end_time": "2020-07-15T00:02:28.322966Z",
     "start_time": "2020-07-15T00:02:28.318977Z"
    }
   },
   "outputs": [
    {
     "data": {
      "text/plain": [
       "2"
      ]
     },
     "execution_count": 11,
     "metadata": {},
     "output_type": "execute_result"
    }
   ],
   "source": [
    "z"
   ]
  },
  {
   "cell_type": "code",
   "execution_count": 12,
   "metadata": {
    "ExecuteTime": {
     "end_time": "2020-07-15T00:03:18.858104Z",
     "start_time": "2020-07-15T00:03:18.855141Z"
    }
   },
   "outputs": [],
   "source": [
    "x += 'World'"
   ]
  },
  {
   "cell_type": "code",
   "execution_count": 13,
   "metadata": {
    "ExecuteTime": {
     "end_time": "2020-07-15T00:03:30.384342Z",
     "start_time": "2020-07-15T00:03:30.380352Z"
    }
   },
   "outputs": [
    {
     "data": {
      "text/plain": [
       "'HelloWorld'"
      ]
     },
     "execution_count": 13,
     "metadata": {},
     "output_type": "execute_result"
    }
   ],
   "source": [
    "x"
   ]
  },
  {
   "cell_type": "code",
   "execution_count": 16,
   "metadata": {
    "ExecuteTime": {
     "end_time": "2020-06-02T18:48:54.179142Z",
     "start_time": "2020-06-02T18:48:54.175153Z"
    }
   },
   "outputs": [
    {
     "data": {
      "text/plain": [
       "'HelloWorld'"
      ]
     },
     "execution_count": 16,
     "metadata": {},
     "output_type": "execute_result"
    }
   ],
   "source": [
    "x = 'Hello'\n",
    "x += 'World'\n",
    "# x = x + 'World'\n",
    "x"
   ]
  },
  {
   "cell_type": "markdown",
   "metadata": {},
   "source": [
    "Step by step execution of the cell above:\n",
    "\n",
    "```python \n",
    "1. x <- 'Hello' # Hello is assigned to x (x is now an alias to the string 'Hello'\n",
    "\n",
    "2. x += 'World' # The x += syntax expands to x = x +\n",
    "\n",
    "3. x = x + 'World' # The right `x` expands to its alias 'Hello'\n",
    "\n",
    "4. x = 'Hello' + 'World' # The two strings are concatenated\n",
    "\n",
    "5. x <- 'HelloWorld' # 'HelloWorld' is assigned to x (overwriting its previous value)\n",
    "```"
   ]
  },
  {
   "cell_type": "code",
   "execution_count": 17,
   "metadata": {
    "ExecuteTime": {
     "end_time": "2020-07-15T00:06:01.643303Z",
     "start_time": "2020-07-15T00:06:01.640311Z"
    }
   },
   "outputs": [
    {
     "data": {
      "text/plain": [
       "'Hello'"
      ]
     },
     "execution_count": 17,
     "metadata": {},
     "output_type": "execute_result"
    }
   ],
   "source": [
    "\"Hello\""
   ]
  },
  {
   "cell_type": "code",
   "execution_count": 18,
   "metadata": {
    "ExecuteTime": {
     "end_time": "2020-07-15T00:06:25.264232Z",
     "start_time": "2020-07-15T00:06:25.259245Z"
    }
   },
   "outputs": [
    {
     "name": "stdout",
     "output_type": "stream",
     "text": [
      "Hello\n"
     ]
    }
   ],
   "source": [
    "print('Hello')"
   ]
  },
  {
   "cell_type": "markdown",
   "metadata": {},
   "source": [
    "## Multiline strings"
   ]
  },
  {
   "cell_type": "code",
   "execution_count": 22,
   "metadata": {
    "ExecuteTime": {
     "end_time": "2020-07-15T00:15:09.273615Z",
     "start_time": "2020-07-15T00:15:09.269625Z"
    }
   },
   "outputs": [
    {
     "data": {
      "text/plain": [
       "'Andre Ribeiro de \\nBarros Aguiar'"
      ]
     },
     "execution_count": 22,
     "metadata": {},
     "output_type": "execute_result"
    }
   ],
   "source": [
    "'''Andre Ribeiro de \n",
    "Barros Aguiar'''"
   ]
  },
  {
   "cell_type": "code",
   "execution_count": 23,
   "metadata": {
    "ExecuteTime": {
     "end_time": "2020-07-15T00:15:21.277707Z",
     "start_time": "2020-07-15T00:15:21.274716Z"
    }
   },
   "outputs": [
    {
     "name": "stdout",
     "output_type": "stream",
     "text": [
      "Andre Ribeiro de \n",
      "Barros Aguiar\n"
     ]
    }
   ],
   "source": [
    "print('''Andre Ribeiro de \n",
    "Barros Aguiar''')"
   ]
  },
  {
   "cell_type": "code",
   "execution_count": 24,
   "metadata": {
    "ExecuteTime": {
     "end_time": "2020-07-15T00:15:36.395270Z",
     "start_time": "2020-07-15T00:15:36.391281Z"
    }
   },
   "outputs": [
    {
     "data": {
      "text/plain": [
       "'Andre Ribeiro de \\nBarros Aguiar'"
      ]
     },
     "execution_count": 24,
     "metadata": {},
     "output_type": "execute_result"
    }
   ],
   "source": [
    "\"\"\"Andre Ribeiro de \n",
    "Barros Aguiar\"\"\""
   ]
  },
  {
   "cell_type": "markdown",
   "metadata": {},
   "source": [
    "- `\\n` é a representação da quebra de linha (enter)\n",
    "- `\\t` é a representação do TAB"
   ]
  },
  {
   "cell_type": "markdown",
   "metadata": {},
   "source": [
    "# String multiplication"
   ]
  },
  {
   "cell_type": "code",
   "execution_count": 25,
   "metadata": {
    "ExecuteTime": {
     "end_time": "2020-07-15T00:16:22.818291Z",
     "start_time": "2020-07-15T00:16:22.814301Z"
    }
   },
   "outputs": [
    {
     "data": {
      "text/plain": [
       "'HelloWorldHelloWorldHelloWorld'"
      ]
     },
     "execution_count": 25,
     "metadata": {},
     "output_type": "execute_result"
    }
   ],
   "source": [
    "x + x + x"
   ]
  },
  {
   "cell_type": "code",
   "execution_count": 26,
   "metadata": {
    "ExecuteTime": {
     "end_time": "2020-07-15T00:16:36.093492Z",
     "start_time": "2020-07-15T00:16:36.089504Z"
    }
   },
   "outputs": [
    {
     "data": {
      "text/plain": [
       "'HelloWorldHelloWorldHelloWorld'"
      ]
     },
     "execution_count": 26,
     "metadata": {},
     "output_type": "execute_result"
    }
   ],
   "source": [
    "x * 3"
   ]
  },
  {
   "cell_type": "code",
   "execution_count": 27,
   "metadata": {
    "ExecuteTime": {
     "end_time": "2020-07-15T00:18:58.595077Z",
     "start_time": "2020-07-15T00:18:58.591088Z"
    }
   },
   "outputs": [
    {
     "data": {
      "text/plain": [
       "['p3', 'unp3', 'p3', 'unp3']"
      ]
     },
     "execution_count": 27,
     "metadata": {},
     "output_type": "execute_result"
    }
   ],
   "source": [
    "# curiosidade: listas tem o mesmo princípio de concatenação das strings\n",
    "['p3', 'unp3'] + ['p3', 'unp3']"
   ]
  },
  {
   "cell_type": "code",
   "execution_count": 28,
   "metadata": {},
   "outputs": [
    {
     "data": {
      "text/plain": [
       "['p3',\n",
       " 'unp3',\n",
       " 'p3',\n",
       " 'unp3',\n",
       " 'p3',\n",
       " 'unp3',\n",
       " 'p3',\n",
       " 'unp3',\n",
       " 'p3',\n",
       " 'unp3',\n",
       " 'p3',\n",
       " 'unp3',\n",
       " 'p3',\n",
       " 'unp3',\n",
       " 'p3',\n",
       " 'unp3',\n",
       " 'p3',\n",
       " 'unp3',\n",
       " 'p3',\n",
       " 'unp3']"
      ]
     },
     "execution_count": 28,
     "metadata": {},
     "output_type": "execute_result"
    }
   ],
   "source": [
    "['p3', 'unp3'] * 10"
   ]
  },
  {
   "cell_type": "code",
   "execution_count": null,
   "metadata": {
    "ExecuteTime": {
     "end_time": "2020-07-15T00:21:41.864648Z",
     "start_time": "2020-07-15T00:21:41.859661Z"
    }
   },
   "outputs": [],
   "source": [
    "(['p3', 'unp3'] * 10)[4:]"
   ]
  },
  {
   "cell_type": "markdown",
   "metadata": {},
   "source": [
    "------"
   ]
  },
  {
   "cell_type": "markdown",
   "metadata": {},
   "source": [
    "# `Joining` a <u>list of strings</u> into a `single string`"
   ]
  },
  {
   "cell_type": "code",
   "execution_count": 29,
   "metadata": {
    "ExecuteTime": {
     "end_time": "2020-07-15T00:24:09.806405Z",
     "start_time": "2020-07-15T00:24:09.801419Z"
    },
    "scrolled": true
   },
   "outputs": [
    {
     "data": {
      "text/plain": [
       "['Andre', 'Ribeiro', 'de', 'Barros', 'Aguiar']"
      ]
     },
     "execution_count": 29,
     "metadata": {},
     "output_type": "execute_result"
    }
   ],
   "source": [
    "meu_nome = ['Andre','Ribeiro','de', 'Barros','Aguiar']\n",
    "meu_nome"
   ]
  },
  {
   "cell_type": "code",
   "execution_count": 30,
   "metadata": {
    "ExecuteTime": {
     "end_time": "2020-07-15T00:24:43.323351Z",
     "start_time": "2020-07-15T00:24:43.320382Z"
    }
   },
   "outputs": [],
   "source": [
    "# meu_nome[0] + ' ' + meu_nome[1] + ..."
   ]
  },
  {
   "cell_type": "code",
   "execution_count": 31,
   "metadata": {
    "ExecuteTime": {
     "end_time": "2020-07-15T00:25:17.726579Z",
     "start_time": "2020-07-15T00:25:17.723559Z"
    }
   },
   "outputs": [],
   "source": [
    "espaco = ' '"
   ]
  },
  {
   "cell_type": "code",
   "execution_count": 32,
   "metadata": {},
   "outputs": [
    {
     "data": {
      "text/plain": [
       "str"
      ]
     },
     "execution_count": 32,
     "metadata": {},
     "output_type": "execute_result"
    }
   ],
   "source": [
    "type(espaco)"
   ]
  },
  {
   "cell_type": "code",
   "execution_count": 35,
   "metadata": {},
   "outputs": [
    {
     "data": {
      "text/plain": [
       "'Andre Ribeiro de Barros Aguiar'"
      ]
     },
     "execution_count": 35,
     "metadata": {},
     "output_type": "execute_result"
    }
   ],
   "source": [
    "espaco.join(meu_nome)"
   ]
  },
  {
   "cell_type": "code",
   "execution_count": null,
   "metadata": {
    "ExecuteTime": {
     "end_time": "2020-07-15T00:26:41.939469Z",
     "start_time": "2020-07-15T00:26:41.933485Z"
    }
   },
   "outputs": [],
   "source": [
    "espaco.join(meu_nome)"
   ]
  },
  {
   "cell_type": "code",
   "execution_count": 36,
   "metadata": {
    "ExecuteTime": {
     "end_time": "2020-07-15T00:27:13.482058Z",
     "start_time": "2020-07-15T00:27:13.478067Z"
    }
   },
   "outputs": [
    {
     "data": {
      "text/plain": [
       "'Andre Ribeiro de Barros Aguiar'"
      ]
     },
     "execution_count": 36,
     "metadata": {},
     "output_type": "execute_result"
    }
   ],
   "source": [
    "' '.join(meu_nome)"
   ]
  },
  {
   "cell_type": "code",
   "execution_count": 37,
   "metadata": {
    "ExecuteTime": {
     "end_time": "2020-07-15T00:27:42.282585Z",
     "start_time": "2020-07-15T00:27:42.279566Z"
    }
   },
   "outputs": [
    {
     "data": {
      "text/plain": [
       "'Andre-Ribeiro-de-Barros-Aguiar'"
      ]
     },
     "execution_count": 37,
     "metadata": {},
     "output_type": "execute_result"
    }
   ],
   "source": [
    "'-'.join(meu_nome)"
   ]
  },
  {
   "cell_type": "code",
   "execution_count": 38,
   "metadata": {
    "ExecuteTime": {
     "end_time": "2020-07-15T00:29:13.002383Z",
     "start_time": "2020-07-15T00:29:12.998395Z"
    }
   },
   "outputs": [
    {
     "data": {
      "text/plain": [
       "'Andre*****Ribeiro*****de*****Barros*****Aguiar'"
      ]
     },
     "execution_count": 38,
     "metadata": {},
     "output_type": "execute_result"
    }
   ],
   "source": [
    "'*****'.join(meu_nome)"
   ]
  },
  {
   "cell_type": "code",
   "execution_count": 39,
   "metadata": {
    "ExecuteTime": {
     "end_time": "2020-07-15T00:29:32.552897Z",
     "start_time": "2020-07-15T00:29:32.547910Z"
    }
   },
   "outputs": [
    {
     "data": {
      "text/plain": [
       "'Andre->Ribeiro->de->Barros->Aguiar'"
      ]
     },
     "execution_count": 39,
     "metadata": {},
     "output_type": "execute_result"
    }
   ],
   "source": [
    "'->'.join(['Andre','Ribeiro','de', 'Barros','Aguiar'])"
   ]
  },
  {
   "cell_type": "code",
   "execution_count": 40,
   "metadata": {
    "ExecuteTime": {
     "end_time": "2020-07-15T00:30:13.652436Z",
     "start_time": "2020-07-15T00:30:13.648477Z"
    }
   },
   "outputs": [
    {
     "data": {
      "text/plain": [
       "'Happy-Puppies'"
      ]
     },
     "execution_count": 40,
     "metadata": {},
     "output_type": "execute_result"
    }
   ],
   "source": [
    "x = 'Happy'\n",
    "y = 'Puppies'\n",
    "\n",
    "'-'.join([x, y])"
   ]
  },
  {
   "cell_type": "markdown",
   "metadata": {},
   "source": [
    "# Special characters\n",
    "\n",
    "- the `newline` character representation: `\\n`\n",
    "- the `tab` character representation: `\\t`"
   ]
  },
  {
   "cell_type": "code",
   "execution_count": 41,
   "metadata": {
    "ExecuteTime": {
     "end_time": "2020-07-15T00:30:27.325772Z",
     "start_time": "2020-07-15T00:30:27.322780Z"
    }
   },
   "outputs": [
    {
     "name": "stdout",
     "output_type": "stream",
     "text": [
      "\n",
      "\n",
      "\n",
      "\n"
     ]
    }
   ],
   "source": [
    "print('\\n'* 3)"
   ]
  },
  {
   "cell_type": "code",
   "execution_count": 42,
   "metadata": {},
   "outputs": [
    {
     "name": "stdout",
     "output_type": "stream",
     "text": [
      "\t\t\t\t\tAndre\n"
     ]
    }
   ],
   "source": [
    "print('\\t' * 5 + 'Andre')"
   ]
  },
  {
   "cell_type": "markdown",
   "metadata": {},
   "source": [
    "# Practical example"
   ]
  },
  {
   "cell_type": "code",
   "execution_count": 43,
   "metadata": {
    "ExecuteTime": {
     "end_time": "2020-07-15T00:32:04.325145Z",
     "start_time": "2020-07-15T00:32:04.322152Z"
    }
   },
   "outputs": [],
   "source": [
    "queries = []\n",
    "\n",
    "tables = ['table_A', 'table_B', 'table_C', \n",
    "          'table_D','table_E', 'table_F',\n",
    "          'table_G','table_H', 'table_I']"
   ]
  },
  {
   "cell_type": "code",
   "execution_count": 44,
   "metadata": {
    "ExecuteTime": {
     "end_time": "2020-07-15T00:32:05.391210Z",
     "start_time": "2020-07-15T00:32:05.387222Z"
    }
   },
   "outputs": [
    {
     "data": {
      "text/plain": [
       "['table_A',\n",
       " 'table_B',\n",
       " 'table_C',\n",
       " 'table_D',\n",
       " 'table_E',\n",
       " 'table_F',\n",
       " 'table_G',\n",
       " 'table_H',\n",
       " 'table_I']"
      ]
     },
     "execution_count": 44,
     "metadata": {},
     "output_type": "execute_result"
    }
   ],
   "source": [
    "tables"
   ]
  },
  {
   "cell_type": "code",
   "execution_count": 45,
   "metadata": {},
   "outputs": [
    {
     "data": {
      "text/plain": [
       "'\\nSELECT * FROM table_A\\nUNION\\nSELECT * FROM table_B\\nUNION \\nSELECT * FROM table_C ...\\n'"
      ]
     },
     "execution_count": 45,
     "metadata": {},
     "output_type": "execute_result"
    }
   ],
   "source": [
    "'''\n",
    "SELECT * FROM table_A\n",
    "UNION\n",
    "SELECT * FROM table_B\n",
    "UNION \n",
    "SELECT * FROM table_C ...\n",
    "'''"
   ]
  },
  {
   "cell_type": "code",
   "execution_count": 46,
   "metadata": {
    "ExecuteTime": {
     "end_time": "2020-07-15T00:33:10.526974Z",
     "start_time": "2020-07-15T00:33:10.522984Z"
    }
   },
   "outputs": [
    {
     "name": "stdout",
     "output_type": "stream",
     "text": [
      "SELECT * FROM table_A\n",
      "UNION\n",
      "SELECT * FROM table_B\n",
      "UNION\n",
      "SELECT * FROM table_C\n",
      "UNION\n",
      "SELECT * FROM table_D\n",
      "UNION\n",
      "SELECT * FROM table_E\n",
      "UNION\n",
      "SELECT * FROM table_F\n",
      "UNION\n",
      "SELECT * FROM table_G\n",
      "UNION\n",
      "SELECT * FROM table_H\n",
      "UNION\n",
      "SELECT * FROM table_I\n",
      "UNION\n"
     ]
    }
   ],
   "source": [
    "for each_table in tables:\n",
    "    print(f'''SELECT * FROM {each_table}\\nUNION''')"
   ]
  },
  {
   "cell_type": "code",
   "execution_count": 47,
   "metadata": {
    "ExecuteTime": {
     "end_time": "2020-07-15T00:34:11.778074Z",
     "start_time": "2020-07-15T00:34:11.773087Z"
    }
   },
   "outputs": [
    {
     "data": {
      "text/plain": [
       "['SELECT * FROM table_A',\n",
       " 'SELECT * FROM table_B',\n",
       " 'SELECT * FROM table_C',\n",
       " 'SELECT * FROM table_D',\n",
       " 'SELECT * FROM table_E',\n",
       " 'SELECT * FROM table_F',\n",
       " 'SELECT * FROM table_G',\n",
       " 'SELECT * FROM table_H',\n",
       " 'SELECT * FROM table_I']"
      ]
     },
     "execution_count": 47,
     "metadata": {},
     "output_type": "execute_result"
    }
   ],
   "source": [
    "queries = []\n",
    "\n",
    "for each_table in tables:\n",
    "    queries.append(f'SELECT * FROM {each_table}')\n",
    "queries"
   ]
  },
  {
   "cell_type": "code",
   "execution_count": 48,
   "metadata": {
    "ExecuteTime": {
     "end_time": "2020-07-15T00:35:11.933953Z",
     "start_time": "2020-07-15T00:35:11.930962Z"
    }
   },
   "outputs": [
    {
     "name": "stdout",
     "output_type": "stream",
     "text": [
      "SELECT * FROM table_A\n",
      "UNION\n",
      "SELECT * FROM table_B\n",
      "UNION\n",
      "SELECT * FROM table_C\n",
      "UNION\n",
      "SELECT * FROM table_D\n",
      "UNION\n",
      "SELECT * FROM table_E\n",
      "UNION\n",
      "SELECT * FROM table_F\n",
      "UNION\n",
      "SELECT * FROM table_G\n",
      "UNION\n",
      "SELECT * FROM table_H\n",
      "UNION\n",
      "SELECT * FROM table_I\n"
     ]
    }
   ],
   "source": [
    "print('\\nUNION\\n'.join(queries))"
   ]
  },
  {
   "cell_type": "code",
   "execution_count": 49,
   "metadata": {
    "ExecuteTime": {
     "end_time": "2020-07-15T00:35:56.821897Z",
     "start_time": "2020-07-15T00:35:56.818933Z"
    }
   },
   "outputs": [
    {
     "name": "stdout",
     "output_type": "stream",
     "text": [
      "SELECT * FROM table_A\n",
      "UNION\n",
      "SELECT * FROM table_B\n",
      "UNION\n",
      "SELECT * FROM table_C\n",
      "UNION\n",
      "SELECT * FROM table_D\n",
      "UNION\n",
      "SELECT * FROM table_E\n",
      "UNION\n",
      "SELECT * FROM table_F\n",
      "UNION\n",
      "SELECT * FROM table_G\n",
      "UNION\n",
      "SELECT * FROM table_H\n",
      "UNION\n",
      "SELECT * FROM table_I\n"
     ]
    }
   ],
   "source": [
    "final_query = '\\nUNION\\n'.join(queries)\n",
    "print(final_query)"
   ]
  },
  {
   "cell_type": "markdown",
   "metadata": {},
   "source": [
    "# Measuring the size of strings"
   ]
  },
  {
   "cell_type": "code",
   "execution_count": 50,
   "metadata": {
    "ExecuteTime": {
     "end_time": "2020-07-15T00:37:36.365424Z",
     "start_time": "2020-07-15T00:37:36.359440Z"
    }
   },
   "outputs": [
    {
     "data": {
      "text/plain": [
       "9"
      ]
     },
     "execution_count": 50,
     "metadata": {},
     "output_type": "execute_result"
    }
   ],
   "source": [
    "len([1,2,3,4,5,98,1,3,54])"
   ]
  },
  {
   "cell_type": "code",
   "execution_count": 51,
   "metadata": {
    "ExecuteTime": {
     "end_time": "2020-07-15T00:37:47.311614Z",
     "start_time": "2020-07-15T00:37:47.307624Z"
    }
   },
   "outputs": [
    {
     "data": {
      "text/plain": [
       "5"
      ]
     },
     "execution_count": 51,
     "metadata": {},
     "output_type": "execute_result"
    }
   ],
   "source": [
    "# len of string\n",
    "len('Andre')"
   ]
  },
  {
   "cell_type": "code",
   "execution_count": 54,
   "metadata": {
    "ExecuteTime": {
     "end_time": "2020-07-15T00:38:34.328377Z",
     "start_time": "2020-07-15T00:38:34.325357Z"
    }
   },
   "outputs": [
    {
     "data": {
      "text/plain": [
       "7"
      ]
     },
     "execution_count": 54,
     "metadata": {},
     "output_type": "execute_result"
    }
   ],
   "source": [
    "len('''Andre \n",
    "''')"
   ]
  },
  {
   "cell_type": "code",
   "execution_count": null,
   "metadata": {
    "ExecuteTime": {
     "end_time": "2020-07-15T00:39:25.310209Z",
     "start_time": "2020-07-15T00:39:25.306220Z"
    }
   },
   "outputs": [],
   "source": [
    "# strings are also `iterables`\n",
    "\n",
    "for each_character in 'Andre Aguiar':\n",
    "    print(each_character)"
   ]
  },
  {
   "cell_type": "code",
   "execution_count": 55,
   "metadata": {
    "ExecuteTime": {
     "end_time": "2020-07-15T00:39:51.393249Z",
     "start_time": "2020-07-15T00:39:51.389243Z"
    }
   },
   "outputs": [
    {
     "data": {
      "text/plain": [
       "['A', 'n', 'd', 'r', 'e', ' ', 'A', 'g', 'u', 'i', 'a', 'r']"
      ]
     },
     "execution_count": 55,
     "metadata": {},
     "output_type": "execute_result"
    }
   ],
   "source": [
    "# if I convert a string to a list, I can see what they really are under the hood\n",
    "list('Andre Aguiar')"
   ]
  },
  {
   "cell_type": "code",
   "execution_count": 56,
   "metadata": {
    "ExecuteTime": {
     "end_time": "2020-07-15T00:40:40.195278Z",
     "start_time": "2020-07-15T00:40:40.189273Z"
    }
   },
   "outputs": [
    {
     "data": {
      "text/plain": [
       "True"
      ]
     },
     "execution_count": 56,
     "metadata": {},
     "output_type": "execute_result"
    }
   ],
   "source": [
    "5 in [1, 2, 3, 4, 4, 5, 7, 8, 9]"
   ]
  },
  {
   "cell_type": "code",
   "execution_count": 57,
   "metadata": {
    "ExecuteTime": {
     "end_time": "2020-07-15T00:42:25.719908Z",
     "start_time": "2020-07-15T00:42:25.715919Z"
    }
   },
   "outputs": [
    {
     "data": {
      "text/plain": [
       "True"
      ]
     },
     "execution_count": 57,
     "metadata": {},
     "output_type": "execute_result"
    }
   ],
   "source": [
    "'Andre' in 'Andre Ribeiro de Barros Aguiar'"
   ]
  },
  {
   "cell_type": "code",
   "execution_count": 58,
   "metadata": {
    "ExecuteTime": {
     "end_time": "2020-07-15T00:41:49.435088Z",
     "start_time": "2020-07-15T00:41:49.430101Z"
    }
   },
   "outputs": [
    {
     "data": {
      "text/plain": [
       "False"
      ]
     },
     "execution_count": 58,
     "metadata": {},
     "output_type": "execute_result"
    }
   ],
   "source": [
    "'Andre Aguiar' in 'Andre Ribeiro de Barros Aguiar'"
   ]
  },
  {
   "cell_type": "markdown",
   "metadata": {},
   "source": [
    "# Word slicing"
   ]
  },
  {
   "cell_type": "code",
   "execution_count": 59,
   "metadata": {
    "ExecuteTime": {
     "end_time": "2020-07-15T01:07:36.515052Z",
     "start_time": "2020-07-15T01:07:36.511064Z"
    }
   },
   "outputs": [
    {
     "data": {
      "text/plain": [
       "[88, 5, 5, 55576]"
      ]
     },
     "execution_count": 59,
     "metadata": {},
     "output_type": "execute_result"
    }
   ],
   "source": [
    "# slicings in lists\n",
    "x = [1,2,3,566,88,5,5,55576]\n",
    "x[4:]"
   ]
  },
  {
   "cell_type": "code",
   "execution_count": 60,
   "metadata": {
    "ExecuteTime": {
     "end_time": "2020-07-15T01:08:04.657947Z",
     "start_time": "2020-07-15T01:08:04.654954Z"
    }
   },
   "outputs": [],
   "source": [
    "word = 'automobile'"
   ]
  },
  {
   "cell_type": "code",
   "execution_count": 61,
   "metadata": {
    "ExecuteTime": {
     "end_time": "2020-07-15T01:08:10.426843Z",
     "start_time": "2020-07-15T01:08:10.423823Z"
    }
   },
   "outputs": [
    {
     "data": {
      "text/plain": [
       "'a'"
      ]
     },
     "execution_count": 61,
     "metadata": {},
     "output_type": "execute_result"
    }
   ],
   "source": [
    "word[0]"
   ]
  },
  {
   "cell_type": "code",
   "execution_count": 62,
   "metadata": {
    "ExecuteTime": {
     "end_time": "2020-07-15T01:08:17.971002Z",
     "start_time": "2020-07-15T01:08:17.967041Z"
    }
   },
   "outputs": [
    {
     "data": {
      "text/plain": [
       "'u'"
      ]
     },
     "execution_count": 62,
     "metadata": {},
     "output_type": "execute_result"
    }
   ],
   "source": [
    "word[1]"
   ]
  },
  {
   "cell_type": "code",
   "execution_count": 63,
   "metadata": {
    "ExecuteTime": {
     "end_time": "2020-07-15T01:08:23.067066Z",
     "start_time": "2020-07-15T01:08:23.063077Z"
    }
   },
   "outputs": [
    {
     "data": {
      "text/plain": [
       "'e'"
      ]
     },
     "execution_count": 63,
     "metadata": {},
     "output_type": "execute_result"
    }
   ],
   "source": [
    "word[-1]"
   ]
  },
  {
   "cell_type": "code",
   "execution_count": 64,
   "metadata": {
    "ExecuteTime": {
     "end_time": "2020-07-15T01:12:52.511476Z",
     "start_time": "2020-07-15T01:12:52.507460Z"
    }
   },
   "outputs": [
    {
     "data": {
      "text/plain": [
       "'autom'"
      ]
     },
     "execution_count": 64,
     "metadata": {},
     "output_type": "execute_result"
    }
   ],
   "source": [
    "# [0, 5) : 0,1,2,3,4\n",
    "word[:5]"
   ]
  },
  {
   "cell_type": "code",
   "execution_count": 65,
   "metadata": {
    "ExecuteTime": {
     "end_time": "2020-07-15T01:13:05.507394Z",
     "start_time": "2020-07-15T01:13:05.503405Z"
    }
   },
   "outputs": [
    {
     "data": {
      "text/plain": [
       "'mobile'"
      ]
     },
     "execution_count": 65,
     "metadata": {},
     "output_type": "execute_result"
    }
   ],
   "source": [
    "word[4:]"
   ]
  },
  {
   "cell_type": "markdown",
   "metadata": {},
   "source": [
    "# Splitting a string\n",
    "\n",
    "Convert a `string` into a `list`, using a `token` as a separator."
   ]
  },
  {
   "cell_type": "code",
   "execution_count": 66,
   "metadata": {
    "ExecuteTime": {
     "end_time": "2020-07-15T01:16:59.641269Z",
     "start_time": "2020-07-15T01:16:59.638278Z"
    }
   },
   "outputs": [],
   "source": [
    "my_string = 'They ate the - mystery chicken meat. It tasted like          chicken'"
   ]
  },
  {
   "cell_type": "code",
   "execution_count": 67,
   "metadata": {},
   "outputs": [
    {
     "data": {
      "text/plain": [
       "['They',\n",
       " 'ate',\n",
       " 'the',\n",
       " '-',\n",
       " 'mystery',\n",
       " 'chicken',\n",
       " 'meat.',\n",
       " 'It',\n",
       " 'tasted',\n",
       " 'like',\n",
       " 'chicken']"
      ]
     },
     "execution_count": 67,
     "metadata": {},
     "output_type": "execute_result"
    }
   ],
   "source": [
    "my_string.split()"
   ]
  },
  {
   "cell_type": "code",
   "execution_count": 68,
   "metadata": {
    "ExecuteTime": {
     "end_time": "2020-07-15T01:19:26.778747Z",
     "start_time": "2020-07-15T01:19:26.774784Z"
    },
    "scrolled": true
   },
   "outputs": [
    {
     "data": {
      "text/plain": [
       "['They',\n",
       " 'ate',\n",
       " 'the',\n",
       " '-',\n",
       " 'mystery',\n",
       " 'chicken',\n",
       " 'meat.',\n",
       " 'It',\n",
       " 'tasted',\n",
       " 'like',\n",
       " '',\n",
       " '',\n",
       " '',\n",
       " '',\n",
       " '',\n",
       " '',\n",
       " '',\n",
       " '',\n",
       " '',\n",
       " 'chicken']"
      ]
     },
     "execution_count": 68,
     "metadata": {},
     "output_type": "execute_result"
    }
   ],
   "source": [
    "# when sep=' ': DO NOT discard empty strings\n",
    "my_string.split(sep=' ')"
   ]
  },
  {
   "cell_type": "code",
   "execution_count": 69,
   "metadata": {
    "ExecuteTime": {
     "end_time": "2020-07-15T01:19:58.220522Z",
     "start_time": "2020-07-15T01:19:58.216565Z"
    }
   },
   "outputs": [
    {
     "data": {
      "text/plain": [
       "['They ate the - mystery chicken meat', ' It tasted like          chicken']"
      ]
     },
     "execution_count": 69,
     "metadata": {},
     "output_type": "execute_result"
    }
   ],
   "source": [
    "my_string.split('.')"
   ]
  },
  {
   "cell_type": "code",
   "execution_count": 70,
   "metadata": {
    "ExecuteTime": {
     "end_time": "2020-07-15T01:20:16.785879Z",
     "start_time": "2020-07-15T01:20:16.781889Z"
    }
   },
   "outputs": [
    {
     "data": {
      "text/plain": [
       "['They ate the ', ' mystery chicken meat. It tasted like          chicken']"
      ]
     },
     "execution_count": 70,
     "metadata": {},
     "output_type": "execute_result"
    }
   ],
   "source": [
    "my_string.split(sep='-')"
   ]
  },
  {
   "cell_type": "markdown",
   "metadata": {},
   "source": [
    "# Startswith vs Endswith"
   ]
  },
  {
   "cell_type": "code",
   "execution_count": 72,
   "metadata": {
    "ExecuteTime": {
     "end_time": "2020-07-15T01:30:19.164561Z",
     "start_time": "2020-07-15T01:30:19.161537Z"
    }
   },
   "outputs": [],
   "source": [
    "my_string = 'There is no business like show business.'"
   ]
  },
  {
   "cell_type": "code",
   "execution_count": 73,
   "metadata": {
    "ExecuteTime": {
     "end_time": "2020-07-15T01:30:39.092202Z",
     "start_time": "2020-07-15T01:30:39.088187Z"
    }
   },
   "outputs": [
    {
     "data": {
      "text/plain": [
       "True"
      ]
     },
     "execution_count": 73,
     "metadata": {},
     "output_type": "execute_result"
    }
   ],
   "source": [
    "my_string.startswith('There')"
   ]
  },
  {
   "cell_type": "code",
   "execution_count": 74,
   "metadata": {
    "ExecuteTime": {
     "end_time": "2020-07-15T01:30:49.922923Z",
     "start_time": "2020-07-15T01:30:49.917937Z"
    }
   },
   "outputs": [
    {
     "data": {
      "text/plain": [
       "False"
      ]
     },
     "execution_count": 74,
     "metadata": {},
     "output_type": "execute_result"
    }
   ],
   "source": [
    "my_string.endswith('s')"
   ]
  },
  {
   "cell_type": "code",
   "execution_count": 75,
   "metadata": {
    "ExecuteTime": {
     "end_time": "2020-07-15T01:30:53.132068Z",
     "start_time": "2020-07-15T01:30:53.129076Z"
    }
   },
   "outputs": [
    {
     "data": {
      "text/plain": [
       "True"
      ]
     },
     "execution_count": 75,
     "metadata": {},
     "output_type": "execute_result"
    }
   ],
   "source": [
    "my_string.endswith('.')"
   ]
  },
  {
   "cell_type": "code",
   "execution_count": 76,
   "metadata": {
    "ExecuteTime": {
     "end_time": "2020-07-15T01:31:20.038629Z",
     "start_time": "2020-07-15T01:31:20.034666Z"
    }
   },
   "outputs": [
    {
     "data": {
      "text/plain": [
       "True"
      ]
     },
     "execution_count": 76,
     "metadata": {},
     "output_type": "execute_result"
    }
   ],
   "source": [
    "my_string.startswith('T')"
   ]
  },
  {
   "cell_type": "code",
   "execution_count": 77,
   "metadata": {},
   "outputs": [],
   "source": [
    "variables = ['qtd_casa','qtd_boleto','qtd_titulos','vlr_boleto','vlr_titulos','vlr_cartao']"
   ]
  },
  {
   "cell_type": "code",
   "execution_count": 81,
   "metadata": {},
   "outputs": [
    {
     "name": "stdout",
     "output_type": "stream",
     "text": [
      "qtd_casa\n",
      "qtd_boleto\n",
      "qtd_titulos\n"
     ]
    }
   ],
   "source": [
    "# how to print only the ones that starts with 'qtd'?\n",
    "for v in variables:\n",
    "    print(v) if v.startswith('qtd') else False"
   ]
  },
  {
   "cell_type": "markdown",
   "metadata": {},
   "source": [
    "# More string methods. "
   ]
  },
  {
   "cell_type": "code",
   "execution_count": 82,
   "metadata": {
    "ExecuteTime": {
     "end_time": "2020-07-15T01:32:52.189053Z",
     "start_time": "2020-07-15T01:32:52.186060Z"
    }
   },
   "outputs": [],
   "source": [
    "c = 'shE HaD a maRveLoUs aSsoRtmeNt of PUPPETS.'"
   ]
  },
  {
   "cell_type": "code",
   "execution_count": 83,
   "metadata": {
    "ExecuteTime": {
     "end_time": "2020-07-15T01:33:00.388750Z",
     "start_time": "2020-07-15T01:33:00.384759Z"
    }
   },
   "outputs": [
    {
     "data": {
      "text/plain": [
       "'She had a marvelous assortment of puppets.'"
      ]
     },
     "execution_count": 83,
     "metadata": {},
     "output_type": "execute_result"
    }
   ],
   "source": [
    "c.capitalize()"
   ]
  },
  {
   "cell_type": "code",
   "execution_count": 84,
   "metadata": {
    "ExecuteTime": {
     "end_time": "2020-07-15T01:33:32.707465Z",
     "start_time": "2020-07-15T01:33:32.703476Z"
    }
   },
   "outputs": [
    {
     "data": {
      "text/plain": [
       "'she had a marvelous assortment of puppets.'"
      ]
     },
     "execution_count": 84,
     "metadata": {},
     "output_type": "execute_result"
    }
   ],
   "source": [
    "c.lower()"
   ]
  },
  {
   "cell_type": "code",
   "execution_count": 85,
   "metadata": {
    "ExecuteTime": {
     "end_time": "2020-07-15T01:33:38.155808Z",
     "start_time": "2020-07-15T01:33:38.150827Z"
    }
   },
   "outputs": [
    {
     "data": {
      "text/plain": [
       "'SHE HAD A MARVELOUS ASSORTMENT OF PUPPETS.'"
      ]
     },
     "execution_count": 85,
     "metadata": {},
     "output_type": "execute_result"
    }
   ],
   "source": [
    "c.upper()"
   ]
  },
  {
   "cell_type": "code",
   "execution_count": 86,
   "metadata": {
    "ExecuteTime": {
     "end_time": "2020-06-02T19:40:21.360154Z",
     "start_time": "2020-06-02T19:40:21.356166Z"
    }
   },
   "outputs": [
    {
     "data": {
      "text/plain": [
       "'She Had A Marvelous Assortment Of Puppets.'"
      ]
     },
     "execution_count": 86,
     "metadata": {},
     "output_type": "execute_result"
    }
   ],
   "source": [
    "c.title()"
   ]
  },
  {
   "cell_type": "markdown",
   "metadata": {},
   "source": [
    "# Strip"
   ]
  },
  {
   "cell_type": "code",
   "execution_count": 87,
   "metadata": {
    "ExecuteTime": {
     "end_time": "2020-07-15T01:37:10.841905Z",
     "start_time": "2020-07-15T01:37:10.838910Z"
    }
   },
   "outputs": [],
   "source": [
    "d = ' I have a tendency to leave trailing spaces.     '"
   ]
  },
  {
   "cell_type": "code",
   "execution_count": 88,
   "metadata": {
    "ExecuteTime": {
     "end_time": "2020-07-15T01:37:11.634923Z",
     "start_time": "2020-07-15T01:37:11.630933Z"
    }
   },
   "outputs": [
    {
     "data": {
      "text/plain": [
       "'I have a tendency to leave trailing spaces.'"
      ]
     },
     "execution_count": 88,
     "metadata": {},
     "output_type": "execute_result"
    }
   ],
   "source": [
    "# strip default, lstrip and rstrip\n",
    "\n",
    "d.strip()"
   ]
  },
  {
   "cell_type": "code",
   "execution_count": 89,
   "metadata": {
    "ExecuteTime": {
     "end_time": "2020-07-15T01:37:30.166497Z",
     "start_time": "2020-07-15T01:37:30.162507Z"
    }
   },
   "outputs": [
    {
     "data": {
      "text/plain": [
       "'I have a tendency to leave trailing spaces.     '"
      ]
     },
     "execution_count": 89,
     "metadata": {},
     "output_type": "execute_result"
    }
   ],
   "source": [
    "d.lstrip()"
   ]
  },
  {
   "cell_type": "code",
   "execution_count": 90,
   "metadata": {
    "ExecuteTime": {
     "end_time": "2020-07-15T01:37:42.653939Z",
     "start_time": "2020-07-15T01:37:42.649950Z"
    }
   },
   "outputs": [
    {
     "data": {
      "text/plain": [
       "' I have a tendency to leave trailing spaces.'"
      ]
     },
     "execution_count": 90,
     "metadata": {},
     "output_type": "execute_result"
    }
   ],
   "source": [
    "d.rstrip()"
   ]
  },
  {
   "cell_type": "markdown",
   "metadata": {},
   "source": [
    "# Replacing values"
   ]
  },
  {
   "cell_type": "code",
   "execution_count": 91,
   "metadata": {
    "ExecuteTime": {
     "end_time": "2020-07-15T01:39:01.002185Z",
     "start_time": "2020-07-15T01:39:00.998220Z"
    }
   },
   "outputs": [
    {
     "data": {
      "text/plain": [
       "'I thought the movie was wonderful wonderful Wonderful!'"
      ]
     },
     "execution_count": 91,
     "metadata": {},
     "output_type": "execute_result"
    }
   ],
   "source": [
    "e = 'I thought the movie was wonderful wonderful Wonderful!'\n",
    "\n",
    "e"
   ]
  },
  {
   "cell_type": "code",
   "execution_count": 95,
   "metadata": {
    "ExecuteTime": {
     "end_time": "2020-07-15T01:38:11.140190Z",
     "start_time": "2020-07-15T01:38:11.136233Z"
    }
   },
   "outputs": [
    {
     "data": {
      "text/plain": [
       "'I thought the film was wonderful wonderful Wonderful!'"
      ]
     },
     "execution_count": 95,
     "metadata": {},
     "output_type": "execute_result"
    }
   ],
   "source": [
    "\n",
    "e.replace('movie', 'film')"
   ]
  },
  {
   "cell_type": "code",
   "execution_count": 96,
   "metadata": {
    "ExecuteTime": {
     "end_time": "2020-07-15T01:39:05.006073Z",
     "start_time": "2020-07-15T01:39:05.002057Z"
    }
   },
   "outputs": [
    {
     "data": {
      "text/plain": [
       "'I thought the movie was awful awful Wonderful!'"
      ]
     },
     "execution_count": 96,
     "metadata": {},
     "output_type": "execute_result"
    }
   ],
   "source": [
    "e.replace('wonderful','awful')"
   ]
  },
  {
   "cell_type": "code",
   "execution_count": 100,
   "metadata": {
    "ExecuteTime": {
     "end_time": "2020-07-15T01:38:50.486215Z",
     "start_time": "2020-07-15T01:38:50.482226Z"
    }
   },
   "outputs": [
    {
     "data": {
      "text/plain": [
       "'I thought the movie was wonderful wonderful Wonderful!'"
      ]
     },
     "execution_count": 100,
     "metadata": {},
     "output_type": "execute_result"
    }
   ],
   "source": [
    "e.replace('wonderful','awful', 0)"
   ]
  },
  {
   "cell_type": "code",
   "execution_count": null,
   "metadata": {},
   "outputs": [],
   "source": []
  }
 ],
 "metadata": {
  "kernelspec": {
   "display_name": "Python 3",
   "language": "python",
   "name": "python3"
  },
  "language_info": {
   "codemirror_mode": {
    "name": "ipython",
    "version": 3
   },
   "file_extension": ".py",
   "mimetype": "text/x-python",
   "name": "python",
   "nbconvert_exporter": "python",
   "pygments_lexer": "ipython3",
   "version": "3.8.3"
  },
  "toc": {
   "base_numbering": 1,
   "nav_menu": {},
   "number_sections": true,
   "sideBar": true,
   "skip_h1_title": false,
   "title_cell": "Table of Contents",
   "title_sidebar": "Contents",
   "toc_cell": false,
   "toc_position": {},
   "toc_section_display": true,
   "toc_window_display": false
  }
 },
 "nbformat": 4,
 "nbformat_minor": 2
}
