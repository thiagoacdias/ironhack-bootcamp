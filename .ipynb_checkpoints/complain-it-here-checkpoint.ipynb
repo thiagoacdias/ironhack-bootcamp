{
 "cells": [
  {
   "cell_type": "code",
   "execution_count": 2,
   "metadata": {
    "ExecuteTime": {
     "end_time": "2020-09-14T19:56:44.856002Z",
     "start_time": "2020-09-14T19:56:44.851016Z"
    }
   },
   "outputs": [],
   "source": [
    "# !pip install pandas\n",
    "# !pip install selenium\n",
    "# !pip install tqdm\n",
    "# !pip install multiprocess\n"
   ]
  },
  {
   "cell_type": "markdown",
   "metadata": {
    "ExecuteTime": {
     "end_time": "2020-09-15T12:25:39.449239Z",
     "start_time": "2020-09-15T12:15:02.662Z"
    }
   },
   "source": [
    "# Gathering data"
   ]
  },
  {
   "cell_type": "markdown",
   "metadata": {
    "ExecuteTime": {
     "end_time": "2020-09-15T12:25:39.435276Z",
     "start_time": "2020-09-15T12:14:30.803Z"
    }
   },
   "source": [
    "### Importing relevant packages"
   ]
  },
  {
   "cell_type": "code",
   "execution_count": null,
   "metadata": {
    "ExecuteTime": {
     "end_time": "2020-09-15T12:25:39.446248Z",
     "start_time": "2020-09-15T12:14:40.596Z"
    }
   },
   "outputs": [],
   "source": [
    "import pandas as pd\n",
    "import time\n",
    "\n",
    "from multiprocess import Pool, cpu_count\n",
    "from random import random\n",
    "from selenium import webdriver\n",
    "from selenium.webdriver.chrome.options import Options\n",
    "from tqdm.auto import tqdm"
   ]
  },
  {
   "cell_type": "markdown",
   "metadata": {
    "ExecuteTime": {
     "start_time": "2020-09-15T12:14:30.803Z"
    }
   },
   "source": [
    "### Gathering all the links that we will scrape from RA"
   ]
  },
  {
   "cell_type": "code",
   "execution_count": 2,
   "metadata": {
    "ExecuteTime": {
     "end_time": "2020-09-13T13:34:45.740109Z",
     "start_time": "2020-09-13T01:24:42.458921Z"
    }
   },
   "outputs": [
    {
     "data": {
      "application/vnd.jupyter.widget-view+json": {
       "model_id": "2b7c8b4981dd4d6e9187887a57015acc",
       "version_major": 2,
       "version_minor": 0
      },
      "text/plain": [
       "HBox(children=(FloatProgress(value=0.0, max=3000.0), HTML(value='')))"
      ]
     },
     "metadata": {},
     "output_type": "display_data"
    },
    {
     "name": "stdout",
     "output_type": "stream",
     "text": [
      "\n"
     ]
    }
   ],
   "source": [
    "chrome_options = Options()  \n",
    "chrome_options.headless = True\n",
    "driver = webdriver.Chrome(options=chrome_options)\n",
    "\n",
    "all_links = []\n",
    "from tqdm.auto import tqdm\n",
    "for page in tqdm(range(2001,5001)):\n",
    "    url = f'https://www.reclameaqui.com.br/empresa/pagseguro/lista-reclamacoes/?pagina={page}'\n",
    "    driver.get(url)\n",
    "    all_links += [complain.get_attribute('href') for complain in driver.find_elements_by_class_name('link-complain-id-complains')]"
   ]
  },
  {
   "cell_type": "code",
   "execution_count": 6,
   "metadata": {
    "ExecuteTime": {
     "end_time": "2020-09-14T14:25:39.975986Z",
     "start_time": "2020-09-14T14:25:39.630608Z"
    }
   },
   "outputs": [
    {
     "ename": "NameError",
     "evalue": "name 'all_links' is not defined",
     "output_type": "error",
     "traceback": [
      "\u001b[1;31m---------------------------------------------------------------------------\u001b[0m",
      "\u001b[1;31mNameError\u001b[0m                                 Traceback (most recent call last)",
      "\u001b[1;32m<ipython-input-6-f1b5fe650c0d>\u001b[0m in \u001b[0;36m<module>\u001b[1;34m\u001b[0m\n\u001b[0;32m      1\u001b[0m \u001b[1;32mwith\u001b[0m \u001b[0mopen\u001b[0m\u001b[1;33m(\u001b[0m\u001b[1;34m'30-40-50k.txt'\u001b[0m\u001b[1;33m,\u001b[0m \u001b[1;34m'w'\u001b[0m\u001b[1;33m)\u001b[0m \u001b[1;32mas\u001b[0m \u001b[0mfilehandle\u001b[0m\u001b[1;33m:\u001b[0m\u001b[1;33m\u001b[0m\u001b[1;33m\u001b[0m\u001b[0m\n\u001b[1;32m----> 2\u001b[1;33m     \u001b[1;32mfor\u001b[0m \u001b[0mlistitem\u001b[0m \u001b[1;32min\u001b[0m \u001b[0mall_links\u001b[0m\u001b[1;33m:\u001b[0m\u001b[1;33m\u001b[0m\u001b[1;33m\u001b[0m\u001b[0m\n\u001b[0m\u001b[0;32m      3\u001b[0m         \u001b[0mfilehandle\u001b[0m\u001b[1;33m.\u001b[0m\u001b[0mwrite\u001b[0m\u001b[1;33m(\u001b[0m\u001b[1;34m'%s\\n'\u001b[0m \u001b[1;33m%\u001b[0m \u001b[0mlistitem\u001b[0m\u001b[1;33m)\u001b[0m\u001b[1;33m\u001b[0m\u001b[1;33m\u001b[0m\u001b[0m\n",
      "\u001b[1;31mNameError\u001b[0m: name 'all_links' is not defined"
     ]
    }
   ],
   "source": [
    "with open('30-40-50k.txt', 'w') as filehandle:\n",
    "    for listitem in all_links:\n",
    "        filehandle.write('%s\\n' % listitem)"
   ]
  },
  {
   "cell_type": "markdown",
   "metadata": {
    "ExecuteTime": {
     "start_time": "2020-09-15T12:14:30.803Z"
    }
   },
   "source": [
    "### Consolidating all the urls gathered from the step above"
   ]
  },
  {
   "cell_type": "code",
   "execution_count": 9,
   "metadata": {
    "ExecuteTime": {
     "end_time": "2020-09-15T11:56:55.098901Z",
     "start_time": "2020-09-15T11:56:55.012104Z"
    }
   },
   "outputs": [
    {
     "data": {
      "text/plain": [
       "49283"
      ]
     },
     "execution_count": 9,
     "metadata": {},
     "output_type": "execute_result"
    }
   ],
   "source": [
    "content_list = []\n",
    "\n",
    "file_list = ['first10k.txt', '10-20k.txt', '30-40-50k.txt']\n",
    "for file in file_list:\n",
    "    my_file = open(file, \"r\")\n",
    "    content = my_file.read()\n",
    "    content_list += content.split(\"\\n\")\n",
    "len(content_list)        "
   ]
  },
  {
   "cell_type": "markdown",
   "metadata": {
    "ExecuteTime": {
     "start_time": "2020-09-15T12:14:30.803Z"
    }
   },
   "source": [
    "### Gathering relevant data (title, status, etc.) from each url"
   ]
  },
  {
   "cell_type": "code",
   "execution_count": null,
   "metadata": {
    "ExecuteTime": {
     "start_time": "2020-09-15T12:44:57.843Z"
    }
   },
   "outputs": [
    {
     "data": {
      "application/vnd.jupyter.widget-view+json": {
       "model_id": "d7dbd6480a414aa999e862bc5ea62c89",
       "version_major": 2,
       "version_minor": 0
      },
      "text/plain": [
       "HBox(children=(FloatProgress(value=0.0, max=5440.0), HTML(value='')))"
      ]
     },
     "metadata": {},
     "output_type": "display_data"
    },
    {
     "name": "stdout",
     "output_type": "stream",
     "text": [
      "ID 10401 deu ruim\n",
      "ID 12350 deu ruim\n"
     ]
    }
   ],
   "source": [
    "chrome_options = Options()\n",
    "chrome_options.headless= True\n",
    "driver = webdriver.Chrome(options = chrome_options)\n",
    "\n",
    "urls = content_list[22320:25001]\n",
    "counta = 12320\n",
    "df = pd.DataFrame(columns = ['id', 'caption', 'details', 'status', 'complaint'])\n",
    "troubled_links = []\n",
    "good_links = []\n",
    "\n",
    "for url in tqdm(urls):\n",
    "#     print(url)\n",
    "    try:\n",
    "        driver.get(url)\n",
    "    except:\n",
    "        pass\n",
    "    counta +=1\n",
    "    time.sleep(random()+1)\n",
    "    try:\n",
    "        good_links.append({'id' : [counta],\n",
    "         'caption' : [driver.find_element_by_xpath(\n",
    "            '//*[@id=\"complain-detail\"]/div/div[1]/div[2]/div/div[1]/div[2]/div[1]/h1').text],\n",
    "         'details': [driver.find_element_by_xpath(\n",
    "            '//*[@id=\"complain-detail\"]/div/div[1]/div[2]/div/div[1]/div[2]/div[1]/ul[1]').text],\n",
    "         'status' : [driver.find_element_by_xpath(\n",
    "            '//*[@id=\"complain-detail\"]/div/div[1]/div[2]/div/div[1]/div[2]/div[3]/span[2]/strong').text],\n",
    "         'complaint' : [driver.find_element_by_xpath(\n",
    "            '//*[@id=\"complain-detail\"]/div/div[1]/div[2]/div/div[2]/p').text]})\n",
    "#         df = pd.concat([df_load, df])\n",
    "    except:\n",
    "        print(f'ID {counta} deu ruim')\n",
    "        troubled_links.append(url)\n",
    "        pass\n",
    "    \n",
    "    if (counta) % 40 == 0:\n",
    "        df = pd.DataFrame(good_links)\n",
    "        df.to_excel('./backup/backup_' + str(counta) + '.xlsx')\n",
    "        good_links = []\n",
    "        driver.close()\n",
    "        chrome_options = Options()\n",
    "        chrome_options.headless= True\n",
    "        driver = webdriver.Chrome(options = chrome_options)\n",
    "\n",
    "driver.close()\n"
   ]
  },
  {
   "cell_type": "code",
   "execution_count": 4,
   "metadata": {
    "ExecuteTime": {
     "end_time": "2020-09-13T21:53:22.205566Z",
     "start_time": "2020-09-13T21:53:22.190603Z"
    }
   },
   "outputs": [
    {
     "data": {
      "text/html": [
       "<div>\n",
       "<style scoped>\n",
       "    .dataframe tbody tr th:only-of-type {\n",
       "        vertical-align: middle;\n",
       "    }\n",
       "\n",
       "    .dataframe tbody tr th {\n",
       "        vertical-align: top;\n",
       "    }\n",
       "\n",
       "    .dataframe thead th {\n",
       "        text-align: right;\n",
       "    }\n",
       "</style>\n",
       "<table border=\"1\" class=\"dataframe\">\n",
       "  <thead>\n",
       "    <tr style=\"text-align: right;\">\n",
       "      <th></th>\n",
       "      <th>id</th>\n",
       "      <th>caption</th>\n",
       "      <th>details</th>\n",
       "      <th>status</th>\n",
       "      <th>complaint</th>\n",
       "    </tr>\n",
       "  </thead>\n",
       "  <tbody>\n",
       "  </tbody>\n",
       "</table>\n",
       "</div>"
      ],
      "text/plain": [
       "Empty DataFrame\n",
       "Columns: [id, caption, details, status, complaint]\n",
       "Index: []"
      ]
     },
     "execution_count": 4,
     "metadata": {},
     "output_type": "execute_result"
    }
   ],
   "source": [
    "df.reset_index(drop=True)"
   ]
  }
 ],
 "metadata": {
  "kernelspec": {
   "display_name": "Python 3",
   "language": "python",
   "name": "python3"
  },
  "language_info": {
   "codemirror_mode": {
    "name": "ipython",
    "version": 3
   },
   "file_extension": ".py",
   "mimetype": "text/x-python",
   "name": "python",
   "nbconvert_exporter": "python",
   "pygments_lexer": "ipython3",
   "version": "3.8.3"
  },
  "toc": {
   "base_numbering": 1,
   "nav_menu": {},
   "number_sections": true,
   "sideBar": true,
   "skip_h1_title": false,
   "title_cell": "Table of Contents",
   "title_sidebar": "Contents",
   "toc_cell": false,
   "toc_position": {},
   "toc_section_display": true,
   "toc_window_display": false
  }
 },
 "nbformat": 4,
 "nbformat_minor": 4
}
