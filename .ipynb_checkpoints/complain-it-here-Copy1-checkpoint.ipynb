{
 "cells": [
  {
   "cell_type": "code",
   "execution_count": 2,
   "metadata": {
    "ExecuteTime": {
     "end_time": "2020-09-14T19:56:44.856002Z",
     "start_time": "2020-09-14T19:56:44.851016Z"
    }
   },
   "outputs": [],
   "source": [
    "# !pip install pandas\n",
    "# !pip install selenium\n",
    "# !pip install tqdm\n",
    "# !pip install multiprocess\n"
   ]
  },
  {
   "cell_type": "markdown",
   "metadata": {
    "ExecuteTime": {
     "start_time": "2020-09-15T12:15:02.662Z"
    }
   },
   "source": [
    "# Gathering data"
   ]
  },
  {
   "cell_type": "markdown",
   "metadata": {
    "ExecuteTime": {
     "start_time": "2020-09-15T12:14:30.803Z"
    }
   },
   "source": [
    "### Importing relevant packages"
   ]
  },
  {
   "cell_type": "code",
   "execution_count": null,
   "metadata": {
    "ExecuteTime": {
     "start_time": "2020-09-15T12:14:40.596Z"
    }
   },
   "outputs": [],
   "source": [
    "import pandas as pd\n",
    "import time\n",
    "\n",
    "from multiprocess import Pool, cpu_count\n",
    "from random import random\n",
    "from selenium import webdriver\n",
    "from selenium.webdriver.chrome.options import Options\n",
    "from tqdm.auto import tqdm"
   ]
  },
  {
   "cell_type": "markdown",
   "metadata": {
    "ExecuteTime": {
     "start_time": "2020-09-15T12:14:30.803Z"
    }
   },
   "source": [
    "### Gathering all the links that we will scrape from RA"
   ]
  },
  {
   "cell_type": "code",
   "execution_count": 2,
   "metadata": {
    "ExecuteTime": {
     "end_time": "2020-09-13T13:34:45.740109Z",
     "start_time": "2020-09-13T01:24:42.458921Z"
    }
   },
   "outputs": [
    {
     "data": {
      "application/vnd.jupyter.widget-view+json": {
       "model_id": "2b7c8b4981dd4d6e9187887a57015acc",
       "version_major": 2,
       "version_minor": 0
      },
      "text/plain": [
       "HBox(children=(FloatProgress(value=0.0, max=3000.0), HTML(value='')))"
      ]
     },
     "metadata": {},
     "output_type": "display_data"
    },
    {
     "name": "stdout",
     "output_type": "stream",
     "text": [
      "\n"
     ]
    }
   ],
   "source": [
    "chrome_options = Options()  \n",
    "chrome_options.headless = True\n",
    "driver = webdriver.Chrome(options=chrome_options)\n",
    "\n",
    "all_links = []\n",
    "from tqdm.auto import tqdm\n",
    "for page in tqdm(range(2001,5001)):\n",
    "    url = f'https://www.reclameaqui.com.br/empresa/pagseguro/lista-reclamacoes/?pagina={page}'\n",
    "    driver.get(url)\n",
    "    all_links += [complain.get_attribute('href') for complain in driver.find_elements_by_class_name('link-complain-id-complains')]"
   ]
  },
  {
   "cell_type": "code",
   "execution_count": 6,
   "metadata": {
    "ExecuteTime": {
     "end_time": "2020-09-14T14:25:39.975986Z",
     "start_time": "2020-09-14T14:25:39.630608Z"
    }
   },
   "outputs": [
    {
     "ename": "NameError",
     "evalue": "name 'all_links' is not defined",
     "output_type": "error",
     "traceback": [
      "\u001b[1;31m---------------------------------------------------------------------------\u001b[0m",
      "\u001b[1;31mNameError\u001b[0m                                 Traceback (most recent call last)",
      "\u001b[1;32m<ipython-input-6-f1b5fe650c0d>\u001b[0m in \u001b[0;36m<module>\u001b[1;34m\u001b[0m\n\u001b[0;32m      1\u001b[0m \u001b[1;32mwith\u001b[0m \u001b[0mopen\u001b[0m\u001b[1;33m(\u001b[0m\u001b[1;34m'30-40-50k.txt'\u001b[0m\u001b[1;33m,\u001b[0m \u001b[1;34m'w'\u001b[0m\u001b[1;33m)\u001b[0m \u001b[1;32mas\u001b[0m \u001b[0mfilehandle\u001b[0m\u001b[1;33m:\u001b[0m\u001b[1;33m\u001b[0m\u001b[1;33m\u001b[0m\u001b[0m\n\u001b[1;32m----> 2\u001b[1;33m     \u001b[1;32mfor\u001b[0m \u001b[0mlistitem\u001b[0m \u001b[1;32min\u001b[0m \u001b[0mall_links\u001b[0m\u001b[1;33m:\u001b[0m\u001b[1;33m\u001b[0m\u001b[1;33m\u001b[0m\u001b[0m\n\u001b[0m\u001b[0;32m      3\u001b[0m         \u001b[0mfilehandle\u001b[0m\u001b[1;33m.\u001b[0m\u001b[0mwrite\u001b[0m\u001b[1;33m(\u001b[0m\u001b[1;34m'%s\\n'\u001b[0m \u001b[1;33m%\u001b[0m \u001b[0mlistitem\u001b[0m\u001b[1;33m)\u001b[0m\u001b[1;33m\u001b[0m\u001b[1;33m\u001b[0m\u001b[0m\n",
      "\u001b[1;31mNameError\u001b[0m: name 'all_links' is not defined"
     ]
    }
   ],
   "source": [
    "with open('30-40-50k.txt', 'w') as filehandle:\n",
    "    for listitem in all_links:\n",
    "        filehandle.write('%s\\n' % listitem)"
   ]
  },
  {
   "cell_type": "markdown",
   "metadata": {
    "ExecuteTime": {
     "start_time": "2020-09-15T12:14:30.803Z"
    }
   },
   "source": [
    "### Consolidating all the urls gathered from the step above"
   ]
  },
  {
   "cell_type": "code",
   "execution_count": 9,
   "metadata": {
    "ExecuteTime": {
     "end_time": "2020-09-15T11:56:55.098901Z",
     "start_time": "2020-09-15T11:56:55.012104Z"
    }
   },
   "outputs": [
    {
     "data": {
      "text/plain": [
       "49283"
      ]
     },
     "execution_count": 9,
     "metadata": {},
     "output_type": "execute_result"
    }
   ],
   "source": [
    "content_list = []\n",
    "\n",
    "file_list = ['first10k.txt', '10-20k.txt', '30-40-50k.txt']\n",
    "for file in file_list:\n",
    "    my_file = open(file, \"r\")\n",
    "    content = my_file.read()\n",
    "    content_list += content.split(\"\\n\")\n",
    "len(content_list)        "
   ]
  },
  {
   "cell_type": "markdown",
   "metadata": {
    "ExecuteTime": {
     "start_time": "2020-09-15T12:14:30.803Z"
    }
   },
   "source": [
    "### Gathering relevant data (title, status, etc.) from each url"
   ]
  },
  {
   "cell_type": "code",
   "execution_count": null,
   "metadata": {
    "ExecuteTime": {
     "start_time": "2020-09-15T12:11:27.850Z"
    }
   },
   "outputs": [
    {
     "data": {
      "application/vnd.jupyter.widget-view+json": {
       "model_id": "238273a519924ec1a3d8c70ce5f60e64",
       "version_major": 2,
       "version_minor": 0
      },
      "text/plain": [
       "HBox(children=(FloatProgress(value=0.0, max=5560.0), HTML(value='')))"
      ]
     },
     "metadata": {},
     "output_type": "display_data"
    },
    {
     "name": "stdout",
     "output_type": "stream",
     "text": [
      "\n",
      "ID 3881 deu ruim\n",
      "https://www.reclameaqui.com.br/pagseguro/documentacao-recusada_kaRQPIKfxs2874-w/\n",
      "https://www.reclameaqui.com.br/pagseguro/esta-bloqueando-meu-saldo-nao-posso-fazer-nada-com-o-dinheiro-que-depositei_b4WnZ1I6lh1quYoB/\n",
      "https://www.reclameaqui.com.br/pagseguro/sms-spam_V-Rub93PDkbIdA_b/\n",
      "https://www.reclameaqui.com.br/pagseguro/preciso-falar-urgente-com-o-pagseguro_3lq6JqXbRw4FRapl/\n",
      "https://www.reclameaqui.com.br/pagseguro/cobranca-indevida_X_nuXSmvBnG082lT/\n",
      "https://www.reclameaqui.com.br/pagseguro/boleto-falso-pagseguro_Ry_fIK6In_y09vh-/\n",
      "https://www.reclameaqui.com.br/pagseguro/cartao-modo-invalido_XssHJT8H0nZzZEIs/\n",
      "https://www.reclameaqui.com.br/pagseguro/devolva-meu-dinheiro_RXIyWqPculNd2WbU/\n",
      "https://www.reclameaqui.com.br/pagseguro/erro-no-pagamento-da-minha-maquina-s826_hShgfpOcAF9OBIjk/\n",
      "https://www.reclameaqui.com.br/pagseguro/conta-bloqueada_YGeNoUJKbzB-9eLA/\n",
      "https://www.reclameaqui.com.br/pagseguro/bloqueio-saldo_xYE8VVpitZZw3h1l/\n",
      "https://www.reclameaqui.com.br/pagseguro/comprei-e-nao-vou-receber_p9FTg-2QXPjv0hNb/\n",
      "https://www.reclameaqui.com.br/pagseguro/conta-bloqueada_U8TxU-uVwXYKcOqz/\n",
      "https://www.reclameaqui.com.br/pagseguro/hacker_35EWq8GXgIf4NNZ8/\n",
      "https://www.reclameaqui.com.br/pagseguro/titulo_t9KtWLxD4LTj9wGj/\n",
      "https://www.reclameaqui.com.br/pagseguro/moderninha-com-defeito_Hp4Nee8bIMC_XRxS/\n",
      "https://www.reclameaqui.com.br/pagseguro/saldo-bloqueado_oCaSAFpGvAK6Qyhx/\n",
      "https://www.reclameaqui.com.br/pagseguro/fiz-uma-compra-com-boleto-da-pagseguro-e-o-vendedor-nao-enviouacompra_3icSI7gk26-lVXB5/\n",
      "https://www.reclameaqui.com.br/pagseguro/propaganda-enganosa_g1gI-kiUiMUigLvL/\n",
      "https://www.reclameaqui.com.br/pagseguro/minha-conta-foi-bloqueada-com-o-dinheiro-do-auxilio-emergencial_ev3dL8-0sHMb_hYA/\n",
      "https://www.reclameaqui.com.br/pagseguro/menor-de-idade-com-dinheiro-na-conta_OuRwGOGniYUxsn_K/\n",
      "https://www.reclameaqui.com.br/pagseguro/ativar-para-vender_s7fuq2KCjO-as_8K/\n",
      "https://www.reclameaqui.com.br/pagseguro/bloqueio-de-conta_anbrKlJS37XipukI/\n",
      "https://www.reclameaqui.com.br/pagseguro/cade-meu-dinheiro_K1QMaRV8_NCF-ZqG/\n",
      "https://www.reclameaqui.com.br/pagseguro/auxilio-emergencial_rjf6NTn4xsXwljuj/\n",
      "https://www.reclameaqui.com.br/pagseguro/limite-de-cartao-de-credito-visa_v1_rP-gfbbHj4d1a/\n",
      "https://www.reclameaqui.com.br/pagseguro/recebi-um-boleto-falso-em-nome-do-santander_ealyOev-mVF0W2qL/\n",
      "https://www.reclameaqui.com.br/pagseguro/2-via-de-nota-fiscal_ak6WhHplJf0tMB21/\n",
      "https://www.reclameaqui.com.br/pagseguro/veio-faltando-o-cartao_TFHCfVq2zUePb3Kz/\n",
      "https://www.reclameaqui.com.br/pagseguro/modernimha-x-nao-habilitou-plano-smart_FO2zicypENk4NwCY/\n",
      "https://www.reclameaqui.com.br/pagseguro/criacao-de-conta-sem-minha-autorizacao_scysC5JKzoUZhi0i/\n",
      "https://www.reclameaqui.com.br/pagseguro/saldo-bloqueado_Zs1E-7p-OxxS_8Sx/\n",
      "https://www.reclameaqui.com.br/pagseguro/cancelaram-meu-cartao-em-meio-a-pandemia_0sAJY0yK59Dn9rRb/\n",
      "https://www.reclameaqui.com.br/pagseguro/pagamento-duplicado_Oq_UfnYHbcGmB2gP/\n",
      "https://www.reclameaqui.com.br/pagseguro/meu-dinheiro-do-boleto-pago-sumiu_oeMlDp1ZClEUjFi1/\n",
      "https://www.reclameaqui.com.br/pagseguro/promocao-de-indicacao_lK_4dTWA4Lw--gdC/\n",
      "https://www.reclameaqui.com.br/pagseguro/maquininha-com-defeito_3SdSPoUECCHZm3rZ/\n",
      "https://www.reclameaqui.com.br/pagseguro/cobranca-sem-autorizacao_1RpG9NyyZBrWYJKd/\n",
      "https://www.reclameaqui.com.br/pagseguro/falta-de-suporte-em-dis_NdBSjWk_nzlHbn_y/\n",
      "https://www.reclameaqui.com.br/pagseguro/cadastro-da-maquininha_0CALxUIPhitPZs6N/\n",
      "https://www.reclameaqui.com.br/pagseguro/estorno-nao-reembolsado_RlTy8TCK9-5xieOd/\n",
      "https://www.reclameaqui.com.br/pagseguro/dinheiro-sumiu_KjY7WSgnXqHOLbK4/\n",
      "https://www.reclameaqui.com.br/pagseguro/nao-recebi-meu-produto_vOwACaWBQPZrjLe5/\n",
      "https://www.reclameaqui.com.br/pagseguro/bloqueio-do-saldo_yfVvO4KUURnOaxrv/\n",
      "https://www.reclameaqui.com.br/pagseguro/maquina-nao-funciona_0_PIvymg6tWNILJI/\n",
      "https://www.reclameaqui.com.br/pagseguro/falta-de-respeito-e-indignacao_VNg9MVHYAKvJXlvG/\n",
      "https://www.reclameaqui.com.br/pagseguro/dinheiro-bloqueado_xsZvnQua64gPYiH7/\n",
      "https://www.reclameaqui.com.br/pagseguro/nao-consigo-o-codigo-de-ativacao-da-maquininha-desde-quando-comprei-ela_MXWWb8k6Cd7QVG1l/\n",
      "https://www.reclameaqui.com.br/pagseguro/dinheiro-a-receber_nsy2EGZ_062RzS5m/\n",
      "https://www.reclameaqui.com.br/pagseguro/tiraram-o-dinheiro-do-meu-auxilio-emergencial_kc85Jvpm7FuTQwUU/\n",
      "https://www.reclameaqui.com.br/pagseguro/bloqueio-de-conta_0qi9vO8r74rRpQ65/\n",
      "https://www.reclameaqui.com.br/pagseguro/aguardando-credito-em-conta-por-compra-desconhecida_wHNS3fZS5T4n-wx3/\n",
      "https://www.reclameaqui.com.br/pagseguro/cartao-de-credito_aErADFMmpfaKOfW-/\n",
      "https://www.reclameaqui.com.br/pagseguro/nao-devolver-meu-estrornos-bloquieado_nDgrUjA-YcLYCit6/\n",
      "https://www.reclameaqui.com.br/pagseguro/saque-nao-autorizado-saldo-pendente_L4SRVRQKD0MoDwFF/\n",
      "https://www.reclameaqui.com.br/pagseguro/indique-e-ganhe_UWdB4oqIy3WnHfpE/\n",
      "https://www.reclameaqui.com.br/pagseguro/simulador-da-pagseguro-da-um-valor_E4IgX7ml9XzUJXb2/\n",
      "https://www.reclameaqui.com.br/pagseguro/nao-consigo-atendimento-para-editar-dados-cadastrais_aNaaW-lX6rBH1uE2/\n",
      "https://www.reclameaqui.com.br/pagseguro/taxa-sendo-cobrada-nao-relatada-no-painel_ZiW12gZ38zLF_6GG/\n",
      "https://www.reclameaqui.com.br/pagseguro/compra-de-mascara_-XW9GVYihvtKGlDH/\n",
      "https://www.reclameaqui.com.br/pagseguro/mudanca-na-identificacao-na-fatura-do-cartao_qm22Ih2wQcoPBB-K/\n",
      "https://www.reclameaqui.com.br/pagseguro/nao-consigo-habilitar-meu-celular_gOzm1AMgD5Dd_xUE/\n",
      "https://www.reclameaqui.com.br/pagseguro/nao-recebi-o-email-de-confirmacao_HNxWrjg87XqoX0iZ/\n",
      "https://www.reclameaqui.com.br/pagseguro/dinheiro-que-a-pag-seguro-nao-me-devolveu_kjpkPoZRunUyRKZo/\n",
      "https://www.reclameaqui.com.br/pagseguro/taxas-altas_0cD12YYvN_-yjyf7/\n",
      "https://www.reclameaqui.com.br/pagseguro/nao-estao-me-ajudando_csCz33IK9TfvXL3s/\n",
      "https://www.reclameaqui.com.br/pagseguro/ativacao-pag-seguro_0RR4S0JGLWXlUOzX/\n",
      "https://www.reclameaqui.com.br/pagseguro/dinheiro-broqueado-erro-cadastral_AwuEqSZlxHWDv_1j/\n",
      "https://www.reclameaqui.com.br/pagseguro/bloquearam-minha-conta-com-meu-dinheiro_al-6trtpObq8SCHk/\n",
      "https://www.reclameaqui.com.br/pagseguro/leonardo-lourenco-guedes_ExEgoSQo67Zxj6ib/\n",
      "https://www.reclameaqui.com.br/pagseguro/geisa-dias_SlXx_8DZwROqZMcp/\n",
      "https://www.reclameaqui.com.br/pagseguro/estou-sendo-pelo-pagseguro_xVsgThAGJbPxBGrA/\n",
      "https://www.reclameaqui.com.br/pagseguro/excesso-de-prazo-em-dis_0Otl40NUW1SsPWpO/\n",
      "https://www.reclameaqui.com.br/pagseguro/pagamentos-online_ZPy1JOweYvdUCtK2/\n",
      "https://www.reclameaqui.com.br/pagseguro/transferencia-que-nao-caiu_wBiQPpp2jVMB07qk/\n",
      "https://www.reclameaqui.com.br/pagseguro/envio-abusivo-de-sms_o75g1dAVa8hdF0Vc/\n",
      "https://www.reclameaqui.com.br/pagseguro/moderacao-nao-serve-de-nada_AbEWzGVBzeSjTfm5/\n",
      "https://www.reclameaqui.com.br/pagseguro/nao-querem-devolver-meu-dinheiro-da-maquininha_pgxz4GlweTgxluZ0/\n",
      "https://www.reclameaqui.com.br/pagseguro/saldo-bloqueado_KSzlNjZojDjzvOp4/\n",
      "https://www.reclameaqui.com.br/pagseguro/meu-e-mail-de-confirmacao-nao-entra__jxT79JvoyDAKsQY/\n",
      "https://www.reclameaqui.com.br/pagseguro/minha-minizinha-nao-esta-ligando_qJhvQYTRQTjQfT6H/\n",
      "ID 3962 deu ruim\n",
      "https://www.reclameaqui.com.br/pagseguro/prazo-expirado_5aiC1AaNiwlQpeap/\n",
      "https://www.reclameaqui.com.br/pagseguro/conta-bloqueada-sem-motivo_xgwtQgIMEYgop5kv/\n",
      "https://www.reclameaqui.com.br/pagseguro/bloqueio-de-saldo_pmGfRS6Q-wu6rmKt/\n",
      "https://www.reclameaqui.com.br/pagseguro/demora-na-habilitacao-dos-doscumentos_BidDGa6sMELz4wFt/\n",
      "https://www.reclameaqui.com.br/pagseguro/conta-bloqueada_ufttJ6KYkD-AXwKi/\n",
      "https://www.reclameaqui.com.br/pagseguro/alteracao-de-dados-cnpj_TQiarF0Jwk_A5Mik/\n",
      "https://www.reclameaqui.com.br/pagseguro/exijo-meu-dinheiro-pagbank-pagseguro_nm7iROiBaAkvIhA1/\n",
      "https://www.reclameaqui.com.br/pagseguro/troca-de-e-mail-sumico-dos-cartoes_36oyFoARvjLfYBcZ/\n",
      "https://www.reclameaqui.com.br/pagseguro/fiz-pagamen-em-duplicidade_SMqq6UiD6qMIVg3P/\n",
      "https://www.reclameaqui.com.br/pagseguro/erro-de-cadastro_1hbcTWNlBVaiQ09w/\n",
      "https://www.reclameaqui.com.br/pagseguro/10008-saldo-bloqueado_XKb5kvXY7IY_lx81/\n",
      "https://www.reclameaqui.com.br/pagseguro/saldo-bloqueado_hABIqftLfAaRG2m7/\n",
      "https://www.reclameaqui.com.br/pagseguro/pagseguro-saldo-bloqueado_KPufheSQmv0goSax/\n"
     ]
    },
    {
     "name": "stdout",
     "output_type": "stream",
     "text": [
      "https://www.reclameaqui.com.br/pagseguro/desrespeito-com-o-consumidor_sdgCQXFX3whilZQx/\n",
      "https://www.reclameaqui.com.br/pagseguro/jonatan-inacio_69xWhgkeAMJvRD4k/\n",
      "https://www.reclameaqui.com.br/pagseguro/promocao-nao-aplicada_TSc_oLgChsEwBwI4/\n",
      "https://www.reclameaqui.com.br/pagseguro/transferi-um-valor-para-outra-conta-bancaria-onde-eu-nao-sou-titular_o3c_6zCPqpcC3rZ8/\n",
      "https://www.reclameaqui.com.br/pagseguro/auxilio-emergencial-transferencia_TILfEhnxhfyCkIiB/\n",
      "https://www.reclameaqui.com.br/pagseguro/bloqueio-de-saldo__FkX6xGMVDzuAHyW/\n",
      "https://www.reclameaqui.com.br/pagseguro/propaganda-enganosa_qJldDRnc5XNx09r_/\n",
      "https://www.reclameaqui.com.br/pagseguro/sumiram-com-meu-dinheiro_d1hiGAlWG8ubY69N/\n",
      "https://www.reclameaqui.com.br/pagseguro/nao-consigo-trocar-meu-numero__VVMDc-JJmDOKURk/\n",
      "https://www.reclameaqui.com.br/pagseguro/compra-nao-realizada-e-dinheiro-nao-devolvido_1sZMuoV2KfGvpgot/\n",
      "https://www.reclameaqui.com.br/pagseguro/boleto_DouO7CT6RUmcHCej/\n",
      "https://www.reclameaqui.com.br/pagseguro/mensagens-de-sms_nIm_FxonoLLlkonf/\n",
      "https://www.reclameaqui.com.br/pagseguro/pagamento-aprovado-por-boleto-porem-caiu-na-conta_gVm1VHhyvGvmETNb/\n",
      "https://www.reclameaqui.com.br/pagseguro/dinheiro-transferido-para-a-conta-digital_tQxrmyQrLLvBIbCV/\n",
      "https://www.reclameaqui.com.br/pagseguro/adicao-de-fundos_KQhMstULDPYH8oaV/\n",
      "https://www.reclameaqui.com.br/pagseguro/pagamento-do-boleto-nao-caiu-na-conta_UUvzV4lWVixtYSsF/\n",
      "https://www.reclameaqui.com.br/pagseguro/deposito-por-boleto-nao-caiu-na-conta_n0Xn55SraXIMCBtO/\n",
      "https://www.reclameaqui.com.br/pagseguro/deposito-na-carteira-mais-nao-caiu-pagbank_ZM8WbVow7lgH2XV1/\n",
      "https://www.reclameaqui.com.br/pagseguro/saldo-de-adicao-de-dinheiro-nao-caiu-no-meu-app-do-pagseguro_JKRF4nn1TBtDnO8k/\n",
      "https://www.reclameaqui.com.br/pagseguro/o-pague-seguro-esta-com-meu-dinheiro_itcsUEInTmKOndX-/\n",
      "https://www.reclameaqui.com.br/pagseguro/nao-consigo-abrir-o-chat-pelo-app-e-cartao-clonado_jVuOwzncmxkgn5bT/\n",
      "https://www.reclameaqui.com.br/pagseguro/leitor-com-chip-que-nao-funciona_NXYirBB1KZXnuw3q/\n",
      "https://www.reclameaqui.com.br/pagseguro/propaganda-enganosa_FbECTjg1hb0_osa2/\n",
      "https://www.reclameaqui.com.br/pagseguro/pagamento-negado-valor-nao-extornado_T8jJNYQfNkMa0g97/\n",
      "https://www.reclameaqui.com.br/pagseguro/regularizacao-do-cadastro-no-pag-seguro_QRnMPP46uwgOq-Gn/\n",
      "https://www.reclameaqui.com.br/pagseguro/saldo-bloqueado_A4hqUuM0ghSYR3pB/\n",
      "https://www.reclameaqui.com.br/pagseguro/saldo-bloqueado_XuntPuoVJPMBrAH6/\n",
      "https://www.reclameaqui.com.br/pagseguro/debitaram-da-minha-conta-pagseguro-o-valor-de-74-99-uma-transacao-em-nome_KvETUHJNDrGTBG74/\n",
      "https://www.reclameaqui.com.br/pagseguro/pagamento-cancelado_VzScbDxXcHZJDvN4/\n",
      "https://www.reclameaqui.com.br/pagseguro/adicionei-dinheiro-no-pagbank-pelo-boleto-e-ainda-nao-recebi_47qtFK6IwAWiqU4q/\n",
      "https://www.reclameaqui.com.br/pagseguro/cartao-pagbank_AlbAJkxImVqKPq1c/\n",
      "https://www.reclameaqui.com.br/pagseguro/quero-meu-dinheiro_fSjMN75LpGXQiFfj/\n",
      "https://www.reclameaqui.com.br/pagseguro/nao-consigo-mudar-minha-data-de-nascimento-pois-coloquei-errado-na-hora-de_gbNtHvhdumYucsIY/\n",
      "https://www.reclameaqui.com.br/pagseguro/adicao-de-fundos-por-boleto-bancario_u4jVjZYyYs0nEZ8w/\n",
      "https://www.reclameaqui.com.br/pagseguro/fiz-um-pagamento-no-boleto-e-nao-caiu-ainda-porque_4NbisRJ984ECUswT/\n",
      "https://www.reclameaqui.com.br/pagseguro/bloqueio-de-maquina_kyHT6aILsgsWw9HB/\n",
      "https://www.reclameaqui.com.br/pagseguro/cartao-pagbank_pk7OCyhteoGS4XTT/\n",
      "https://www.reclameaqui.com.br/pagseguro/pagamentos-cancelados-sem-motivo_985GDDQjq_25Hw3C/\n",
      "https://www.reclameaqui.com.br/pagseguro/gabriel-adelino-do-prado-maria_ItqpiNtSdvzHtn6O/\n",
      "https://www.reclameaqui.com.br/pagseguro/contestacoes-de-compras_vez5k06JDYonqxJ5/\n",
      "https://www.reclameaqui.com.br/pagseguro/mesma-compra-descontada-duas-vezes_fbYkemlNzsZfDL8M/\n",
      "https://www.reclameaqui.com.br/pagseguro/pagamento-negado_RKPHg0TsRtHKXFsP/\n",
      "https://www.reclameaqui.com.br/pagseguro/nao-estou-conseguindo-valida-a-minha-conta_gyic-PcmOOr3z9Od/\n",
      "https://www.reclameaqui.com.br/pagseguro/nao-recebi-o-dinheiro_TVClDrHtT-mTkEKZ/\n",
      "https://www.reclameaqui.com.br/pagseguro/nao-tenho-resposta-da-pagseguro-referente-a-problemas-com-minizinha-chip-2_aXcBHysdL2tSDSzE/\n",
      "https://www.reclameaqui.com.br/pagseguro/maquineta-com-erro_CXBdlHT6nHApQeGg/\n",
      "https://www.reclameaqui.com.br/pagseguro/maquina-veio-cadastrada-no-cpf-do-vendedor-antigo_RPzc7OTi-MiUYhmy/\n",
      "https://www.reclameaqui.com.br/pagseguro/indicacao_2Txud3NAifwExXzZ/\n",
      "https://www.reclameaqui.com.br/pagseguro/saldo-bloqueado_gqOo-OyRn_edgTXu/\n",
      "https://www.reclameaqui.com.br/pagseguro/bloqueio-e-ate-hoje-nao-depositaram_ZzWS4Je8bztp9nQM/\n",
      "https://www.reclameaqui.com.br/pagseguro/gestao-de-negocios_J5Rl__2wXdgYNc1g/\n",
      "https://www.reclameaqui.com.br/pagseguro/compras-negadas-sem-motivo_HyrjKc-A3Bboe7Hp/\n",
      "https://www.reclameaqui.com.br/pagseguro/carcan-clonage_XP4huBJgEpFFVKNl/\n",
      "https://www.reclameaqui.com.br/pagseguro/documentos_SlYhVhP9m1CCxf55/\n",
      "https://www.reclameaqui.com.br/pagseguro/maquininha-sem-uso_KjLaV1cvykmfS6hG/\n",
      "https://www.reclameaqui.com.br/pagseguro/pagamento-de-boleto-feito-e-valor-nao-recebido_7My0u0XD2LSn_eW6/\n",
      "https://www.reclameaqui.com.br/pagseguro/vebsedor-inativo-m3002_5UdVjzNdR5UfekoO/\n",
      "https://www.reclameaqui.com.br/pagseguro/meu-saudo-esta-bloqueado-a-15-dias_Mhw7LsxqQ-p0VaIH/\n",
      "https://www.reclameaqui.com.br/pagseguro/dinheiro-preso_FAM-IuSlbZDhL3b6/\n",
      "https://www.reclameaqui.com.br/pagseguro/cartao-de-credito_9ENqjxraeRrNHGkC/\n",
      "https://www.reclameaqui.com.br/pagseguro/moderninha-plus-com-defeito-retire-o-cartao_eoP_6oztPaAQgR-N/\n",
      "https://www.reclameaqui.com.br/pagseguro/nao-foi-adicionado-o-dinheiro_wv0MBxE9pvZbG7tn/\n",
      "https://www.reclameaqui.com.br/pagseguro/adicionei-dinheiro-dia-21-05-atraves-de-boleto-no-pagbank-e-ate-hoje-nao-ca_YUXdQNBocIfWHNCW/\n"
     ]
    }
   ],
   "source": [
    "chrome_options = Options()\n",
    "chrome_options.headless= True\n",
    "driver = webdriver.Chrome(options = chrome_options)\n",
    "\n",
    "urls = content_list[19441:25001]\n",
    "counta = 3880\n",
    "df = pd.DataFrame(columns = ['id', 'caption', 'details', 'status', 'complaint'])\n",
    "troubled_links = []\n",
    "good_links = []\n",
    "\n",
    "for url in tqdm(urls):\n",
    "    print(url)\n",
    "    try:\n",
    "        driver.get(url)\n",
    "    except:\n",
    "        pass\n",
    "    counta +=1\n",
    "    time.sleep(random()+1)\n",
    "    try:\n",
    "        good_links.append({'id' : [counta],\n",
    "         'caption' : [driver.find_element_by_xpath(\n",
    "            '//*[@id=\"complain-detail\"]/div/div[1]/div[2]/div/div[1]/div[2]/div[1]/h1').text],\n",
    "         'details': [driver.find_element_by_xpath(\n",
    "            '//*[@id=\"complain-detail\"]/div/div[1]/div[2]/div/div[1]/div[2]/div[1]/ul[1]').text],\n",
    "         'status' : [driver.find_element_by_xpath(\n",
    "            '//*[@id=\"complain-detail\"]/div/div[1]/div[2]/div/div[1]/div[2]/div[3]/span[2]/strong').text],\n",
    "         'complaint' : [driver.find_element_by_xpath(\n",
    "            '//*[@id=\"complain-detail\"]/div/div[1]/div[2]/div/div[2]/p').text]})\n",
    "#         df = pd.concat([df_load, df])\n",
    "    except:\n",
    "        print(f'ID {counta} deu ruim')\n",
    "        troubled_links.append(url)\n",
    "        pass\n",
    "    \n",
    "    if (counta) % 40 == 0:\n",
    "        df = pd.DataFrame(good_links)\n",
    "        df.to_excel('./backup/backup_' + str(counta) + '.xlsx')\n",
    "        good_links = []\n",
    "        chrome_options = Options()\n",
    "        chrome_options.headless= True\n",
    "        driver = webdriver.Chrome(options = chrome_options)\n",
    "\n"
   ]
  },
  {
   "cell_type": "code",
   "execution_count": 4,
   "metadata": {
    "ExecuteTime": {
     "end_time": "2020-09-13T21:53:22.205566Z",
     "start_time": "2020-09-13T21:53:22.190603Z"
    }
   },
   "outputs": [
    {
     "data": {
      "text/html": [
       "<div>\n",
       "<style scoped>\n",
       "    .dataframe tbody tr th:only-of-type {\n",
       "        vertical-align: middle;\n",
       "    }\n",
       "\n",
       "    .dataframe tbody tr th {\n",
       "        vertical-align: top;\n",
       "    }\n",
       "\n",
       "    .dataframe thead th {\n",
       "        text-align: right;\n",
       "    }\n",
       "</style>\n",
       "<table border=\"1\" class=\"dataframe\">\n",
       "  <thead>\n",
       "    <tr style=\"text-align: right;\">\n",
       "      <th></th>\n",
       "      <th>id</th>\n",
       "      <th>caption</th>\n",
       "      <th>details</th>\n",
       "      <th>status</th>\n",
       "      <th>complaint</th>\n",
       "    </tr>\n",
       "  </thead>\n",
       "  <tbody>\n",
       "  </tbody>\n",
       "</table>\n",
       "</div>"
      ],
      "text/plain": [
       "Empty DataFrame\n",
       "Columns: [id, caption, details, status, complaint]\n",
       "Index: []"
      ]
     },
     "execution_count": 4,
     "metadata": {},
     "output_type": "execute_result"
    }
   ],
   "source": [
    "df.reset_index(drop=True)"
   ]
  }
 ],
 "metadata": {
  "kernelspec": {
   "display_name": "Python 3",
   "language": "python",
   "name": "python3"
  },
  "language_info": {
   "codemirror_mode": {
    "name": "ipython",
    "version": 3
   },
   "file_extension": ".py",
   "mimetype": "text/x-python",
   "name": "python",
   "nbconvert_exporter": "python",
   "pygments_lexer": "ipython3",
   "version": "3.8.3"
  },
  "toc": {
   "base_numbering": 1,
   "nav_menu": {},
   "number_sections": true,
   "sideBar": true,
   "skip_h1_title": false,
   "title_cell": "Table of Contents",
   "title_sidebar": "Contents",
   "toc_cell": false,
   "toc_position": {},
   "toc_section_display": true,
   "toc_window_display": false
  }
 },
 "nbformat": 4,
 "nbformat_minor": 4
}
