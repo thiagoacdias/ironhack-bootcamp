{
 "cells": [
  {
   "cell_type": "markdown",
   "metadata": {
    "colab_type": "text",
    "id": "n5PumiMUZIVK"
   },
   "source": [
    "![Ironhack logo](https://i.imgur.com/1QgrNNw.png)\n",
    "\n",
    "# Lab | Data Cleaning\n",
    "\n",
    "## Introduction\n",
    "\n",
    "We keep seeing a common phrase that 80% of the work of a data scientist is data cleaning. We have no idea whether this number is accurate but a data scientist indeed spends lots of time and effort in collecting, cleaning and preparing the data for analysis. This is because datasets are usually messy and complex in nature. It is a very important ability for a data scientist to refine and restructure datasets into a usable state in order to proceed to the data analysis stage.\n",
    "\n",
    "In this exercise, you will both practice the data cleaning techniques we discussed in the lesson and learn new techniques by looking up documentations and references. You will work on your own but remember the teaching staff is at your service whenever you encounter problems.\n",
    "\n",
    "## Getting Started\n",
    "\n",
    "Read the instructions for each cell and provide your answers. Make sure to test your answers in each cell and save. Jupyter Notebook should automatically save your work progress. But it's a good idea to periodically save your work manually just in case.\n",
    "\n",
    "\n",
    "## Resources\n",
    "\n",
    "[Data Cleaning Tutorial](https://www.tutorialspoint.com/python/python_data_cleansing.html)\n",
    "\n",
    "[Data Cleaning with Numpy and Pandas](https://realpython.com/python-data-cleaning-numpy-pandas/#python-data-cleaning-recap-and-resources)\n",
    "\n",
    "[Data Cleaning Video](https://www.youtube.com/watch?v=ZOX18HfLHGQ)\n",
    "\n",
    "[Data Preparation](https://www.kdnuggets.com/2017/06/7-steps-mastering-data-preparation-python.html)\n",
    "\n",
    "[Google Search](https://www.google.es/search?q=how+to+clean+data+with+python)"
   ]
  },
  {
   "cell_type": "markdown",
   "metadata": {
    "colab_type": "text",
    "id": "zuHDm8EtZD4X"
   },
   "source": [
    "# Data Cleaning "
   ]
  },
  {
   "cell_type": "code",
   "execution_count": 2,
   "metadata": {
    "ExecuteTime": {
     "end_time": "2020-08-27T14:38:26.095092Z",
     "start_time": "2020-08-27T14:38:26.091087Z"
    },
    "colab": {},
    "colab_type": "code",
    "id": "mzok3P1NZD4Z"
   },
   "outputs": [],
   "source": [
    "import pandas as pd"
   ]
  },
  {
   "cell_type": "markdown",
   "metadata": {
    "colab_type": "text",
    "id": "JgKT-j3aZD4e"
   },
   "source": [
    "# Read the users dataset.\n",
    "\n",
    "Take a look at what is the `users.csv` separator."
   ]
  },
  {
   "cell_type": "code",
   "execution_count": 20,
   "metadata": {
    "ExecuteTime": {
     "end_time": "2020-08-27T14:45:16.843104Z",
     "start_time": "2020-08-27T14:45:16.631025Z"
    },
    "colab": {},
    "colab_type": "code",
    "id": "1DvZ9W7rZD4f"
   },
   "outputs": [],
   "source": [
    "df = pd.read_csv('../data/users.csv', sep = '#')"
   ]
  },
  {
   "cell_type": "markdown",
   "metadata": {
    "colab_type": "text",
    "id": "pmZ1D4wvZD4j"
   },
   "source": [
    "## Check its shape\n",
    "\n",
    "See the number of rows and columns you're dealing."
   ]
  },
  {
   "cell_type": "markdown",
   "metadata": {
    "colab_type": "text",
    "id": "BQHpNkApZD4k"
   },
   "source": [
    "## Use the .head() to see some rows of your dataframe."
   ]
  },
  {
   "cell_type": "code",
   "execution_count": 21,
   "metadata": {
    "ExecuteTime": {
     "end_time": "2020-08-27T14:45:18.576005Z",
     "start_time": "2020-08-27T14:45:18.551072Z"
    },
    "colab": {},
    "colab_type": "code",
    "id": "d39jdumRZD4l"
   },
   "outputs": [
    {
     "data": {
      "text/html": [
       "<div>\n",
       "<style scoped>\n",
       "    .dataframe tbody tr th:only-of-type {\n",
       "        vertical-align: middle;\n",
       "    }\n",
       "\n",
       "    .dataframe tbody tr th {\n",
       "        vertical-align: top;\n",
       "    }\n",
       "\n",
       "    .dataframe thead th {\n",
       "        text-align: right;\n",
       "    }\n",
       "</style>\n",
       "<table border=\"1\" class=\"dataframe\">\n",
       "  <thead>\n",
       "    <tr style=\"text-align: right;\">\n",
       "      <th></th>\n",
       "      <th>Id</th>\n",
       "      <th>Reputation</th>\n",
       "      <th>CreationDate</th>\n",
       "      <th>DisplayName</th>\n",
       "      <th>LastAccessDate</th>\n",
       "      <th>WebsiteUrl</th>\n",
       "      <th>Location</th>\n",
       "      <th>AboutMe</th>\n",
       "      <th>Views</th>\n",
       "      <th>UpVotes</th>\n",
       "      <th>DownVotes</th>\n",
       "      <th>AccountId</th>\n",
       "      <th>Age</th>\n",
       "      <th>ProfileImageUrl</th>\n",
       "    </tr>\n",
       "  </thead>\n",
       "  <tbody>\n",
       "    <tr>\n",
       "      <th>0</th>\n",
       "      <td>-1</td>\n",
       "      <td>1</td>\n",
       "      <td>2010-07-19 06:55:26</td>\n",
       "      <td>Community</td>\n",
       "      <td>2010-07-19 06:55:26</td>\n",
       "      <td>http://meta.stackexchange.com/</td>\n",
       "      <td>on the server farm</td>\n",
       "      <td>&lt;p&gt;Hi, I'm not really a person.&lt;/p&gt;\\n\\n&lt;p&gt;I'm ...</td>\n",
       "      <td>0</td>\n",
       "      <td>5007</td>\n",
       "      <td>1920</td>\n",
       "      <td>-1</td>\n",
       "      <td>NaN</td>\n",
       "      <td>NaN</td>\n",
       "    </tr>\n",
       "    <tr>\n",
       "      <th>1</th>\n",
       "      <td>2</td>\n",
       "      <td>101</td>\n",
       "      <td>2010-07-19 14:01:36</td>\n",
       "      <td>Geoff Dalgas</td>\n",
       "      <td>2013-11-12 22:07:23</td>\n",
       "      <td>http://stackoverflow.com</td>\n",
       "      <td>Corvallis, OR</td>\n",
       "      <td>&lt;p&gt;Developer on the StackOverflow team.  Find ...</td>\n",
       "      <td>25</td>\n",
       "      <td>3</td>\n",
       "      <td>0</td>\n",
       "      <td>2</td>\n",
       "      <td>37.0</td>\n",
       "      <td>NaN</td>\n",
       "    </tr>\n",
       "    <tr>\n",
       "      <th>2</th>\n",
       "      <td>3</td>\n",
       "      <td>101</td>\n",
       "      <td>2010-07-19 15:34:50</td>\n",
       "      <td>Jarrod Dixon</td>\n",
       "      <td>2014-08-08 06:42:58</td>\n",
       "      <td>http://stackoverflow.com</td>\n",
       "      <td>New York, NY</td>\n",
       "      <td>&lt;p&gt;&lt;a href=\"http://blog.stackoverflow.com/2009...</td>\n",
       "      <td>22</td>\n",
       "      <td>19</td>\n",
       "      <td>0</td>\n",
       "      <td>3</td>\n",
       "      <td>35.0</td>\n",
       "      <td>NaN</td>\n",
       "    </tr>\n",
       "    <tr>\n",
       "      <th>3</th>\n",
       "      <td>4</td>\n",
       "      <td>101</td>\n",
       "      <td>2010-07-19 19:03:27</td>\n",
       "      <td>Emmett</td>\n",
       "      <td>2014-01-02 09:31:02</td>\n",
       "      <td>http://minesweeperonline.com</td>\n",
       "      <td>San Francisco, CA</td>\n",
       "      <td>&lt;p&gt;currently at a startup in SF&lt;/p&gt;\\n\\n&lt;p&gt;form...</td>\n",
       "      <td>11</td>\n",
       "      <td>0</td>\n",
       "      <td>0</td>\n",
       "      <td>1998</td>\n",
       "      <td>28.0</td>\n",
       "      <td>http://i.stack.imgur.com/d1oHX.jpg</td>\n",
       "    </tr>\n",
       "    <tr>\n",
       "      <th>4</th>\n",
       "      <td>5</td>\n",
       "      <td>6792</td>\n",
       "      <td>2010-07-19 19:03:57</td>\n",
       "      <td>Shane</td>\n",
       "      <td>2014-08-13 00:23:47</td>\n",
       "      <td>http://www.statalgo.com</td>\n",
       "      <td>New York, NY</td>\n",
       "      <td>&lt;p&gt;Quantitative researcher focusing on statist...</td>\n",
       "      <td>1145</td>\n",
       "      <td>662</td>\n",
       "      <td>5</td>\n",
       "      <td>54503</td>\n",
       "      <td>35.0</td>\n",
       "      <td>NaN</td>\n",
       "    </tr>\n",
       "  </tbody>\n",
       "</table>\n",
       "</div>"
      ],
      "text/plain": [
       "   Id  Reputation         CreationDate   DisplayName       LastAccessDate  \\\n",
       "0  -1           1  2010-07-19 06:55:26     Community  2010-07-19 06:55:26   \n",
       "1   2         101  2010-07-19 14:01:36  Geoff Dalgas  2013-11-12 22:07:23   \n",
       "2   3         101  2010-07-19 15:34:50  Jarrod Dixon  2014-08-08 06:42:58   \n",
       "3   4         101  2010-07-19 19:03:27        Emmett  2014-01-02 09:31:02   \n",
       "4   5        6792  2010-07-19 19:03:57         Shane  2014-08-13 00:23:47   \n",
       "\n",
       "                       WebsiteUrl            Location  \\\n",
       "0  http://meta.stackexchange.com/  on the server farm   \n",
       "1        http://stackoverflow.com       Corvallis, OR   \n",
       "2        http://stackoverflow.com        New York, NY   \n",
       "3    http://minesweeperonline.com   San Francisco, CA   \n",
       "4         http://www.statalgo.com        New York, NY   \n",
       "\n",
       "                                             AboutMe  Views  UpVotes  \\\n",
       "0  <p>Hi, I'm not really a person.</p>\\n\\n<p>I'm ...      0     5007   \n",
       "1  <p>Developer on the StackOverflow team.  Find ...     25        3   \n",
       "2  <p><a href=\"http://blog.stackoverflow.com/2009...     22       19   \n",
       "3  <p>currently at a startup in SF</p>\\n\\n<p>form...     11        0   \n",
       "4  <p>Quantitative researcher focusing on statist...   1145      662   \n",
       "\n",
       "   DownVotes  AccountId   Age                     ProfileImageUrl  \n",
       "0       1920         -1   NaN                                 NaN  \n",
       "1          0          2  37.0                                 NaN  \n",
       "2          0          3  35.0                                 NaN  \n",
       "3          0       1998  28.0  http://i.stack.imgur.com/d1oHX.jpg  \n",
       "4          5      54503  35.0                                 NaN  "
      ]
     },
     "execution_count": 21,
     "metadata": {},
     "output_type": "execute_result"
    }
   ],
   "source": [
    "df.head()"
   ]
  },
  {
   "cell_type": "markdown",
   "metadata": {
    "colab_type": "text",
    "id": "XhFTmi-hZD4o"
   },
   "source": [
    "## Get the data info. \n",
    "\n",
    "Which columns have a great number of missing values? How many space does this dataframe is occupying in your memory?\n",
    "\n",
    "Expected output:\n",
    "````\n",
    "<class 'pandas.core.frame.DataFrame'>\n",
    "RangeIndex: 40503 entries, 0 to 40502\n",
    "Data columns (total 14 columns):\n",
    " #   Column           Non-Null Count  Dtype  \n",
    "---  ------           --------------  -----  \n",
    " 0   Id               40503 non-null  int64  \n",
    " 1   Reputation       40503 non-null  int64  \n",
    " 2   CreationDate     40503 non-null  object \n",
    " 3   DisplayName      40497 non-null  object \n",
    " 4   LastAccessDate   40503 non-null  object \n",
    " 5   WebsiteUrl       8158 non-null   object \n",
    " 6   Location         11731 non-null  object \n",
    " 7   AboutMe          9424 non-null   object \n",
    " 8   Views            40503 non-null  int64  \n",
    " 9   UpVotes          40503 non-null  int64  \n",
    " 10  DownVotes        40503 non-null  int64  \n",
    " 11  AccountId        40503 non-null  int64  \n",
    " 12  Age              8352 non-null   float64\n",
    " 13  ProfileImageUrl  16540 non-null  object \n",
    "dtypes: float64(1), int64(6), object(7)\n",
    "memory usage: 4.3+ MB\n",
    "````"
   ]
  },
  {
   "cell_type": "code",
   "execution_count": 22,
   "metadata": {
    "ExecuteTime": {
     "end_time": "2020-08-27T14:45:21.683761Z",
     "start_time": "2020-08-27T14:45:21.649345Z"
    },
    "colab": {},
    "colab_type": "code",
    "id": "PXlMbs8rZD4p"
   },
   "outputs": [
    {
     "name": "stdout",
     "output_type": "stream",
     "text": [
      "<class 'pandas.core.frame.DataFrame'>\n",
      "RangeIndex: 40503 entries, 0 to 40502\n",
      "Data columns (total 14 columns):\n",
      " #   Column           Non-Null Count  Dtype  \n",
      "---  ------           --------------  -----  \n",
      " 0   Id               40503 non-null  int64  \n",
      " 1   Reputation       40503 non-null  int64  \n",
      " 2   CreationDate     40503 non-null  object \n",
      " 3   DisplayName      40497 non-null  object \n",
      " 4   LastAccessDate   40503 non-null  object \n",
      " 5   WebsiteUrl       8158 non-null   object \n",
      " 6   Location         11731 non-null  object \n",
      " 7   AboutMe          9424 non-null   object \n",
      " 8   Views            40503 non-null  int64  \n",
      " 9   UpVotes          40503 non-null  int64  \n",
      " 10  DownVotes        40503 non-null  int64  \n",
      " 11  AccountId        40503 non-null  int64  \n",
      " 12  Age              8352 non-null   float64\n",
      " 13  ProfileImageUrl  16540 non-null  object \n",
      "dtypes: float64(1), int64(6), object(7)\n",
      "memory usage: 4.3+ MB\n"
     ]
    }
   ],
   "source": [
    "df.info()"
   ]
  },
  {
   "cell_type": "markdown",
   "metadata": {
    "colab_type": "text",
    "id": "44boORWtZD4s"
   },
   "source": [
    "## Rename Id column to user_id.\n",
    "\n",
    "Remember to store you results back at the dataframe."
   ]
  },
  {
   "cell_type": "code",
   "execution_count": 27,
   "metadata": {
    "ExecuteTime": {
     "end_time": "2020-08-27T14:46:09.726134Z",
     "start_time": "2020-08-27T14:46:09.709621Z"
    },
    "colab": {},
    "colab_type": "code",
    "id": "lByJpqZ3ZD4t"
   },
   "outputs": [],
   "source": [
    "df.rename(columns={'Id':'user_id'}, inplace= True)\n"
   ]
  },
  {
   "cell_type": "code",
   "execution_count": 29,
   "metadata": {
    "ExecuteTime": {
     "end_time": "2020-08-27T14:46:43.235900Z",
     "start_time": "2020-08-27T14:46:43.221425Z"
    }
   },
   "outputs": [],
   "source": [
    "df.head(2)\n",
    "users = df.copy()"
   ]
  },
  {
   "cell_type": "markdown",
   "metadata": {
    "colab_type": "text",
    "id": "sooo8FL4ZD4x"
   },
   "source": [
    "# Import the `posts.csv` dataset.\n",
    "\n",
    "Note that this is a `gzip compressed csv`. In order to read this file correctly, you'll have to read the documentation (or help) of your `pd.read_csv()` function and check the `compression` argument. Try to understand which value of `compression=...` you should put in order to read your dataframe. "
   ]
  },
  {
   "cell_type": "code",
   "execution_count": 30,
   "metadata": {
    "ExecuteTime": {
     "end_time": "2020-08-27T14:47:54.198910Z",
     "start_time": "2020-08-27T14:47:51.218938Z"
    },
    "colab": {},
    "colab_type": "code",
    "id": "eQlM-RUvZD4y"
   },
   "outputs": [
    {
     "data": {
      "text/html": [
       "<div>\n",
       "<style scoped>\n",
       "    .dataframe tbody tr th:only-of-type {\n",
       "        vertical-align: middle;\n",
       "    }\n",
       "\n",
       "    .dataframe tbody tr th {\n",
       "        vertical-align: top;\n",
       "    }\n",
       "\n",
       "    .dataframe thead th {\n",
       "        text-align: right;\n",
       "    }\n",
       "</style>\n",
       "<table border=\"1\" class=\"dataframe\">\n",
       "  <thead>\n",
       "    <tr style=\"text-align: right;\">\n",
       "      <th></th>\n",
       "      <th>Id</th>\n",
       "      <th>PostTypeId</th>\n",
       "      <th>AcceptedAnswerId</th>\n",
       "      <th>CreaionDate</th>\n",
       "      <th>Score</th>\n",
       "      <th>ViewCount</th>\n",
       "      <th>Body</th>\n",
       "      <th>OwnerUserId</th>\n",
       "      <th>LasActivityDate</th>\n",
       "      <th>Title</th>\n",
       "      <th>...</th>\n",
       "      <th>AnswerCount</th>\n",
       "      <th>CommentCount</th>\n",
       "      <th>FavoriteCount</th>\n",
       "      <th>LastEditorUserId</th>\n",
       "      <th>LastEditDate</th>\n",
       "      <th>CommunityOwnedDate</th>\n",
       "      <th>ParentId</th>\n",
       "      <th>ClosedDate</th>\n",
       "      <th>OwnerDisplayName</th>\n",
       "      <th>LastEditorDisplayName</th>\n",
       "    </tr>\n",
       "  </thead>\n",
       "  <tbody>\n",
       "    <tr>\n",
       "      <th>0</th>\n",
       "      <td>1</td>\n",
       "      <td>1</td>\n",
       "      <td>15.0</td>\n",
       "      <td>2010-07-19 19:12:12</td>\n",
       "      <td>23</td>\n",
       "      <td>1278.0</td>\n",
       "      <td>&lt;p&gt;How should I elicit prior distributions fro...</td>\n",
       "      <td>8.0</td>\n",
       "      <td>2010-09-15 21:08:26</td>\n",
       "      <td>Eliciting priors from experts</td>\n",
       "      <td>...</td>\n",
       "      <td>5.0</td>\n",
       "      <td>1</td>\n",
       "      <td>14.0</td>\n",
       "      <td>NaN</td>\n",
       "      <td>NaN</td>\n",
       "      <td>NaN</td>\n",
       "      <td>NaN</td>\n",
       "      <td>NaN</td>\n",
       "      <td>NaN</td>\n",
       "      <td>NaN</td>\n",
       "    </tr>\n",
       "    <tr>\n",
       "      <th>1</th>\n",
       "      <td>2</td>\n",
       "      <td>1</td>\n",
       "      <td>59.0</td>\n",
       "      <td>2010-07-19 19:12:57</td>\n",
       "      <td>22</td>\n",
       "      <td>8198.0</td>\n",
       "      <td>&lt;p&gt;In many different statistical methods there...</td>\n",
       "      <td>24.0</td>\n",
       "      <td>2012-11-12 09:21:54</td>\n",
       "      <td>What is normality?</td>\n",
       "      <td>...</td>\n",
       "      <td>7.0</td>\n",
       "      <td>1</td>\n",
       "      <td>8.0</td>\n",
       "      <td>88.0</td>\n",
       "      <td>2010-08-07 17:56:44</td>\n",
       "      <td>NaN</td>\n",
       "      <td>NaN</td>\n",
       "      <td>NaN</td>\n",
       "      <td>NaN</td>\n",
       "      <td>NaN</td>\n",
       "    </tr>\n",
       "  </tbody>\n",
       "</table>\n",
       "<p>2 rows × 21 columns</p>\n",
       "</div>"
      ],
      "text/plain": [
       "   Id  PostTypeId  AcceptedAnswerId          CreaionDate  Score  ViewCount  \\\n",
       "0   1           1              15.0  2010-07-19 19:12:12     23     1278.0   \n",
       "1   2           1              59.0  2010-07-19 19:12:57     22     8198.0   \n",
       "\n",
       "                                                Body  OwnerUserId  \\\n",
       "0  <p>How should I elicit prior distributions fro...          8.0   \n",
       "1  <p>In many different statistical methods there...         24.0   \n",
       "\n",
       "       LasActivityDate                          Title  ... AnswerCount  \\\n",
       "0  2010-09-15 21:08:26  Eliciting priors from experts  ...         5.0   \n",
       "1  2012-11-12 09:21:54             What is normality?  ...         7.0   \n",
       "\n",
       "   CommentCount  FavoriteCount  LastEditorUserId         LastEditDate  \\\n",
       "0             1           14.0               NaN                  NaN   \n",
       "1             1            8.0              88.0  2010-08-07 17:56:44   \n",
       "\n",
       "  CommunityOwnedDate ParentId  ClosedDate OwnerDisplayName  \\\n",
       "0                NaN      NaN         NaN              NaN   \n",
       "1                NaN      NaN         NaN              NaN   \n",
       "\n",
       "  LastEditorDisplayName  \n",
       "0                   NaN  \n",
       "1                   NaN  \n",
       "\n",
       "[2 rows x 21 columns]"
      ]
     },
     "execution_count": 30,
     "metadata": {},
     "output_type": "execute_result"
    }
   ],
   "source": [
    "posts = pd.read_csv('../data/posts.csv.gzip', compression='gzip')\n",
    "posts.head(2)"
   ]
  },
  {
   "cell_type": "markdown",
   "metadata": {
    "colab_type": "text",
    "id": "flT6V-L0ZD43"
   },
   "source": [
    "## Perform the same as above to understand a bit of your data (head, info, shape)"
   ]
  },
  {
   "cell_type": "code",
   "execution_count": 33,
   "metadata": {
    "ExecuteTime": {
     "end_time": "2020-08-27T14:48:33.652121Z",
     "start_time": "2020-08-27T14:48:33.568951Z"
    },
    "colab": {},
    "colab_type": "code",
    "id": "rSszEAG2ZD44"
   },
   "outputs": [
    {
     "name": "stdout",
     "output_type": "stream",
     "text": [
      "<class 'pandas.core.frame.DataFrame'>\n",
      "RangeIndex: 91976 entries, 0 to 91975\n",
      "Data columns (total 21 columns):\n",
      " #   Column                 Non-Null Count  Dtype  \n",
      "---  ------                 --------------  -----  \n",
      " 0   Id                     91976 non-null  int64  \n",
      " 1   PostTypeId             91976 non-null  int64  \n",
      " 2   AcceptedAnswerId       14700 non-null  float64\n",
      " 3   CreaionDate            91976 non-null  object \n",
      " 4   Score                  91976 non-null  int64  \n",
      " 5   ViewCount              42921 non-null  float64\n",
      " 6   Body                   91756 non-null  object \n",
      " 7   OwnerUserId            90584 non-null  float64\n",
      " 8   LasActivityDate        91976 non-null  object \n",
      " 9   Title                  42921 non-null  object \n",
      " 10  Tags                   42921 non-null  object \n",
      " 11  AnswerCount            42921 non-null  float64\n",
      " 12  CommentCount           91976 non-null  int64  \n",
      " 13  FavoriteCount          13246 non-null  float64\n",
      " 14  LastEditorUserId       44611 non-null  float64\n",
      " 15  LastEditDate           45038 non-null  object \n",
      " 16  CommunityOwnedDate     2467 non-null   object \n",
      " 17  ParentId               47755 non-null  float64\n",
      " 18  ClosedDate             1610 non-null   object \n",
      " 19  OwnerDisplayName       2509 non-null   object \n",
      " 20  LastEditorDisplayName  465 non-null    object \n",
      "dtypes: float64(7), int64(4), object(10)\n",
      "memory usage: 14.7+ MB\n",
      "(91976, 21)\n"
     ]
    }
   ],
   "source": [
    "posts.info()\n",
    "print(posts.shape)"
   ]
  },
  {
   "cell_type": "markdown",
   "metadata": {
    "colab_type": "text",
    "id": "mlUuQ7CxZD49"
   },
   "source": [
    "## Rename Id column to post_id and OwnerUserId to user_id.\n",
    "\n",
    "Again, remember to check that your results are correctly stored inside the dataframe."
   ]
  },
  {
   "cell_type": "code",
   "execution_count": 34,
   "metadata": {
    "ExecuteTime": {
     "end_time": "2020-08-27T14:49:10.495420Z",
     "start_time": "2020-08-27T14:49:10.467978Z"
    },
    "colab": {},
    "colab_type": "code",
    "id": "I8Z4BZpFZD4-"
   },
   "outputs": [],
   "source": [
    "posts.rename(columns = {'Id': 'post_id', 'OwnerUserId': 'user_id'}, inplace = True)"
   ]
  },
  {
   "cell_type": "markdown",
   "metadata": {
    "colab_type": "text",
    "id": "9YyLIe4sZD5D"
   },
   "source": [
    "## Define new dataframes for users and posts with the following selected columns:\n",
    "\n",
    "**users columns**: user_id, Reputation, Views, UpVotes, DownVotes  \n",
    "**posts columns**: post_id, Score, user_id, ViewCount, CommentCount, Body"
   ]
  },
  {
   "cell_type": "code",
   "execution_count": 36,
   "metadata": {
    "ExecuteTime": {
     "end_time": "2020-08-27T14:50:33.685108Z",
     "start_time": "2020-08-27T14:50:33.635195Z"
    },
    "colab": {},
    "colab_type": "code",
    "id": "8fakUZYpZD5E"
   },
   "outputs": [
    {
     "name": "stdout",
     "output_type": "stream",
     "text": [
      "<class 'pandas.core.frame.DataFrame'>\n",
      "RangeIndex: 40503 entries, 0 to 40502\n",
      "Data columns (total 5 columns):\n",
      " #   Column      Non-Null Count  Dtype\n",
      "---  ------      --------------  -----\n",
      " 0   user_id     40503 non-null  int64\n",
      " 1   Reputation  40503 non-null  int64\n",
      " 2   Views       40503 non-null  int64\n",
      " 3   UpVotes     40503 non-null  int64\n",
      " 4   DownVotes   40503 non-null  int64\n",
      "dtypes: int64(5)\n",
      "memory usage: 1.5 MB\n",
      "<class 'pandas.core.frame.DataFrame'>\n",
      "RangeIndex: 91976 entries, 0 to 91975\n",
      "Data columns (total 6 columns):\n",
      " #   Column        Non-Null Count  Dtype  \n",
      "---  ------        --------------  -----  \n",
      " 0   post_id       91976 non-null  int64  \n",
      " 1   Score         91976 non-null  int64  \n",
      " 2   user_id       90584 non-null  float64\n",
      " 3   ViewCount     42921 non-null  float64\n",
      " 4   CommentCount  91976 non-null  int64  \n",
      " 5   Body          91756 non-null  object \n",
      "dtypes: float64(2), int64(3), object(1)\n",
      "memory usage: 4.2+ MB\n"
     ]
    }
   ],
   "source": [
    "new_user = users[['user_id', 'Reputation', 'Views', 'UpVotes', 'DownVotes']]\n",
    "new_posts = posts[['post_id', 'Score', 'user_id', 'ViewCount', 'CommentCount', 'Body']]\n",
    "\n",
    "new_user.info()\n",
    "new_posts.info()"
   ]
  },
  {
   "cell_type": "markdown",
   "metadata": {
    "colab_type": "text",
    "id": "_z5R9scXZD5I"
   },
   "source": [
    "**Note:** Check the new posts dataframe's info. What is the most noticeable change? \n",
    "\n",
    "Explain why we have chosen only some columns of it in terms of efficiency."
   ]
  },
  {
   "cell_type": "markdown",
   "metadata": {
    "colab_type": "text",
    "id": "73DgDQfOZD5K"
   },
   "source": [
    "# Merge the new dataframes you have created, of users and posts. Create a dataframe called `posts_from_users`\n",
    "\n",
    "You will need to make an inner [merge](https://pandas.pydata.org/pandas-docs/stable/generated/pandas.DataFrame.merge.html) of posts and users dataframes. \n",
    "\n",
    "Think carefully which should be the key(s) for your merging."
   ]
  },
  {
   "cell_type": "code",
   "execution_count": 37,
   "metadata": {
    "ExecuteTime": {
     "end_time": "2020-08-27T14:51:55.064661Z",
     "start_time": "2020-08-27T14:51:55.053587Z"
    }
   },
   "outputs": [
    {
     "data": {
      "text/html": [
       "<div>\n",
       "<style scoped>\n",
       "    .dataframe tbody tr th:only-of-type {\n",
       "        vertical-align: middle;\n",
       "    }\n",
       "\n",
       "    .dataframe tbody tr th {\n",
       "        vertical-align: top;\n",
       "    }\n",
       "\n",
       "    .dataframe thead th {\n",
       "        text-align: right;\n",
       "    }\n",
       "</style>\n",
       "<table border=\"1\" class=\"dataframe\">\n",
       "  <thead>\n",
       "    <tr style=\"text-align: right;\">\n",
       "      <th></th>\n",
       "      <th>user_id</th>\n",
       "      <th>Reputation</th>\n",
       "      <th>Views</th>\n",
       "      <th>UpVotes</th>\n",
       "      <th>DownVotes</th>\n",
       "    </tr>\n",
       "  </thead>\n",
       "  <tbody>\n",
       "    <tr>\n",
       "      <th>0</th>\n",
       "      <td>-1</td>\n",
       "      <td>1</td>\n",
       "      <td>0</td>\n",
       "      <td>5007</td>\n",
       "      <td>1920</td>\n",
       "    </tr>\n",
       "    <tr>\n",
       "      <th>1</th>\n",
       "      <td>2</td>\n",
       "      <td>101</td>\n",
       "      <td>25</td>\n",
       "      <td>3</td>\n",
       "      <td>0</td>\n",
       "    </tr>\n",
       "  </tbody>\n",
       "</table>\n",
       "</div>"
      ],
      "text/plain": [
       "   user_id  Reputation  Views  UpVotes  DownVotes\n",
       "0       -1           1      0     5007       1920\n",
       "1        2         101     25        3          0"
      ]
     },
     "execution_count": 37,
     "metadata": {},
     "output_type": "execute_result"
    }
   ],
   "source": [
    "new_user.head(2)"
   ]
  },
  {
   "cell_type": "code",
   "execution_count": 39,
   "metadata": {
    "ExecuteTime": {
     "end_time": "2020-08-27T14:52:07.518696Z",
     "start_time": "2020-08-27T14:52:07.488175Z"
    }
   },
   "outputs": [
    {
     "data": {
      "text/html": [
       "<div>\n",
       "<style scoped>\n",
       "    .dataframe tbody tr th:only-of-type {\n",
       "        vertical-align: middle;\n",
       "    }\n",
       "\n",
       "    .dataframe tbody tr th {\n",
       "        vertical-align: top;\n",
       "    }\n",
       "\n",
       "    .dataframe thead th {\n",
       "        text-align: right;\n",
       "    }\n",
       "</style>\n",
       "<table border=\"1\" class=\"dataframe\">\n",
       "  <thead>\n",
       "    <tr style=\"text-align: right;\">\n",
       "      <th></th>\n",
       "      <th>post_id</th>\n",
       "      <th>Score</th>\n",
       "      <th>user_id</th>\n",
       "      <th>ViewCount</th>\n",
       "      <th>CommentCount</th>\n",
       "      <th>Body</th>\n",
       "    </tr>\n",
       "  </thead>\n",
       "  <tbody>\n",
       "    <tr>\n",
       "      <th>0</th>\n",
       "      <td>1</td>\n",
       "      <td>23</td>\n",
       "      <td>8.0</td>\n",
       "      <td>1278.0</td>\n",
       "      <td>1</td>\n",
       "      <td>&lt;p&gt;How should I elicit prior distributions fro...</td>\n",
       "    </tr>\n",
       "    <tr>\n",
       "      <th>1</th>\n",
       "      <td>2</td>\n",
       "      <td>22</td>\n",
       "      <td>24.0</td>\n",
       "      <td>8198.0</td>\n",
       "      <td>1</td>\n",
       "      <td>&lt;p&gt;In many different statistical methods there...</td>\n",
       "    </tr>\n",
       "  </tbody>\n",
       "</table>\n",
       "</div>"
      ],
      "text/plain": [
       "   post_id  Score  user_id  ViewCount  CommentCount  \\\n",
       "0        1     23      8.0     1278.0             1   \n",
       "1        2     22     24.0     8198.0             1   \n",
       "\n",
       "                                                Body  \n",
       "0  <p>How should I elicit prior distributions fro...  \n",
       "1  <p>In many different statistical methods there...  "
      ]
     },
     "execution_count": 39,
     "metadata": {},
     "output_type": "execute_result"
    }
   ],
   "source": [
    "new_posts.head(2)"
   ]
  },
  {
   "cell_type": "code",
   "execution_count": null,
   "metadata": {},
   "outputs": [],
   "source": []
  },
  {
   "cell_type": "code",
   "execution_count": 41,
   "metadata": {
    "ExecuteTime": {
     "end_time": "2020-08-27T14:55:30.652103Z",
     "start_time": "2020-08-27T14:55:30.550123Z"
    },
    "colab": {},
    "colab_type": "code",
    "id": "SvFNktC_ZD5L"
   },
   "outputs": [],
   "source": [
    "posts_from_users = pd.merge(left = new_user, right = new_posts, on='user_id')"
   ]
  },
  {
   "cell_type": "markdown",
   "metadata": {
    "colab_type": "text",
    "id": "hY51jNIBZD5P"
   },
   "source": [
    "## Check the number of duplicated rows.\n",
    "\n",
    "Remember you can sum the results of a mask to get how many numbers the True value appeared in the results. This occurs because `True` is interpreted as `1` in Python whereas `False` is interpreted as `0`."
   ]
  },
  {
   "cell_type": "code",
   "execution_count": 46,
   "metadata": {
    "ExecuteTime": {
     "end_time": "2020-08-27T14:56:29.729345Z",
     "start_time": "2020-08-27T14:56:29.717377Z"
    },
    "colab": {},
    "colab_type": "code",
    "id": "PUJ_MwhbZD5P"
   },
   "outputs": [
    {
     "name": "stdout",
     "output_type": "stream",
     "text": [
      "(40503, 5) (91976, 6) (90883, 10)\n"
     ]
    }
   ],
   "source": [
    "print(new_user.shape, new_posts.shape, posts_from_users.shape)"
   ]
  },
  {
   "cell_type": "markdown",
   "metadata": {
    "colab_type": "text",
    "id": "w3de3Sz-ZD5T"
   },
   "source": [
    "## Find those duplicate values and try to understand what happened.\n",
    "\n",
    "*Hint:* You can use the argument `keep=False` from the `.duplicated()` method to bring the duplication.\n",
    "\n",
    "*Hint 2:* You can sort the values `by=['user_id', 'post_id']` to see them in order.\n"
   ]
  },
  {
   "cell_type": "code",
   "execution_count": 51,
   "metadata": {
    "ExecuteTime": {
     "end_time": "2020-08-27T15:09:13.332571Z",
     "start_time": "2020-08-27T15:09:13.212128Z"
    },
    "colab": {},
    "colab_type": "code",
    "id": "QqD_JlrMZD5U"
   },
   "outputs": [
    {
     "data": {
      "text/html": [
       "<div>\n",
       "<style scoped>\n",
       "    .dataframe tbody tr th:only-of-type {\n",
       "        vertical-align: middle;\n",
       "    }\n",
       "\n",
       "    .dataframe tbody tr th {\n",
       "        vertical-align: top;\n",
       "    }\n",
       "\n",
       "    .dataframe thead th {\n",
       "        text-align: right;\n",
       "    }\n",
       "</style>\n",
       "<table border=\"1\" class=\"dataframe\">\n",
       "  <thead>\n",
       "    <tr style=\"text-align: right;\">\n",
       "      <th></th>\n",
       "      <th>user_id</th>\n",
       "      <th>Reputation</th>\n",
       "      <th>Views</th>\n",
       "      <th>UpVotes</th>\n",
       "      <th>DownVotes</th>\n",
       "      <th>post_id</th>\n",
       "      <th>Score</th>\n",
       "      <th>ViewCount</th>\n",
       "      <th>CommentCount</th>\n",
       "      <th>Body</th>\n",
       "    </tr>\n",
       "  </thead>\n",
       "  <tbody>\n",
       "    <tr>\n",
       "      <th>8396</th>\n",
       "      <td>760</td>\n",
       "      <td>168</td>\n",
       "      <td>13</td>\n",
       "      <td>13</td>\n",
       "      <td>0</td>\n",
       "      <td>1289</td>\n",
       "      <td>7</td>\n",
       "      <td>1139.0</td>\n",
       "      <td>8</td>\n",
       "      <td>&lt;p&gt;I am having difficulties to select the righ...</td>\n",
       "    </tr>\n",
       "    <tr>\n",
       "      <th>8399</th>\n",
       "      <td>760</td>\n",
       "      <td>168</td>\n",
       "      <td>13</td>\n",
       "      <td>13</td>\n",
       "      <td>0</td>\n",
       "      <td>1289</td>\n",
       "      <td>7</td>\n",
       "      <td>1139.0</td>\n",
       "      <td>8</td>\n",
       "      <td>&lt;p&gt;I am having difficulties to select the righ...</td>\n",
       "    </tr>\n",
       "    <tr>\n",
       "      <th>8397</th>\n",
       "      <td>760</td>\n",
       "      <td>168</td>\n",
       "      <td>13</td>\n",
       "      <td>13</td>\n",
       "      <td>0</td>\n",
       "      <td>8625</td>\n",
       "      <td>6</td>\n",
       "      <td>1799.0</td>\n",
       "      <td>3</td>\n",
       "      <td>&lt;p&gt;I was fiddling with PCA and LDA methods and...</td>\n",
       "    </tr>\n",
       "    <tr>\n",
       "      <th>8400</th>\n",
       "      <td>760</td>\n",
       "      <td>168</td>\n",
       "      <td>13</td>\n",
       "      <td>13</td>\n",
       "      <td>0</td>\n",
       "      <td>8625</td>\n",
       "      <td>6</td>\n",
       "      <td>1799.0</td>\n",
       "      <td>3</td>\n",
       "      <td>&lt;p&gt;I was fiddling with PCA and LDA methods and...</td>\n",
       "    </tr>\n",
       "    <tr>\n",
       "      <th>8398</th>\n",
       "      <td>760</td>\n",
       "      <td>168</td>\n",
       "      <td>13</td>\n",
       "      <td>13</td>\n",
       "      <td>0</td>\n",
       "      <td>23987</td>\n",
       "      <td>0</td>\n",
       "      <td>62.0</td>\n",
       "      <td>3</td>\n",
       "      <td>&lt;p&gt;I was studying on a PAMI article and I have...</td>\n",
       "    </tr>\n",
       "    <tr>\n",
       "      <th>...</th>\n",
       "      <td>...</td>\n",
       "      <td>...</td>\n",
       "      <td>...</td>\n",
       "      <td>...</td>\n",
       "      <td>...</td>\n",
       "      <td>...</td>\n",
       "      <td>...</td>\n",
       "      <td>...</td>\n",
       "      <td>...</td>\n",
       "      <td>...</td>\n",
       "    </tr>\n",
       "    <tr>\n",
       "      <th>90343</th>\n",
       "      <td>54711</td>\n",
       "      <td>4</td>\n",
       "      <td>18</td>\n",
       "      <td>0</td>\n",
       "      <td>0</td>\n",
       "      <td>114527</td>\n",
       "      <td>0</td>\n",
       "      <td>45.0</td>\n",
       "      <td>5</td>\n",
       "      <td>&lt;p&gt;From Shapiro-Wilk's test I see that the res...</td>\n",
       "    </tr>\n",
       "    <tr>\n",
       "      <th>90368</th>\n",
       "      <td>54741</td>\n",
       "      <td>16</td>\n",
       "      <td>1</td>\n",
       "      <td>0</td>\n",
       "      <td>0</td>\n",
       "      <td>113334</td>\n",
       "      <td>3</td>\n",
       "      <td>122.0</td>\n",
       "      <td>9</td>\n",
       "      <td>&lt;p&gt;I am confused on what I have read about the...</td>\n",
       "    </tr>\n",
       "    <tr>\n",
       "      <th>90369</th>\n",
       "      <td>54741</td>\n",
       "      <td>16</td>\n",
       "      <td>1</td>\n",
       "      <td>0</td>\n",
       "      <td>0</td>\n",
       "      <td>113334</td>\n",
       "      <td>3</td>\n",
       "      <td>122.0</td>\n",
       "      <td>9</td>\n",
       "      <td>&lt;p&gt;I am confused on what I have read about the...</td>\n",
       "    </tr>\n",
       "    <tr>\n",
       "      <th>90460</th>\n",
       "      <td>54911</td>\n",
       "      <td>1</td>\n",
       "      <td>1</td>\n",
       "      <td>0</td>\n",
       "      <td>0</td>\n",
       "      <td>113691</td>\n",
       "      <td>0</td>\n",
       "      <td>36.0</td>\n",
       "      <td>11</td>\n",
       "      <td>&lt;p&gt;I extract data related to a movie by sentim...</td>\n",
       "    </tr>\n",
       "    <tr>\n",
       "      <th>90461</th>\n",
       "      <td>54911</td>\n",
       "      <td>1</td>\n",
       "      <td>1</td>\n",
       "      <td>0</td>\n",
       "      <td>0</td>\n",
       "      <td>113691</td>\n",
       "      <td>0</td>\n",
       "      <td>36.0</td>\n",
       "      <td>11</td>\n",
       "      <td>&lt;p&gt;I extract data related to a movie by sentim...</td>\n",
       "    </tr>\n",
       "  </tbody>\n",
       "</table>\n",
       "<p>598 rows × 10 columns</p>\n",
       "</div>"
      ],
      "text/plain": [
       "       user_id  Reputation  Views  UpVotes  DownVotes  post_id  Score  \\\n",
       "8396       760         168     13       13          0     1289      7   \n",
       "8399       760         168     13       13          0     1289      7   \n",
       "8397       760         168     13       13          0     8625      6   \n",
       "8400       760         168     13       13          0     8625      6   \n",
       "8398       760         168     13       13          0    23987      0   \n",
       "...        ...         ...    ...      ...        ...      ...    ...   \n",
       "90343    54711           4     18        0          0   114527      0   \n",
       "90368    54741          16      1        0          0   113334      3   \n",
       "90369    54741          16      1        0          0   113334      3   \n",
       "90460    54911           1      1        0          0   113691      0   \n",
       "90461    54911           1      1        0          0   113691      0   \n",
       "\n",
       "       ViewCount  CommentCount  \\\n",
       "8396      1139.0             8   \n",
       "8399      1139.0             8   \n",
       "8397      1799.0             3   \n",
       "8400      1799.0             3   \n",
       "8398        62.0             3   \n",
       "...          ...           ...   \n",
       "90343       45.0             5   \n",
       "90368      122.0             9   \n",
       "90369      122.0             9   \n",
       "90460       36.0            11   \n",
       "90461       36.0            11   \n",
       "\n",
       "                                                    Body  \n",
       "8396   <p>I am having difficulties to select the righ...  \n",
       "8399   <p>I am having difficulties to select the righ...  \n",
       "8397   <p>I was fiddling with PCA and LDA methods and...  \n",
       "8400   <p>I was fiddling with PCA and LDA methods and...  \n",
       "8398   <p>I was studying on a PAMI article and I have...  \n",
       "...                                                  ...  \n",
       "90343  <p>From Shapiro-Wilk's test I see that the res...  \n",
       "90368  <p>I am confused on what I have read about the...  \n",
       "90369  <p>I am confused on what I have read about the...  \n",
       "90460  <p>I extract data related to a movie by sentim...  \n",
       "90461  <p>I extract data related to a movie by sentim...  \n",
       "\n",
       "[598 rows x 10 columns]"
      ]
     },
     "execution_count": 51,
     "metadata": {},
     "output_type": "execute_result"
    }
   ],
   "source": [
    "posts_from_users[posts_from_users.duplicated(keep=False)].sort_values(by=['user_id', 'post_id'])\n",
    "# posts_from_users"
   ]
  },
  {
   "cell_type": "markdown",
   "metadata": {
    "colab_type": "text",
    "id": "gjdZ0DI-ZD5Y"
   },
   "source": [
    "## Should you drop it? If you think it is reasonable to drop it, then drop it.\n",
    "\n",
    "Think: How would you correct it in the first place? That is, what was wrong in the first place?\n",
    "\n",
    "*Hint:* There's a pandas method to drop duplicates. If you wanted to do it by hand, you could select the indexes of the duplicated values and `.drop()` it. "
   ]
  },
  {
   "cell_type": "code",
   "execution_count": 64,
   "metadata": {
    "ExecuteTime": {
     "end_time": "2020-08-27T16:04:50.170047Z",
     "start_time": "2020-08-27T16:04:50.056530Z"
    },
    "colab": {},
    "colab_type": "code",
    "id": "N0pLpPw3ZD5Y"
   },
   "outputs": [],
   "source": [
    "posts_from_users = posts_from_users.drop(index=(posts_from_users[posts_from_users.duplicated()].index))"
   ]
  },
  {
   "cell_type": "code",
   "execution_count": 66,
   "metadata": {
    "ExecuteTime": {
     "end_time": "2020-08-27T16:04:58.007906Z",
     "start_time": "2020-08-27T16:04:57.999928Z"
    },
    "colab": {},
    "colab_type": "code",
    "id": "c1Hd6HYcZD5c"
   },
   "outputs": [
    {
     "data": {
      "text/plain": [
       "90584"
      ]
     },
     "execution_count": 66,
     "metadata": {},
     "output_type": "execute_result"
    }
   ],
   "source": [
    "len(posts_from_users)"
   ]
  },
  {
   "cell_type": "markdown",
   "metadata": {
    "colab_type": "text",
    "id": "11ZlVVrXZD5l"
   },
   "source": [
    "## 10. How many missing values do you have in your merged dataframe? On which columns?"
   ]
  },
  {
   "cell_type": "code",
   "execution_count": 80,
   "metadata": {
    "ExecuteTime": {
     "end_time": "2020-08-27T16:08:08.563321Z",
     "start_time": "2020-08-27T16:08:08.532384Z"
    },
    "colab": {},
    "colab_type": "code",
    "id": "i7JVp8u7ZD5n"
   },
   "outputs": [
    {
     "data": {
      "text/plain": [
       "True     0.534267\n",
       "False    0.465733\n",
       "Name: ViewCount, dtype: float64"
      ]
     },
     "execution_count": 80,
     "metadata": {},
     "output_type": "execute_result"
    }
   ],
   "source": [
    "posts_from_users['ViewCount'].isna().value_counts(normalize=True)"
   ]
  },
  {
   "cell_type": "markdown",
   "metadata": {
    "colab_type": "text",
    "id": "SdApjJ60ZD5s"
   },
   "source": [
    "## Select only the rows in which there at least some missing values."
   ]
  },
  {
   "cell_type": "code",
   "execution_count": 87,
   "metadata": {
    "ExecuteTime": {
     "end_time": "2020-08-27T16:13:41.721232Z",
     "start_time": "2020-08-27T16:13:41.681361Z"
    },
    "colab": {},
    "colab_type": "code",
    "id": "CbLEUeGUZD5t"
   },
   "outputs": [
    {
     "data": {
      "text/plain": [
       "(48396, 10)"
      ]
     },
     "execution_count": 87,
     "metadata": {},
     "output_type": "execute_result"
    }
   ],
   "source": [
    "posts_from_users_null = posts_from_users[posts_from_users.isnull().any(axis=1)]\n",
    "posts_from_users_null.shape"
   ]
  },
  {
   "cell_type": "markdown",
   "metadata": {
    "colab_type": "text",
    "id": "_FazwWY5ZD5x"
   },
   "source": [
    "## You will need to make something with missing values.  Will you clean or filling them? \n",
    "\n",
    "Pay attention. There can be different reasons for the missings numbers. Look at the `user_id` of some of them, look at the body of the message. Which ones you're sure of what should be and which one can you infer? Don't hurry up, take a look at your data."
   ]
  },
  {
   "cell_type": "code",
   "execution_count": 88,
   "metadata": {
    "ExecuteTime": {
     "end_time": "2020-08-27T16:16:30.199552Z",
     "start_time": "2020-08-27T16:16:28.514588Z"
    }
   },
   "outputs": [],
   "source": [
    "from pandas_profiling import ProfileReport\n",
    "\n",
    "profile = ProfileReport(posts_from_users)\n"
   ]
  },
  {
   "cell_type": "code",
   "execution_count": 90,
   "metadata": {
    "ExecuteTime": {
     "end_time": "2020-08-27T16:19:37.460438Z",
     "start_time": "2020-08-27T16:19:37.077870Z"
    }
   },
   "outputs": [
    {
     "data": {
      "application/vnd.jupyter.widget-view+json": {
       "model_id": "d2da882356ac4da3b8ac546e43a9e025",
       "version_major": 2,
       "version_minor": 0
      },
      "text/plain": [
       "HBox(children=(FloatProgress(value=0.0, description='Export report to file', max=1.0, style=ProgressStyle(desc…"
      ]
     },
     "metadata": {},
     "output_type": "display_data"
    },
    {
     "name": "stdout",
     "output_type": "stream",
     "text": [
      "\n"
     ]
    }
   ],
   "source": [
    "profile.to_file(\"your_report.html\")"
   ]
  },
  {
   "cell_type": "code",
   "execution_count": null,
   "metadata": {},
   "outputs": [],
   "source": []
  },
  {
   "cell_type": "code",
   "execution_count": 85,
   "metadata": {
    "ExecuteTime": {
     "end_time": "2020-08-27T16:13:15.479517Z",
     "start_time": "2020-08-27T16:13:15.445839Z"
    },
    "colab": {},
    "colab_type": "code",
    "id": "SnalSFl1ZD5y"
   },
   "outputs": [
    {
     "data": {
      "text/html": [
       "<div>\n",
       "<style scoped>\n",
       "    .dataframe tbody tr th:only-of-type {\n",
       "        vertical-align: middle;\n",
       "    }\n",
       "\n",
       "    .dataframe tbody tr th {\n",
       "        vertical-align: top;\n",
       "    }\n",
       "\n",
       "    .dataframe thead th {\n",
       "        text-align: right;\n",
       "    }\n",
       "</style>\n",
       "<table border=\"1\" class=\"dataframe\">\n",
       "  <thead>\n",
       "    <tr style=\"text-align: right;\">\n",
       "      <th></th>\n",
       "      <th>user_id</th>\n",
       "      <th>Reputation</th>\n",
       "      <th>Views</th>\n",
       "      <th>UpVotes</th>\n",
       "      <th>DownVotes</th>\n",
       "      <th>post_id</th>\n",
       "      <th>Score</th>\n",
       "      <th>ViewCount</th>\n",
       "      <th>CommentCount</th>\n",
       "      <th>Body</th>\n",
       "    </tr>\n",
       "  </thead>\n",
       "  <tbody>\n",
       "    <tr>\n",
       "      <th>211</th>\n",
       "      <td>5</td>\n",
       "      <td>6792</td>\n",
       "      <td>1145</td>\n",
       "      <td>662</td>\n",
       "      <td>5</td>\n",
       "      <td>6</td>\n",
       "      <td>152</td>\n",
       "      <td>29229.0</td>\n",
       "      <td>5</td>\n",
       "      <td>&lt;p&gt;Last year, I read a blog post from &lt;a href=...</td>\n",
       "    </tr>\n",
       "    <tr>\n",
       "      <th>219</th>\n",
       "      <td>5</td>\n",
       "      <td>6792</td>\n",
       "      <td>1145</td>\n",
       "      <td>662</td>\n",
       "      <td>5</td>\n",
       "      <td>103</td>\n",
       "      <td>28</td>\n",
       "      <td>1990.0</td>\n",
       "      <td>6</td>\n",
       "      <td>&lt;p&gt;What is the best blog on data visualization...</td>\n",
       "    </tr>\n",
       "    <tr>\n",
       "      <th>221</th>\n",
       "      <td>5</td>\n",
       "      <td>6792</td>\n",
       "      <td>1145</td>\n",
       "      <td>662</td>\n",
       "      <td>5</td>\n",
       "      <td>125</td>\n",
       "      <td>75</td>\n",
       "      <td>29261.0</td>\n",
       "      <td>2</td>\n",
       "      <td>&lt;p&gt;Which is the best introductory textbook for...</td>\n",
       "    </tr>\n",
       "    <tr>\n",
       "      <th>233</th>\n",
       "      <td>5</td>\n",
       "      <td>6792</td>\n",
       "      <td>1145</td>\n",
       "      <td>662</td>\n",
       "      <td>5</td>\n",
       "      <td>423</td>\n",
       "      <td>156</td>\n",
       "      <td>64481.0</td>\n",
       "      <td>7</td>\n",
       "      <td>&lt;p&gt;This is one of my favorites:&lt;/p&gt;\\n\\n&lt;p&gt;&lt;img...</td>\n",
       "    </tr>\n",
       "    <tr>\n",
       "      <th>238</th>\n",
       "      <td>5</td>\n",
       "      <td>6792</td>\n",
       "      <td>1145</td>\n",
       "      <td>662</td>\n",
       "      <td>5</td>\n",
       "      <td>562</td>\n",
       "      <td>10</td>\n",
       "      <td>1005.0</td>\n",
       "      <td>1</td>\n",
       "      <td>&lt;p&gt;This is a fairly general question:&lt;/p&gt;\\n\\n&lt;...</td>\n",
       "    </tr>\n",
       "    <tr>\n",
       "      <th>...</th>\n",
       "      <td>...</td>\n",
       "      <td>...</td>\n",
       "      <td>...</td>\n",
       "      <td>...</td>\n",
       "      <td>...</td>\n",
       "      <td>...</td>\n",
       "      <td>...</td>\n",
       "      <td>...</td>\n",
       "      <td>...</td>\n",
       "      <td>...</td>\n",
       "    </tr>\n",
       "    <tr>\n",
       "      <th>90878</th>\n",
       "      <td>55734</td>\n",
       "      <td>1</td>\n",
       "      <td>0</td>\n",
       "      <td>0</td>\n",
       "      <td>0</td>\n",
       "      <td>115352</td>\n",
       "      <td>0</td>\n",
       "      <td>16.0</td>\n",
       "      <td>0</td>\n",
       "      <td>&lt;p&gt;For example, I was looking at &lt;a href=\"http...</td>\n",
       "    </tr>\n",
       "    <tr>\n",
       "      <th>90879</th>\n",
       "      <td>55738</td>\n",
       "      <td>11</td>\n",
       "      <td>0</td>\n",
       "      <td>0</td>\n",
       "      <td>0</td>\n",
       "      <td>115360</td>\n",
       "      <td>2</td>\n",
       "      <td>40.0</td>\n",
       "      <td>4</td>\n",
       "      <td>&lt;p&gt;Is Student's t test a Wald test?&lt;/p&gt;\\n\\n&lt;p&gt;...</td>\n",
       "    </tr>\n",
       "    <tr>\n",
       "      <th>90880</th>\n",
       "      <td>55742</td>\n",
       "      <td>6</td>\n",
       "      <td>0</td>\n",
       "      <td>0</td>\n",
       "      <td>0</td>\n",
       "      <td>115366</td>\n",
       "      <td>1</td>\n",
       "      <td>17.0</td>\n",
       "      <td>0</td>\n",
       "      <td>&lt;p&gt;Does any standard statistical software like...</td>\n",
       "    </tr>\n",
       "    <tr>\n",
       "      <th>90881</th>\n",
       "      <td>55744</td>\n",
       "      <td>6</td>\n",
       "      <td>1</td>\n",
       "      <td>0</td>\n",
       "      <td>0</td>\n",
       "      <td>115370</td>\n",
       "      <td>1</td>\n",
       "      <td>13.0</td>\n",
       "      <td>2</td>\n",
       "      <td>&lt;p&gt;im analyzing an article for my studies with...</td>\n",
       "    </tr>\n",
       "    <tr>\n",
       "      <th>90882</th>\n",
       "      <td>55746</td>\n",
       "      <td>106</td>\n",
       "      <td>1</td>\n",
       "      <td>0</td>\n",
       "      <td>0</td>\n",
       "      <td>115376</td>\n",
       "      <td>1</td>\n",
       "      <td>5.0</td>\n",
       "      <td>2</td>\n",
       "      <td>&lt;p&gt;My goal is to create a formula that can giv...</td>\n",
       "    </tr>\n",
       "  </tbody>\n",
       "</table>\n",
       "<p>42188 rows × 10 columns</p>\n",
       "</div>"
      ],
      "text/plain": [
       "       user_id  Reputation  Views  UpVotes  DownVotes  post_id  Score  \\\n",
       "211          5        6792   1145      662          5        6    152   \n",
       "219          5        6792   1145      662          5      103     28   \n",
       "221          5        6792   1145      662          5      125     75   \n",
       "233          5        6792   1145      662          5      423    156   \n",
       "238          5        6792   1145      662          5      562     10   \n",
       "...        ...         ...    ...      ...        ...      ...    ...   \n",
       "90878    55734           1      0        0          0   115352      0   \n",
       "90879    55738          11      0        0          0   115360      2   \n",
       "90880    55742           6      0        0          0   115366      1   \n",
       "90881    55744           6      1        0          0   115370      1   \n",
       "90882    55746         106      1        0          0   115376      1   \n",
       "\n",
       "       ViewCount  CommentCount  \\\n",
       "211      29229.0             5   \n",
       "219       1990.0             6   \n",
       "221      29261.0             2   \n",
       "233      64481.0             7   \n",
       "238       1005.0             1   \n",
       "...          ...           ...   \n",
       "90878       16.0             0   \n",
       "90879       40.0             4   \n",
       "90880       17.0             0   \n",
       "90881       13.0             2   \n",
       "90882        5.0             2   \n",
       "\n",
       "                                                    Body  \n",
       "211    <p>Last year, I read a blog post from <a href=...  \n",
       "219    <p>What is the best blog on data visualization...  \n",
       "221    <p>Which is the best introductory textbook for...  \n",
       "233    <p>This is one of my favorites:</p>\\n\\n<p><img...  \n",
       "238    <p>This is a fairly general question:</p>\\n\\n<...  \n",
       "...                                                  ...  \n",
       "90878  <p>For example, I was looking at <a href=\"http...  \n",
       "90879  <p>Is Student's t test a Wald test?</p>\\n\\n<p>...  \n",
       "90880  <p>Does any standard statistical software like...  \n",
       "90881  <p>im analyzing an article for my studies with...  \n",
       "90882  <p>My goal is to create a formula that can giv...  \n",
       "\n",
       "[42188 rows x 10 columns]"
      ]
     },
     "execution_count": 85,
     "metadata": {},
     "output_type": "execute_result"
    }
   ],
   "source": [
    "posts_from_users[posts_from_users['ViewCount'].isnull()==False]"
   ]
  },
  {
   "cell_type": "markdown",
   "metadata": {
    "colab_type": "text",
    "id": "ML9wY9ngZD53"
   },
   "source": [
    "## Adjust the data types in order to avoid future issues. Which ones should be changed? "
   ]
  },
  {
   "cell_type": "code",
   "execution_count": null,
   "metadata": {
    "colab": {},
    "colab_type": "code",
    "id": "xGqkLRBlZD54"
   },
   "outputs": [],
   "source": []
  },
  {
   "cell_type": "markdown",
   "metadata": {
    "colab_type": "text",
    "id": "TGypCNS7ZD58"
   },
   "source": [
    "# Bonus 1: (filtering) What is the average number of comments for users who are above the average reputation?\n",
    "\n",
    "*Hint:* Calculate the average of the user Reputation. Store it in a variable called `avg_reputation` and then use that variable for filtering the dataset and generating the results for each case (for the case in which `Reputation > {avg_reputation}` and etc.\n",
    "\n",
    "*Hint 2:* You could create a variable based on that condition and use the group by function perform the task above."
   ]
  },
  {
   "cell_type": "code",
   "execution_count": null,
   "metadata": {
    "colab": {},
    "colab_type": "code",
    "id": "vpSVdJ7FZD59"
   },
   "outputs": [],
   "source": []
  },
  {
   "cell_type": "markdown",
   "metadata": {
    "colab_type": "text",
    "id": "XFjudXuIZD6A"
   },
   "source": [
    "# Bonus 2: (grouping) Group your dataframe by the Reputation of your user. Calculate the mean value of ViewCount and CommentCount for each reputation value.\n",
    "\n",
    "Suppose the missing values on ViewCount are due a systemic error and you wanted to guess what values should have been there in the first place, but the system abended.\n",
    "\n",
    "Would that be an interesting candidate for inputting the value for the missing `ViewCount` values? If so, input it with these values."
   ]
  },
  {
   "cell_type": "code",
   "execution_count": null,
   "metadata": {
    "colab": {},
    "colab_type": "code",
    "id": "g7h6rTQ8ZD6B"
   },
   "outputs": [],
   "source": []
  },
  {
   "cell_type": "code",
   "execution_count": null,
   "metadata": {
    "colab": {},
    "colab_type": "code",
    "id": "ebePBba8ZD6G"
   },
   "outputs": [],
   "source": []
  },
  {
   "cell_type": "markdown",
   "metadata": {
    "colab_type": "text",
    "id": "xZPLn894ZD6M"
   },
   "source": [
    "## refs"
   ]
  },
  {
   "cell_type": "markdown",
   "metadata": {
    "colab_type": "text",
    "id": "z9WU9zwnZD6N"
   },
   "source": [
    "Sample database used: https://relational.fit.cvut.cz/dataset/Stats\n",
    "\n",
    "Stack-overflow database: https://www.brentozar.com/archive/2015/10/how-to-download-the-stack-overflow-database-via-bittorrent/\n"
   ]
  }
 ],
 "metadata": {
  "colab": {
   "collapsed_sections": [],
   "name": "data-cleaning-lab.ipynb",
   "provenance": []
  },
  "kernelspec": {
   "display_name": "Python 3",
   "language": "python",
   "name": "python3"
  },
  "language_info": {
   "codemirror_mode": {
    "name": "ipython",
    "version": 3
   },
   "file_extension": ".py",
   "mimetype": "text/x-python",
   "name": "python",
   "nbconvert_exporter": "python",
   "pygments_lexer": "ipython3",
   "version": "3.8.3"
  },
  "toc": {
   "base_numbering": 1,
   "nav_menu": {},
   "number_sections": true,
   "sideBar": true,
   "skip_h1_title": false,
   "title_cell": "Table of Contents",
   "title_sidebar": "Contents",
   "toc_cell": false,
   "toc_position": {},
   "toc_section_display": true,
   "toc_window_display": false
  },
  "varInspector": {
   "cols": {
    "lenName": 16,
    "lenType": 16,
    "lenVar": 40
   },
   "kernels_config": {
    "python": {
     "delete_cmd_postfix": "",
     "delete_cmd_prefix": "del ",
     "library": "var_list.py",
     "varRefreshCmd": "print(var_dic_list())"
    },
    "r": {
     "delete_cmd_postfix": ") ",
     "delete_cmd_prefix": "rm(",
     "library": "var_list.r",
     "varRefreshCmd": "cat(var_dic_list()) "
    }
   },
   "types_to_exclude": [
    "module",
    "function",
    "builtin_function_or_method",
    "instance",
    "_Feature"
   ],
   "window_display": false
  }
 },
 "nbformat": 4,
 "nbformat_minor": 1
}
