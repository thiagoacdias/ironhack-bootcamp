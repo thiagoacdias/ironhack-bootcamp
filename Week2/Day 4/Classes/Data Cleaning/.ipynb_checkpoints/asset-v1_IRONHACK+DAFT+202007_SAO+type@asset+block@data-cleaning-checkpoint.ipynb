{
 "cells": [
  {
   "cell_type": "markdown",
   "metadata": {},
   "source": [
    "# Data Cleaning\n",
    "> Objectives:\n",
    "    - Given a messy dataset - extract meaningful information from it. \n",
    "    - Learn from the data."
   ]
  },
  {
   "cell_type": "code",
   "execution_count": 1,
   "metadata": {
    "ExecuteTime": {
     "end_time": "2020-08-27T12:17:11.859372Z",
     "start_time": "2020-08-27T12:17:09.774611Z"
    }
   },
   "outputs": [],
   "source": [
    "import pandas as pd\n",
    "import numpy as np"
   ]
  },
  {
   "cell_type": "code",
   "execution_count": 4,
   "metadata": {
    "ExecuteTime": {
     "end_time": "2020-08-27T12:17:44.972991Z",
     "start_time": "2020-08-27T12:17:43.451873Z"
    }
   },
   "outputs": [],
   "source": [
    "vehicles = pd.read_csv('vehicles_messy.csv', low_memory=False)"
   ]
  },
  {
   "cell_type": "code",
   "execution_count": null,
   "metadata": {},
   "outputs": [],
   "source": [
    "vehicles.head()"
   ]
  },
  {
   "cell_type": "code",
   "execution_count": null,
   "metadata": {},
   "outputs": [],
   "source": [
    "# display more columns on the dataframe visualization.\n",
    "pd.options.display.max_columns = 99\n",
    "# usar com parcimonia."
   ]
  },
  {
   "cell_type": "code",
   "execution_count": null,
   "metadata": {},
   "outputs": [],
   "source": [
    "vehicles.head()"
   ]
  },
  {
   "cell_type": "code",
   "execution_count": null,
   "metadata": {
    "ExecuteTime": {
     "end_time": "2020-08-11T02:47:49.444086Z",
     "start_time": "2020-08-11T02:47:49.442113Z"
    }
   },
   "outputs": [],
   "source": [
    "vehicles_not_bkp = vehicles"
   ]
  },
  {
   "cell_type": "code",
   "execution_count": null,
   "metadata": {
    "ExecuteTime": {
     "end_time": "2020-08-11T02:48:01.327992Z",
     "start_time": "2020-08-11T02:48:01.318987Z"
    }
   },
   "outputs": [],
   "source": [
    "vehicles_not_bkp['barrels08'] = 100"
   ]
  },
  {
   "cell_type": "code",
   "execution_count": null,
   "metadata": {
    "ExecuteTime": {
     "end_time": "2020-08-11T02:48:09.241414Z",
     "start_time": "2020-08-11T02:48:09.220415Z"
    }
   },
   "outputs": [],
   "source": [
    "vehicles_not_bkp.head()"
   ]
  },
  {
   "cell_type": "code",
   "execution_count": null,
   "metadata": {
    "ExecuteTime": {
     "end_time": "2020-08-11T02:48:18.113779Z",
     "start_time": "2020-08-11T02:48:18.094781Z"
    }
   },
   "outputs": [],
   "source": [
    "# vehicles also changes :(\n",
    "vehicles.head()"
   ]
  },
  {
   "cell_type": "markdown",
   "metadata": {
    "ExecuteTime": {
     "end_time": "2020-08-11T02:48:52.343165Z",
     "start_time": "2020-08-11T02:48:52.339136Z"
    }
   },
   "source": [
    "When you say: `vehicles_2 = vehicles`, both vehicles_2 and vehicles points to the same location (to optimize storage). If you want to really create a copy to serve as a backup, you have to use the `.copy()` method."
   ]
  },
  {
   "cell_type": "code",
   "execution_count": null,
   "metadata": {
    "scrolled": true
   },
   "outputs": [],
   "source": [
    "# create a copy of our dataset for backup.\n",
    "vehicles_bkp = vehicles.copy()"
   ]
  },
  {
   "cell_type": "code",
   "execution_count": null,
   "metadata": {},
   "outputs": [],
   "source": [
    "# Describing our dataset.\n",
    "vehicles.describe()"
   ]
  },
  {
   "cell_type": "code",
   "execution_count": null,
   "metadata": {},
   "outputs": [],
   "source": [
    "# vehicles.describe().loc[['mean','std'], :'cityCD']"
   ]
  },
  {
   "cell_type": "code",
   "execution_count": null,
   "metadata": {
    "ExecuteTime": {
     "end_time": "2020-06-11T13:33:06.835439Z",
     "start_time": "2020-06-11T13:33:06.787567Z"
    },
    "scrolled": true
   },
   "outputs": [],
   "source": [
    "# Obtaining some metadata from our dataframe.\n",
    "vehicles.info()"
   ]
  },
  {
   "cell_type": "markdown",
   "metadata": {},
   "source": [
    "# Data types of our dataset"
   ]
  },
  {
   "cell_type": "code",
   "execution_count": null,
   "metadata": {},
   "outputs": [],
   "source": [
    "vehicles.dtypes"
   ]
  },
  {
   "cell_type": "code",
   "execution_count": null,
   "metadata": {},
   "outputs": [],
   "source": [
    "vehicles.dtypes == 'float64'"
   ]
  },
  {
   "cell_type": "code",
   "execution_count": null,
   "metadata": {},
   "outputs": [],
   "source": [
    "mask = (vehicles.dtypes == 'object')"
   ]
  },
  {
   "cell_type": "code",
   "execution_count": null,
   "metadata": {},
   "outputs": [],
   "source": [
    "vehicles.dtypes"
   ]
  },
  {
   "cell_type": "code",
   "execution_count": null,
   "metadata": {},
   "outputs": [],
   "source": [
    "vehicles.dtypes.loc[mask]"
   ]
  },
  {
   "cell_type": "code",
   "execution_count": null,
   "metadata": {},
   "outputs": [],
   "source": [
    "selected_columns = vehicles.dtypes.loc[mask].index\n",
    "selected_columns"
   ]
  },
  {
   "cell_type": "code",
   "execution_count": null,
   "metadata": {
    "scrolled": true
   },
   "outputs": [],
   "source": [
    "vehicles.loc[:, selected_columns]"
   ]
  },
  {
   "cell_type": "code",
   "execution_count": null,
   "metadata": {},
   "outputs": [],
   "source": [
    "vehicles.select_dtypes('object')"
   ]
  },
  {
   "cell_type": "markdown",
   "metadata": {},
   "source": [
    "## `.astype()`\n",
    "\n",
    "Converts the type of the column"
   ]
  },
  {
   "cell_type": "code",
   "execution_count": null,
   "metadata": {},
   "outputs": [],
   "source": [
    "vehicles.year.astype(float)"
   ]
  },
  {
   "cell_type": "markdown",
   "metadata": {},
   "source": [
    "# Null (or Missing) values - \n",
    "\n",
    ">    - Called NaN: <u>Not A Number</u>\n",
    ">    - Count \n",
    ">    - <b>Mask</b> concept"
   ]
  },
  {
   "cell_type": "code",
   "execution_count": null,
   "metadata": {
    "ExecuteTime": {
     "end_time": "2020-06-11T13:32:39.693286Z",
     "start_time": "2020-06-11T13:32:39.673364Z"
    },
    "scrolled": true
   },
   "outputs": [],
   "source": [
    "vehicles.head()"
   ]
  },
  {
   "cell_type": "code",
   "execution_count": null,
   "metadata": {
    "ExecuteTime": {
     "end_time": "2020-06-11T13:32:45.183590Z",
     "start_time": "2020-06-11T13:32:45.137689Z"
    }
   },
   "outputs": [],
   "source": [
    "vehicles.isna()"
   ]
  },
  {
   "cell_type": "code",
   "execution_count": null,
   "metadata": {
    "ExecuteTime": {
     "end_time": "2020-06-11T13:32:47.412293Z",
     "start_time": "2020-06-11T13:32:47.366389Z"
    }
   },
   "outputs": [],
   "source": [
    "vehicles.isnull()"
   ]
  },
  {
   "cell_type": "markdown",
   "metadata": {},
   "source": [
    "## Let's select the displ column and see how many missing values this column has."
   ]
  },
  {
   "cell_type": "code",
   "execution_count": null,
   "metadata": {
    "ExecuteTime": {
     "end_time": "2020-06-11T13:35:18.881566Z",
     "start_time": "2020-06-11T13:35:18.875583Z"
    }
   },
   "outputs": [],
   "source": [
    "vehicles['displ'].isnull()"
   ]
  },
  {
   "cell_type": "code",
   "execution_count": null,
   "metadata": {},
   "outputs": [],
   "source": [
    "# How to count it how many missing there are?\n",
    "\n",
    "# How to get the percentage of missing values?"
   ]
  },
  {
   "cell_type": "code",
   "execution_count": null,
   "metadata": {},
   "outputs": [],
   "source": []
  },
  {
   "cell_type": "code",
   "execution_count": null,
   "metadata": {},
   "outputs": [],
   "source": []
  },
  {
   "cell_type": "code",
   "execution_count": null,
   "metadata": {},
   "outputs": [],
   "source": []
  },
  {
   "cell_type": "code",
   "execution_count": null,
   "metadata": {
    "ExecuteTime": {
     "end_time": "2020-06-11T13:35:42.851142Z",
     "start_time": "2020-06-11T13:35:42.847152Z"
    }
   },
   "outputs": [],
   "source": [
    "# sum of a mask\n",
    "vehicles['displ'].isnull().sum()"
   ]
  },
  {
   "cell_type": "code",
   "execution_count": null,
   "metadata": {},
   "outputs": [],
   "source": [
    "# mean of a mask\n",
    "vehicles['displ'].isnull().mean()"
   ]
  },
  {
   "cell_type": "markdown",
   "metadata": {},
   "source": [
    "## What if I wanted to count the number of missing values for each column of the whole dataframe?"
   ]
  },
  {
   "cell_type": "code",
   "execution_count": null,
   "metadata": {
    "ExecuteTime": {
     "end_time": "2020-06-11T13:36:13.638061Z",
     "start_time": "2020-06-11T13:36:13.590161Z"
    }
   },
   "outputs": [],
   "source": [
    "vehicles.isna()"
   ]
  },
  {
   "cell_type": "code",
   "execution_count": null,
   "metadata": {},
   "outputs": [],
   "source": [
    "vehicles.isnull().sum()"
   ]
  },
  {
   "cell_type": "code",
   "execution_count": null,
   "metadata": {},
   "outputs": [],
   "source": [
    "vehicles.isna().mean()"
   ]
  },
  {
   "cell_type": "markdown",
   "metadata": {},
   "source": [
    "## What if we wanted to count Null values for each row?\n",
    "    - axis = 1 \n",
    "    \n"
   ]
  },
  {
   "cell_type": "code",
   "execution_count": null,
   "metadata": {},
   "outputs": [],
   "source": [
    "vehicles.isnull().sum(axis=1)"
   ]
  },
  {
   "cell_type": "code",
   "execution_count": null,
   "metadata": {},
   "outputs": [],
   "source": [
    "vehicles.isnull().mean(axis=1)"
   ]
  },
  {
   "cell_type": "markdown",
   "metadata": {},
   "source": [
    "## Mask of a mask (wat)"
   ]
  },
  {
   "cell_type": "code",
   "execution_count": null,
   "metadata": {
    "ExecuteTime": {
     "end_time": "2020-08-11T02:46:13.543431Z",
     "start_time": "2020-08-11T02:46:13.507431Z"
    }
   },
   "outputs": [],
   "source": [
    "vehicles.isna().mean()"
   ]
  },
  {
   "cell_type": "code",
   "execution_count": null,
   "metadata": {
    "ExecuteTime": {
     "end_time": "2020-08-11T02:46:15.836751Z",
     "start_time": "2020-08-11T02:46:15.800750Z"
    }
   },
   "outputs": [],
   "source": [
    "mask = (vehicles.isna().mean() < 0.8)\n",
    "mask"
   ]
  },
  {
   "cell_type": "code",
   "execution_count": null,
   "metadata": {},
   "outputs": [],
   "source": []
  },
  {
   "cell_type": "code",
   "execution_count": null,
   "metadata": {},
   "outputs": [],
   "source": []
  },
  {
   "cell_type": "code",
   "execution_count": null,
   "metadata": {},
   "outputs": [],
   "source": []
  },
  {
   "cell_type": "code",
   "execution_count": null,
   "metadata": {},
   "outputs": [],
   "source": []
  },
  {
   "cell_type": "code",
   "execution_count": null,
   "metadata": {},
   "outputs": [],
   "source": []
  },
  {
   "cell_type": "code",
   "execution_count": null,
   "metadata": {},
   "outputs": [],
   "source": [
    "mask.loc[mask]"
   ]
  },
  {
   "cell_type": "code",
   "execution_count": null,
   "metadata": {
    "ExecuteTime": {
     "end_time": "2020-06-11T13:36:57.293116Z",
     "start_time": "2020-06-11T13:36:57.287159Z"
    }
   },
   "outputs": [],
   "source": [
    "# the index of this results are the name of the columns in which that condition is True\n",
    "selected_columns = mask.loc[mask].index\n",
    "selected_columns"
   ]
  },
  {
   "cell_type": "code",
   "execution_count": null,
   "metadata": {
    "ExecuteTime": {
     "end_time": "2020-06-11T13:37:18.191628Z",
     "start_time": "2020-06-11T13:37:18.142731Z"
    },
    "scrolled": true
   },
   "outputs": [],
   "source": [
    "vehicles"
   ]
  },
  {
   "cell_type": "markdown",
   "metadata": {},
   "source": [
    "## What if I wanted to select only the rows in which there are at least one missing value (in any column)?"
   ]
  },
  {
   "cell_type": "code",
   "execution_count": null,
   "metadata": {
    "ExecuteTime": {
     "end_time": "2020-08-11T02:47:16.051378Z",
     "start_time": "2020-08-11T02:47:16.019377Z"
    }
   },
   "outputs": [],
   "source": [
    "# this will return True if there is any missing in each COLUMN. \n",
    "vehicles.isnull().any() \n",
    "\n",
    "# How can I check it for each rows? What is the syntax for checking for rows instead of columns?"
   ]
  },
  {
   "cell_type": "code",
   "execution_count": null,
   "metadata": {},
   "outputs": [],
   "source": [
    "vehicles.isnull().any(axis=1)"
   ]
  },
  {
   "cell_type": "markdown",
   "metadata": {},
   "source": [
    "# Dropping columns\n",
    "> `axis=1` or\n",
    "\n",
    "> `columns = ['name_of_column_to_drop1', 'name_of_column_to_drop2' ,...]`"
   ]
  },
  {
   "cell_type": "code",
   "execution_count": null,
   "metadata": {
    "ExecuteTime": {
     "end_time": "2020-06-11T13:38:11.725917Z",
     "start_time": "2020-06-11T13:38:11.707942Z"
    }
   },
   "outputs": [],
   "source": [
    "vehicles.head()"
   ]
  },
  {
   "cell_type": "code",
   "execution_count": null,
   "metadata": {
    "ExecuteTime": {
     "end_time": "2020-06-11T13:38:15.387196Z",
     "start_time": "2020-06-11T13:38:15.381212Z"
    }
   },
   "outputs": [],
   "source": [
    "vehicles['barrelsA08']"
   ]
  },
  {
   "cell_type": "code",
   "execution_count": null,
   "metadata": {
    "ExecuteTime": {
     "end_time": "2020-06-11T13:38:17.384684Z",
     "start_time": "2020-06-11T13:38:17.321825Z"
    },
    "scrolled": true
   },
   "outputs": [],
   "source": [
    "vehicles.drop(columns=['barrelsA08'])"
   ]
  },
  {
   "cell_type": "code",
   "execution_count": null,
   "metadata": {
    "ExecuteTime": {
     "end_time": "2020-06-11T13:38:30.858689Z",
     "start_time": "2020-06-11T13:38:30.794832Z"
    },
    "scrolled": true
   },
   "outputs": [],
   "source": [
    "vehicles.drop(columns=['barrels08','barrelsA08'])"
   ]
  },
  {
   "cell_type": "code",
   "execution_count": null,
   "metadata": {
    "ExecuteTime": {
     "end_time": "2020-06-11T13:38:53.895033Z",
     "start_time": "2020-06-11T13:38:53.878055Z"
    }
   },
   "outputs": [],
   "source": [
    "vehicles.head(2)"
   ]
  },
  {
   "cell_type": "code",
   "execution_count": null,
   "metadata": {},
   "outputs": [],
   "source": [
    "vehicles = vehicles.drop(columns=['barrels08','barrelsA08'])\n",
    "# or\n",
    "# vehicles.drop(columns=['modifiedOn','barrels08'], inplace=True)"
   ]
  },
  {
   "cell_type": "code",
   "execution_count": null,
   "metadata": {},
   "outputs": [],
   "source": [
    "vehicles = vehicles_bkp.copy()"
   ]
  },
  {
   "cell_type": "markdown",
   "metadata": {},
   "source": [
    "# Drop columns based on condition"
   ]
  },
  {
   "cell_type": "markdown",
   "metadata": {},
   "source": [
    "We need to get the name of the columns using masks."
   ]
  },
  {
   "cell_type": "markdown",
   "metadata": {},
   "source": [
    "## Lets store the number of missing values in a variable, and based on the number of missing values that column has, lets remove it or not"
   ]
  },
  {
   "cell_type": "code",
   "execution_count": null,
   "metadata": {
    "ExecuteTime": {
     "end_time": "2020-08-11T02:50:58.541042Z",
     "start_time": "2020-08-11T02:50:58.505056Z"
    }
   },
   "outputs": [],
   "source": [
    "vehicles.isnull().sum()"
   ]
  },
  {
   "cell_type": "code",
   "execution_count": null,
   "metadata": {
    "ExecuteTime": {
     "end_time": "2020-08-11T02:50:59.227057Z",
     "start_time": "2020-08-11T02:50:59.196057Z"
    }
   },
   "outputs": [],
   "source": [
    "n_missings = vehicles.isnull().sum()"
   ]
  },
  {
   "cell_type": "code",
   "execution_count": null,
   "metadata": {
    "ExecuteTime": {
     "end_time": "2020-08-11T02:51:00.985102Z",
     "start_time": "2020-08-11T02:51:00.981100Z"
    }
   },
   "outputs": [],
   "source": [
    "n_missings"
   ]
  },
  {
   "cell_type": "markdown",
   "metadata": {},
   "source": [
    "### create a condition in which you get True for the indexes that have more than 10000 columns."
   ]
  },
  {
   "cell_type": "code",
   "execution_count": null,
   "metadata": {
    "ExecuteTime": {
     "end_time": "2020-08-11T02:51:04.053116Z",
     "start_time": "2020-08-11T02:51:04.047116Z"
    }
   },
   "outputs": [],
   "source": [
    "n_missings > 10000"
   ]
  },
  {
   "cell_type": "markdown",
   "metadata": {},
   "source": [
    "### select from the n_missings pandas Series the ones that returned True."
   ]
  },
  {
   "cell_type": "code",
   "execution_count": null,
   "metadata": {
    "ExecuteTime": {
     "end_time": "2020-08-11T02:51:06.868189Z",
     "start_time": "2020-08-11T02:51:06.862188Z"
    }
   },
   "outputs": [],
   "source": [
    "n_missings.loc[n_missings > 10000]"
   ]
  },
  {
   "cell_type": "markdown",
   "metadata": {},
   "source": [
    "### get the index of that pandas series."
   ]
  },
  {
   "cell_type": "code",
   "execution_count": null,
   "metadata": {
    "ExecuteTime": {
     "end_time": "2020-08-11T02:51:12.582808Z",
     "start_time": "2020-08-11T02:51:12.578807Z"
    },
    "scrolled": true
   },
   "outputs": [],
   "source": [
    "n_missings.loc[n_missings > 10000].index"
   ]
  },
  {
   "cell_type": "code",
   "execution_count": null,
   "metadata": {
    "ExecuteTime": {
     "end_time": "2020-08-11T02:51:20.364212Z",
     "start_time": "2020-08-11T02:51:20.361214Z"
    }
   },
   "outputs": [],
   "source": [
    "### store it in a variable called `columns_to_drop`, for example\n",
    "\n",
    "columns_to_drop = n_missings.loc[n_missings > 10000].index"
   ]
  },
  {
   "cell_type": "code",
   "execution_count": null,
   "metadata": {
    "ExecuteTime": {
     "end_time": "2020-08-11T02:51:31.257724Z",
     "start_time": "2020-08-11T02:51:31.254721Z"
    }
   },
   "outputs": [],
   "source": [
    "# convert into a list just to be clearer\n",
    "columns_to_drop = list(columns_to_drop)\n",
    "columns_to_drop"
   ]
  },
  {
   "cell_type": "code",
   "execution_count": null,
   "metadata": {
    "ExecuteTime": {
     "end_time": "2020-06-11T13:40:45.078062Z",
     "start_time": "2020-06-11T13:40:45.022183Z"
    },
    "scrolled": true
   },
   "outputs": [],
   "source": [
    "vehicles.drop(columns=columns_to_drop)\n"
   ]
  },
  {
   "cell_type": "code",
   "execution_count": null,
   "metadata": {},
   "outputs": [],
   "source": []
  },
  {
   "cell_type": "code",
   "execution_count": null,
   "metadata": {},
   "outputs": [],
   "source": []
  },
  {
   "cell_type": "markdown",
   "metadata": {},
   "source": [
    "-----"
   ]
  },
  {
   "cell_type": "markdown",
   "metadata": {},
   "source": [
    "# Understand the data (!)\n",
    ">    - Deep dive into data\n",
    ">    - <b>Understand the business</b> you're working with\n",
    ">    - Understand how (and if) you can input those values as more meaningful information\n",
    ">    - Fill not a number"
   ]
  },
  {
   "cell_type": "markdown",
   "metadata": {},
   "source": [
    "## Lets get all columns where the displacement is missing."
   ]
  },
  {
   "cell_type": "code",
   "execution_count": null,
   "metadata": {},
   "outputs": [],
   "source": [
    "# passo a passo\n",
    "vehicles['displ']"
   ]
  },
  {
   "cell_type": "code",
   "execution_count": null,
   "metadata": {},
   "outputs": [],
   "source": [
    "# get a mask of which rows are missing\n",
    "vehicles['displ'].isnull()"
   ]
  },
  {
   "cell_type": "code",
   "execution_count": null,
   "metadata": {},
   "outputs": [],
   "source": [
    "# create a new dataframe for those rows where the displacement is missing."
   ]
  },
  {
   "cell_type": "code",
   "execution_count": null,
   "metadata": {},
   "outputs": [],
   "source": [
    "condition = vehicles['displ'].isnull()\n",
    "vehicles.loc[condition, :]"
   ]
  },
  {
   "cell_type": "code",
   "execution_count": null,
   "metadata": {
    "scrolled": true
   },
   "outputs": [],
   "source": [
    "missing_displacement = vehicles.loc[condition, :]\n",
    "missing_displacement"
   ]
  },
  {
   "cell_type": "code",
   "execution_count": null,
   "metadata": {
    "scrolled": true
   },
   "outputs": [],
   "source": [
    "# Lets just see some columns of it.\n",
    "missing_displacement = missing_displacement[['year', 'make', 'model', 'trany', 'drive','fuelType','cylinders', 'displ']]\n",
    "missing_displacement.sample(10)"
   ]
  },
  {
   "cell_type": "code",
   "execution_count": null,
   "metadata": {},
   "outputs": [],
   "source": [
    "missing_displacement"
   ]
  },
  {
   "cell_type": "code",
   "execution_count": null,
   "metadata": {},
   "outputs": [],
   "source": [
    "vehicles.loc[:, ['year', 'make', 'model', 'trany', 'drive','fuelType','cylinders', 'displ']]"
   ]
  },
  {
   "cell_type": "code",
   "execution_count": null,
   "metadata": {},
   "outputs": [],
   "source": [
    "## There's some explanation for why the displacement is zero. What is it?\n",
    "\n",
    "missing_displacement['fuelType'].value_counts()"
   ]
  },
  {
   "cell_type": "code",
   "execution_count": null,
   "metadata": {},
   "outputs": [],
   "source": [
    "missing_displacement.query('fuelType == \"Regular\"')"
   ]
  },
  {
   "cell_type": "code",
   "execution_count": null,
   "metadata": {},
   "outputs": [],
   "source": [
    "vehicles.loc[[21413,21414], 'fuelType'] = 'Regular2'"
   ]
  },
  {
   "cell_type": "code",
   "execution_count": null,
   "metadata": {},
   "outputs": [],
   "source": [
    "vehicles.loc[[21413,21414], 'fuelType']"
   ]
  },
  {
   "cell_type": "code",
   "execution_count": null,
   "metadata": {},
   "outputs": [],
   "source": [
    "missing_displacement[['displ', 'cylinders']].fillna(0)"
   ]
  },
  {
   "cell_type": "code",
   "execution_count": null,
   "metadata": {},
   "outputs": [],
   "source": []
  },
  {
   "cell_type": "code",
   "execution_count": null,
   "metadata": {},
   "outputs": [],
   "source": []
  },
  {
   "cell_type": "code",
   "execution_count": null,
   "metadata": {},
   "outputs": [],
   "source": [
    "#mask = missing_displacement['fuelType'] == 'Electricity'\n",
    "missing_displacement.loc[missing_displacement['fuelType'] == 'Electricity', ['cylinders', 'displ']] = missing_displacement.loc[missing_displacement['fuelType'] == 'Electricity', ['cylinders', 'displ']].fillna(0)\n"
   ]
  },
  {
   "cell_type": "code",
   "execution_count": null,
   "metadata": {},
   "outputs": [],
   "source": [
    "missing_displacement.query('make == \"Subaru\"')"
   ]
  },
  {
   "cell_type": "code",
   "execution_count": null,
   "metadata": {},
   "outputs": [],
   "source": [
    "missing_displacement[['fuelType', 'displ', 'cylinders']].fillna(0)"
   ]
  },
  {
   "cell_type": "code",
   "execution_count": null,
   "metadata": {},
   "outputs": [],
   "source": [
    "## So now that I know this, how can I replace the missing values by the value I want?\n",
    "vehicles.loc[:, ['displ', 'cylinders']] = vehicles.loc[:, ['displ', 'cylinders']].fillna(0)"
   ]
  },
  {
   "cell_type": "code",
   "execution_count": null,
   "metadata": {},
   "outputs": [],
   "source": [
    "vehicles.displ.isna().sum()"
   ]
  },
  {
   "cell_type": "markdown",
   "metadata": {},
   "source": [
    "## Use cases\n",
    ">    - Cheque devolvido = 0 _vs_ Cheque devolvido = NaN"
   ]
  },
  {
   "cell_type": "markdown",
   "metadata": {},
   "source": [
    "# Correct wrong data"
   ]
  },
  {
   "cell_type": "code",
   "execution_count": null,
   "metadata": {},
   "outputs": [],
   "source": [
    "# create a condition for which cylinders value == 0\n",
    "no_cylinder = (vehicles['cylinders'] == 0)\n",
    "\n",
    "\n",
    "# create a condition for which displacement is different from 0\n",
    "yes_displacement = (vehicles['displ'] != 0)"
   ]
  },
  {
   "cell_type": "code",
   "execution_count": null,
   "metadata": {},
   "outputs": [],
   "source": [
    "(no_cylinder & yes_displacement).sum()"
   ]
  },
  {
   "cell_type": "code",
   "execution_count": null,
   "metadata": {},
   "outputs": [],
   "source": [
    "vehicles.loc[no_cylinder & yes_displacement, :]"
   ]
  },
  {
   "cell_type": "code",
   "execution_count": null,
   "metadata": {},
   "outputs": [],
   "source": [
    "test = vehicles.loc[no_cylinder & yes_displacement, :]\n",
    "\n",
    "test[['year', 'make', 'model', 'trany', 'drive','fuelType','cylinders', 'displ']]"
   ]
  },
  {
   "cell_type": "code",
   "execution_count": null,
   "metadata": {
    "scrolled": true
   },
   "outputs": [],
   "source": [
    "mask = vehicles['make'] == 'Mazda'\n",
    "vehicles.loc[mask]"
   ]
  },
  {
   "cell_type": "code",
   "execution_count": null,
   "metadata": {},
   "outputs": [],
   "source": [
    "left_table = vehicles"
   ]
  },
  {
   "cell_type": "code",
   "execution_count": null,
   "metadata": {
    "scrolled": true
   },
   "outputs": [],
   "source": [
    "right_table = vehicles.groupby(by=['make','year']).median()[['cylinders']]"
   ]
  },
  {
   "cell_type": "code",
   "execution_count": null,
   "metadata": {},
   "outputs": [],
   "source": [
    "right_table"
   ]
  },
  {
   "cell_type": "code",
   "execution_count": null,
   "metadata": {},
   "outputs": [],
   "source": [
    "merged_table = pd.merge(left=left_table, right=right_table, on=['make','year'])"
   ]
  },
  {
   "cell_type": "code",
   "execution_count": null,
   "metadata": {},
   "outputs": [],
   "source": [
    "merged_table.loc[no_cylinder & yes_displacement, 'cylinders_x'] = merged_table.loc[no_cylinder & yes_displacement, 'cylinders_y']"
   ]
  },
  {
   "cell_type": "markdown",
   "metadata": {},
   "source": [
    "# Dropping or checking duplicates rows\n",
    "    \n",
    ">    - Dropping fully duplicate row\n",
    ">    - Subset\n",
    ">    - `.duplicated()`"
   ]
  },
  {
   "cell_type": "code",
   "execution_count": null,
   "metadata": {},
   "outputs": [],
   "source": [
    "test = pd.DataFrame({'cpf':[1,2,2,2,2], 'vlr':[10,20,35,20,25], 'ano':[1992, 1993, 1993, 1993, 1994]})"
   ]
  },
  {
   "cell_type": "code",
   "execution_count": null,
   "metadata": {},
   "outputs": [],
   "source": [
    "test"
   ]
  },
  {
   "cell_type": "code",
   "execution_count": null,
   "metadata": {},
   "outputs": [],
   "source": [
    "test.loc[test.duplicated(keep=False), :]"
   ]
  },
  {
   "cell_type": "code",
   "execution_count": null,
   "metadata": {},
   "outputs": [],
   "source": [
    "test.duplicated(subset=['cpf'] , keep=False)"
   ]
  },
  {
   "cell_type": "code",
   "execution_count": null,
   "metadata": {},
   "outputs": [],
   "source": [
    "test.drop_duplicates()"
   ]
  },
  {
   "cell_type": "code",
   "execution_count": null,
   "metadata": {},
   "outputs": [],
   "source": [
    "test.drop_duplicates(subset=['cpf'])"
   ]
  },
  {
   "cell_type": "code",
   "execution_count": null,
   "metadata": {},
   "outputs": [],
   "source": [
    "test.groupby('cpf').agg({'vlr':sum, 'ano':'max'}).reset_index()"
   ]
  },
  {
   "cell_type": "code",
   "execution_count": null,
   "metadata": {},
   "outputs": [],
   "source": []
  },
  {
   "cell_type": "markdown",
   "metadata": {},
   "source": [
    "# MissingNo"
   ]
  },
  {
   "cell_type": "code",
   "execution_count": null,
   "metadata": {
    "ExecuteTime": {
     "end_time": "2020-08-11T02:41:59.178505Z",
     "start_time": "2020-08-11T02:41:56.143101Z"
    }
   },
   "outputs": [],
   "source": [
    "!pip install missingno --user"
   ]
  },
  {
   "cell_type": "code",
   "execution_count": null,
   "metadata": {
    "ExecuteTime": {
     "end_time": "2020-08-11T02:42:43.663538Z",
     "start_time": "2020-08-11T02:42:41.251539Z"
    }
   },
   "outputs": [],
   "source": [
    "import missingno as msno\n",
    "msno.matrix(vehicles.sample(2500))"
   ]
  },
  {
   "cell_type": "code",
   "execution_count": null,
   "metadata": {
    "ExecuteTime": {
     "end_time": "2020-08-11T02:44:48.354928Z",
     "start_time": "2020-08-11T02:44:47.979926Z"
    }
   },
   "outputs": [],
   "source": [
    "msno.bar(vehicles)"
   ]
  }
 ],
 "metadata": {
  "kernelspec": {
   "display_name": "Python 3",
   "language": "python",
   "name": "python3"
  },
  "language_info": {
   "codemirror_mode": {
    "name": "ipython",
    "version": 3
   },
   "file_extension": ".py",
   "mimetype": "text/x-python",
   "name": "python",
   "nbconvert_exporter": "python",
   "pygments_lexer": "ipython3",
   "version": "3.8.3"
  },
  "toc": {
   "base_numbering": 1,
   "nav_menu": {},
   "number_sections": true,
   "sideBar": true,
   "skip_h1_title": false,
   "title_cell": "Table of Contents",
   "title_sidebar": "Contents",
   "toc_cell": false,
   "toc_position": {},
   "toc_section_display": true,
   "toc_window_display": false
  }
 },
 "nbformat": 4,
 "nbformat_minor": 2
}
