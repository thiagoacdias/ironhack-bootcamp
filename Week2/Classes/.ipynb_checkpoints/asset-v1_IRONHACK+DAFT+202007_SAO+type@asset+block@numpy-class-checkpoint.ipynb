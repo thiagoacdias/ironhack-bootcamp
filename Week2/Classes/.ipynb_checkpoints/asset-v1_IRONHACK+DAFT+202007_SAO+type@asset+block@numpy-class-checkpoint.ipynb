{
 "cells": [
  {
   "cell_type": "markdown",
   "metadata": {},
   "source": [
    "# Numpy"
   ]
  },
  {
   "cell_type": "markdown",
   "metadata": {},
   "source": [
    "## Installation \n",
    "\n"
   ]
  },
  {
   "cell_type": "code",
   "execution_count": null,
   "metadata": {},
   "outputs": [],
   "source": [
    "!pip install numpy"
   ]
  },
  {
   "cell_type": "markdown",
   "metadata": {},
   "source": [
    "## Importing numpy convention"
   ]
  },
  {
   "cell_type": "code",
   "execution_count": 1,
   "metadata": {
    "ExecuteTime": {
     "end_time": "2020-07-29T00:20:48.588387Z",
     "start_time": "2020-07-29T00:20:48.586387Z"
    }
   },
   "outputs": [],
   "source": [
    "# import numpy\n",
    "import numpy as np"
   ]
  },
  {
   "cell_type": "code",
   "execution_count": 2,
   "metadata": {
    "ExecuteTime": {
     "end_time": "2020-07-29T00:21:31.956740Z",
     "start_time": "2020-07-29T00:21:31.952767Z"
    }
   },
   "outputs": [
    {
     "data": {
      "text/plain": [
       "'1.18.5'"
      ]
     },
     "execution_count": 2,
     "metadata": {},
     "output_type": "execute_result"
    }
   ],
   "source": [
    "np.__version__"
   ]
  },
  {
   "cell_type": "markdown",
   "metadata": {},
   "source": [
    "## What is Numpy?"
   ]
  },
  {
   "cell_type": "markdown",
   "metadata": {
    "ExecuteTime": {
     "end_time": "2020-07-28T13:56:19.061952Z",
     "start_time": "2020-07-28T13:56:19.057952Z"
    }
   },
   "source": [
    "Numpy is a package in Python created to help dealing with mathematical operations. \n",
    "\n",
    "- Standard Deviation\n",
    "- Mean\n",
    "- Generate random numbers\n",
    "- Selecting random items\n",
    "- sine, cosine, $\\pi$"
   ]
  },
  {
   "cell_type": "code",
   "execution_count": null,
   "metadata": {
    "ExecuteTime": {
     "end_time": "2020-07-29T00:23:00.036134Z",
     "start_time": "2020-07-29T00:23:00.031136Z"
    }
   },
   "outputs": [],
   "source": [
    "np.std([10, 10, 12, 13, 8, 7])"
   ]
  },
  {
   "cell_type": "code",
   "execution_count": null,
   "metadata": {
    "ExecuteTime": {
     "end_time": "2020-07-29T00:23:48.949235Z",
     "start_time": "2020-07-29T00:23:48.945235Z"
    }
   },
   "outputs": [],
   "source": [
    "np.mean([11, 10, 12, 13, 8, 7])"
   ]
  },
  {
   "cell_type": "code",
   "execution_count": null,
   "metadata": {
    "ExecuteTime": {
     "end_time": "2020-07-29T00:24:36.076142Z",
     "start_time": "2020-07-29T00:24:36.073170Z"
    }
   },
   "outputs": [],
   "source": [
    "np.random.randint(0, 10, size=10)"
   ]
  },
  {
   "cell_type": "code",
   "execution_count": null,
   "metadata": {
    "ExecuteTime": {
     "end_time": "2020-07-29T00:25:41.973713Z",
     "start_time": "2020-07-29T00:25:41.969685Z"
    }
   },
   "outputs": [],
   "source": [
    "np.random.random(size=3)"
   ]
  },
  {
   "cell_type": "code",
   "execution_count": null,
   "metadata": {
    "ExecuteTime": {
     "end_time": "2020-07-29T00:26:06.312503Z",
     "start_time": "2020-07-29T00:26:06.308502Z"
    }
   },
   "outputs": [],
   "source": [
    "np.random.random()"
   ]
  },
  {
   "cell_type": "code",
   "execution_count": null,
   "metadata": {
    "ExecuteTime": {
     "end_time": "2020-07-29T00:27:16.259979Z",
     "start_time": "2020-07-29T00:27:16.254978Z"
    }
   },
   "outputs": [],
   "source": [
    "np.random.choice(['Donato','Diego','Raiana','Rodrigo'])"
   ]
  },
  {
   "cell_type": "code",
   "execution_count": null,
   "metadata": {
    "ExecuteTime": {
     "end_time": "2020-07-29T00:27:28.557877Z",
     "start_time": "2020-07-29T00:27:28.552878Z"
    }
   },
   "outputs": [],
   "source": [
    "np.pi"
   ]
  },
  {
   "cell_type": "code",
   "execution_count": null,
   "metadata": {
    "ExecuteTime": {
     "end_time": "2020-07-29T00:29:28.147155Z",
     "start_time": "2020-07-29T00:29:28.141152Z"
    }
   },
   "outputs": [],
   "source": [
    "np.sin(np.pi / 4)"
   ]
  },
  {
   "cell_type": "markdown",
   "metadata": {},
   "source": [
    "## What are numpy arrays?\n",
    "\n",
    "Numpy arrays are very close to **lists** in python. The main differences for us in data analysis are:\n",
    "\n",
    "- You can perform mathematical operations within numpy arrays\n",
    "- There are *LOTS* of new mathematical **methods** that you can use in numpy arrays\n",
    "- Operations are much faster (if you are dealing with big data). In more depth, numpy arrays are contiguous blocks of memory."
   ]
  },
  {
   "cell_type": "code",
   "execution_count": null,
   "metadata": {
    "ExecuteTime": {
     "end_time": "2020-07-29T00:35:25.110028Z",
     "start_time": "2020-07-29T00:35:25.105999Z"
    }
   },
   "outputs": [],
   "source": [
    "np.array([1, 2])"
   ]
  },
  {
   "cell_type": "code",
   "execution_count": null,
   "metadata": {
    "ExecuteTime": {
     "end_time": "2020-07-29T00:35:42.064342Z",
     "start_time": "2020-07-29T00:35:42.059341Z"
    }
   },
   "outputs": [],
   "source": [
    "type([1, 2])"
   ]
  },
  {
   "cell_type": "code",
   "execution_count": null,
   "metadata": {
    "ExecuteTime": {
     "end_time": "2020-07-29T00:35:38.353752Z",
     "start_time": "2020-07-29T00:35:38.349720Z"
    }
   },
   "outputs": [],
   "source": [
    "type(np.array([1, 2]))"
   ]
  },
  {
   "cell_type": "markdown",
   "metadata": {},
   "source": [
    "## Creating a numpy array from a list"
   ]
  },
  {
   "cell_type": "code",
   "execution_count": null,
   "metadata": {
    "ExecuteTime": {
     "end_time": "2020-07-29T00:35:59.919254Z",
     "start_time": "2020-07-29T00:35:59.916256Z"
    }
   },
   "outputs": [],
   "source": [
    "a = [1,3,5,10]"
   ]
  },
  {
   "cell_type": "code",
   "execution_count": null,
   "metadata": {
    "ExecuteTime": {
     "end_time": "2020-07-29T00:36:00.410256Z",
     "start_time": "2020-07-29T00:36:00.406254Z"
    }
   },
   "outputs": [],
   "source": [
    "a"
   ]
  },
  {
   "cell_type": "code",
   "execution_count": null,
   "metadata": {
    "ExecuteTime": {
     "end_time": "2020-07-29T00:36:02.145255Z",
     "start_time": "2020-07-29T00:36:02.142254Z"
    }
   },
   "outputs": [],
   "source": [
    "type(a)"
   ]
  },
  {
   "cell_type": "markdown",
   "metadata": {},
   "source": [
    "- what happens if you try to multiply the elements of a list by 2? \n",
    "- how do you check if the elements of a list is greater than 3?"
   ]
  },
  {
   "cell_type": "code",
   "execution_count": null,
   "metadata": {
    "ExecuteTime": {
     "end_time": "2020-07-29T00:36:36.095924Z",
     "start_time": "2020-07-29T00:36:36.092924Z"
    }
   },
   "outputs": [],
   "source": [
    "a"
   ]
  },
  {
   "cell_type": "code",
   "execution_count": null,
   "metadata": {
    "ExecuteTime": {
     "end_time": "2020-07-29T00:36:13.611956Z",
     "start_time": "2020-07-29T00:36:13.607958Z"
    }
   },
   "outputs": [],
   "source": [
    "a * 2"
   ]
  },
  {
   "cell_type": "code",
   "execution_count": null,
   "metadata": {
    "ExecuteTime": {
     "end_time": "2020-07-29T00:37:35.565985Z",
     "start_time": "2020-07-29T00:37:35.555985Z"
    }
   },
   "outputs": [],
   "source": [
    "a > 3"
   ]
  },
  {
   "cell_type": "code",
   "execution_count": null,
   "metadata": {
    "ExecuteTime": {
     "end_time": "2020-07-29T00:38:13.365827Z",
     "start_time": "2020-07-29T00:38:13.362829Z"
    }
   },
   "outputs": [],
   "source": [
    "b = np.array(a)"
   ]
  },
  {
   "cell_type": "code",
   "execution_count": null,
   "metadata": {
    "ExecuteTime": {
     "end_time": "2020-07-29T00:38:52.142646Z",
     "start_time": "2020-07-29T00:38:52.138644Z"
    }
   },
   "outputs": [],
   "source": [
    "b\n",
    "# check methods of b.<TAB>"
   ]
  },
  {
   "cell_type": "code",
   "execution_count": null,
   "metadata": {
    "ExecuteTime": {
     "end_time": "2020-07-29T00:39:04.707221Z",
     "start_time": "2020-07-29T00:39:04.704221Z"
    }
   },
   "outputs": [],
   "source": [
    "b"
   ]
  },
  {
   "cell_type": "code",
   "execution_count": null,
   "metadata": {
    "ExecuteTime": {
     "end_time": "2020-07-29T00:39:00.549408Z",
     "start_time": "2020-07-29T00:39:00.546406Z"
    }
   },
   "outputs": [],
   "source": [
    "b * 2"
   ]
  },
  {
   "cell_type": "code",
   "execution_count": null,
   "metadata": {
    "ExecuteTime": {
     "end_time": "2020-07-29T00:49:15.461982Z",
     "start_time": "2020-07-29T00:49:15.458981Z"
    }
   },
   "outputs": [],
   "source": [
    "b + 2"
   ]
  },
  {
   "cell_type": "code",
   "execution_count": null,
   "metadata": {
    "ExecuteTime": {
     "end_time": "2020-07-29T00:40:23.360023Z",
     "start_time": "2020-07-29T00:40:23.357023Z"
    }
   },
   "outputs": [],
   "source": [
    "b > 3"
   ]
  },
  {
   "cell_type": "markdown",
   "metadata": {},
   "source": [
    "### 1-D array\n",
    "\n",
    "1-D array is what we usually call a **vector**"
   ]
  },
  {
   "cell_type": "code",
   "execution_count": null,
   "metadata": {
    "ExecuteTime": {
     "end_time": "2020-07-29T00:50:34.056214Z",
     "start_time": "2020-07-29T00:50:34.053215Z"
    }
   },
   "outputs": [],
   "source": [
    "array_1d = np.random.random(size=10)\n",
    "array_1d"
   ]
  },
  {
   "cell_type": "code",
   "execution_count": null,
   "metadata": {
    "ExecuteTime": {
     "end_time": "2020-07-29T00:51:10.832517Z",
     "start_time": "2020-07-29T00:51:10.829518Z"
    }
   },
   "outputs": [],
   "source": [
    "array_1d.shape"
   ]
  },
  {
   "cell_type": "code",
   "execution_count": null,
   "metadata": {
    "ExecuteTime": {
     "end_time": "2020-07-29T00:53:03.207476Z",
     "start_time": "2020-07-29T00:53:03.203475Z"
    }
   },
   "outputs": [],
   "source": [
    "array_1d[-1]"
   ]
  },
  {
   "cell_type": "code",
   "execution_count": null,
   "metadata": {
    "ExecuteTime": {
     "end_time": "2020-07-29T00:53:49.013699Z",
     "start_time": "2020-07-29T00:53:49.008703Z"
    }
   },
   "outputs": [],
   "source": [
    "array_1d.max()"
   ]
  },
  {
   "cell_type": "markdown",
   "metadata": {},
   "source": [
    "### 2-D array: **row, column**: this is the most important \n",
    "\n",
    "2-D arrays are what we usually call a **matrix**\n",
    "\n",
    "\n",
    "- Imagine that rows are the observations of your data set\n",
    "- Imagine that columns are the characteristics of your data\n",
    "\n"
   ]
  },
  {
   "cell_type": "code",
   "execution_count": null,
   "metadata": {
    "ExecuteTime": {
     "end_time": "2020-07-29T00:57:00.519057Z",
     "start_time": "2020-07-29T00:57:00.515056Z"
    }
   },
   "outputs": [],
   "source": [
    "np.random.random(size=(5, 3))"
   ]
  },
  {
   "cell_type": "code",
   "execution_count": null,
   "metadata": {
    "ExecuteTime": {
     "end_time": "2020-07-29T00:58:07.268836Z",
     "start_time": "2020-07-29T00:58:07.265805Z"
    }
   },
   "outputs": [],
   "source": [
    "array_2d = np.random.random(size=(5,3))"
   ]
  },
  {
   "cell_type": "code",
   "execution_count": null,
   "metadata": {
    "ExecuteTime": {
     "end_time": "2020-07-29T00:58:08.094808Z",
     "start_time": "2020-07-29T00:58:08.091805Z"
    }
   },
   "outputs": [],
   "source": [
    "array_2d"
   ]
  },
  {
   "cell_type": "code",
   "execution_count": null,
   "metadata": {
    "ExecuteTime": {
     "end_time": "2020-07-29T00:58:22.191570Z",
     "start_time": "2020-07-29T00:58:22.187570Z"
    }
   },
   "outputs": [],
   "source": [
    "array_2d.shape"
   ]
  },
  {
   "cell_type": "code",
   "execution_count": null,
   "metadata": {
    "ExecuteTime": {
     "end_time": "2020-07-29T00:58:53.343413Z",
     "start_time": "2020-07-29T00:58:53.339413Z"
    }
   },
   "outputs": [],
   "source": [
    "array_2d.size"
   ]
  },
  {
   "cell_type": "markdown",
   "metadata": {},
   "source": [
    "### N-D array"
   ]
  },
  {
   "cell_type": "code",
   "execution_count": null,
   "metadata": {
    "ExecuteTime": {
     "end_time": "2020-07-29T00:59:31.320445Z",
     "start_time": "2020-07-29T00:59:31.318444Z"
    }
   },
   "outputs": [],
   "source": [
    "array_3d = np.random.random((4,2,3))"
   ]
  },
  {
   "cell_type": "code",
   "execution_count": null,
   "metadata": {
    "ExecuteTime": {
     "end_time": "2020-07-29T00:59:31.897444Z",
     "start_time": "2020-07-29T00:59:31.894474Z"
    }
   },
   "outputs": [],
   "source": [
    "array_3d"
   ]
  },
  {
   "cell_type": "code",
   "execution_count": null,
   "metadata": {
    "ExecuteTime": {
     "end_time": "2020-07-29T00:59:44.117774Z",
     "start_time": "2020-07-29T00:59:44.113774Z"
    }
   },
   "outputs": [],
   "source": [
    "array_3d.shape"
   ]
  },
  {
   "cell_type": "markdown",
   "metadata": {},
   "source": [
    "# Accessing elements of numpy arrays"
   ]
  },
  {
   "cell_type": "markdown",
   "metadata": {},
   "source": [
    "## 1-D array: `array_1d[index]` (like lists):"
   ]
  },
  {
   "cell_type": "code",
   "execution_count": null,
   "metadata": {
    "ExecuteTime": {
     "end_time": "2020-07-29T01:14:41.263208Z",
     "start_time": "2020-07-29T01:14:41.259205Z"
    }
   },
   "outputs": [],
   "source": [
    "array_1d"
   ]
  },
  {
   "cell_type": "code",
   "execution_count": null,
   "metadata": {
    "ExecuteTime": {
     "end_time": "2020-07-29T01:15:25.069319Z",
     "start_time": "2020-07-29T01:15:25.065340Z"
    }
   },
   "outputs": [],
   "source": [
    "array_1d[0]"
   ]
  },
  {
   "cell_type": "code",
   "execution_count": null,
   "metadata": {
    "ExecuteTime": {
     "end_time": "2020-07-29T01:15:26.571870Z",
     "start_time": "2020-07-29T01:15:26.568869Z"
    }
   },
   "outputs": [],
   "source": [
    "array_1d[3]"
   ]
  },
  {
   "cell_type": "code",
   "execution_count": null,
   "metadata": {
    "ExecuteTime": {
     "end_time": "2020-07-29T01:15:45.975377Z",
     "start_time": "2020-07-29T01:15:45.970379Z"
    }
   },
   "outputs": [],
   "source": [
    "array_1d[-1]"
   ]
  },
  {
   "cell_type": "markdown",
   "metadata": {},
   "source": [
    "## 2-D arrays:  `array_2d[row_number, column_number]`"
   ]
  },
  {
   "cell_type": "code",
   "execution_count": null,
   "metadata": {
    "ExecuteTime": {
     "end_time": "2020-07-29T01:16:07.695124Z",
     "start_time": "2020-07-29T01:16:07.692124Z"
    }
   },
   "outputs": [],
   "source": [
    "array_2d"
   ]
  },
  {
   "cell_type": "code",
   "execution_count": null,
   "metadata": {
    "ExecuteTime": {
     "end_time": "2020-07-29T01:17:21.952530Z",
     "start_time": "2020-07-29T01:17:21.948553Z"
    }
   },
   "outputs": [],
   "source": [
    "array_2d[1, 2]"
   ]
  },
  {
   "cell_type": "code",
   "execution_count": null,
   "metadata": {
    "ExecuteTime": {
     "end_time": "2020-07-29T01:17:53.928282Z",
     "start_time": "2020-07-29T01:17:53.925282Z"
    }
   },
   "outputs": [],
   "source": [
    "array_2d[1, -1]"
   ]
  },
  {
   "cell_type": "code",
   "execution_count": null,
   "metadata": {
    "ExecuteTime": {
     "end_time": "2020-07-29T01:18:32.615076Z",
     "start_time": "2020-07-29T01:18:32.612077Z"
    }
   },
   "outputs": [],
   "source": [
    "array_2d[-1, 0]"
   ]
  },
  {
   "cell_type": "code",
   "execution_count": null,
   "metadata": {
    "ExecuteTime": {
     "end_time": "2020-07-29T01:20:13.397787Z",
     "start_time": "2020-07-29T01:20:13.394786Z"
    }
   },
   "outputs": [],
   "source": [
    "array_2d[1, 0:2]"
   ]
  },
  {
   "cell_type": "code",
   "execution_count": null,
   "metadata": {
    "ExecuteTime": {
     "end_time": "2020-07-29T01:22:07.359370Z",
     "start_time": "2020-07-29T01:22:07.354372Z"
    }
   },
   "outputs": [],
   "source": [
    "array_2d[0:,2]"
   ]
  },
  {
   "cell_type": "code",
   "execution_count": null,
   "metadata": {
    "ExecuteTime": {
     "end_time": "2020-07-29T01:23:08.099387Z",
     "start_time": "2020-07-29T01:23:08.095387Z"
    }
   },
   "outputs": [],
   "source": [
    "array_2d[:,0:2]"
   ]
  },
  {
   "cell_type": "code",
   "execution_count": null,
   "metadata": {
    "ExecuteTime": {
     "end_time": "2020-07-29T01:23:55.011455Z",
     "start_time": "2020-07-29T01:23:55.008454Z"
    }
   },
   "outputs": [],
   "source": [
    "array_2d[:, 0] = -1"
   ]
  },
  {
   "cell_type": "code",
   "execution_count": null,
   "metadata": {
    "ExecuteTime": {
     "end_time": "2020-07-29T01:23:57.509791Z",
     "start_time": "2020-07-29T01:23:57.505819Z"
    }
   },
   "outputs": [],
   "source": [
    "array_2d"
   ]
  },
  {
   "cell_type": "markdown",
   "metadata": {
    "ExecuteTime": {
     "end_time": "2020-07-28T14:12:43.694591Z",
     "start_time": "2020-07-28T14:12:43.690591Z"
    }
   },
   "source": [
    "- 3D arrays works the same way, `array_3d[x_index, y_index, z_index]`"
   ]
  },
  {
   "cell_type": "code",
   "execution_count": null,
   "metadata": {
    "ExecuteTime": {
     "end_time": "2020-07-29T01:24:46.560295Z",
     "start_time": "2020-07-29T01:24:46.556265Z"
    }
   },
   "outputs": [],
   "source": [
    "array_3d"
   ]
  },
  {
   "cell_type": "code",
   "execution_count": null,
   "metadata": {
    "ExecuteTime": {
     "end_time": "2020-07-29T01:25:09.529482Z",
     "start_time": "2020-07-29T01:25:09.524481Z"
    }
   },
   "outputs": [],
   "source": [
    "array_3d.shape"
   ]
  },
  {
   "cell_type": "code",
   "execution_count": null,
   "metadata": {
    "ExecuteTime": {
     "end_time": "2020-07-29T01:25:13.136482Z",
     "start_time": "2020-07-29T01:25:13.132482Z"
    }
   },
   "outputs": [],
   "source": [
    "array_3d[3,0,1:3]"
   ]
  },
  {
   "cell_type": "markdown",
   "metadata": {},
   "source": [
    "# Converting to np.array\n",
    "\n",
    "Sometimes you have a list, or a list of lists and you want to convert it to a numpy array to perform math operations or use the numpy methods. You just need to `np.array(thing)` and it will try to convert it to a numpy array."
   ]
  },
  {
   "cell_type": "code",
   "execution_count": null,
   "metadata": {
    "ExecuteTime": {
     "end_time": "2020-07-29T01:26:50.128319Z",
     "start_time": "2020-07-29T01:26:50.125320Z"
    }
   },
   "outputs": [],
   "source": [
    "my_list = [1,4,7,8]\n",
    "my_list"
   ]
  },
  {
   "cell_type": "code",
   "execution_count": null,
   "metadata": {
    "ExecuteTime": {
     "end_time": "2020-07-29T01:26:58.245954Z",
     "start_time": "2020-07-29T01:26:58.241930Z"
    }
   },
   "outputs": [],
   "source": [
    "np.array(my_list)"
   ]
  },
  {
   "cell_type": "code",
   "execution_count": null,
   "metadata": {
    "ExecuteTime": {
     "end_time": "2020-07-29T01:27:00.670292Z",
     "start_time": "2020-07-29T01:27:00.667289Z"
    }
   },
   "outputs": [],
   "source": [
    "my_list"
   ]
  },
  {
   "cell_type": "markdown",
   "metadata": {},
   "source": [
    "- **NOTE**: don't forget that the above haven't exactly `converted` my_list to a numpy array. `my_list` remains intact, but `np.array(my_list)` **returns** a numpy array. If you want to store it, you have to **assign** it to another variable (or the same, actually, if you really want to transform it)"
   ]
  },
  {
   "cell_type": "code",
   "execution_count": null,
   "metadata": {
    "ExecuteTime": {
     "end_time": "2020-07-29T01:27:14.388621Z",
     "start_time": "2020-07-29T01:27:14.386622Z"
    }
   },
   "outputs": [],
   "source": [
    "another_variable = np.array(my_list)"
   ]
  },
  {
   "cell_type": "code",
   "execution_count": null,
   "metadata": {
    "ExecuteTime": {
     "end_time": "2020-07-29T01:27:22.479870Z",
     "start_time": "2020-07-29T01:27:22.474870Z"
    }
   },
   "outputs": [],
   "source": [
    "my_list"
   ]
  },
  {
   "cell_type": "code",
   "execution_count": null,
   "metadata": {
    "ExecuteTime": {
     "end_time": "2020-07-29T01:27:17.919774Z",
     "start_time": "2020-07-29T01:27:17.916803Z"
    }
   },
   "outputs": [],
   "source": [
    "another_variable"
   ]
  },
  {
   "cell_type": "code",
   "execution_count": null,
   "metadata": {
    "ExecuteTime": {
     "end_time": "2020-07-29T01:27:49.373487Z",
     "start_time": "2020-07-29T01:27:49.370485Z"
    }
   },
   "outputs": [],
   "source": [
    "# now my_list is in fact converted\n",
    "my_list = np.array(my_list)"
   ]
  },
  {
   "cell_type": "code",
   "execution_count": null,
   "metadata": {
    "ExecuteTime": {
     "end_time": "2020-07-29T01:27:51.032951Z",
     "start_time": "2020-07-29T01:27:51.028948Z"
    }
   },
   "outputs": [],
   "source": [
    "my_list"
   ]
  },
  {
   "cell_type": "code",
   "execution_count": null,
   "metadata": {
    "ExecuteTime": {
     "end_time": "2020-07-29T01:28:07.105396Z",
     "start_time": "2020-07-29T01:28:07.102395Z"
    }
   },
   "outputs": [],
   "source": [
    "list_of_lists = [[1,2,3],\n",
    "                 [4,5,6],\n",
    "                 [7,8,9]]"
   ]
  },
  {
   "cell_type": "code",
   "execution_count": null,
   "metadata": {
    "ExecuteTime": {
     "end_time": "2020-07-29T01:28:07.621395Z",
     "start_time": "2020-07-29T01:28:07.618395Z"
    }
   },
   "outputs": [],
   "source": [
    "array_lst_lst = np.array(list_of_lists)\n",
    "array_lst_lst"
   ]
  },
  {
   "cell_type": "code",
   "execution_count": null,
   "metadata": {
    "ExecuteTime": {
     "end_time": "2020-07-29T01:28:12.204711Z",
     "start_time": "2020-07-29T01:28:12.201712Z"
    }
   },
   "outputs": [],
   "source": [
    "array_lst_lst.shape"
   ]
  },
  {
   "cell_type": "markdown",
   "metadata": {},
   "source": [
    "# Mathematical methods"
   ]
  },
  {
   "cell_type": "markdown",
   "metadata": {},
   "source": [
    "## sum"
   ]
  },
  {
   "cell_type": "code",
   "execution_count": null,
   "metadata": {
    "ExecuteTime": {
     "end_time": "2020-07-29T01:28:26.737247Z",
     "start_time": "2020-07-29T01:28:26.733247Z"
    }
   },
   "outputs": [],
   "source": [
    "a = np.random.randint(0, 10, size=(3,6))\n",
    "a"
   ]
  },
  {
   "cell_type": "code",
   "execution_count": null,
   "metadata": {
    "ExecuteTime": {
     "end_time": "2020-07-29T01:28:35.625726Z",
     "start_time": "2020-07-29T01:28:35.621724Z"
    }
   },
   "outputs": [],
   "source": [
    "a.shape"
   ]
  },
  {
   "cell_type": "code",
   "execution_count": null,
   "metadata": {
    "ExecuteTime": {
     "end_time": "2020-07-29T01:28:40.934225Z",
     "start_time": "2020-07-29T01:28:40.931226Z"
    }
   },
   "outputs": [],
   "source": [
    "a.sum()"
   ]
  },
  {
   "cell_type": "markdown",
   "metadata": {},
   "source": [
    "### The `axis` concept - very useful"
   ]
  },
  {
   "cell_type": "markdown",
   "metadata": {
    "ExecuteTime": {
     "end_time": "2020-07-28T14:20:29.695076Z",
     "start_time": "2020-07-28T14:20:29.690076Z"
    }
   },
   "source": [
    "- The `axis` concept: \n",
    "    - axis = 0 refers to: \n",
    "    > **sum over the first axis** (first axis == `rows`)\n",
    "        - So for each column, it will sum over all the rows\n",
    "        \n",
    "    - axis = 1 refers to: \n",
    "    > **sum over the second axis** (second axis == `columns`)\n",
    "        - So for each row, it will sum over all the columns"
   ]
  },
  {
   "cell_type": "code",
   "execution_count": null,
   "metadata": {
    "ExecuteTime": {
     "end_time": "2020-07-29T01:31:08.530325Z",
     "start_time": "2020-07-29T01:31:08.526326Z"
    }
   },
   "outputs": [],
   "source": [
    "a"
   ]
  },
  {
   "cell_type": "code",
   "execution_count": null,
   "metadata": {
    "ExecuteTime": {
     "end_time": "2020-07-29T01:31:16.432733Z",
     "start_time": "2020-07-29T01:31:16.428731Z"
    }
   },
   "outputs": [],
   "source": [
    "a.sum(axis=0)"
   ]
  },
  {
   "cell_type": "code",
   "execution_count": null,
   "metadata": {
    "ExecuteTime": {
     "end_time": "2020-07-29T01:31:44.045974Z",
     "start_time": "2020-07-29T01:31:44.040974Z"
    }
   },
   "outputs": [],
   "source": [
    "a.sum(axis=1)"
   ]
  },
  {
   "cell_type": "markdown",
   "metadata": {},
   "source": [
    "-----"
   ]
  },
  {
   "cell_type": "markdown",
   "metadata": {},
   "source": [
    "## mean\n",
    "\n",
    "$$ \\bar{x} = \\frac{1}{N}\\left(\\sum_{i=0}^{N-1} x_i\\right)  $$"
   ]
  },
  {
   "cell_type": "code",
   "execution_count": null,
   "metadata": {
    "ExecuteTime": {
     "end_time": "2020-07-29T01:32:09.975481Z",
     "start_time": "2020-07-29T01:32:09.971480Z"
    }
   },
   "outputs": [],
   "source": [
    "a"
   ]
  },
  {
   "cell_type": "code",
   "execution_count": null,
   "metadata": {
    "ExecuteTime": {
     "end_time": "2020-07-29T01:32:16.125413Z",
     "start_time": "2020-07-29T01:32:16.122384Z"
    }
   },
   "outputs": [],
   "source": [
    "a.mean()"
   ]
  },
  {
   "cell_type": "code",
   "execution_count": null,
   "metadata": {
    "ExecuteTime": {
     "end_time": "2020-07-29T01:33:21.195925Z",
     "start_time": "2020-07-29T01:33:21.191895Z"
    }
   },
   "outputs": [],
   "source": [
    "# mean for each column?\n",
    "\n",
    "a.mean(axis=0)"
   ]
  },
  {
   "cell_type": "code",
   "execution_count": null,
   "metadata": {
    "ExecuteTime": {
     "end_time": "2020-07-29T01:33:29.657800Z",
     "start_time": "2020-07-29T01:33:29.654834Z"
    }
   },
   "outputs": [],
   "source": [
    "# mean for each row?\n",
    "a.mean(axis=1)"
   ]
  },
  {
   "cell_type": "markdown",
   "metadata": {},
   "source": [
    "# Transpose Matrix"
   ]
  },
  {
   "cell_type": "code",
   "execution_count": null,
   "metadata": {
    "ExecuteTime": {
     "end_time": "2020-07-29T01:34:03.528079Z",
     "start_time": "2020-07-29T01:34:03.525047Z"
    }
   },
   "outputs": [],
   "source": [
    "a"
   ]
  },
  {
   "cell_type": "code",
   "execution_count": null,
   "metadata": {
    "ExecuteTime": {
     "end_time": "2020-07-29T01:34:06.449809Z",
     "start_time": "2020-07-29T01:34:06.445812Z"
    }
   },
   "outputs": [],
   "source": [
    "a.transpose()"
   ]
  },
  {
   "cell_type": "code",
   "execution_count": null,
   "metadata": {
    "ExecuteTime": {
     "end_time": "2020-07-29T01:34:22.621995Z",
     "start_time": "2020-07-29T01:34:22.618993Z"
    }
   },
   "outputs": [],
   "source": [
    "a.T"
   ]
  },
  {
   "cell_type": "markdown",
   "metadata": {},
   "source": [
    "# Operations between np.arrays"
   ]
  },
  {
   "cell_type": "code",
   "execution_count": null,
   "metadata": {
    "ExecuteTime": {
     "end_time": "2020-07-29T01:34:33.706370Z",
     "start_time": "2020-07-29T01:34:33.703371Z"
    }
   },
   "outputs": [],
   "source": [
    "a"
   ]
  },
  {
   "cell_type": "code",
   "execution_count": null,
   "metadata": {
    "ExecuteTime": {
     "end_time": "2020-07-29T01:34:35.665373Z",
     "start_time": "2020-07-29T01:34:35.660370Z"
    }
   },
   "outputs": [],
   "source": [
    "c = np.random.randint(0,10, size=a.shape)\n",
    "c"
   ]
  },
  {
   "cell_type": "code",
   "execution_count": null,
   "metadata": {
    "ExecuteTime": {
     "end_time": "2020-07-29T01:34:39.867728Z",
     "start_time": "2020-07-29T01:34:39.864757Z"
    }
   },
   "outputs": [],
   "source": [
    "a + c"
   ]
  },
  {
   "cell_type": "code",
   "execution_count": null,
   "metadata": {
    "ExecuteTime": {
     "end_time": "2020-07-29T01:34:58.141732Z",
     "start_time": "2020-07-29T01:34:58.136886Z"
    }
   },
   "outputs": [],
   "source": [
    "a - c"
   ]
  },
  {
   "cell_type": "code",
   "execution_count": null,
   "metadata": {
    "ExecuteTime": {
     "end_time": "2020-07-29T01:35:01.288236Z",
     "start_time": "2020-07-29T01:35:01.285236Z"
    }
   },
   "outputs": [],
   "source": [
    "a + 1"
   ]
  },
  {
   "cell_type": "code",
   "execution_count": null,
   "metadata": {},
   "outputs": [],
   "source": []
  },
  {
   "cell_type": "markdown",
   "metadata": {},
   "source": [
    "# Reshaping arrays"
   ]
  },
  {
   "cell_type": "code",
   "execution_count": null,
   "metadata": {
    "ExecuteTime": {
     "end_time": "2020-08-24T01:35:50.044976Z",
     "start_time": "2020-08-24T01:35:50.039945Z"
    }
   },
   "outputs": [],
   "source": [
    "a = np.random.randint(0, 16, size=64)\n",
    "a"
   ]
  },
  {
   "cell_type": "code",
   "execution_count": null,
   "metadata": {
    "ExecuteTime": {
     "end_time": "2020-08-24T01:35:51.157929Z",
     "start_time": "2020-08-24T01:35:51.152931Z"
    },
    "scrolled": true
   },
   "outputs": [],
   "source": [
    "a.reshape((8,8))"
   ]
  },
  {
   "cell_type": "code",
   "execution_count": null,
   "metadata": {
    "ExecuteTime": {
     "end_time": "2020-08-24T01:35:51.373966Z",
     "start_time": "2020-08-24T01:35:51.367966Z"
    }
   },
   "outputs": [],
   "source": [
    "# application: images! \n",
    "\n",
    "image = np.array([0.,  0.,  0., 12., 13.,  0.,  0.,  0.,  0.,  0.,  5., 16.,  8.,\n",
    "                  0.,  0.,  0.,  0.,  0., 13., 16.,  3.,  0.,  0.,  0.,  0.,  0.,\n",
    "                  14., 13.,  0.,  0.,  0.,  0.,  0.,  0., 15., 12.,  7.,  2.,  0.,\n",
    "                  0.,  0.,  0., 13., 16., 13., 16.,  3.,  0.,  0.,  0.,  7., 16.,\n",
    "                  11., 15.,  8.,  0.,  0.,  0.,  1.,  9., 15., 11.,  3.,  0.])"
   ]
  },
  {
   "cell_type": "code",
   "execution_count": null,
   "metadata": {
    "ExecuteTime": {
     "end_time": "2020-08-24T01:35:52.228625Z",
     "start_time": "2020-08-24T01:35:52.224626Z"
    }
   },
   "outputs": [],
   "source": [
    "image.reshape(8,8)"
   ]
  },
  {
   "cell_type": "code",
   "execution_count": null,
   "metadata": {
    "ExecuteTime": {
     "end_time": "2020-08-24T01:36:04.507491Z",
     "start_time": "2020-08-24T01:36:04.406460Z"
    }
   },
   "outputs": [],
   "source": [
    "# sneaky peak on plots <3: \n",
    "import matplotlib.pyplot as plt\n",
    "\n",
    "plt.imshow(image.reshape(8,8), cmap='binary')"
   ]
  },
  {
   "cell_type": "code",
   "execution_count": null,
   "metadata": {
    "ExecuteTime": {
     "end_time": "2020-08-24T01:36:19.656750Z",
     "start_time": "2020-08-24T01:36:19.562720Z"
    }
   },
   "outputs": [],
   "source": [
    "# sneaky peak on plots <3: \n",
    "import matplotlib.pyplot as plt\n",
    "\n",
    "plt.imshow(image.reshape(8,8), cmap='binary')"
   ]
  },
  {
   "cell_type": "code",
   "execution_count": null,
   "metadata": {
    "ExecuteTime": {
     "end_time": "2020-08-24T01:01:20.005322Z",
     "start_time": "2020-08-24T01:01:18.245004Z"
    }
   },
   "outputs": [],
   "source": [
    "from sklearn.datasets import load_sample_image\n",
    "image = load_sample_image('china.jpg')\n",
    "image"
   ]
  },
  {
   "cell_type": "code",
   "execution_count": null,
   "metadata": {
    "ExecuteTime": {
     "end_time": "2020-07-30T00:20:18.659654Z",
     "start_time": "2020-07-30T00:20:18.655652Z"
    }
   },
   "outputs": [],
   "source": [
    "image.shape"
   ]
  },
  {
   "cell_type": "code",
   "execution_count": null,
   "metadata": {
    "ExecuteTime": {
     "end_time": "2020-07-30T00:23:06.066532Z",
     "start_time": "2020-07-30T00:23:06.061500Z"
    }
   },
   "outputs": [],
   "source": [
    "image.reshape(427 * 640, 3).shape"
   ]
  },
  {
   "cell_type": "code",
   "execution_count": null,
   "metadata": {
    "ExecuteTime": {
     "end_time": "2020-07-30T00:21:26.410518Z",
     "start_time": "2020-07-30T00:21:26.238518Z"
    }
   },
   "outputs": [],
   "source": [
    "plt.imshow(image)"
   ]
  },
  {
   "cell_type": "code",
   "execution_count": null,
   "metadata": {
    "ExecuteTime": {
     "end_time": "2020-08-24T01:35:17.992390Z",
     "start_time": "2020-08-24T01:35:17.981392Z"
    }
   },
   "outputs": [],
   "source": [
    "arr = np.array([ \n",
    "    99,  103, 82,  88,  106,  104,  127,  105,  84,   95,   101,  100, \n",
    "    101, 74,  93,  182, 181,  194,  223,  239,  146,  46,   76,   102,  \n",
    "    76,  76,  206, 242, 222,  250,  246,  223,  208,  150,  97,   75,  \n",
    "    50,  147, 251, 132, 125,  145,  136,  52,   90,   241,  200,  76,   \n",
    "    62,  188, 119, 5,   19,   17,   17,   28,   29,   180,  185,  55,   \n",
    "    84,  151, 49,  23,  23,   42,   36,   17,   28,   158,  182,  50,   \n",
    "    68,  168, 86,  47,  61,   41,   45,   98,   117,  181,  236,  87,   \n",
    "    67,  159, 91,  172, 246,  88,   122,  245,  225,  194,  234,  108,  \n",
    "    57,  88,  65,  63,  98,   29,   78,   113,  74,   150,  220,  66,  \n",
    "    51,  82,  101, 4,   20,   25,   107,  78,   28,   213,  161,  22, \n",
    "    66,  40,  140, 107, 20,   69,   170,  106,  177,  218,  38,   15,  \n",
    "    66,  32,  109, 148, 29,   46,   129,  154,  220,  155,  1,    32,  \n",
    "    66,  42,  83,  190, 153,  113,  160,  206,  254,  147,  7,    41,\n",
    "    69,  60,  21,  181, 255,  175,  209,  256,  250,  39,   1,    45,  \n",
    "    73,  54,  19,  111, 256,  256,  244,  148,  56,   118,  13,   20,  \n",
    "    60,  50,  133, 49,  79,   135,  133,  56,   81,   243,  160,  38])"
   ]
  },
  {
   "cell_type": "code",
   "execution_count": null,
   "metadata": {
    "ExecuteTime": {
     "end_time": "2020-08-24T01:35:18.609292Z",
     "start_time": "2020-08-24T01:35:18.468261Z"
    }
   },
   "outputs": [],
   "source": [
    "import matplotlib.pyplot as plt\n",
    "\n",
    "plt.figure(figsize=(16,12))\n",
    "plt.imshow(arr.reshape((16,12)), cmap='binary')"
   ]
  },
  {
   "cell_type": "code",
   "execution_count": null,
   "metadata": {
    "ExecuteTime": {
     "end_time": "2020-08-24T01:35:25.805799Z",
     "start_time": "2020-08-24T01:35:25.320773Z"
    }
   },
   "outputs": [],
   "source": [
    "import matplotlib.pyplot as plt\n",
    "\n",
    "plt.figure(figsize=(16,12))\n",
    "plt.imshow(arr.reshape((16,12)), cmap='binary')\n",
    "\n",
    "reshaped_arr = arr.reshape((16, 12))\n",
    "\n",
    "for i in range(reshaped_arr.shape[0]):\n",
    "    for j in range(reshaped_arr.shape[1]):\n",
    "        plt.text(j, i, reshaped_arr[i,j])"
   ]
  },
  {
   "cell_type": "code",
   "execution_count": null,
   "metadata": {},
   "outputs": [],
   "source": []
  }
 ],
 "metadata": {
  "kernelspec": {
   "display_name": "Python 3",
   "language": "python",
   "name": "python3"
  },
  "language_info": {
   "codemirror_mode": {
    "name": "ipython",
    "version": 3
   },
   "file_extension": ".py",
   "mimetype": "text/x-python",
   "name": "python",
   "nbconvert_exporter": "python",
   "pygments_lexer": "ipython3",
   "version": "3.8.3"
  },
  "toc": {
   "base_numbering": 1,
   "nav_menu": {},
   "number_sections": true,
   "sideBar": true,
   "skip_h1_title": false,
   "title_cell": "Table of Contents",
   "title_sidebar": "Contents",
   "toc_cell": false,
   "toc_position": {},
   "toc_section_display": true,
   "toc_window_display": false
  }
 },
 "nbformat": 4,
 "nbformat_minor": 2
}
