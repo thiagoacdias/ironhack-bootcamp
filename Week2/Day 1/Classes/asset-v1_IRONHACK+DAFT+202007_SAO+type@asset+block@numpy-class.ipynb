{
 "cells": [
  {
   "cell_type": "markdown",
   "metadata": {},
   "source": [
    "# Numpy"
   ]
  },
  {
   "cell_type": "markdown",
   "metadata": {},
   "source": [
    "## Installation \n",
    "\n"
   ]
  },
  {
   "cell_type": "code",
   "execution_count": null,
   "metadata": {},
   "outputs": [],
   "source": [
    "!pip install numpy"
   ]
  },
  {
   "cell_type": "markdown",
   "metadata": {},
   "source": [
    "## Importing numpy convention"
   ]
  },
  {
   "cell_type": "code",
   "execution_count": 1,
   "metadata": {
    "ExecuteTime": {
     "end_time": "2020-07-29T00:20:48.588387Z",
     "start_time": "2020-07-29T00:20:48.586387Z"
    }
   },
   "outputs": [],
   "source": [
    "# import numpy\n",
    "import numpy as np"
   ]
  },
  {
   "cell_type": "code",
   "execution_count": 2,
   "metadata": {
    "ExecuteTime": {
     "end_time": "2020-07-29T00:21:31.956740Z",
     "start_time": "2020-07-29T00:21:31.952767Z"
    }
   },
   "outputs": [
    {
     "data": {
      "text/plain": [
       "'1.18.5'"
      ]
     },
     "execution_count": 2,
     "metadata": {},
     "output_type": "execute_result"
    }
   ],
   "source": [
    "np.__version__"
   ]
  },
  {
   "cell_type": "markdown",
   "metadata": {},
   "source": [
    "## What is Numpy?"
   ]
  },
  {
   "cell_type": "markdown",
   "metadata": {
    "ExecuteTime": {
     "end_time": "2020-07-28T13:56:19.061952Z",
     "start_time": "2020-07-28T13:56:19.057952Z"
    }
   },
   "source": [
    "Numpy is a package in Python created to help dealing with mathematical operations. \n",
    "\n",
    "- Standard Deviation\n",
    "- Mean\n",
    "- Generate random numbers\n",
    "- Selecting random items\n",
    "- sine, cosine, $\\pi$"
   ]
  },
  {
   "cell_type": "code",
   "execution_count": 3,
   "metadata": {
    "ExecuteTime": {
     "end_time": "2020-07-29T00:23:00.036134Z",
     "start_time": "2020-07-29T00:23:00.031136Z"
    }
   },
   "outputs": [
    {
     "data": {
      "text/plain": [
       "2.0816659994661326"
      ]
     },
     "execution_count": 3,
     "metadata": {},
     "output_type": "execute_result"
    }
   ],
   "source": [
    "np.std([10, 10, 12, 13, 8, 7])"
   ]
  },
  {
   "cell_type": "code",
   "execution_count": 4,
   "metadata": {
    "ExecuteTime": {
     "end_time": "2020-07-29T00:23:48.949235Z",
     "start_time": "2020-07-29T00:23:48.945235Z"
    }
   },
   "outputs": [
    {
     "data": {
      "text/plain": [
       "10.166666666666666"
      ]
     },
     "execution_count": 4,
     "metadata": {},
     "output_type": "execute_result"
    }
   ],
   "source": [
    "np.mean([11, 10, 12, 13, 8, 7])"
   ]
  },
  {
   "cell_type": "code",
   "execution_count": 9,
   "metadata": {
    "ExecuteTime": {
     "end_time": "2020-07-29T00:24:36.076142Z",
     "start_time": "2020-07-29T00:24:36.073170Z"
    }
   },
   "outputs": [
    {
     "data": {
      "text/plain": [
       "array([3, 8, 5, 6, 7, 2, 4, 5, 6, 8])"
      ]
     },
     "execution_count": 9,
     "metadata": {},
     "output_type": "execute_result"
    }
   ],
   "source": [
    "np.random.randint(0, 10, size=10)"
   ]
  },
  {
   "cell_type": "code",
   "execution_count": 10,
   "metadata": {
    "ExecuteTime": {
     "end_time": "2020-07-29T00:25:41.973713Z",
     "start_time": "2020-07-29T00:25:41.969685Z"
    }
   },
   "outputs": [
    {
     "data": {
      "text/plain": [
       "array([0.90471367, 0.37638173, 0.2990639 ])"
      ]
     },
     "execution_count": 10,
     "metadata": {},
     "output_type": "execute_result"
    }
   ],
   "source": [
    "np.random.random(size=3)"
   ]
  },
  {
   "cell_type": "code",
   "execution_count": 11,
   "metadata": {
    "ExecuteTime": {
     "end_time": "2020-07-29T00:26:06.312503Z",
     "start_time": "2020-07-29T00:26:06.308502Z"
    }
   },
   "outputs": [
    {
     "data": {
      "text/plain": [
       "0.343474276310502"
      ]
     },
     "execution_count": 11,
     "metadata": {},
     "output_type": "execute_result"
    }
   ],
   "source": [
    "np.random.random()"
   ]
  },
  {
   "cell_type": "code",
   "execution_count": 15,
   "metadata": {
    "ExecuteTime": {
     "end_time": "2020-07-29T00:27:16.259979Z",
     "start_time": "2020-07-29T00:27:16.254978Z"
    }
   },
   "outputs": [
    {
     "data": {
      "text/plain": [
       "'Rodrigo'"
      ]
     },
     "execution_count": 15,
     "metadata": {},
     "output_type": "execute_result"
    }
   ],
   "source": [
    "np.random.choice(['Donato','Diego','Raiana','Rodrigo'])"
   ]
  },
  {
   "cell_type": "code",
   "execution_count": 18,
   "metadata": {
    "ExecuteTime": {
     "end_time": "2020-07-29T00:27:28.557877Z",
     "start_time": "2020-07-29T00:27:28.552878Z"
    }
   },
   "outputs": [
    {
     "data": {
      "text/plain": [
       "3.141592653589793"
      ]
     },
     "execution_count": 18,
     "metadata": {},
     "output_type": "execute_result"
    }
   ],
   "source": [
    "np.pi"
   ]
  },
  {
   "cell_type": "code",
   "execution_count": 19,
   "metadata": {
    "ExecuteTime": {
     "end_time": "2020-07-29T00:29:28.147155Z",
     "start_time": "2020-07-29T00:29:28.141152Z"
    }
   },
   "outputs": [
    {
     "data": {
      "text/plain": [
       "0.7071067811865476"
      ]
     },
     "execution_count": 19,
     "metadata": {},
     "output_type": "execute_result"
    }
   ],
   "source": [
    "np.sin(np.pi / 4)"
   ]
  },
  {
   "cell_type": "markdown",
   "metadata": {},
   "source": [
    "## What are numpy arrays?\n",
    "\n",
    "Numpy arrays are very close to **lists** in python. The main differences for us in data analysis are:\n",
    "\n",
    "- You can perform mathematical operations within numpy arrays\n",
    "- There are *LOTS* of new mathematical **methods** that you can use in numpy arrays\n",
    "- Operations are much faster (if you are dealing with big data). In more depth, numpy arrays are contiguous blocks of memory."
   ]
  },
  {
   "cell_type": "code",
   "execution_count": 40,
   "metadata": {
    "ExecuteTime": {
     "end_time": "2020-07-29T00:35:25.110028Z",
     "start_time": "2020-07-29T00:35:25.105999Z"
    }
   },
   "outputs": [
    {
     "data": {
      "text/plain": [
       "array([1, 2])"
      ]
     },
     "execution_count": 40,
     "metadata": {},
     "output_type": "execute_result"
    }
   ],
   "source": [
    "np.array([1, 2])"
   ]
  },
  {
   "cell_type": "code",
   "execution_count": 41,
   "metadata": {
    "ExecuteTime": {
     "end_time": "2020-07-29T00:35:42.064342Z",
     "start_time": "2020-07-29T00:35:42.059341Z"
    }
   },
   "outputs": [
    {
     "data": {
      "text/plain": [
       "list"
      ]
     },
     "execution_count": 41,
     "metadata": {},
     "output_type": "execute_result"
    }
   ],
   "source": [
    "type([1, 2])"
   ]
  },
  {
   "cell_type": "code",
   "execution_count": 42,
   "metadata": {
    "ExecuteTime": {
     "end_time": "2020-07-29T00:35:38.353752Z",
     "start_time": "2020-07-29T00:35:38.349720Z"
    }
   },
   "outputs": [
    {
     "data": {
      "text/plain": [
       "numpy.ndarray"
      ]
     },
     "execution_count": 42,
     "metadata": {},
     "output_type": "execute_result"
    }
   ],
   "source": [
    "type(np.array([1, 2]))"
   ]
  },
  {
   "cell_type": "markdown",
   "metadata": {},
   "source": [
    "## Creating a numpy array from a list"
   ]
  },
  {
   "cell_type": "code",
   "execution_count": 23,
   "metadata": {
    "ExecuteTime": {
     "end_time": "2020-07-29T00:35:59.919254Z",
     "start_time": "2020-07-29T00:35:59.916256Z"
    }
   },
   "outputs": [],
   "source": [
    "a = [1,3,5,10]"
   ]
  },
  {
   "cell_type": "code",
   "execution_count": 24,
   "metadata": {
    "ExecuteTime": {
     "end_time": "2020-07-29T00:36:00.410256Z",
     "start_time": "2020-07-29T00:36:00.406254Z"
    }
   },
   "outputs": [
    {
     "data": {
      "text/plain": [
       "[1, 3, 5, 10]"
      ]
     },
     "execution_count": 24,
     "metadata": {},
     "output_type": "execute_result"
    }
   ],
   "source": [
    "a"
   ]
  },
  {
   "cell_type": "code",
   "execution_count": 25,
   "metadata": {
    "ExecuteTime": {
     "end_time": "2020-07-29T00:36:02.145255Z",
     "start_time": "2020-07-29T00:36:02.142254Z"
    }
   },
   "outputs": [
    {
     "data": {
      "text/plain": [
       "list"
      ]
     },
     "execution_count": 25,
     "metadata": {},
     "output_type": "execute_result"
    }
   ],
   "source": [
    "type(a)"
   ]
  },
  {
   "cell_type": "markdown",
   "metadata": {},
   "source": [
    "- what happens if you try to multiply the elements of a list by 2? \n",
    "- how do you check if the elements of a list is greater than 3?"
   ]
  },
  {
   "cell_type": "code",
   "execution_count": 43,
   "metadata": {
    "ExecuteTime": {
     "end_time": "2020-07-29T00:36:36.095924Z",
     "start_time": "2020-07-29T00:36:36.092924Z"
    }
   },
   "outputs": [
    {
     "data": {
      "text/plain": [
       "[1, 3, 5, 10]"
      ]
     },
     "execution_count": 43,
     "metadata": {},
     "output_type": "execute_result"
    }
   ],
   "source": [
    "a"
   ]
  },
  {
   "cell_type": "code",
   "execution_count": 44,
   "metadata": {
    "ExecuteTime": {
     "end_time": "2020-07-29T00:36:13.611956Z",
     "start_time": "2020-07-29T00:36:13.607958Z"
    }
   },
   "outputs": [
    {
     "data": {
      "text/plain": [
       "[1, 3, 5, 10, 1, 3, 5, 10]"
      ]
     },
     "execution_count": 44,
     "metadata": {},
     "output_type": "execute_result"
    }
   ],
   "source": [
    "a * 2"
   ]
  },
  {
   "cell_type": "code",
   "execution_count": 45,
   "metadata": {
    "ExecuteTime": {
     "end_time": "2020-07-29T00:37:35.565985Z",
     "start_time": "2020-07-29T00:37:35.555985Z"
    }
   },
   "outputs": [
    {
     "ename": "TypeError",
     "evalue": "'>' not supported between instances of 'list' and 'int'",
     "output_type": "error",
     "traceback": [
      "\u001b[1;31m---------------------------------------------------------------------------\u001b[0m",
      "\u001b[1;31mTypeError\u001b[0m                                 Traceback (most recent call last)",
      "\u001b[1;32m<ipython-input-45-4a7bcd1a5f68>\u001b[0m in \u001b[0;36m<module>\u001b[1;34m\u001b[0m\n\u001b[1;32m----> 1\u001b[1;33m \u001b[0ma\u001b[0m \u001b[1;33m>\u001b[0m \u001b[1;36m3\u001b[0m\u001b[1;33m\u001b[0m\u001b[1;33m\u001b[0m\u001b[0m\n\u001b[0m",
      "\u001b[1;31mTypeError\u001b[0m: '>' not supported between instances of 'list' and 'int'"
     ]
    }
   ],
   "source": [
    "a > 3"
   ]
  },
  {
   "cell_type": "code",
   "execution_count": 29,
   "metadata": {
    "ExecuteTime": {
     "end_time": "2020-07-29T00:38:13.365827Z",
     "start_time": "2020-07-29T00:38:13.362829Z"
    }
   },
   "outputs": [],
   "source": [
    "b = np.array(a)"
   ]
  },
  {
   "cell_type": "code",
   "execution_count": 30,
   "metadata": {
    "ExecuteTime": {
     "end_time": "2020-07-29T00:38:52.142646Z",
     "start_time": "2020-07-29T00:38:52.138644Z"
    }
   },
   "outputs": [
    {
     "data": {
      "text/plain": [
       "array([ 1,  3,  5, 10])"
      ]
     },
     "execution_count": 30,
     "metadata": {},
     "output_type": "execute_result"
    }
   ],
   "source": [
    "b\n",
    "# check methods of b.<TAB>"
   ]
  },
  {
   "cell_type": "code",
   "execution_count": 52,
   "metadata": {
    "ExecuteTime": {
     "end_time": "2020-07-29T00:39:04.707221Z",
     "start_time": "2020-07-29T00:39:04.704221Z"
    }
   },
   "outputs": [
    {
     "data": {
      "text/plain": [
       "array([ 1,  4,  9, 19], dtype=int32)"
      ]
     },
     "execution_count": 52,
     "metadata": {},
     "output_type": "execute_result"
    }
   ],
   "source": []
  },
  {
   "cell_type": "code",
   "execution_count": 56,
   "metadata": {
    "ExecuteTime": {
     "end_time": "2020-07-29T00:39:00.549408Z",
     "start_time": "2020-07-29T00:39:00.546406Z"
    }
   },
   "outputs": [
    {
     "data": {
      "text/plain": [
       "array([ 2,  6, 10, 20])"
      ]
     },
     "execution_count": 56,
     "metadata": {},
     "output_type": "execute_result"
    }
   ],
   "source": [
    "b * 2\n"
   ]
  },
  {
   "cell_type": "code",
   "execution_count": 57,
   "metadata": {
    "ExecuteTime": {
     "end_time": "2020-07-29T00:49:15.461982Z",
     "start_time": "2020-07-29T00:49:15.458981Z"
    }
   },
   "outputs": [
    {
     "data": {
      "text/plain": [
       "array([ 3,  5,  7, 12])"
      ]
     },
     "execution_count": 57,
     "metadata": {},
     "output_type": "execute_result"
    }
   ],
   "source": [
    "b + 2"
   ]
  },
  {
   "cell_type": "code",
   "execution_count": 55,
   "metadata": {
    "ExecuteTime": {
     "end_time": "2020-07-29T00:40:23.360023Z",
     "start_time": "2020-07-29T00:40:23.357023Z"
    }
   },
   "outputs": [
    {
     "data": {
      "text/plain": [
       "array([False, False,  True,  True])"
      ]
     },
     "execution_count": 55,
     "metadata": {},
     "output_type": "execute_result"
    }
   ],
   "source": [
    "b > 3"
   ]
  },
  {
   "cell_type": "markdown",
   "metadata": {},
   "source": [
    "\n",
    "### 1-D array\n",
    "\n",
    "1-D array is what we usually call a **vector**"
   ]
  },
  {
   "cell_type": "code",
   "execution_count": 62,
   "metadata": {
    "ExecuteTime": {
     "end_time": "2020-07-29T00:50:34.056214Z",
     "start_time": "2020-07-29T00:50:34.053215Z"
    }
   },
   "outputs": [
    {
     "data": {
      "text/plain": [
       "array([0.11346333, 0.40797197, 0.29500677, 0.51860181, 0.51542753,\n",
       "       0.14181108, 0.88271704, 0.13518837, 0.94776309, 0.38333592])"
      ]
     },
     "execution_count": 62,
     "metadata": {},
     "output_type": "execute_result"
    }
   ],
   "source": [
    "array_1d = np.random.random(size=10)\n",
    "array_1d"
   ]
  },
  {
   "cell_type": "code",
   "execution_count": 63,
   "metadata": {
    "ExecuteTime": {
     "end_time": "2020-07-29T00:51:10.832517Z",
     "start_time": "2020-07-29T00:51:10.829518Z"
    }
   },
   "outputs": [
    {
     "data": {
      "text/plain": [
       "(10,)"
      ]
     },
     "execution_count": 63,
     "metadata": {},
     "output_type": "execute_result"
    }
   ],
   "source": [
    "array_1d.shape"
   ]
  },
  {
   "cell_type": "code",
   "execution_count": 64,
   "metadata": {
    "ExecuteTime": {
     "end_time": "2020-07-29T00:53:03.207476Z",
     "start_time": "2020-07-29T00:53:03.203475Z"
    }
   },
   "outputs": [
    {
     "data": {
      "text/plain": [
       "0.38333592187402754"
      ]
     },
     "execution_count": 64,
     "metadata": {},
     "output_type": "execute_result"
    }
   ],
   "source": [
    "array_1d[-1]"
   ]
  },
  {
   "cell_type": "code",
   "execution_count": 73,
   "metadata": {
    "ExecuteTime": {
     "end_time": "2020-07-29T00:53:49.013699Z",
     "start_time": "2020-07-29T00:53:49.008703Z"
    }
   },
   "outputs": [
    {
     "data": {
      "text/plain": [
       "0.9477630850736694"
      ]
     },
     "execution_count": 73,
     "metadata": {},
     "output_type": "execute_result"
    }
   ],
   "source": [
    "array_1d.max()"
   ]
  },
  {
   "cell_type": "markdown",
   "metadata": {},
   "source": [
    "### 2-D array: **row, column**: this is the most important \n",
    "\n",
    "2-D arrays are what we usually call a **matrix**\n",
    "\n",
    "\n",
    "- Imagine that rows are the observations of your data set\n",
    "- Imagine that columns are the characteristics of your data\n",
    "\n"
   ]
  },
  {
   "cell_type": "code",
   "execution_count": 66,
   "metadata": {
    "ExecuteTime": {
     "end_time": "2020-07-29T00:57:00.519057Z",
     "start_time": "2020-07-29T00:57:00.515056Z"
    }
   },
   "outputs": [
    {
     "data": {
      "text/plain": [
       "array([[0.58074543, 0.74811079, 0.24344998],\n",
       "       [0.22864983, 0.26537473, 0.95557492],\n",
       "       [0.71223167, 0.68470801, 0.58499497],\n",
       "       [0.24812229, 0.9413531 , 0.60629238],\n",
       "       [0.34414189, 0.84033905, 0.69426062]])"
      ]
     },
     "execution_count": 66,
     "metadata": {},
     "output_type": "execute_result"
    }
   ],
   "source": [
    "np.random.random(size=(5, 3))"
   ]
  },
  {
   "cell_type": "code",
   "execution_count": 67,
   "metadata": {
    "ExecuteTime": {
     "end_time": "2020-07-29T00:58:07.268836Z",
     "start_time": "2020-07-29T00:58:07.265805Z"
    }
   },
   "outputs": [],
   "source": [
    "array_2d = np.random.random(size=(5,3))"
   ]
  },
  {
   "cell_type": "code",
   "execution_count": 68,
   "metadata": {
    "ExecuteTime": {
     "end_time": "2020-07-29T00:58:08.094808Z",
     "start_time": "2020-07-29T00:58:08.091805Z"
    }
   },
   "outputs": [
    {
     "data": {
      "text/plain": [
       "array([[0.06243497, 0.60995029, 0.98418208],\n",
       "       [0.07680763, 0.81475315, 0.17593553],\n",
       "       [0.90203077, 0.97911693, 0.51894636],\n",
       "       [0.37767379, 0.28808374, 0.38164556],\n",
       "       [0.46555146, 0.57689386, 0.71672418]])"
      ]
     },
     "execution_count": 68,
     "metadata": {},
     "output_type": "execute_result"
    }
   ],
   "source": [
    "array_2d"
   ]
  },
  {
   "cell_type": "code",
   "execution_count": 69,
   "metadata": {
    "ExecuteTime": {
     "end_time": "2020-07-29T00:58:22.191570Z",
     "start_time": "2020-07-29T00:58:22.187570Z"
    }
   },
   "outputs": [
    {
     "data": {
      "text/plain": [
       "(5, 3)"
      ]
     },
     "execution_count": 69,
     "metadata": {},
     "output_type": "execute_result"
    }
   ],
   "source": [
    "array_2d.shape"
   ]
  },
  {
   "cell_type": "code",
   "execution_count": 70,
   "metadata": {
    "ExecuteTime": {
     "end_time": "2020-07-29T00:58:53.343413Z",
     "start_time": "2020-07-29T00:58:53.339413Z"
    }
   },
   "outputs": [
    {
     "data": {
      "text/plain": [
       "15"
      ]
     },
     "execution_count": 70,
     "metadata": {},
     "output_type": "execute_result"
    }
   ],
   "source": [
    "array_2d.size"
   ]
  },
  {
   "cell_type": "markdown",
   "metadata": {},
   "source": [
    "### N-D array"
   ]
  },
  {
   "cell_type": "code",
   "execution_count": 77,
   "metadata": {
    "ExecuteTime": {
     "end_time": "2020-07-29T00:59:31.320445Z",
     "start_time": "2020-07-29T00:59:31.318444Z"
    }
   },
   "outputs": [],
   "source": [
    "array_3d = np.random.random((4,2,3))\n",
    "\n",
    "\n",
    "#principal aplicacao - imagem"
   ]
  },
  {
   "cell_type": "code",
   "execution_count": 75,
   "metadata": {
    "ExecuteTime": {
     "end_time": "2020-07-29T00:59:31.897444Z",
     "start_time": "2020-07-29T00:59:31.894474Z"
    }
   },
   "outputs": [
    {
     "data": {
      "text/plain": [
       "array([[[0.17660105, 0.81933803, 0.95454789],\n",
       "        [0.8018985 , 0.06384909, 0.68262007]],\n",
       "\n",
       "       [[0.47955078, 0.05871937, 0.83107438],\n",
       "        [0.78559306, 0.79359658, 0.2030532 ]],\n",
       "\n",
       "       [[0.07839194, 0.88679571, 0.22401922],\n",
       "        [0.24978462, 0.81694793, 0.85789168]],\n",
       "\n",
       "       [[0.49029848, 0.67181421, 0.5260514 ],\n",
       "        [0.96146214, 0.14068381, 0.08083063]]])"
      ]
     },
     "execution_count": 75,
     "metadata": {},
     "output_type": "execute_result"
    }
   ],
   "source": [
    "array_3d"
   ]
  },
  {
   "cell_type": "code",
   "execution_count": 78,
   "metadata": {
    "ExecuteTime": {
     "end_time": "2020-07-29T00:59:44.117774Z",
     "start_time": "2020-07-29T00:59:44.113774Z"
    }
   },
   "outputs": [
    {
     "data": {
      "text/plain": [
       "(4, 2, 3)"
      ]
     },
     "execution_count": 78,
     "metadata": {},
     "output_type": "execute_result"
    }
   ],
   "source": [
    "array_3d.shape"
   ]
  },
  {
   "cell_type": "markdown",
   "metadata": {},
   "source": [
    "# Accessing elements of numpy arrays"
   ]
  },
  {
   "cell_type": "markdown",
   "metadata": {},
   "source": [
    "## 1-D array: `array_1d[index]` (like lists):"
   ]
  },
  {
   "cell_type": "code",
   "execution_count": 79,
   "metadata": {
    "ExecuteTime": {
     "end_time": "2020-07-29T01:14:41.263208Z",
     "start_time": "2020-07-29T01:14:41.259205Z"
    }
   },
   "outputs": [
    {
     "data": {
      "text/plain": [
       "array([0.11346333, 0.40797197, 0.29500677, 0.51860181, 0.51542753,\n",
       "       0.14181108, 0.88271704, 0.13518837, 0.94776309, 0.38333592])"
      ]
     },
     "execution_count": 79,
     "metadata": {},
     "output_type": "execute_result"
    }
   ],
   "source": [
    "array_1d"
   ]
  },
  {
   "cell_type": "code",
   "execution_count": 80,
   "metadata": {
    "ExecuteTime": {
     "end_time": "2020-07-29T01:15:25.069319Z",
     "start_time": "2020-07-29T01:15:25.065340Z"
    }
   },
   "outputs": [
    {
     "data": {
      "text/plain": [
       "0.11346333483992388"
      ]
     },
     "execution_count": 80,
     "metadata": {},
     "output_type": "execute_result"
    }
   ],
   "source": [
    "array_1d[0]"
   ]
  },
  {
   "cell_type": "code",
   "execution_count": 81,
   "metadata": {
    "ExecuteTime": {
     "end_time": "2020-07-29T01:15:26.571870Z",
     "start_time": "2020-07-29T01:15:26.568869Z"
    }
   },
   "outputs": [
    {
     "data": {
      "text/plain": [
       "0.5186018145459089"
      ]
     },
     "execution_count": 81,
     "metadata": {},
     "output_type": "execute_result"
    }
   ],
   "source": [
    "array_1d[3]"
   ]
  },
  {
   "cell_type": "code",
   "execution_count": null,
   "metadata": {
    "ExecuteTime": {
     "end_time": "2020-07-29T01:15:45.975377Z",
     "start_time": "2020-07-29T01:15:45.970379Z"
    }
   },
   "outputs": [],
   "source": [
    "array_1d[-1]"
   ]
  },
  {
   "cell_type": "markdown",
   "metadata": {},
   "source": [
    "## 2-D arrays:  `array_2d[row_number, column_number]`"
   ]
  },
  {
   "cell_type": "code",
   "execution_count": 82,
   "metadata": {
    "ExecuteTime": {
     "end_time": "2020-07-29T01:16:07.695124Z",
     "start_time": "2020-07-29T01:16:07.692124Z"
    }
   },
   "outputs": [
    {
     "data": {
      "text/plain": [
       "array([[0.06243497, 0.60995029, 0.98418208],\n",
       "       [0.07680763, 0.81475315, 0.17593553],\n",
       "       [0.90203077, 0.97911693, 0.51894636],\n",
       "       [0.37767379, 0.28808374, 0.38164556],\n",
       "       [0.46555146, 0.57689386, 0.71672418]])"
      ]
     },
     "execution_count": 82,
     "metadata": {},
     "output_type": "execute_result"
    }
   ],
   "source": [
    "array_2d"
   ]
  },
  {
   "cell_type": "code",
   "execution_count": 83,
   "metadata": {
    "ExecuteTime": {
     "end_time": "2020-07-29T01:17:21.952530Z",
     "start_time": "2020-07-29T01:17:21.948553Z"
    }
   },
   "outputs": [
    {
     "data": {
      "text/plain": [
       "0.17593553088547942"
      ]
     },
     "execution_count": 83,
     "metadata": {},
     "output_type": "execute_result"
    }
   ],
   "source": [
    "array_2d[1, 2]"
   ]
  },
  {
   "cell_type": "code",
   "execution_count": 84,
   "metadata": {
    "ExecuteTime": {
     "end_time": "2020-07-29T01:17:53.928282Z",
     "start_time": "2020-07-29T01:17:53.925282Z"
    }
   },
   "outputs": [
    {
     "data": {
      "text/plain": [
       "0.17593553088547942"
      ]
     },
     "execution_count": 84,
     "metadata": {},
     "output_type": "execute_result"
    }
   ],
   "source": [
    "array_2d[1, -1]"
   ]
  },
  {
   "cell_type": "code",
   "execution_count": 85,
   "metadata": {
    "ExecuteTime": {
     "end_time": "2020-07-29T01:18:32.615076Z",
     "start_time": "2020-07-29T01:18:32.612077Z"
    }
   },
   "outputs": [
    {
     "data": {
      "text/plain": [
       "0.46555145978087054"
      ]
     },
     "execution_count": 85,
     "metadata": {},
     "output_type": "execute_result"
    }
   ],
   "source": [
    "array_2d[-1, 0]"
   ]
  },
  {
   "cell_type": "code",
   "execution_count": 86,
   "metadata": {
    "ExecuteTime": {
     "end_time": "2020-07-29T01:20:13.397787Z",
     "start_time": "2020-07-29T01:20:13.394786Z"
    }
   },
   "outputs": [
    {
     "data": {
      "text/plain": [
       "array([0.07680763, 0.81475315])"
      ]
     },
     "execution_count": 86,
     "metadata": {},
     "output_type": "execute_result"
    }
   ],
   "source": [
    "array_2d[1, 0:2]"
   ]
  },
  {
   "cell_type": "code",
   "execution_count": 87,
   "metadata": {
    "ExecuteTime": {
     "end_time": "2020-07-29T01:22:07.359370Z",
     "start_time": "2020-07-29T01:22:07.354372Z"
    }
   },
   "outputs": [
    {
     "data": {
      "text/plain": [
       "array([0.98418208, 0.17593553, 0.51894636, 0.38164556, 0.71672418])"
      ]
     },
     "execution_count": 87,
     "metadata": {},
     "output_type": "execute_result"
    }
   ],
   "source": [
    "array_2d[0:,2]"
   ]
  },
  {
   "cell_type": "code",
   "execution_count": 88,
   "metadata": {
    "ExecuteTime": {
     "end_time": "2020-07-29T01:23:08.099387Z",
     "start_time": "2020-07-29T01:23:08.095387Z"
    }
   },
   "outputs": [
    {
     "data": {
      "text/plain": [
       "array([[0.06243497, 0.60995029],\n",
       "       [0.07680763, 0.81475315],\n",
       "       [0.90203077, 0.97911693],\n",
       "       [0.37767379, 0.28808374],\n",
       "       [0.46555146, 0.57689386]])"
      ]
     },
     "execution_count": 88,
     "metadata": {},
     "output_type": "execute_result"
    }
   ],
   "source": [
    "array_2d[:,0:2]"
   ]
  },
  {
   "cell_type": "code",
   "execution_count": 89,
   "metadata": {
    "ExecuteTime": {
     "end_time": "2020-07-29T01:23:55.011455Z",
     "start_time": "2020-07-29T01:23:55.008454Z"
    }
   },
   "outputs": [],
   "source": [
    "array_2d[:, 0] = -1"
   ]
  },
  {
   "cell_type": "code",
   "execution_count": 91,
   "metadata": {
    "ExecuteTime": {
     "end_time": "2020-07-29T01:23:57.509791Z",
     "start_time": "2020-07-29T01:23:57.505819Z"
    }
   },
   "outputs": [
    {
     "data": {
      "text/plain": [
       "array([[-1.        ,  0.60995029,  0.98418208],\n",
       "       [-1.        ,  0.81475315,  0.17593553],\n",
       "       [-1.        ,  0.97911693,  0.51894636],\n",
       "       [-1.        ,  0.28808374,  0.38164556],\n",
       "       [-1.        ,  0.57689386,  0.71672418]])"
      ]
     },
     "execution_count": 91,
     "metadata": {},
     "output_type": "execute_result"
    }
   ],
   "source": [
    "array_2d"
   ]
  },
  {
   "cell_type": "markdown",
   "metadata": {
    "ExecuteTime": {
     "end_time": "2020-07-28T14:12:43.694591Z",
     "start_time": "2020-07-28T14:12:43.690591Z"
    }
   },
   "source": [
    "- 3D arrays works the same way, `array_3d[x_index, y_index, z_index]`"
   ]
  },
  {
   "cell_type": "code",
   "execution_count": null,
   "metadata": {
    "ExecuteTime": {
     "end_time": "2020-07-29T01:24:46.560295Z",
     "start_time": "2020-07-29T01:24:46.556265Z"
    }
   },
   "outputs": [],
   "source": [
    "array_3d"
   ]
  },
  {
   "cell_type": "code",
   "execution_count": null,
   "metadata": {
    "ExecuteTime": {
     "end_time": "2020-07-29T01:25:09.529482Z",
     "start_time": "2020-07-29T01:25:09.524481Z"
    }
   },
   "outputs": [],
   "source": [
    "array_3d.shape"
   ]
  },
  {
   "cell_type": "code",
   "execution_count": null,
   "metadata": {
    "ExecuteTime": {
     "end_time": "2020-07-29T01:25:13.136482Z",
     "start_time": "2020-07-29T01:25:13.132482Z"
    }
   },
   "outputs": [],
   "source": [
    "array_3d[3,0,1:3]"
   ]
  },
  {
   "cell_type": "markdown",
   "metadata": {},
   "source": [
    "# Converting to np.array\n",
    "\n",
    "Sometimes you have a list, or a list of lists and you want to convert it to a numpy array to perform math operations or use the numpy methods. You just need to `np.array(thing)` and it will try to convert it to a numpy array."
   ]
  },
  {
   "cell_type": "code",
   "execution_count": 92,
   "metadata": {
    "ExecuteTime": {
     "end_time": "2020-07-29T01:26:50.128319Z",
     "start_time": "2020-07-29T01:26:50.125320Z"
    }
   },
   "outputs": [
    {
     "data": {
      "text/plain": [
       "[1, 4, 7, 8]"
      ]
     },
     "execution_count": 92,
     "metadata": {},
     "output_type": "execute_result"
    }
   ],
   "source": [
    "my_list = [1,4,7,8]\n",
    "my_list"
   ]
  },
  {
   "cell_type": "code",
   "execution_count": 93,
   "metadata": {
    "ExecuteTime": {
     "end_time": "2020-07-29T01:26:58.245954Z",
     "start_time": "2020-07-29T01:26:58.241930Z"
    }
   },
   "outputs": [
    {
     "data": {
      "text/plain": [
       "array([1, 4, 7, 8])"
      ]
     },
     "execution_count": 93,
     "metadata": {},
     "output_type": "execute_result"
    }
   ],
   "source": [
    "np.array(my_list)"
   ]
  },
  {
   "cell_type": "code",
   "execution_count": 94,
   "metadata": {
    "ExecuteTime": {
     "end_time": "2020-07-29T01:27:00.670292Z",
     "start_time": "2020-07-29T01:27:00.667289Z"
    }
   },
   "outputs": [
    {
     "data": {
      "text/plain": [
       "[1, 4, 7, 8]"
      ]
     },
     "execution_count": 94,
     "metadata": {},
     "output_type": "execute_result"
    }
   ],
   "source": [
    "my_list"
   ]
  },
  {
   "cell_type": "markdown",
   "metadata": {},
   "source": [
    "- **NOTE**: don't forget that the above haven't exactly `converted` my_list to a numpy array. `my_list` remains intact, but `np.array(my_list)` **returns** a numpy array. If you want to store it, you have to **assign** it to another variable (or the same, actually, if you really want to transform it)"
   ]
  },
  {
   "cell_type": "code",
   "execution_count": 95,
   "metadata": {
    "ExecuteTime": {
     "end_time": "2020-07-29T01:27:14.388621Z",
     "start_time": "2020-07-29T01:27:14.386622Z"
    }
   },
   "outputs": [],
   "source": [
    "another_variable = np.array(my_list)"
   ]
  },
  {
   "cell_type": "code",
   "execution_count": 96,
   "metadata": {
    "ExecuteTime": {
     "end_time": "2020-07-29T01:27:22.479870Z",
     "start_time": "2020-07-29T01:27:22.474870Z"
    }
   },
   "outputs": [
    {
     "data": {
      "text/plain": [
       "[1, 4, 7, 8]"
      ]
     },
     "execution_count": 96,
     "metadata": {},
     "output_type": "execute_result"
    }
   ],
   "source": [
    "my_list"
   ]
  },
  {
   "cell_type": "code",
   "execution_count": 97,
   "metadata": {
    "ExecuteTime": {
     "end_time": "2020-07-29T01:27:17.919774Z",
     "start_time": "2020-07-29T01:27:17.916803Z"
    }
   },
   "outputs": [
    {
     "data": {
      "text/plain": [
       "array([1, 4, 7, 8])"
      ]
     },
     "execution_count": 97,
     "metadata": {},
     "output_type": "execute_result"
    }
   ],
   "source": [
    "another_variable"
   ]
  },
  {
   "cell_type": "code",
   "execution_count": 98,
   "metadata": {
    "ExecuteTime": {
     "end_time": "2020-07-29T01:27:49.373487Z",
     "start_time": "2020-07-29T01:27:49.370485Z"
    }
   },
   "outputs": [],
   "source": [
    "# now my_list is in fact converted\n",
    "my_list = np.array(my_list)"
   ]
  },
  {
   "cell_type": "code",
   "execution_count": 99,
   "metadata": {
    "ExecuteTime": {
     "end_time": "2020-07-29T01:27:51.032951Z",
     "start_time": "2020-07-29T01:27:51.028948Z"
    }
   },
   "outputs": [
    {
     "data": {
      "text/plain": [
       "array([1, 4, 7, 8])"
      ]
     },
     "execution_count": 99,
     "metadata": {},
     "output_type": "execute_result"
    }
   ],
   "source": [
    "my_list"
   ]
  },
  {
   "cell_type": "code",
   "execution_count": 100,
   "metadata": {
    "ExecuteTime": {
     "end_time": "2020-07-29T01:28:07.105396Z",
     "start_time": "2020-07-29T01:28:07.102395Z"
    }
   },
   "outputs": [],
   "source": [
    "list_of_lists = [[1,2,3],\n",
    "                 [4,5,6],\n",
    "                 [7,8,9]]"
   ]
  },
  {
   "cell_type": "code",
   "execution_count": 101,
   "metadata": {
    "ExecuteTime": {
     "end_time": "2020-07-29T01:28:07.621395Z",
     "start_time": "2020-07-29T01:28:07.618395Z"
    }
   },
   "outputs": [
    {
     "data": {
      "text/plain": [
       "array([[1, 2, 3],\n",
       "       [4, 5, 6],\n",
       "       [7, 8, 9]])"
      ]
     },
     "execution_count": 101,
     "metadata": {},
     "output_type": "execute_result"
    }
   ],
   "source": [
    "array_lst_lst = np.array(list_of_lists)\n",
    "array_lst_lst"
   ]
  },
  {
   "cell_type": "code",
   "execution_count": 102,
   "metadata": {
    "ExecuteTime": {
     "end_time": "2020-07-29T01:28:12.204711Z",
     "start_time": "2020-07-29T01:28:12.201712Z"
    }
   },
   "outputs": [
    {
     "data": {
      "text/plain": [
       "(3, 3)"
      ]
     },
     "execution_count": 102,
     "metadata": {},
     "output_type": "execute_result"
    }
   ],
   "source": [
    "array_lst_lst.shape"
   ]
  },
  {
   "cell_type": "markdown",
   "metadata": {},
   "source": [
    "# Mathematical methods"
   ]
  },
  {
   "cell_type": "markdown",
   "metadata": {},
   "source": [
    "## sum"
   ]
  },
  {
   "cell_type": "code",
   "execution_count": 108,
   "metadata": {
    "ExecuteTime": {
     "end_time": "2020-07-29T01:28:26.737247Z",
     "start_time": "2020-07-29T01:28:26.733247Z"
    }
   },
   "outputs": [
    {
     "data": {
      "text/plain": [
       "array([[8, 0, 6, 4, 0, 5],\n",
       "       [6, 8, 2, 0, 4, 7],\n",
       "       [7, 7, 0, 1, 9, 1]])"
      ]
     },
     "execution_count": 108,
     "metadata": {},
     "output_type": "execute_result"
    }
   ],
   "source": [
    "a = np.random.randint(0, 10, size=(3,6))\n",
    "a"
   ]
  },
  {
   "cell_type": "code",
   "execution_count": 111,
   "metadata": {
    "ExecuteTime": {
     "end_time": "2020-07-29T01:28:35.625726Z",
     "start_time": "2020-07-29T01:28:35.621724Z"
    }
   },
   "outputs": [
    {
     "data": {
      "text/plain": [
       "(3, 6)"
      ]
     },
     "execution_count": 111,
     "metadata": {},
     "output_type": "execute_result"
    }
   ],
   "source": [
    "a.shape"
   ]
  },
  {
   "cell_type": "code",
   "execution_count": 112,
   "metadata": {
    "ExecuteTime": {
     "end_time": "2020-07-29T01:28:40.934225Z",
     "start_time": "2020-07-29T01:28:40.931226Z"
    }
   },
   "outputs": [
    {
     "data": {
      "text/plain": [
       "75"
      ]
     },
     "execution_count": 112,
     "metadata": {},
     "output_type": "execute_result"
    }
   ],
   "source": [
    "a.sum()"
   ]
  },
  {
   "cell_type": "markdown",
   "metadata": {},
   "source": [
    "### The `axis` concept - very useful"
   ]
  },
  {
   "cell_type": "markdown",
   "metadata": {
    "ExecuteTime": {
     "end_time": "2020-07-28T14:20:29.695076Z",
     "start_time": "2020-07-28T14:20:29.690076Z"
    }
   },
   "source": [
    "- The `axis` concept: \n",
    "    - axis = 0 refers to: \n",
    "    > **sum over the first axis** (first axis == `rows`)\n",
    "        - So for each column, it will sum over all the rows\n",
    "        \n",
    "    - axis = 1 refers to: \n",
    "    > **sum over the second axis** (second axis == `columns`)\n",
    "        - So for each row, it will sum over all the columns"
   ]
  },
  {
   "cell_type": "code",
   "execution_count": 113,
   "metadata": {
    "ExecuteTime": {
     "end_time": "2020-07-29T01:31:08.530325Z",
     "start_time": "2020-07-29T01:31:08.526326Z"
    }
   },
   "outputs": [
    {
     "data": {
      "text/plain": [
       "array([[8, 0, 6, 4, 0, 5],\n",
       "       [6, 8, 2, 0, 4, 7],\n",
       "       [7, 7, 0, 1, 9, 1]])"
      ]
     },
     "execution_count": 113,
     "metadata": {},
     "output_type": "execute_result"
    }
   ],
   "source": [
    "a"
   ]
  },
  {
   "cell_type": "code",
   "execution_count": 114,
   "metadata": {
    "ExecuteTime": {
     "end_time": "2020-07-29T01:31:16.432733Z",
     "start_time": "2020-07-29T01:31:16.428731Z"
    }
   },
   "outputs": [
    {
     "data": {
      "text/plain": [
       "array([21, 15,  8,  5, 13, 13])"
      ]
     },
     "execution_count": 114,
     "metadata": {},
     "output_type": "execute_result"
    }
   ],
   "source": [
    "a.sum(axis=0)"
   ]
  },
  {
   "cell_type": "code",
   "execution_count": 116,
   "metadata": {
    "ExecuteTime": {
     "end_time": "2020-07-29T01:31:44.045974Z",
     "start_time": "2020-07-29T01:31:44.040974Z"
    }
   },
   "outputs": [
    {
     "data": {
      "text/plain": [
       "array([23, 27, 25])"
      ]
     },
     "execution_count": 116,
     "metadata": {},
     "output_type": "execute_result"
    }
   ],
   "source": [
    "a.sum(axis=1)"
   ]
  },
  {
   "cell_type": "markdown",
   "metadata": {},
   "source": [
    "-----"
   ]
  },
  {
   "cell_type": "markdown",
   "metadata": {},
   "source": [
    "## mean\n",
    "\n",
    "$$ \\bar{x} = \\frac{1}{N}\\left(\\sum_{i=0}^{N-1} x_i\\right)  $$"
   ]
  },
  {
   "cell_type": "code",
   "execution_count": 117,
   "metadata": {
    "ExecuteTime": {
     "end_time": "2020-07-29T01:32:09.975481Z",
     "start_time": "2020-07-29T01:32:09.971480Z"
    }
   },
   "outputs": [
    {
     "data": {
      "text/plain": [
       "array([[8, 0, 6, 4, 0, 5],\n",
       "       [6, 8, 2, 0, 4, 7],\n",
       "       [7, 7, 0, 1, 9, 1]])"
      ]
     },
     "execution_count": 117,
     "metadata": {},
     "output_type": "execute_result"
    }
   ],
   "source": [
    "a"
   ]
  },
  {
   "cell_type": "code",
   "execution_count": 118,
   "metadata": {
    "ExecuteTime": {
     "end_time": "2020-07-29T01:32:16.125413Z",
     "start_time": "2020-07-29T01:32:16.122384Z"
    }
   },
   "outputs": [
    {
     "data": {
      "text/plain": [
       "4.166666666666667"
      ]
     },
     "execution_count": 118,
     "metadata": {},
     "output_type": "execute_result"
    }
   ],
   "source": [
    "a.mean()"
   ]
  },
  {
   "cell_type": "code",
   "execution_count": 119,
   "metadata": {
    "ExecuteTime": {
     "end_time": "2020-07-29T01:33:21.195925Z",
     "start_time": "2020-07-29T01:33:21.191895Z"
    }
   },
   "outputs": [
    {
     "data": {
      "text/plain": [
       "array([7.        , 5.        , 2.66666667, 1.66666667, 4.33333333,\n",
       "       4.33333333])"
      ]
     },
     "execution_count": 119,
     "metadata": {},
     "output_type": "execute_result"
    }
   ],
   "source": [
    "# mean for each column?\n",
    "\n",
    "a.mean(axis=0)"
   ]
  },
  {
   "cell_type": "code",
   "execution_count": 120,
   "metadata": {
    "ExecuteTime": {
     "end_time": "2020-07-29T01:33:29.657800Z",
     "start_time": "2020-07-29T01:33:29.654834Z"
    }
   },
   "outputs": [
    {
     "data": {
      "text/plain": [
       "array([3.83333333, 4.5       , 4.16666667])"
      ]
     },
     "execution_count": 120,
     "metadata": {},
     "output_type": "execute_result"
    }
   ],
   "source": [
    "# mean for each row?\n",
    "a.mean(axis=1)"
   ]
  },
  {
   "cell_type": "markdown",
   "metadata": {},
   "source": [
    "# Transpose Matrix"
   ]
  },
  {
   "cell_type": "code",
   "execution_count": 121,
   "metadata": {
    "ExecuteTime": {
     "end_time": "2020-07-29T01:34:03.528079Z",
     "start_time": "2020-07-29T01:34:03.525047Z"
    }
   },
   "outputs": [
    {
     "data": {
      "text/plain": [
       "array([[8, 0, 6, 4, 0, 5],\n",
       "       [6, 8, 2, 0, 4, 7],\n",
       "       [7, 7, 0, 1, 9, 1]])"
      ]
     },
     "execution_count": 121,
     "metadata": {},
     "output_type": "execute_result"
    }
   ],
   "source": [
    "a"
   ]
  },
  {
   "cell_type": "code",
   "execution_count": 122,
   "metadata": {
    "ExecuteTime": {
     "end_time": "2020-07-29T01:34:06.449809Z",
     "start_time": "2020-07-29T01:34:06.445812Z"
    }
   },
   "outputs": [
    {
     "data": {
      "text/plain": [
       "array([[8, 6, 7],\n",
       "       [0, 8, 7],\n",
       "       [6, 2, 0],\n",
       "       [4, 0, 1],\n",
       "       [0, 4, 9],\n",
       "       [5, 7, 1]])"
      ]
     },
     "execution_count": 122,
     "metadata": {},
     "output_type": "execute_result"
    }
   ],
   "source": [
    "a.transpose()"
   ]
  },
  {
   "cell_type": "code",
   "execution_count": 123,
   "metadata": {
    "ExecuteTime": {
     "end_time": "2020-07-29T01:34:22.621995Z",
     "start_time": "2020-07-29T01:34:22.618993Z"
    }
   },
   "outputs": [
    {
     "data": {
      "text/plain": [
       "array([[8, 6, 7],\n",
       "       [0, 8, 7],\n",
       "       [6, 2, 0],\n",
       "       [4, 0, 1],\n",
       "       [0, 4, 9],\n",
       "       [5, 7, 1]])"
      ]
     },
     "execution_count": 123,
     "metadata": {},
     "output_type": "execute_result"
    }
   ],
   "source": [
    "a.T"
   ]
  },
  {
   "cell_type": "markdown",
   "metadata": {},
   "source": [
    "# Operations between np.arrays"
   ]
  },
  {
   "cell_type": "code",
   "execution_count": null,
   "metadata": {
    "ExecuteTime": {
     "end_time": "2020-07-29T01:34:33.706370Z",
     "start_time": "2020-07-29T01:34:33.703371Z"
    }
   },
   "outputs": [],
   "source": [
    "a"
   ]
  },
  {
   "cell_type": "code",
   "execution_count": null,
   "metadata": {
    "ExecuteTime": {
     "end_time": "2020-07-29T01:34:35.665373Z",
     "start_time": "2020-07-29T01:34:35.660370Z"
    }
   },
   "outputs": [],
   "source": [
    "c = np.random.randint(0,10, size=a.shape)\n",
    "c"
   ]
  },
  {
   "cell_type": "code",
   "execution_count": null,
   "metadata": {
    "ExecuteTime": {
     "end_time": "2020-07-29T01:34:39.867728Z",
     "start_time": "2020-07-29T01:34:39.864757Z"
    }
   },
   "outputs": [],
   "source": [
    "a + c"
   ]
  },
  {
   "cell_type": "code",
   "execution_count": null,
   "metadata": {
    "ExecuteTime": {
     "end_time": "2020-07-29T01:34:58.141732Z",
     "start_time": "2020-07-29T01:34:58.136886Z"
    }
   },
   "outputs": [],
   "source": [
    "a - c"
   ]
  },
  {
   "cell_type": "code",
   "execution_count": null,
   "metadata": {
    "ExecuteTime": {
     "end_time": "2020-07-29T01:35:01.288236Z",
     "start_time": "2020-07-29T01:35:01.285236Z"
    }
   },
   "outputs": [],
   "source": [
    "a + 1"
   ]
  },
  {
   "cell_type": "code",
   "execution_count": null,
   "metadata": {},
   "outputs": [],
   "source": []
  },
  {
   "cell_type": "markdown",
   "metadata": {},
   "source": [
    "# Reshaping arrays"
   ]
  },
  {
   "cell_type": "code",
   "execution_count": 124,
   "metadata": {
    "ExecuteTime": {
     "end_time": "2020-08-24T01:35:50.044976Z",
     "start_time": "2020-08-24T01:35:50.039945Z"
    }
   },
   "outputs": [
    {
     "data": {
      "text/plain": [
       "array([ 4, 15, 14, 14,  6,  9,  4,  7,  6,  0,  1,  3, 15,  6, 13,  3, 11,\n",
       "        1, 13,  0,  8,  3, 10, 11,  0, 10,  2, 13,  3,  5,  5,  7,  4, 14,\n",
       "        7,  8, 10,  1,  9,  0, 14, 10,  5,  0, 15,  7,  1,  1, 10,  3,  6,\n",
       "        1,  8, 11,  8,  6,  3,  3,  5,  1, 10,  4,  8,  9])"
      ]
     },
     "execution_count": 124,
     "metadata": {},
     "output_type": "execute_result"
    }
   ],
   "source": [
    "a = np.random.randint(0, 16, size=64)\n",
    "a"
   ]
  },
  {
   "cell_type": "code",
   "execution_count": 125,
   "metadata": {
    "ExecuteTime": {
     "end_time": "2020-08-24T01:35:51.157929Z",
     "start_time": "2020-08-24T01:35:51.152931Z"
    },
    "scrolled": true
   },
   "outputs": [
    {
     "data": {
      "text/plain": [
       "array([[ 4, 15, 14, 14,  6,  9,  4,  7],\n",
       "       [ 6,  0,  1,  3, 15,  6, 13,  3],\n",
       "       [11,  1, 13,  0,  8,  3, 10, 11],\n",
       "       [ 0, 10,  2, 13,  3,  5,  5,  7],\n",
       "       [ 4, 14,  7,  8, 10,  1,  9,  0],\n",
       "       [14, 10,  5,  0, 15,  7,  1,  1],\n",
       "       [10,  3,  6,  1,  8, 11,  8,  6],\n",
       "       [ 3,  3,  5,  1, 10,  4,  8,  9]])"
      ]
     },
     "execution_count": 125,
     "metadata": {},
     "output_type": "execute_result"
    }
   ],
   "source": [
    "a.reshape((8,8))"
   ]
  },
  {
   "cell_type": "code",
   "execution_count": 128,
   "metadata": {
    "ExecuteTime": {
     "end_time": "2020-08-24T01:35:51.373966Z",
     "start_time": "2020-08-24T01:35:51.367966Z"
    }
   },
   "outputs": [],
   "source": [
    "# application: images! \n",
    "\n",
    "image = np.array([0.,  0.,  0., 12., 13.,  0.,  0.,  0.,  0.,  0.,  5., 16.,  8.,\n",
    "                  0.,  0.,  0.,  0.,  0., 13., 16.,  3.,  0.,  0.,  0.,  0.,  0.,\n",
    "                  14., 13.,  0.,  0.,  0.,  0.,  0.,  0., 15., 12.,  7.,  2.,  0.,\n",
    "                  0.,  0.,  0., 13., 16., 13., 16.,  3.,  0.,  0.,  0.,  7., 16.,\n",
    "                  11., 15.,  8.,  0.,  0.,  0.,  1.,  9., 15., 11.,  3.,  0.])"
   ]
  },
  {
   "cell_type": "code",
   "execution_count": 130,
   "metadata": {},
   "outputs": [
    {
     "data": {
      "text/plain": [
       "(64,)"
      ]
     },
     "execution_count": 130,
     "metadata": {},
     "output_type": "execute_result"
    }
   ],
   "source": [
    "image.shape"
   ]
  },
  {
   "cell_type": "code",
   "execution_count": 131,
   "metadata": {
    "ExecuteTime": {
     "end_time": "2020-08-24T01:35:52.228625Z",
     "start_time": "2020-08-24T01:35:52.224626Z"
    }
   },
   "outputs": [
    {
     "data": {
      "text/plain": [
       "array([[ 0.,  0.,  0., 12., 13.,  0.,  0.,  0.],\n",
       "       [ 0.,  0.,  5., 16.,  8.,  0.,  0.,  0.],\n",
       "       [ 0.,  0., 13., 16.,  3.,  0.,  0.,  0.],\n",
       "       [ 0.,  0., 14., 13.,  0.,  0.,  0.,  0.],\n",
       "       [ 0.,  0., 15., 12.,  7.,  2.,  0.,  0.],\n",
       "       [ 0.,  0., 13., 16., 13., 16.,  3.,  0.],\n",
       "       [ 0.,  0.,  7., 16., 11., 15.,  8.,  0.],\n",
       "       [ 0.,  0.,  1.,  9., 15., 11.,  3.,  0.]])"
      ]
     },
     "execution_count": 131,
     "metadata": {},
     "output_type": "execute_result"
    }
   ],
   "source": [
    "image.reshape(8,8)"
   ]
  },
  {
   "cell_type": "code",
   "execution_count": 132,
   "metadata": {
    "ExecuteTime": {
     "end_time": "2020-08-24T01:36:04.507491Z",
     "start_time": "2020-08-24T01:36:04.406460Z"
    }
   },
   "outputs": [
    {
     "data": {
      "text/plain": [
       "<matplotlib.image.AxesImage at 0x26c1582d580>"
      ]
     },
     "execution_count": 132,
     "metadata": {},
     "output_type": "execute_result"
    },
    {
     "data": {
      "image/png": "[encoded data removed]",
      "text/plain": [
       "<Figure size 432x288 with 1 Axes>"
      ]
     },
     "metadata": {
      "needs_background": "light"
     },
     "output_type": "display_data"
    }
   ],
   "source": [
    "# sneaky peak on plots <3: \n",
    "import matplotlib.pyplot as plt\n",
    "\n",
    "plt.imshow(image.reshape(8,8), cmap='binary')"
   ]
  },
  {
   "cell_type": "code",
   "execution_count": 133,
   "metadata": {
    "ExecuteTime": {
     "end_time": "2020-08-24T01:36:19.656750Z",
     "start_time": "2020-08-24T01:36:19.562720Z"
    }
   },
   "outputs": [
    {
     "data": {
      "text/plain": [
       "<matplotlib.image.AxesImage at 0x26c158db2e0>"
      ]
     },
     "execution_count": 133,
     "metadata": {},
     "output_type": "execute_result"
    },
    {
     "data": {
      "image/png": "[encoded data removed]",
      "text/plain": [
       "<Figure size 432x288 with 1 Axes>"
      ]
     },
     "metadata": {
      "needs_background": "light"
     },
     "output_type": "display_data"
    }
   ],
   "source": [
    "# sneaky peak on plots <3: \n",
    "import matplotlib.pyplot as plt\n",
    "\n",
    "plt.imshow(image.reshape(8,8), cmap='binary')"
   ]
  },
  {
   "cell_type": "code",
   "execution_count": 134,
   "metadata": {
    "ExecuteTime": {
     "end_time": "2020-08-24T01:01:20.005322Z",
     "start_time": "2020-08-24T01:01:18.245004Z"
    }
   },
   "outputs": [
    {
     "data": {
      "text/plain": [
       "array([[[174, 201, 231],\n",
       "        [174, 201, 231],\n",
       "        [174, 201, 231],\n",
       "        ...,\n",
       "        [250, 251, 255],\n",
       "        [250, 251, 255],\n",
       "        [250, 251, 255]],\n",
       "\n",
       "       [[172, 199, 229],\n",
       "        [173, 200, 230],\n",
       "        [173, 200, 230],\n",
       "        ...,\n",
       "        [251, 252, 255],\n",
       "        [251, 252, 255],\n",
       "        [251, 252, 255]],\n",
       "\n",
       "       [[174, 201, 231],\n",
       "        [174, 201, 231],\n",
       "        [174, 201, 231],\n",
       "        ...,\n",
       "        [252, 253, 255],\n",
       "        [252, 253, 255],\n",
       "        [252, 253, 255]],\n",
       "\n",
       "       ...,\n",
       "\n",
       "       [[ 88,  80,   7],\n",
       "        [147, 138,  69],\n",
       "        [122, 116,  38],\n",
       "        ...,\n",
       "        [ 39,  42,  33],\n",
       "        [  8,  14,   2],\n",
       "        [  6,  12,   0]],\n",
       "\n",
       "       [[122, 112,  41],\n",
       "        [129, 120,  53],\n",
       "        [118, 112,  36],\n",
       "        ...,\n",
       "        [  9,  12,   3],\n",
       "        [  9,  15,   3],\n",
       "        [ 16,  24,   9]],\n",
       "\n",
       "       [[116, 103,  35],\n",
       "        [104,  93,  31],\n",
       "        [108, 102,  28],\n",
       "        ...,\n",
       "        [ 43,  49,  39],\n",
       "        [ 13,  21,   6],\n",
       "        [ 15,  24,   7]]], dtype=uint8)"
      ]
     },
     "execution_count": 134,
     "metadata": {},
     "output_type": "execute_result"
    }
   ],
   "source": [
    "from sklearn.datasets import load_sample_image\n",
    "image = load_sample_image('china.jpg')\n",
    "image"
   ]
  },
  {
   "cell_type": "code",
   "execution_count": 135,
   "metadata": {
    "ExecuteTime": {
     "end_time": "2020-07-30T00:20:18.659654Z",
     "start_time": "2020-07-30T00:20:18.655652Z"
    }
   },
   "outputs": [
    {
     "data": {
      "text/plain": [
       "(427, 640, 3)"
      ]
     },
     "execution_count": 135,
     "metadata": {},
     "output_type": "execute_result"
    }
   ],
   "source": [
    "image.shape"
   ]
  },
  {
   "cell_type": "code",
   "execution_count": 136,
   "metadata": {
    "ExecuteTime": {
     "end_time": "2020-07-30T00:23:06.066532Z",
     "start_time": "2020-07-30T00:23:06.061500Z"
    }
   },
   "outputs": [
    {
     "data": {
      "text/plain": [
       "(273280, 3)"
      ]
     },
     "execution_count": 136,
     "metadata": {},
     "output_type": "execute_result"
    }
   ],
   "source": [
    "image.reshape(427 * 640, 3).shape"
   ]
  },
  {
   "cell_type": "code",
   "execution_count": 137,
   "metadata": {
    "ExecuteTime": {
     "end_time": "2020-07-30T00:21:26.410518Z",
     "start_time": "2020-07-30T00:21:26.238518Z"
    }
   },
   "outputs": [
    {
     "data": {
      "text/plain": [
       "<matplotlib.image.AxesImage at 0x26c17a9c340>"
      ]
     },
     "execution_count": 137,
     "metadata": {},
     "output_type": "execute_result"
    },
    {
     "data": {
      "image/png": "[encoded data removed]",
      "text/plain": [
       "<Figure size 432x288 with 1 Axes>"
      ]
     },
     "metadata": {
      "needs_background": "light"
     },
     "output_type": "display_data"
    }
   ],
   "source": [
    "plt.imshow(image)"
   ]
  },
  {
   "cell_type": "code",
   "execution_count": 138,
   "metadata": {
    "ExecuteTime": {
     "end_time": "2020-08-24T01:35:17.992390Z",
     "start_time": "2020-08-24T01:35:17.981392Z"
    }
   },
   "outputs": [],
   "source": [
    "arr = np.array([ \n",
    "    99,  103, 82,  88,  106,  104,  127,  105,  84,   95,   101,  100, \n",
    "    101, 74,  93,  182, 181,  194,  223,  239,  146,  46,   76,   102,  \n",
    "    76,  76,  206, 242, 222,  250,  246,  223,  208,  150,  97,   75,  \n",
    "    50,  147, 251, 132, 125,  145,  136,  52,   90,   241,  200,  76,   \n",
    "    62,  188, 119, 5,   19,   17,   17,   28,   29,   180,  185,  55,   \n",
    "    84,  151, 49,  23,  23,   42,   36,   17,   28,   158,  182,  50,   \n",
    "    68,  168, 86,  47,  61,   41,   45,   98,   117,  181,  236,  87,   \n",
    "    67,  159, 91,  172, 246,  88,   122,  245,  225,  194,  234,  108,  \n",
    "    57,  88,  65,  63,  98,   29,   78,   113,  74,   150,  220,  66,  \n",
    "    51,  82,  101, 4,   20,   25,   107,  78,   28,   213,  161,  22, \n",
    "    66,  40,  140, 107, 20,   69,   170,  106,  177,  218,  38,   15,  \n",
    "    66,  32,  109, 148, 29,   46,   129,  154,  220,  155,  1,    32,  \n",
    "    66,  42,  83,  190, 153,  113,  160,  206,  254,  147,  7,    41,\n",
    "    69,  60,  21,  181, 255,  175,  209,  256,  250,  39,   1,    45,  \n",
    "    73,  54,  19,  111, 256,  256,  244,  148,  56,   118,  13,   20,  \n",
    "    60,  50,  133, 49,  79,   135,  133,  56,   81,   243,  160,  38])"
   ]
  },
  {
   "cell_type": "code",
   "execution_count": 141,
   "metadata": {
    "ExecuteTime": {
     "end_time": "2020-08-24T01:35:18.609292Z",
     "start_time": "2020-08-24T01:35:18.468261Z"
    }
   },
   "outputs": [
    {
     "data": {
      "text/plain": [
       "<matplotlib.image.AxesImage at 0x26c17b5e8e0>"
      ]
     },
     "execution_count": 141,
     "metadata": {},
     "output_type": "execute_result"
    },
    {
     "data": {
      "image/png": "[encoded data removed]",
      "text/plain": [
       "<Figure size 1152x864 with 1 Axes>"
      ]
     },
     "metadata": {
      "needs_background": "light"
     },
     "output_type": "display_data"
    }
   ],
   "source": [
    "import matplotlib.pyplot as plt\n",
    "\n",
    "plt.figure(figsize=(16,12))\n",
    "plt.imshow(arr.reshape((16,12)), cmap='binary')"
   ]
  },
  {
   "cell_type": "code",
   "execution_count": 142,
   "metadata": {
    "ExecuteTime": {
     "end_time": "2020-08-24T01:35:25.805799Z",
     "start_time": "2020-08-24T01:35:25.320773Z"
    }
   },
   "outputs": [
    {
     "data": {
      "image/png": "[encoded data removed]",
      "text/plain": [
       "<Figure size 1152x864 with 1 Axes>"
      ]
     },
     "metadata": {
      "needs_background": "light"
     },
     "output_type": "display_data"
    }
   ],
   "source": [
    "import matplotlib.pyplot as plt\n",
    "\n",
    "plt.figure(figsize=(16,12))\n",
    "plt.imshow(arr.reshape((16,12)), cmap='binary')\n",
    "\n",
    "reshaped_arr = arr.reshape((16, 12))\n",
    "\n",
    "for i in range(reshaped_arr.shape[0]):\n",
    "    for j in range(reshaped_arr.shape[1]):\n",
    "        plt.text(j, i, reshaped_arr[i,j])"
   ]
  },
  {
   "cell_type": "code",
   "execution_count": null,
   "metadata": {},
   "outputs": [],
   "source": []
  }
 ],
 "metadata": {
  "kernelspec": {
   "display_name": "Python 3",
   "language": "python",
   "name": "python3"
  },
  "language_info": {
   "codemirror_mode": {
    "name": "ipython",
    "version": 3
   },
   "file_extension": ".py",
   "mimetype": "text/x-python",
   "name": "python",
   "nbconvert_exporter": "python",
   "pygments_lexer": "ipython3",
   "version": "3.8.3"
  },
  "toc": {
   "base_numbering": 1,
   "nav_menu": {},
   "number_sections": true,
   "sideBar": true,
   "skip_h1_title": false,
   "title_cell": "Table of Contents",
   "title_sidebar": "Contents",
   "toc_cell": false,
   "toc_position": {},
   "toc_section_display": true,
   "toc_window_display": false
  }
 },
 "nbformat": 4,
 "nbformat_minor": 2
}
