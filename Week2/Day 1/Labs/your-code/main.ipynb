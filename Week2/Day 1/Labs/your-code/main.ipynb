{
 "cells": [
  {
   "cell_type": "markdown",
   "metadata": {
    "colab_type": "text",
    "id": "mN9kpE7hMEP-"
   },
   "source": [
    "![Ironhack logo](https://i.imgur.com/1QgrNNw.png)\n",
    "\n",
    "# Lab | Numpy\n",
    "\n",
    "## Introduction\n",
    "\n",
    "An important ability of a data scientist/data engineer is to know where and how to find information that helps you to accomplish your work. In the exercise, you will both practice the Numpy features we discussed in the lesson and learn new features by looking up documentations and references. You will work on your own but remember the teaching staff is at your service whenever you encounter problems.\n",
    "\n",
    "## Getting Started\n",
    "There are a bunch of comments which instruct what you are supposed to do step by step. Follow the order of the instructions from top to bottom. Read each instruction carefully and provide your answer beneath it. You should also test your answers to make sure your responses are correct. If one of your responses is incorrect, you may not be able to proceed because later responses may depend upon previous responses.\n",
    "\n",
    "\n",
    "## Resources\n",
    "\n",
    "Some of the questions in the assignment are not covered in our lesson. You will learn how to efficiently look up the information on your own. Below are some resources you can find the information you need.\n",
    "\n",
    "[Numpy User Guide](https://docs.scipy.org/doc/numpy/user/index.html)\n",
    "\n",
    "[Numpy Reference](https://docs.scipy.org/doc/numpy/reference/)\n",
    "\n",
    "[Google Search](https://www.google.com/search?q=how+to+use+numpy)\n",
    "\n"
   ]
  },
  {
   "cell_type": "markdown",
   "metadata": {
    "colab_type": "text",
    "id": "-we_8UVrwCc1"
   },
   "source": [
    "# Intrduction to NumPy\n",
    "\n",
    "\n",
    "#### 1. Import NumPy under the name np."
   ]
  },
  {
   "cell_type": "code",
   "execution_count": 1,
   "metadata": {
    "colab": {},
    "colab_type": "code",
    "id": "3fRJ8mtHwCc5"
   },
   "outputs": [],
   "source": [
    "# your code here\n",
    "import numpy as np"
   ]
  },
  {
   "cell_type": "markdown",
   "metadata": {
    "colab_type": "text",
    "id": "8Xtbl_EvwCc9"
   },
   "source": [
    "#### 2. Print your NumPy version."
   ]
  },
  {
   "cell_type": "code",
   "execution_count": 5,
   "metadata": {
    "colab": {},
    "colab_type": "code",
    "id": "BlegxuJVwCc-"
   },
   "outputs": [
    {
     "data": {
      "text/plain": [
       "'1.18.5'"
      ]
     },
     "execution_count": 5,
     "metadata": {},
     "output_type": "execute_result"
    }
   ],
   "source": [
    "# your code here\n",
    "np.__version__"
   ]
  },
  {
   "cell_type": "markdown",
   "metadata": {
    "colab_type": "text",
    "id": "FpKgyatowCdC"
   },
   "source": [
    "#### 3. Generate a 3x2x5 3-dimensional array with random values. Assign the array to variable *a*.\n",
    "**Challenge**: there are at least three easy ways that use numpy to generate random arrays. How many ways can you find?\n",
    "\n",
    "**Example of output**:\n",
    "````python\n",
    "[[[0.29932768, 0.85812686, 0.75266145, 0.09278988, 0.78358352],\n",
    "  [0.13437453, 0.65695946, 0.82047594, 0.09764179, 0.52230096]],\n",
    " \n",
    " [[0.54248247, 0.06431281, 0.65902257, 0.92736679, 0.3302839 ],\n",
    "  [0.86867236, 0.33960592, 0.62295821, 0.74563567, 0.24351584]],\n",
    " \n",
    " [[0.21276812, 0.06917533, 0.35106591, 0.82273425, 0.7910178 ],\n",
    "  [0.37768961, 0.56107736, 0.99965953, 0.97615549, 0.2445537 ]]]\n",
    "````"
   ]
  },
  {
   "cell_type": "code",
   "execution_count": 18,
   "metadata": {
    "colab": {},
    "colab_type": "code",
    "id": "609Z4Zn3wCdD"
   },
   "outputs": [
    {
     "data": {
      "text/plain": [
       "array([[[0.59771342, 0.09876559, 0.78482923, 0.17576987, 0.81070717],\n",
       "        [0.96756294, 0.63566449, 0.73325748, 0.01042664, 0.86635466]],\n",
       "\n",
       "       [[0.80004092, 0.29847401, 0.25919101, 0.37802132, 0.98607771],\n",
       "        [0.45867219, 0.7016815 , 0.81391496, 0.53979181, 0.63676434]],\n",
       "\n",
       "       [[0.78391838, 0.3223807 , 0.2035019 , 0.81835745, 0.86965287],\n",
       "        [0.18826423, 0.3854505 , 0.58258256, 0.84860892, 0.47828027]]])"
      ]
     },
     "execution_count": 18,
     "metadata": {},
     "output_type": "execute_result"
    }
   ],
   "source": [
    "# Method 1\n",
    "a = np.random.random(size= (3,2,5))\n",
    "a"
   ]
  },
  {
   "cell_type": "code",
   "execution_count": 0,
   "metadata": {
    "colab": {},
    "colab_type": "code",
    "id": "q6dKJNO4wCdH"
   },
   "outputs": [],
   "source": [
    "# Method 2"
   ]
  },
  {
   "cell_type": "code",
   "execution_count": 0,
   "metadata": {
    "colab": {},
    "colab_type": "code",
    "id": "xILn36GWwCdK"
   },
   "outputs": [],
   "source": [
    "# Method 3"
   ]
  },
  {
   "cell_type": "markdown",
   "metadata": {
    "colab_type": "text",
    "id": "aMHxBSCDwCdP"
   },
   "source": [
    "#### 4. Print *a*.\n"
   ]
  },
  {
   "cell_type": "code",
   "execution_count": 20,
   "metadata": {
    "colab": {},
    "colab_type": "code",
    "id": "N_NYL3pHwCdQ"
   },
   "outputs": [
    {
     "name": "stdout",
     "output_type": "stream",
     "text": [
      "[[[0.59771342 0.09876559 0.78482923 0.17576987 0.81070717]\n",
      "  [0.96756294 0.63566449 0.73325748 0.01042664 0.86635466]]\n",
      "\n",
      " [[0.80004092 0.29847401 0.25919101 0.37802132 0.98607771]\n",
      "  [0.45867219 0.7016815  0.81391496 0.53979181 0.63676434]]\n",
      "\n",
      " [[0.78391838 0.3223807  0.2035019  0.81835745 0.86965287]\n",
      "  [0.18826423 0.3854505  0.58258256 0.84860892 0.47828027]]]\n"
     ]
    }
   ],
   "source": [
    "# your code here\n",
    "print(a)"
   ]
  },
  {
   "cell_type": "markdown",
   "metadata": {
    "colab_type": "text",
    "id": "kws-mAPSwCdU"
   },
   "source": [
    "#### 5. Create a 5x2x3 3-dimensional array with all values equaling 1. Assign the array to variable *b*."
   ]
  },
  {
   "cell_type": "markdown",
   "metadata": {
    "colab_type": "text",
    "id": "SMAUJKLwJS-8"
   },
   "source": [
    "Expected output:\n",
    "\n",
    "````python\n",
    "      [[[1, 1, 1],\n",
    "        [1, 1, 1]],\n",
    "\n",
    "       [[1, 1, 1],\n",
    "        [1, 1, 1]],\n",
    "\n",
    "       [[1, 1, 1],\n",
    "        [1, 1, 1]],\n",
    "\n",
    "       [[1, 1, 1],\n",
    "        [1, 1, 1]],\n",
    "\n",
    "       [[1, 1, 1],\n",
    "        [1, 1, 1]]]\n",
    "````"
   ]
  },
  {
   "cell_type": "code",
   "execution_count": 24,
   "metadata": {
    "colab": {},
    "colab_type": "code",
    "id": "anCmbtrtwCdW"
   },
   "outputs": [],
   "source": [
    "# your code here\n",
    "b = np.ones((5,2,3))"
   ]
  },
  {
   "cell_type": "markdown",
   "metadata": {
    "colab_type": "text",
    "id": "FsYdwPxPwCdZ"
   },
   "source": [
    "#### 6. Print *b*.\n"
   ]
  },
  {
   "cell_type": "code",
   "execution_count": 25,
   "metadata": {
    "colab": {},
    "colab_type": "code",
    "id": "Y3rcPurpwCda"
   },
   "outputs": [
    {
     "name": "stdout",
     "output_type": "stream",
     "text": [
      "[[[1. 1. 1.]\n",
      "  [1. 1. 1.]]\n",
      "\n",
      " [[1. 1. 1.]\n",
      "  [1. 1. 1.]]\n",
      "\n",
      " [[1. 1. 1.]\n",
      "  [1. 1. 1.]]\n",
      "\n",
      " [[1. 1. 1.]\n",
      "  [1. 1. 1.]]\n",
      "\n",
      " [[1. 1. 1.]\n",
      "  [1. 1. 1.]]]\n"
     ]
    }
   ],
   "source": [
    "# your code here\n",
    "print(b)"
   ]
  },
  {
   "cell_type": "markdown",
   "metadata": {
    "colab_type": "text",
    "id": "hGblsnk5wCde"
   },
   "source": [
    "#### 7. Do *a* and *b* have the same size? How do you prove that in Python code?"
   ]
  },
  {
   "cell_type": "code",
   "execution_count": 27,
   "metadata": {
    "colab": {},
    "colab_type": "code",
    "id": "YmKeIpGWwCdf"
   },
   "outputs": [
    {
     "data": {
      "text/plain": [
       "True"
      ]
     },
     "execution_count": 27,
     "metadata": {},
     "output_type": "execute_result"
    }
   ],
   "source": [
    "# your code here\n",
    "np.size(a) == np.size(b)"
   ]
  },
  {
   "cell_type": "markdown",
   "metadata": {
    "colab_type": "text",
    "id": "o9UzXk9IwCdi"
   },
   "source": [
    "#### 8. Are you able to add *a* and *b*? Why or why not?\n"
   ]
  },
  {
   "cell_type": "code",
   "execution_count": 31,
   "metadata": {
    "colab": {},
    "colab_type": "code",
    "id": "drdAyKPywCdj"
   },
   "outputs": [
    {
     "ename": "ValueError",
     "evalue": "operands could not be broadcast together with shapes (3,2,5) (5,2,3) ",
     "output_type": "error",
     "traceback": [
      "\u001b[1;31m---------------------------------------------------------------------------\u001b[0m",
      "\u001b[1;31mValueError\u001b[0m                                Traceback (most recent call last)",
      "\u001b[1;32m<ipython-input-31-1a656e0214a4>\u001b[0m in \u001b[0;36m<module>\u001b[1;34m\u001b[0m\n\u001b[0;32m      1\u001b[0m \u001b[1;31m# your answer here\u001b[0m\u001b[1;33m\u001b[0m\u001b[1;33m\u001b[0m\u001b[1;33m\u001b[0m\u001b[0m\n\u001b[1;32m----> 2\u001b[1;33m \u001b[0mprint\u001b[0m\u001b[1;33m(\u001b[0m\u001b[0ma\u001b[0m\u001b[1;33m+\u001b[0m\u001b[0mb\u001b[0m\u001b[1;33m)\u001b[0m\u001b[1;33m\u001b[0m\u001b[1;33m\u001b[0m\u001b[0m\n\u001b[0m",
      "\u001b[1;31mValueError\u001b[0m: operands could not be broadcast together with shapes (3,2,5) (5,2,3) "
     ]
    }
   ],
   "source": [
    "# your answer here\n",
    "print(a+b)\n",
    "\n",
    "#Cannot add A and B because they do not have equal shape"
   ]
  },
  {
   "cell_type": "markdown",
   "metadata": {
    "colab_type": "text",
    "id": "DTsSOpvYwCdm"
   },
   "source": [
    "#### 9. Reshape *b* so that it has the same structure of *a* (i.e. become a 3x2x5 array). Assign the reshaped array to variable *c*.\n",
    "\n",
    "Expected output:\n",
    "\n",
    "````python\n",
    "      [[[1, 1, 1, 1, 1],\n",
    "        [1, 1, 1, 1, 1]],\n",
    "\n",
    "       [[1, 1, 1, 1, 1],\n",
    "        [1, 1, 1, 1, 1]],\n",
    "\n",
    "       [[1, 1, 1, 1, 1],\n",
    "        [1, 1, 1, 1, 1]]]\n",
    "````"
   ]
  },
  {
   "cell_type": "code",
   "execution_count": 33,
   "metadata": {
    "colab": {},
    "colab_type": "code",
    "id": "DjLlRJUtwCdn"
   },
   "outputs": [
    {
     "data": {
      "text/plain": [
       "array([[[1.59771342, 1.09876559, 1.78482923, 1.17576987, 1.81070717],\n",
       "        [1.96756294, 1.63566449, 1.73325748, 1.01042664, 1.86635466]],\n",
       "\n",
       "       [[1.80004092, 1.29847401, 1.25919101, 1.37802132, 1.98607771],\n",
       "        [1.45867219, 1.7016815 , 1.81391496, 1.53979181, 1.63676434]],\n",
       "\n",
       "       [[1.78391838, 1.3223807 , 1.2035019 , 1.81835745, 1.86965287],\n",
       "        [1.18826423, 1.3854505 , 1.58258256, 1.84860892, 1.47828027]]])"
      ]
     },
     "execution_count": 33,
     "metadata": {},
     "output_type": "execute_result"
    }
   ],
   "source": [
    "# your code here\n",
    "c = b.reshape((3,2,5))\n",
    "a+c\n"
   ]
  },
  {
   "cell_type": "markdown",
   "metadata": {
    "colab_type": "text",
    "id": "fvHocQ9EwCdq"
   },
   "source": [
    "#### 10. Try to add *a* and *c*. Now it should work. Assign the sum to variable *d*. But why does it work now?"
   ]
  },
  {
   "cell_type": "code",
   "execution_count": 68,
   "metadata": {
    "colab": {},
    "colab_type": "code",
    "id": "Ohf5yh5ZwCdr"
   },
   "outputs": [],
   "source": [
    "# your code/answer here\n",
    "\n",
    "d = a+c\n",
    "#Arrays 'a' and 'c' have similar shape. It should work now"
   ]
  },
  {
   "cell_type": "markdown",
   "metadata": {
    "colab_type": "text",
    "id": "DuQBMzQBwCdw"
   },
   "source": [
    "#### 11. Print *a* and *d*. Notice the difference and relation of the two array in terms of the values? Explain."
   ]
  },
  {
   "cell_type": "code",
   "execution_count": 69,
   "metadata": {
    "colab": {},
    "colab_type": "code",
    "id": "gEuh7iv1wCdx"
   },
   "outputs": [
    {
     "name": "stdout",
     "output_type": "stream",
     "text": [
      "[[[0.59771342 0.09876559 0.78482923 0.17576987 0.81070717]\n",
      "  [0.96756294 0.63566449 0.73325748 0.01042664 0.86635466]]\n",
      "\n",
      " [[0.80004092 0.29847401 0.25919101 0.37802132 0.98607771]\n",
      "  [0.45867219 0.7016815  0.81391496 0.53979181 0.63676434]]\n",
      "\n",
      " [[0.78391838 0.3223807  0.2035019  0.81835745 0.86965287]\n",
      "  [0.18826423 0.3854505  0.58258256 0.84860892 0.47828027]]]\n",
      " \n",
      "[[[1.59771342 1.09876559 1.78482923 1.17576987 1.81070717]\n",
      "  [1.96756294 1.63566449 1.73325748 1.01042664 1.86635466]]\n",
      "\n",
      " [[1.80004092 1.29847401 1.25919101 1.37802132 1.98607771]\n",
      "  [1.45867219 1.7016815  1.81391496 1.53979181 1.63676434]]\n",
      "\n",
      " [[1.78391838 1.3223807  1.2035019  1.81835745 1.86965287]\n",
      "  [1.18826423 1.3854505  1.58258256 1.84860892 1.47828027]]]\n"
     ]
    }
   ],
   "source": [
    "# your code/answer here\n",
    "print(a)\n",
    "print(' ')\n",
    "print(d)\n",
    "\n",
    "#Array 'd' has +1 in each of its elements in relation to 'a'"
   ]
  },
  {
   "cell_type": "markdown",
   "metadata": {
    "colab_type": "text",
    "id": "Ka1popJ3wCd0"
   },
   "source": [
    "#### 12. Multiply *a* and *c*. Assign the result to *e*."
   ]
  },
  {
   "cell_type": "code",
   "execution_count": 70,
   "metadata": {
    "colab": {},
    "colab_type": "code",
    "id": "hLeCMiSEwCd1"
   },
   "outputs": [
    {
     "name": "stdout",
     "output_type": "stream",
     "text": [
      "[[[0.59771342 0.09876559 0.78482923 0.17576987 0.81070717]\n",
      "  [0.96756294 0.63566449 0.73325748 0.01042664 0.86635466]]\n",
      "\n",
      " [[0.80004092 0.29847401 0.25919101 0.37802132 0.98607771]\n",
      "  [0.45867219 0.7016815  0.81391496 0.53979181 0.63676434]]\n",
      "\n",
      " [[0.78391838 0.3223807  0.2035019  0.81835745 0.86965287]\n",
      "  [0.18826423 0.3854505  0.58258256 0.84860892 0.47828027]]]\n"
     ]
    }
   ],
   "source": [
    "# your code here\n",
    "\n",
    "e = a * c\n",
    "print(e)"
   ]
  },
  {
   "cell_type": "markdown",
   "metadata": {
    "colab_type": "text",
    "id": "1QCqP6lMwCd5"
   },
   "source": [
    "#### 13. Does *e* equal to *a*? Why or why not?\n"
   ]
  },
  {
   "cell_type": "code",
   "execution_count": 71,
   "metadata": {
    "colab": {},
    "colab_type": "code",
    "id": "oxoat0cbwCd6"
   },
   "outputs": [
    {
     "data": {
      "text/plain": [
       "array([[[ True,  True,  True,  True,  True],\n",
       "        [ True,  True,  True,  True,  True]],\n",
       "\n",
       "       [[ True,  True,  True,  True,  True],\n",
       "        [ True,  True,  True,  True,  True]],\n",
       "\n",
       "       [[ True,  True,  True,  True,  True],\n",
       "        [ True,  True,  True,  True,  True]]])"
      ]
     },
     "execution_count": 71,
     "metadata": {},
     "output_type": "execute_result"
    }
   ],
   "source": [
    "# your code/answer here\n",
    "a==e\n",
    "\n",
    "#'a' == 'e', as 'c' is an unit matriz"
   ]
  },
  {
   "cell_type": "markdown",
   "metadata": {
    "colab_type": "text",
    "id": "b7ceZMcswCd9"
   },
   "source": [
    "#### 14. Identify the max, min, and mean values in *d*. Assign those values to variables *d_max*, *d_min* and *d_mean*."
   ]
  },
  {
   "cell_type": "code",
   "execution_count": 72,
   "metadata": {
    "colab": {},
    "colab_type": "code",
    "id": "ljd7J4ucwCd-"
   },
   "outputs": [
    {
     "name": "stdout",
     "output_type": "stream",
     "text": [
      "1.986077711368052 1.0104266412262373 1.5678226341976165\n"
     ]
    }
   ],
   "source": [
    "# your code here\n",
    "d_max = np.max(d)\n",
    "d_min = np.min(d)\n",
    "d_mean = np.mean(d)\n",
    "\n",
    "print(d_max, d_min, d_mean)"
   ]
  },
  {
   "cell_type": "markdown",
   "metadata": {
    "colab_type": "text",
    "id": "bBmZ1bg3wCeC"
   },
   "source": [
    "#### 15. Now we want to label the values in *d*. First create an empty array *f* with the same shape (i.e. 3x2x5) as *d* using `np.empty`.\n"
   ]
  },
  {
   "cell_type": "code",
   "execution_count": 100,
   "metadata": {},
   "outputs": [],
   "source": [
    "def test():\n",
    "    np.zeros(shape=(5,2,3))"
   ]
  },
  {
   "cell_type": "code",
   "execution_count": 101,
   "metadata": {},
   "outputs": [],
   "source": [
    "test()"
   ]
  },
  {
   "cell_type": "code",
   "execution_count": 102,
   "metadata": {
    "colab": {},
    "colab_type": "code",
    "id": "GVU7znV7wCeD"
   },
   "outputs": [
    {
     "data": {
      "text/plain": [
       "array([[[0., 0., 0.],\n",
       "        [0., 0., 0.]],\n",
       "\n",
       "       [[0., 0., 0.],\n",
       "        [0., 0., 0.]],\n",
       "\n",
       "       [[0., 0., 0.],\n",
       "        [0., 0., 0.]],\n",
       "\n",
       "       [[0., 0., 0.],\n",
       "        [0., 0., 0.]],\n",
       "\n",
       "       [[0., 0., 0.],\n",
       "        [0., 0., 0.]]])"
      ]
     },
     "execution_count": 102,
     "metadata": {},
     "output_type": "execute_result"
    }
   ],
   "source": [
    "# your code here\n",
    "\n",
    "f = np.empty(shape= (5,2,3))\n",
    "f"
   ]
  },
  {
   "cell_type": "markdown",
   "metadata": {
    "colab_type": "text",
    "id": "cwZMaPTawCeG"
   },
   "source": [
    "#### 16. Populate the values in *f*. \n",
    "\n",
    "For each value in *d*, if it's larger than *d_min* but smaller than *d_mean*, assign 25 to the corresponding value in *f*. If a value in *d* is larger than *d_mean* but smaller than *d_max*, assign 75 to the corresponding value in *f*. If a value equals to *d_mean*, assign 50 to the corresponding value in *f*. Assign 0 to the corresponding value(s) in *f* for *d_min* in *d*. Assign 100 to the corresponding value(s) in *f* for *d_max* in *d*. In the end, f should have only the following values: 0, 25, 50, 75, and 100.\n",
    "\n",
    "**Note**: you don't have to use Numpy in this question."
   ]
  },
  {
   "cell_type": "code",
   "execution_count": 83,
   "metadata": {},
   "outputs": [
    {
     "data": {
      "text/plain": [
       "chararray([b'0', b'\\xeb', b'\\x1e', b'\\x86', b'\\xc3', b'\\x01', '', '',\n",
       "           b'p', '', b'\\xb1', b'\\x84', b'\\xc3', b'\\x01', '', '', b'g', '',\n",
       "           b'.', '', b'r', '', b'e', '', b's', '', b'h', '', b'a', ''],\n",
       "          dtype='|S1')"
      ]
     },
     "execution_count": 83,
     "metadata": {},
     "output_type": "execute_result"
    }
   ],
   "source": []
  },
  {
   "cell_type": "code",
   "execution_count": 89,
   "metadata": {
    "colab": {},
    "colab_type": "code",
    "id": "He3bA8_vwCeI"
   },
   "outputs": [],
   "source": [
    "# your code here\n",
    "f.reshape(30)\n",
    "f = np.copy(d.reshape(30))\n",
    "\n",
    "for i in range(0, len(f)):\n",
    "    if f[i] > d_min and f[i] < d_mean:\n",
    "        f[i] = 25\n",
    "    elif f[i] > d_mean and f[i] < d_max:\n",
    "        f[i] = 75\n",
    "    elif f[i] == d_mean:\n",
    "        f[i] = 50\n",
    "    elif f[i] == d_max:\n",
    "        f[i] = 100\n",
    "    elif f[i] == d_min:\n",
    "        f[i] = 0\n",
    "\n",
    "f = f.reshape((3,2,5))\n"
   ]
  },
  {
   "cell_type": "markdown",
   "metadata": {
    "colab_type": "text",
    "id": "DtXatajMwCeM"
   },
   "source": [
    "#### 17. Print *d* and *f*. Do you have your expected *f*?\n",
    "For instance, if your *d* is:\n",
    "```python\n",
    "[[[1.85836099, 1.67064465, 1.62576044, 1.40243961, 1.88454931],\n",
    "  [1.75354326, 1.69403643, 1.36729252, 1.61415071, 1.12104981]],\n",
    "\n",
    "[[1.72201435, 1.1862918 , 1.87078449, 1.7726778 , 1.88180042],\n",
    "  [1.44747908, 1.31673383, 1.02000951, 1.52218947, 1.97066381]],\n",
    "\n",
    "[[1.79129243, 1.74983003, 1.96028037, 1.85166831, 1.65450881],\n",
    " [1.18068344, 1.9587381 , 1.00656599, 1.93402165, 1.73514584]]]\n",
    "```\n",
    "Your *f* should be:\n",
    "```python\n",
    "[[[ 75.  75.  75.  25.  75.]\n",
    "  [ 75.  75.  25.  25.  25.]]\n",
    "\n",
    " [[ 75.  25.  75.  75.  75.]\n",
    "  [ 25.  25.  25.  25. 100.]]\n",
    "\n",
    " [[ 75.  75.  75.  75.  75.]\n",
    "  [ 25.  75.   0.  75.  75.]]]\n",
    "```"
   ]
  },
  {
   "cell_type": "code",
   "execution_count": 90,
   "metadata": {
    "colab": {},
    "colab_type": "code",
    "id": "wvC83zaUwCeN"
   },
   "outputs": [
    {
     "name": "stdout",
     "output_type": "stream",
     "text": [
      "[[[1.59771342 1.09876559 1.78482923 1.17576987 1.81070717]\n",
      "  [1.96756294 1.63566449 1.73325748 1.01042664 1.86635466]]\n",
      "\n",
      " [[1.80004092 1.29847401 1.25919101 1.37802132 1.98607771]\n",
      "  [1.45867219 1.7016815  1.81391496 1.53979181 1.63676434]]\n",
      "\n",
      " [[1.78391838 1.3223807  1.2035019  1.81835745 1.86965287]\n",
      "  [1.18826423 1.3854505  1.58258256 1.84860892 1.47828027]]]\n",
      "[[[ 75.  25.  75.  25.  75.]\n",
      "  [ 75.  75.  75.   0.  75.]]\n",
      "\n",
      " [[ 75.  25.  25.  25. 100.]\n",
      "  [ 25.  75.  75.  25.  75.]]\n",
      "\n",
      " [[ 75.  25.  25.  75.  75.]\n",
      "  [ 25.  25.  75.  75.  25.]]]\n"
     ]
    }
   ],
   "source": [
    "# your code here\n",
    "\n",
    "print(d)\n",
    "\n",
    "print(f)"
   ]
  },
  {
   "cell_type": "markdown",
   "metadata": {
    "colab_type": "text",
    "id": "ppRoFFJBwCeS"
   },
   "source": [
    "#### 18. Bonus question: instead of using numbers (i.e. 0, 25, 50, 75, and 100), use string values  (\"A\", \"B\", \"C\", \"D\", and \"E\") to label the array elements. For the example above, the expected result is:\n",
    "\n",
    "```python\n",
    "[[['D' 'D' 'D' 'B' 'D']\n",
    "  ['D' 'D' 'B' 'B' 'B']]\n",
    "\n",
    " [['D' 'B' 'D' 'D' 'D']\n",
    "  ['B' 'B' 'B' 'B' 'E']]\n",
    "\n",
    " [['D' 'D' 'D' 'D' 'D']\n",
    "  ['B' 'D' 'A' 'D' 'D']]]\n",
    "```\n",
    "**Note**: you don't have to use Numpy in this question."
   ]
  },
  {
   "cell_type": "code",
   "execution_count": 88,
   "metadata": {
    "colab": {},
    "colab_type": "code",
    "id": "xbBNSrnCwCeU"
   },
   "outputs": [
    {
     "name": "stdout",
     "output_type": "stream",
     "text": [
      "[[[1.59771342 1.09876559 1.78482923 1.17576987 1.81070717]\n",
      "  [1.96756294 1.63566449 1.73325748 1.01042664 1.86635466]]\n",
      "\n",
      " [[1.80004092 1.29847401 1.25919101 1.37802132 1.98607771]\n",
      "  [1.45867219 1.7016815  1.81391496 1.53979181 1.63676434]]\n",
      "\n",
      " [[1.78391838 1.3223807  1.2035019  1.81835745 1.86965287]\n",
      "  [1.18826423 1.3854505  1.58258256 1.84860892 1.47828027]]]\n",
      "[[[b'D' b'B' b'D' b'B' b'D']\n",
      "  [b'D' b'D' b'D' b'A' b'D']]\n",
      "\n",
      " [[b'D' b'B' b'B' b'B' b'E']\n",
      "  [b'B' b'D' b'D' b'B' b'D']]\n",
      "\n",
      " [[b'D' b'B' b'B' b'D' b'D']\n",
      "  [b'B' b'B' b'D' b'D' b'B']]]\n"
     ]
    }
   ],
   "source": [
    "# your code here\n",
    "f.reshape(30)\n",
    "test = np.copy(d.reshape(30))\n",
    "f = test\n",
    "\n",
    "g = np.chararray(shape = (30))\n",
    "\n",
    "for i in range(0, len(f)):\n",
    "    if f[i] > d_min and f[i] < d_mean:\n",
    "        g[i] = 'B'\n",
    "    elif f[i] > d_mean and f[i] < d_max:\n",
    "        g[i] = 'D'\n",
    "    elif f[i] == d_mean:\n",
    "        g[i] = 'C'\n",
    "    elif f[i] == d_max:\n",
    "        g[i] = 'E'\n",
    "    elif f[i] == d_min:\n",
    "        g[i] = 'A'\n",
    "\n",
    "g = g.reshape((3,2,5))\n",
    "\n",
    "print(d)\n",
    "print(g)\n"
   ]
  },
  {
   "cell_type": "markdown",
   "metadata": {
    "colab_type": "text",
    "id": "QzJyLQiFMsyT"
   },
   "source": [
    "## Additional Challenges for the Nerds\n",
    "\n",
    "If you are way ahead of your classmates and willing to accept some tough challenges about Numpy, take one or several of the following Codewar *katas*. \tYou need to already possess a good amount of knowledge in Python and statistics because you will need to write Python functions, do loops, write conditionals, and deal with matrices.\n",
    "\n",
    "* [Insert dashes](https://www.codewars.com/kata/insert-dashes)\n",
    "* [Thinkful - Logic Drills: Red and bumpy](https://www.codewars.com/kata/thinkful-logic-drills-red-and-bumpy)"
   ]
  },
  {
   "cell_type": "code",
   "execution_count": 0,
   "metadata": {
    "colab": {},
    "colab_type": "code",
    "id": "fy2EwolQMtfJ"
   },
   "outputs": [],
   "source": []
  }
 ],
 "metadata": {
  "colab": {
   "collapsed_sections": [],
   "name": "main.ipynb",
   "provenance": []
  },
  "kernelspec": {
   "display_name": "Python 3",
   "language": "python",
   "name": "python3"
  },
  "language_info": {
   "codemirror_mode": {
    "name": "ipython",
    "version": 3
   },
   "file_extension": ".py",
   "mimetype": "text/x-python",
   "name": "python",
   "nbconvert_exporter": "python",
   "pygments_lexer": "ipython3",
   "version": "3.8.3"
  },
  "toc": {
   "base_numbering": 1,
   "nav_menu": {},
   "number_sections": true,
   "sideBar": true,
   "skip_h1_title": false,
   "title_cell": "Table of Contents",
   "title_sidebar": "Contents",
   "toc_cell": false,
   "toc_position": {},
   "toc_section_display": true,
   "toc_window_display": false
  },
  "varInspector": {
   "cols": {
    "lenName": 16,
    "lenType": 16,
    "lenVar": 40
   },
   "kernels_config": {
    "python": {
     "delete_cmd_postfix": "",
     "delete_cmd_prefix": "del ",
     "library": "var_list.py",
     "varRefreshCmd": "print(var_dic_list())"
    },
    "r": {
     "delete_cmd_postfix": ") ",
     "delete_cmd_prefix": "rm(",
     "library": "var_list.r",
     "varRefreshCmd": "cat(var_dic_list()) "
    }
   },
   "types_to_exclude": [
    "module",
    "function",
    "builtin_function_or_method",
    "instance",
    "_Feature"
   ],
   "window_display": false
  }
 },
 "nbformat": 4,
 "nbformat_minor": 1
}
