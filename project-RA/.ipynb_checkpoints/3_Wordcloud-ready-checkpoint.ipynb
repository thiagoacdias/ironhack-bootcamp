{
 "cells": [
  {
   "cell_type": "code",
   "execution_count": 1,
   "metadata": {
    "ExecuteTime": {
     "end_time": "2020-09-18T11:03:44.648765Z",
     "start_time": "2020-09-18T11:03:42.942490Z"
    }
   },
   "outputs": [],
   "source": [
    "\n",
    "#importing packages for cleaning\n",
    "import nltk\n",
    "# nltk.download('stopwords')\n",
    "import pandas as pd\n",
    "import numpy as np\n",
    "import matplotlib.pyplot as plt\n",
    "import seaborn as sns\n",
    "\n",
    "from wordcloud import WordCloud\n",
    "from textblob import TextBlob\n",
    "from PIL import Image"
   ]
  },
  {
   "cell_type": "code",
   "execution_count": 22,
   "metadata": {
    "ExecuteTime": {
     "end_time": "2020-09-18T18:04:11.089333Z",
     "start_time": "2020-09-18T18:04:10.248121Z"
    }
   },
   "outputs": [],
   "source": [
    "df = pd.read_csv('./final/final_dataset.csv', sep=';', encoding = 'iso-8859-1')"
   ]
  },
  {
   "cell_type": "code",
   "execution_count": 23,
   "metadata": {
    "ExecuteTime": {
     "end_time": "2020-09-18T18:04:12.348798Z",
     "start_time": "2020-09-18T18:04:11.875585Z"
    }
   },
   "outputs": [],
   "source": [
    "text = df.complaint.str.cat(sep=' ').lower()"
   ]
  },
  {
   "cell_type": "code",
   "execution_count": 24,
   "metadata": {
    "ExecuteTime": {
     "end_time": "2020-09-18T18:04:37.903388Z",
     "start_time": "2020-09-18T18:04:14.329010Z"
    }
   },
   "outputs": [
    {
     "ename": "MemoryError",
     "evalue": "",
     "output_type": "error",
     "traceback": [
      "\u001b[1;31m---------------------------------------------------------------------------\u001b[0m",
      "\u001b[1;31mMemoryError\u001b[0m                               Traceback (most recent call last)",
      "\u001b[1;32m<ipython-input-24-aa70fe360f86>\u001b[0m in \u001b[0;36m<module>\u001b[1;34m\u001b[0m\n\u001b[0;32m     14\u001b[0m \u001b[1;33m\u001b[0m\u001b[0m\n\u001b[0;32m     15\u001b[0m \u001b[1;31m#executing function\u001b[0m\u001b[1;33m\u001b[0m\u001b[1;33m\u001b[0m\u001b[1;33m\u001b[0m\u001b[0m\n\u001b[1;32m---> 16\u001b[1;33m \u001b[0mtext\u001b[0m \u001b[1;33m=\u001b[0m \u001b[0mnp\u001b[0m\u001b[1;33m.\u001b[0m\u001b[0mvectorize\u001b[0m\u001b[1;33m(\u001b[0m\u001b[0mremove_punct\u001b[0m\u001b[1;33m)\u001b[0m\u001b[1;33m(\u001b[0m\u001b[0mtext\u001b[0m\u001b[1;33m)\u001b[0m\u001b[1;33m\u001b[0m\u001b[1;33m\u001b[0m\u001b[0m\n\u001b[0m\u001b[0;32m     17\u001b[0m \u001b[1;33m\u001b[0m\u001b[0m\n\u001b[0;32m     18\u001b[0m \u001b[1;31m#removing other characters\u001b[0m\u001b[1;33m\u001b[0m\u001b[1;33m\u001b[0m\u001b[1;33m\u001b[0m\u001b[0m\n",
      "\u001b[1;32m~\\anaconda3\\lib\\site-packages\\numpy\\lib\\function_base.py\u001b[0m in \u001b[0;36m__call__\u001b[1;34m(self, *args, **kwargs)\u001b[0m\n\u001b[0;32m   2089\u001b[0m             \u001b[0mvargs\u001b[0m\u001b[1;33m.\u001b[0m\u001b[0mextend\u001b[0m\u001b[1;33m(\u001b[0m\u001b[1;33m[\u001b[0m\u001b[0mkwargs\u001b[0m\u001b[1;33m[\u001b[0m\u001b[0m_n\u001b[0m\u001b[1;33m]\u001b[0m \u001b[1;32mfor\u001b[0m \u001b[0m_n\u001b[0m \u001b[1;32min\u001b[0m \u001b[0mnames\u001b[0m\u001b[1;33m]\u001b[0m\u001b[1;33m)\u001b[0m\u001b[1;33m\u001b[0m\u001b[1;33m\u001b[0m\u001b[0m\n\u001b[0;32m   2090\u001b[0m \u001b[1;33m\u001b[0m\u001b[0m\n\u001b[1;32m-> 2091\u001b[1;33m         \u001b[1;32mreturn\u001b[0m \u001b[0mself\u001b[0m\u001b[1;33m.\u001b[0m\u001b[0m_vectorize_call\u001b[0m\u001b[1;33m(\u001b[0m\u001b[0mfunc\u001b[0m\u001b[1;33m=\u001b[0m\u001b[0mfunc\u001b[0m\u001b[1;33m,\u001b[0m \u001b[0margs\u001b[0m\u001b[1;33m=\u001b[0m\u001b[0mvargs\u001b[0m\u001b[1;33m)\u001b[0m\u001b[1;33m\u001b[0m\u001b[1;33m\u001b[0m\u001b[0m\n\u001b[0m\u001b[0;32m   2092\u001b[0m \u001b[1;33m\u001b[0m\u001b[0m\n\u001b[0;32m   2093\u001b[0m     \u001b[1;32mdef\u001b[0m \u001b[0m_get_ufunc_and_otypes\u001b[0m\u001b[1;33m(\u001b[0m\u001b[0mself\u001b[0m\u001b[1;33m,\u001b[0m \u001b[0mfunc\u001b[0m\u001b[1;33m,\u001b[0m \u001b[0margs\u001b[0m\u001b[1;33m)\u001b[0m\u001b[1;33m:\u001b[0m\u001b[1;33m\u001b[0m\u001b[1;33m\u001b[0m\u001b[0m\n",
      "\u001b[1;32m~\\anaconda3\\lib\\site-packages\\numpy\\lib\\function_base.py\u001b[0m in \u001b[0;36m_vectorize_call\u001b[1;34m(self, func, args)\u001b[0m\n\u001b[0;32m   2162\u001b[0m \u001b[1;33m\u001b[0m\u001b[0m\n\u001b[0;32m   2163\u001b[0m             \u001b[1;31m# Convert args to object arrays first\u001b[0m\u001b[1;33m\u001b[0m\u001b[1;33m\u001b[0m\u001b[1;33m\u001b[0m\u001b[0m\n\u001b[1;32m-> 2164\u001b[1;33m             inputs = [array(a, copy=False, subok=True, dtype=object)\n\u001b[0m\u001b[0;32m   2165\u001b[0m                       for a in args]\n\u001b[0;32m   2166\u001b[0m \u001b[1;33m\u001b[0m\u001b[0m\n",
      "\u001b[1;32m~\\anaconda3\\lib\\site-packages\\numpy\\lib\\function_base.py\u001b[0m in \u001b[0;36m<listcomp>\u001b[1;34m(.0)\u001b[0m\n\u001b[0;32m   2162\u001b[0m \u001b[1;33m\u001b[0m\u001b[0m\n\u001b[0;32m   2163\u001b[0m             \u001b[1;31m# Convert args to object arrays first\u001b[0m\u001b[1;33m\u001b[0m\u001b[1;33m\u001b[0m\u001b[1;33m\u001b[0m\u001b[0m\n\u001b[1;32m-> 2164\u001b[1;33m             inputs = [array(a, copy=False, subok=True, dtype=object)\n\u001b[0m\u001b[0;32m   2165\u001b[0m                       for a in args]\n\u001b[0;32m   2166\u001b[0m \u001b[1;33m\u001b[0m\u001b[0m\n",
      "\u001b[1;31mMemoryError\u001b[0m: "
     ]
    }
   ],
   "source": [
    "#removing numbers\n",
    "def remove_num(text):\n",
    "    text = ''.join([i for i in text if not i.isdigit()])\n",
    "    return text\n",
    "\n",
    "#executing function\n",
    "text = np.vectorize(remove_num)(text)\n",
    "\n",
    "#removing punctuation\n",
    "from string import punctuation\n",
    "def remove_punct(text):\n",
    "    text = ' '.join(word.strip(punctuation) for word in text.split() if word.strip(punctuation))\n",
    "    return text\n",
    "\n",
    "#executing function\n",
    "text = np.vectorize(remove_punct)(text)\n",
    "\n",
    "#removing other characters\n",
    "def remove_u(text):\n",
    "    text = text.replace('_','')\n",
    "    text = text.replace('?','')\n",
    "    text = text.replace('•','')\n",
    "    text = text.replace(\"@\",'')\n",
    "    text = text.replace('▯','')\n",
    "    text = text.replace(\"'\",'')\n",
    "    text = text.replace(\",\",\"\")\n",
    "    text = text.replace(\"\\n\",\"\")\n",
    "#     text = text.replace(\"máquina\",\"maquina\")\n",
    "    \n",
    "    return text\n",
    "\n",
    "#executing function\n",
    "text = np.vectorize(remove_u)(text)\n",
    "\n",
    "#--------------------------------------------------------------------------------------\n",
    "\n",
    "#removing extra spaces\n",
    "def remove_extra_space(text):\n",
    "    word_list = text.split()\n",
    "    text = ' '.join(word_list)\n",
    "    return text\n",
    "\n",
    "#executing function\n",
    "text = np.vectorize(remove_extra_space)(text)\n",
    "\n",
    "#--------------------------------------------------------------------------------------\n",
    "\n",
    "#removing very common words\n",
    "stop_words = nltk.corpus.stopwords.words('portuguese')\n",
    "stop_words.extend(['que', 'de', 'da', 'os', 'as', 'ou', 'uma', 'reclame','aqui', 'editado', 'pag','seguro'])\n",
    "stop_words.extend(['pois', 'porque', 'agora', 'sendo', 'porém', 'assim', 'então', 'apenas', 'onde', 'pq', 'mesma', 'vc', 'mim', 'ja', 'nao', 'porem'])\n",
    "\n",
    "def remove_stopwords(text):\n",
    "    word_list = text.split()\n",
    "    word_list = [word for word in word_list if word not in stop_words]\n",
    "    text = ' '.join(word_list)\n",
    "    return text\n",
    "\n",
    "#executing function\n",
    "text = np.vectorize(remove_stopwords)(text)\n",
    "text = text.tolist()"
   ]
  },
  {
   "cell_type": "code",
   "execution_count": null,
   "metadata": {
    "ExecuteTime": {
     "end_time": "2020-09-18T18:03:58.481292Z",
     "start_time": "2020-09-18T18:03:50.065Z"
    },
    "scrolled": true
   },
   "outputs": [],
   "source": [
    "#setting mask image\n",
    "mask = np.array(Image.open(r'./final/economist.png'))\n",
    "plt.imshow(mask)\n",
    "plt.axis(\"off\")\n",
    "\n",
    "# lower max_font_size, change the maximum number of word and lighten the background:\n",
    "from wordcloud import ImageColorGenerator\n",
    "\n",
    "#--------------------------------------------------------------------------------------\n",
    "\n",
    "#creating wordcloud\n",
    "wordcloud = WordCloud(mask=mask, width=2000, height=1000,contour_color=\"black\", max_words=10000,relative_scaling = 0, background_color = \"white\").generate(text)\n",
    "image_colors = ImageColorGenerator(mask)\n",
    "plt.figure(figsize=[20,15])\n",
    "plt.imshow(wordcloud.recolor(color_func=image_colors), interpolation=\"bilinear\")\n",
    "plt.axis(\"off\")\n",
    "_=plt.show()"
   ]
  },
  {
   "cell_type": "code",
   "execution_count": null,
   "metadata": {},
   "outputs": [],
   "source": []
  }
 ],
 "metadata": {
  "kernelspec": {
   "display_name": "Python 3",
   "language": "python",
   "name": "python3"
  },
  "language_info": {
   "codemirror_mode": {
    "name": "ipython",
    "version": 3
   },
   "file_extension": ".py",
   "mimetype": "text/x-python",
   "name": "python",
   "nbconvert_exporter": "python",
   "pygments_lexer": "ipython3",
   "version": "3.8.3"
  },
  "toc": {
   "base_numbering": 1,
   "nav_menu": {},
   "number_sections": true,
   "sideBar": true,
   "skip_h1_title": false,
   "title_cell": "Table of Contents",
   "title_sidebar": "Contents",
   "toc_cell": false,
   "toc_position": {},
   "toc_section_display": true,
   "toc_window_display": false
  }
 },
 "nbformat": 4,
 "nbformat_minor": 4
}
