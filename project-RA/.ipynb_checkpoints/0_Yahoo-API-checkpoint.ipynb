{
 "cells": [
  {
   "cell_type": "markdown",
   "metadata": {},
   "source": [
    "# Installing/importing relevant packages"
   ]
  },
  {
   "cell_type": "code",
   "execution_count": 1,
   "metadata": {
    "ExecuteTime": {
     "end_time": "2020-09-16T17:37:10.579254Z",
     "start_time": "2020-09-16T17:36:36.202639Z"
    }
   },
   "outputs": [
    {
     "name": "stdout",
     "output_type": "stream",
     "text": [
      "Collecting yfinance\n",
      "  Downloading yfinance-0.1.54.tar.gz (19 kB)\n",
      "Requirement already satisfied: pandas>=0.24 in c:\\users\\td\\anaconda3\\lib\\site-packages (from yfinance) (1.0.5)\n",
      "Requirement already satisfied: numpy>=1.15 in c:\\users\\td\\anaconda3\\lib\\site-packages (from yfinance) (1.18.5)\n",
      "Requirement already satisfied: requests>=2.20 in c:\\users\\td\\anaconda3\\lib\\site-packages (from yfinance) (2.24.0)\n",
      "Collecting multitasking>=0.0.7\n",
      "  Downloading multitasking-0.0.9.tar.gz (8.1 kB)\n",
      "Requirement already satisfied: pytz>=2017.2 in c:\\users\\td\\anaconda3\\lib\\site-packages (from pandas>=0.24->yfinance) (2020.1)\n",
      "Requirement already satisfied: python-dateutil>=2.6.1 in c:\\users\\td\\anaconda3\\lib\\site-packages (from pandas>=0.24->yfinance) (2.8.1)\n",
      "Requirement already satisfied: urllib3!=1.25.0,!=1.25.1,<1.26,>=1.21.1 in c:\\users\\td\\anaconda3\\lib\\site-packages (from requests>=2.20->yfinance) (1.25.9)\n",
      "Requirement already satisfied: chardet<4,>=3.0.2 in c:\\users\\td\\anaconda3\\lib\\site-packages (from requests>=2.20->yfinance) (3.0.4)\n",
      "Requirement already satisfied: certifi>=2017.4.17 in c:\\users\\td\\anaconda3\\lib\\site-packages (from requests>=2.20->yfinance) (2020.6.20)\n",
      "Requirement already satisfied: idna<3,>=2.5 in c:\\users\\td\\anaconda3\\lib\\site-packages (from requests>=2.20->yfinance) (2.10)\n",
      "Requirement already satisfied: six>=1.5 in c:\\users\\td\\anaconda3\\lib\\site-packages (from python-dateutil>=2.6.1->pandas>=0.24->yfinance) (1.15.0)\n",
      "Building wheels for collected packages: yfinance, multitasking\n",
      "  Building wheel for yfinance (setup.py): started\n",
      "  Building wheel for yfinance (setup.py): finished with status 'done'\n",
      "  Created wheel for yfinance: filename=yfinance-0.1.54-py2.py3-none-any.whl size=22415 sha256=d5863074569e799ce625ca8feb231ca5cba44a634e684276aa2ca2a0e271a2b6\n",
      "  Stored in directory: c:\\users\\td\\appdata\\local\\pip\\cache\\wheels\\d9\\55\\e4\\3fc43a4f56c7c18628bc24088be1d7168a832a91efa5ccc5da\n",
      "  Building wheel for multitasking (setup.py): started\n",
      "  Building wheel for multitasking (setup.py): finished with status 'done'\n",
      "  Created wheel for multitasking: filename=multitasking-0.0.9-py3-none-any.whl size=8374 sha256=cff6cfbabf640800e6d38afe5e38f1184a58c5b66ab68c6bc01e56387fcd7d0f\n",
      "  Stored in directory: c:\\users\\td\\appdata\\local\\pip\\cache\\wheels\\57\\6d\\a3\\a39b839cc75274d2acfb1c58bfead2f726c6577fe8c4723f13\n",
      "Successfully built yfinance multitasking\n",
      "Installing collected packages: multitasking, yfinance\n",
      "Successfully installed multitasking-0.0.9 yfinance-0.1.54\n"
     ]
    }
   ],
   "source": [
    "!pip install yfinance"
   ]
  },
  {
   "cell_type": "code",
   "execution_count": 9,
   "metadata": {
    "ExecuteTime": {
     "end_time": "2020-09-16T17:42:07.888036Z",
     "start_time": "2020-09-16T17:42:07.883049Z"
    }
   },
   "outputs": [],
   "source": [
    "import yfinance as yf\n",
    "import pandas as pd"
   ]
  },
  {
   "cell_type": "markdown",
   "metadata": {},
   "source": [
    "# Gathering and parsing Yahoo Finance data - Pagseguro"
   ]
  },
  {
   "cell_type": "code",
   "execution_count": 5,
   "metadata": {
    "ExecuteTime": {
     "end_time": "2020-09-16T17:38:41.040871Z",
     "start_time": "2020-09-16T17:38:35.693233Z"
    }
   },
   "outputs": [
    {
     "name": "stdout",
     "output_type": "stream",
     "text": [
      "{'zip': '01451-001', 'sector': 'Technology', 'longBusinessSummary': \"PagSeguro Digital Ltd., together with its subsidiaries, provides financial technology solutions and services for consumers, individual entrepreneurs, micro-merchants, and small and medium-sized companies in Brazil and internationally. The company's products and services include PagSeguro Ecosystem, a digital ecosystem that operates as a closed loop where its clients are able to address their primary day to day financial needs, including receiving and spending funds, and managing and growing their businesses; PagBank digital account, which offers banking services through the PagBank mobile app; and Free PagSeguro digital account, which centralizes various cash-in options, functionalities, services, and cash-out options in a single ecosystem. It also offers online gaming and cross-border digital services. In addition, the company offers functionalities, and value-added services and features, such as purchase protection mechanisms, antifraud platform, account and business management tools, and point of sale app. Further, it is involved in processing of back-office solutions, including sales reconciliation, and gateway solutions and services, as well as the capture of credit cards with acquirers and sub acquirers. Additionally, the company engages in the in-person payment activities through POS devices; and issuance of prepaid cards for spending or withdrawing account balances. It also operates an online platform that facilitates peer-to-peer lending. The company was founded in 2006 and is headquartered in SÃ£o Paulo, Brazil. PagSeguro Digital Ltd. is a subsidiary of Universo Online S.A.\", 'city': 'SÃ£o Paulo', 'phone': '55 11 3038 8127', 'state': 'SP', 'country': 'Brazil', 'companyOfficers': [], 'website': 'http://www.pagseguro.uol.com.br', 'maxAge': 1, 'address1': 'Avenida Brigadeiro Faria Lima, 1384', 'industry': 'Software—Infrastructure', 'address2': '4Âº Andar Parte A', 'previousClose': 37.26, 'regularMarketOpen': 37.59, 'twoHundredDayAverage': 31.477535, 'trailingAnnualDividendYield': 0.006441224000000001, 'payoutRatio': 0, 'volume24Hr': None, 'regularMarketDayHigh': 38.01, 'navPrice': None, 'averageDailyVolume10Day': 1761716, 'totalAssets': None, 'regularMarketPreviousClose': 37.26, 'fiftyDayAverage': 40.195427, 'trailingAnnualDividendRate': 0.24, 'open': 37.59, 'toCurrency': None, 'averageVolume10days': 1761716, 'expireDate': None, 'yield': None, 'algorithm': None, 'dividendRate': None, 'exDividendDate': None, 'beta': None, 'circulatingSupply': None, 'startDate': None, 'regularMarketDayLow': 37.12, 'priceHint': 2, 'currency': 'USD', 'trailingPE': 54.022987, 'regularMarketVolume': 983544, 'lastMarket': None, 'maxSupply': None, 'openInterest': None, 'marketCap': 13151426560, 'volumeAllCurrencies': None, 'strikePrice': None, 'averageVolume': 1585426, 'priceToSalesTrailing12Months': None, 'dayLow': 37.12, 'ask': 37.65, 'ytdReturn': None, 'askSize': 900, 'volume': 983544, 'fiftyTwoWeekHigh': 49.49, 'forwardPE': 30.569103, 'fromCurrency': None, 'fiveYearAvgDividendYield': None, 'fiftyTwoWeekLow': 13.58, 'bid': 37.64, 'tradeable': False, 'dividendYield': None, 'bidSize': 900, 'dayHigh': 38.01, 'exchange': 'NYQ', 'shortName': 'PagSeguro Digital Ltd.', 'longName': 'PagSeguro Digital Ltd.', 'exchangeTimezoneName': 'America/New_York', 'exchangeTimezoneShortName': 'EDT', 'isEsgPopulated': False, 'gmtOffSetMilliseconds': '-14400000', 'quoteType': 'EQUITY', 'symbol': 'PAGS', 'messageBoardId': 'finmb_547797906', 'market': 'us_market', 'annualHoldingsTurnover': None, 'enterpriseToRevenue': None, 'beta3Year': None, 'profitMargins': 0.35981, 'enterpriseToEbitda': None, '52WeekChange': -0.21309399999999998, 'morningStarRiskRating': None, 'forwardEps': 1.23, 'revenueQuarterlyGrowth': None, 'sharesOutstanding': 179076992, 'fundInceptionDate': None, 'annualReportExpenseRatio': None, 'bookValue': 5.026, 'sharesShort': 18243252, 'sharesPercentSharesOut': 0.055400000000000005, 'fundFamily': None, 'lastFiscalYearEnd': 1577750400, 'heldPercentInstitutions': 1.07495, 'netIncomeToCommon': None, 'trailingEps': 0.6960000000000001, 'lastDividendValue': None, 'SandP52WeekChange': 0.13119566, 'priceToBook': 7.481098, 'heldPercentInsiders': 4e-05, 'nextFiscalYearEnd': 1640908800, 'mostRecentQuarter': 1593475200, 'shortRatio': 11.26, 'sharesShortPreviousMonthDate': 1596153600, 'floatShares': 178977269, 'enterpriseValue': 11567722496, 'threeYearAverageReturn': None, 'lastSplitDate': None, 'lastSplitFactor': None, 'legalType': None, 'morningStarOverallRating': None, 'earningsQuarterlyGrowth': -0.081, 'dateShortInterest': 1598832000, 'pegRatio': 50.88, 'lastCapGain': None, 'shortPercentOfFloat': 0.1883, 'sharesShortPriorMonth': 17798982, 'category': None, 'fiveYearAverageReturn': None, 'regularMarketPrice': 37.59, 'logo_url': 'https://logo.clearbit.com/pagseguro.uol.com.br'}\n"
     ]
    }
   ],
   "source": [
    "ps = yf.Ticker('PAGS')\n",
    "print(ps.info)"
   ]
  },
  {
   "cell_type": "code",
   "execution_count": 13,
   "metadata": {
    "ExecuteTime": {
     "end_time": "2020-09-16T17:42:45.967282Z",
     "start_time": "2020-09-16T17:42:45.943347Z"
    }
   },
   "outputs": [
    {
     "data": {
      "text/html": [
       "<div>\n",
       "<style scoped>\n",
       "    .dataframe tbody tr th:only-of-type {\n",
       "        vertical-align: middle;\n",
       "    }\n",
       "\n",
       "    .dataframe tbody tr th {\n",
       "        vertical-align: top;\n",
       "    }\n",
       "\n",
       "    .dataframe thead th {\n",
       "        text-align: right;\n",
       "    }\n",
       "</style>\n",
       "<table border=\"1\" class=\"dataframe\">\n",
       "  <thead>\n",
       "    <tr style=\"text-align: right;\">\n",
       "      <th></th>\n",
       "      <th>Dividends</th>\n",
       "      <th>Stock Splits</th>\n",
       "    </tr>\n",
       "    <tr>\n",
       "      <th>Date</th>\n",
       "      <th></th>\n",
       "      <th></th>\n",
       "    </tr>\n",
       "  </thead>\n",
       "  <tbody>\n",
       "  </tbody>\n",
       "</table>\n",
       "</div>"
      ],
      "text/plain": [
       "Empty DataFrame\n",
       "Columns: [Dividends, Stock Splits]\n",
       "Index: []"
      ]
     },
     "execution_count": 13,
     "metadata": {},
     "output_type": "execute_result"
    }
   ],
   "source": [
    "#Check whether PagSeguro has distributed dividends or performed a stock split - either way it could affect \n",
    "#the stock price/volume\n",
    "ps.actions\n",
    "'''\n",
    "No dividend/stock split performed over the last few years\n",
    "PagSeguro's close daily price should reflect its value\n",
    "'''"
   ]
  },
  {
   "cell_type": "code",
   "execution_count": 14,
   "metadata": {
    "ExecuteTime": {
     "end_time": "2020-09-16T17:44:43.525003Z",
     "start_time": "2020-09-16T17:44:43.063597Z"
    }
   },
   "outputs": [],
   "source": [
    "max_history = ps.history(period='max')\n",
    "'''\n",
    "max_history reflects the PagSeguro's daily stock price movement since its IPO on Jan./18\n",
    "'''"
   ]
  },
  {
   "cell_type": "code",
   "execution_count": 17,
   "metadata": {
    "ExecuteTime": {
     "end_time": "2020-09-16T17:46:13.340139Z",
     "start_time": "2020-09-16T17:46:13.311217Z"
    }
   },
   "outputs": [],
   "source": [
    "max_history.to_csv('./final/final_stock_price.csv', sep=';')"
   ]
  }
 ],
 "metadata": {
  "kernelspec": {
   "display_name": "Python 3",
   "language": "python",
   "name": "python3"
  },
  "language_info": {
   "codemirror_mode": {
    "name": "ipython",
    "version": 3
   },
   "file_extension": ".py",
   "mimetype": "text/x-python",
   "name": "python",
   "nbconvert_exporter": "python",
   "pygments_lexer": "ipython3",
   "version": "3.8.3"
  },
  "toc": {
   "base_numbering": 1,
   "nav_menu": {},
   "number_sections": true,
   "sideBar": true,
   "skip_h1_title": false,
   "title_cell": "Table of Contents",
   "title_sidebar": "Contents",
   "toc_cell": false,
   "toc_position": {},
   "toc_section_display": true,
   "toc_window_display": false
  }
 },
 "nbformat": 4,
 "nbformat_minor": 4
}
