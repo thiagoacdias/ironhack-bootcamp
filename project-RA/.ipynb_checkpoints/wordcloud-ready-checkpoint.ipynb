{
 "cells": [
  {
   "cell_type": "code",
   "execution_count": 51,
   "metadata": {
    "ExecuteTime": {
     "end_time": "2020-09-16T21:06:12.557233Z",
     "start_time": "2020-09-16T21:06:12.550251Z"
    }
   },
   "outputs": [],
   "source": [
    "\n",
    "#importing packages for cleaning\n",
    "import nltk\n",
    "# nltk.download('stopwords')\n",
    "import pandas as pd\n",
    "import numpy as np\n",
    "import matplotlib.pyplot as plt\n",
    "import seaborn as sns\n",
    "\n",
    "from wordcloud import WordCloud\n",
    "from textblob import TextBlob\n",
    "from PIL import Image"
   ]
  },
  {
   "cell_type": "code",
   "execution_count": 2,
   "metadata": {
    "ExecuteTime": {
     "end_time": "2020-09-16T17:06:20.284839Z",
     "start_time": "2020-09-16T17:06:19.879588Z"
    }
   },
   "outputs": [],
   "source": [
    "df = pd.read_csv('./final/final_dataset.csv', sep=';', encoding = 'iso-8859-1')"
   ]
  },
  {
   "cell_type": "code",
   "execution_count": 37,
   "metadata": {
    "ExecuteTime": {
     "end_time": "2020-09-16T20:52:44.816216Z",
     "start_time": "2020-09-16T20:52:44.328500Z"
    }
   },
   "outputs": [],
   "source": [
    "text = df.complaint.str.cat(sep=' ').lower()"
   ]
  },
  {
   "cell_type": "code",
   "execution_count": 35,
   "metadata": {
    "ExecuteTime": {
     "end_time": "2020-09-16T20:51:49.669570Z",
     "start_time": "2020-09-16T20:51:08.714393Z"
    }
   },
   "outputs": [],
   "source": [
    "#removing numbers\n",
    "def remove_num(text):\n",
    "    text = ''.join([i for i in text if not i.isdigit()])\n",
    "    return text\n",
    "\n",
    "#executing function\n",
    "text = np.vectorize(remove_num)(text)\n",
    "\n",
    "#removing punctuation\n",
    "from string import punctuation\n",
    "def remove_punct(text):\n",
    "    text = ' '.join(word.strip(punctuation) for word in text.split() if word.strip(punctuation))\n",
    "    return text\n",
    "\n",
    "#executing function\n",
    "text = np.vectorize(remove_punct)(text)\n",
    "\n",
    "#removing other characters\n",
    "def remove_u(text):\n",
    "    text = text.replace('_','')\n",
    "    text = text.replace('?','')\n",
    "    text = text.replace('•','')\n",
    "    text = text.replace(\"@\",'')\n",
    "    text = text.replace('▯','')\n",
    "    text = text.replace(\"'\",'')\n",
    "    text = text.replace(\",\",\"\")\n",
    "    text = text.replace(\"\\n\",\"\")\n",
    "    \n",
    "    return text\n",
    "\n",
    "#executing function\n",
    "text = np.vectorize(remove_u)(text)\n",
    "\n",
    "#--------------------------------------------------------------------------------------\n",
    "\n",
    "#removing extra spaces\n",
    "def remove_extra_space(text):\n",
    "    word_list = text.split()\n",
    "    text = ' '.join(word_list)\n",
    "    return text\n",
    "\n",
    "#executing function\n",
    "text = np.vectorize(remove_extra_space)(text)\n",
    "\n",
    "#--------------------------------------------------------------------------------------\n",
    "\n",
    "#removing very common words\n",
    "stop_words = nltk.corpus.stopwords.words('portuguese')\n",
    "def remove_stopwords(text):\n",
    "    word_list = text.split()\n",
    "    word_list = [word for word in word_list if word not in stop_words]\n",
    "    text = ' '.join(word_list)\n",
    "    return text\n",
    "\n",
    "#executing function\n",
    "text = np.vectorize(remove_stopwords)(text)\n",
    "text = text.tolist()"
   ]
  },
  {
   "cell_type": "code",
   "execution_count": null,
   "metadata": {
    "ExecuteTime": {
     "start_time": "2020-09-16T21:10:45.022Z"
    }
   },
   "outputs": [],
   "source": [
    "#setting mask image\n",
    "mask = np.array(Image.open(r'./final/economist.png'))\n",
    "plt.imshow(mask)\n",
    "plt.axis(\"off\")\n",
    "\n",
    "# lower max_font_size, change the maximum number of word and lighten the background:\n",
    "from wordcloud import ImageColorGenerator\n",
    "\n",
    "#--------------------------------------------------------------------------------------\n",
    "\n",
    "#creating wordcloud\n",
    "wordcloud = WordCloud(, width=2000, height=1000,contour_color=\"black\", max_words=10000,relative_scaling = 0, background_color = \"white\").generate(text)\n",
    "image_colors = ImageColorGenerator(mask)\n",
    "plt.figure(figsize=[20,15])\n",
    "plt.imshow(wordcloud.recolor(color_func=image_colors), interpolation=\"bilinear\")\n",
    "plt.axis(\"off\")\n",
    "plt.show()"
   ]
  },
  {
   "cell_type": "code",
   "execution_count": null,
   "metadata": {},
   "outputs": [],
   "source": []
  }
 ],
 "metadata": {
  "kernelspec": {
   "display_name": "Python 3",
   "language": "python",
   "name": "python3"
  },
  "language_info": {
   "codemirror_mode": {
    "name": "ipython",
    "version": 3
   },
   "file_extension": ".py",
   "mimetype": "text/x-python",
   "name": "python",
   "nbconvert_exporter": "python",
   "pygments_lexer": "ipython3",
   "version": "3.8.3"
  },
  "toc": {
   "base_numbering": 1,
   "nav_menu": {},
   "number_sections": true,
   "sideBar": true,
   "skip_h1_title": false,
   "title_cell": "Table of Contents",
   "title_sidebar": "Contents",
   "toc_cell": false,
   "toc_position": {},
   "toc_section_display": true,
   "toc_window_display": false
  }
 },
 "nbformat": 4,
 "nbformat_minor": 4
}
