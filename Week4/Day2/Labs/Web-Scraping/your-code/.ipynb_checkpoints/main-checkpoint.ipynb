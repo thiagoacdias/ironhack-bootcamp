{
 "cells": [
  {
   "cell_type": "markdown",
   "metadata": {},
   "source": [
    "# Web Scraping Lab\n",
    "\n",
    "You will find in this notebook some scrapy exercises to practise your scraping skills.\n",
    "\n",
    "**Tips:**\n",
    "\n",
    "- Check the response status code for each request to ensure you have obtained the intended content.\n",
    "- Print the response text in each request to understand the kind of info you are getting and its format.\n",
    "- Check for patterns in the response text to extract the data/info requested in each question.\n",
    "- Visit the urls below and take a look at their source code through Chrome DevTools. You'll need to identify the html tags, special class names, etc used in the html content you are expected to extract.\n",
    "\n",
    "**Resources**:\n",
    "- [Requests library](http://docs.python-requests.org/en/master/#the-user-guide)\n",
    "- [Beautiful Soup Doc](https://www.crummy.com/software/BeautifulSoup/bs4/doc/)\n",
    "- [Urllib](https://docs.python.org/3/library/urllib.html#module-urllib)\n",
    "- [re lib](https://docs.python.org/3/library/re.html)\n",
    "- [lxml lib](https://lxml.de/)\n",
    "- [Scrapy](https://scrapy.org/)\n",
    "- [List of HTTP status codes](https://en.wikipedia.org/wiki/List_of_HTTP_status_codes)\n",
    "- [HTML basics](http://www.simplehtmlguide.com/cheatsheet.php)\n",
    "- [CSS basics](https://www.cssbasics.com/#page_start)"
   ]
  },
  {
   "cell_type": "markdown",
   "metadata": {},
   "source": [
    "#### Below are the libraries and modules you may need. `requests`,  `BeautifulSoup` and `pandas` are already imported for you. If you prefer to use additional libraries feel free to do it."
   ]
  },
  {
   "cell_type": "code",
   "execution_count": 1,
   "metadata": {
    "ExecuteTime": {
     "end_time": "2020-09-08T14:20:59.527722Z",
     "start_time": "2020-09-08T14:20:57.388055Z"
    }
   },
   "outputs": [],
   "source": [
    "import requests\n",
    "from bs4 import BeautifulSoup\n",
    "import pandas as pd"
   ]
  },
  {
   "cell_type": "markdown",
   "metadata": {},
   "source": [
    "#### Download, parse (using BeautifulSoup), and print the content from the Trending Developers page from GitHub:"
   ]
  },
  {
   "cell_type": "code",
   "execution_count": 3,
   "metadata": {
    "ExecuteTime": {
     "end_time": "2020-09-08T14:24:47.216871Z",
     "start_time": "2020-09-08T14:24:47.210887Z"
    }
   },
   "outputs": [],
   "source": [
    "# This is the url you will scrape in this exercise\n",
    "url = 'https://github.com/trending/developers'"
   ]
  },
  {
   "cell_type": "code",
   "execution_count": 25,
   "metadata": {
    "ExecuteTime": {
     "end_time": "2020-09-08T14:50:32.604185Z",
     "start_time": "2020-09-08T14:50:31.849362Z"
    }
   },
   "outputs": [],
   "source": [
    "# your code here\n",
    "req = requests.get(url)\n",
    "\n",
    "soup = BeautifulSoup(req.content)\n"
   ]
  },
  {
   "cell_type": "markdown",
   "metadata": {},
   "source": [
    "#### Display the names of the trending developers retrieved in the previous step.\n",
    "\n",
    "Your output should be a Python list of developer names. Each name should not contain any html tag.\n",
    "\n",
    "**Instructions:**\n",
    "\n",
    "1. Find out the html tag and class names used for the developer names. You can achieve this using Chrome DevTools.\n",
    "\n",
    "1. Use BeautifulSoup to extract all the html elements that contain the developer names.\n",
    "\n",
    "1. Use string manipulation techniques to replace whitespaces and linebreaks (i.e. `\\n`) in the *text* of each html element. Use a list to store the clean names.\n",
    "\n",
    "1. Print the list of names.\n",
    "\n",
    "Your output should look like below:\n",
    "\n",
    "```\n",
    "['trimstray (@trimstray)',\n",
    " 'joewalnes (JoeWalnes)',\n",
    " 'charlax (Charles-AxelDein)',\n",
    " 'ForrestKnight (ForrestKnight)',\n",
    " 'revery-ui (revery-ui)',\n",
    " 'alibaba (Alibaba)',\n",
    " 'Microsoft (Microsoft)',\n",
    " 'github (GitHub)',\n",
    " 'facebook (Facebook)',\n",
    " 'boazsegev (Bo)',\n",
    " 'google (Google)',\n",
    " 'cloudfetch',\n",
    " 'sindresorhus (SindreSorhus)',\n",
    " 'tensorflow',\n",
    " 'apache (TheApacheSoftwareFoundation)',\n",
    " 'DevonCrawford (DevonCrawford)',\n",
    " 'ARMmbed (ArmMbed)',\n",
    " 'vuejs (vuejs)',\n",
    " 'fastai (fast.ai)',\n",
    " 'QiShaoXuan (Qi)',\n",
    " 'joelparkerhenderson (JoelParkerHenderson)',\n",
    " 'torvalds (LinusTorvalds)',\n",
    " 'CyC2018',\n",
    " 'komeiji-satori (神楽坂覚々)',\n",
    " 'script-8']\n",
    " ```"
   ]
  },
  {
   "cell_type": "code",
   "execution_count": null,
   "metadata": {},
   "outputs": [],
   "source": []
  },
  {
   "cell_type": "code",
   "execution_count": 26,
   "metadata": {
    "ExecuteTime": {
     "end_time": "2020-09-08T14:50:33.648084Z",
     "start_time": "2020-09-08T14:50:33.614986Z"
    }
   },
   "outputs": [],
   "source": [
    "# your code here\n",
    "all_html = soup.find_all('h1', attrs = {'h3 lh-condensed'})\n",
    "all_people = [soupe.text.strip() for soupe in all_html]\n"
   ]
  },
  {
   "cell_type": "code",
   "execution_count": 27,
   "metadata": {
    "ExecuteTime": {
     "end_time": "2020-09-08T14:50:39.658188Z",
     "start_time": "2020-09-08T14:50:39.652203Z"
    }
   },
   "outputs": [
    {
     "data": {
      "text/plain": [
       "['Franck Nijhof',\n",
       " 'Bee',\n",
       " 'Javier Suárez',\n",
       " 'Michał Lytek',\n",
       " 'Thibault Duplessis',\n",
       " 'David Tolnay',\n",
       " 'Carlos Alexandro Becker',\n",
       " 'Ben Jackson',\n",
       " 'Arvid Norberg',\n",
       " 'LongYinan',\n",
       " 'JJ Kasper',\n",
       " 'Tomas Votruba',\n",
       " 'Fons van der Plas',\n",
       " 'Chocobozzz',\n",
       " 'Bram Kragten',\n",
       " 'Omry Yadan',\n",
       " 'Joshy Orndorff',\n",
       " 'hustcc',\n",
       " 'Zack',\n",
       " 'Oleksandr Fediashov',\n",
       " 'Manfred Touron',\n",
       " 'Han Xiao',\n",
       " 'Limon Monte',\n",
       " 'Nuno Maduro',\n",
       " 'Nicolás Bevacqua']"
      ]
     },
     "execution_count": 27,
     "metadata": {},
     "output_type": "execute_result"
    }
   ],
   "source": [
    "all_people"
   ]
  },
  {
   "cell_type": "markdown",
   "metadata": {},
   "source": [
    "#### Display the trending Python repositories in GitHub.\n",
    "\n",
    "The steps to solve this problem is similar to the previous one except that you need to find out the repository names instead of developer names."
   ]
  },
  {
   "cell_type": "code",
   "execution_count": 28,
   "metadata": {
    "ExecuteTime": {
     "end_time": "2020-09-08T14:51:37.138533Z",
     "start_time": "2020-09-08T14:51:37.133547Z"
    }
   },
   "outputs": [],
   "source": [
    "# This is the url you will scrape in this exercise\n",
    "url = 'https://github.com/trending/python?since=daily'"
   ]
  },
  {
   "cell_type": "code",
   "execution_count": 30,
   "metadata": {
    "ExecuteTime": {
     "end_time": "2020-09-08T14:52:19.095579Z",
     "start_time": "2020-09-08T14:52:18.182494Z"
    }
   },
   "outputs": [],
   "source": [
    "# your code here\n",
    "req = requests.get(url)\n",
    "\n",
    "soup = BeautifulSoup(req.content)"
   ]
  },
  {
   "cell_type": "code",
   "execution_count": 35,
   "metadata": {
    "ExecuteTime": {
     "end_time": "2020-09-08T14:55:28.169090Z",
     "start_time": "2020-09-08T14:55:28.162108Z"
    }
   },
   "outputs": [],
   "source": [
    "import re"
   ]
  },
  {
   "cell_type": "code",
   "execution_count": 38,
   "metadata": {
    "ExecuteTime": {
     "end_time": "2020-09-08T14:56:01.359989Z",
     "start_time": "2020-09-08T14:56:01.315964Z"
    }
   },
   "outputs": [],
   "source": [
    "new_list = [soupe.text.strip() for soupe in soup.find_all('h1', attrs = {'h3 lh-condensed'})]\n",
    "\n",
    "new_list = [re.sub('\\n|\\s', '', x) for x in new_list]"
   ]
  },
  {
   "cell_type": "code",
   "execution_count": 39,
   "metadata": {
    "ExecuteTime": {
     "end_time": "2020-09-08T14:56:01.502938Z",
     "start_time": "2020-09-08T14:56:01.497953Z"
    }
   },
   "outputs": [
    {
     "data": {
      "text/plain": [
       "['PyTorchLightning/pytorch-lightning',\n",
       " 'huangsam/ultimate-python',\n",
       " 'mingrammer/diagrams',\n",
       " 'fighting41love/funNLP',\n",
       " 'alirezamika/autoscraper',\n",
       " 'iGhibli/iOS-DeviceSupport',\n",
       " 'apachecn/AiLearning',\n",
       " 'Ciphey/Ciphey',\n",
       " 'keras-team/keras',\n",
       " 'learning-at-home/hivemind',\n",
       " 'facebookresearch/PyTorch-BigGraph',\n",
       " 'baowenbo/DAIN',\n",
       " 'celery/celery',\n",
       " 'fireeye/capa',\n",
       " 'home-assistant/core',\n",
       " 'Rudrabha/Wav2Lip',\n",
       " 'The-Art-of-Hacking/h4cker',\n",
       " 'jhao104/proxy_pool',\n",
       " 'facebookresearch/denoiser',\n",
       " 'huggingface/transformers',\n",
       " 'openvinotoolkit/open_model_zoo',\n",
       " 'WongKinYiu/PyTorch_YOLOv4',\n",
       " 'MobSF/Mobile-Security-Framework-MobSF',\n",
       " 'qilingframework/qiling',\n",
       " 'ndb796/python-for-coding-test']"
      ]
     },
     "execution_count": 39,
     "metadata": {},
     "output_type": "execute_result"
    }
   ],
   "source": [
    "new_list"
   ]
  },
  {
   "cell_type": "markdown",
   "metadata": {},
   "source": [
    "#### Display all the image links from Walt Disney wikipedia page."
   ]
  },
  {
   "cell_type": "code",
   "execution_count": 44,
   "metadata": {
    "ExecuteTime": {
     "end_time": "2020-09-08T14:58:24.259471Z",
     "start_time": "2020-09-08T14:58:24.255313Z"
    }
   },
   "outputs": [],
   "source": [
    "# This is the url you will scrape in this exercise\n",
    "url = 'https://en.wikipedia.org/wiki/Walt_Disney'"
   ]
  },
  {
   "cell_type": "code",
   "execution_count": 45,
   "metadata": {
    "ExecuteTime": {
     "end_time": "2020-09-08T14:58:25.766317Z",
     "start_time": "2020-09-08T14:58:24.444878Z"
    }
   },
   "outputs": [],
   "source": [
    "# your code here\n",
    "resp = requests.get(url)\n",
    "\n",
    "soup = BeautifulSoup(resp.content)"
   ]
  },
  {
   "cell_type": "code",
   "execution_count": null,
   "metadata": {},
   "outputs": [],
   "source": [
    "soup.find('a', attrs = {'image'})"
   ]
  },
  {
   "cell_type": "code",
   "execution_count": 65,
   "metadata": {
    "ExecuteTime": {
     "end_time": "2020-09-08T15:04:16.332082Z",
     "start_time": "2020-09-08T15:04:16.248394Z"
    }
   },
   "outputs": [
    {
     "data": {
      "text/plain": [
       "['https://en.wikipedia.org/wiki/Walt_Disney/wiki/File:Walt_Disney_1946.JPG',\n",
       " 'https://en.wikipedia.org/wiki/Walt_Disney/wiki/File:Walt_Disney_1942_signature.svg',\n",
       " 'https://en.wikipedia.org/wiki/Walt_Disney/wiki/File:Walt_Disney_envelope_ca._1921.jpg',\n",
       " 'https://en.wikipedia.org/wiki/Walt_Disney/wiki/File:Trolley_Troubles_poster.jpg',\n",
       " 'https://en.wikipedia.org/wiki/Walt_Disney/wiki/File:Walt_Disney_and_his_cartoon_creation_%22Mickey_Mouse%22_-_National_Board_of_Review_Magazine.jpg',\n",
       " 'https://en.wikipedia.org/wiki/Walt_Disney/wiki/File:Steamboat-willie.jpg',\n",
       " 'https://en.wikipedia.org/wiki/Walt_Disney/wiki/File:Walt_Disney_1935.jpg',\n",
       " 'https://en.wikipedia.org/wiki/Walt_Disney/wiki/File:Walt_Disney_Snow_white_1937_trailer_screenshot_(13).jpg',\n",
       " 'https://en.wikipedia.org/wiki/Walt_Disney/wiki/File:Disney_drawing_goofy.jpg',\n",
       " 'https://en.wikipedia.org/wiki/Walt_Disney/wiki/File:DisneySchiphol1951.jpg',\n",
       " 'https://en.wikipedia.org/wiki/Walt_Disney/wiki/File:WaltDisneyplansDisneylandDec1954.jpg',\n",
       " 'https://en.wikipedia.org/wiki/Walt_Disney/wiki/File:Walt_disney_portrait_right.jpg',\n",
       " 'https://en.wikipedia.org/wiki/Walt_Disney/wiki/File:Walt_Disney_Grave.JPG',\n",
       " 'https://en.wikipedia.org/wiki/Walt_Disney/wiki/File:Roy_O._Disney_with_Company_at_Press_Conference.jpg',\n",
       " 'https://en.wikipedia.org/wiki/Walt_Disney/wiki/File:Disney_Display_Case.JPG',\n",
       " 'https://en.wikipedia.org/wiki/Walt_Disney/wiki/File:Disney1968.jpg',\n",
       " 'https://en.wikipedia.org/wiki/Walt_Disney/wiki/File:The_Walt_Disney_Company_Logo.svg',\n",
       " 'https://en.wikipedia.org/wiki/Walt_Disney/wiki/File:Animation_disc.svg',\n",
       " 'https://en.wikipedia.org/wiki/Walt_Disney/wiki/File:P_vip.svg',\n",
       " 'https://en.wikipedia.org/wiki/Walt_Disney/wiki/File:Magic_Kingdom_castle.jpg',\n",
       " 'https://en.wikipedia.org/wiki/Walt_Disney/wiki/File:Video-x-generic.svg',\n",
       " 'https://en.wikipedia.org/wiki/Walt_Disney/wiki/File:Flag_of_Los_Angeles_County,_California.svg',\n",
       " 'https://en.wikipedia.org/wiki/Walt_Disney/wiki/File:Blank_television_set.svg',\n",
       " 'https://en.wikipedia.org/wiki/Walt_Disney/wiki/File:Flag_of_the_United_States.svg']"
      ]
     },
     "execution_count": 65,
     "metadata": {},
     "output_type": "execute_result"
    }
   ],
   "source": [
    "[url+a['href'] for a in soup.find_all('a', attrs = {'image'})]"
   ]
  },
  {
   "cell_type": "markdown",
   "metadata": {},
   "source": [
    "#### Retrieve an arbitary Wikipedia page of \"Python\" and create a list of links on that page."
   ]
  },
  {
   "cell_type": "code",
   "execution_count": 73,
   "metadata": {
    "ExecuteTime": {
     "end_time": "2020-09-08T15:08:29.048906Z",
     "start_time": "2020-09-08T15:08:28.375469Z"
    }
   },
   "outputs": [
    {
     "data": {
      "text/plain": [
       "['https://en.wikipedia.org/wiki/Python#mw-head',\n",
       " 'https://en.wikipedia.org/wiki/Python#searchInput',\n",
       " 'https://en.wikipedia.org/wiki/Pythonhttps://en.wiktionary.org/wiki/Python',\n",
       " 'https://en.wikipedia.org/wiki/Pythonhttps://en.wiktionary.org/wiki/python',\n",
       " 'https://en.wikipedia.org/wiki/Python#Snakes',\n",
       " 'https://en.wikipedia.org/wiki/Python#Ancient_Greece',\n",
       " 'https://en.wikipedia.org/wiki/Python#Media_and_entertainment',\n",
       " 'https://en.wikipedia.org/wiki/Python#Computing',\n",
       " 'https://en.wikipedia.org/wiki/Python#Engineering',\n",
       " 'https://en.wikipedia.org/wiki/Python#Roller_coasters',\n",
       " 'https://en.wikipedia.org/wiki/Python#Vehicles',\n",
       " 'https://en.wikipedia.org/wiki/Python#Weaponry',\n",
       " 'https://en.wikipedia.org/wiki/Python#People',\n",
       " 'https://en.wikipedia.org/wiki/Python#Other_uses',\n",
       " 'https://en.wikipedia.org/wiki/Python#See_also',\n",
       " 'https://en.wikipedia.org/wiki/Python/w/index.php?title=Python&action=edit&section=1',\n",
       " 'https://en.wikipedia.org/wiki/Python/wiki/Pythonidae',\n",
       " 'https://en.wikipedia.org/wiki/Python/wiki/Python_(genus)',\n",
       " 'https://en.wikipedia.org/wiki/Python/w/index.php?title=Python&action=edit&section=2',\n",
       " 'https://en.wikipedia.org/wiki/Python/wiki/Python_(mythology)',\n",
       " 'https://en.wikipedia.org/wiki/Python/wiki/Python_of_Aenus',\n",
       " 'https://en.wikipedia.org/wiki/Python/wiki/Python_(painter)',\n",
       " 'https://en.wikipedia.org/wiki/Python/wiki/Python_of_Byzantium',\n",
       " 'https://en.wikipedia.org/wiki/Python/wiki/Python_of_Catana',\n",
       " 'https://en.wikipedia.org/wiki/Python/w/index.php?title=Python&action=edit&section=3',\n",
       " 'https://en.wikipedia.org/wiki/Python/wiki/Python_(film)',\n",
       " 'https://en.wikipedia.org/wiki/Python/wiki/Pythons_2',\n",
       " 'https://en.wikipedia.org/wiki/Python/wiki/Monty_Python',\n",
       " 'https://en.wikipedia.org/wiki/Python/wiki/Python_(Monty)_Pictures',\n",
       " 'https://en.wikipedia.org/wiki/Python/w/index.php?title=Python&action=edit&section=4',\n",
       " 'https://en.wikipedia.org/wiki/Python/wiki/Python_(programming_language)',\n",
       " 'https://en.wikipedia.org/wiki/Python/wiki/CPython',\n",
       " 'https://en.wikipedia.org/wiki/Python/wiki/CMU_Common_Lisp',\n",
       " 'https://en.wikipedia.org/wiki/Python/wiki/PERQ#PERQ_3',\n",
       " 'https://en.wikipedia.org/wiki/Python/w/index.php?title=Python&action=edit&section=5',\n",
       " 'https://en.wikipedia.org/wiki/Python/w/index.php?title=Python&action=edit&section=6',\n",
       " 'https://en.wikipedia.org/wiki/Python/wiki/Python_(Busch_Gardens_Tampa_Bay)',\n",
       " 'https://en.wikipedia.org/wiki/Python/wiki/Python_(Coney_Island,_Cincinnati,_Ohio)',\n",
       " 'https://en.wikipedia.org/wiki/Python/wiki/Python_(Efteling)',\n",
       " 'https://en.wikipedia.org/wiki/Python/w/index.php?title=Python&action=edit&section=7',\n",
       " 'https://en.wikipedia.org/wiki/Python/wiki/Python_(automobile_maker)',\n",
       " 'https://en.wikipedia.org/wiki/Python/wiki/Python_(Ford_prototype)',\n",
       " 'https://en.wikipedia.org/wiki/Python/w/index.php?title=Python&action=edit&section=8',\n",
       " 'https://en.wikipedia.org/wiki/Python/wiki/Colt_Python',\n",
       " 'https://en.wikipedia.org/wiki/Python/wiki/Python_(missile)',\n",
       " 'https://en.wikipedia.org/wiki/Python/wiki/Python_(nuclear_primary)',\n",
       " 'https://en.wikipedia.org/wiki/Python/w/index.php?title=Python&action=edit&section=9',\n",
       " 'https://en.wikipedia.org/wiki/Python/wiki/Python_Anghelo',\n",
       " 'https://en.wikipedia.org/wiki/Python/w/index.php?title=Python&action=edit&section=10',\n",
       " 'https://en.wikipedia.org/wiki/Python/wiki/PYTHON',\n",
       " 'https://en.wikipedia.org/wiki/Python/w/index.php?title=Python&action=edit&section=11',\n",
       " 'https://en.wikipedia.org/wiki/Python/wiki/Cython',\n",
       " 'https://en.wikipedia.org/wiki/Python/wiki/Pyton',\n",
       " 'https://en.wikipedia.org/wiki/Python/wiki/File:Disambig_gray.svg',\n",
       " 'https://en.wikipedia.org/wiki/Python/wiki/Help:Disambiguation',\n",
       " 'https://en.wikipedia.org/wiki/Pythonhttps://en.wikipedia.org/w/index.php?title=Special:WhatLinksHere/Python&namespace=0',\n",
       " 'https://en.wikipedia.org/wiki/Pythonhttps://en.wikipedia.org/w/index.php?title=Python&oldid=976546332',\n",
       " 'https://en.wikipedia.org/wiki/Python/wiki/Help:Category',\n",
       " 'https://en.wikipedia.org/wiki/Python/wiki/Category:Disambiguation_pages',\n",
       " 'https://en.wikipedia.org/wiki/Python/wiki/Category:Disambiguation_pages_with_short_descriptions',\n",
       " 'https://en.wikipedia.org/wiki/Python/wiki/Category:Short_description_is_different_from_Wikidata',\n",
       " 'https://en.wikipedia.org/wiki/Python/wiki/Category:All_article_disambiguation_pages',\n",
       " 'https://en.wikipedia.org/wiki/Python/wiki/Category:All_disambiguation_pages',\n",
       " 'https://en.wikipedia.org/wiki/Python/wiki/Category:Animal_common_name_disambiguation_pages',\n",
       " 'https://en.wikipedia.org/wiki/Python/wiki/Special:MyTalk',\n",
       " 'https://en.wikipedia.org/wiki/Python/wiki/Special:MyContributions',\n",
       " 'https://en.wikipedia.org/wiki/Python/w/index.php?title=Special:CreateAccount&returnto=Python',\n",
       " 'https://en.wikipedia.org/wiki/Python/w/index.php?title=Special:UserLogin&returnto=Python',\n",
       " 'https://en.wikipedia.org/wiki/Python/wiki/Python',\n",
       " 'https://en.wikipedia.org/wiki/Python/wiki/Talk:Python',\n",
       " 'https://en.wikipedia.org/wiki/Python/wiki/Python',\n",
       " 'https://en.wikipedia.org/wiki/Python/w/index.php?title=Python&action=edit',\n",
       " 'https://en.wikipedia.org/wiki/Python/w/index.php?title=Python&action=history',\n",
       " 'https://en.wikipedia.org/wiki/Python/wiki/Main_Page',\n",
       " 'https://en.wikipedia.org/wiki/Python/wiki/Main_Page',\n",
       " 'https://en.wikipedia.org/wiki/Python/wiki/Wikipedia:Contents',\n",
       " 'https://en.wikipedia.org/wiki/Python/wiki/Portal:Current_events',\n",
       " 'https://en.wikipedia.org/wiki/Python/wiki/Special:Random',\n",
       " 'https://en.wikipedia.org/wiki/Python/wiki/Wikipedia:About',\n",
       " 'https://en.wikipedia.org/wiki/Python//en.wikipedia.org/wiki/Wikipedia:Contact_us',\n",
       " 'https://en.wikipedia.org/wiki/Pythonhttps://donate.wikimedia.org/wiki/Special:FundraiserRedirector?utm_source=donate&utm_medium=sidebar&utm_campaign=C13_en.wikipedia.org&uselang=en',\n",
       " 'https://en.wikipedia.org/wiki/Python//shop.wikimedia.org',\n",
       " 'https://en.wikipedia.org/wiki/Python/wiki/Help:Contents',\n",
       " 'https://en.wikipedia.org/wiki/Python/wiki/Wikipedia:Community_portal',\n",
       " 'https://en.wikipedia.org/wiki/Python/wiki/Special:RecentChanges',\n",
       " 'https://en.wikipedia.org/wiki/Python/wiki/Wikipedia:File_Upload_Wizard',\n",
       " 'https://en.wikipedia.org/wiki/Python/wiki/Special:WhatLinksHere/Python',\n",
       " 'https://en.wikipedia.org/wiki/Python/wiki/Special:RecentChangesLinked/Python',\n",
       " 'https://en.wikipedia.org/wiki/Python/wiki/Wikipedia:File_Upload_Wizard',\n",
       " 'https://en.wikipedia.org/wiki/Python/wiki/Special:SpecialPages',\n",
       " 'https://en.wikipedia.org/wiki/Python/w/index.php?title=Python&oldid=976546332',\n",
       " 'https://en.wikipedia.org/wiki/Python/w/index.php?title=Python&action=info',\n",
       " 'https://en.wikipedia.org/wiki/Python/w/index.php?title=Special:CiteThisPage&page=Python&id=976546332&wpFormIdentifier=titleform',\n",
       " 'https://en.wikipedia.org/wiki/Pythonhttps://www.wikidata.org/wiki/Special:EntityPage/Q747452',\n",
       " 'https://en.wikipedia.org/wiki/Python/w/index.php?title=Special:DownloadAsPdf&page=Python&action=show-download-screen',\n",
       " 'https://en.wikipedia.org/wiki/Python/w/index.php?title=Python&printable=yes',\n",
       " 'https://en.wikipedia.org/wiki/Pythonhttps://commons.wikimedia.org/wiki/Category:Python',\n",
       " 'https://en.wikipedia.org/wiki/Pythonhttps://af.wikipedia.org/wiki/Python',\n",
       " 'https://en.wikipedia.org/wiki/Pythonhttps://als.wikipedia.org/wiki/Python',\n",
       " 'https://en.wikipedia.org/wiki/Pythonhttps://ar.wikipedia.org/wiki/%D8%A8%D8%A7%D9%8A%D8%AB%D9%88%D9%86',\n",
       " 'https://en.wikipedia.org/wiki/Pythonhttps://az.wikipedia.org/wiki/Python',\n",
       " 'https://en.wikipedia.org/wiki/Pythonhttps://bn.wikipedia.org/wiki/%E0%A6%AA%E0%A6%BE%E0%A6%87%E0%A6%A5%E0%A6%A8_(%E0%A6%A6%E0%A7%8D%E0%A6%AC%E0%A7%8D%E0%A6%AF%E0%A6%B0%E0%A7%8D%E0%A6%A5%E0%A6%A4%E0%A6%BE_%E0%A6%A8%E0%A6%BF%E0%A6%B0%E0%A6%B8%E0%A6%A8)',\n",
       " 'https://en.wikipedia.org/wiki/Pythonhttps://be.wikipedia.org/wiki/Python',\n",
       " 'https://en.wikipedia.org/wiki/Pythonhttps://bg.wikipedia.org/wiki/%D0%9F%D0%B8%D1%82%D0%BE%D0%BD_(%D0%BF%D0%BE%D1%8F%D1%81%D0%BD%D0%B5%D0%BD%D0%B8%D0%B5)',\n",
       " 'https://en.wikipedia.org/wiki/Pythonhttps://cs.wikipedia.org/wiki/Python_(rozcestn%C3%ADk)',\n",
       " 'https://en.wikipedia.org/wiki/Pythonhttps://da.wikipedia.org/wiki/Python',\n",
       " 'https://en.wikipedia.org/wiki/Pythonhttps://de.wikipedia.org/wiki/Python',\n",
       " 'https://en.wikipedia.org/wiki/Pythonhttps://eo.wikipedia.org/wiki/Pitono_(apartigilo)',\n",
       " 'https://en.wikipedia.org/wiki/Pythonhttps://eu.wikipedia.org/wiki/Python_(argipena)',\n",
       " 'https://en.wikipedia.org/wiki/Pythonhttps://fa.wikipedia.org/wiki/%D9%BE%D8%A7%DB%8C%D8%AA%D9%88%D9%86',\n",
       " 'https://en.wikipedia.org/wiki/Pythonhttps://fr.wikipedia.org/wiki/Python',\n",
       " 'https://en.wikipedia.org/wiki/Pythonhttps://ko.wikipedia.org/wiki/%ED%8C%8C%EC%9D%B4%EC%84%A0',\n",
       " 'https://en.wikipedia.org/wiki/Pythonhttps://hr.wikipedia.org/wiki/Python_(razdvojba)',\n",
       " 'https://en.wikipedia.org/wiki/Pythonhttps://io.wikipedia.org/wiki/Pitono',\n",
       " 'https://en.wikipedia.org/wiki/Pythonhttps://id.wikipedia.org/wiki/Python',\n",
       " 'https://en.wikipedia.org/wiki/Pythonhttps://ia.wikipedia.org/wiki/Python_(disambiguation)',\n",
       " 'https://en.wikipedia.org/wiki/Pythonhttps://is.wikipedia.org/wiki/Python_(a%C3%B0greining)',\n",
       " 'https://en.wikipedia.org/wiki/Pythonhttps://it.wikipedia.org/wiki/Python_(disambigua)',\n",
       " 'https://en.wikipedia.org/wiki/Pythonhttps://he.wikipedia.org/wiki/%D7%A4%D7%99%D7%AA%D7%95%D7%9F',\n",
       " 'https://en.wikipedia.org/wiki/Pythonhttps://ka.wikipedia.org/wiki/%E1%83%9E%E1%83%98%E1%83%97%E1%83%9D%E1%83%9C%E1%83%98_(%E1%83%9B%E1%83%A0%E1%83%90%E1%83%95%E1%83%90%E1%83%9A%E1%83%9B%E1%83%9C%E1%83%98%E1%83%A8%E1%83%95%E1%83%9C%E1%83%94%E1%83%9A%E1%83%9D%E1%83%95%E1%83%90%E1%83%9C%E1%83%98)',\n",
       " 'https://en.wikipedia.org/wiki/Pythonhttps://kg.wikipedia.org/wiki/Mboma_(nyoka)',\n",
       " 'https://en.wikipedia.org/wiki/Pythonhttps://la.wikipedia.org/wiki/Python_(discretiva)',\n",
       " 'https://en.wikipedia.org/wiki/Pythonhttps://lb.wikipedia.org/wiki/Python',\n",
       " 'https://en.wikipedia.org/wiki/Pythonhttps://hu.wikipedia.org/wiki/Python_(egy%C3%A9rtelm%C5%B1s%C3%ADt%C5%91_lap)',\n",
       " 'https://en.wikipedia.org/wiki/Pythonhttps://mr.wikipedia.org/wiki/%E0%A4%AA%E0%A4%BE%E0%A4%AF%E0%A4%A5%E0%A5%89%E0%A4%A8_(%E0%A4%86%E0%A4%9C%E0%A5%8D%E0%A4%9E%E0%A4%BE%E0%A4%B5%E0%A4%B2%E0%A5%80_%E0%A4%AD%E0%A4%BE%E0%A4%B7%E0%A4%BE)',\n",
       " 'https://en.wikipedia.org/wiki/Pythonhttps://nl.wikipedia.org/wiki/Python',\n",
       " 'https://en.wikipedia.org/wiki/Pythonhttps://ja.wikipedia.org/wiki/%E3%83%91%E3%82%A4%E3%82%BD%E3%83%B3',\n",
       " 'https://en.wikipedia.org/wiki/Pythonhttps://no.wikipedia.org/wiki/Pyton',\n",
       " 'https://en.wikipedia.org/wiki/Pythonhttps://pl.wikipedia.org/wiki/Pyton',\n",
       " 'https://en.wikipedia.org/wiki/Pythonhttps://pt.wikipedia.org/wiki/Python_(desambigua%C3%A7%C3%A3o)',\n",
       " 'https://en.wikipedia.org/wiki/Pythonhttps://ru.wikipedia.org/wiki/Python_(%D0%B7%D0%BD%D0%B0%D1%87%D0%B5%D0%BD%D0%B8%D1%8F)',\n",
       " 'https://en.wikipedia.org/wiki/Pythonhttps://sk.wikipedia.org/wiki/Python',\n",
       " 'https://en.wikipedia.org/wiki/Pythonhttps://sr.wikipedia.org/wiki/%D0%9F%D0%B8%D1%82%D0%BE%D0%BD_(%D0%B2%D0%B8%D1%88%D0%B5%D0%B7%D0%BD%D0%B0%D1%87%D0%BD%D0%B0_%D0%BE%D0%B4%D1%80%D0%B5%D0%B4%D0%BD%D0%B8%D1%86%D0%B0)',\n",
       " 'https://en.wikipedia.org/wiki/Pythonhttps://sh.wikipedia.org/wiki/Python',\n",
       " 'https://en.wikipedia.org/wiki/Pythonhttps://fi.wikipedia.org/wiki/Python',\n",
       " 'https://en.wikipedia.org/wiki/Pythonhttps://sv.wikipedia.org/wiki/Pyton',\n",
       " 'https://en.wikipedia.org/wiki/Pythonhttps://th.wikipedia.org/wiki/%E0%B9%84%E0%B8%9E%E0%B8%97%E0%B8%AD%E0%B8%99',\n",
       " 'https://en.wikipedia.org/wiki/Pythonhttps://tr.wikipedia.org/wiki/Python',\n",
       " 'https://en.wikipedia.org/wiki/Pythonhttps://uk.wikipedia.org/wiki/%D0%9F%D1%96%D1%84%D0%BE%D0%BD',\n",
       " 'https://en.wikipedia.org/wiki/Pythonhttps://ur.wikipedia.org/wiki/%D9%BE%D8%A7%D8%A6%DB%8C%D8%AA%DA%BE%D9%88%D9%86',\n",
       " 'https://en.wikipedia.org/wiki/Pythonhttps://vi.wikipedia.org/wiki/Python',\n",
       " 'https://en.wikipedia.org/wiki/Pythonhttps://zh.wikipedia.org/wiki/Python_(%E6%B6%88%E6%AD%A7%E4%B9%89)',\n",
       " 'https://en.wikipedia.org/wiki/Pythonhttps://www.wikidata.org/wiki/Special:EntityPage/Q747452#sitelinks-wikipedia',\n",
       " 'https://en.wikipedia.org/wiki/Python//en.wikipedia.org/wiki/Wikipedia:Text_of_Creative_Commons_Attribution-ShareAlike_3.0_Unported_License',\n",
       " 'https://en.wikipedia.org/wiki/Python//creativecommons.org/licenses/by-sa/3.0/',\n",
       " 'https://en.wikipedia.org/wiki/Python//foundation.wikimedia.org/wiki/Terms_of_Use',\n",
       " 'https://en.wikipedia.org/wiki/Python//foundation.wikimedia.org/wiki/Privacy_policy',\n",
       " 'https://en.wikipedia.org/wiki/Python//www.wikimediafoundation.org/',\n",
       " 'https://en.wikipedia.org/wiki/Pythonhttps://foundation.wikimedia.org/wiki/Privacy_policy',\n",
       " 'https://en.wikipedia.org/wiki/Python/wiki/Wikipedia:About',\n",
       " 'https://en.wikipedia.org/wiki/Python/wiki/Wikipedia:General_disclaimer',\n",
       " 'https://en.wikipedia.org/wiki/Python//en.wikipedia.org/wiki/Wikipedia:Contact_us',\n",
       " 'https://en.wikipedia.org/wiki/Python//en.m.wikipedia.org/w/index.php?title=Python&mobileaction=toggle_view_mobile',\n",
       " 'https://en.wikipedia.org/wiki/Pythonhttps://www.mediawiki.org/wiki/Special:MyLanguage/How_to_contribute',\n",
       " 'https://en.wikipedia.org/wiki/Pythonhttps://stats.wikimedia.org/#/en.wikipedia.org',\n",
       " 'https://en.wikipedia.org/wiki/Pythonhttps://foundation.wikimedia.org/wiki/Cookie_statement',\n",
       " 'https://en.wikipedia.org/wiki/Pythonhttps://wikimediafoundation.org/',\n",
       " 'https://en.wikipedia.org/wiki/Pythonhttps://www.mediawiki.org/']"
      ]
     },
     "execution_count": 73,
     "metadata": {},
     "output_type": "execute_result"
    }
   ],
   "source": [
    "# This is the url you will scrape in this exercise\n",
    "url ='https://en.wikipedia.org/wiki/Python' \n",
    "# your code here\n",
    "resp = requests.get(url)\n",
    "\n",
    "soup = BeautifulSoup(resp.content)\n",
    "\n",
    "[url+a['href'] for a in soup.find_all('a', href=True)]\n"
   ]
  },
  {
   "cell_type": "code",
   "execution_count": null,
   "metadata": {},
   "outputs": [],
   "source": [
    "# your code here"
   ]
  },
  {
   "cell_type": "markdown",
   "metadata": {},
   "source": [
    "#### Find the number of titles that have changed in the United States Code since its last release point."
   ]
  },
  {
   "cell_type": "code",
   "execution_count": 74,
   "metadata": {
    "ExecuteTime": {
     "end_time": "2020-09-08T15:11:25.421556Z",
     "start_time": "2020-09-08T15:11:25.415559Z"
    }
   },
   "outputs": [],
   "source": [
    "# This is the url you will scrape in this exercise\n",
    "url = 'http://uscode.house.gov/download/download.shtml'"
   ]
  },
  {
   "cell_type": "code",
   "execution_count": 77,
   "metadata": {
    "ExecuteTime": {
     "end_time": "2020-09-08T15:12:41.869343Z",
     "start_time": "2020-09-08T15:12:41.672062Z"
    }
   },
   "outputs": [
    {
     "data": {
      "text/plain": [
       "3"
      ]
     },
     "execution_count": 77,
     "metadata": {},
     "output_type": "execute_result"
    }
   ],
   "source": [
    "# your code here\n",
    "resp = requests.get(url)\n",
    "soup = BeautifulSoup(resp.content)\n",
    "len([a for a in soup.find_all('div', attrs={'usctitlechanged'})])\n"
   ]
  },
  {
   "cell_type": "markdown",
   "metadata": {},
   "source": [
    "#### Find a Python list with the top ten FBI's Most Wanted names."
   ]
  },
  {
   "cell_type": "code",
   "execution_count": 78,
   "metadata": {
    "ExecuteTime": {
     "end_time": "2020-09-08T15:14:11.309891Z",
     "start_time": "2020-09-08T15:14:11.304906Z"
    }
   },
   "outputs": [],
   "source": [
    "# This is the url you will scrape in this exercise\n",
    "url = 'https://www.fbi.gov/wanted/topten'\n"
   ]
  },
  {
   "cell_type": "code",
   "execution_count": 100,
   "metadata": {
    "ExecuteTime": {
     "end_time": "2020-09-08T16:31:39.967967Z",
     "start_time": "2020-09-08T16:31:39.840597Z"
    }
   },
   "outputs": [
    {
     "name": "stdout",
     "output_type": "stream",
     "text": [
      "['Federal Bureau of Investigation Logo', 'ARNOLDO JIMENEZ', 'JASON DEREK BROWN', 'YASER ABDEL SAID', 'ALEXIS FLORES', 'EUGENE PALMER', 'RAFAEL CARO-QUINTERO', 'ROBERT WILLIAM FISHER', 'BHADRESHKUMAR CHETANBHAI PATEL', 'ALEJANDRO ROSALES CASTILLO', 'SANTIAGO VILLALBA MEDEROS']\n"
     ]
    }
   ],
   "source": [
    "# your code here\n",
    "# your code here\n",
    "resp = requests.get(url)\n",
    "soup = BeautifulSoup(resp.content)\n",
    "new_list = [a['alt'] for a in soup.find_all('img', alt=True)]\n",
    "print(new_list)\n",
    "\n",
    "#new_list = [re.findall('img class alt=(.*) src', a) for a in new_list]"
   ]
  },
  {
   "cell_type": "markdown",
   "metadata": {},
   "source": [
    "####  Display the 20 latest earthquakes info (date, time, latitude, longitude and region name) by the EMSC as a pandas dataframe."
   ]
  },
  {
   "cell_type": "code",
   "execution_count": 101,
   "metadata": {
    "ExecuteTime": {
     "end_time": "2020-09-08T16:32:04.212163Z",
     "start_time": "2020-09-08T16:32:04.208750Z"
    }
   },
   "outputs": [],
   "source": [
    "# This is the url you will scrape in this exercise\n",
    "url = 'https://www.emsc-csem.org/Earthquake/'"
   ]
  },
  {
   "cell_type": "code",
   "execution_count": 104,
   "metadata": {
    "ExecuteTime": {
     "end_time": "2020-09-08T16:36:46.593221Z",
     "start_time": "2020-09-08T16:36:45.379157Z"
    }
   },
   "outputs": [
    {
     "data": {
      "text/plain": [
       "<!DOCTYPE html PUBLIC \"-//W3C//DTD XHTML 1.0 Strict//EN\" \"http://www.w3.org/TR/xhtml1/DTD/xhtml1-strict.dtd\">\n",
       "<html lang=\"en\" xml:lang=\"en\" xmlns=\"http://www.w3.org/1999/xhtml\" xmlns:og=\"http://opengraphprotocol.org/schema/\">\n",
       "<head><meta content=\"srFzNKBTd0FbRhtnzP--Tjxl01NfbscjYwkp4yOWuQY\" name=\"google-site-verification\"/><meta content=\"BCAA3C04C41AE6E6AFAF117B9469C66F\" name=\"msvalidate.01\"/><meta content=\"43b36314ccb77957\" name=\"y_key\"/><!-- 5-Clk8f50tFFdPTU97Bw7ygWE1A -->\n",
       "<meta content=\"en\" http-equiv=\"Content-Language\"/><meta content=\"text/html; charset=utf-8\" http-equiv=\"Content-Type\"/>\n",
       "<meta content=\"all\" name=\"robots\"/>\n",
       "<meta content=\"earthquake,earthquakes,last earthquake,earthquake today,earthquakes today,earth quake,earth quakes,real time seismicity,seismic,seismicity,seismicity map,seismology,sismologie,EMSC,CSEM,seismicity on google earth,sumatra,tsunami,tsunamis,map,maps,richter,mercalli,moment tensors,epicenter,magnitude,seismology,foreshock,aftershock,tremor\" name=\"keywords\"/>\n",
       "<meta content=\"Latest Earthquakes in the world. World earthquake list. Earthquake information. earthquakes today - recent and latest earthquakes, earthquake map and earthquake information. Earthquake information for europe. EMSC (European Mediterranean Seismological Centre) provides real time earthquake information for seismic events with magnitude larger than 5 in the European Mediterranean area and larger than 7 in the rest of the world.\" lang=\"en\" name=\"description\"/>\n",
       "<meta content=\"EMSC - European-Mediterranean Seismological Centre\" name=\"publisher\"/>\n",
       "<link href=\"https://www.emsc-csem.org/favicon.ico\" rel=\"shortcut icon\" type=\"image/x-icon\"/>\n",
       "<link href=\"https://www.emsc-csem.org/favicon.png\" rel=\"icon\" type=\"image/png\"/>\n",
       "<link href=\"https://www.emsc-csem.org/service/rss/rss.php?typ=emsc\" rel=\"alternate\" title=\"EMSC:  RSS Feed\" type=\"application/rss+xml\"/>\n",
       "<link href=\"https://www.emsc-csem.org/service/rss/rss.php?typ=emsc&amp;magmin=4\" rel=\"alternate\" title=\"EMSC:  MAG&gt;=4\" type=\"application/rss+xml\"/>\n",
       "<link href=\"https://www.emsc-csem.org/service/rss/rss.php?typ=emsc&amp;magmin=5\" rel=\"alternate\" title=\"EMSC:  MAG&gt;=5\" type=\"application/rss+xml\"/>\n",
       "<link href=\"https://www.emsc-csem.org/service/rss/rss.php?typ=emsc&amp;magmin=6\" rel=\"alternate\" title=\"EMSC:  MAG&gt;=6\" type=\"application/rss+xml\"/>\n",
       "<title>Earthquakes today | Earthquake today | earthquake | earthquakes</title>\n",
       "<!--[if !(IE)|(gt IE 7)]><!--><link href=\"https://static3.emsc.eu/Css/m_csem.css\" rel=\"stylesheet\" type=\"text/css\"/><link href=\"https://static1.emsc.eu/Css/m_csem_ie.css\" rel=\"stylesheet\" type=\"text/css\"/><link href=\"https://static2.emsc.eu/Css/menu.css\" rel=\"stylesheet\" type=\"text/css\"/><link href=\"https://static3.emsc.eu/Css/menu_ie.css\" rel=\"stylesheet\" type=\"text/css\"/>\n",
       "<style type=\"text/css\">#contenu,  #footer, #nav {\n",
       "\twidth: 950px;\n",
       "}</style><script src=\"https://static2.emsc.eu/javascript/widget.js\" type=\"text/javascript\"></script>\n",
       "<script type=\"text/javascript\">\n",
       "\t\t\tvar basehref=window.location.protocol+\"//\"+window.location.hostname; \n",
       "\t\t\t</script>\n",
       "<!--[if lte IE 6]> <script type=\"text/javascript\" src=\"https://static1.emsc.eu/Css/javascript_v3.js\"></script> <![endif]--><script src=\"https://static2.emsc.eu/javascript/jquery_corner.js\" type=\"text/javascript\"></script>\n",
       "<script src=\"https://static3.emsc.eu/javascript/fonc_utils.js\" type=\"text/javascript\"></script>\n",
       "<script src=\"https://static1.emsc.eu/javascript/dyndate.js?z=8\" type=\"text/javascript\"></script>\n",
       "<script>addjs_after(\"https://static2.emsc.eu/javascript/alert_bandeau_v2.js\");</script><script type=\"text/javascript\">addcss_after(\"https://static3.emsc.eu/Css/print.css\",\"print\"); </script>\n",
       "</head><body>\n",
       "<div id=\"contenu\"><!-- Start container -->\n",
       "<div id=\"bandeau\"><style> .ban022{background:url('https://static1.emsc.eu/Css/img/spriteBannApp.jpg') no-repeat;} .ban0{background:#B40015;/*#000;*/width:100%;height:100%;border:0;} .ban1{vertical-align:top;text-align:center;padding-top:4px;width:150px;} \n",
       "\t\t\t.ban2{position:relative; vertical-align:middle;text-align:center; color:#fff; background-position:0px -41px;/*10px -41px;*/} \n",
       "\t\t\t.ban3{width:140px;padding-left:5px;text-align:center;background-position:-640px -41px;}\n",
       "\t\t\t#ejs_server_heure {position:absolute; bottom:0; width:100%;}\n",
       "\t\t\t#bandeau{background:#B40015;}</style><table cellpadding=\"0\" cellspacing=\"0\" class=\"ban0\"><tr><td class=\"ban1\" onclick=\"window.location.href='https://www.emsc-csem.org';\" onmouseover=\"this.style.cursor='pointer';\">\n",
       "<img alt=\"logo - home\" src=\"https://static2.emsc.eu/Css/img/logo.png\" style=\"width:150px;height:81px;\"/></td>\n",
       "<td class=\"ban2 ban022\" onclick=\"window.location.href='https://www.emsc-csem.org';\" onmouseover=\"this.style.cursor='pointer';\">\n",
       "<div style=\"border:0; position:relative; float:right; width:110px; height:80px; margin-top:-5px; margin-right:25px; \">\n",
       "<div id=\"androidstore\" style=\"border:0; position:relative; float:left; width:110px; height:35px;\"></div>\n",
       "<div id=\"iosstore\" style=\"border:0; position:relative; float:left; width:110px; height:35px; margin-top:8px;\"></div>\n",
       "</div>\n",
       "<script type=\"text/javascript\">set_server_date(2020,9,8,16,36,2)</script>\n",
       "<div id=\"ejs_server_heure\">Current time: 2020-09-08 16:36:02 UTC</div>\n",
       "</td>\n",
       "<td align=\"right\" class=\"ban3 ban022\"><div class=\"login_box\" id=\"login_box\"><form action=\"https://www.emsc-csem.org/Member/\" enctype=\"multipart/form-data\" method=\"post\">\n",
       "<table cellpadding=\"0\" cellspacing=\"0\" style=\"width:100%;height:100%;border:0;\"><tr><td colspan=\"2\" style=\"text-align: center; font-size: 11px; font-weight: bold; color: #fff;\">\n",
       "<span class=\"spriteorig sp_lock vbottom\"></span> Member access</td></tr><tr><td colspan=\"2\" style=\"height: 2px;text-align:center;\">\n",
       "<img alt=\"\" src=\"data:image/png;base64,iVBORw0KGgoAAAANSUhEUgAAAAEAAAABCAQAAAC1HAwCAAAABGdBTUEAALGPC/xhBQAAAAtJREFUCNdjYGAAAAADAAEg1ZTHAAAAAElFTkSuQmCC\" style=\"display: block;width:1px;border:0;height:2px;\"/></td></tr>\n",
       "<tr><td style=\"font-size: 11px; font-weight: bold; text-align: left; color: #000;\">Name </td>\n",
       "<td style=\"text-align:left;\"><input maxlength=\"10\" name=\"login\" size=\"8\" style=\"height: 11px; width: 80px; font-size: 11px;\" type=\"text\"/></td></tr>\n",
       "<tr><td colspan=\"2\" style=\"height: 2px;text-align:center;\"><img alt=\"\" src=\"data:image/png;base64,iVBORw0KGgoAAAANSUhEUgAAAAEAAAABCAQAAAC1HAwCAAAABGdBTUEAALGPC/xhBQAAAAtJREFUCNdjYGAAAAADAAEg1ZTHAAAAAElFTkSuQmCC\" style=\"display: block;width:1px; border:0;height:2px;\"/></td></tr>\n",
       "<tr><td style=\"font-size: 11px; font-weight: bold; text-align: left; color: #000;\">Pwd</td>\n",
       "<td style=\"text-align:left;\"><input maxlength=\"32\" name=\"pwd\" size=\"8\" style=\"height: 11px; width: 80px; font-size: 11px;\" type=\"password\"/></td></tr>\n",
       "<tr><td colspan=\"2\" style=\"height: 2px;text-align:center;\"><img alt=\"\" src=\"data:image/png;base64,iVBORw0KGgoAAAANSUhEUgAAAAEAAAABCAQAAAC1HAwCAAAABGdBTUEAALGPC/xhBQAAAAtJREFUCNdjYGAAAAADAAEg1ZTHAAAAAElFTkSuQmCC\" style=\"display: block;width:1px;border:0;height:2px;\"/></td>\n",
       "</tr><tr><td> </td><td style=\"text-align:left;\"><input style=\"height: 20px; font-size: 11px;\" type=\"submit\" value=\"Sign in\"/></td></tr></table></form></div></td></tr></table><script>\n",
       "\t\t\t$jq(function(){\n",
       "\t\t\t\t$jq(\"#androidstore\").bind(\"click\", function(e) { e.preventDefault(); e.stopPropagation(); $jq.post(\"/indexAjaxApp.php\", { linkto:\"android\",from:\"site\"}, function () {});  window.open(\"https://play.google.com/store/apps/details?id=org.emsc_csem.lastquake\",\"_blank\"); });\n",
       "\t\t\t\t$jq(\"#iosstore\").bind(\"click\", function(e) { e.preventDefault(); e.stopPropagation(); $jq.post(\"/indexAjaxApp.php\", { linkto:\"ios\",from:\"site\" }, function () {});  window.open(\"https://itunes.apple.com/us/app/lastquake/id890799748\",\"_blank\"); });\n",
       "\t\t\t\t\n",
       "\t\t\t});\n",
       "\t\t\t</script>\n",
       "</div>\n",
       "<ul id=\"nav\">\n",
       "<!-- earthquake level 0 -->\n",
       "<li><a href=\"https://www.emsc-csem.org/Earthquake/info.php\">Earthquake information</a>\n",
       "<ul>\n",
       "<li><a href=\"https://www.emsc-csem.org/Earthquake/\">List of latest earthquakes</a></li>\n",
       "<li><a href=\"https://www.emsc-csem.org/Earthquake/significant_earthquakes.php\">Significant earthquakes</a></li>\n",
       "<li><a href=\"https://www.emsc-csem.org/Earthquake/?filter=yes\">Search earthquakes</a></li>\n",
       "<li><a href=\"https://www.emsc-csem.org/Earthquake/Map/gmap.php\">Earthquakes interactive map</a></li>\n",
       "<li><a href=\"https://www.emsc-csem.org/Earthquake/near_you.php\">Earthquakes near you</a></li>\n",
       "<li><a href=\"https://www.emsc-csem.org/Earthquake/felt.php\">Felt earthquakes</a></li>\n",
       "<li><a href=\"https://www.emsc-csem.org/Earthquake/News/\">Special reports</a></li>\n",
       "<li><a href=\"https://www.emsc-csem.org/Earthquake/seismicity/real_time.php\">How it works</a></li>\n",
       "</ul></li>\n",
       "<!-- search level 0 -->\n",
       "<li><a href=\"https://www.emsc-csem.org/Earthquake/Contribute/?lang=en\" onmouseout=\"info_b('notshow','','');\" onmouseover=\"info_b('show','The flag is the visible language that seems to be the most appropriate to respond to our questionnaire.','Language');\"><img id=\"flag\" src=\"/Images/flag/flag_en.png\" style=\"vertical-align:middle;height:12px;width:18px;\"/>  Testimonies, photos</a>\n",
       "<ul>\n",
       "<li><a href=\"https://www.emsc-csem.org/Earthquake/Gallery/\">Photos</a></li>\n",
       "<li><a href=\"https://www.emsc-csem.org/Earthquake/Testimonies/\">Testimonies</a></li>\n",
       "</ul></li>\n",
       "<!-- data level 0 -->\n",
       "<li><a href=\"https://www.emsc-csem.org/service/\">Information services</a>\n",
       "<ul>\n",
       "<li><a href=\"https://www.emsc-csem.org/service/real_time/\"><span class=\"spriteorig sp_phone\" style=\"vertical-align:middle;\"></span> For smartphones</a></li>\n",
       "<li><a href=\"https://www.emsc-csem.org/service/application/\"><span class=\"spriteorig sp_phone\" style=\"vertical-align:middle;\"></span> Android &amp; iOS App</a></li>\n",
       "<li><a href=\"https://www.emsc-csem.org/service/Browser-extension/\"><span style=\"display:inline-block;background:url(/Css/img/extension-icon.png) no-repeat;width:16px;height:16px;vertical-align:middle;\"></span> Browser extensions</a></li>\n",
       "<li><a href=\"https://www.seismicportal.eu/webservices.html\"><span class=\"spriteorig sp_feed-icon14\" style=\"vertical-align:middle;\"></span> Webservices</a></li>\n",
       "<li><a href=\"https://www.emsc-csem.org/service/rss/\"><span class=\"spriteorig sp_feed-icon14\" style=\"vertical-align:middle;\"></span> RSS feeds</a></li>\n",
       "<li><a href=\"https://www.emsc-csem.org/Earthquake/Map/earth/\"><span class=\"spriteorig sp_ge2\" style=\"vertical-align:middle;\"></span> Seismicity on Google Earth</a></li>\n",
       "<li><a href=\"https://www.emsc-csem.org/service/register.php\"><span class=\"spriteorig sp_alert1\" style=\"vertical-align:middle;\"></span> Email notification service</a></li>\n",
       "</ul></li>\n",
       "<!-- seismicity level 0 -->\n",
       "<li><a href=\"https://www.emsc-csem.org/Earthquake/for_seismologist.php\">For seismologists</a>\n",
       "<ul>\n",
       "<li><a href=\"https://www.emsc-csem.org/Earthquake/seismologist.php\">Latest data contributions</a></li>\n",
       "<li><a href=\"https://www.emsc-csem.org/Earthquake/index_tensors.php\">Moment tensors</a></li>\n",
       "<li><a href=\"https://www.emsc-csem.org/Bulletin/\">Euro-Med bulletin</a></li>\n",
       "<li><a href=\"https://www.seismicportal.eu/\" target=\"_blank\">Seismic Portal</a></li>\n",
       "<li><a href=\"https://www.emsc-csem.org/News/\">News</a></li>\n",
       "<li><a href=\"https://www.emsc-csem.org/job/\">Jobs</a></li>\n",
       "</ul></li>\n",
       "<!-- project level 0 -->\n",
       "<li><a href=\"https://www.emsc-csem.org/Project/\">Projects</a>\n",
       "<ul>\n",
       "<li><a href=\"https://www.emsc-csem.org/Project/#aristotle\">ARISTOTLE</a></li>\n",
       "<li><a href=\"https://www.emsc-csem.org/Project/#carismand\">CARISMAND</a></li>\n",
       "<li><a href=\"https://www.emsc-csem.org/Project/#improver\">IMPROVER</a></li>\n",
       "<li><a href=\"https://www.emsc-csem.org/Project/#seismic\">Seismic portal</a></li>\n",
       "<li><a href=\"https://www.emsc-csem.org/Project/#citizen\">Citizen seismology</a></li>\n",
       "<li><a href=\"https://www.emsc-csem.org/Project/#qcn\">Quake Catcher Network</a></li>\n",
       "<li><a href=\"https://www.emsc-csem.org/Project/#sigma\">Sigma</a></li>\n",
       "<li><a href=\"https://www.emsc-csem.org/Project/#verce\">Verce</a></li>\n",
       "<li><a href=\"https://www.emsc-csem.org/Project/#marsite\">MARsite</a></li>\n",
       "<li><a href=\"https://www.emsc-csem.org/Project/#nera\">NERA</a></li>\n",
       "<li><a href=\"https://www.emsc-csem.org/Project/#EPOS\">EPOS</a></li>\n",
       "<li><a href=\"https://www.emsc-csem.org/Project/#REAKT\">REAKT</a></li>\n",
       "</ul></li>\n",
       "<!-- publi level 0 -->\n",
       "<li><a href=\"https://www.emsc-csem.org/Documents/\">Publications &amp; docs</a></li>\n",
       "</ul><div class=\"clearer\"></div><div class=\"clearer\"></div>\n",
       "<div id=\"sitemap\"><i>You are here : </i>\n",
       "<a href=\"https://www.emsc-csem.org\">EMSC</a> &gt; Earthquake &gt; Real Time Seismicity\n",
       "\t\t<div>Our sponsors: \n",
       "\t\t<span id=\"sponsor\"><a href=\"http://www.digitalelement.com/\" target=\"_blank\">digitalelement<div id=\"sponimg\"><img src=\"https://static3.emsc.eu/Images/sites/p_netacuity_01.gif\"/></div></a></span>\n",
       "<a href=\"/Donate/\"><span class=\"spriteorig sp_btn_donate_SM\" style=\"vertical-align:middle;margin-top:-2px;\"></span></a>    <a href=\"/about/\">About EMSC</a></div>\n",
       "</div><style type=\"text/css\"> \n",
       "\t\t#sitemap div, x:-moz-any-link {margin-top:-13px;} /* Firefox 2*/\n",
       "\t\t#sitemap div, x:-moz-any-link, x:default {margin-top:0;} /* Firefox >=3*/\n",
       "\t\t#sponsor{margin-right:15px;}\n",
       "\t\tdiv#sponimg{position:absolute; display:none; padding:20px; background:rgba(0,0,0,.8);vertical-align:middle;} #sponsor a:hover>div { display: block; }\n",
       "\t\tdiv#sponimg img{vertical-align:middle;}\n",
       "\t</style>\n",
       "<!--[if lte IE 7]><style type=\"text/css\">#sitemap div{ margin-top:-13px;} </style><![endif]-->\n",
       "<script> var sponsor = {\n",
       "\t\t_sp:{\"netacuity\":{\"logo\":\"https:\\/\\/static3.emsc.eu\\/Images\\/sites\\/p_netacuity_01.gif\",\"link\":\"http:\\/\\/www.digitalelement.com\\/\",\"name\":\"digitalelement\"},\"geosig\":{\"logo\":\"https:\\/\\/static1.emsc.eu\\/Images\\/sites\\/geosig_logo.jpg\",\"text\":\"Strong motion instrumentation with a focus on Earthquake Early Warning<br>\",\"link\":\"http:\\/\\/www.geosig.com\\/\",\"name\":\"GeoSIG\"},\"scor\":{\"logo\":\"https:\\/\\/static2.emsc.eu\\/Images\\/sites\\/scor.png\",\"link\":\"https:\\/\\/www.scor.com\\/en\\/scor-corporate-foundation-science\",\"name\":\"SCOR\"}}, _i:0, _keys:null,\n",
       "\t\t_start:function() {\n",
       "\t\t\tthis._keys = Object.keys(this._sp);\t\n",
       "\t\t},\t\n",
       "\t\t_next: function() {\n",
       "\t\t\tthis._i++;\n",
       "\t\t\tif(this._i >= this._keys.length) this._i=0;\n",
       "\t\t\tvar k=this._keys[this._i]; //console.log(this._keys.length, k, this._i);\n",
       "\t\t\t//console.log( $jq(\"#sponsor a\").contents());\n",
       "\t\t\t$jq(\"#sponsor a\").attr(\"href\",this._sp[k][\"link\"]);\n",
       "\t\t\t$jq(\"#sponsor a\").contents()[0].textContent=this._sp[k][\"name\"]; $jq(\"#sponimg img\").attr(\"src\",this._sp[k][\"logo\"]);\n",
       "\t\t\tvar self=this;\n",
       "\t\t\tsetTimeout(function() {self._next();},1000*40);\n",
       "\t\t}\t\n",
       "\t}\n",
       "\t$jq(function() {\n",
       "\t\t//console.log( \"ready!\" );\n",
       "\t\tsponsor._start();\n",
       "\t\tsponsor._next();\n",
       "\t});\n",
       "\t</script>\n",
       "<div id=\"info_bulle\"><div class=\"inf_t\" id=\"inf_t\"></div><div class=\"inf_te\" id=\"inf_te\"></div></div>\n",
       "<div id=\"info_bulle2\"><div class=\"inf_seul\" id=\"inf_seul\"></div></div>\n",
       "<div id=\"content\"><!-- Start content --><div id=\"bann_defile\"><span class=\"markee\" id=\"markee_bann_defile\" name=\"markee_bann_defile\">temp</span><span id=\"bann_disclam\" style=\"display:none;\"><a href=\"/disclaimer.php\">Disclaimer</a></span></div>\n",
       "<h1><span>Real Time Seismicity</span></h1><!-- ============ TITRE ===================== --><div id=\"quick_access\" style=\"font-size:11px;text-align:center; margin-bottom:5px;\">\n",
       "<a href=\"/Earthquake/?filter=yes\"><span class=\"spriteorig sp_Icon_tools_th\" style=\"margin-right:3px;\"></span>Define your criteria</a> to find specific events  -  Quick search: \n",
       "\t<a href=\"/Earthquake/world/M3/\"> mag≥3 </a> | <a href=\"/Earthquake/world/M4/\"> mag≥4 </a> | <a href=\"/Earthquake/world/M5/\"> mag≥5 </a>\n",
       "</div><style type=\"text/css\"> .npages { height:30px; text-align:center; font-weight:bold; } .npages td { border-bottom: 2px solid #EDF3FE;} a.sublink { /*height:18px;*/ padding:5px 10px; border:1px solid #ccc; margin:0 4px; text-decoration:underline; background-color:#fff;} \n",
       "\t\t\ta.sublinka { color:#000; text-decoration:none; font-weight:normal; background-color:#FFFFCC; /*rgb(255,255,0);*/ background-color:rgba(255,255,0,0.3); } \n",
       "\t\t\t</style>\n",
       "<!--[if IE]>  \n",
       "\t\t\t<style type=\"text/css\">\n",
       "\t\t\t.sublinka { background:transparent; filter:progid:DXImageTransform.Microsoft.gradient(startColorstr=#FFFFFFCC,endColorstr=#FFFFFFCC); zoom:1; opacity:0.9; } .sublink {zoom:1;}\n",
       "\t\t\t</style> \n",
       "\t\t\t<![endif]--> <link href=\"https://static3.emsc.eu/Css/tableau_event.css\" rel=\"stylesheet\" type=\"text/css\"/>\n",
       "<style type=\"text/css\">\n",
       "\t\t\t@media print {\n",
       "\t\t\t\ttbody td {font-size:10px; } .comment { font-size:7px; width:78px;} .tabev3 { padding-right:15px; } .tabev2 { padding-right:2px; } .tabev5 { padding-right:0; padding-left:2px; } .tabev6 { width:140px; }\n",
       "\t\t\t\t.pagelist,.autour,.tb_infos,.npages {display:none;}\t.black td{border-top:1px solid black;} #quick_access{display:none;}\n",
       "\t\t\t}\n",
       "\t\t\t</style><script> addjs_after(\"https://static1.emsc.eu/javascript/tri_tableau.js\"); \n",
       "\t\t\t\t\t\t\taddjs_after(\"https://static2.emsc.eu/javascript/tableau_tri_event.js\"); \n",
       "\t\t\t\t</script><table style=\"width:99%;\"><tr class=\"tb_infos\"><td><span class=\"spriteorig sp_info\"></span> - Sorting by column is performed on the data of the current page.</td><td style=\"text-align:right;\"><a href=\"/glossary.php\">Glossary</a></td></tr></table><script> var scrollable=false; </script><table border=\"0\" cellpadding=\"0\" cellspacing=\"0\" width=\"100%\"><thead>\n",
       "<tr>\n",
       "<td colspan=\"13\" style=\"background: white;height: 1px\"></td>\n",
       "</tr>\n",
       "<tr id=\"haut_tableau\"><th class=\"th2 th3\" colspan=\"3\" style=\"width:90px;display:table-csell;\"><div onmouseout=\"info_b('notshow','','');\" onmouseover=\"info_b('show','Represents the results of information provided by users (Felt earthquake, pictures, testimonies ,...)&lt;br&gt;See an intensity map for more details on the macroseismic intensity scale.','Citizen response');\">Citizen<br/>Response</div><br/><table cellpadding=\"0\" cellspacing=\"0\" style=\"width:100%;margin:0;text-align:center;\"><tr><td><div onclick=\"change_tri('im_report');\" onmouseout=\"change_image(this,'out','im_report');\" onmouseover=\"change_image(this,'over','im_report');\"><span class=\"spriteorig sp_ico_list\" onmouseout=\"info_b2('notshow','');\" onmouseover=\"info_b2('show','Sorted by number of &lt;b&gt;Comments&lt;/b&gt;');\"></span><span class=\"spriteorig sp_s_asc\" id=\"im_report\" style=\"display:none;\"></span></div></td><td><div onclick=\"change_tri('im_pics');\" onmouseout=\"change_image(this,'out','im_pics');\" onmouseover=\"change_image(this,'over','im_pics');\"><span class=\"spriteorig sp_digikam\" onmouseout=\"info_b2('notshow','');\" onmouseover=\"info_b2('show','Sorted by number of &lt;b&gt;Pictures&lt;/b&gt;');\"></span><span class=\"spriteorig sp_s_asc\" id=\"im_pics\" style=\"display:none;\"></span></div></td><td><div onclick=\"change_tri('im_intens');\" onmouseout=\"change_image(this,'out','im_intens');\" onmouseover=\"change_image(this,'over','im_intens');\"><span class=\"spriteorig sp_IntensityMap\" onmouseout=\"info_b2('notshow','');\" onmouseover=\"info_b2('show','Sorted by &lt;b&gt;Macroseismic Intensity&lt;/b&gt;');\"></span><span class=\"spriteorig sp_s_asc\" id=\"im_intens\" style=\"display:none;\"></span></div></td></tr></table></th><th class=\"th2\" onclick=\"change_tri('im_time');\" onmouseout=\"change_image(this,'out','im_time');\" onmouseover=\"change_image(this,'over','im_time');\">Date &amp; Time <span class=\"spriteorig sp_s_desc\" id=\"im_select\"></span><div style=\"font-weight:normal;\">UTC</div></th><th class=\"th2\" colspan=\"2\" onclick=\"change_tri('im_lat');\" onmouseout=\"change_image(this,'out','im_lat');\" onmouseover=\"change_image(this,'over','im_lat');\">Latitude <span class=\"spriteorig sp_s_asc\" id=\"im_lat\" style=\"display:none;\"></span><div style=\"font-weight:normal;\">degrees</div></th><th class=\"th2\" colspan=\"2\" onclick=\"change_tri('im_lon');\" onmouseout=\"change_image(this,'out','im_lon');\" onmouseover=\"change_image(this,'over','im_lon');\">Longitude <span class=\"spriteorig sp_s_asc\" id=\"im_lon\" style=\"display:none;\"></span><div style=\"font-weight:normal;\">degrees</div></th><th class=\"th2\" onclick=\"change_tri('im_depth');\" onmouseout=\"change_image(this,'out','im_depth');\" onmouseover=\"change_image(this,'over','im_depth');\">Depth <span class=\"spriteorig sp_s_asc\" id=\"im_depth\" style=\"display:none;\"></span><div style=\"font-weight: normal\">km</div></th><th class=\"th2\" colspan=\"1\" id=\"thmag\"><div onclick=\"change_tri('im_mag');\" onmouseout=\"change_image(this,'out','im_mag');\" onmouseover=\"change_image(this,'over','im_mag');\" style=\"float:left;\">Mag <span class=\"spriteorig sp_s_asc\" id=\"im_mag\" style=\"display:none;\"></span></div><div id=\"magplus2\" style=\"float:left;\"> <a href=\"javascript:hide_magni();\" id=\"magplus\" style=\"color:white;\">[+]</a></div></th><th class=\"th2\" id=\"ex_th2\"><div onclick=\"change_tri('im_reg');\" onmouseout=\"change_image(this,'out','im_reg');\" onmouseover=\"change_image(this,'over','im_reg');\" style=\"float:left;\">Region name <span class=\"spriteorig sp_s_asc\" id=\"im_reg\" style=\"display:none;\"></span></div><div id=\"upda\" onmouseout=\"info_b2('notshow','');\" onmouseover=\"info_b2('show','Show last update');\"> <a href=\"javascript:hide_upd();\" style=\"color:white;\">[+]</a></div></th><th class=\"th2 updatetimeno\" id=\"upd\"><div id=\"labupd\" onclick=\"change_tri('im_upd');\" onmouseout=\"change_image(this,'out','im_upd');\" onmouseover=\"change_image(this,'over','im_upd');\" style=\"float:left;text-align:right;\">Last update <span class=\"spriteorig sp_s_asc\" id=\"im_upd\" style=\"display:none;\"></span></div><div id=\"hideupda\" onmouseout=\"info_b2('notshow','');\" onmouseover=\"info_b2('show','Hide last update');\" style=\"float:left;\"><a href=\"javascript:hide_upd();\" style=\"color:white;\">[-]</a></div></th></tr>\n",
       "<tr><td colspan=\"13\" style=\"background: white;height: 1px\"></td></tr>\n",
       "<tr class=\"npages\" id=\"my_pagelist_0\"><td colspan=\"13\"><a class=\"sublink sublinka\" href=\"javascript:void()\" rel=\"nofollow\">1</a><a class=\"sublink\" href=\"/Earthquake/?view=2\">2</a><a class=\"sublink\" href=\"/Earthquake/?view=3\">3</a><a class=\"sublink\" href=\"/Earthquake/?view=4\">4</a><a class=\"sublink\" href=\"/Earthquake/?view=5\">5</a><a class=\"sublink\" href=\"/Earthquake/?view=6\">6</a><a class=\"sublink\" href=\"/Earthquake/?view=7\">7</a><a class=\"sublink\" href=\"/Earthquake/?view=8\">8</a><a class=\"sublink\" href=\"/Earthquake/?view=9\">9</a><a class=\"sublink\" href=\"/Earthquake/?view=10\">10</a><a alt=\"Next page\" class=\"sublink\" href=\"/Earthquake/?view=2\"></a><a alt=\"Next 10 pages\" class=\"sublink\" href=\"/Earthquake/?view=11\">»</a></td></tr></thead><tbody id=\"tbody\"><tr class=\"ligne1 normal\" id=\"900911\" onclick=\"go_details(event,900911);\"><td class=\"tabev0\"></td><td class=\"tabev0\"></td><td class=\"tabev0\"></td><td class=\"tabev6\"><b><i style=\"display:none;\">earthquake</i><a href=\"/Earthquake/earthquake.php?id=900911\">2020-09-08   16:22:06.7</a></b><i class=\"ago\" id=\"ago0\">13min ago</i></td><td class=\"tabev1\">33.98 </td><td class=\"tabev2\">S  </td><td class=\"tabev1\">179.85 </td><td class=\"tabev2\">E  </td><td class=\"tabev3\">350</td><td class=\"tabev5\" id=\"magtyp0\">M </td><td class=\"tabev2\">3.5</td><td class=\"tb_region\" id=\"reg0\"> SOUTH OF KERMADEC ISLANDS</td><td class=\"comment updatetimeno\" id=\"upd0\" style=\"text-align:right;\">2020-09-08 16:30</td></tr>\n",
       "<tr class=\"ligne2 normal\" id=\"900910\" onclick=\"go_details(event,900910);\"><td class=\"tabev0\"></td><td class=\"tabev0\"></td><td class=\"tabev0\"></td><td class=\"tabev6\"><b><i style=\"display:none;\">earthquake</i><a href=\"/Earthquake/earthquake.php?id=900910\">2020-09-08   15:58:20.0</a></b><i class=\"ago\" id=\"ago1\">37min ago</i></td><td class=\"tabev1\">20.13 </td><td class=\"tabev2\">N  </td><td class=\"tabev1\">70.73 </td><td class=\"tabev2\">W  </td><td class=\"tabev3\">15</td><td class=\"tabev5\" id=\"magtyp1\"> M</td><td class=\"tabev2\">3.3</td><td class=\"tb_region\" id=\"reg1\"> DOMINICAN REPUBLIC REGION</td><td class=\"comment updatetimeno\" id=\"upd1\" style=\"text-align:right;\">2020-09-08 16:25</td></tr>\n",
       "<tr class=\"ligne1 normal\" id=\"900907\" onclick=\"go_details(event,900907);\"><td class=\"tabev0\"></td><td class=\"tabev0\"></td><td class=\"tabev0\"></td><td class=\"tabev6\"><b><i style=\"display:none;\">earthquake</i><a href=\"/Earthquake/earthquake.php?id=900907\">2020-09-08   15:57:47.6</a></b><i class=\"ago\" id=\"ago2\">38min ago</i></td><td class=\"tabev1\">18.75 </td><td class=\"tabev2\">N  </td><td class=\"tabev1\">64.64 </td><td class=\"tabev2\">W  </td><td class=\"tabev3\">35</td><td class=\"tabev5\" id=\"magtyp2\">ML</td><td class=\"tabev2\">3.3</td><td class=\"tb_region\" id=\"reg2\"> VIRGIN ISLANDS REGION</td><td class=\"comment updatetimeno\" id=\"upd2\" style=\"text-align:right;\">2020-09-08 16:31</td></tr>\n",
       "<tr class=\"ligne2 normal\" id=\"900905\" onclick=\"go_details(event,900905);\"><td class=\"tabev0\"></td><td class=\"tabev0\"></td><td class=\"tabev0\"></td><td class=\"tabev6\"><b><i style=\"display:none;\">earthquake</i><a href=\"/Earthquake/earthquake.php?id=900905\">2020-09-08   15:56:37.7</a></b><i class=\"ago\" id=\"ago3\">39min ago</i></td><td class=\"tabev1\">39.57 </td><td class=\"tabev2\">N  </td><td class=\"tabev1\">23.97 </td><td class=\"tabev2\">E  </td><td class=\"tabev3\">14</td><td class=\"tabev5\" id=\"magtyp3\">ML</td><td class=\"tabev2\">2.6</td><td class=\"tb_region\" id=\"reg3\"> AEGEAN SEA</td><td class=\"comment updatetimeno\" id=\"upd3\" style=\"text-align:right;\">2020-09-08 16:23</td></tr>\n",
       "<tr class=\"ligne1 normal\" id=\"900906\" onclick=\"go_details(event,900906);\"><td class=\"tabev0\"></td><td class=\"tabev0\"></td><td class=\"tabev0\"></td><td class=\"tabev6\"><b><i style=\"display:none;\">earthquake</i><a href=\"/Earthquake/earthquake.php?id=900906\">2020-09-08   15:41:50.0</a></b><i class=\"ago\" id=\"ago4\">54min ago</i></td><td class=\"tabev1\">20.20 </td><td class=\"tabev2\">N  </td><td class=\"tabev1\">70.75 </td><td class=\"tabev2\">W  </td><td class=\"tabev3\">10</td><td class=\"tabev5\" id=\"magtyp4\"> M</td><td class=\"tabev2\">3.1</td><td class=\"tb_region\" id=\"reg4\"> DOMINICAN REPUBLIC REGION</td><td class=\"comment updatetimeno\" id=\"upd4\" style=\"text-align:right;\">2020-09-08 16:01</td></tr>\n",
       "<tr class=\"ligne2 normal\" id=\"900904\" onclick=\"go_details(event,900904);\"><td class=\"tabev0\"></td><td class=\"tabev0\"></td><td class=\"tabev0\"></td><td class=\"tabev6\"><b><i style=\"display:none;\">earthquake</i><a href=\"/Earthquake/earthquake.php?id=900904\">2020-09-08   15:41:28.0</a></b><i class=\"ago\" id=\"ago5\">54min ago</i></td><td class=\"tabev1\">27.22 </td><td class=\"tabev2\">S  </td><td class=\"tabev1\">71.46 </td><td class=\"tabev2\">W  </td><td class=\"tabev3\">21</td><td class=\"tabev5\" id=\"magtyp5\">ML</td><td class=\"tabev2\">2.9</td><td class=\"tb_region\" id=\"reg5\"> OFFSHORE ATACAMA, CHILE</td><td class=\"comment updatetimeno\" id=\"upd5\" style=\"text-align:right;\">2020-09-08 15:50</td></tr>\n",
       "<tr class=\"ligne1 normal\" id=\"900901\" onclick=\"go_details(event,900901);\"><td class=\"tabev0\"></td><td class=\"tabev0\"></td><td class=\"tabev0\"></td><td class=\"tabev6\"><b><i style=\"display:none;\">earthquake</i><a href=\"/Earthquake/earthquake.php?id=900901\">2020-09-08   15:15:20.1</a></b><i class=\"ago\" id=\"ago6\">1hr 20min ago</i></td><td class=\"tabev1\">42.88 </td><td class=\"tabev2\">N  </td><td class=\"tabev1\">11.76 </td><td class=\"tabev2\">E  </td><td class=\"tabev3\">7</td><td class=\"tabev5\" id=\"magtyp6\">ML</td><td class=\"tabev2\">2.0</td><td class=\"tb_region\" id=\"reg6\"> CENTRAL ITALY</td><td class=\"comment updatetimeno\" id=\"upd6\" style=\"text-align:right;\">2020-09-08 15:32</td></tr>\n",
       "<tr class=\"ligne2 normal\" id=\"900899\" onclick=\"go_details(event,900899);\"><td class=\"tabev0\"></td><td class=\"tabev0\"></td><td class=\"tabev0\"></td><td class=\"tabev6\"><b><i style=\"display:none;\">earthquake</i><a href=\"/Earthquake/earthquake.php?id=900899\">2020-09-08   15:09:38.9</a></b><i class=\"ago\" id=\"ago7\">1hr 26min ago</i></td><td class=\"tabev1\">38.18 </td><td class=\"tabev2\">N  </td><td class=\"tabev1\">38.69 </td><td class=\"tabev2\">E  </td><td class=\"tabev3\">8</td><td class=\"tabev5\" id=\"magtyp7\">ML</td><td class=\"tabev2\">2.4</td><td class=\"tb_region\" id=\"reg7\"> EASTERN TURKEY</td><td class=\"comment updatetimeno\" id=\"upd7\" style=\"text-align:right;\">2020-09-08 15:31</td></tr>\n",
       "<tr class=\"ligne1 normal\" id=\"900893\" onclick=\"go_details(event,900893);\"><td class=\"tabev0\" style=\"text-align:center;\"><a href=\"https://www.emsc-csem.org/Earthquake/Testimonies/comments.php?id=900893\" onmouseout=\"info_b2('notshow','');\" onmouseover=\"info_b2('show','See the &lt;b&gt;4 testimonies&lt;/b&gt; for this earthquake');\"><span class=\"\" style=\"vertical-align:middle;\">4</span></a></td><td class=\"tabev0\"></td><td class=\"tabev0\"><span class=\"intensity\" onclick=\"go_details(event,null,'https://www.emsc-csem.org/Earthquake/popup_intensmap.php?id=900893&amp;f=/FELTREPORTS/90/900893/IntensityMap.png');\" onmouseout=\"info_b2('notshow','');\" onmouseover=\"info_b2('show','See the &lt;b&gt; Intensity map&lt;/b&gt;');\" style=\"background-color:#00FFFF;\">IV</span></td><td class=\"tabev6\"><b><i style=\"display:none;\">earthquake</i><a href=\"/Earthquake/earthquake.php?id=900893\">2020-09-08   15:06:15.4</a></b><i class=\"ago\" id=\"ago8\">1hr 29min ago</i></td><td class=\"tabev1\">38.16 </td><td class=\"tabev2\">N  </td><td class=\"tabev1\">38.65 </td><td class=\"tabev2\">E  </td><td class=\"tabev3\">7</td><td class=\"tabev5\" id=\"magtyp8\">mb</td><td class=\"tabev2\">4.2</td><td class=\"tb_region\" id=\"reg8\"> EASTERN TURKEY</td><td class=\"comment updatetimeno\" id=\"upd8\" style=\"text-align:right;\">2020-09-08 15:57</td></tr>\n",
       "<tr class=\"ligne2 normal\" id=\"900892\" onclick=\"go_details(event,900892);\"><td class=\"tabev0\"></td><td class=\"tabev0\"></td><td class=\"tabev0\"></td><td class=\"tabev6\"><b><i style=\"display:none;\">earthquake</i><a href=\"/Earthquake/earthquake.php?id=900892\">2020-09-08   15:04:49.7</a></b><i class=\"ago\" id=\"ago9\">1hr 31min ago</i></td><td class=\"tabev1\">19.16 </td><td class=\"tabev2\">N  </td><td class=\"tabev1\">155.50 </td><td class=\"tabev2\">W  </td><td class=\"tabev3\">37</td><td class=\"tabev5\" id=\"magtyp9\">Md</td><td class=\"tabev2\">2.1</td><td class=\"tb_region\" id=\"reg9\"> ISLAND OF HAWAII, HAWAII</td><td class=\"comment updatetimeno\" id=\"upd9\" style=\"text-align:right;\">2020-09-08 15:08</td></tr>\n",
       "<tr class=\"ligne1 normal\" id=\"900891\" onclick=\"go_details(event,900891);\"><td class=\"tabev0\"></td><td class=\"tabev0\"></td><td class=\"tabev0\"></td><td class=\"tabev6\"><b><i style=\"display:none;\">earthquake</i><a href=\"/Earthquake/earthquake.php?id=900891\">2020-09-08   14:57:41.5</a></b><i class=\"ago\" id=\"ago10\">1hr 38min ago</i></td><td class=\"tabev1\">35.14 </td><td class=\"tabev2\">S  </td><td class=\"tabev1\">179.23 </td><td class=\"tabev2\">E  </td><td class=\"tabev3\">198</td><td class=\"tabev5\" id=\"magtyp10\">M </td><td class=\"tabev2\">4.3</td><td class=\"tb_region\" id=\"reg10\"> OFF E. COAST OF N. ISLAND, N.Z.</td><td class=\"comment updatetimeno\" id=\"upd10\" style=\"text-align:right;\">2020-09-08 15:05</td></tr>\n",
       "<tr class=\"ligne2 normal\" id=\"900890\" onclick=\"go_details(event,900890);\"><td class=\"tabev0\"></td><td class=\"tabev0\"></td><td class=\"tabev0\"></td><td class=\"tabev6\"><b><i style=\"display:none;\">earthquake</i><a href=\"/Earthquake/earthquake.php?id=900890\">2020-09-08   14:51:18.0</a></b><i class=\"ago\" id=\"ago11\">1hr 44min ago</i></td><td class=\"tabev1\">27.49 </td><td class=\"tabev2\">S  </td><td class=\"tabev1\">71.39 </td><td class=\"tabev2\">W  </td><td class=\"tabev3\">35</td><td class=\"tabev5\" id=\"magtyp11\">ML</td><td class=\"tabev2\">2.5</td><td class=\"tb_region\" id=\"reg11\"> OFFSHORE ATACAMA, CHILE</td><td class=\"comment updatetimeno\" id=\"upd11\" style=\"text-align:right;\">2020-09-08 15:00</td></tr>\n",
       "<tr class=\"ligne1 normal\" id=\"900883\" onclick=\"go_details(event,900883);\"><td class=\"tabev0\" style=\"text-align:center;\"><a href=\"https://www.emsc-csem.org/Earthquake/Testimonies/comments.php?id=900883\" onmouseout=\"info_b2('notshow','');\" onmouseover=\"info_b2('show','See the &lt;b&gt;testimony&lt;/b&gt; for this earthquake');\"><span class=\"\" style=\"vertical-align:middle;\">1</span></a></td><td class=\"tabev0\"></td><td class=\"tabev0\"></td><td class=\"tabev6\"><b><i style=\"display:none;\">earthquake</i><a href=\"/Earthquake/earthquake.php?id=900883\">2020-09-08   14:35:33.0</a></b><i class=\"ago\" id=\"ago12\">2hr 00min ago</i></td><td class=\"tabev1\">20.01 </td><td class=\"tabev2\">N  </td><td class=\"tabev1\">72.89 </td><td class=\"tabev2\">E  </td><td class=\"tabev3\">10</td><td class=\"tabev5\" id=\"magtyp12\"> M</td><td class=\"tabev2\">2.6</td><td class=\"tb_region\" id=\"reg12\"> NEAR THE COAST OF GUJARAT, INDIA</td><td class=\"comment updatetimeno\" id=\"upd12\" style=\"text-align:right;\">2020-09-08 14:58</td></tr>\n",
       "<tr class=\"ligne2 normal\" id=\"900879\" onclick=\"go_details(event,900879);\"><td class=\"tabev0\"></td><td class=\"tabev0\"></td><td class=\"tabev0\"></td><td class=\"tabev6\"><b><i style=\"display:none;\">earthquake</i><a href=\"/Earthquake/earthquake.php?id=900879\">2020-09-08   14:15:14.3</a></b><i class=\"ago\" id=\"ago13\">2hr 20min ago</i></td><td class=\"tabev1\">19.37 </td><td class=\"tabev2\">N  </td><td class=\"tabev1\">155.22 </td><td class=\"tabev2\">W  </td><td class=\"tabev3\">2</td><td class=\"tabev5\" id=\"magtyp13\">Md</td><td class=\"tabev2\">2.0</td><td class=\"tb_region\" id=\"reg13\"> ISLAND OF HAWAII, HAWAII</td><td class=\"comment updatetimeno\" id=\"upd13\" style=\"text-align:right;\">2020-09-08 14:18</td></tr>\n",
       "<tr class=\"ligne1 normal\" id=\"900882\" onclick=\"go_details(event,900882);\"><td class=\"tabev0\"></td><td class=\"tabev0\"></td><td class=\"tabev0\"></td><td class=\"tabev6\"><b><i style=\"display:none;\">earthquake</i><a href=\"/Earthquake/earthquake.php?id=900882\">2020-09-08   14:06:17.3</a></b><i class=\"ago\" id=\"ago14\">2hr 29min ago</i></td><td class=\"tabev1\">17.92 </td><td class=\"tabev2\">N  </td><td class=\"tabev1\">66.91 </td><td class=\"tabev2\">W  </td><td class=\"tabev3\">9</td><td class=\"tabev5\" id=\"magtyp14\">Md</td><td class=\"tabev2\">2.9</td><td class=\"tb_region\" id=\"reg14\"> PUERTO RICO REGION</td><td class=\"comment updatetimeno\" id=\"upd14\" style=\"text-align:right;\">2020-09-08 14:43</td></tr>\n",
       "<tr class=\"ligne2 normal\" id=\"900880\" onclick=\"go_details(event,900880);\"><td class=\"tabev0\"></td><td class=\"tabev0\"></td><td class=\"tabev0\"></td><td class=\"tabev6\"><b><i style=\"display:none;\">earthquake</i><a href=\"/Earthquake/earthquake.php?id=900880\">2020-09-08   14:03:07.0</a></b><i class=\"ago\" id=\"ago15\">2hr 32min ago</i></td><td class=\"tabev1\">16.65 </td><td class=\"tabev2\">N  </td><td class=\"tabev1\">98.59 </td><td class=\"tabev2\">W  </td><td class=\"tabev3\">40</td><td class=\"tabev5\" id=\"magtyp15\"> M</td><td class=\"tabev2\">4.0</td><td class=\"tb_region\" id=\"reg15\"> GUERRERO, MEXICO</td><td class=\"comment updatetimeno\" id=\"upd15\" style=\"text-align:right;\">2020-09-08 14:20</td></tr>\n",
       "<tr class=\"ligne1 normal\" id=\"900876\" onclick=\"go_details(event,900876);\"><td class=\"tabev0\"></td><td class=\"tabev0\"></td><td class=\"tabev0\"></td><td class=\"tabev6\"><b><i style=\"display:none;\">earthquake</i><a href=\"/Earthquake/earthquake.php?id=900876\">2020-09-08   13:59:20.6</a></b><i class=\"ago\" id=\"ago16\">2hr 36min ago</i></td><td class=\"tabev1\">38.17 </td><td class=\"tabev2\">N  </td><td class=\"tabev1\">117.84 </td><td class=\"tabev2\">W  </td><td class=\"tabev3\">8</td><td class=\"tabev5\" id=\"magtyp16\">ml</td><td class=\"tabev2\">2.0</td><td class=\"tb_region\" id=\"reg16\"> NEVADA</td><td class=\"comment updatetimeno\" id=\"upd16\" style=\"text-align:right;\">2020-09-08 14:09</td></tr>\n",
       "<tr class=\"ligne2 normal\" id=\"900886\" onclick=\"go_details(event,900886);\"><td class=\"tabev0\"></td><td class=\"tabev0\"></td><td class=\"tabev0\"></td><td class=\"tabev6\"><b><i style=\"display:none;\">earthquake</i><a href=\"/Earthquake/earthquake.php?id=900886\">2020-09-08   13:43:32.8</a></b><i class=\"ago\" id=\"ago17\">2hr 52min ago</i></td><td class=\"tabev1\">51.85 </td><td class=\"tabev2\">N  </td><td class=\"tabev1\">176.40 </td><td class=\"tabev2\">E  </td><td class=\"tabev3\">100</td><td class=\"tabev5\" id=\"magtyp17\">mb</td><td class=\"tabev2\">4.1</td><td class=\"tb_region\" id=\"reg17\"> RAT ISLANDS, ALEUTIAN ISLANDS</td><td class=\"comment updatetimeno\" id=\"upd17\" style=\"text-align:right;\">2020-09-08 14:56</td></tr>\n",
       "<tr class=\"ligne1 normal\" id=\"900877\" onclick=\"go_details(event,900877);\"><td class=\"tabev0\"></td><td class=\"tabev0\"></td><td class=\"tabev0\"></td><td class=\"tabev6\"><b><i style=\"display:none;\">earthquake</i><a href=\"/Earthquake/earthquake.php?id=900877\">2020-09-08   13:41:01.1</a></b><i class=\"ago\" id=\"ago18\">2hr 55min ago</i></td><td class=\"tabev1\">39.12 </td><td class=\"tabev2\">N  </td><td class=\"tabev1\">2.94 </td><td class=\"tabev2\">W  </td><td class=\"tabev3\">10</td><td class=\"tabev5\" id=\"magtyp18\">ML</td><td class=\"tabev2\">2.3</td><td class=\"tb_region\" id=\"reg18\"> SPAIN</td><td class=\"comment updatetimeno\" id=\"upd18\" style=\"text-align:right;\">2020-09-08 14:57</td></tr>\n",
       "<tr class=\"ligne2 normal\" id=\"900873\" onclick=\"go_details(event,900873);\"><td class=\"tabev0\"></td><td class=\"tabev0\"></td><td class=\"tabev0\"></td><td class=\"tabev6\"><b><i style=\"display:none;\">earthquake</i><a href=\"/Earthquake/earthquake.php?id=900873\">2020-09-08   13:40:17.0</a></b><i class=\"ago\" id=\"ago19\">2hr 55min ago</i></td><td class=\"tabev1\">22.67 </td><td class=\"tabev2\">S  </td><td class=\"tabev1\">70.39 </td><td class=\"tabev2\">W  </td><td class=\"tabev3\">28</td><td class=\"tabev5\" id=\"magtyp19\">ML</td><td class=\"tabev2\">3.1</td><td class=\"tb_region\" id=\"reg19\"> OFFSHORE ANTOFAGASTA, CHILE</td><td class=\"comment updatetimeno\" id=\"upd19\" style=\"text-align:right;\">2020-09-08 14:00</td></tr>\n",
       "<tr class=\"ligne1 normal\" id=\"900869\" onclick=\"go_details(event,900869);\"><td class=\"tabev0\"></td><td class=\"tabev0\"></td><td class=\"tabev0\"></td><td class=\"tabev6\"><b><i style=\"display:none;\">earthquake</i><a href=\"/Earthquake/earthquake.php?id=900869\">2020-09-08   13:29:30.0</a></b><i class=\"ago\" id=\"ago20\">3hr 06min ago</i></td><td class=\"tabev1\">8.24 </td><td class=\"tabev2\">N  </td><td class=\"tabev1\">83.70 </td><td class=\"tabev2\">W  </td><td class=\"tabev3\">13</td><td class=\"tabev5\" id=\"magtyp20\"> M</td><td class=\"tabev2\">4.8</td><td class=\"tb_region\" id=\"reg20\"> COSTA RICA</td><td class=\"comment updatetimeno\" id=\"upd20\" style=\"text-align:right;\">2020-09-08 13:55</td></tr>\n",
       "<tr class=\"ligne2 normal\" id=\"900868\" onclick=\"go_details(event,900868);\"><td class=\"tabev0\"></td><td class=\"tabev0\"></td><td class=\"tabev0\"></td><td class=\"tabev6\"><b><i style=\"display:none;\">earthquake</i><a href=\"/Earthquake/earthquake.php?id=900868\">2020-09-08   13:25:16.0</a></b><i class=\"ago\" id=\"ago21\">3hr 10min ago</i></td><td class=\"tabev1\">15.95 </td><td class=\"tabev2\">N  </td><td class=\"tabev1\">96.43 </td><td class=\"tabev2\">W  </td><td class=\"tabev3\">15</td><td class=\"tabev5\" id=\"magtyp21\"> M</td><td class=\"tabev2\">4.0</td><td class=\"tb_region\" id=\"reg21\"> OAXACA, MEXICO</td><td class=\"comment updatetimeno\" id=\"upd21\" style=\"text-align:right;\">2020-09-08 13:41</td></tr>\n",
       "<tr class=\"ligne1 normal\" id=\"900867\" onclick=\"go_details(event,900867);\"><td class=\"tabev0\" style=\"text-align:center;\"><a href=\"https://www.emsc-csem.org/Earthquake/Testimonies/comments.php?id=900867\" onmouseout=\"info_b2('notshow','');\" onmouseover=\"info_b2('show','See the &lt;b&gt;2 testimonies&lt;/b&gt; for this earthquake');\"><span class=\"\" style=\"vertical-align:middle;\">2</span></a></td><td class=\"tabev0\"></td><td class=\"tabev0\"><span class=\"intensity\" onclick=\"go_details(event,null,'https://www.emsc-csem.org/Earthquake/popup_intensmap.php?id=900867&amp;f=/FELTREPORTS/90/900867/IntensityMap.png');\" onmouseout=\"info_b2('notshow','');\" onmouseover=\"info_b2('show','See the &lt;b&gt; Intensity map&lt;/b&gt;');\" style=\"background-color:#FFFFFF;\">F</span></td><td class=\"tabev6\"><b><i style=\"display:none;\">earthquake</i><a href=\"/Earthquake/earthquake.php?id=900867\">2020-09-08   13:21:02.2</a></b><i class=\"ago\" id=\"ago22\">3hr 14min ago</i></td><td class=\"tabev1\">38.18 </td><td class=\"tabev2\">N  </td><td class=\"tabev1\">38.66 </td><td class=\"tabev2\">E  </td><td class=\"tabev3\">10</td><td class=\"tabev5\" id=\"magtyp22\">ML</td><td class=\"tabev2\">4.0</td><td class=\"tb_region\" id=\"reg22\"> EASTERN TURKEY</td><td class=\"comment updatetimeno\" id=\"upd22\" style=\"text-align:right;\">2020-09-08 14:53</td></tr>\n",
       "<tr class=\"ligne2 normal\" id=\"900865\" onclick=\"go_details(event,900865);\"><td class=\"tabev0\" style=\"text-align:center;\"><a href=\"https://www.emsc-csem.org/Earthquake/Testimonies/comments.php?id=900865\" onmouseout=\"info_b2('notshow','');\" onmouseover=\"info_b2('show','See the &lt;b&gt;testimony&lt;/b&gt; for this earthquake');\"><span class=\"\" style=\"vertical-align:middle;\">1</span></a></td><td class=\"tabev0\"></td><td class=\"tabev0\"><span class=\"intensity\" onclick=\"go_details(event,null,'https://www.emsc-csem.org/Earthquake/popup_intensmap.php?id=900865&amp;f=/FELTREPORTS/90/900865/IntensityMap.png');\" onmouseout=\"info_b2('notshow','');\" onmouseover=\"info_b2('show','See the &lt;b&gt; Intensity map&lt;/b&gt;');\" style=\"background-color:#FFFFFF;\">F</span></td><td class=\"tabev6\"><b><i style=\"display:none;\">earthquake</i><a href=\"/Earthquake/earthquake.php?id=900865\">2020-09-08   13:19:52.1</a></b><i class=\"ago\" id=\"ago23\">3hr 16min ago</i></td><td class=\"tabev1\">38.12 </td><td class=\"tabev2\">N  </td><td class=\"tabev1\">38.69 </td><td class=\"tabev2\">E  </td><td class=\"tabev3\">5</td><td class=\"tabev5\" id=\"magtyp23\">ML</td><td class=\"tabev2\">3.9</td><td class=\"tb_region\" id=\"reg23\"> EASTERN TURKEY</td><td class=\"comment updatetimeno\" id=\"upd23\" style=\"text-align:right;\">2020-09-08 14:53</td></tr>\n",
       "<tr class=\"ligne1 normal\" id=\"900866\" onclick=\"go_details(event,900866);\"><td class=\"tabev0\"></td><td class=\"tabev0\"></td><td class=\"tabev0\"></td><td class=\"tabev6\"><b><i style=\"display:none;\">earthquake</i><a href=\"/Earthquake/earthquake.php?id=900866\">2020-09-08   13:00:05.5</a></b><i class=\"ago\" id=\"ago24\">3hr 35min ago</i></td><td class=\"tabev1\">19.08 </td><td class=\"tabev2\">N  </td><td class=\"tabev1\">80.16 </td><td class=\"tabev2\">W  </td><td class=\"tabev3\">10</td><td class=\"tabev5\" id=\"magtyp24\">mb</td><td class=\"tabev2\">4.5</td><td class=\"tb_region\" id=\"reg24\"> CAYMAN ISLANDS REGION</td><td class=\"comment updatetimeno\" id=\"upd24\" style=\"text-align:right;\">2020-09-08 14:56</td></tr>\n",
       "<tr class=\"ligne2 normal\" id=\"900847\" onclick=\"go_details(event,900847);\"><td class=\"tabev0\" style=\"text-align:center;\"><a href=\"https://www.emsc-csem.org/Earthquake/Testimonies/comments.php?id=900847\" onmouseout=\"info_b2('notshow','');\" onmouseover=\"info_b2('show','See the &lt;b&gt;7 testimonies&lt;/b&gt; for this earthquake');\"><span class=\"\" style=\"vertical-align:middle;\">7</span></a></td><td class=\"tabev0\"></td><td class=\"tabev0\"><span class=\"intensity\" onclick=\"go_details(event,null,'https://www.emsc-csem.org/Earthquake/popup_intensmap.php?id=900847&amp;f=/FELTREPORTS/90/900847/IntensityMap.png');\" onmouseout=\"info_b2('notshow','');\" onmouseover=\"info_b2('show','See the &lt;b&gt; Intensity map&lt;/b&gt;');\" style=\"background-color:#00FFFF;\">IV</span></td><td class=\"tabev6\"><b><i style=\"display:none;\">earthquake</i><a href=\"/Earthquake/earthquake.php?id=900847\">2020-09-08   12:39:00.7</a></b><i class=\"ago\" id=\"ago25\">3hr 57min ago</i></td><td class=\"tabev1\">38.17 </td><td class=\"tabev2\">N  </td><td class=\"tabev1\">38.66 </td><td class=\"tabev2\">E  </td><td class=\"tabev3\">7</td><td class=\"tabev5\" id=\"magtyp25\">ML</td><td class=\"tabev2\">4.2</td><td class=\"tb_region\" id=\"reg25\"> EASTERN TURKEY</td><td class=\"comment updatetimeno\" id=\"upd25\" style=\"text-align:right;\">2020-09-08 14:52</td></tr>\n",
       "<tr class=\"ligne1 normal\" id=\"900848\" onclick=\"go_details(event,900848);\"><td class=\"tabev0\"></td><td class=\"tabev0\"></td><td class=\"tabev0\"></td><td class=\"tabev6\"><b><i style=\"display:none;\">earthquake</i><a href=\"/Earthquake/earthquake.php?id=900848\">2020-09-08   12:35:17.3</a></b><i class=\"ago\" id=\"ago26\">4hr 00min ago</i></td><td class=\"tabev1\">38.15 </td><td class=\"tabev2\">N  </td><td class=\"tabev1\">118.02 </td><td class=\"tabev2\">W  </td><td class=\"tabev3\">9</td><td class=\"tabev5\" id=\"magtyp26\">ML</td><td class=\"tabev2\">3.2</td><td class=\"tb_region\" id=\"reg26\"> NEVADA</td><td class=\"comment updatetimeno\" id=\"upd26\" style=\"text-align:right;\">2020-09-08 12:43</td></tr>\n",
       "<tr class=\"ligne2 normal\" id=\"900846\" onclick=\"go_details(event,900846);\"><td class=\"tabev0\"></td><td class=\"tabev0\"></td><td class=\"tabev0\"></td><td class=\"tabev6\"><b><i style=\"display:none;\">earthquake</i><a href=\"/Earthquake/earthquake.php?id=900846\">2020-09-08   12:28:00.0</a></b><i class=\"ago\" id=\"ago27\">4hr 08min ago</i></td><td class=\"tabev1\">5.85 </td><td class=\"tabev2\">N  </td><td class=\"tabev1\">126.25 </td><td class=\"tabev2\">E  </td><td class=\"tabev3\">91</td><td class=\"tabev5\" id=\"magtyp27\"> M</td><td class=\"tabev2\">3.1</td><td class=\"tb_region\" id=\"reg27\"> MINDANAO, PHILIPPINES</td><td class=\"comment updatetimeno\" id=\"upd27\" style=\"text-align:right;\">2020-09-08 12:30</td></tr>\n",
       "<tr class=\"ligne1 normal\" id=\"900844\" onclick=\"go_details(event,900844);\"><td class=\"tabev0\"></td><td class=\"tabev0\"></td><td class=\"tabev0\"></td><td class=\"tabev6\"><b><i style=\"display:none;\">earthquake</i><a href=\"/Earthquake/earthquake.php?id=900844\">2020-09-08   12:24:14.2</a></b><i class=\"ago\" id=\"ago28\">4hr 11min ago</i></td><td class=\"tabev1\">44.37 </td><td class=\"tabev2\">N  </td><td class=\"tabev1\">115.18 </td><td class=\"tabev2\">W  </td><td class=\"tabev3\">9</td><td class=\"tabev5\" id=\"magtyp28\">Ml</td><td class=\"tabev2\">3.5</td><td class=\"tb_region\" id=\"reg28\"> SOUTHERN IDAHO</td><td class=\"comment updatetimeno\" id=\"upd28\" style=\"text-align:right;\">2020-09-08 14:26</td></tr>\n",
       "<tr class=\"ligne2 normal\" id=\"900845\" onclick=\"go_details(event,900845);\"><td class=\"tabev0\"></td><td class=\"tabev0\"></td><td class=\"tabev0\"></td><td class=\"tabev6\"><b><i style=\"display:none;\">earthquake</i><a href=\"/Earthquake/earthquake.php?id=900845\">2020-09-08   12:23:27.7</a></b><i class=\"ago\" id=\"ago29\">4hr 12min ago</i></td><td class=\"tabev1\">38.13 </td><td class=\"tabev2\">N  </td><td class=\"tabev1\">38.71 </td><td class=\"tabev2\">E  </td><td class=\"tabev3\">10</td><td class=\"tabev5\" id=\"magtyp29\">ML</td><td class=\"tabev2\">2.3</td><td class=\"tb_region\" id=\"reg29\"> EASTERN TURKEY</td><td class=\"comment updatetimeno\" id=\"upd29\" style=\"text-align:right;\">2020-09-08 14:54</td></tr>\n",
       "<tr class=\"ligne1 normal\" id=\"900896\" onclick=\"go_details(event,900896);\"><td class=\"tabev0\"></td><td class=\"tabev0\"></td><td class=\"tabev0\"></td><td class=\"tabev6\"><b><i style=\"display:none;\">earthquake</i><a href=\"/Earthquake/earthquake.php?id=900896\">2020-09-08   12:20:26.6</a></b><i class=\"ago\" id=\"ago30\">4hr 15min ago</i></td><td class=\"tabev1\">17.93 </td><td class=\"tabev2\">N  </td><td class=\"tabev1\">66.91 </td><td class=\"tabev2\">W  </td><td class=\"tabev3\">9</td><td class=\"tabev5\" id=\"magtyp30\">Md</td><td class=\"tabev2\">3.0</td><td class=\"tb_region\" id=\"reg30\"> PUERTO RICO REGION</td><td class=\"comment updatetimeno\" id=\"upd30\" style=\"text-align:right;\">2020-09-08 15:11</td></tr>\n",
       "<tr class=\"ligne2 normal\" id=\"900840\" onclick=\"go_details(event,900840);\"><td class=\"tabev0\"></td><td class=\"tabev0\"></td><td class=\"tabev0\"></td><td class=\"tabev6\"><b><i style=\"display:none;\">earthquake</i><a href=\"/Earthquake/earthquake.php?id=900840\">2020-09-08   12:10:40.4</a></b><i class=\"ago\" id=\"ago31\">4hr 25min ago</i></td><td class=\"tabev1\">19.19 </td><td class=\"tabev2\">N  </td><td class=\"tabev1\">155.46 </td><td class=\"tabev2\">W  </td><td class=\"tabev3\">36</td><td class=\"tabev5\" id=\"magtyp31\">Ml</td><td class=\"tabev2\">2.2</td><td class=\"tb_region\" id=\"reg31\"> ISLAND OF HAWAII, HAWAII</td><td class=\"comment updatetimeno\" id=\"upd31\" style=\"text-align:right;\">2020-09-08 12:16</td></tr>\n",
       "<tr class=\"ligne1 normal\" id=\"900895\" onclick=\"go_details(event,900895);\"><td class=\"tabev0\"></td><td class=\"tabev0\"></td><td class=\"tabev0\"></td><td class=\"tabev6\"><b><i style=\"display:none;\">earthquake</i><a href=\"/Earthquake/earthquake.php?id=900895\">2020-09-08   12:08:33.3</a></b><i class=\"ago\" id=\"ago32\">4hr 27min ago</i></td><td class=\"tabev1\">17.92 </td><td class=\"tabev2\">N  </td><td class=\"tabev1\">66.91 </td><td class=\"tabev2\">W  </td><td class=\"tabev3\">10</td><td class=\"tabev5\" id=\"magtyp32\">Md</td><td class=\"tabev2\">2.9</td><td class=\"tb_region\" id=\"reg32\"> PUERTO RICO REGION</td><td class=\"comment updatetimeno\" id=\"upd32\" style=\"text-align:right;\">2020-09-08 15:11</td></tr>\n",
       "<tr class=\"ligne2 normal\" id=\"900875\" onclick=\"go_details(event,900875);\"><td class=\"tabev0\"></td><td class=\"tabev0\"></td><td class=\"tabev0\"></td><td class=\"tabev6\"><b><i style=\"display:none;\">earthquake</i><a href=\"/Earthquake/earthquake.php?id=900875\">2020-09-08   12:04:30.0</a></b><i class=\"ago\" id=\"ago33\">4hr 31min ago</i></td><td class=\"tabev1\">10.82 </td><td class=\"tabev2\">N  </td><td class=\"tabev1\">85.51 </td><td class=\"tabev2\">W  </td><td class=\"tabev3\">3</td><td class=\"tabev5\" id=\"magtyp33\"> M</td><td class=\"tabev2\">3.4</td><td class=\"tb_region\" id=\"reg33\"> COSTA RICA</td><td class=\"comment updatetimeno\" id=\"upd33\" style=\"text-align:right;\">2020-09-08 14:05</td></tr>\n",
       "<tr class=\"ligne1 normal\" id=\"900838\" onclick=\"go_details(event,900838);\"><td class=\"tabev0\"></td><td class=\"tabev0\"></td><td class=\"tabev0\"></td><td class=\"tabev6\"><b><i style=\"display:none;\">earthquake</i><a href=\"/Earthquake/earthquake.php?id=900838\">2020-09-08   11:50:31.0</a></b><i class=\"ago\" id=\"ago34\">4hr 45min ago</i></td><td class=\"tabev1\">32.25 </td><td class=\"tabev2\">S  </td><td class=\"tabev1\">71.69 </td><td class=\"tabev2\">W  </td><td class=\"tabev3\">38</td><td class=\"tabev5\" id=\"magtyp34\">ML</td><td class=\"tabev2\">2.8</td><td class=\"tb_region\" id=\"reg34\"> OFFSHORE VALPARAISO, CHILE</td><td class=\"comment updatetimeno\" id=\"upd34\" style=\"text-align:right;\">2020-09-08 12:02</td></tr>\n",
       "<tr class=\"ligne2 normal\" id=\"900834\" onclick=\"go_details(event,900834);\"><td class=\"tabev0\"></td><td class=\"tabev0\"></td><td class=\"tabev0\"></td><td class=\"tabev6\"><b><i style=\"display:none;\">earthquake</i><a href=\"/Earthquake/earthquake.php?id=900834\">2020-09-08   11:03:53.6</a></b><i class=\"ago\" id=\"ago35\">5hr 32min ago</i></td><td class=\"tabev1\">18.03 </td><td class=\"tabev2\">N  </td><td class=\"tabev1\">66.83 </td><td class=\"tabev2\">W  </td><td class=\"tabev3\">16</td><td class=\"tabev5\" id=\"magtyp35\">Md</td><td class=\"tabev2\">2.5</td><td class=\"tb_region\" id=\"reg35\"> PUERTO RICO</td><td class=\"comment updatetimeno\" id=\"upd35\" style=\"text-align:right;\">2020-09-08 11:14</td></tr>\n",
       "<tr class=\"ligne1 normal\" id=\"900842\" onclick=\"go_details(event,900842);\"><td class=\"tabev0\"></td><td class=\"tabev0\"></td><td class=\"tabev0\"></td><td class=\"tabev6\"><b><i style=\"display:none;\">earthquake</i><a href=\"/Earthquake/earthquake.php?id=900842\">2020-09-08   11:03:45.4</a></b><i class=\"ago\" id=\"ago36\">5hr 32min ago</i></td><td class=\"tabev1\">30.88 </td><td class=\"tabev2\">S  </td><td class=\"tabev1\">177.98 </td><td class=\"tabev2\">E  </td><td class=\"tabev3\">457</td><td class=\"tabev5\" id=\"magtyp36\">mb</td><td class=\"tabev2\">4.0</td><td class=\"tb_region\" id=\"reg36\"> NORTH OF NEW ZEALAND</td><td class=\"comment updatetimeno\" id=\"upd36\" style=\"text-align:right;\">2020-09-08 12:20</td></tr>\n",
       "<tr class=\"ligne2 normal\" id=\"900833\" onclick=\"go_details(event,900833);\"><td class=\"tabev0\"></td><td class=\"tabev0\"></td><td class=\"tabev0\"></td><td class=\"tabev6\"><b><i style=\"display:none;\">earthquake</i><a href=\"/Earthquake/earthquake.php?id=900833\">2020-09-08   11:02:55.1</a></b><i class=\"ago\" id=\"ago37\">5hr 33min ago</i></td><td class=\"tabev1\">38.18 </td><td class=\"tabev2\">N  </td><td class=\"tabev1\">38.69 </td><td class=\"tabev2\">E  </td><td class=\"tabev3\">14</td><td class=\"tabev5\" id=\"magtyp37\">ML</td><td class=\"tabev2\">3.1</td><td class=\"tb_region\" id=\"reg37\"> EASTERN TURKEY</td><td class=\"comment updatetimeno\" id=\"upd37\" style=\"text-align:right;\">2020-09-08 14:55</td></tr>\n",
       "<tr class=\"ligne1 bold\" id=\"900828\" onclick=\"go_details(event,900828);\"><td class=\"tabev0\" style=\"text-align:center;\"><a href=\"https://www.emsc-csem.org/Earthquake/Testimonies/comments.php?id=900828\" onmouseout=\"info_b2('notshow','');\" onmouseover=\"info_b2('show','See the &lt;b&gt;11 testimonies&lt;/b&gt; for this earthquake');\"><span class=\"\" style=\"vertical-align:middle;\">11</span></a></td><td class=\"tabev0\"></td><td class=\"tabev0\"><span class=\"intensity\" onclick=\"go_details(event,null,'https://www.emsc-csem.org/Earthquake/popup_intensmap.php?id=900828&amp;f=/FELTREPORTS/90/900828/IntensityMap.png');\" onmouseout=\"info_b2('notshow','');\" onmouseover=\"info_b2('show','See the &lt;b&gt; Intensity map&lt;/b&gt;');\" style=\"background-color:#00FFFF;\">IV</span></td><td class=\"tabev6\"><b><i style=\"display:none;\">earthquake</i><a href=\"/Earthquake/earthquake.php?id=900828\">2020-09-08   10:44:09.0</a></b><i class=\"ago\" id=\"ago38\">5hr 51min ago</i></td><td class=\"tabev1\">38.16 </td><td class=\"tabev2\">N  </td><td class=\"tabev1\">38.70 </td><td class=\"tabev2\">E  </td><td class=\"tabev3\">5</td><td class=\"tabev5\" id=\"magtyp38\">Mw</td><td class=\"tabev2\">4.7</td><td class=\"tb_region\" id=\"reg38\"> EASTERN TURKEY</td><td class=\"comment updatetimeno\" id=\"upd38\" style=\"text-align:right;\">2020-09-08 11:00</td></tr>\n",
       "<tr class=\"ligne2 normal\" id=\"900832\" onclick=\"go_details(event,900832);\"><td class=\"tabev0\"></td><td class=\"tabev0\"></td><td class=\"tabev0\"></td><td class=\"tabev6\"><b><i style=\"display:none;\">earthquake</i><a href=\"/Earthquake/earthquake.php?id=900832\">2020-09-08   10:34:21.0</a></b><i class=\"ago\" id=\"ago39\">6hr 01min ago</i></td><td class=\"tabev1\">17.93 </td><td class=\"tabev2\">N  </td><td class=\"tabev1\">66.91 </td><td class=\"tabev2\">W  </td><td class=\"tabev3\">14</td><td class=\"tabev5\" id=\"magtyp39\">Md</td><td class=\"tabev2\">3.1</td><td class=\"tb_region\" id=\"reg39\"> PUERTO RICO REGION</td><td class=\"comment updatetimeno\" id=\"upd39\" style=\"text-align:right;\">2020-09-08 11:06</td></tr>\n",
       "<tr class=\"ligne1 normal\" id=\"900831\" onclick=\"go_details(event,900831);\"><td class=\"tabev0\"></td><td class=\"tabev0\"></td><td class=\"tabev0\"></td><td class=\"tabev6\"><b><i style=\"display:none;\">earthquake</i><a href=\"/Earthquake/earthquake.php?id=900831\">2020-09-08   10:26:49.1</a></b><i class=\"ago\" id=\"ago40\">6hr 09min ago</i></td><td class=\"tabev1\">43.02 </td><td class=\"tabev2\">N  </td><td class=\"tabev1\">13.54 </td><td class=\"tabev2\">E  </td><td class=\"tabev3\">24</td><td class=\"tabev5\" id=\"magtyp40\">ML</td><td class=\"tabev2\">2.0</td><td class=\"tb_region\" id=\"reg40\"> CENTRAL ITALY</td><td class=\"comment updatetimeno\" id=\"upd40\" style=\"text-align:right;\">2020-09-08 10:59</td></tr>\n",
       "<tr class=\"ligne2 normal\" id=\"900824\" onclick=\"go_details(event,900824);\"><td class=\"tabev0\"></td><td class=\"tabev0\"></td><td class=\"tabev0\"></td><td class=\"tabev6\"><b><i style=\"display:none;\">earthquake</i><a href=\"/Earthquake/earthquake.php?id=900824\">2020-09-08   10:11:09.5</a></b><i class=\"ago\" id=\"ago41\">6hr 24min ago</i></td><td class=\"tabev1\">36.65 </td><td class=\"tabev2\">N  </td><td class=\"tabev1\">28.10 </td><td class=\"tabev2\">E  </td><td class=\"tabev3\">7</td><td class=\"tabev5\" id=\"magtyp41\">ML</td><td class=\"tabev2\">2.0</td><td class=\"tb_region\" id=\"reg41\"> DODECANESE IS.-TURKEY BORDER REG</td><td class=\"comment updatetimeno\" id=\"upd41\" style=\"text-align:right;\">2020-09-08 10:26</td></tr>\n",
       "<tr class=\"ligne1 normal\" id=\"900822\" onclick=\"go_details(event,900822);\"><td class=\"tabev0\"></td><td class=\"tabev0\"></td><td class=\"tabev0\"></td><td class=\"tabev6\"><b><i style=\"display:none;\">earthquake</i><a href=\"/Earthquake/earthquake.php?id=900822\">2020-09-08   10:05:15.7</a></b><i class=\"ago\" id=\"ago42\">6hr 30min ago</i></td><td class=\"tabev1\">52.55 </td><td class=\"tabev2\">N  </td><td class=\"tabev1\">169.67 </td><td class=\"tabev2\">E  </td><td class=\"tabev3\">10</td><td class=\"tabev5\" id=\"magtyp42\">mb</td><td class=\"tabev2\">4.3</td><td class=\"tb_region\" id=\"reg42\"> SOUTH OF ALEUTIAN ISLANDS</td><td class=\"comment updatetimeno\" id=\"upd42\" style=\"text-align:right;\">2020-09-08 10:23</td></tr>\n",
       "<tr class=\"ligne2 normal\" id=\"900820\" onclick=\"go_details(event,900820);\"><td class=\"tabev0\"></td><td class=\"tabev0\"></td><td class=\"tabev0\"></td><td class=\"tabev6\"><b><i style=\"display:none;\">earthquake</i><a href=\"/Earthquake/earthquake.php?id=900820\">2020-09-08   10:02:01.0</a></b><i class=\"ago\" id=\"ago43\">6hr 34min ago</i></td><td class=\"tabev1\">12.07 </td><td class=\"tabev2\">N  </td><td class=\"tabev1\">123.99 </td><td class=\"tabev2\">E  </td><td class=\"tabev3\">28</td><td class=\"tabev5\" id=\"magtyp43\"> M</td><td class=\"tabev2\">3.4</td><td class=\"tb_region\" id=\"reg43\"> MASBATE REGION, PHILIPPINES</td><td class=\"comment updatetimeno\" id=\"upd43\" style=\"text-align:right;\">2020-09-08 10:16</td></tr>\n",
       "<tr class=\"ligne1 normal\" id=\"900826\" onclick=\"go_details(event,900826);\"><td class=\"tabev0\"></td><td class=\"tabev0\"></td><td class=\"tabev0\"></td><td class=\"tabev6\"><b><i style=\"display:none;\">earthquake</i><a href=\"/Earthquake/earthquake.php?id=900826\">2020-09-08   10:01:15.8</a></b><i class=\"ago\" id=\"ago44\">6hr 34min ago</i></td><td class=\"tabev1\">43.16 </td><td class=\"tabev2\">N  </td><td class=\"tabev1\">10.80 </td><td class=\"tabev2\">E  </td><td class=\"tabev3\">3</td><td class=\"tabev5\" id=\"magtyp44\">ML</td><td class=\"tabev2\">2.0</td><td class=\"tb_region\" id=\"reg44\"> CENTRAL ITALY</td><td class=\"comment updatetimeno\" id=\"upd44\" style=\"text-align:right;\">2020-09-08 10:29</td></tr>\n",
       "<tr class=\"ligne2 normal\" id=\"900818\" onclick=\"go_details(event,900818);\"><td class=\"tabev0\"></td><td class=\"tabev0\"></td><td class=\"tabev0\"></td><td class=\"tabev6\"><b><i style=\"display:none;\">earthquake</i><a href=\"/Earthquake/earthquake.php?id=900818\">2020-09-08   09:57:46.0</a></b><i class=\"ago\" id=\"ago45\">6hr 38min ago</i></td><td class=\"tabev1\">1.60 </td><td class=\"tabev2\">S  </td><td class=\"tabev1\">120.52 </td><td class=\"tabev2\">E  </td><td class=\"tabev3\">10</td><td class=\"tabev5\" id=\"magtyp45\"> M</td><td class=\"tabev2\">3.1</td><td class=\"tb_region\" id=\"reg45\"> SULAWESI, INDONESIA</td><td class=\"comment updatetimeno\" id=\"upd45\" style=\"text-align:right;\">2020-09-08 10:06</td></tr>\n",
       "<tr class=\"ligne1 normal\" id=\"900850\" onclick=\"go_details(event,900850);\"><td class=\"tabev0\"></td><td class=\"tabev0\"></td><td class=\"tabev0\"></td><td class=\"tabev6\"><b><i style=\"display:none;\">earthquake</i><a href=\"/Earthquake/earthquake.php?id=900850\">2020-09-08   09:49:07.0</a></b><i class=\"ago\" id=\"ago46\">6hr 46min ago</i></td><td class=\"tabev1\">15.65 </td><td class=\"tabev2\">N  </td><td class=\"tabev1\">95.87 </td><td class=\"tabev2\">W  </td><td class=\"tabev3\">10</td><td class=\"tabev5\" id=\"magtyp46\"> M</td><td class=\"tabev2\">4.0</td><td class=\"tb_region\" id=\"reg46\"> OFFSHORE OAXACA, MEXICO</td><td class=\"comment updatetimeno\" id=\"upd46\" style=\"text-align:right;\">2020-09-08 13:01</td></tr>\n",
       "<tr class=\"ligne2 normal\" id=\"900815\" onclick=\"go_details(event,900815);\"><td class=\"tabev0\"></td><td class=\"tabev0\"></td><td class=\"tabev0\"></td><td class=\"tabev6\"><b><i style=\"display:none;\">earthquake</i><a href=\"/Earthquake/earthquake.php?id=900815\">2020-09-08   09:43:53.0</a></b><i class=\"ago\" id=\"ago47\">6hr 52min ago</i></td><td class=\"tabev1\">1.73 </td><td class=\"tabev2\">N  </td><td class=\"tabev1\">126.68 </td><td class=\"tabev2\">E  </td><td class=\"tabev3\">10</td><td class=\"tabev5\" id=\"magtyp47\"> M</td><td class=\"tabev2\">4.2</td><td class=\"tb_region\" id=\"reg47\"> MOLUCCA SEA</td><td class=\"comment updatetimeno\" id=\"upd47\" style=\"text-align:right;\">2020-09-08 09:55</td></tr>\n",
       "<tr class=\"ligne1 normal\" id=\"900858\" onclick=\"go_details(event,900858);\"><td class=\"tabev0\"></td><td class=\"tabev0\"></td><td class=\"tabev0\"></td><td class=\"tabev6\"><b><i style=\"display:none;\">earthquake</i><a href=\"/Earthquake/earthquake.php?id=900858\">2020-09-08   09:38:01.0</a></b><i class=\"ago\" id=\"ago48\">6hr 58min ago</i></td><td class=\"tabev1\">15.54 </td><td class=\"tabev2\">N  </td><td class=\"tabev1\">96.26 </td><td class=\"tabev2\">W  </td><td class=\"tabev3\">14</td><td class=\"tabev5\" id=\"magtyp48\"> M</td><td class=\"tabev2\">3.6</td><td class=\"tb_region\" id=\"reg48\"> OFFSHORE OAXACA, MEXICO</td><td class=\"comment updatetimeno\" id=\"upd48\" style=\"text-align:right;\">2020-09-08 13:01</td></tr>\n",
       "<tr class=\"ligne2 normal\" id=\"900814\" onclick=\"go_details(event,900814);\"><td class=\"tabev0\"></td><td class=\"tabev0\"></td><td class=\"tabev0\"></td><td class=\"tabev6\"><b><i style=\"display:none;\">earthquake</i><a href=\"/Earthquake/earthquake.php?id=900814\">2020-09-08   09:35:13.6</a></b><i class=\"ago\" id=\"ago49\">7hr 00min ago</i></td><td class=\"tabev1\">29.45 </td><td class=\"tabev2\">S  </td><td class=\"tabev1\">71.86 </td><td class=\"tabev2\">W  </td><td class=\"tabev3\">10</td><td class=\"tabev5\" id=\"magtyp49\">mb</td><td class=\"tabev2\">4.2</td><td class=\"tb_region\" id=\"reg49\"> OFFSHORE COQUIMBO, CHILE</td><td class=\"comment updatetimeno\" id=\"upd49\" style=\"text-align:right;\">2020-09-08 10:17</td></tr>\n",
       "</tbody><tfoot><tr><td colspan=\"13\" style=\"height:3px\"></td></tr> <tr class=\"npages\" id=\"my_pagelist_1\"><td colspan=\"13\"><a class=\"sublink sublinka\" href=\"javascript:void()\" rel=\"nofollow\">1</a><a class=\"sublink\" href=\"/Earthquake/?view=2\">2</a><a class=\"sublink\" href=\"/Earthquake/?view=3\">3</a><a class=\"sublink\" href=\"/Earthquake/?view=4\">4</a><a class=\"sublink\" href=\"/Earthquake/?view=5\">5</a><a class=\"sublink\" href=\"/Earthquake/?view=6\">6</a><a class=\"sublink\" href=\"/Earthquake/?view=7\">7</a><a class=\"sublink\" href=\"/Earthquake/?view=8\">8</a><a class=\"sublink\" href=\"/Earthquake/?view=9\">9</a><a class=\"sublink\" href=\"/Earthquake/?view=10\">10</a><a alt=\"Next page\" class=\"sublink\" href=\"/Earthquake/?view=2\"></a><a alt=\"Next 10 pages\" class=\"sublink\" href=\"/Earthquake/?view=11\">»</a></td></tr><tr><td colspan=\"13\" style=\"border-bottom:1px solid #000;\"></td></tr></tfoot></table><b>Bold : Earthquakes with a magnitude ≥ 4.5 in Euro-med, or ≥ 5.5 in the world </b><br/><b style=\"color:red;\">Red : Earthquakes with a magnitude ≥ 5 in Euro-med, or ≥ 6 in the world </b><br/><script>\n",
       "\t\t\t\tvar nb_event_on_page=50;\n",
       "\t\t\t\n",
       "\t\t\t\tfunction cancel_evt(e) {\n",
       "\t\t\t\t\tif(e.bubbles===undefined) e.cancelBubble = true;\n",
       "\t\t\t\t\telse e.stopPropagation();\n",
       "\t\t\t\t}\t\n",
       "\t\t\t\tfunction go_details(e,id,page) {\n",
       "\t\t\t\t\tif((!id) || (id==null)) {\n",
       "\t\t\t\t\t\tcancel_evt(e);\n",
       "\t\t\t\t\t\twindow.open(page,\"Intensity_Map\",\"menubar=no, status=no, scrollbars=no, menubar=no, width=900, height=1000\");\n",
       "\t\t\t\t\t}\t\n",
       "\t\t\t\t\telse document.location.href=\"/Earthquake/earthquake.php?id=\"+id;\n",
       "\t\t\t\t}\n",
       "\t\t\t\t\n",
       "\t\t\t\tvar is_hide_magni=true;\n",
       "\t\t\t\tfunction hide_magni() {\n",
       "\t\t\t\t\tif(!is_hide_magni) {\n",
       "\t\t\t\t\t\tis_hide_magni=true;\n",
       "\t\t\t\t\t\tif(document.getElementById(\"thmag\")) document.getElementById(\"thmag\").colSpan=\"1\";\n",
       "\t\t\t\t\t\tif(document.getElementById(\"magplus\")) document.getElementById(\"magplus\").innerHTML=\"[+]\";\n",
       "\t\t\t\t\t\tfor (i=0;i<= nb_event_on_page;i++) {\n",
       "\t\t\t\t\t\t\tif(document.getElementById(\"magtyp\"+i)) { document.getElementById(\"magtyp\"+i).className=\"tabev5\"; } \n",
       "\t\t\t\t\t\t}\n",
       "\t\t\t\t\t}\n",
       "\t\t\t\t\telse {\n",
       "\t\t\t\t\t\tis_hide_magni=false;\n",
       "\t\t\t\t\t\tif(document.getElementById(\"thmag\")) document.getElementById(\"thmag\").colSpan=\"2\";\n",
       "\t\t\t\t\t\tif(document.getElementById(\"magplus\")) document.getElementById(\"magplus\").innerHTML=\"[-]\";\n",
       "\t\t\t\t\t\tfor (i=0;i<= nb_event_on_page;i++) {\n",
       "\t\t\t\t\t\t\tif(document.getElementById(\"magtyp\"+i)) {document.getElementById(\"magtyp\"+i).className=\"tabev52\"; } \n",
       "\t\t\t\t\t\t}\n",
       "\t\t\t\t\t}\t\n",
       "\t\t\t\t}\t\n",
       "\t\t\t\t\n",
       "\t\t\t\tvar ishide=true;\n",
       "\t\t\t\tfunction hide_upd() {\n",
       "\t\t\t\t\tvar i=0;\n",
       "\t\t\t\t\tif(!ishide) {\n",
       "\t\t\t\t\t\tishide=true;\n",
       "\t\t\t\t\t\tdocument.getElementById(\"upd\").className=\"th2 updatetimeno\";\n",
       "\t\t\t\t\t\tdocument.getElementById(\"upda\").style.display=\"block\";\n",
       "\t\t\t\t\t\t\n",
       "\t\t\t\t\t\tfor (i=0;i<= nb_event_on_page;i++) {\n",
       "\t\t\t\t\t\t\tif(document.getElementById(\"upd\"+i)) document.getElementById(\"upd\"+i).className=\"comment updatetimeno\";\n",
       "\t\t\t\t\t\t\tif(document.getElementById(\"reg\"+i)) document.getElementById(\"reg\"+i).style.paddingLeft=\"20px\";\n",
       "\t\t\t\t\t\t}\t\n",
       "\t\t\t\t\t}\n",
       "\t\t\t\t\telse {\n",
       "\t\t\t\t\t\t\tishide=false;\n",
       "\t\t\t\t\t\tdocument.getElementById(\"upda\").style.display=\"none\";\t\n",
       "\t\t\t\t\t\tdocument.getElementById(\"upd\").className=\"th2\";\n",
       "\t\t\t\t\t\t\n",
       "\t\t\t\t\t\tfor (i=0;i<= nb_event_on_page;i++) {\n",
       "\t\t\t\t\t\t\tif(document.getElementById(\"reg\"+i)) document.getElementById(\"reg\"+i).style.paddingLeft=\"4px\";\n",
       "\t\t\t\t\t\t\tif(document.getElementById(\"upd\"+i)) document.getElementById(\"upd\"+i).className=\"comment\";\n",
       "\t\t\t\t\t\t}\t\n",
       "\t\t\t\t\t\t\n",
       "\t\t\t\t\t}\t\n",
       "\t\t\t\t}\n",
       "\t\t\t\t\tfunction update_ago() {\n",
       "\t\t\t\t\t\tvar i=0;\n",
       "\t\t\t\t\t\tvar def=new Array(\"min ago\",\"hr \");\n",
       "\t\t\t\t\t\twhile( document.getElementById(\"ago\"+i)) { \n",
       "\t\t\t\t\t\t\tvar tb=new Array();\n",
       "\t\t\t\t\t\t\tvar elem=document.getElementById(\"ago\"+i);\n",
       "\t\t\t\t\t\t\tvar str=elem.innerHTML.replace(/min ago/i,\"\").replace(/hr/i,\"\");\n",
       "\t\t\t\t\t\t\ttb=str.split(\" \").reverse();\n",
       "\t\t\t\t\t\t\t//if(i==0) alert(\"**\"+str+\"**\"+tb[0]+\" | \"+tb[1]);\n",
       "\t\t\t\t\t\t\tvar str2=\"\";\n",
       "\t\t\t\t\t\t\tvar ln=tb.length;\n",
       "\t\t\t\t\t\t\tvar j=0;\n",
       "\t\t\t\t\t\t\n",
       "\t\t\t\t\t\t\ttb[j]=parseFloat(tb[j])+1;\n",
       "\t\t\t\t\t\t\tif(tb[j]==60) {\n",
       "\t\t\t\t\t\t\t\ttb[j]=0;\n",
       "\t\t\t\t\t\t\t\tif(ln<=1) tb[j+1]=0;\n",
       "\t\t\t\t\t\t\t\ttb[j+1]=parseFloat(tb[j+1])+1;\n",
       "\t\t\t\t\t\t\t\tif(tb[j+1]>=12) elem.parentNode.removeChild(elem);\n",
       "\t\t\t\t\t\t\t}\t\n",
       "\t\t\t\t\t\t\tif(tb[j]<10) { tb[j]=\"0\"+tb[j]; }\n",
       "\t\t\t\t\t\t\t\t\n",
       "\t\t\t\t\t\t\tdo {\n",
       "\t\t\t\t\t\t\t\ttb[j]+=def[j];\n",
       "\t\t\t\t\t\t\t\tj++;\n",
       "\t\t\t\t\t\t\t} while(tb.length>=(j+1));\t\n",
       "\t\t\t\t\t\t\t\n",
       "\t\t\t\t\t\t\ttb.reverse();\n",
       "\t\t\t\t\t\t\tfor(var z=0; z<tb.length;z++) {\n",
       "\t\t\t\t\t\t\t\tstr2+=tb[z];\n",
       "\t\t\t\t\t\t\t}\t\n",
       "\t\t\t\t\n",
       "\t\t\t\t\t\t\telem.innerHTML=str2;\n",
       "\t\t\t\t\t\t\t//alert(str2);\n",
       "\t\t\t\t\t\t\ti++;\n",
       "\t\t\t\t\t\t} \n",
       "\t\t\t\t\t\tsetTimeout(\"update_ago()\",60000); //1min \n",
       "\t\t\t\t\t}\n",
       "\t\t\t\t\tsetTimeout(\"update_ago()\",60000);\n",
       "\t\t\t\t\t //update_ago();\n",
       "\t\t\t\tvar tab_time=new Array( {evid:900911, time:\"2020-09-08&#160;&#160;&#160;16:22:06.7\", times:\"1599582126.7\"},{evid:900910, time:\"2020-09-08&#160;&#160;&#160;15:58:20.0\", times:\"1599580700\"},{evid:900907, time:\"2020-09-08&#160;&#160;&#160;15:57:47.6\", times:\"1599580667.6\"},{evid:900905, time:\"2020-09-08&#160;&#160;&#160;15:56:37.7\", times:\"1599580597.7\"},{evid:900906, time:\"2020-09-08&#160;&#160;&#160;15:41:50.0\", times:\"1599579710\"},{evid:900904, time:\"2020-09-08&#160;&#160;&#160;15:41:28.0\", times:\"1599579688\"},{evid:900901, time:\"2020-09-08&#160;&#160;&#160;15:15:20.1\", times:\"1599578120.1\"},{evid:900899, time:\"2020-09-08&#160;&#160;&#160;15:09:38.9\", times:\"1599577778.9\"},{evid:900893, time:\"2020-09-08&#160;&#160;&#160;15:06:15.4\", times:\"1599577575.4\"},{evid:900892, time:\"2020-09-08&#160;&#160;&#160;15:04:49.7\", times:\"1599577489.7\"},{evid:900891, time:\"2020-09-08&#160;&#160;&#160;14:57:41.5\", times:\"1599577061.5\"},{evid:900890, time:\"2020-09-08&#160;&#160;&#160;14:51:18.0\", times:\"1599576678\"},{evid:900883, time:\"2020-09-08&#160;&#160;&#160;14:35:33.0\", times:\"1599575733\"},{evid:900879, time:\"2020-09-08&#160;&#160;&#160;14:15:14.3\", times:\"1599574514.3\"},{evid:900882, time:\"2020-09-08&#160;&#160;&#160;14:06:17.3\", times:\"1599573977.3\"},{evid:900880, time:\"2020-09-08&#160;&#160;&#160;14:03:07.0\", times:\"1599573787\"},{evid:900876, time:\"2020-09-08&#160;&#160;&#160;13:59:20.6\", times:\"1599573560.6\"},{evid:900886, time:\"2020-09-08&#160;&#160;&#160;13:43:32.8\", times:\"1599572612.8\"},{evid:900877, time:\"2020-09-08&#160;&#160;&#160;13:41:01.1\", times:\"1599572461.1\"},{evid:900873, time:\"2020-09-08&#160;&#160;&#160;13:40:17.0\", times:\"1599572417\"},{evid:900869, time:\"2020-09-08&#160;&#160;&#160;13:29:30.0\", times:\"1599571770\"},{evid:900868, time:\"2020-09-08&#160;&#160;&#160;13:25:16.0\", times:\"1599571516\"},{evid:900867, time:\"2020-09-08&#160;&#160;&#160;13:21:02.2\", times:\"1599571262.2\"},{evid:900865, time:\"2020-09-08&#160;&#160;&#160;13:19:52.1\", times:\"1599571192.1\"},{evid:900866, time:\"2020-09-08&#160;&#160;&#160;13:00:05.5\", times:\"1599570005.5\"},{evid:900847, time:\"2020-09-08&#160;&#160;&#160;12:39:00.7\", times:\"1599568740.7\"},{evid:900848, time:\"2020-09-08&#160;&#160;&#160;12:35:17.3\", times:\"1599568517.3\"},{evid:900846, time:\"2020-09-08&#160;&#160;&#160;12:28:00.0\", times:\"1599568080\"},{evid:900844, time:\"2020-09-08&#160;&#160;&#160;12:24:14.2\", times:\"1599567854.2\"},{evid:900845, time:\"2020-09-08&#160;&#160;&#160;12:23:27.7\", times:\"1599567807.7\"},{evid:900896, time:\"2020-09-08&#160;&#160;&#160;12:20:26.6\", times:\"1599567626.6\"},{evid:900840, time:\"2020-09-08&#160;&#160;&#160;12:10:40.4\", times:\"1599567040.4\"},{evid:900895, time:\"2020-09-08&#160;&#160;&#160;12:08:33.3\", times:\"1599566913.3\"},{evid:900875, time:\"2020-09-08&#160;&#160;&#160;12:04:30.0\", times:\"1599566670\"},{evid:900838, time:\"2020-09-08&#160;&#160;&#160;11:50:31.0\", times:\"1599565831\"},{evid:900834, time:\"2020-09-08&#160;&#160;&#160;11:03:53.6\", times:\"1599563033.6\"},{evid:900842, time:\"2020-09-08&#160;&#160;&#160;11:03:45.4\", times:\"1599563025.4\"},{evid:900833, time:\"2020-09-08&#160;&#160;&#160;11:02:55.1\", times:\"1599562975.1\"},{evid:900828, time:\"2020-09-08&#160;&#160;&#160;10:44:09.0\", times:\"1599561849\"},{evid:900832, time:\"2020-09-08&#160;&#160;&#160;10:34:21.0\", times:\"1599561261\"},{evid:900831, time:\"2020-09-08&#160;&#160;&#160;10:26:49.1\", times:\"1599560809.1\"},{evid:900824, time:\"2020-09-08&#160;&#160;&#160;10:11:09.5\", times:\"1599559869.5\"},{evid:900822, time:\"2020-09-08&#160;&#160;&#160;10:05:15.7\", times:\"1599559515.7\"},{evid:900820, time:\"2020-09-08&#160;&#160;&#160;10:02:01.0\", times:\"1599559321\"},{evid:900826, time:\"2020-09-08&#160;&#160;&#160;10:01:15.8\", times:\"1599559275.8\"},{evid:900818, time:\"2020-09-08&#160;&#160;&#160;09:57:46.0\", times:\"1599559066\"},{evid:900850, time:\"2020-09-08&#160;&#160;&#160;09:49:07.0\", times:\"1599558547\"},{evid:900815, time:\"2020-09-08&#160;&#160;&#160;09:43:53.0\", times:\"1599558233\"},{evid:900858, time:\"2020-09-08&#160;&#160;&#160;09:38:01.0\", times:\"1599557881\"},{evid:900814, time:\"2020-09-08&#160;&#160;&#160;09:35:13.6\", times:\"1599557713.6\"});\n",
       "var tab_tab=new Array( {evid:900911, ago:\"13min ago\", comm: \"0\", pics: \"0\", intens: \"-1\", lat:\"-33.98\", lon:\"179.85\", depth:\"350\", mag:\"3.5\", reg:\"SOUTH OF KERMADEC ISLANDS\",upd:\"1599582600\"},{evid:900910, ago:\"37min ago\", comm: \"0\", pics: \"0\", intens: \"-1\", lat:\"20.13\", lon:\"-70.73\", depth:\"15\", mag:\"3.3\", reg:\"DOMINICAN REPUBLIC REGION\",upd:\"1599582300\"},{evid:900907, ago:\"38min ago\", comm: \"0\", pics: \"0\", intens: \"-1\", lat:\"18.75\", lon:\"-64.64\", depth:\"35\", mag:\"3.3\", reg:\"VIRGIN ISLANDS REGION\",upd:\"1599582660\"},{evid:900905, ago:\"39min ago\", comm: \"0\", pics: \"0\", intens: \"-1\", lat:\"39.57\", lon:\"23.97\", depth:\"14\", mag:\"2.6\", reg:\"AEGEAN SEA\",upd:\"1599582180\"},{evid:900906, ago:\"54min ago\", comm: \"0\", pics: \"0\", intens: \"-1\", lat:\"20.20\", lon:\"-70.75\", depth:\"10\", mag:\"3.1\", reg:\"DOMINICAN REPUBLIC REGION\",upd:\"1599580860\"},{evid:900904, ago:\"54min ago\", comm: \"0\", pics: \"0\", intens: \"-1\", lat:\"-27.22\", lon:\"-71.46\", depth:\"21\", mag:\"2.9\", reg:\"OFFSHORE ATACAMA, CHILE\",upd:\"1599580200\"},{evid:900901, ago:\"1hr 20min ago\", comm: \"0\", pics: \"0\", intens: \"-1\", lat:\"42.88\", lon:\"11.76\", depth:\"7\", mag:\"2.0\", reg:\"CENTRAL ITALY\",upd:\"1599579120\"},{evid:900899, ago:\"1hr 26min ago\", comm: \"0\", pics: \"0\", intens: \"-1\", lat:\"38.18\", lon:\"38.69\", depth:\"8\", mag:\"2.4\", reg:\"EASTERN TURKEY\",upd:\"1599579060\"},{evid:900893, ago:\"1hr 29min ago\", comm: \"4\", pics: \"0\", intens: \"4\", lat:\"38.16\", lon:\"38.65\", depth:\"7\", mag:\"4.2\", reg:\"EASTERN TURKEY\",upd:\"1599580620\"},{evid:900892, ago:\"1hr 31min ago\", comm: \"0\", pics: \"0\", intens: \"-1\", lat:\"19.16\", lon:\"-155.50\", depth:\"37\", mag:\"2.1\", reg:\"ISLAND OF HAWAII, HAWAII\",upd:\"1599577680\"},{evid:900891, ago:\"1hr 38min ago\", comm: \"0\", pics: \"0\", intens: \"-1\", lat:\"-35.14\", lon:\"179.23\", depth:\"198\", mag:\"4.3\", reg:\"OFF E. COAST OF N. ISLAND, N.Z.\",upd:\"1599577500\"},{evid:900890, ago:\"1hr 44min ago\", comm: \"0\", pics: \"0\", intens: \"-1\", lat:\"-27.49\", lon:\"-71.39\", depth:\"35\", mag:\"2.5\", reg:\"OFFSHORE ATACAMA, CHILE\",upd:\"1599577200\"},{evid:900883, ago:\"2hr 00min ago\", comm: \"1\", pics: \"0\", intens: \"-1\", lat:\"20.01\", lon:\"72.89\", depth:\"10\", mag:\"2.6\", reg:\"NEAR THE COAST OF GUJARAT, INDIA\",upd:\"1599577080\"},{evid:900879, ago:\"2hr 20min ago\", comm: \"0\", pics: \"0\", intens: \"-1\", lat:\"19.37\", lon:\"-155.22\", depth:\"2\", mag:\"2.0\", reg:\"ISLAND OF HAWAII, HAWAII\",upd:\"1599574680\"},{evid:900882, ago:\"2hr 29min ago\", comm: \"0\", pics: \"0\", intens: \"-1\", lat:\"17.92\", lon:\"-66.91\", depth:\"9\", mag:\"2.9\", reg:\"PUERTO RICO REGION\",upd:\"1599576180\"},{evid:900880, ago:\"2hr 32min ago\", comm: \"0\", pics: \"0\", intens: \"-1\", lat:\"16.65\", lon:\"-98.59\", depth:\"40\", mag:\"4.0\", reg:\"GUERRERO, MEXICO\",upd:\"1599574800\"},{evid:900876, ago:\"2hr 36min ago\", comm: \"0\", pics: \"0\", intens: \"-1\", lat:\"38.17\", lon:\"-117.84\", depth:\"8\", mag:\"2.0\", reg:\"NEVADA\",upd:\"1599574140\"},{evid:900886, ago:\"2hr 52min ago\", comm: \"0\", pics: \"0\", intens: \"-1\", lat:\"51.85\", lon:\"176.40\", depth:\"100\", mag:\"4.1\", reg:\"RAT ISLANDS, ALEUTIAN ISLANDS\",upd:\"1599576960\"},{evid:900877, ago:\"2hr 55min ago\", comm: \"0\", pics: \"0\", intens: \"-1\", lat:\"39.12\", lon:\"-2.94\", depth:\"10\", mag:\"2.3\", reg:\"SPAIN\",upd:\"1599577020\"},{evid:900873, ago:\"2hr 55min ago\", comm: \"0\", pics: \"0\", intens: \"-1\", lat:\"-22.67\", lon:\"-70.39\", depth:\"28\", mag:\"3.1\", reg:\"OFFSHORE ANTOFAGASTA, CHILE\",upd:\"1599573600\"},{evid:900869, ago:\"3hr 06min ago\", comm: \"0\", pics: \"0\", intens: \"-1\", lat:\"8.24\", lon:\"-83.70\", depth:\"13\", mag:\"4.8\", reg:\"COSTA RICA\",upd:\"1599573300\"},{evid:900868, ago:\"3hr 10min ago\", comm: \"0\", pics: \"0\", intens: \"-1\", lat:\"15.95\", lon:\"-96.43\", depth:\"15\", mag:\"4.0\", reg:\"OAXACA, MEXICO\",upd:\"1599572460\"},{evid:900867, ago:\"3hr 14min ago\", comm: \"2\", pics: \"0\", intens: \"0\", lat:\"38.18\", lon:\"38.66\", depth:\"10\", mag:\"4.0\", reg:\"EASTERN TURKEY\",upd:\"1599576780\"},{evid:900865, ago:\"3hr 16min ago\", comm: \"1\", pics: \"0\", intens: \"0\", lat:\"38.12\", lon:\"38.69\", depth:\"5\", mag:\"3.9\", reg:\"EASTERN TURKEY\",upd:\"1599576780\"},{evid:900866, ago:\"3hr 35min ago\", comm: \"0\", pics: \"0\", intens: \"-1\", lat:\"19.08\", lon:\"-80.16\", depth:\"10\", mag:\"4.5\", reg:\"CAYMAN ISLANDS REGION\",upd:\"1599576960\"},{evid:900847, ago:\"3hr 57min ago\", comm: \"7\", pics: \"0\", intens: \"4\", lat:\"38.17\", lon:\"38.66\", depth:\"7\", mag:\"4.2\", reg:\"EASTERN TURKEY\",upd:\"1599576720\"},{evid:900848, ago:\"4hr 00min ago\", comm: \"0\", pics: \"0\", intens: \"-1\", lat:\"38.15\", lon:\"-118.02\", depth:\"9\", mag:\"3.2\", reg:\"NEVADA\",upd:\"1599568980\"},{evid:900846, ago:\"4hr 08min ago\", comm: \"0\", pics: \"0\", intens: \"-1\", lat:\"5.85\", lon:\"126.25\", depth:\"91\", mag:\"3.1\", reg:\"MINDANAO, PHILIPPINES\",upd:\"1599568200\"},{evid:900844, ago:\"4hr 11min ago\", comm: \"0\", pics: \"0\", intens: \"-1\", lat:\"44.37\", lon:\"-115.18\", depth:\"9\", mag:\"3.5\", reg:\"SOUTHERN IDAHO\",upd:\"1599575160\"},{evid:900845, ago:\"4hr 12min ago\", comm: \"0\", pics: \"0\", intens: \"-1\", lat:\"38.13\", lon:\"38.71\", depth:\"10\", mag:\"2.3\", reg:\"EASTERN TURKEY\",upd:\"1599576840\"},{evid:900896, ago:\"4hr 15min ago\", comm: \"0\", pics: \"0\", intens: \"-1\", lat:\"17.93\", lon:\"-66.91\", depth:\"9\", mag:\"3.0\", reg:\"PUERTO RICO REGION\",upd:\"1599577860\"},{evid:900840, ago:\"4hr 25min ago\", comm: \"0\", pics: \"0\", intens: \"-1\", lat:\"19.19\", lon:\"-155.46\", depth:\"36\", mag:\"2.2\", reg:\"ISLAND OF HAWAII, HAWAII\",upd:\"1599567360\"},{evid:900895, ago:\"4hr 27min ago\", comm: \"0\", pics: \"0\", intens: \"-1\", lat:\"17.92\", lon:\"-66.91\", depth:\"10\", mag:\"2.9\", reg:\"PUERTO RICO REGION\",upd:\"1599577860\"},{evid:900875, ago:\"4hr 31min ago\", comm: \"0\", pics: \"0\", intens: \"-1\", lat:\"10.82\", lon:\"-85.51\", depth:\"3\", mag:\"3.4\", reg:\"COSTA RICA\",upd:\"1599573900\"},{evid:900838, ago:\"4hr 45min ago\", comm: \"0\", pics: \"0\", intens: \"-1\", lat:\"-32.25\", lon:\"-71.69\", depth:\"38\", mag:\"2.8\", reg:\"OFFSHORE VALPARAISO, CHILE\",upd:\"1599566520\"},{evid:900834, ago:\"5hr 32min ago\", comm: \"0\", pics: \"0\", intens: \"-1\", lat:\"18.03\", lon:\"-66.83\", depth:\"16\", mag:\"2.5\", reg:\"PUERTO RICO\",upd:\"1599563640\"},{evid:900842, ago:\"5hr 32min ago\", comm: \"0\", pics: \"0\", intens: \"-1\", lat:\"-30.88\", lon:\"177.98\", depth:\"457\", mag:\"4.0\", reg:\"NORTH OF NEW ZEALAND\",upd:\"1599567600\"},{evid:900833, ago:\"5hr 33min ago\", comm: \"0\", pics: \"0\", intens: \"-1\", lat:\"38.18\", lon:\"38.69\", depth:\"14\", mag:\"3.1\", reg:\"EASTERN TURKEY\",upd:\"1599576900\"},{evid:900828, ago:\"5hr 51min ago\", comm: \"11\", pics: \"0\", intens: \"4\", lat:\"38.16\", lon:\"38.70\", depth:\"5\", mag:\"4.7\", reg:\"EASTERN TURKEY\",upd:\"1599562800\"},{evid:900832, ago:\"6hr 01min ago\", comm: \"0\", pics: \"0\", intens: \"-1\", lat:\"17.93\", lon:\"-66.91\", depth:\"14\", mag:\"3.1\", reg:\"PUERTO RICO REGION\",upd:\"1599563160\"},{evid:900831, ago:\"6hr 09min ago\", comm: \"0\", pics: \"0\", intens: \"-1\", lat:\"43.02\", lon:\"13.54\", depth:\"24\", mag:\"2.0\", reg:\"CENTRAL ITALY\",upd:\"1599562740\"},{evid:900824, ago:\"6hr 24min ago\", comm: \"0\", pics: \"0\", intens: \"-1\", lat:\"36.65\", lon:\"28.10\", depth:\"7\", mag:\"2.0\", reg:\"DODECANESE IS.-TURKEY BORDER REG\",upd:\"1599560760\"},{evid:900822, ago:\"6hr 30min ago\", comm: \"0\", pics: \"0\", intens: \"-1\", lat:\"52.55\", lon:\"169.67\", depth:\"10\", mag:\"4.3\", reg:\"SOUTH OF ALEUTIAN ISLANDS\",upd:\"1599560580\"},{evid:900820, ago:\"6hr 34min ago\", comm: \"0\", pics: \"0\", intens: \"-1\", lat:\"12.07\", lon:\"123.99\", depth:\"28\", mag:\"3.4\", reg:\"MASBATE REGION, PHILIPPINES\",upd:\"1599560160\"},{evid:900826, ago:\"6hr 34min ago\", comm: \"0\", pics: \"0\", intens: \"-1\", lat:\"43.16\", lon:\"10.80\", depth:\"3\", mag:\"2.0\", reg:\"CENTRAL ITALY\",upd:\"1599560940\"},{evid:900818, ago:\"6hr 38min ago\", comm: \"0\", pics: \"0\", intens: \"-1\", lat:\"-1.60\", lon:\"120.52\", depth:\"10\", mag:\"3.1\", reg:\"SULAWESI, INDONESIA\",upd:\"1599559560\"},{evid:900850, ago:\"6hr 46min ago\", comm: \"0\", pics: \"0\", intens: \"-1\", lat:\"15.65\", lon:\"-95.87\", depth:\"10\", mag:\"4.0\", reg:\"OFFSHORE OAXACA, MEXICO\",upd:\"1599570060\"},{evid:900815, ago:\"6hr 52min ago\", comm: \"0\", pics: \"0\", intens: \"-1\", lat:\"1.73\", lon:\"126.68\", depth:\"10\", mag:\"4.2\", reg:\"MOLUCCA SEA\",upd:\"1599558900\"},{evid:900858, ago:\"6hr 58min ago\", comm: \"0\", pics: \"0\", intens: \"-1\", lat:\"15.54\", lon:\"-96.26\", depth:\"14\", mag:\"3.6\", reg:\"OFFSHORE OAXACA, MEXICO\",upd:\"1599570060\"},{evid:900814, ago:\"7hr 00min ago\", comm: \"0\", pics: \"0\", intens: \"-1\", lat:\"-29.45\", lon:\"-71.86\", depth:\"10\", mag:\"4.2\", reg:\"OFFSHORE COQUIMBO, CHILE\",upd:\"1599560220\"});\n",
       "\n",
       "\t\t\t\tvar tab_num_alpha=new Array({reg:false,lat:true,lon:true,mag:true,depth:true,upd:true,intens:true,comm:true,pics:true}); \n",
       "\t\t\t\t//addonload(hide_upd);\n",
       "\t\t\t</script><span onmouseout=\"info_b('notshow','','');\" onmouseover=\"info_b('show','This list of events should not be considered as complete. &lt;br /&gt;\t\t\t\tEarthquakes with smaller magnitudes are reported for the Euro-Mediterranenan region.&lt;br /&gt;\t\t\t\tThe reported locations have not been computed by the EMSC and the automatic location can be inaccurate.&lt;br /&gt;\t\t\t\tThis list is fully dynamic and the information is updated as often as necessary.&lt;br /&gt;\t\t\t\tThis is particulary the case in the very first hours following an earthquake occurence','Disclaimer');\"><a href=\"/Earthquake/?disclam=yes\">Disclaimer</a></span><script> function changeLocation(adress) { window.location.href = adress; }\n",
       "\t\t\t\t//function refreshcsem(adress,timeout) { setTimeout('changeLocation(\"'+adress+'\")',timeout*60000); }\n",
       "\t\t\t\t//if(/www/i.test(window.location.href)) refreshcsem(\"/Earthquake/?csemrefresh=true\",5);\n",
       "\t\t\t\tfunction rl(timeout) { setTimeout(function() { window.location.reload(); },  timeout*60000); }\n",
       "\t\t\t\trl(5);\n",
       "\t\t</script><script>\n",
       "var objbeta=new createEMSCWidget(\"beta1\",65,\"left\",\"POPULARITY MAP\",new Array(0,0,255),new Array(255,0,0),false); \n",
       "objbeta.W_init(\"iframe\",\"/Tools/realtimefeltmap.php?xminbefore=5&width=740&height=350\",700,420);\n",
       "</script><p> </p>\n",
       "</div><!-- End content -->\n",
       "<div class=\"clearer\"></div>\n",
       "</div><!-- End container --><div id=\"footer\"><!-- ======== PIED DE PAGE ====== -->\n",
       "<div id=\"footer2\">\n",
       "<a href=\"https://www.emsc-csem.org/faq.php\"><b>FAQ</b></a>   <a href=\"https://www.emsc-csem.org/about/\"><b>About EMSC</b></a>\n",
       "            <span id=\"mast\"></span><script type=\"text/javascript\">at(\"webmaster_0_emsc-csem_8_org\",true,\"\",\"mast\",\"If you have any comments, please contact us\");</script>            \n",
       "<a href=\"https://www.emsc-csem.org/sitemap.php\"><b>Site Map</b></a>   <a href=\"https://www.emsc-csem.org/Search/\"><b>Search</b></a><br/><br/>\n",
       "<span id=\"media\" style=\"float:left;width:50%;\">Media : <a href=\"http://twitter.com/lastquake\" target=\"_blank\"><span class=\"spriteorig sp_twitter\" title=\"twitter: @lastquake\"></span></a>  <a href=\"http://twitter.com/EMSC\" target=\"_blank\"><span class=\"spriteorig sp_twitter\" title=\"twitter: @EMSC\"></span></a>  <a href=\"http://www.facebook.com/pages/EMSC-CSEM/207151812690551?sk=wall\" target=\"_blank\"><span class=\"spriteorig sp_facebook\" title=\"facebook: EMSC-CSEM\"></span></a>  <a href=\"https://t.me/LastQuake2\" target=\"_blank\"><span style=\"display:inline-block;background:url(/Css/img/telegram-24.png) no-repeat;width:24px;height:24px;\" title=\"Telegram: LastQuake2\"></span></a>  <a href=\"https://t.me/AllQuakes2\" target=\"_blank\"><span style=\"display:inline-block;background:url(/Css/img/telegram-24.png) no-repeat;width:24px;height:24px;\" title=\"Telegram: AllQuakes2\"></span></a>  <a href=\"http://www.youtube.com/user/EuroMSC\" target=\"_blank\"><span class=\"spriteorig sp_youtube\" title=\"youtube: EuroMSC\"></span></a>\n",
       "</span>Compatibility : <span class=\"browser spriteorig sp_chrome\" title=\"chrome\"></span><span class=\"browser spriteorig sp_firefox\" title=\"firefox\"></span><span class=\"browser spriteorig sp_ie\" title=\"internet explorer\"></span><span class=\"browser spriteorig sp_opera\" title=\"opera\"></span><span class=\"browser spriteorig sp_safari\" title=\"safari\"></span><br/><br/>\n",
       "<center>© 2010 - <b><a href=\"/policy.php\">Privacy</a></b></center>\n",
       "</div></div><!-- Global site tag (gtag.js) - Google Analytics -->\n",
       "<script async=\"\" src=\"https://www.googletagmanager.com/gtag/js?id=UA-810235-1\"></script>\n",
       "<script>\n",
       "  window.dataLayer = window.dataLayer || [];\n",
       "  function gtag(){dataLayer.push(arguments);}\n",
       "  gtag('js', new Date());\n",
       "\n",
       "  gtag('config', 'UA-810235-1');\n",
       "</script>\n",
       "<!-- Start of StatCounter Code -->\n",
       "<script type=\"text/javascript\">\n",
       "\tvar sc_project=217829; \n",
       "\tvar sc_invisible=1; \n",
       "\tvar sc_security=\"\"; \n",
       "\t</script>\n",
       "<script async=\"true\" src=\"https://www.statcounter.com/counter/counter.js\" type=\"text/javascript\"></script>\n",
       "<noscript><div class=\"statcounter\" style=\"display:none;\"><a href=\"http://www.statcounter.com/\" target=\"_blank\" title=\"hit counter\"><img alt=\"hit counter\" class=\"statcounter\" src=\"https://c.statcounter.com/217829/0//1/\" style=\"width:1px;height:1px;\"/></a></div></noscript>\n",
       "<!-- End of StatCounter Code -->\n",
       "<span id=\"mesure\" style=\"visibility:hidden; white-space:nowrap;\"></span> <script> \n",
       "\t\t\n",
       "\t\tvar socketE,intervalID ;\n",
       "\t\t\n",
       "\t\tfunction conn_io() {\n",
       "\t\t\tif (typeof io == \"undefined\") \tsetTimeout(\"conn_io()\",200);\n",
       "\t\t\telse { \n",
       "\t\t\t\tvar isMobile= (/android|mobile|webos|iphone|ipad|ipod|blackberry|iemobile|opera mini/i.test(navigator.userAgent.toLowerCase()));\n",
       "\t\t\t\tvar opts={transports:[\"polling\"]};\n",
       "\t\t\t\tif(/*!isMobile &&*/ window.WebSocket) opts.transports.unshift(\"websocket\"); //opts.transports.push(\"websocket\");  //\n",
       "\t\t\t\t\t//console.log(opts.transports);  console.log(navigator.userAgent.toLowerCase());\n",
       "\t\t\t\tsocketE=io.connect(\"https://zebu-neries.emsc-csem.org/Traffic?REF=\"+escape(document.referrer),opts); \n",
       "\t\t\t\tsocketE.on(\"connect\", function () { \n",
       "\t\t\t\t\tsocketE.on(\"cookie\", function (msg) { \n",
       "\t\t\t\t\t\tconsole.log(msg); \n",
       "\t\t\t\t\t\tvar xjs=document.createElement(\"script\"); xjs.src=\"https://zebu-neries.emsc-csem.org/?addSockId=\"+msg.name+\"&value=\"+msg.value+\"&expires=\"+msg.expires; xjs.type=\"text/javascript\"; document.getElementsByTagName(\"head\")[0].appendChild(xjs);\n",
       "\t\t\t\t\t});\n",
       "\t\t\t\t});\n",
       "\t\t\t\tsocketE.on(\"banner\", function (msg) { /*console.log(msg);*/ /*if(typeof treat_quick_traffic_peak !=\"undefined\") { treat_quick_traffic_peak(JSON.parse(msg)); }*/ });\n",
       "\t\t\t\tsocketE.on(\"message\",function(mes) { console.log(mes); });\n",
       "\t\t\t}\t\n",
       "\t\t}\t\n",
       "\t//\taddonload(conn_io);\n",
       "\t\tif(typeof JSON == \"undefined\") { var xjs2=document.createElement(\"script\"); xjs2.src=\"https://www.emsc-csem.org/javascript/json2.min.js\"; xjs2.type=\"text/javascript\"; document.getElementsByTagName(\"head\")[0].appendChild(xjs2); }\n",
       "\t\t\n",
       "\t\t\n",
       "\tfunction loadWs() {\n",
       "\t\tvar d=Date.now();\n",
       "\t\t\n",
       "\t\tvar ws= new WebSocket(\"wss://www.emsc-csem.org/traffic?REF=\"+escape(document.referrer)); \n",
       "\t\tws.id=d; //console.log(\"try ws \"+ws.id);\n",
       "\n",
       "\t\tws.onopen = function() { /*setInterval(function () { ws.send(\"Test\"); console.log(\"sendTest\"); }, 12 * 60 * 1000); */   };\n",
       "\t\tws[\"banner\"]=function (msg) { \n",
       "\t\t\tif(typeof treat_quick_traffic_peak !=\"undefined\") { treat_quick_traffic_peak(msg); } \n",
       "\t\t\telse setTimeout(function() { ws.banner(msg);} , 300 );\n",
       "\t\t};\t\n",
       "\t\tws.onmessage = function (evt) { \n",
       "\t\t\tvar m=JSON.parse(evt.data); //console.log(m);\t\n",
       "\t\t\tif(m.label && m.data && ws[m.label]) ws[m.label](m.data);\n",
       "\t\t};\n",
       "\t\t\n",
       "\t\tws.onclose = function() {\n",
       "\t\t\t//console.log(\"Connection is closed...\",ws.id); console.log(arguments);\n",
       "\t\t\tsetTimeout(function() { loadWs(); }, 1000);\n",
       "\t\t};\n",
       "\t\tws.onerror = function(err) { };\n",
       "\t}\n",
       "\t(function() { loadWs(); })();\n",
       "\t\t\n",
       "\t\t\n",
       "\t\t</script>\n",
       "</body>\n",
       "</html>"
      ]
     },
     "execution_count": 104,
     "metadata": {},
     "output_type": "execute_result"
    }
   ],
   "source": [
    "# your code here\n",
    "req = requests.get(url)\n",
    "soup = BeautifulSoup(req.content)\n",
    "soup"
   ]
  },
  {
   "cell_type": "code",
   "execution_count": null,
   "metadata": {},
   "outputs": [],
   "source": []
  },
  {
   "cell_type": "markdown",
   "metadata": {},
   "source": [
    "#### List all language names and number of related articles in the order they appear in wikipedia.org."
   ]
  },
  {
   "cell_type": "code",
   "execution_count": 120,
   "metadata": {
    "ExecuteTime": {
     "end_time": "2020-09-08T17:00:49.459427Z",
     "start_time": "2020-09-08T17:00:48.653677Z"
    }
   },
   "outputs": [
    {
     "name": "stdout",
     "output_type": "stream",
     "text": [
      "['English\\n6\\xa0146\\xa0000+ articles', '日本語\\n1\\xa0224\\xa0000+ 記事', 'Español\\n1\\xa0620\\xa0000+ artículos', 'Deutsch\\n2\\xa0472\\xa0000+ Artikel', 'Français\\n2\\xa0244\\xa0000+ articles', 'Русский\\n1\\xa0654\\xa0000+ статей', 'Italiano\\n1\\xa0630\\xa0000+ voci', '中文\\n1\\xa0140\\xa0000+ 條目', 'Português\\n1\\xa0042\\xa0000+ artigos', 'Polski\\n1\\xa0424\\xa0000+ haseł']\n"
     ]
    }
   ],
   "source": [
    "# This is the url you will scrape in this exercise\n",
    "url = 'https://www.wikipedia.org/'\n",
    "\n",
    "resp = requests.get(url)\n",
    "soup = BeautifulSoup(resp.content)\n",
    "\n",
    "new_list = [a.text.strip() for a in soup.find_all('div', attrs={'central-featured-lang'})]\n",
    "#new_list = [a for a in soup.find_all('div', attrs={'central-featured-lang'})]\n",
    "\n",
    "print(new_list)\n"
   ]
  },
  {
   "cell_type": "code",
   "execution_count": null,
   "metadata": {},
   "outputs": [],
   "source": [
    "# your code here"
   ]
  },
  {
   "cell_type": "markdown",
   "metadata": {},
   "source": [
    "#### A list with the different kind of datasets available in data.gov.uk."
   ]
  },
  {
   "cell_type": "code",
   "execution_count": null,
   "metadata": {},
   "outputs": [],
   "source": [
    "# This is the url you will scrape in this exercise\n",
    "url = 'https://data.gov.uk/'"
   ]
  },
  {
   "cell_type": "code",
   "execution_count": null,
   "metadata": {},
   "outputs": [],
   "source": [
    "# your code here"
   ]
  },
  {
   "cell_type": "markdown",
   "metadata": {},
   "source": [
    "#### Display the top 10 languages by number of native speakers stored in a pandas dataframe."
   ]
  },
  {
   "cell_type": "code",
   "execution_count": null,
   "metadata": {},
   "outputs": [],
   "source": [
    "# This is the url you will scrape in this exercise\n",
    "url = 'https://en.wikipedia.org/wiki/List_of_languages_by_number_of_native_speakers'"
   ]
  },
  {
   "cell_type": "code",
   "execution_count": null,
   "metadata": {},
   "outputs": [],
   "source": [
    "# your code here"
   ]
  },
  {
   "cell_type": "markdown",
   "metadata": {},
   "source": [
    "#### Display IMDB's top 250 data (movie name, initial release, director name and stars) as a pandas dataframe."
   ]
  },
  {
   "cell_type": "code",
   "execution_count": 121,
   "metadata": {
    "ExecuteTime": {
     "end_time": "2020-09-08T17:01:11.779689Z",
     "start_time": "2020-09-08T17:01:11.776169Z"
    }
   },
   "outputs": [],
   "source": [
    "# This is the url you will scrape in this exercise \n",
    "url = 'https://www.imdb.com/chart/top'"
   ]
  },
  {
   "cell_type": "code",
   "execution_count": null,
   "metadata": {},
   "outputs": [],
   "source": [
    "# your code here"
   ]
  },
  {
   "cell_type": "markdown",
   "metadata": {},
   "source": [
    "#### Display the movie name, year and a brief summary of the top 10 random movies (IMDB) as a pandas dataframe."
   ]
  },
  {
   "cell_type": "code",
   "execution_count": null,
   "metadata": {},
   "outputs": [],
   "source": [
    "#This is the url you will scrape in this exercise\n",
    "url = 'http://www.imdb.com/chart/top'"
   ]
  },
  {
   "cell_type": "code",
   "execution_count": null,
   "metadata": {},
   "outputs": [],
   "source": [
    "# your code here"
   ]
  },
  {
   "cell_type": "markdown",
   "metadata": {},
   "source": [
    "#### Find the live weather report (temperature, wind speed, description and weather) of a given city."
   ]
  },
  {
   "cell_type": "code",
   "execution_count": null,
   "metadata": {},
   "outputs": [],
   "source": [
    "#https://openweathermap.org/current\n",
    "city = input('Enter the city: ')\n",
    "url = 'http://api.openweathermap.org/data/2.5/weather?'+'q='+city+'&APPID=b35975e18dc93725acb092f7272cc6b8&units=metric'"
   ]
  },
  {
   "cell_type": "code",
   "execution_count": null,
   "metadata": {},
   "outputs": [],
   "source": [
    "# your code here"
   ]
  },
  {
   "cell_type": "markdown",
   "metadata": {},
   "source": [
    "#### Find the book name, price and stock availability as a pandas dataframe."
   ]
  },
  {
   "cell_type": "code",
   "execution_count": null,
   "metadata": {},
   "outputs": [],
   "source": [
    "# This is the url you will scrape in this exercise. \n",
    "# It is a fictional bookstore created to be scraped. \n",
    "url = 'http://books.toscrape.com/'"
   ]
  },
  {
   "cell_type": "code",
   "execution_count": null,
   "metadata": {},
   "outputs": [],
   "source": [
    "# your code here"
   ]
  }
 ],
 "metadata": {
  "kernelspec": {
   "display_name": "Python 3",
   "language": "python",
   "name": "python3"
  },
  "language_info": {
   "codemirror_mode": {
    "name": "ipython",
    "version": 3
   },
   "file_extension": ".py",
   "mimetype": "text/x-python",
   "name": "python",
   "nbconvert_exporter": "python",
   "pygments_lexer": "ipython3",
   "version": "3.8.3"
  },
  "toc": {
   "base_numbering": 1,
   "nav_menu": {},
   "number_sections": true,
   "sideBar": true,
   "skip_h1_title": false,
   "title_cell": "Table of Contents",
   "title_sidebar": "Contents",
   "toc_cell": false,
   "toc_position": {},
   "toc_section_display": true,
   "toc_window_display": false
  },
  "varInspector": {
   "cols": {
    "lenName": 16,
    "lenType": 16,
    "lenVar": 40
   },
   "kernels_config": {
    "python": {
     "delete_cmd_postfix": "",
     "delete_cmd_prefix": "del ",
     "library": "var_list.py",
     "varRefreshCmd": "print(var_dic_list())"
    },
    "r": {
     "delete_cmd_postfix": ") ",
     "delete_cmd_prefix": "rm(",
     "library": "var_list.r",
     "varRefreshCmd": "cat(var_dic_list()) "
    }
   },
   "types_to_exclude": [
    "module",
    "function",
    "builtin_function_or_method",
    "instance",
    "_Feature"
   ],
   "window_display": false
  }
 },
 "nbformat": 4,
 "nbformat_minor": 2
}
