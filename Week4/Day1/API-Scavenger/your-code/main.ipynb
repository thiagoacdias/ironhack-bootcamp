{
 "cells": [
  {
   "cell_type": "markdown",
   "metadata": {
    "colab_type": "text",
    "id": "wn9cH2KuhPQm"
   },
   "source": [
    "# API Scavenger Game\n",
    "\n",
    "## Challenge 1: Fork Languages\n",
    "\n",
    "You will find out how many programming languages are used among all the forks created from the main lab repo of your bootcamp."
   ]
  },
  {
   "cell_type": "code",
   "execution_count": 24,
   "metadata": {
    "ExecuteTime": {
     "end_time": "2020-09-07T23:13:46.950451Z",
     "start_time": "2020-09-07T23:13:46.945468Z"
    },
    "colab": {},
    "colab_type": "code",
    "id": "CISPmeFPhPQt"
   },
   "outputs": [],
   "source": [
    "# import libraries here\n",
    "import json\n",
    "import requests\n",
    "import pandas as pd\n",
    "import datetime as dt\n"
   ]
  },
  {
   "cell_type": "markdown",
   "metadata": {
    "colab_type": "text",
    "id": "kHZG8N7hhU1w"
   },
   "source": [
    "Assuming the main lab repo is ironhack-datalabs/mad-oct-2018, you will:\n",
    "\n",
    "#### 1. Obtain the full list of forks created from the main lab repo via Github API."
   ]
  },
  {
   "cell_type": "markdown",
   "metadata": {
    "colab_type": "text",
    "id": "X6JuENLGhPQ9"
   },
   "source": [
    "To list forks, we can use the GET method. As explained in the GitHub API documentation, we need to make the request to: GET /repos/:owner/:repo/forks."
   ]
  },
  {
   "cell_type": "code",
   "execution_count": 16,
   "metadata": {
    "ExecuteTime": {
     "end_time": "2020-09-07T23:09:42.323710Z",
     "start_time": "2020-09-07T23:09:41.593745Z"
    },
    "colab": {},
    "colab_type": "code",
    "id": "II5D8CkQhPQ_"
   },
   "outputs": [
    {
     "data": {
      "text/html": [
       "<div>\n",
       "<style scoped>\n",
       "    .dataframe tbody tr th:only-of-type {\n",
       "        vertical-align: middle;\n",
       "    }\n",
       "\n",
       "    .dataframe tbody tr th {\n",
       "        vertical-align: top;\n",
       "    }\n",
       "\n",
       "    .dataframe thead th {\n",
       "        text-align: right;\n",
       "    }\n",
       "</style>\n",
       "<table border=\"1\" class=\"dataframe\">\n",
       "  <thead>\n",
       "    <tr style=\"text-align: right;\">\n",
       "      <th></th>\n",
       "      <th>id</th>\n",
       "      <th>node_id</th>\n",
       "      <th>name</th>\n",
       "      <th>full_name</th>\n",
       "      <th>private</th>\n",
       "      <th>html_url</th>\n",
       "      <th>description</th>\n",
       "      <th>fork</th>\n",
       "      <th>url</th>\n",
       "      <th>forks_url</th>\n",
       "      <th>...</th>\n",
       "      <th>owner.events_url</th>\n",
       "      <th>owner.received_events_url</th>\n",
       "      <th>owner.type</th>\n",
       "      <th>owner.site_admin</th>\n",
       "      <th>license.key</th>\n",
       "      <th>license.name</th>\n",
       "      <th>license.spdx_id</th>\n",
       "      <th>license.url</th>\n",
       "      <th>license.node_id</th>\n",
       "      <th>license</th>\n",
       "    </tr>\n",
       "  </thead>\n",
       "  <tbody>\n",
       "    <tr>\n",
       "      <th>0</th>\n",
       "      <td>290246887</td>\n",
       "      <td>MDEwOlJlcG9zaXRvcnkyOTAyNDY4ODc=</td>\n",
       "      <td>mad-oct-2018</td>\n",
       "      <td>Brunadiasmiguel/mad-oct-2018</td>\n",
       "      <td>False</td>\n",
       "      <td>https://github.com/Brunadiasmiguel/mad-oct-2018</td>\n",
       "      <td>Student labs for Ironhack data analytics bootcamp</td>\n",
       "      <td>True</td>\n",
       "      <td>https://api.github.com/repos/Brunadiasmiguel/m...</td>\n",
       "      <td>https://api.github.com/repos/Brunadiasmiguel/m...</td>\n",
       "      <td>...</td>\n",
       "      <td>https://api.github.com/users/Brunadiasmiguel/e...</td>\n",
       "      <td>https://api.github.com/users/Brunadiasmiguel/r...</td>\n",
       "      <td>User</td>\n",
       "      <td>False</td>\n",
       "      <td>unlicense</td>\n",
       "      <td>The Unlicense</td>\n",
       "      <td>Unlicense</td>\n",
       "      <td>https://api.github.com/licenses/unlicense</td>\n",
       "      <td>MDc6TGljZW5zZTE1</td>\n",
       "      <td>NaN</td>\n",
       "    </tr>\n",
       "    <tr>\n",
       "      <th>1</th>\n",
       "      <td>281180827</td>\n",
       "      <td>MDEwOlJlcG9zaXRvcnkyODExODA4Mjc=</td>\n",
       "      <td>mad-oct-2018</td>\n",
       "      <td>Spurda/mad-oct-2018</td>\n",
       "      <td>False</td>\n",
       "      <td>https://github.com/Spurda/mad-oct-2018</td>\n",
       "      <td>Student labs for Ironhack data analytics bootcamp</td>\n",
       "      <td>True</td>\n",
       "      <td>https://api.github.com/repos/Spurda/mad-oct-2018</td>\n",
       "      <td>https://api.github.com/repos/Spurda/mad-oct-20...</td>\n",
       "      <td>...</td>\n",
       "      <td>https://api.github.com/users/Spurda/events{/pr...</td>\n",
       "      <td>https://api.github.com/users/Spurda/received_e...</td>\n",
       "      <td>User</td>\n",
       "      <td>False</td>\n",
       "      <td>unlicense</td>\n",
       "      <td>The Unlicense</td>\n",
       "      <td>Unlicense</td>\n",
       "      <td>https://api.github.com/licenses/unlicense</td>\n",
       "      <td>MDc6TGljZW5zZTE1</td>\n",
       "      <td>NaN</td>\n",
       "    </tr>\n",
       "    <tr>\n",
       "      <th>2</th>\n",
       "      <td>220066216</td>\n",
       "      <td>MDEwOlJlcG9zaXRvcnkyMjAwNjYyMTY=</td>\n",
       "      <td>mad-oct-2018</td>\n",
       "      <td>ToniPons97/mad-oct-2018</td>\n",
       "      <td>False</td>\n",
       "      <td>https://github.com/ToniPons97/mad-oct-2018</td>\n",
       "      <td>Student labs for Ironhack data analytics bootcamp</td>\n",
       "      <td>True</td>\n",
       "      <td>https://api.github.com/repos/ToniPons97/mad-oc...</td>\n",
       "      <td>https://api.github.com/repos/ToniPons97/mad-oc...</td>\n",
       "      <td>...</td>\n",
       "      <td>https://api.github.com/users/ToniPons97/events...</td>\n",
       "      <td>https://api.github.com/users/ToniPons97/receiv...</td>\n",
       "      <td>User</td>\n",
       "      <td>False</td>\n",
       "      <td>unlicense</td>\n",
       "      <td>The Unlicense</td>\n",
       "      <td>Unlicense</td>\n",
       "      <td>https://api.github.com/licenses/unlicense</td>\n",
       "      <td>MDc6TGljZW5zZTE1</td>\n",
       "      <td>NaN</td>\n",
       "    </tr>\n",
       "    <tr>\n",
       "      <th>3</th>\n",
       "      <td>204100911</td>\n",
       "      <td>MDEwOlJlcG9zaXRvcnkyMDQxMDA5MTE=</td>\n",
       "      <td>mad-oct-2018</td>\n",
       "      <td>rsennes/mad-oct-2018</td>\n",
       "      <td>False</td>\n",
       "      <td>https://github.com/rsennes/mad-oct-2018</td>\n",
       "      <td>Student labs for Ironhack data analytics bootcamp</td>\n",
       "      <td>True</td>\n",
       "      <td>https://api.github.com/repos/rsennes/mad-oct-2018</td>\n",
       "      <td>https://api.github.com/repos/rsennes/mad-oct-2...</td>\n",
       "      <td>...</td>\n",
       "      <td>https://api.github.com/users/rsennes/events{/p...</td>\n",
       "      <td>https://api.github.com/users/rsennes/received_...</td>\n",
       "      <td>User</td>\n",
       "      <td>False</td>\n",
       "      <td>unlicense</td>\n",
       "      <td>The Unlicense</td>\n",
       "      <td>Unlicense</td>\n",
       "      <td>https://api.github.com/licenses/unlicense</td>\n",
       "      <td>MDc6TGljZW5zZTE1</td>\n",
       "      <td>NaN</td>\n",
       "    </tr>\n",
       "    <tr>\n",
       "      <th>4</th>\n",
       "      <td>200138127</td>\n",
       "      <td>MDEwOlJlcG9zaXRvcnkyMDAxMzgxMjc=</td>\n",
       "      <td>mad-oct-2018</td>\n",
       "      <td>gggfaria/mad-oct-2018</td>\n",
       "      <td>False</td>\n",
       "      <td>https://github.com/gggfaria/mad-oct-2018</td>\n",
       "      <td>Student labs for Ironhack data analytics bootcamp</td>\n",
       "      <td>True</td>\n",
       "      <td>https://api.github.com/repos/gggfaria/mad-oct-...</td>\n",
       "      <td>https://api.github.com/repos/gggfaria/mad-oct-...</td>\n",
       "      <td>...</td>\n",
       "      <td>https://api.github.com/users/gggfaria/events{/...</td>\n",
       "      <td>https://api.github.com/users/gggfaria/received...</td>\n",
       "      <td>User</td>\n",
       "      <td>False</td>\n",
       "      <td>unlicense</td>\n",
       "      <td>The Unlicense</td>\n",
       "      <td>Unlicense</td>\n",
       "      <td>https://api.github.com/licenses/unlicense</td>\n",
       "      <td>MDc6TGljZW5zZTE1</td>\n",
       "      <td>NaN</td>\n",
       "    </tr>\n",
       "    <tr>\n",
       "      <th>5</th>\n",
       "      <td>198273438</td>\n",
       "      <td>MDEwOlJlcG9zaXRvcnkxOTgyNzM0Mzg=</td>\n",
       "      <td>mad-oct-2018</td>\n",
       "      <td>nancyulric/mad-oct-2018</td>\n",
       "      <td>False</td>\n",
       "      <td>https://github.com/nancyulric/mad-oct-2018</td>\n",
       "      <td>Student labs for Ironhack data analytics bootcamp</td>\n",
       "      <td>True</td>\n",
       "      <td>https://api.github.com/repos/nancyulric/mad-oc...</td>\n",
       "      <td>https://api.github.com/repos/nancyulric/mad-oc...</td>\n",
       "      <td>...</td>\n",
       "      <td>https://api.github.com/users/nancyulric/events...</td>\n",
       "      <td>https://api.github.com/users/nancyulric/receiv...</td>\n",
       "      <td>User</td>\n",
       "      <td>False</td>\n",
       "      <td>unlicense</td>\n",
       "      <td>The Unlicense</td>\n",
       "      <td>Unlicense</td>\n",
       "      <td>https://api.github.com/licenses/unlicense</td>\n",
       "      <td>MDc6TGljZW5zZTE1</td>\n",
       "      <td>NaN</td>\n",
       "    </tr>\n",
       "    <tr>\n",
       "      <th>6</th>\n",
       "      <td>167001044</td>\n",
       "      <td>MDEwOlJlcG9zaXRvcnkxNjcwMDEwNDQ=</td>\n",
       "      <td>datamad0119</td>\n",
       "      <td>lmartinezruizit/datamad0119</td>\n",
       "      <td>False</td>\n",
       "      <td>https://github.com/lmartinezruizit/datamad0119</td>\n",
       "      <td>Student labs for Ironhack data analytics bootcamp</td>\n",
       "      <td>True</td>\n",
       "      <td>https://api.github.com/repos/lmartinezruizit/d...</td>\n",
       "      <td>https://api.github.com/repos/lmartinezruizit/d...</td>\n",
       "      <td>...</td>\n",
       "      <td>https://api.github.com/users/lmartinezruizit/e...</td>\n",
       "      <td>https://api.github.com/users/lmartinezruizit/r...</td>\n",
       "      <td>User</td>\n",
       "      <td>False</td>\n",
       "      <td>unlicense</td>\n",
       "      <td>The Unlicense</td>\n",
       "      <td>Unlicense</td>\n",
       "      <td>https://api.github.com/licenses/unlicense</td>\n",
       "      <td>MDc6TGljZW5zZTE1</td>\n",
       "      <td>NaN</td>\n",
       "    </tr>\n",
       "    <tr>\n",
       "      <th>7</th>\n",
       "      <td>162498469</td>\n",
       "      <td>MDEwOlJlcG9zaXRvcnkxNjI0OTg0Njk=</td>\n",
       "      <td>madrid-oct-2018</td>\n",
       "      <td>eye8/madrid-oct-2018</td>\n",
       "      <td>False</td>\n",
       "      <td>https://github.com/eye8/madrid-oct-2018</td>\n",
       "      <td>Student labs for Ironhack's very first Data An...</td>\n",
       "      <td>True</td>\n",
       "      <td>https://api.github.com/repos/eye8/madrid-oct-2018</td>\n",
       "      <td>https://api.github.com/repos/eye8/madrid-oct-2...</td>\n",
       "      <td>...</td>\n",
       "      <td>https://api.github.com/users/eye8/events{/priv...</td>\n",
       "      <td>https://api.github.com/users/eye8/received_events</td>\n",
       "      <td>User</td>\n",
       "      <td>False</td>\n",
       "      <td>unlicense</td>\n",
       "      <td>The Unlicense</td>\n",
       "      <td>Unlicense</td>\n",
       "      <td>https://api.github.com/licenses/unlicense</td>\n",
       "      <td>MDc6TGljZW5zZTE1</td>\n",
       "      <td>NaN</td>\n",
       "    </tr>\n",
       "    <tr>\n",
       "      <th>8</th>\n",
       "      <td>154625001</td>\n",
       "      <td>MDEwOlJlcG9zaXRvcnkxNTQ2MjUwMDE=</td>\n",
       "      <td>madrid-oct-2018</td>\n",
       "      <td>ArieHassan/madrid-oct-2018</td>\n",
       "      <td>False</td>\n",
       "      <td>https://github.com/ArieHassan/madrid-oct-2018</td>\n",
       "      <td>Student labs for Ironhack's very first Data An...</td>\n",
       "      <td>True</td>\n",
       "      <td>https://api.github.com/repos/ArieHassan/madrid...</td>\n",
       "      <td>https://api.github.com/repos/ArieHassan/madrid...</td>\n",
       "      <td>...</td>\n",
       "      <td>https://api.github.com/users/ArieHassan/events...</td>\n",
       "      <td>https://api.github.com/users/ArieHassan/receiv...</td>\n",
       "      <td>User</td>\n",
       "      <td>False</td>\n",
       "      <td>unlicense</td>\n",
       "      <td>The Unlicense</td>\n",
       "      <td>Unlicense</td>\n",
       "      <td>https://api.github.com/licenses/unlicense</td>\n",
       "      <td>MDc6TGljZW5zZTE1</td>\n",
       "      <td>NaN</td>\n",
       "    </tr>\n",
       "    <tr>\n",
       "      <th>9</th>\n",
       "      <td>154291113</td>\n",
       "      <td>MDEwOlJlcG9zaXRvcnkxNTQyOTExMTM=</td>\n",
       "      <td>madrid-oct-2018</td>\n",
       "      <td>cmvalma/madrid-oct-2018</td>\n",
       "      <td>False</td>\n",
       "      <td>https://github.com/cmvalma/madrid-oct-2018</td>\n",
       "      <td>None</td>\n",
       "      <td>True</td>\n",
       "      <td>https://api.github.com/repos/cmvalma/madrid-oc...</td>\n",
       "      <td>https://api.github.com/repos/cmvalma/madrid-oc...</td>\n",
       "      <td>...</td>\n",
       "      <td>https://api.github.com/users/cmvalma/events{/p...</td>\n",
       "      <td>https://api.github.com/users/cmvalma/received_...</td>\n",
       "      <td>User</td>\n",
       "      <td>False</td>\n",
       "      <td>unlicense</td>\n",
       "      <td>The Unlicense</td>\n",
       "      <td>Unlicense</td>\n",
       "      <td>https://api.github.com/licenses/unlicense</td>\n",
       "      <td>MDc6TGljZW5zZTE1</td>\n",
       "      <td>NaN</td>\n",
       "    </tr>\n",
       "  </tbody>\n",
       "</table>\n",
       "<p>10 rows × 95 columns</p>\n",
       "</div>"
      ],
      "text/plain": [
       "          id                           node_id             name  \\\n",
       "0  290246887  MDEwOlJlcG9zaXRvcnkyOTAyNDY4ODc=     mad-oct-2018   \n",
       "1  281180827  MDEwOlJlcG9zaXRvcnkyODExODA4Mjc=     mad-oct-2018   \n",
       "2  220066216  MDEwOlJlcG9zaXRvcnkyMjAwNjYyMTY=     mad-oct-2018   \n",
       "3  204100911  MDEwOlJlcG9zaXRvcnkyMDQxMDA5MTE=     mad-oct-2018   \n",
       "4  200138127  MDEwOlJlcG9zaXRvcnkyMDAxMzgxMjc=     mad-oct-2018   \n",
       "5  198273438  MDEwOlJlcG9zaXRvcnkxOTgyNzM0Mzg=     mad-oct-2018   \n",
       "6  167001044  MDEwOlJlcG9zaXRvcnkxNjcwMDEwNDQ=      datamad0119   \n",
       "7  162498469  MDEwOlJlcG9zaXRvcnkxNjI0OTg0Njk=  madrid-oct-2018   \n",
       "8  154625001  MDEwOlJlcG9zaXRvcnkxNTQ2MjUwMDE=  madrid-oct-2018   \n",
       "9  154291113  MDEwOlJlcG9zaXRvcnkxNTQyOTExMTM=  madrid-oct-2018   \n",
       "\n",
       "                      full_name  private  \\\n",
       "0  Brunadiasmiguel/mad-oct-2018    False   \n",
       "1           Spurda/mad-oct-2018    False   \n",
       "2       ToniPons97/mad-oct-2018    False   \n",
       "3          rsennes/mad-oct-2018    False   \n",
       "4         gggfaria/mad-oct-2018    False   \n",
       "5       nancyulric/mad-oct-2018    False   \n",
       "6   lmartinezruizit/datamad0119    False   \n",
       "7          eye8/madrid-oct-2018    False   \n",
       "8    ArieHassan/madrid-oct-2018    False   \n",
       "9       cmvalma/madrid-oct-2018    False   \n",
       "\n",
       "                                          html_url  \\\n",
       "0  https://github.com/Brunadiasmiguel/mad-oct-2018   \n",
       "1           https://github.com/Spurda/mad-oct-2018   \n",
       "2       https://github.com/ToniPons97/mad-oct-2018   \n",
       "3          https://github.com/rsennes/mad-oct-2018   \n",
       "4         https://github.com/gggfaria/mad-oct-2018   \n",
       "5       https://github.com/nancyulric/mad-oct-2018   \n",
       "6   https://github.com/lmartinezruizit/datamad0119   \n",
       "7          https://github.com/eye8/madrid-oct-2018   \n",
       "8    https://github.com/ArieHassan/madrid-oct-2018   \n",
       "9       https://github.com/cmvalma/madrid-oct-2018   \n",
       "\n",
       "                                         description  fork  \\\n",
       "0  Student labs for Ironhack data analytics bootcamp  True   \n",
       "1  Student labs for Ironhack data analytics bootcamp  True   \n",
       "2  Student labs for Ironhack data analytics bootcamp  True   \n",
       "3  Student labs for Ironhack data analytics bootcamp  True   \n",
       "4  Student labs for Ironhack data analytics bootcamp  True   \n",
       "5  Student labs for Ironhack data analytics bootcamp  True   \n",
       "6  Student labs for Ironhack data analytics bootcamp  True   \n",
       "7  Student labs for Ironhack's very first Data An...  True   \n",
       "8  Student labs for Ironhack's very first Data An...  True   \n",
       "9                                               None  True   \n",
       "\n",
       "                                                 url  \\\n",
       "0  https://api.github.com/repos/Brunadiasmiguel/m...   \n",
       "1   https://api.github.com/repos/Spurda/mad-oct-2018   \n",
       "2  https://api.github.com/repos/ToniPons97/mad-oc...   \n",
       "3  https://api.github.com/repos/rsennes/mad-oct-2018   \n",
       "4  https://api.github.com/repos/gggfaria/mad-oct-...   \n",
       "5  https://api.github.com/repos/nancyulric/mad-oc...   \n",
       "6  https://api.github.com/repos/lmartinezruizit/d...   \n",
       "7  https://api.github.com/repos/eye8/madrid-oct-2018   \n",
       "8  https://api.github.com/repos/ArieHassan/madrid...   \n",
       "9  https://api.github.com/repos/cmvalma/madrid-oc...   \n",
       "\n",
       "                                           forks_url  ...  \\\n",
       "0  https://api.github.com/repos/Brunadiasmiguel/m...  ...   \n",
       "1  https://api.github.com/repos/Spurda/mad-oct-20...  ...   \n",
       "2  https://api.github.com/repos/ToniPons97/mad-oc...  ...   \n",
       "3  https://api.github.com/repos/rsennes/mad-oct-2...  ...   \n",
       "4  https://api.github.com/repos/gggfaria/mad-oct-...  ...   \n",
       "5  https://api.github.com/repos/nancyulric/mad-oc...  ...   \n",
       "6  https://api.github.com/repos/lmartinezruizit/d...  ...   \n",
       "7  https://api.github.com/repos/eye8/madrid-oct-2...  ...   \n",
       "8  https://api.github.com/repos/ArieHassan/madrid...  ...   \n",
       "9  https://api.github.com/repos/cmvalma/madrid-oc...  ...   \n",
       "\n",
       "                                    owner.events_url  \\\n",
       "0  https://api.github.com/users/Brunadiasmiguel/e...   \n",
       "1  https://api.github.com/users/Spurda/events{/pr...   \n",
       "2  https://api.github.com/users/ToniPons97/events...   \n",
       "3  https://api.github.com/users/rsennes/events{/p...   \n",
       "4  https://api.github.com/users/gggfaria/events{/...   \n",
       "5  https://api.github.com/users/nancyulric/events...   \n",
       "6  https://api.github.com/users/lmartinezruizit/e...   \n",
       "7  https://api.github.com/users/eye8/events{/priv...   \n",
       "8  https://api.github.com/users/ArieHassan/events...   \n",
       "9  https://api.github.com/users/cmvalma/events{/p...   \n",
       "\n",
       "                           owner.received_events_url owner.type  \\\n",
       "0  https://api.github.com/users/Brunadiasmiguel/r...       User   \n",
       "1  https://api.github.com/users/Spurda/received_e...       User   \n",
       "2  https://api.github.com/users/ToniPons97/receiv...       User   \n",
       "3  https://api.github.com/users/rsennes/received_...       User   \n",
       "4  https://api.github.com/users/gggfaria/received...       User   \n",
       "5  https://api.github.com/users/nancyulric/receiv...       User   \n",
       "6  https://api.github.com/users/lmartinezruizit/r...       User   \n",
       "7  https://api.github.com/users/eye8/received_events       User   \n",
       "8  https://api.github.com/users/ArieHassan/receiv...       User   \n",
       "9  https://api.github.com/users/cmvalma/received_...       User   \n",
       "\n",
       "  owner.site_admin license.key   license.name license.spdx_id  \\\n",
       "0            False   unlicense  The Unlicense       Unlicense   \n",
       "1            False   unlicense  The Unlicense       Unlicense   \n",
       "2            False   unlicense  The Unlicense       Unlicense   \n",
       "3            False   unlicense  The Unlicense       Unlicense   \n",
       "4            False   unlicense  The Unlicense       Unlicense   \n",
       "5            False   unlicense  The Unlicense       Unlicense   \n",
       "6            False   unlicense  The Unlicense       Unlicense   \n",
       "7            False   unlicense  The Unlicense       Unlicense   \n",
       "8            False   unlicense  The Unlicense       Unlicense   \n",
       "9            False   unlicense  The Unlicense       Unlicense   \n",
       "\n",
       "                                 license.url   license.node_id license  \n",
       "0  https://api.github.com/licenses/unlicense  MDc6TGljZW5zZTE1     NaN  \n",
       "1  https://api.github.com/licenses/unlicense  MDc6TGljZW5zZTE1     NaN  \n",
       "2  https://api.github.com/licenses/unlicense  MDc6TGljZW5zZTE1     NaN  \n",
       "3  https://api.github.com/licenses/unlicense  MDc6TGljZW5zZTE1     NaN  \n",
       "4  https://api.github.com/licenses/unlicense  MDc6TGljZW5zZTE1     NaN  \n",
       "5  https://api.github.com/licenses/unlicense  MDc6TGljZW5zZTE1     NaN  \n",
       "6  https://api.github.com/licenses/unlicense  MDc6TGljZW5zZTE1     NaN  \n",
       "7  https://api.github.com/licenses/unlicense  MDc6TGljZW5zZTE1     NaN  \n",
       "8  https://api.github.com/licenses/unlicense  MDc6TGljZW5zZTE1     NaN  \n",
       "9  https://api.github.com/licenses/unlicense  MDc6TGljZW5zZTE1     NaN  \n",
       "\n",
       "[10 rows x 95 columns]"
      ]
     },
     "execution_count": 16,
     "metadata": {},
     "output_type": "execute_result"
    }
   ],
   "source": [
    "# your code here\n",
    "str_owner = 'ironhack-datalabs'\n",
    "str_repo = 'mad-oct-2018'\n",
    "\n",
    "resp = requests.get(f'https://api.github.com/repos/{str_owner}/{str_repo}/forks')\n",
    "\n",
    "data = pd.json_normalize(resp.json())\n",
    "data.head(10)"
   ]
  },
  {
   "cell_type": "code",
   "execution_count": 17,
   "metadata": {
    "ExecuteTime": {
     "end_time": "2020-09-07T23:11:06.351237Z",
     "start_time": "2020-09-07T23:11:06.337273Z"
    }
   },
   "outputs": [
    {
     "data": {
      "text/plain": [
       "Index(['id', 'node_id', 'name', 'full_name', 'private', 'html_url',\n",
       "       'description', 'fork', 'url', 'forks_url', 'keys_url',\n",
       "       'collaborators_url', 'teams_url', 'hooks_url', 'issue_events_url',\n",
       "       'events_url', 'assignees_url', 'branches_url', 'tags_url', 'blobs_url',\n",
       "       'git_tags_url', 'git_refs_url', 'trees_url', 'statuses_url',\n",
       "       'languages_url', 'stargazers_url', 'contributors_url',\n",
       "       'subscribers_url', 'subscription_url', 'commits_url', 'git_commits_url',\n",
       "       'comments_url', 'issue_comment_url', 'contents_url', 'compare_url',\n",
       "       'merges_url', 'archive_url', 'downloads_url', 'issues_url', 'pulls_url',\n",
       "       'milestones_url', 'notifications_url', 'labels_url', 'releases_url',\n",
       "       'deployments_url', 'created_at', 'updated_at', 'pushed_at', 'git_url',\n",
       "       'ssh_url', 'clone_url', 'svn_url', 'homepage', 'size',\n",
       "       'stargazers_count', 'watchers_count', 'language', 'has_issues',\n",
       "       'has_projects', 'has_downloads', 'has_wiki', 'has_pages', 'forks_count',\n",
       "       'mirror_url', 'archived', 'disabled', 'open_issues_count', 'forks',\n",
       "       'open_issues', 'watchers', 'default_branch', 'owner.login', 'owner.id',\n",
       "       'owner.node_id', 'owner.avatar_url', 'owner.gravatar_id', 'owner.url',\n",
       "       'owner.html_url', 'owner.followers_url', 'owner.following_url',\n",
       "       'owner.gists_url', 'owner.starred_url', 'owner.subscriptions_url',\n",
       "       'owner.organizations_url', 'owner.repos_url', 'owner.events_url',\n",
       "       'owner.received_events_url', 'owner.type', 'owner.site_admin',\n",
       "       'license.key', 'license.name', 'license.spdx_id', 'license.url',\n",
       "       'license.node_id', 'license'],\n",
       "      dtype='object')"
      ]
     },
     "execution_count": 17,
     "metadata": {},
     "output_type": "execute_result"
    }
   ],
   "source": [
    "data.columns"
   ]
  },
  {
   "cell_type": "markdown",
   "metadata": {
    "colab_type": "text",
    "id": "ZMyRu0p6hPRI"
   },
   "source": [
    "#### 2. Loop the JSON response to find out the language attribute of each fork. Use an array to store the language attributes of each fork.\n",
    "Hint: Each language should appear only once in your array.\n",
    "Print the language array. It should be something like: [\"Python\", \"Jupyter Notebook\", \"HTML\"]"
   ]
  },
  {
   "cell_type": "code",
   "execution_count": 19,
   "metadata": {
    "ExecuteTime": {
     "end_time": "2020-09-07T23:11:33.826703Z",
     "start_time": "2020-09-07T23:11:33.820683Z"
    },
    "colab": {},
    "colab_type": "code",
    "id": "2UwZRhw4hPRL"
   },
   "outputs": [
    {
     "data": {
      "text/plain": [
       "{'HTML', 'Jupyter Notebook', None}"
      ]
     },
     "execution_count": 19,
     "metadata": {},
     "output_type": "execute_result"
    }
   ],
   "source": [
    "# your code here\n",
    "results = set(data['language'])\n",
    "results"
   ]
  },
  {
   "cell_type": "markdown",
   "metadata": {
    "colab_type": "text",
    "id": "uWWh1AbLhPRU"
   },
   "source": [
    "## Challenge 2: Count Commits\n",
    "Count how many commits were made in the month of january of 2019.\n",
    "\n",
    "Hints: \n",
    "- https://developer.github.com/v3/repos/commits/#list-commits-on-a-repository\n",
    "\n",
    "- GET /repos/:owner/:repo/commits\n",
    "\n",
    "#### 1. Obtain all the commits made in January 2019 via API, which is a JSON array that contains multiple commit objects."
   ]
  },
  {
   "cell_type": "code",
   "execution_count": 23,
   "metadata": {
    "ExecuteTime": {
     "end_time": "2020-09-07T23:13:03.838036Z",
     "start_time": "2020-09-07T23:13:03.830056Z"
    }
   },
   "outputs": [
    {
     "data": {
      "text/plain": [
       "{'2018-11-26T08:05:58Z',\n",
       " '2018-12-05T16:03:33Z',\n",
       " '2018-12-08T20:38:41Z',\n",
       " '2018-12-09T10:29:50Z',\n",
       " '2018-12-09T18:51:54Z',\n",
       " '2018-12-10T15:52:37Z',\n",
       " '2018-12-10T16:51:00Z',\n",
       " '2018-12-19T22:45:49Z',\n",
       " '2019-01-22T08:34:08Z',\n",
       " '2019-03-07T15:49:17Z',\n",
       " '2019-05-07T20:07:20Z',\n",
       " '2019-08-19T11:16:55Z',\n",
       " '2019-08-20T14:07:28Z'}"
      ]
     },
     "execution_count": 23,
     "metadata": {},
     "output_type": "execute_result"
    }
   ],
   "source": [
    "set(data['pushed_at'])"
   ]
  },
  {
   "cell_type": "code",
   "execution_count": 34,
   "metadata": {
    "ExecuteTime": {
     "end_time": "2020-09-07T23:18:13.590271Z",
     "start_time": "2020-09-07T23:18:13.583753Z"
    },
    "colab": {},
    "colab_type": "code",
    "id": "fvBVJbQvhPRW"
   },
   "outputs": [],
   "source": [
    "# your code here\n",
    "data['pushed_at'] = pd.to_datetime(data['pushed_at'], errors='coerce')\n",
    "data['month_pushed'] = data['pushed_at'].dt.strftime('%B %Y')"
   ]
  },
  {
   "cell_type": "code",
   "execution_count": 37,
   "metadata": {
    "ExecuteTime": {
     "end_time": "2020-09-07T23:18:43.945761Z",
     "start_time": "2020-09-07T23:18:43.897895Z"
    }
   },
   "outputs": [
    {
     "data": {
      "text/html": [
       "<div>\n",
       "<style scoped>\n",
       "    .dataframe tbody tr th:only-of-type {\n",
       "        vertical-align: middle;\n",
       "    }\n",
       "\n",
       "    .dataframe tbody tr th {\n",
       "        vertical-align: top;\n",
       "    }\n",
       "\n",
       "    .dataframe thead th {\n",
       "        text-align: right;\n",
       "    }\n",
       "</style>\n",
       "<table border=\"1\" class=\"dataframe\">\n",
       "  <thead>\n",
       "    <tr style=\"text-align: right;\">\n",
       "      <th></th>\n",
       "      <th>id</th>\n",
       "      <th>node_id</th>\n",
       "      <th>name</th>\n",
       "      <th>full_name</th>\n",
       "      <th>private</th>\n",
       "      <th>html_url</th>\n",
       "      <th>description</th>\n",
       "      <th>fork</th>\n",
       "      <th>url</th>\n",
       "      <th>forks_url</th>\n",
       "      <th>...</th>\n",
       "      <th>owner.received_events_url</th>\n",
       "      <th>owner.type</th>\n",
       "      <th>owner.site_admin</th>\n",
       "      <th>license.key</th>\n",
       "      <th>license.name</th>\n",
       "      <th>license.spdx_id</th>\n",
       "      <th>license.url</th>\n",
       "      <th>license.node_id</th>\n",
       "      <th>license</th>\n",
       "      <th>month_pushed</th>\n",
       "    </tr>\n",
       "  </thead>\n",
       "  <tbody>\n",
       "    <tr>\n",
       "      <th>6</th>\n",
       "      <td>167001044</td>\n",
       "      <td>MDEwOlJlcG9zaXRvcnkxNjcwMDEwNDQ=</td>\n",
       "      <td>datamad0119</td>\n",
       "      <td>lmartinezruizit/datamad0119</td>\n",
       "      <td>False</td>\n",
       "      <td>https://github.com/lmartinezruizit/datamad0119</td>\n",
       "      <td>Student labs for Ironhack data analytics bootcamp</td>\n",
       "      <td>True</td>\n",
       "      <td>https://api.github.com/repos/lmartinezruizit/d...</td>\n",
       "      <td>https://api.github.com/repos/lmartinezruizit/d...</td>\n",
       "      <td>...</td>\n",
       "      <td>https://api.github.com/users/lmartinezruizit/r...</td>\n",
       "      <td>User</td>\n",
       "      <td>False</td>\n",
       "      <td>unlicense</td>\n",
       "      <td>The Unlicense</td>\n",
       "      <td>Unlicense</td>\n",
       "      <td>https://api.github.com/licenses/unlicense</td>\n",
       "      <td>MDc6TGljZW5zZTE1</td>\n",
       "      <td>NaN</td>\n",
       "      <td>January 2019</td>\n",
       "    </tr>\n",
       "  </tbody>\n",
       "</table>\n",
       "<p>1 rows × 96 columns</p>\n",
       "</div>"
      ],
      "text/plain": [
       "          id                           node_id         name  \\\n",
       "6  167001044  MDEwOlJlcG9zaXRvcnkxNjcwMDEwNDQ=  datamad0119   \n",
       "\n",
       "                     full_name  private  \\\n",
       "6  lmartinezruizit/datamad0119    False   \n",
       "\n",
       "                                         html_url  \\\n",
       "6  https://github.com/lmartinezruizit/datamad0119   \n",
       "\n",
       "                                         description  fork  \\\n",
       "6  Student labs for Ironhack data analytics bootcamp  True   \n",
       "\n",
       "                                                 url  \\\n",
       "6  https://api.github.com/repos/lmartinezruizit/d...   \n",
       "\n",
       "                                           forks_url  ...  \\\n",
       "6  https://api.github.com/repos/lmartinezruizit/d...  ...   \n",
       "\n",
       "                           owner.received_events_url owner.type  \\\n",
       "6  https://api.github.com/users/lmartinezruizit/r...       User   \n",
       "\n",
       "  owner.site_admin license.key   license.name license.spdx_id  \\\n",
       "6            False   unlicense  The Unlicense       Unlicense   \n",
       "\n",
       "                                 license.url   license.node_id license  \\\n",
       "6  https://api.github.com/licenses/unlicense  MDc6TGljZW5zZTE1     NaN   \n",
       "\n",
       "   month_pushed  \n",
       "6  January 2019  \n",
       "\n",
       "[1 rows x 96 columns]"
      ]
     },
     "execution_count": 37,
     "metadata": {},
     "output_type": "execute_result"
    }
   ],
   "source": [
    "data_filtered = data[data['month_pushed'] == 'January 2019']\n",
    "data_filtered"
   ]
  },
  {
   "cell_type": "markdown",
   "metadata": {
    "colab_type": "text",
    "id": "cp1aYfRShPRb"
   },
   "source": [
    "#### 2. Count how many commit objects are contained in the array."
   ]
  },
  {
   "cell_type": "code",
   "execution_count": 38,
   "metadata": {
    "ExecuteTime": {
     "end_time": "2020-09-07T23:19:04.298267Z",
     "start_time": "2020-09-07T23:19:04.287296Z"
    },
    "colab": {},
    "colab_type": "code",
    "id": "guNZQxx4hPTT"
   },
   "outputs": [
    {
     "data": {
      "text/plain": [
       "1"
      ]
     },
     "execution_count": 38,
     "metadata": {},
     "output_type": "execute_result"
    }
   ],
   "source": [
    "# your code here\n",
    "len(data_filtered)"
   ]
  },
  {
   "cell_type": "markdown",
   "metadata": {
    "colab_type": "text",
    "id": "cr6YdvCvhPTZ"
   },
   "source": [
    "## Challenge 3: Hidden Cold Joke\n",
    "\n",
    "Using Python, call Github API to find out the cold joke contained in the 24 secret files in the following repo:\n",
    "\n",
    "https://github.com/ironhack-datalabs/scavenger\n",
    "\n",
    "The filenames of the secret files contain .scavengerhunt and they are scattered in different directories of this repo. The secret files are named from .0001.scavengerhunt to .0024.scavengerhunt. They are scattered randomly throughout this repo. You need to search for these files by calling the Github API, not searching the local files on your computer.\n",
    "\n",
    "#### 1. Find the secret files."
   ]
  },
  {
   "cell_type": "code",
   "execution_count": 44,
   "metadata": {
    "ExecuteTime": {
     "end_time": "2020-09-07T23:26:24.694356Z",
     "start_time": "2020-09-07T23:26:24.063919Z"
    },
    "colab": {},
    "colab_type": "code",
    "id": "96VAucMUhPTb"
   },
   "outputs": [
    {
     "data": {
      "text/html": [
       "<div>\n",
       "<style scoped>\n",
       "    .dataframe tbody tr th:only-of-type {\n",
       "        vertical-align: middle;\n",
       "    }\n",
       "\n",
       "    .dataframe tbody tr th {\n",
       "        vertical-align: top;\n",
       "    }\n",
       "\n",
       "    .dataframe thead th {\n",
       "        text-align: right;\n",
       "    }\n",
       "</style>\n",
       "<table border=\"1\" class=\"dataframe\">\n",
       "  <thead>\n",
       "    <tr style=\"text-align: right;\">\n",
       "      <th></th>\n",
       "      <th>sha</th>\n",
       "      <th>node_id</th>\n",
       "      <th>url</th>\n",
       "      <th>html_url</th>\n",
       "      <th>comments_url</th>\n",
       "      <th>parents</th>\n",
       "      <th>commit.author.name</th>\n",
       "      <th>commit.author.email</th>\n",
       "      <th>commit.author.date</th>\n",
       "      <th>commit.committer.name</th>\n",
       "      <th>...</th>\n",
       "      <th>committer.following_url</th>\n",
       "      <th>committer.gists_url</th>\n",
       "      <th>committer.starred_url</th>\n",
       "      <th>committer.subscriptions_url</th>\n",
       "      <th>committer.organizations_url</th>\n",
       "      <th>committer.repos_url</th>\n",
       "      <th>committer.events_url</th>\n",
       "      <th>committer.received_events_url</th>\n",
       "      <th>committer.type</th>\n",
       "      <th>committer.site_admin</th>\n",
       "    </tr>\n",
       "  </thead>\n",
       "  <tbody>\n",
       "    <tr>\n",
       "      <th>0</th>\n",
       "      <td>9308ccc8a4c34c5e3a991ee815222a9691c32476</td>\n",
       "      <td>MDY6Q29tbWl0MTYyMzc1MTgxOjkzMDhjY2M4YTRjMzRjNW...</td>\n",
       "      <td>https://api.github.com/repos/ironhack-datalabs...</td>\n",
       "      <td>https://github.com/ironhack-datalabs/scavenger...</td>\n",
       "      <td>https://api.github.com/repos/ironhack-datalabs...</td>\n",
       "      <td>[]</td>\n",
       "      <td>Zhou Zhou</td>\n",
       "      <td>zhou.eye8@gmail.com</td>\n",
       "      <td>2018-12-19T03:03:57Z</td>\n",
       "      <td>Zhou Zhou</td>\n",
       "      <td>...</td>\n",
       "      <td>https://api.github.com/users/eye8/following{/o...</td>\n",
       "      <td>https://api.github.com/users/eye8/gists{/gist_id}</td>\n",
       "      <td>https://api.github.com/users/eye8/starred{/own...</td>\n",
       "      <td>https://api.github.com/users/eye8/subscriptions</td>\n",
       "      <td>https://api.github.com/users/eye8/orgs</td>\n",
       "      <td>https://api.github.com/users/eye8/repos</td>\n",
       "      <td>https://api.github.com/users/eye8/events{/priv...</td>\n",
       "      <td>https://api.github.com/users/eye8/received_events</td>\n",
       "      <td>User</td>\n",
       "      <td>False</td>\n",
       "    </tr>\n",
       "  </tbody>\n",
       "</table>\n",
       "<p>1 rows × 57 columns</p>\n",
       "</div>"
      ],
      "text/plain": [
       "                                        sha  \\\n",
       "0  9308ccc8a4c34c5e3a991ee815222a9691c32476   \n",
       "\n",
       "                                             node_id  \\\n",
       "0  MDY6Q29tbWl0MTYyMzc1MTgxOjkzMDhjY2M4YTRjMzRjNW...   \n",
       "\n",
       "                                                 url  \\\n",
       "0  https://api.github.com/repos/ironhack-datalabs...   \n",
       "\n",
       "                                            html_url  \\\n",
       "0  https://github.com/ironhack-datalabs/scavenger...   \n",
       "\n",
       "                                        comments_url parents  \\\n",
       "0  https://api.github.com/repos/ironhack-datalabs...      []   \n",
       "\n",
       "  commit.author.name  commit.author.email    commit.author.date  \\\n",
       "0          Zhou Zhou  zhou.eye8@gmail.com  2018-12-19T03:03:57Z   \n",
       "\n",
       "  commit.committer.name  ...  \\\n",
       "0             Zhou Zhou  ...   \n",
       "\n",
       "                             committer.following_url  \\\n",
       "0  https://api.github.com/users/eye8/following{/o...   \n",
       "\n",
       "                                 committer.gists_url  \\\n",
       "0  https://api.github.com/users/eye8/gists{/gist_id}   \n",
       "\n",
       "                               committer.starred_url  \\\n",
       "0  https://api.github.com/users/eye8/starred{/own...   \n",
       "\n",
       "                       committer.subscriptions_url  \\\n",
       "0  https://api.github.com/users/eye8/subscriptions   \n",
       "\n",
       "              committer.organizations_url  \\\n",
       "0  https://api.github.com/users/eye8/orgs   \n",
       "\n",
       "                       committer.repos_url  \\\n",
       "0  https://api.github.com/users/eye8/repos   \n",
       "\n",
       "                                committer.events_url  \\\n",
       "0  https://api.github.com/users/eye8/events{/priv...   \n",
       "\n",
       "                       committer.received_events_url committer.type  \\\n",
       "0  https://api.github.com/users/eye8/received_events           User   \n",
       "\n",
       "  committer.site_admin  \n",
       "0                False  \n",
       "\n",
       "[1 rows x 57 columns]"
      ]
     },
     "execution_count": 44,
     "metadata": {},
     "output_type": "execute_result"
    }
   ],
   "source": [
    "# your code here\n",
    "str_owner = 'ironhack-datalabs'\n",
    "str_repo = 'scavenger'\n",
    "\n",
    "resp = requests.get(f'https://api.github.com/repos/{str_owner}/{str_repo}/commits')\n",
    "\n",
    "data = pd.json_normalize(resp.json())\n",
    "data.head(10)"
   ]
  },
  {
   "cell_type": "code",
   "execution_count": 56,
   "metadata": {
    "ExecuteTime": {
     "end_time": "2020-09-07T23:35:30.548789Z",
     "start_time": "2020-09-07T23:35:30.023064Z"
    }
   },
   "outputs": [
    {
     "data": {
      "text/html": [
       "<div>\n",
       "<style scoped>\n",
       "    .dataframe tbody tr th:only-of-type {\n",
       "        vertical-align: middle;\n",
       "    }\n",
       "\n",
       "    .dataframe tbody tr th {\n",
       "        vertical-align: top;\n",
       "    }\n",
       "\n",
       "    .dataframe thead th {\n",
       "        text-align: right;\n",
       "    }\n",
       "</style>\n",
       "<table border=\"1\" class=\"dataframe\">\n",
       "  <thead>\n",
       "    <tr style=\"text-align: right;\">\n",
       "      <th></th>\n",
       "      <th>path</th>\n",
       "      <th>mode</th>\n",
       "      <th>type</th>\n",
       "      <th>sha</th>\n",
       "      <th>size</th>\n",
       "      <th>url</th>\n",
       "    </tr>\n",
       "  </thead>\n",
       "  <tbody>\n",
       "    <tr>\n",
       "      <th>0</th>\n",
       "      <td>.gitignore</td>\n",
       "      <td>100644</td>\n",
       "      <td>blob</td>\n",
       "      <td>e43b0f988953ae3a84b00331d0ccf5f7d51cb3cf</td>\n",
       "      <td>10.0</td>\n",
       "      <td>https://api.github.com/repos/ironhack-datalabs...</td>\n",
       "    </tr>\n",
       "    <tr>\n",
       "      <th>1</th>\n",
       "      <td>15024</td>\n",
       "      <td>040000</td>\n",
       "      <td>tree</td>\n",
       "      <td>2945e51c87ad5da893c954afcf092f06343bbb7d</td>\n",
       "      <td>NaN</td>\n",
       "      <td>https://api.github.com/repos/ironhack-datalabs...</td>\n",
       "    </tr>\n",
       "    <tr>\n",
       "      <th>2</th>\n",
       "      <td>15024/.0006.scavengerhunt</td>\n",
       "      <td>100644</td>\n",
       "      <td>blob</td>\n",
       "      <td>1c9064284a24b3486015eafdb391b141c27ada2b</td>\n",
       "      <td>3.0</td>\n",
       "      <td>https://api.github.com/repos/ironhack-datalabs...</td>\n",
       "    </tr>\n",
       "    <tr>\n",
       "      <th>3</th>\n",
       "      <td>15024/40</td>\n",
       "      <td>100644</td>\n",
       "      <td>blob</td>\n",
       "      <td>e69de29bb2d1d6434b8b29ae775ad8c2e48c5391</td>\n",
       "      <td>0.0</td>\n",
       "      <td>https://api.github.com/repos/ironhack-datalabs...</td>\n",
       "    </tr>\n",
       "    <tr>\n",
       "      <th>4</th>\n",
       "      <td>15024/74</td>\n",
       "      <td>100644</td>\n",
       "      <td>blob</td>\n",
       "      <td>e69de29bb2d1d6434b8b29ae775ad8c2e48c5391</td>\n",
       "      <td>0.0</td>\n",
       "      <td>https://api.github.com/repos/ironhack-datalabs...</td>\n",
       "    </tr>\n",
       "    <tr>\n",
       "      <th>5</th>\n",
       "      <td>15024/99</td>\n",
       "      <td>100644</td>\n",
       "      <td>blob</td>\n",
       "      <td>e69de29bb2d1d6434b8b29ae775ad8c2e48c5391</td>\n",
       "      <td>0.0</td>\n",
       "      <td>https://api.github.com/repos/ironhack-datalabs...</td>\n",
       "    </tr>\n",
       "    <tr>\n",
       "      <th>6</th>\n",
       "      <td>15534</td>\n",
       "      <td>040000</td>\n",
       "      <td>tree</td>\n",
       "      <td>5af6f2a7287e4191f39e55693fc1e9c8918d1d3a</td>\n",
       "      <td>NaN</td>\n",
       "      <td>https://api.github.com/repos/ironhack-datalabs...</td>\n",
       "    </tr>\n",
       "    <tr>\n",
       "      <th>7</th>\n",
       "      <td>15534/.0008.scavengerhunt</td>\n",
       "      <td>100644</td>\n",
       "      <td>blob</td>\n",
       "      <td>e351fb73264581ce26504b97ef07daea35116f32</td>\n",
       "      <td>6.0</td>\n",
       "      <td>https://api.github.com/repos/ironhack-datalabs...</td>\n",
       "    </tr>\n",
       "    <tr>\n",
       "      <th>8</th>\n",
       "      <td>15534/.0012.scavengerhunt</td>\n",
       "      <td>100644</td>\n",
       "      <td>blob</td>\n",
       "      <td>209e3ef4b6247ce746048d5711befda46206d235</td>\n",
       "      <td>3.0</td>\n",
       "      <td>https://api.github.com/repos/ironhack-datalabs...</td>\n",
       "    </tr>\n",
       "    <tr>\n",
       "      <th>9</th>\n",
       "      <td>15534/2</td>\n",
       "      <td>100644</td>\n",
       "      <td>blob</td>\n",
       "      <td>e69de29bb2d1d6434b8b29ae775ad8c2e48c5391</td>\n",
       "      <td>0.0</td>\n",
       "      <td>https://api.github.com/repos/ironhack-datalabs...</td>\n",
       "    </tr>\n",
       "  </tbody>\n",
       "</table>\n",
       "</div>"
      ],
      "text/plain": [
       "                        path    mode  type  \\\n",
       "0                 .gitignore  100644  blob   \n",
       "1                      15024  040000  tree   \n",
       "2  15024/.0006.scavengerhunt  100644  blob   \n",
       "3                   15024/40  100644  blob   \n",
       "4                   15024/74  100644  blob   \n",
       "5                   15024/99  100644  blob   \n",
       "6                      15534  040000  tree   \n",
       "7  15534/.0008.scavengerhunt  100644  blob   \n",
       "8  15534/.0012.scavengerhunt  100644  blob   \n",
       "9                    15534/2  100644  blob   \n",
       "\n",
       "                                        sha  size  \\\n",
       "0  e43b0f988953ae3a84b00331d0ccf5f7d51cb3cf  10.0   \n",
       "1  2945e51c87ad5da893c954afcf092f06343bbb7d   NaN   \n",
       "2  1c9064284a24b3486015eafdb391b141c27ada2b   3.0   \n",
       "3  e69de29bb2d1d6434b8b29ae775ad8c2e48c5391   0.0   \n",
       "4  e69de29bb2d1d6434b8b29ae775ad8c2e48c5391   0.0   \n",
       "5  e69de29bb2d1d6434b8b29ae775ad8c2e48c5391   0.0   \n",
       "6  5af6f2a7287e4191f39e55693fc1e9c8918d1d3a   NaN   \n",
       "7  e351fb73264581ce26504b97ef07daea35116f32   6.0   \n",
       "8  209e3ef4b6247ce746048d5711befda46206d235   3.0   \n",
       "9  e69de29bb2d1d6434b8b29ae775ad8c2e48c5391   0.0   \n",
       "\n",
       "                                                 url  \n",
       "0  https://api.github.com/repos/ironhack-datalabs...  \n",
       "1  https://api.github.com/repos/ironhack-datalabs...  \n",
       "2  https://api.github.com/repos/ironhack-datalabs...  \n",
       "3  https://api.github.com/repos/ironhack-datalabs...  \n",
       "4  https://api.github.com/repos/ironhack-datalabs...  \n",
       "5  https://api.github.com/repos/ironhack-datalabs...  \n",
       "6  https://api.github.com/repos/ironhack-datalabs...  \n",
       "7  https://api.github.com/repos/ironhack-datalabs...  \n",
       "8  https://api.github.com/repos/ironhack-datalabs...  \n",
       "9  https://api.github.com/repos/ironhack-datalabs...  "
      ]
     },
     "execution_count": 56,
     "metadata": {},
     "output_type": "execute_result"
    }
   ],
   "source": [
    "str_owner = 'ironhack-datalabs'\n",
    "str_repo = 'scavenger'\n",
    "str_sha = '9308ccc8a4c34c5e3a991ee815222a9691c32476'\n",
    "\n",
    "resp = requests.get(f'https://api.github.com/repos/{str_owner}/{str_repo}/git/trees/master?recursive=1')\n",
    "\n",
    "df_scavenger = pd.json_normalize(resp.json(), 'tree')\n",
    "df_scavenger.head(10)"
   ]
  },
  {
   "cell_type": "markdown",
   "metadata": {
    "colab_type": "text",
    "id": "Jm7O1IHFhPTi"
   },
   "source": [
    "#### 2.  Sort the filenames ascendingly."
   ]
  },
  {
   "cell_type": "code",
   "execution_count": 0,
   "metadata": {
    "colab": {},
    "colab_type": "code",
    "id": "KOAB6TkZhPTk"
   },
   "outputs": [],
   "source": [
    "# your code here"
   ]
  },
  {
   "cell_type": "markdown",
   "metadata": {
    "colab_type": "text",
    "id": "GqwqQnvShPTt"
   },
   "source": [
    "#### 3. Read the content of each secret files into an array of strings.\n",
    "Since the response is encoded, you will need to send the following information in the header of your request:\n",
    "````python\n",
    "headers = {'Accept': 'application/vnd.github.v3.raw'}\n",
    "````"
   ]
  },
  {
   "cell_type": "code",
   "execution_count": 0,
   "metadata": {
    "colab": {},
    "colab_type": "code",
    "id": "nxcnG4d0hPT0"
   },
   "outputs": [],
   "source": [
    "# your code here"
   ]
  },
  {
   "cell_type": "markdown",
   "metadata": {
    "colab_type": "text",
    "id": "A-h4Qz7ahPT7"
   },
   "source": [
    "#### 4. Concatenate the strings in the array separating each two with a whitespace."
   ]
  },
  {
   "cell_type": "code",
   "execution_count": 0,
   "metadata": {
    "colab": {},
    "colab_type": "code",
    "id": "nYWRSxrZhPT9"
   },
   "outputs": [],
   "source": [
    "# your code here"
   ]
  },
  {
   "cell_type": "markdown",
   "metadata": {
    "colab_type": "text",
    "id": "M1mXl3TEhPUA"
   },
   "source": [
    "#### 5. Print out the joke."
   ]
  },
  {
   "cell_type": "code",
   "execution_count": 0,
   "metadata": {
    "colab": {},
    "colab_type": "code",
    "id": "_JoQ4h2_hPUF"
   },
   "outputs": [],
   "source": [
    "# your code here"
   ]
  }
 ],
 "metadata": {
  "colab": {
   "name": "main.ipynb",
   "provenance": []
  },
  "kernelspec": {
   "display_name": "Python 3",
   "language": "python",
   "name": "python3"
  },
  "language_info": {
   "codemirror_mode": {
    "name": "ipython",
    "version": 3
   },
   "file_extension": ".py",
   "mimetype": "text/x-python",
   "name": "python",
   "nbconvert_exporter": "python",
   "pygments_lexer": "ipython3",
   "version": "3.8.3"
  },
  "toc": {
   "base_numbering": 1,
   "nav_menu": {},
   "number_sections": true,
   "sideBar": true,
   "skip_h1_title": false,
   "title_cell": "Table of Contents",
   "title_sidebar": "Contents",
   "toc_cell": false,
   "toc_position": {},
   "toc_section_display": true,
   "toc_window_display": false
  },
  "varInspector": {
   "cols": {
    "lenName": 16,
    "lenType": 16,
    "lenVar": 40
   },
   "kernels_config": {
    "python": {
     "delete_cmd_postfix": "",
     "delete_cmd_prefix": "del ",
     "library": "var_list.py",
     "varRefreshCmd": "print(var_dic_list())"
    },
    "r": {
     "delete_cmd_postfix": ") ",
     "delete_cmd_prefix": "rm(",
     "library": "var_list.r",
     "varRefreshCmd": "cat(var_dic_list()) "
    }
   },
   "types_to_exclude": [
    "module",
    "function",
    "builtin_function_or_method",
    "instance",
    "_Feature"
   ],
   "window_display": false
  }
 },
 "nbformat": 4,
 "nbformat_minor": 1
}
